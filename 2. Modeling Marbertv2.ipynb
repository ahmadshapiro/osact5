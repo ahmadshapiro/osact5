{
 "cells": [
  {
   "cell_type": "code",
   "execution_count": 1,
   "id": "f6f2dcd4",
   "metadata": {},
   "outputs": [],
   "source": [
    "from utils import run_baseline"
   ]
  },
  {
   "cell_type": "markdown",
   "id": "c1c5cef3",
   "metadata": {},
   "source": [
    "# 1. Marbert v2"
   ]
  },
  {
   "cell_type": "markdown",
   "id": "1f06e8b4",
   "metadata": {},
   "source": [
    "## Dropout = 0.1 , no preprocessing"
   ]
  },
  {
   "cell_type": "code",
   "execution_count": 2,
   "id": "be90a307",
   "metadata": {
    "scrolled": true
   },
   "outputs": [
    {
     "name": "stdout",
     "output_type": "stream",
     "text": [
      "Not Pre-Processed\n"
     ]
    },
    {
     "name": "stderr",
     "output_type": "stream",
     "text": [
      "Using custom data configuration default-c7c896b99937079e\n",
      "Reusing dataset csv (/home/ahmad.shapiro/.cache/huggingface/datasets/csv/default-c7c896b99937079e/0.0.0/433e0ccc46f9880962cc2b12065189766fbb2bee57a221866138fb9203c83519)\n"
     ]
    },
    {
     "data": {
      "application/vnd.jupyter.widget-view+json": {
       "model_id": "8e59d3aca6ed4185a768c64baed26ce4",
       "version_major": 2,
       "version_minor": 0
      },
      "text/plain": [
       "  0%|          | 0/2 [00:00<?, ?it/s]"
      ]
     },
     "metadata": {},
     "output_type": "display_data"
    },
    {
     "data": {
      "application/vnd.jupyter.widget-view+json": {
       "model_id": "5e7f30cdc5144d8fac1a251e16a5d63c",
       "version_major": 2,
       "version_minor": 0
      },
      "text/plain": [
       "Downloading:   0%|          | 0.00/439 [00:00<?, ?B/s]"
      ]
     },
     "metadata": {},
     "output_type": "display_data"
    },
    {
     "data": {
      "application/vnd.jupyter.widget-view+json": {
       "model_id": "eb23f928d2b445619c95cc9539d4fabf",
       "version_major": 2,
       "version_minor": 0
      },
      "text/plain": [
       "Downloading:   0%|          | 0.00/1.05M [00:00<?, ?B/s]"
      ]
     },
     "metadata": {},
     "output_type": "display_data"
    },
    {
     "data": {
      "application/vnd.jupyter.widget-view+json": {
       "model_id": "d0ff77be421f413b9250e4d8617052a3",
       "version_major": 2,
       "version_minor": 0
      },
      "text/plain": [
       "Downloading:   0%|          | 0.00/112 [00:00<?, ?B/s]"
      ]
     },
     "metadata": {},
     "output_type": "display_data"
    },
    {
     "data": {
      "application/vnd.jupyter.widget-view+json": {
       "model_id": "cee050c8821648e8967279bebf828fe7",
       "version_major": 2,
       "version_minor": 0
      },
      "text/plain": [
       "  0%|          | 0/9 [00:00<?, ?ba/s]"
      ]
     },
     "metadata": {},
     "output_type": "display_data"
    },
    {
     "data": {
      "application/vnd.jupyter.widget-view+json": {
       "model_id": "07785983c95544c798c70bd18045ab1d",
       "version_major": 2,
       "version_minor": 0
      },
      "text/plain": [
       "  0%|          | 0/2 [00:00<?, ?ba/s]"
      ]
     },
     "metadata": {},
     "output_type": "display_data"
    },
    {
     "data": {
      "application/vnd.jupyter.widget-view+json": {
       "model_id": "1b915dfdc077402cacfaea7f1fb6f18b",
       "version_major": 2,
       "version_minor": 0
      },
      "text/plain": [
       "Downloading:   0%|          | 0.00/757 [00:00<?, ?B/s]"
      ]
     },
     "metadata": {},
     "output_type": "display_data"
    },
    {
     "data": {
      "application/vnd.jupyter.widget-view+json": {
       "model_id": "271cccf9873d4bff99fce86eb994cfae",
       "version_major": 2,
       "version_minor": 0
      },
      "text/plain": [
       "Downloading:   0%|          | 0.00/624M [00:00<?, ?B/s]"
      ]
     },
     "metadata": {},
     "output_type": "display_data"
    },
    {
     "name": "stderr",
     "output_type": "stream",
     "text": [
      "Some weights of the model checkpoint at UBC-NLP/MARBERTv2 were not used when initializing BertForSequenceClassification: ['cls.predictions.transform.dense.weight', 'cls.predictions.transform.dense.bias', 'cls.predictions.decoder.bias', 'cls.seq_relationship.bias', 'cls.seq_relationship.weight', 'cls.predictions.transform.LayerNorm.bias', 'cls.predictions.transform.LayerNorm.weight', 'cls.predictions.bias', 'cls.predictions.decoder.weight']\n",
      "- This IS expected if you are initializing BertForSequenceClassification from the checkpoint of a model trained on another task or with another architecture (e.g. initializing a BertForSequenceClassification model from a BertForPreTraining model).\n",
      "- This IS NOT expected if you are initializing BertForSequenceClassification from the checkpoint of a model that you expect to be exactly identical (initializing a BertForSequenceClassification model from a BertForSequenceClassification model).\n",
      "Some weights of BertForSequenceClassification were not initialized from the model checkpoint at UBC-NLP/MARBERTv2 and are newly initialized: ['classifier.bias', 'classifier.weight']\n",
      "You should probably TRAIN this model on a down-stream task to be able to use it for predictions and inference.\n"
     ]
    }
   ],
   "source": [
    "config = {'model_name' : \"MarBertV2\",\n",
    "          'model_link' : \"UBC-NLP/MARBERTv2\",\n",
    "          'pre_proccessed' : False,\n",
    "          'patience' : 10,\n",
    "          'seed' : 2903, \n",
    "          'task' : \"A\",\n",
    "          'epochs' : 100, \n",
    "          'dropout_ratio' : 0.1}\n",
    "trainer = run_baseline(**config)"
   ]
  },
  {
   "cell_type": "code",
   "execution_count": 3,
   "id": "776f6c6e",
   "metadata": {
    "scrolled": true
   },
   "outputs": [
    {
     "name": "stderr",
     "output_type": "stream",
     "text": [
      "The following columns in the training set  don't have a corresponding argument in `BertForSequenceClassification.forward` and have been ignored: text. If text are not expected by `BertForSequenceClassification.forward`,  you can safely ignore this message.\n",
      "/home/ahmad.shapiro/anaconda3/envs/pytorch/lib/python3.9/site-packages/transformers/optimization.py:306: FutureWarning: This implementation of AdamW is deprecated and will be removed in a future version. Use the PyTorch implementation torch.optim.AdamW instead, or set `no_deprecation_warning=True` to disable this warning\n",
      "  warnings.warn(\n",
      "***** Running training *****\n",
      "  Num examples = 8887\n",
      "  Num Epochs = 100\n",
      "  Instantaneous batch size per device = 4\n",
      "  Total train batch size (w. parallel, distributed & accumulation) = 4\n",
      "  Gradient Accumulation steps = 1\n",
      "  Total optimization steps = 222200\n"
     ]
    },
    {
     "data": {
      "text/html": [
       "\n",
       "    <div>\n",
       "      \n",
       "      <progress value='24442' max='222200' style='width:300px; height:20px; vertical-align: middle;'></progress>\n",
       "      [ 24442/222200 26:40 < 3:35:53, 15.27 it/s, Epoch 11/100]\n",
       "    </div>\n",
       "    <table border=\"1\" class=\"dataframe\">\n",
       "  <thead>\n",
       " <tr style=\"text-align: left;\">\n",
       "      <th>Epoch</th>\n",
       "      <th>Training Loss</th>\n",
       "      <th>Validation Loss</th>\n",
       "      <th>F1</th>\n",
       "      <th>Recall</th>\n",
       "      <th>Precision</th>\n",
       "    </tr>\n",
       "  </thead>\n",
       "  <tbody>\n",
       "    <tr>\n",
       "      <td>1</td>\n",
       "      <td>0.518600</td>\n",
       "      <td>0.423815</td>\n",
       "      <td>0.841465</td>\n",
       "      <td>0.834584</td>\n",
       "      <td>0.849867</td>\n",
       "    </tr>\n",
       "    <tr>\n",
       "      <td>2</td>\n",
       "      <td>0.367100</td>\n",
       "      <td>0.674221</td>\n",
       "      <td>0.832413</td>\n",
       "      <td>0.840698</td>\n",
       "      <td>0.826044</td>\n",
       "    </tr>\n",
       "    <tr>\n",
       "      <td>3</td>\n",
       "      <td>0.202700</td>\n",
       "      <td>0.847212</td>\n",
       "      <td>0.840380</td>\n",
       "      <td>0.836814</td>\n",
       "      <td>0.844341</td>\n",
       "    </tr>\n",
       "    <tr>\n",
       "      <td>4</td>\n",
       "      <td>0.088400</td>\n",
       "      <td>0.851411</td>\n",
       "      <td>0.824586</td>\n",
       "      <td>0.813379</td>\n",
       "      <td>0.840497</td>\n",
       "    </tr>\n",
       "    <tr>\n",
       "      <td>5</td>\n",
       "      <td>0.061000</td>\n",
       "      <td>1.320737</td>\n",
       "      <td>0.826542</td>\n",
       "      <td>0.839463</td>\n",
       "      <td>0.818155</td>\n",
       "    </tr>\n",
       "    <tr>\n",
       "      <td>6</td>\n",
       "      <td>0.058100</td>\n",
       "      <td>1.096522</td>\n",
       "      <td>0.822153</td>\n",
       "      <td>0.810243</td>\n",
       "      <td>0.839511</td>\n",
       "    </tr>\n",
       "    <tr>\n",
       "      <td>7</td>\n",
       "      <td>0.060600</td>\n",
       "      <td>1.271215</td>\n",
       "      <td>0.818789</td>\n",
       "      <td>0.826095</td>\n",
       "      <td>0.813074</td>\n",
       "    </tr>\n",
       "    <tr>\n",
       "      <td>8</td>\n",
       "      <td>0.168200</td>\n",
       "      <td>1.213877</td>\n",
       "      <td>0.807937</td>\n",
       "      <td>0.818012</td>\n",
       "      <td>0.800920</td>\n",
       "    </tr>\n",
       "    <tr>\n",
       "      <td>9</td>\n",
       "      <td>0.062800</td>\n",
       "      <td>1.468682</td>\n",
       "      <td>0.794512</td>\n",
       "      <td>0.815874</td>\n",
       "      <td>0.785871</td>\n",
       "    </tr>\n",
       "    <tr>\n",
       "      <td>10</td>\n",
       "      <td>0.053300</td>\n",
       "      <td>1.208481</td>\n",
       "      <td>0.817874</td>\n",
       "      <td>0.808100</td>\n",
       "      <td>0.831279</td>\n",
       "    </tr>\n",
       "    <tr>\n",
       "      <td>11</td>\n",
       "      <td>0.050600</td>\n",
       "      <td>1.186952</td>\n",
       "      <td>0.812323</td>\n",
       "      <td>0.817349</td>\n",
       "      <td>0.808092</td>\n",
       "    </tr>\n",
       "  </tbody>\n",
       "</table><p>"
      ],
      "text/plain": [
       "<IPython.core.display.HTML object>"
      ]
     },
     "metadata": {},
     "output_type": "display_data"
    },
    {
     "name": "stderr",
     "output_type": "stream",
     "text": [
      "The following columns in the evaluation set  don't have a corresponding argument in `BertForSequenceClassification.forward` and have been ignored: text. If text are not expected by `BertForSequenceClassification.forward`,  you can safely ignore this message.\n",
      "***** Running Evaluation *****\n",
      "  Num examples = 1270\n",
      "  Batch size = 4\n",
      "Saving model checkpoint to ./Checkpoints/MarBertV2_d_0.1/checkpoint-2222\n",
      "Configuration saved in ./Checkpoints/MarBertV2_d_0.1/checkpoint-2222/config.json\n",
      "Model weights saved in ./Checkpoints/MarBertV2_d_0.1/checkpoint-2222/pytorch_model.bin\n",
      "tokenizer config file saved in ./Checkpoints/MarBertV2_d_0.1/checkpoint-2222/tokenizer_config.json\n",
      "Special tokens file saved in ./Checkpoints/MarBertV2_d_0.1/checkpoint-2222/special_tokens_map.json\n",
      "The following columns in the evaluation set  don't have a corresponding argument in `BertForSequenceClassification.forward` and have been ignored: text. If text are not expected by `BertForSequenceClassification.forward`,  you can safely ignore this message.\n",
      "***** Running Evaluation *****\n",
      "  Num examples = 1270\n",
      "  Batch size = 4\n",
      "Saving model checkpoint to ./Checkpoints/MarBertV2_d_0.1/checkpoint-4444\n",
      "Configuration saved in ./Checkpoints/MarBertV2_d_0.1/checkpoint-4444/config.json\n",
      "Model weights saved in ./Checkpoints/MarBertV2_d_0.1/checkpoint-4444/pytorch_model.bin\n",
      "tokenizer config file saved in ./Checkpoints/MarBertV2_d_0.1/checkpoint-4444/tokenizer_config.json\n",
      "Special tokens file saved in ./Checkpoints/MarBertV2_d_0.1/checkpoint-4444/special_tokens_map.json\n",
      "The following columns in the evaluation set  don't have a corresponding argument in `BertForSequenceClassification.forward` and have been ignored: text. If text are not expected by `BertForSequenceClassification.forward`,  you can safely ignore this message.\n",
      "***** Running Evaluation *****\n",
      "  Num examples = 1270\n",
      "  Batch size = 4\n",
      "Saving model checkpoint to ./Checkpoints/MarBertV2_d_0.1/checkpoint-6666\n",
      "Configuration saved in ./Checkpoints/MarBertV2_d_0.1/checkpoint-6666/config.json\n",
      "Model weights saved in ./Checkpoints/MarBertV2_d_0.1/checkpoint-6666/pytorch_model.bin\n",
      "tokenizer config file saved in ./Checkpoints/MarBertV2_d_0.1/checkpoint-6666/tokenizer_config.json\n",
      "Special tokens file saved in ./Checkpoints/MarBertV2_d_0.1/checkpoint-6666/special_tokens_map.json\n",
      "The following columns in the evaluation set  don't have a corresponding argument in `BertForSequenceClassification.forward` and have been ignored: text. If text are not expected by `BertForSequenceClassification.forward`,  you can safely ignore this message.\n",
      "***** Running Evaluation *****\n",
      "  Num examples = 1270\n",
      "  Batch size = 4\n",
      "Saving model checkpoint to ./Checkpoints/MarBertV2_d_0.1/checkpoint-8888\n",
      "Configuration saved in ./Checkpoints/MarBertV2_d_0.1/checkpoint-8888/config.json\n",
      "Model weights saved in ./Checkpoints/MarBertV2_d_0.1/checkpoint-8888/pytorch_model.bin\n",
      "tokenizer config file saved in ./Checkpoints/MarBertV2_d_0.1/checkpoint-8888/tokenizer_config.json\n",
      "Special tokens file saved in ./Checkpoints/MarBertV2_d_0.1/checkpoint-8888/special_tokens_map.json\n",
      "The following columns in the evaluation set  don't have a corresponding argument in `BertForSequenceClassification.forward` and have been ignored: text. If text are not expected by `BertForSequenceClassification.forward`,  you can safely ignore this message.\n",
      "***** Running Evaluation *****\n",
      "  Num examples = 1270\n",
      "  Batch size = 4\n",
      "Saving model checkpoint to ./Checkpoints/MarBertV2_d_0.1/checkpoint-11110\n",
      "Configuration saved in ./Checkpoints/MarBertV2_d_0.1/checkpoint-11110/config.json\n",
      "Model weights saved in ./Checkpoints/MarBertV2_d_0.1/checkpoint-11110/pytorch_model.bin\n",
      "tokenizer config file saved in ./Checkpoints/MarBertV2_d_0.1/checkpoint-11110/tokenizer_config.json\n",
      "Special tokens file saved in ./Checkpoints/MarBertV2_d_0.1/checkpoint-11110/special_tokens_map.json\n",
      "The following columns in the evaluation set  don't have a corresponding argument in `BertForSequenceClassification.forward` and have been ignored: text. If text are not expected by `BertForSequenceClassification.forward`,  you can safely ignore this message.\n",
      "***** Running Evaluation *****\n",
      "  Num examples = 1270\n",
      "  Batch size = 4\n",
      "Saving model checkpoint to ./Checkpoints/MarBertV2_d_0.1/checkpoint-13332\n",
      "Configuration saved in ./Checkpoints/MarBertV2_d_0.1/checkpoint-13332/config.json\n",
      "Model weights saved in ./Checkpoints/MarBertV2_d_0.1/checkpoint-13332/pytorch_model.bin\n",
      "tokenizer config file saved in ./Checkpoints/MarBertV2_d_0.1/checkpoint-13332/tokenizer_config.json\n",
      "Special tokens file saved in ./Checkpoints/MarBertV2_d_0.1/checkpoint-13332/special_tokens_map.json\n",
      "The following columns in the evaluation set  don't have a corresponding argument in `BertForSequenceClassification.forward` and have been ignored: text. If text are not expected by `BertForSequenceClassification.forward`,  you can safely ignore this message.\n",
      "***** Running Evaluation *****\n",
      "  Num examples = 1270\n",
      "  Batch size = 4\n",
      "Saving model checkpoint to ./Checkpoints/MarBertV2_d_0.1/checkpoint-15554\n",
      "Configuration saved in ./Checkpoints/MarBertV2_d_0.1/checkpoint-15554/config.json\n",
      "Model weights saved in ./Checkpoints/MarBertV2_d_0.1/checkpoint-15554/pytorch_model.bin\n",
      "tokenizer config file saved in ./Checkpoints/MarBertV2_d_0.1/checkpoint-15554/tokenizer_config.json\n",
      "Special tokens file saved in ./Checkpoints/MarBertV2_d_0.1/checkpoint-15554/special_tokens_map.json\n",
      "The following columns in the evaluation set  don't have a corresponding argument in `BertForSequenceClassification.forward` and have been ignored: text. If text are not expected by `BertForSequenceClassification.forward`,  you can safely ignore this message.\n",
      "***** Running Evaluation *****\n",
      "  Num examples = 1270\n",
      "  Batch size = 4\n",
      "Saving model checkpoint to ./Checkpoints/MarBertV2_d_0.1/checkpoint-17776\n",
      "Configuration saved in ./Checkpoints/MarBertV2_d_0.1/checkpoint-17776/config.json\n",
      "Model weights saved in ./Checkpoints/MarBertV2_d_0.1/checkpoint-17776/pytorch_model.bin\n",
      "tokenizer config file saved in ./Checkpoints/MarBertV2_d_0.1/checkpoint-17776/tokenizer_config.json\n",
      "Special tokens file saved in ./Checkpoints/MarBertV2_d_0.1/checkpoint-17776/special_tokens_map.json\n",
      "The following columns in the evaluation set  don't have a corresponding argument in `BertForSequenceClassification.forward` and have been ignored: text. If text are not expected by `BertForSequenceClassification.forward`,  you can safely ignore this message.\n",
      "***** Running Evaluation *****\n",
      "  Num examples = 1270\n",
      "  Batch size = 4\n",
      "Saving model checkpoint to ./Checkpoints/MarBertV2_d_0.1/checkpoint-19998\n",
      "Configuration saved in ./Checkpoints/MarBertV2_d_0.1/checkpoint-19998/config.json\n",
      "Model weights saved in ./Checkpoints/MarBertV2_d_0.1/checkpoint-19998/pytorch_model.bin\n",
      "tokenizer config file saved in ./Checkpoints/MarBertV2_d_0.1/checkpoint-19998/tokenizer_config.json\n",
      "Special tokens file saved in ./Checkpoints/MarBertV2_d_0.1/checkpoint-19998/special_tokens_map.json\n",
      "The following columns in the evaluation set  don't have a corresponding argument in `BertForSequenceClassification.forward` and have been ignored: text. If text are not expected by `BertForSequenceClassification.forward`,  you can safely ignore this message.\n",
      "***** Running Evaluation *****\n",
      "  Num examples = 1270\n",
      "  Batch size = 4\n",
      "Saving model checkpoint to ./Checkpoints/MarBertV2_d_0.1/checkpoint-22220\n",
      "Configuration saved in ./Checkpoints/MarBertV2_d_0.1/checkpoint-22220/config.json\n",
      "Model weights saved in ./Checkpoints/MarBertV2_d_0.1/checkpoint-22220/pytorch_model.bin\n",
      "tokenizer config file saved in ./Checkpoints/MarBertV2_d_0.1/checkpoint-22220/tokenizer_config.json\n",
      "Special tokens file saved in ./Checkpoints/MarBertV2_d_0.1/checkpoint-22220/special_tokens_map.json\n",
      "The following columns in the evaluation set  don't have a corresponding argument in `BertForSequenceClassification.forward` and have been ignored: text. If text are not expected by `BertForSequenceClassification.forward`,  you can safely ignore this message.\n",
      "***** Running Evaluation *****\n",
      "  Num examples = 1270\n",
      "  Batch size = 4\n",
      "Saving model checkpoint to ./Checkpoints/MarBertV2_d_0.1/checkpoint-24442\n",
      "Configuration saved in ./Checkpoints/MarBertV2_d_0.1/checkpoint-24442/config.json\n"
     ]
    },
    {
     "name": "stderr",
     "output_type": "stream",
     "text": [
      "Model weights saved in ./Checkpoints/MarBertV2_d_0.1/checkpoint-24442/pytorch_model.bin\n",
      "tokenizer config file saved in ./Checkpoints/MarBertV2_d_0.1/checkpoint-24442/tokenizer_config.json\n",
      "Special tokens file saved in ./Checkpoints/MarBertV2_d_0.1/checkpoint-24442/special_tokens_map.json\n",
      "\n",
      "\n",
      "Training completed. Do not forget to share your model on huggingface.co/models =)\n",
      "\n",
      "\n",
      "Loading best model from ./Checkpoints/MarBertV2_d_0.1/checkpoint-2222 (score: 0.8414645096437496).\n"
     ]
    },
    {
     "data": {
      "text/plain": [
       "TrainOutput(global_step=24442, training_loss=0.1446851106139098, metrics={'train_runtime': 1601.3884, 'train_samples_per_second': 554.956, 'train_steps_per_second': 138.755, 'total_flos': 1259336358156780.0, 'train_loss': 0.1446851106139098, 'epoch': 11.0})"
      ]
     },
     "execution_count": 3,
     "metadata": {},
     "output_type": "execute_result"
    }
   ],
   "source": [
    "trainer.train()"
   ]
  },
  {
   "cell_type": "markdown",
   "id": "cd965dbf",
   "metadata": {},
   "source": [
    "## Dropout = 0.5, no preprocessing"
   ]
  },
  {
   "cell_type": "code",
   "execution_count": null,
   "id": "908efe25",
   "metadata": {
    "scrolled": false
   },
   "outputs": [],
   "source": [
    "config = {'model_name' : \"MarBertV2\",\n",
    "          'model_link' : \"UBC-NLP/MARBERTv2\",\n",
    "          'pre_proccessed' : False,\n",
    "          'patience' : 10,\n",
    "          'seed' : 2903, \n",
    "          'task' : \"A\",\n",
    "          'epochs' : 100, \n",
    "          'dropout_ratio' : 0.5}\n",
    "trainer = run_baseline(**config)"
   ]
  },
  {
   "cell_type": "code",
   "execution_count": 3,
   "id": "eeba9479",
   "metadata": {
    "scrolled": true
   },
   "outputs": [
    {
     "name": "stderr",
     "output_type": "stream",
     "text": [
      "The following columns in the training set  don't have a corresponding argument in `BertForSequenceClassification.forward` and have been ignored: text. If text are not expected by `BertForSequenceClassification.forward`,  you can safely ignore this message.\n",
      "/home/ahmad.shapiro/anaconda3/envs/pytorch/lib/python3.9/site-packages/transformers/optimization.py:306: FutureWarning: This implementation of AdamW is deprecated and will be removed in a future version. Use the PyTorch implementation torch.optim.AdamW instead, or set `no_deprecation_warning=True` to disable this warning\n",
      "  warnings.warn(\n",
      "***** Running training *****\n",
      "  Num examples = 8887\n",
      "  Num Epochs = 100\n",
      "  Instantaneous batch size per device = 4\n",
      "  Total train batch size (w. parallel, distributed & accumulation) = 4\n",
      "  Gradient Accumulation steps = 1\n",
      "  Total optimization steps = 222200\n"
     ]
    },
    {
     "data": {
      "text/html": [
       "\n",
       "    <div>\n",
       "      \n",
       "      <progress value='24442' max='222200' style='width:300px; height:20px; vertical-align: middle;'></progress>\n",
       "      [ 24442/222200 26:43 < 3:36:11, 15.25 it/s, Epoch 11/100]\n",
       "    </div>\n",
       "    <table border=\"1\" class=\"dataframe\">\n",
       "  <thead>\n",
       " <tr style=\"text-align: left;\">\n",
       "      <th>Epoch</th>\n",
       "      <th>Training Loss</th>\n",
       "      <th>Validation Loss</th>\n",
       "      <th>F1</th>\n",
       "      <th>Recall</th>\n",
       "      <th>Precision</th>\n",
       "    </tr>\n",
       "  </thead>\n",
       "  <tbody>\n",
       "    <tr>\n",
       "      <td>1</td>\n",
       "      <td>0.542900</td>\n",
       "      <td>0.470356</td>\n",
       "      <td>0.833246</td>\n",
       "      <td>0.820473</td>\n",
       "      <td>0.851983</td>\n",
       "    </tr>\n",
       "    <tr>\n",
       "      <td>2</td>\n",
       "      <td>0.370400</td>\n",
       "      <td>0.713636</td>\n",
       "      <td>0.827713</td>\n",
       "      <td>0.839298</td>\n",
       "      <td>0.819809</td>\n",
       "    </tr>\n",
       "    <tr>\n",
       "      <td>3</td>\n",
       "      <td>0.255800</td>\n",
       "      <td>0.860822</td>\n",
       "      <td>0.821876</td>\n",
       "      <td>0.809583</td>\n",
       "      <td>0.840022</td>\n",
       "    </tr>\n",
       "    <tr>\n",
       "      <td>4</td>\n",
       "      <td>0.120100</td>\n",
       "      <td>1.129622</td>\n",
       "      <td>0.808975</td>\n",
       "      <td>0.830971</td>\n",
       "      <td>0.799735</td>\n",
       "    </tr>\n",
       "    <tr>\n",
       "      <td>5</td>\n",
       "      <td>0.058400</td>\n",
       "      <td>1.273409</td>\n",
       "      <td>0.819356</td>\n",
       "      <td>0.833607</td>\n",
       "      <td>0.810691</td>\n",
       "    </tr>\n",
       "    <tr>\n",
       "      <td>6</td>\n",
       "      <td>0.041000</td>\n",
       "      <td>1.372189</td>\n",
       "      <td>0.809426</td>\n",
       "      <td>0.803812</td>\n",
       "      <td>0.816213</td>\n",
       "    </tr>\n",
       "    <tr>\n",
       "      <td>7</td>\n",
       "      <td>0.079000</td>\n",
       "      <td>1.347336</td>\n",
       "      <td>0.813127</td>\n",
       "      <td>0.821393</td>\n",
       "      <td>0.806921</td>\n",
       "    </tr>\n",
       "    <tr>\n",
       "      <td>8</td>\n",
       "      <td>0.066900</td>\n",
       "      <td>1.608492</td>\n",
       "      <td>0.800737</td>\n",
       "      <td>0.819090</td>\n",
       "      <td>0.791872</td>\n",
       "    </tr>\n",
       "    <tr>\n",
       "      <td>9</td>\n",
       "      <td>0.059400</td>\n",
       "      <td>1.206805</td>\n",
       "      <td>0.804380</td>\n",
       "      <td>0.798284</td>\n",
       "      <td>0.811910</td>\n",
       "    </tr>\n",
       "    <tr>\n",
       "      <td>10</td>\n",
       "      <td>0.040100</td>\n",
       "      <td>1.286824</td>\n",
       "      <td>0.806659</td>\n",
       "      <td>0.812647</td>\n",
       "      <td>0.801815</td>\n",
       "    </tr>\n",
       "    <tr>\n",
       "      <td>11</td>\n",
       "      <td>0.019800</td>\n",
       "      <td>1.499816</td>\n",
       "      <td>0.801343</td>\n",
       "      <td>0.812073</td>\n",
       "      <td>0.794148</td>\n",
       "    </tr>\n",
       "  </tbody>\n",
       "</table><p>"
      ],
      "text/plain": [
       "<IPython.core.display.HTML object>"
      ]
     },
     "metadata": {},
     "output_type": "display_data"
    },
    {
     "name": "stderr",
     "output_type": "stream",
     "text": [
      "The following columns in the evaluation set  don't have a corresponding argument in `BertForSequenceClassification.forward` and have been ignored: text. If text are not expected by `BertForSequenceClassification.forward`,  you can safely ignore this message.\n",
      "***** Running Evaluation *****\n",
      "  Num examples = 1270\n",
      "  Batch size = 4\n",
      "Saving model checkpoint to ./Checkpoints/MarBertV2_d_0.5/checkpoint-4444\n",
      "Configuration saved in ./Checkpoints/MarBertV2_d_0.5/checkpoint-4444/config.json\n",
      "Model weights saved in ./Checkpoints/MarBertV2_d_0.5/checkpoint-4444/pytorch_model.bin\n",
      "tokenizer config file saved in ./Checkpoints/MarBertV2_d_0.5/checkpoint-4444/tokenizer_config.json\n",
      "Special tokens file saved in ./Checkpoints/MarBertV2_d_0.5/checkpoint-4444/special_tokens_map.json\n",
      "The following columns in the evaluation set  don't have a corresponding argument in `BertForSequenceClassification.forward` and have been ignored: text. If text are not expected by `BertForSequenceClassification.forward`,  you can safely ignore this message.\n",
      "***** Running Evaluation *****\n",
      "  Num examples = 1270\n",
      "  Batch size = 4\n",
      "Saving model checkpoint to ./Checkpoints/MarBertV2_d_0.5/checkpoint-6666\n",
      "Configuration saved in ./Checkpoints/MarBertV2_d_0.5/checkpoint-6666/config.json\n",
      "Model weights saved in ./Checkpoints/MarBertV2_d_0.5/checkpoint-6666/pytorch_model.bin\n",
      "tokenizer config file saved in ./Checkpoints/MarBertV2_d_0.5/checkpoint-6666/tokenizer_config.json\n",
      "Special tokens file saved in ./Checkpoints/MarBertV2_d_0.5/checkpoint-6666/special_tokens_map.json\n",
      "The following columns in the evaluation set  don't have a corresponding argument in `BertForSequenceClassification.forward` and have been ignored: text. If text are not expected by `BertForSequenceClassification.forward`,  you can safely ignore this message.\n",
      "***** Running Evaluation *****\n",
      "  Num examples = 1270\n",
      "  Batch size = 4\n",
      "Saving model checkpoint to ./Checkpoints/MarBertV2_d_0.5/checkpoint-8888\n",
      "Configuration saved in ./Checkpoints/MarBertV2_d_0.5/checkpoint-8888/config.json\n",
      "Model weights saved in ./Checkpoints/MarBertV2_d_0.5/checkpoint-8888/pytorch_model.bin\n",
      "tokenizer config file saved in ./Checkpoints/MarBertV2_d_0.5/checkpoint-8888/tokenizer_config.json\n",
      "Special tokens file saved in ./Checkpoints/MarBertV2_d_0.5/checkpoint-8888/special_tokens_map.json\n",
      "The following columns in the evaluation set  don't have a corresponding argument in `BertForSequenceClassification.forward` and have been ignored: text. If text are not expected by `BertForSequenceClassification.forward`,  you can safely ignore this message.\n",
      "***** Running Evaluation *****\n",
      "  Num examples = 1270\n",
      "  Batch size = 4\n",
      "Saving model checkpoint to ./Checkpoints/MarBertV2_d_0.5/checkpoint-11110\n",
      "Configuration saved in ./Checkpoints/MarBertV2_d_0.5/checkpoint-11110/config.json\n",
      "Model weights saved in ./Checkpoints/MarBertV2_d_0.5/checkpoint-11110/pytorch_model.bin\n",
      "tokenizer config file saved in ./Checkpoints/MarBertV2_d_0.5/checkpoint-11110/tokenizer_config.json\n",
      "Special tokens file saved in ./Checkpoints/MarBertV2_d_0.5/checkpoint-11110/special_tokens_map.json\n",
      "The following columns in the evaluation set  don't have a corresponding argument in `BertForSequenceClassification.forward` and have been ignored: text. If text are not expected by `BertForSequenceClassification.forward`,  you can safely ignore this message.\n",
      "***** Running Evaluation *****\n",
      "  Num examples = 1270\n",
      "  Batch size = 4\n",
      "Saving model checkpoint to ./Checkpoints/MarBertV2_d_0.5/checkpoint-13332\n",
      "Configuration saved in ./Checkpoints/MarBertV2_d_0.5/checkpoint-13332/config.json\n",
      "Model weights saved in ./Checkpoints/MarBertV2_d_0.5/checkpoint-13332/pytorch_model.bin\n",
      "tokenizer config file saved in ./Checkpoints/MarBertV2_d_0.5/checkpoint-13332/tokenizer_config.json\n",
      "Special tokens file saved in ./Checkpoints/MarBertV2_d_0.5/checkpoint-13332/special_tokens_map.json\n",
      "The following columns in the evaluation set  don't have a corresponding argument in `BertForSequenceClassification.forward` and have been ignored: text. If text are not expected by `BertForSequenceClassification.forward`,  you can safely ignore this message.\n",
      "***** Running Evaluation *****\n",
      "  Num examples = 1270\n",
      "  Batch size = 4\n",
      "Saving model checkpoint to ./Checkpoints/MarBertV2_d_0.5/checkpoint-15554\n",
      "Configuration saved in ./Checkpoints/MarBertV2_d_0.5/checkpoint-15554/config.json\n",
      "Model weights saved in ./Checkpoints/MarBertV2_d_0.5/checkpoint-15554/pytorch_model.bin\n",
      "tokenizer config file saved in ./Checkpoints/MarBertV2_d_0.5/checkpoint-15554/tokenizer_config.json\n",
      "Special tokens file saved in ./Checkpoints/MarBertV2_d_0.5/checkpoint-15554/special_tokens_map.json\n",
      "The following columns in the evaluation set  don't have a corresponding argument in `BertForSequenceClassification.forward` and have been ignored: text. If text are not expected by `BertForSequenceClassification.forward`,  you can safely ignore this message.\n",
      "***** Running Evaluation *****\n",
      "  Num examples = 1270\n",
      "  Batch size = 4\n",
      "Saving model checkpoint to ./Checkpoints/MarBertV2_d_0.5/checkpoint-17776\n",
      "Configuration saved in ./Checkpoints/MarBertV2_d_0.5/checkpoint-17776/config.json\n",
      "Model weights saved in ./Checkpoints/MarBertV2_d_0.5/checkpoint-17776/pytorch_model.bin\n",
      "tokenizer config file saved in ./Checkpoints/MarBertV2_d_0.5/checkpoint-17776/tokenizer_config.json\n",
      "Special tokens file saved in ./Checkpoints/MarBertV2_d_0.5/checkpoint-17776/special_tokens_map.json\n",
      "The following columns in the evaluation set  don't have a corresponding argument in `BertForSequenceClassification.forward` and have been ignored: text. If text are not expected by `BertForSequenceClassification.forward`,  you can safely ignore this message.\n",
      "***** Running Evaluation *****\n",
      "  Num examples = 1270\n",
      "  Batch size = 4\n",
      "Saving model checkpoint to ./Checkpoints/MarBertV2_d_0.5/checkpoint-19998\n",
      "Configuration saved in ./Checkpoints/MarBertV2_d_0.5/checkpoint-19998/config.json\n",
      "Model weights saved in ./Checkpoints/MarBertV2_d_0.5/checkpoint-19998/pytorch_model.bin\n",
      "tokenizer config file saved in ./Checkpoints/MarBertV2_d_0.5/checkpoint-19998/tokenizer_config.json\n",
      "Special tokens file saved in ./Checkpoints/MarBertV2_d_0.5/checkpoint-19998/special_tokens_map.json\n",
      "The following columns in the evaluation set  don't have a corresponding argument in `BertForSequenceClassification.forward` and have been ignored: text. If text are not expected by `BertForSequenceClassification.forward`,  you can safely ignore this message.\n",
      "***** Running Evaluation *****\n",
      "  Num examples = 1270\n",
      "  Batch size = 4\n",
      "Saving model checkpoint to ./Checkpoints/MarBertV2_d_0.5/checkpoint-22220\n",
      "Configuration saved in ./Checkpoints/MarBertV2_d_0.5/checkpoint-22220/config.json\n",
      "Model weights saved in ./Checkpoints/MarBertV2_d_0.5/checkpoint-22220/pytorch_model.bin\n",
      "tokenizer config file saved in ./Checkpoints/MarBertV2_d_0.5/checkpoint-22220/tokenizer_config.json\n",
      "Special tokens file saved in ./Checkpoints/MarBertV2_d_0.5/checkpoint-22220/special_tokens_map.json\n",
      "The following columns in the evaluation set  don't have a corresponding argument in `BertForSequenceClassification.forward` and have been ignored: text. If text are not expected by `BertForSequenceClassification.forward`,  you can safely ignore this message.\n",
      "***** Running Evaluation *****\n",
      "  Num examples = 1270\n",
      "  Batch size = 4\n",
      "Saving model checkpoint to ./Checkpoints/MarBertV2_d_0.5/checkpoint-24442\n",
      "Configuration saved in ./Checkpoints/MarBertV2_d_0.5/checkpoint-24442/config.json\n",
      "Model weights saved in ./Checkpoints/MarBertV2_d_0.5/checkpoint-24442/pytorch_model.bin\n",
      "tokenizer config file saved in ./Checkpoints/MarBertV2_d_0.5/checkpoint-24442/tokenizer_config.json\n",
      "Special tokens file saved in ./Checkpoints/MarBertV2_d_0.5/checkpoint-24442/special_tokens_map.json\n",
      "\n",
      "\n",
      "Training completed. Do not forget to share your model on huggingface.co/models =)\n",
      "\n",
      "\n",
      "Loading best model from ./Checkpoints/MarBertV2_d_0.5/checkpoint-2222 (score: 0.8332457983193277).\n"
     ]
    },
    {
     "data": {
      "text/plain": [
       "TrainOutput(global_step=24442, training_loss=0.14869325058168187, metrics={'train_runtime': 1603.6416, 'train_samples_per_second': 554.176, 'train_steps_per_second': 138.56, 'total_flos': 1259336358156780.0, 'train_loss': 0.14869325058168187, 'epoch': 11.0})"
      ]
     },
     "execution_count": 3,
     "metadata": {},
     "output_type": "execute_result"
    }
   ],
   "source": [
    "trainer.train()"
   ]
  },
  {
   "cell_type": "markdown",
   "id": "f119d58a",
   "metadata": {},
   "source": [
    "## Dropout = 0.1, preprocessing"
   ]
  },
  {
   "cell_type": "code",
   "execution_count": null,
   "id": "371883c8",
   "metadata": {
    "scrolled": true
   },
   "outputs": [],
   "source": [
    "config = {'model_name' : \"MarBertV2\",\n",
    "          'model_link' : \"UBC-NLP/MARBERTv2\",\n",
    "          'pre_proccessed' : True,\n",
    "          'patience' : 10,\n",
    "          'seed' : 2903, \n",
    "          'task' : \"A\",\n",
    "          'epochs' : 100, \n",
    "          'dropout_ratio' : 0.1}\n",
    "trainer = run_baseline(**config)"
   ]
  },
  {
   "cell_type": "code",
   "execution_count": 3,
   "id": "f9916fc3",
   "metadata": {
    "scrolled": true
   },
   "outputs": [
    {
     "name": "stderr",
     "output_type": "stream",
     "text": [
      "The following columns in the training set  don't have a corresponding argument in `BertForSequenceClassification.forward` and have been ignored: text. If text are not expected by `BertForSequenceClassification.forward`,  you can safely ignore this message.\n",
      "/home/ahmad.shapiro/anaconda3/envs/pytorch/lib/python3.9/site-packages/transformers/optimization.py:306: FutureWarning: This implementation of AdamW is deprecated and will be removed in a future version. Use the PyTorch implementation torch.optim.AdamW instead, or set `no_deprecation_warning=True` to disable this warning\n",
      "  warnings.warn(\n",
      "***** Running training *****\n",
      "  Num examples = 8887\n",
      "  Num Epochs = 100\n",
      "  Instantaneous batch size per device = 4\n",
      "  Total train batch size (w. parallel, distributed & accumulation) = 4\n",
      "  Gradient Accumulation steps = 1\n",
      "  Total optimization steps = 222200\n"
     ]
    },
    {
     "data": {
      "text/html": [
       "\n",
       "    <div>\n",
       "      \n",
       "      <progress value='24442' max='222200' style='width:300px; height:20px; vertical-align: middle;'></progress>\n",
       "      [ 24442/222200 26:42 < 3:36:05, 15.25 it/s, Epoch 11/100]\n",
       "    </div>\n",
       "    <table border=\"1\" class=\"dataframe\">\n",
       "  <thead>\n",
       " <tr style=\"text-align: left;\">\n",
       "      <th>Epoch</th>\n",
       "      <th>Training Loss</th>\n",
       "      <th>Validation Loss</th>\n",
       "      <th>F1</th>\n",
       "      <th>Recall</th>\n",
       "      <th>Precision</th>\n",
       "    </tr>\n",
       "  </thead>\n",
       "  <tbody>\n",
       "    <tr>\n",
       "      <td>1</td>\n",
       "      <td>0.485200</td>\n",
       "      <td>0.343939</td>\n",
       "      <td>0.853011</td>\n",
       "      <td>0.846795</td>\n",
       "      <td>0.860395</td>\n",
       "    </tr>\n",
       "    <tr>\n",
       "      <td>2</td>\n",
       "      <td>0.339400</td>\n",
       "      <td>0.748941</td>\n",
       "      <td>0.832567</td>\n",
       "      <td>0.837231</td>\n",
       "      <td>0.828535</td>\n",
       "    </tr>\n",
       "    <tr>\n",
       "      <td>3</td>\n",
       "      <td>0.169100</td>\n",
       "      <td>0.965564</td>\n",
       "      <td>0.829856</td>\n",
       "      <td>0.842433</td>\n",
       "      <td>0.821538</td>\n",
       "    </tr>\n",
       "    <tr>\n",
       "      <td>4</td>\n",
       "      <td>0.105900</td>\n",
       "      <td>1.031071</td>\n",
       "      <td>0.831606</td>\n",
       "      <td>0.838057</td>\n",
       "      <td>0.826344</td>\n",
       "    </tr>\n",
       "    <tr>\n",
       "      <td>5</td>\n",
       "      <td>0.086500</td>\n",
       "      <td>1.346629</td>\n",
       "      <td>0.831697</td>\n",
       "      <td>0.849036</td>\n",
       "      <td>0.822033</td>\n",
       "    </tr>\n",
       "    <tr>\n",
       "      <td>6</td>\n",
       "      <td>0.052400</td>\n",
       "      <td>1.117814</td>\n",
       "      <td>0.829199</td>\n",
       "      <td>0.851431</td>\n",
       "      <td>0.819135</td>\n",
       "    </tr>\n",
       "    <tr>\n",
       "      <td>7</td>\n",
       "      <td>0.060900</td>\n",
       "      <td>1.282458</td>\n",
       "      <td>0.805465</td>\n",
       "      <td>0.821151</td>\n",
       "      <td>0.796794</td>\n",
       "    </tr>\n",
       "    <tr>\n",
       "      <td>8</td>\n",
       "      <td>0.046000</td>\n",
       "      <td>1.062281</td>\n",
       "      <td>0.835426</td>\n",
       "      <td>0.827819</td>\n",
       "      <td>0.844971</td>\n",
       "    </tr>\n",
       "    <tr>\n",
       "      <td>9</td>\n",
       "      <td>0.058600</td>\n",
       "      <td>1.327141</td>\n",
       "      <td>0.818969</td>\n",
       "      <td>0.836414</td>\n",
       "      <td>0.809636</td>\n",
       "    </tr>\n",
       "    <tr>\n",
       "      <td>10</td>\n",
       "      <td>0.046900</td>\n",
       "      <td>1.899996</td>\n",
       "      <td>0.765420</td>\n",
       "      <td>0.809123</td>\n",
       "      <td>0.768567</td>\n",
       "    </tr>\n",
       "    <tr>\n",
       "      <td>11</td>\n",
       "      <td>0.014800</td>\n",
       "      <td>1.141909</td>\n",
       "      <td>0.836132</td>\n",
       "      <td>0.833267</td>\n",
       "      <td>0.839254</td>\n",
       "    </tr>\n",
       "  </tbody>\n",
       "</table><p>"
      ],
      "text/plain": [
       "<IPython.core.display.HTML object>"
      ]
     },
     "metadata": {},
     "output_type": "display_data"
    },
    {
     "name": "stderr",
     "output_type": "stream",
     "text": [
      "The following columns in the evaluation set  don't have a corresponding argument in `BertForSequenceClassification.forward` and have been ignored: text. If text are not expected by `BertForSequenceClassification.forward`,  you can safely ignore this message.\n",
      "***** Running Evaluation *****\n",
      "  Num examples = 1270\n",
      "  Batch size = 4\n",
      "Saving model checkpoint to ./Checkpoints/Pre_processed/MarBertV2_d_0.1/checkpoint-2222\n",
      "Configuration saved in ./Checkpoints/Pre_processed/MarBertV2_d_0.1/checkpoint-2222/config.json\n",
      "Model weights saved in ./Checkpoints/Pre_processed/MarBertV2_d_0.1/checkpoint-2222/pytorch_model.bin\n",
      "tokenizer config file saved in ./Checkpoints/Pre_processed/MarBertV2_d_0.1/checkpoint-2222/tokenizer_config.json\n",
      "Special tokens file saved in ./Checkpoints/Pre_processed/MarBertV2_d_0.1/checkpoint-2222/special_tokens_map.json\n",
      "The following columns in the evaluation set  don't have a corresponding argument in `BertForSequenceClassification.forward` and have been ignored: text. If text are not expected by `BertForSequenceClassification.forward`,  you can safely ignore this message.\n",
      "***** Running Evaluation *****\n",
      "  Num examples = 1270\n",
      "  Batch size = 4\n",
      "Saving model checkpoint to ./Checkpoints/Pre_processed/MarBertV2_d_0.1/checkpoint-4444\n",
      "Configuration saved in ./Checkpoints/Pre_processed/MarBertV2_d_0.1/checkpoint-4444/config.json\n",
      "Model weights saved in ./Checkpoints/Pre_processed/MarBertV2_d_0.1/checkpoint-4444/pytorch_model.bin\n",
      "tokenizer config file saved in ./Checkpoints/Pre_processed/MarBertV2_d_0.1/checkpoint-4444/tokenizer_config.json\n",
      "Special tokens file saved in ./Checkpoints/Pre_processed/MarBertV2_d_0.1/checkpoint-4444/special_tokens_map.json\n",
      "The following columns in the evaluation set  don't have a corresponding argument in `BertForSequenceClassification.forward` and have been ignored: text. If text are not expected by `BertForSequenceClassification.forward`,  you can safely ignore this message.\n",
      "***** Running Evaluation *****\n",
      "  Num examples = 1270\n",
      "  Batch size = 4\n",
      "Saving model checkpoint to ./Checkpoints/Pre_processed/MarBertV2_d_0.1/checkpoint-6666\n",
      "Configuration saved in ./Checkpoints/Pre_processed/MarBertV2_d_0.1/checkpoint-6666/config.json\n",
      "Model weights saved in ./Checkpoints/Pre_processed/MarBertV2_d_0.1/checkpoint-6666/pytorch_model.bin\n",
      "tokenizer config file saved in ./Checkpoints/Pre_processed/MarBertV2_d_0.1/checkpoint-6666/tokenizer_config.json\n",
      "Special tokens file saved in ./Checkpoints/Pre_processed/MarBertV2_d_0.1/checkpoint-6666/special_tokens_map.json\n",
      "The following columns in the evaluation set  don't have a corresponding argument in `BertForSequenceClassification.forward` and have been ignored: text. If text are not expected by `BertForSequenceClassification.forward`,  you can safely ignore this message.\n",
      "***** Running Evaluation *****\n",
      "  Num examples = 1270\n",
      "  Batch size = 4\n",
      "Saving model checkpoint to ./Checkpoints/Pre_processed/MarBertV2_d_0.1/checkpoint-8888\n",
      "Configuration saved in ./Checkpoints/Pre_processed/MarBertV2_d_0.1/checkpoint-8888/config.json\n",
      "Model weights saved in ./Checkpoints/Pre_processed/MarBertV2_d_0.1/checkpoint-8888/pytorch_model.bin\n",
      "tokenizer config file saved in ./Checkpoints/Pre_processed/MarBertV2_d_0.1/checkpoint-8888/tokenizer_config.json\n",
      "Special tokens file saved in ./Checkpoints/Pre_processed/MarBertV2_d_0.1/checkpoint-8888/special_tokens_map.json\n",
      "The following columns in the evaluation set  don't have a corresponding argument in `BertForSequenceClassification.forward` and have been ignored: text. If text are not expected by `BertForSequenceClassification.forward`,  you can safely ignore this message.\n",
      "***** Running Evaluation *****\n",
      "  Num examples = 1270\n",
      "  Batch size = 4\n",
      "Saving model checkpoint to ./Checkpoints/Pre_processed/MarBertV2_d_0.1/checkpoint-11110\n",
      "Configuration saved in ./Checkpoints/Pre_processed/MarBertV2_d_0.1/checkpoint-11110/config.json\n",
      "Model weights saved in ./Checkpoints/Pre_processed/MarBertV2_d_0.1/checkpoint-11110/pytorch_model.bin\n",
      "tokenizer config file saved in ./Checkpoints/Pre_processed/MarBertV2_d_0.1/checkpoint-11110/tokenizer_config.json\n",
      "Special tokens file saved in ./Checkpoints/Pre_processed/MarBertV2_d_0.1/checkpoint-11110/special_tokens_map.json\n",
      "The following columns in the evaluation set  don't have a corresponding argument in `BertForSequenceClassification.forward` and have been ignored: text. If text are not expected by `BertForSequenceClassification.forward`,  you can safely ignore this message.\n",
      "***** Running Evaluation *****\n",
      "  Num examples = 1270\n",
      "  Batch size = 4\n",
      "Saving model checkpoint to ./Checkpoints/Pre_processed/MarBertV2_d_0.1/checkpoint-13332\n",
      "Configuration saved in ./Checkpoints/Pre_processed/MarBertV2_d_0.1/checkpoint-13332/config.json\n",
      "Model weights saved in ./Checkpoints/Pre_processed/MarBertV2_d_0.1/checkpoint-13332/pytorch_model.bin\n",
      "tokenizer config file saved in ./Checkpoints/Pre_processed/MarBertV2_d_0.1/checkpoint-13332/tokenizer_config.json\n",
      "Special tokens file saved in ./Checkpoints/Pre_processed/MarBertV2_d_0.1/checkpoint-13332/special_tokens_map.json\n",
      "The following columns in the evaluation set  don't have a corresponding argument in `BertForSequenceClassification.forward` and have been ignored: text. If text are not expected by `BertForSequenceClassification.forward`,  you can safely ignore this message.\n",
      "***** Running Evaluation *****\n",
      "  Num examples = 1270\n",
      "  Batch size = 4\n",
      "Saving model checkpoint to ./Checkpoints/Pre_processed/MarBertV2_d_0.1/checkpoint-15554\n",
      "Configuration saved in ./Checkpoints/Pre_processed/MarBertV2_d_0.1/checkpoint-15554/config.json\n",
      "Model weights saved in ./Checkpoints/Pre_processed/MarBertV2_d_0.1/checkpoint-15554/pytorch_model.bin\n",
      "tokenizer config file saved in ./Checkpoints/Pre_processed/MarBertV2_d_0.1/checkpoint-15554/tokenizer_config.json\n",
      "Special tokens file saved in ./Checkpoints/Pre_processed/MarBertV2_d_0.1/checkpoint-15554/special_tokens_map.json\n",
      "The following columns in the evaluation set  don't have a corresponding argument in `BertForSequenceClassification.forward` and have been ignored: text. If text are not expected by `BertForSequenceClassification.forward`,  you can safely ignore this message.\n",
      "***** Running Evaluation *****\n",
      "  Num examples = 1270\n",
      "  Batch size = 4\n",
      "Saving model checkpoint to ./Checkpoints/Pre_processed/MarBertV2_d_0.1/checkpoint-17776\n",
      "Configuration saved in ./Checkpoints/Pre_processed/MarBertV2_d_0.1/checkpoint-17776/config.json\n",
      "Model weights saved in ./Checkpoints/Pre_processed/MarBertV2_d_0.1/checkpoint-17776/pytorch_model.bin\n",
      "tokenizer config file saved in ./Checkpoints/Pre_processed/MarBertV2_d_0.1/checkpoint-17776/tokenizer_config.json\n",
      "Special tokens file saved in ./Checkpoints/Pre_processed/MarBertV2_d_0.1/checkpoint-17776/special_tokens_map.json\n",
      "The following columns in the evaluation set  don't have a corresponding argument in `BertForSequenceClassification.forward` and have been ignored: text. If text are not expected by `BertForSequenceClassification.forward`,  you can safely ignore this message.\n",
      "***** Running Evaluation *****\n",
      "  Num examples = 1270\n",
      "  Batch size = 4\n",
      "Saving model checkpoint to ./Checkpoints/Pre_processed/MarBertV2_d_0.1/checkpoint-19998\n",
      "Configuration saved in ./Checkpoints/Pre_processed/MarBertV2_d_0.1/checkpoint-19998/config.json\n",
      "Model weights saved in ./Checkpoints/Pre_processed/MarBertV2_d_0.1/checkpoint-19998/pytorch_model.bin\n",
      "tokenizer config file saved in ./Checkpoints/Pre_processed/MarBertV2_d_0.1/checkpoint-19998/tokenizer_config.json\n",
      "Special tokens file saved in ./Checkpoints/Pre_processed/MarBertV2_d_0.1/checkpoint-19998/special_tokens_map.json\n",
      "The following columns in the evaluation set  don't have a corresponding argument in `BertForSequenceClassification.forward` and have been ignored: text. If text are not expected by `BertForSequenceClassification.forward`,  you can safely ignore this message.\n",
      "***** Running Evaluation *****\n",
      "  Num examples = 1270\n",
      "  Batch size = 4\n",
      "Saving model checkpoint to ./Checkpoints/Pre_processed/MarBertV2_d_0.1/checkpoint-22220\n",
      "Configuration saved in ./Checkpoints/Pre_processed/MarBertV2_d_0.1/checkpoint-22220/config.json\n",
      "Model weights saved in ./Checkpoints/Pre_processed/MarBertV2_d_0.1/checkpoint-22220/pytorch_model.bin\n",
      "tokenizer config file saved in ./Checkpoints/Pre_processed/MarBertV2_d_0.1/checkpoint-22220/tokenizer_config.json\n"
     ]
    },
    {
     "name": "stderr",
     "output_type": "stream",
     "text": [
      "Special tokens file saved in ./Checkpoints/Pre_processed/MarBertV2_d_0.1/checkpoint-22220/special_tokens_map.json\n",
      "The following columns in the evaluation set  don't have a corresponding argument in `BertForSequenceClassification.forward` and have been ignored: text. If text are not expected by `BertForSequenceClassification.forward`,  you can safely ignore this message.\n",
      "***** Running Evaluation *****\n",
      "  Num examples = 1270\n",
      "  Batch size = 4\n",
      "Saving model checkpoint to ./Checkpoints/Pre_processed/MarBertV2_d_0.1/checkpoint-24442\n",
      "Configuration saved in ./Checkpoints/Pre_processed/MarBertV2_d_0.1/checkpoint-24442/config.json\n",
      "Model weights saved in ./Checkpoints/Pre_processed/MarBertV2_d_0.1/checkpoint-24442/pytorch_model.bin\n",
      "tokenizer config file saved in ./Checkpoints/Pre_processed/MarBertV2_d_0.1/checkpoint-24442/tokenizer_config.json\n",
      "Special tokens file saved in ./Checkpoints/Pre_processed/MarBertV2_d_0.1/checkpoint-24442/special_tokens_map.json\n",
      "\n",
      "\n",
      "Training completed. Do not forget to share your model on huggingface.co/models =)\n",
      "\n",
      "\n",
      "Loading best model from ./Checkpoints/Pre_processed/MarBertV2_d_0.1/checkpoint-2222 (score: 0.8530112922093).\n"
     ]
    },
    {
     "data": {
      "text/plain": [
       "TrainOutput(global_step=24442, training_loss=0.12918563043609813, metrics={'train_runtime': 1602.8859, 'train_samples_per_second': 554.437, 'train_steps_per_second': 138.625, 'total_flos': 945643744070160.0, 'train_loss': 0.12918563043609813, 'epoch': 11.0})"
      ]
     },
     "execution_count": 3,
     "metadata": {},
     "output_type": "execute_result"
    }
   ],
   "source": [
    "trainer.train()"
   ]
  },
  {
   "cell_type": "markdown",
   "id": "b7218762",
   "metadata": {},
   "source": [
    "## Dropout = 0.5, preprocessing"
   ]
  },
  {
   "cell_type": "code",
   "execution_count": 2,
   "id": "411b2e4f",
   "metadata": {},
   "outputs": [
    {
     "name": "stdout",
     "output_type": "stream",
     "text": [
      "Pre-Processed\n"
     ]
    },
    {
     "name": "stderr",
     "output_type": "stream",
     "text": [
      "Using custom data configuration default-87434f9d42f04810\n",
      "Reusing dataset csv (/home/ahmad.shapiro/.cache/huggingface/datasets/csv/default-87434f9d42f04810/0.0.0/433e0ccc46f9880962cc2b12065189766fbb2bee57a221866138fb9203c83519)\n"
     ]
    },
    {
     "data": {
      "application/vnd.jupyter.widget-view+json": {
       "model_id": "773d64fe3a5a4a74ae1c6fb5b6de3725",
       "version_major": 2,
       "version_minor": 0
      },
      "text/plain": [
       "  0%|          | 0/2 [00:00<?, ?it/s]"
      ]
     },
     "metadata": {},
     "output_type": "display_data"
    },
    {
     "name": "stderr",
     "output_type": "stream",
     "text": [
      "Loading cached processed dataset at /home/ahmad.shapiro/.cache/huggingface/datasets/csv/default-87434f9d42f04810/0.0.0/433e0ccc46f9880962cc2b12065189766fbb2bee57a221866138fb9203c83519/cache-f26f742b9d08934a.arrow\n"
     ]
    },
    {
     "data": {
      "application/vnd.jupyter.widget-view+json": {
       "model_id": "0b8ff07133054b73b0598a768a29516b",
       "version_major": 2,
       "version_minor": 0
      },
      "text/plain": [
       "  0%|          | 0/2 [00:00<?, ?ba/s]"
      ]
     },
     "metadata": {},
     "output_type": "display_data"
    },
    {
     "name": "stderr",
     "output_type": "stream",
     "text": [
      "Some weights of the model checkpoint at UBC-NLP/MARBERTv2 were not used when initializing BertForSequenceClassification: ['cls.predictions.bias', 'cls.predictions.transform.dense.bias', 'cls.predictions.transform.LayerNorm.weight', 'cls.predictions.transform.LayerNorm.bias', 'cls.predictions.transform.dense.weight', 'cls.predictions.decoder.bias', 'cls.seq_relationship.bias', 'cls.predictions.decoder.weight', 'cls.seq_relationship.weight']\n",
      "- This IS expected if you are initializing BertForSequenceClassification from the checkpoint of a model trained on another task or with another architecture (e.g. initializing a BertForSequenceClassification model from a BertForPreTraining model).\n",
      "- This IS NOT expected if you are initializing BertForSequenceClassification from the checkpoint of a model that you expect to be exactly identical (initializing a BertForSequenceClassification model from a BertForSequenceClassification model).\n",
      "Some weights of BertForSequenceClassification were not initialized from the model checkpoint at UBC-NLP/MARBERTv2 and are newly initialized: ['classifier.weight', 'classifier.bias']\n",
      "You should probably TRAIN this model on a down-stream task to be able to use it for predictions and inference.\n"
     ]
    }
   ],
   "source": [
    "config = {'model_name' : \"MarBertV2\",\n",
    "          'model_link' : \"UBC-NLP/MARBERTv2\",\n",
    "          'pre_proccessed' : True,\n",
    "          'patience' : 10,\n",
    "          'seed' : 2903, \n",
    "          'task' : \"A\",\n",
    "          'epochs' : 100, \n",
    "          'dropout_ratio' : 0.5}\n",
    "trainer = run_baseline(**config)"
   ]
  },
  {
   "cell_type": "code",
   "execution_count": null,
   "id": "db7885fc",
   "metadata": {
    "scrolled": true
   },
   "outputs": [
    {
     "name": "stderr",
     "output_type": "stream",
     "text": [
      "The following columns in the training set  don't have a corresponding argument in `BertForSequenceClassification.forward` and have been ignored: text. If text are not expected by `BertForSequenceClassification.forward`,  you can safely ignore this message.\n",
      "/home/ahmad.shapiro/anaconda3/envs/pytorch/lib/python3.9/site-packages/transformers/optimization.py:306: FutureWarning: This implementation of AdamW is deprecated and will be removed in a future version. Use the PyTorch implementation torch.optim.AdamW instead, or set `no_deprecation_warning=True` to disable this warning\n",
      "  warnings.warn(\n",
      "***** Running training *****\n",
      "  Num examples = 8887\n",
      "  Num Epochs = 100\n",
      "  Instantaneous batch size per device = 4\n",
      "  Total train batch size (w. parallel, distributed & accumulation) = 4\n",
      "  Gradient Accumulation steps = 1\n",
      "  Total optimization steps = 222200\n"
     ]
    },
    {
     "data": {
      "text/html": [
       "\n",
       "    <div>\n",
       "      \n",
       "      <progress value='20642' max='222200' style='width:300px; height:20px; vertical-align: middle;'></progress>\n",
       "      [ 20642/222200 22:23 < 3:38:43, 15.36 it/s, Epoch 9.29/100]\n",
       "    </div>\n",
       "    <table border=\"1\" class=\"dataframe\">\n",
       "  <thead>\n",
       " <tr style=\"text-align: left;\">\n",
       "      <th>Epoch</th>\n",
       "      <th>Training Loss</th>\n",
       "      <th>Validation Loss</th>\n",
       "      <th>F1</th>\n",
       "      <th>Recall</th>\n",
       "      <th>Precision</th>\n",
       "    </tr>\n",
       "  </thead>\n",
       "  <tbody>\n",
       "    <tr>\n",
       "      <td>1</td>\n",
       "      <td>0.520100</td>\n",
       "      <td>0.441966</td>\n",
       "      <td>0.842514</td>\n",
       "      <td>0.847544</td>\n",
       "      <td>0.838187</td>\n",
       "    </tr>\n",
       "    <tr>\n",
       "      <td>2</td>\n",
       "      <td>0.351000</td>\n",
       "      <td>0.677676</td>\n",
       "      <td>0.831821</td>\n",
       "      <td>0.842845</td>\n",
       "      <td>0.824098</td>\n",
       "    </tr>\n",
       "    <tr>\n",
       "      <td>3</td>\n",
       "      <td>0.228200</td>\n",
       "      <td>0.788640</td>\n",
       "      <td>0.834580</td>\n",
       "      <td>0.841770</td>\n",
       "      <td>0.828837</td>\n",
       "    </tr>\n",
       "    <tr>\n",
       "      <td>4</td>\n",
       "      <td>0.110700</td>\n",
       "      <td>1.013826</td>\n",
       "      <td>0.836087</td>\n",
       "      <td>0.849116</td>\n",
       "      <td>0.827506</td>\n",
       "    </tr>\n",
       "    <tr>\n",
       "      <td>5</td>\n",
       "      <td>0.106400</td>\n",
       "      <td>1.118371</td>\n",
       "      <td>0.832940</td>\n",
       "      <td>0.836488</td>\n",
       "      <td>0.829762</td>\n",
       "    </tr>\n",
       "    <tr>\n",
       "      <td>6</td>\n",
       "      <td>0.080800</td>\n",
       "      <td>1.210677</td>\n",
       "      <td>0.826514</td>\n",
       "      <td>0.835336</td>\n",
       "      <td>0.819902</td>\n",
       "    </tr>\n",
       "    <tr>\n",
       "      <td>7</td>\n",
       "      <td>0.055800</td>\n",
       "      <td>1.316104</td>\n",
       "      <td>0.830818</td>\n",
       "      <td>0.837480</td>\n",
       "      <td>0.825425</td>\n",
       "    </tr>\n",
       "    <tr>\n",
       "      <td>8</td>\n",
       "      <td>0.034400</td>\n",
       "      <td>1.326645</td>\n",
       "      <td>0.814238</td>\n",
       "      <td>0.839140</td>\n",
       "      <td>0.804970</td>\n",
       "    </tr>\n",
       "    <tr>\n",
       "      <td>9</td>\n",
       "      <td>0.038300</td>\n",
       "      <td>1.698822</td>\n",
       "      <td>0.806230</td>\n",
       "      <td>0.821728</td>\n",
       "      <td>0.797575</td>\n",
       "    </tr>\n",
       "  </tbody>\n",
       "</table><p>"
      ],
      "text/plain": [
       "<IPython.core.display.HTML object>"
      ]
     },
     "metadata": {},
     "output_type": "display_data"
    },
    {
     "name": "stderr",
     "output_type": "stream",
     "text": [
      "The following columns in the evaluation set  don't have a corresponding argument in `BertForSequenceClassification.forward` and have been ignored: text. If text are not expected by `BertForSequenceClassification.forward`,  you can safely ignore this message.\n",
      "***** Running Evaluation *****\n",
      "  Num examples = 1270\n",
      "  Batch size = 4\n",
      "Saving model checkpoint to ./Checkpoints/Pre_processed/MarBertV2_d_0.5/checkpoint-2222\n",
      "Configuration saved in ./Checkpoints/Pre_processed/MarBertV2_d_0.5/checkpoint-2222/config.json\n",
      "Model weights saved in ./Checkpoints/Pre_processed/MarBertV2_d_0.5/checkpoint-2222/pytorch_model.bin\n",
      "tokenizer config file saved in ./Checkpoints/Pre_processed/MarBertV2_d_0.5/checkpoint-2222/tokenizer_config.json\n",
      "Special tokens file saved in ./Checkpoints/Pre_processed/MarBertV2_d_0.5/checkpoint-2222/special_tokens_map.json\n",
      "The following columns in the evaluation set  don't have a corresponding argument in `BertForSequenceClassification.forward` and have been ignored: text. If text are not expected by `BertForSequenceClassification.forward`,  you can safely ignore this message.\n",
      "***** Running Evaluation *****\n",
      "  Num examples = 1270\n",
      "  Batch size = 4\n",
      "Saving model checkpoint to ./Checkpoints/Pre_processed/MarBertV2_d_0.5/checkpoint-4444\n",
      "Configuration saved in ./Checkpoints/Pre_processed/MarBertV2_d_0.5/checkpoint-4444/config.json\n",
      "Model weights saved in ./Checkpoints/Pre_processed/MarBertV2_d_0.5/checkpoint-4444/pytorch_model.bin\n",
      "tokenizer config file saved in ./Checkpoints/Pre_processed/MarBertV2_d_0.5/checkpoint-4444/tokenizer_config.json\n",
      "Special tokens file saved in ./Checkpoints/Pre_processed/MarBertV2_d_0.5/checkpoint-4444/special_tokens_map.json\n",
      "The following columns in the evaluation set  don't have a corresponding argument in `BertForSequenceClassification.forward` and have been ignored: text. If text are not expected by `BertForSequenceClassification.forward`,  you can safely ignore this message.\n",
      "***** Running Evaluation *****\n",
      "  Num examples = 1270\n",
      "  Batch size = 4\n",
      "Saving model checkpoint to ./Checkpoints/Pre_processed/MarBertV2_d_0.5/checkpoint-6666\n",
      "Configuration saved in ./Checkpoints/Pre_processed/MarBertV2_d_0.5/checkpoint-6666/config.json\n",
      "Model weights saved in ./Checkpoints/Pre_processed/MarBertV2_d_0.5/checkpoint-6666/pytorch_model.bin\n",
      "tokenizer config file saved in ./Checkpoints/Pre_processed/MarBertV2_d_0.5/checkpoint-6666/tokenizer_config.json\n",
      "Special tokens file saved in ./Checkpoints/Pre_processed/MarBertV2_d_0.5/checkpoint-6666/special_tokens_map.json\n",
      "The following columns in the evaluation set  don't have a corresponding argument in `BertForSequenceClassification.forward` and have been ignored: text. If text are not expected by `BertForSequenceClassification.forward`,  you can safely ignore this message.\n",
      "***** Running Evaluation *****\n",
      "  Num examples = 1270\n",
      "  Batch size = 4\n",
      "Saving model checkpoint to ./Checkpoints/Pre_processed/MarBertV2_d_0.5/checkpoint-8888\n",
      "Configuration saved in ./Checkpoints/Pre_processed/MarBertV2_d_0.5/checkpoint-8888/config.json\n",
      "Model weights saved in ./Checkpoints/Pre_processed/MarBertV2_d_0.5/checkpoint-8888/pytorch_model.bin\n",
      "tokenizer config file saved in ./Checkpoints/Pre_processed/MarBertV2_d_0.5/checkpoint-8888/tokenizer_config.json\n",
      "Special tokens file saved in ./Checkpoints/Pre_processed/MarBertV2_d_0.5/checkpoint-8888/special_tokens_map.json\n",
      "The following columns in the evaluation set  don't have a corresponding argument in `BertForSequenceClassification.forward` and have been ignored: text. If text are not expected by `BertForSequenceClassification.forward`,  you can safely ignore this message.\n",
      "***** Running Evaluation *****\n",
      "  Num examples = 1270\n",
      "  Batch size = 4\n",
      "Saving model checkpoint to ./Checkpoints/Pre_processed/MarBertV2_d_0.5/checkpoint-11110\n",
      "Configuration saved in ./Checkpoints/Pre_processed/MarBertV2_d_0.5/checkpoint-11110/config.json\n",
      "Model weights saved in ./Checkpoints/Pre_processed/MarBertV2_d_0.5/checkpoint-11110/pytorch_model.bin\n",
      "tokenizer config file saved in ./Checkpoints/Pre_processed/MarBertV2_d_0.5/checkpoint-11110/tokenizer_config.json\n",
      "Special tokens file saved in ./Checkpoints/Pre_processed/MarBertV2_d_0.5/checkpoint-11110/special_tokens_map.json\n",
      "The following columns in the evaluation set  don't have a corresponding argument in `BertForSequenceClassification.forward` and have been ignored: text. If text are not expected by `BertForSequenceClassification.forward`,  you can safely ignore this message.\n",
      "***** Running Evaluation *****\n",
      "  Num examples = 1270\n",
      "  Batch size = 4\n",
      "Saving model checkpoint to ./Checkpoints/Pre_processed/MarBertV2_d_0.5/checkpoint-13332\n",
      "Configuration saved in ./Checkpoints/Pre_processed/MarBertV2_d_0.5/checkpoint-13332/config.json\n",
      "Model weights saved in ./Checkpoints/Pre_processed/MarBertV2_d_0.5/checkpoint-13332/pytorch_model.bin\n",
      "tokenizer config file saved in ./Checkpoints/Pre_processed/MarBertV2_d_0.5/checkpoint-13332/tokenizer_config.json\n",
      "Special tokens file saved in ./Checkpoints/Pre_processed/MarBertV2_d_0.5/checkpoint-13332/special_tokens_map.json\n",
      "The following columns in the evaluation set  don't have a corresponding argument in `BertForSequenceClassification.forward` and have been ignored: text. If text are not expected by `BertForSequenceClassification.forward`,  you can safely ignore this message.\n",
      "***** Running Evaluation *****\n",
      "  Num examples = 1270\n",
      "  Batch size = 4\n",
      "Saving model checkpoint to ./Checkpoints/Pre_processed/MarBertV2_d_0.5/checkpoint-15554\n",
      "Configuration saved in ./Checkpoints/Pre_processed/MarBertV2_d_0.5/checkpoint-15554/config.json\n",
      "Model weights saved in ./Checkpoints/Pre_processed/MarBertV2_d_0.5/checkpoint-15554/pytorch_model.bin\n",
      "tokenizer config file saved in ./Checkpoints/Pre_processed/MarBertV2_d_0.5/checkpoint-15554/tokenizer_config.json\n",
      "Special tokens file saved in ./Checkpoints/Pre_processed/MarBertV2_d_0.5/checkpoint-15554/special_tokens_map.json\n",
      "The following columns in the evaluation set  don't have a corresponding argument in `BertForSequenceClassification.forward` and have been ignored: text. If text are not expected by `BertForSequenceClassification.forward`,  you can safely ignore this message.\n",
      "***** Running Evaluation *****\n",
      "  Num examples = 1270\n",
      "  Batch size = 4\n",
      "Saving model checkpoint to ./Checkpoints/Pre_processed/MarBertV2_d_0.5/checkpoint-17776\n",
      "Configuration saved in ./Checkpoints/Pre_processed/MarBertV2_d_0.5/checkpoint-17776/config.json\n",
      "Model weights saved in ./Checkpoints/Pre_processed/MarBertV2_d_0.5/checkpoint-17776/pytorch_model.bin\n",
      "tokenizer config file saved in ./Checkpoints/Pre_processed/MarBertV2_d_0.5/checkpoint-17776/tokenizer_config.json\n",
      "Special tokens file saved in ./Checkpoints/Pre_processed/MarBertV2_d_0.5/checkpoint-17776/special_tokens_map.json\n",
      "The following columns in the evaluation set  don't have a corresponding argument in `BertForSequenceClassification.forward` and have been ignored: text. If text are not expected by `BertForSequenceClassification.forward`,  you can safely ignore this message.\n",
      "***** Running Evaluation *****\n",
      "  Num examples = 1270\n",
      "  Batch size = 4\n",
      "Saving model checkpoint to ./Checkpoints/Pre_processed/MarBertV2_d_0.5/checkpoint-19998\n",
      "Configuration saved in ./Checkpoints/Pre_processed/MarBertV2_d_0.5/checkpoint-19998/config.json\n",
      "Model weights saved in ./Checkpoints/Pre_processed/MarBertV2_d_0.5/checkpoint-19998/pytorch_model.bin\n",
      "tokenizer config file saved in ./Checkpoints/Pre_processed/MarBertV2_d_0.5/checkpoint-19998/tokenizer_config.json\n",
      "Special tokens file saved in ./Checkpoints/Pre_processed/MarBertV2_d_0.5/checkpoint-19998/special_tokens_map.json\n"
     ]
    }
   ],
   "source": [
    "trainer.train()"
   ]
  },
  {
   "cell_type": "code",
   "execution_count": null,
   "id": "308a61e3",
   "metadata": {},
   "outputs": [],
   "source": []
  }
 ],
 "metadata": {
  "kernelspec": {
   "display_name": "Python [conda env:pytorch]",
   "language": "python",
   "name": "conda-env-pytorch-py"
  },
  "language_info": {
   "codemirror_mode": {
    "name": "ipython",
    "version": 3
   },
   "file_extension": ".py",
   "mimetype": "text/x-python",
   "name": "python",
   "nbconvert_exporter": "python",
   "pygments_lexer": "ipython3",
   "version": "3.9.7"
  }
 },
 "nbformat": 4,
 "nbformat_minor": 5
}
