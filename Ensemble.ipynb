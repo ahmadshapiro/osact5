{
 "cells": [
  {
   "cell_type": "code",
   "execution_count": 29,
   "id": "184ba81d-2574-4b3b-a30d-7fd2a1177902",
   "metadata": {},
   "outputs": [
    {
     "name": "stdout",
     "output_type": "stream",
     "text": [
      "/scratch/mt/ashapiro/Hate_Speech\n"
     ]
    }
   ],
   "source": [
    "%cd /scratch/mt/ashapiro/Hate_Speech/\n",
    "from contrastive_utils import *\n",
    "import seaborn as sns\n",
    "from sklearn.metrics import classification_report, confusion_matrix\n",
    "from transformers import pipeline\n",
    "import pandas as pd\n",
    "from tqdm.autonotebook import tqdm\n",
    "from sklearn.linear_model import LogisticRegression"
   ]
  },
  {
   "cell_type": "code",
   "execution_count": 2,
   "id": "96e8658c-902e-4307-a180-04c8279a534a",
   "metadata": {},
   "outputs": [],
   "source": [
    "def plot_cf(cf_matrix):\n",
    "    ax = sns.heatmap(cf_matrix, annot=True, cmap='Blues',fmt=\"d\")\n",
    "    ax.set_title('Seaborn Confusion Matrix with labels\\n\\n');\n",
    "    ax.set_xlabel('\\nPredicted Values')\n",
    "    ax.set_ylabel('Actual Values ');\n",
    "    ## Ticket labels - List must be in alphabetical order\n",
    "    ax.xaxis.set_ticklabels(['False','True'])\n",
    "    ax.yaxis.set_ticklabels(['False','True'])\n",
    "    ## Display the visualization of the Confusion Matrix.\n",
    "    plt.show()"
   ]
  },
  {
   "cell_type": "code",
   "execution_count": 56,
   "id": "db85a0be-14e2-4992-98f7-348c2d908e45",
   "metadata": {},
   "outputs": [],
   "source": [
    "def _proccess_one(preds):\n",
    "    temp_data = {'score_0':[], 'score_1':[]}\n",
    "    for pred in preds:\n",
    "        label = int(pred['label'].split('_')[-1])\n",
    "        \n",
    "        if label == 0 :\n",
    "            score_0 = pred['score']\n",
    "            score_1 = 1 - score_0\n",
    "        else:\n",
    "            score_1 = pred['score']\n",
    "            score_0 = 1 - score_1\n",
    "\n",
    "        temp_data['score_0'].append(score_0)\n",
    "        temp_data['score_1'].append(score_1)\n",
    "    temp = pd.DataFrame.from_dict(temp_data)\n",
    "    temp['pred'] = temp.apply(lambda row: 1 if row.score_0 < row.score_1 else 0, axis=1)\n",
    "    return temp\n",
    "\n",
    "def get_weighted_ensemble_data(model_lists, test_df, classifier):\n",
    "    df = pd.DataFrame()\n",
    "    for model in tqdm(model_lists):\n",
    "        if model == marbert_classification_only_checkpoint :\n",
    "            _model = bebo.from_pretrained(model)\n",
    "        else:\n",
    "            _model = BertForSequenceClassification.from_pretrained(model)\n",
    "        _pipeline = pipeline(task=\"text-classification\", model=_model, tokenizer=model, batch_size = 64, device=0)\n",
    "        model_name = model.split('/')[-3]\n",
    "        ops = _proccess_one(_pipeline(list(test_df.text.values)))\n",
    "        df[f'{model_name}_z']= ops['score_0']\n",
    "        df[f'{model_name}_1']= ops['score_1']\n",
    "    df['label'] = test_df.labels.values\n",
    "    X, y= df.drop(columns='label').values, df.label.values\n",
    "    classifier.fit(X,y)\n",
    "    y_pred = classifier.predict(X)\n",
    "    print(classification_report(y_true=y, y_pred=y_pred))\n",
    "    plot_cf(confusion_matrix(y, y_pred))    \n",
    "    \n",
    "    return df, classifier     \n",
    "        \n",
    "        \n",
    "        \n",
    "def ensemble(model_lists, test_df, pred):\n",
    "    df = pd.DataFrame.from_dict({'score_0':[0]*len(test_df), 'score_1':[0]*len(test_df)})\n",
    "    models_outputs = {}\n",
    "    for model in tqdm(model_lists):\n",
    "        if model == marbert_classification_only_checkpoint :\n",
    "            _model = bebo.from_pretrained(model)\n",
    "        else:\n",
    "            _model = BertForSequenceClassification.from_pretrained(model)\n",
    "        _pipeline = pipeline(task=\"text-classification\", model=_model, tokenizer=model, batch_size = 64, device=0)\n",
    "        model_name = model.split('/')[-3]\n",
    "        models_outputs[model_name]= _proccess_one(_pipeline(list(test_df.text.values)))\n",
    "        df = df.add(models_outputs[model_name][['score_0','score_1']])\n",
    "    df = df/len(model_lists)\n",
    "    df['tweet'] = test_df.text.values\n",
    "    df['pred'] = df.apply(lambda row: 1 if row.score_0 < row.score_1 else 0, axis=1)\n",
    "    if not pred \n",
    "        #df['true'] = test_df.labels.values\n",
    "    return df, models_outputs\n",
    "\n",
    "def stat_each(models_output):\n",
    "    for model_name, df in models_output.items():\n",
    "        print(model_name)\n",
    "        print(classification_report(y_true=test.labels.values, y_pred=df.pred.values))\n",
    "        plot_cf(confusion_matrix(test.labels.values, df.pred.values))\n",
    "        print(\"=====================================================================\")"
   ]
  },
  {
   "cell_type": "code",
   "execution_count": 26,
   "id": "87be1f2b-05ce-496a-9d83-b2108ccab400",
   "metadata": {},
   "outputs": [],
   "source": [
    "train, test = getData(sub_task=\"A\", pre_proccessed=True, return_type=\"pandas\")"
   ]
  },
  {
   "cell_type": "markdown",
   "id": "f9a798f4-5233-49aa-84dd-3181e017446c",
   "metadata": {},
   "source": [
    "# "
   ]
  },
  {
   "cell_type": "code",
   "execution_count": 4,
   "id": "73d6b06d-c419-4b74-bd52-027e3ee0278c",
   "metadata": {},
   "outputs": [],
   "source": [
    "marbert_classification_only_checkpoint = \"/scratch/mt/ashapiro/Hate_Speech/Checkpoints/SentenceBert/Classifiers/Marbertv2_best/checkpoint-278/\" #0.8505582936759521\n",
    "online_contrastive_50k = \"/scratch/mt/ashapiro/Hate_Speech/Checkpoints/SentenceBert/Classifiers/MarbertV2_OnlineContrastive_50K/checkpoint-1807/\" #0.850946919178447\n",
    "contrastive_50k = \"/scratch/mt/ashapiro/Hate_Speech/Checkpoints/SentenceBert/Classifiers/MarbertV2_Contrastive_50K/checkpoint-1251/\" #0.849672373705347\n",
    "batch_all_triplet = \"/scratch/mt/ashapiro/Hate_Speech/Checkpoints/SentenceBert/Classifiers/BatchAllTripletLoss/checkpoint-1946/\" #0.847643942694422\n",
    "online_contrastive_1m = \"/scratch/mt/ashapiro/Hate_Speech/Checkpoints/SentenceBert/Classifiers/MarbertV2_OnlineContrastive_1M/checkpoint-1946/\" #0.847271070115216\n",
    "models_list = [marbert_classification_only_checkpoint, \n",
    "               online_contrastive_50k, \n",
    "               contrastive_50k,\n",
    "               batch_all_triplet,\n",
    "               online_contrastive_1m\n",
    "              ]\n",
    "reproduce = [marbert_classification_only_checkpoint, contrastive_50k, batch_all_triplet]"
   ]
  },
  {
   "cell_type": "markdown",
   "id": "f5f88db2-3bd8-4061-92cd-c652df5a560d",
   "metadata": {},
   "source": [
    "## Top 2"
   ]
  },
  {
   "cell_type": "code",
   "execution_count": 12,
   "id": "c5f2c1e8-f669-4480-9af6-7f5c498df72d",
   "metadata": {},
   "outputs": [
    {
     "name": "stderr",
     "output_type": "stream",
     "text": [
      "100%|██████████| 2/2 [00:06<00:00,  3.23s/it]\n"
     ]
    },
    {
     "name": "stdout",
     "output_type": "stream",
     "text": [
      "              precision    recall  f1-score   support\n",
      "\n",
      "           0       0.91      0.90      0.90       866\n",
      "           1       0.79      0.81      0.80       404\n",
      "\n",
      "    accuracy                           0.87      1270\n",
      "   macro avg       0.85      0.85      0.85      1270\n",
      "weighted avg       0.87      0.87      0.87      1270\n",
      "\n"
     ]
    },
    {
     "data": {
      "image/png": "[encoded data removed]",
      "text/plain": [
       "<Figure size 432x288 with 2 Axes>"
      ]
     },
     "metadata": {
      "needs_background": "light"
     },
     "output_type": "display_data"
    }
   ],
   "source": [
    "df, models_output = ensemble(model_lists=models_list[:2] ,test_df=test)\n",
    "print(classification_report(y_true=df.true.values, y_pred=df.pred.values))\n",
    "plot_cf(confusion_matrix(test.labels.values, df.pred.values))"
   ]
  },
  {
   "cell_type": "code",
   "execution_count": 9,
   "id": "51f10091-afd1-480b-a406-cbc38c3b5624",
   "metadata": {
    "collapsed": true,
    "jupyter": {
     "outputs_hidden": true
    },
    "tags": []
   },
   "outputs": [
    {
     "name": "stdout",
     "output_type": "stream",
     "text": [
      "Marbertv2_best\n",
      "              precision    recall  f1-score   support\n",
      "\n",
      "           0       0.91      0.90      0.90       866\n",
      "           1       0.79      0.80      0.80       404\n",
      "\n",
      "    accuracy                           0.87      1270\n",
      "   macro avg       0.85      0.85      0.85      1270\n",
      "weighted avg       0.87      0.87      0.87      1270\n",
      "\n"
     ]
    },
    {
     "data": {
      "image/png": "[encoded data removed]",
      "text/plain": [
       "<Figure size 432x288 with 2 Axes>"
      ]
     },
     "metadata": {
      "needs_background": "light"
     },
     "output_type": "display_data"
    },
    {
     "name": "stdout",
     "output_type": "stream",
     "text": [
      "=====================================================================\n",
      "MarbertV2_OnlineContrastive_50K\n",
      "              precision    recall  f1-score   support\n",
      "\n",
      "           0       0.91      0.90      0.90       866\n",
      "           1       0.79      0.80      0.80       404\n",
      "\n",
      "    accuracy                           0.87      1270\n",
      "   macro avg       0.85      0.85      0.85      1270\n",
      "weighted avg       0.87      0.87      0.87      1270\n",
      "\n"
     ]
    },
    {
     "data": {
      "image/png": "[encoded data removed]",
      "text/plain": [
       "<Figure size 432x288 with 2 Axes>"
      ]
     },
     "metadata": {
      "needs_background": "light"
     },
     "output_type": "display_data"
    },
    {
     "name": "stdout",
     "output_type": "stream",
     "text": [
      "=====================================================================\n"
     ]
    }
   ],
   "source": [
    "stat_each(models_output)"
   ]
  },
  {
   "cell_type": "markdown",
   "id": "c023de97-de78-41e9-a7f6-78fd4615b366",
   "metadata": {},
   "source": [
    "### Weighted "
   ]
  },
  {
   "cell_type": "code",
   "execution_count": 37,
   "id": "8a6a4caf-6bd7-4c93-8d39-9be1dda6cea6",
   "metadata": {},
   "outputs": [
    {
     "name": "stderr",
     "output_type": "stream",
     "text": [
      "100%|██████████| 2/2 [00:06<00:00,  3.24s/it]"
     ]
    },
    {
     "name": "stdout",
     "output_type": "stream",
     "text": [
      "              precision    recall  f1-score   support\n",
      "\n",
      "           0       0.90      0.92      0.91       866\n",
      "           1       0.82      0.78      0.80       404\n",
      "\n",
      "    accuracy                           0.88      1270\n",
      "   macro avg       0.86      0.85      0.86      1270\n",
      "weighted avg       0.88      0.88      0.88      1270\n",
      "\n"
     ]
    },
    {
     "name": "stderr",
     "output_type": "stream",
     "text": [
      "\n"
     ]
    },
    {
     "data": {
      "image/png": "[encoded data removed]",
      "text/plain": [
       "<Figure size 432x288 with 2 Axes>"
      ]
     },
     "metadata": {
      "needs_background": "light"
     },
     "output_type": "display_data"
    }
   ],
   "source": [
    "classifier = LogisticRegression()\n",
    "df, classifier = get_weighted_ensemble_data(model_lists=models_list[:2] ,test_df=test, classifier=classifier)"
   ]
  },
  {
   "cell_type": "markdown",
   "id": "678ee1c7-6082-4dd0-abf2-3f65c7a5936e",
   "metadata": {},
   "source": [
    "## Top 3"
   ]
  },
  {
   "cell_type": "code",
   "execution_count": 13,
   "id": "d8153b9b-c315-40a9-b6c4-898ab24528d9",
   "metadata": {},
   "outputs": [
    {
     "name": "stderr",
     "output_type": "stream",
     "text": [
      "100%|██████████| 3/3 [00:09<00:00,  3.32s/it]"
     ]
    },
    {
     "name": "stdout",
     "output_type": "stream",
     "text": [
      "              precision    recall  f1-score   support\n",
      "\n",
      "           0       0.91      0.90      0.91       866\n",
      "           1       0.80      0.81      0.80       404\n",
      "\n",
      "    accuracy                           0.87      1270\n",
      "   macro avg       0.85      0.86      0.85      1270\n",
      "weighted avg       0.87      0.87      0.87      1270\n",
      "\n"
     ]
    },
    {
     "name": "stderr",
     "output_type": "stream",
     "text": [
      "\n"
     ]
    },
    {
     "data": {
      "image/png": "[encoded data removed]",
      "text/plain": [
       "<Figure size 432x288 with 2 Axes>"
      ]
     },
     "metadata": {
      "needs_background": "light"
     },
     "output_type": "display_data"
    }
   ],
   "source": [
    "df, models_output = ensemble(model_lists=models_list[:3] ,test_df=test)\n",
    "print(classification_report(y_true=df.true.values, y_pred=df.pred.values))\n",
    "plot_cf(confusion_matrix(test.labels.values, df.pred.values))"
   ]
  },
  {
   "cell_type": "code",
   "execution_count": 38,
   "id": "fda53ab1-dccf-4d9a-a067-a03b5c6a86b2",
   "metadata": {},
   "outputs": [
    {
     "name": "stderr",
     "output_type": "stream",
     "text": [
      "100%|██████████| 3/3 [00:09<00:00,  3.17s/it]"
     ]
    },
    {
     "name": "stdout",
     "output_type": "stream",
     "text": [
      "              precision    recall  f1-score   support\n",
      "\n",
      "           0       0.90      0.92      0.91       866\n",
      "           1       0.82      0.78      0.80       404\n",
      "\n",
      "    accuracy                           0.87      1270\n",
      "   macro avg       0.86      0.85      0.85      1270\n",
      "weighted avg       0.87      0.87      0.87      1270\n",
      "\n"
     ]
    },
    {
     "name": "stderr",
     "output_type": "stream",
     "text": [
      "\n"
     ]
    },
    {
     "data": {
      "image/png": "[encoded data removed]",
      "text/plain": [
       "<Figure size 432x288 with 2 Axes>"
      ]
     },
     "metadata": {
      "needs_background": "light"
     },
     "output_type": "display_data"
    }
   ],
   "source": [
    "classifier = LogisticRegression()\n",
    "df, classifier = get_weighted_ensemble_data(model_lists=models_list[:3] ,test_df=test, classifier=classifier)"
   ]
  },
  {
   "cell_type": "markdown",
   "id": "3da5440e-f645-473d-ae91-386169705b70",
   "metadata": {},
   "source": [
    "## Top 4"
   ]
  },
  {
   "cell_type": "code",
   "execution_count": 39,
   "id": "2f3201b2-7199-4e95-9dc4-f0c6dc514e0e",
   "metadata": {},
   "outputs": [
    {
     "name": "stderr",
     "output_type": "stream",
     "text": [
      "100%|██████████| 4/4 [00:13<00:00,  3.50s/it]"
     ]
    },
    {
     "name": "stdout",
     "output_type": "stream",
     "text": [
      "              precision    recall  f1-score   support\n",
      "\n",
      "           0       0.91      0.90      0.91       866\n",
      "           1       0.79      0.81      0.80       404\n",
      "\n",
      "    accuracy                           0.87      1270\n",
      "   macro avg       0.85      0.86      0.85      1270\n",
      "weighted avg       0.87      0.87      0.87      1270\n",
      "\n"
     ]
    },
    {
     "name": "stderr",
     "output_type": "stream",
     "text": [
      "\n"
     ]
    }
   ],
   "source": [
    "df, models_output = ensemble(model_lists=models_list[:4] ,test_df=test)\n",
    "print(classification_report(y_true=df.true.values, y_pred=df.pred.values))"
   ]
  },
  {
   "cell_type": "code",
   "execution_count": 40,
   "id": "15aa4f6f-30bf-486a-9b30-b84e9467a608",
   "metadata": {},
   "outputs": [
    {
     "name": "stderr",
     "output_type": "stream",
     "text": [
      "100%|██████████| 4/4 [00:13<00:00,  3.28s/it]"
     ]
    },
    {
     "name": "stdout",
     "output_type": "stream",
     "text": [
      "              precision    recall  f1-score   support\n",
      "\n",
      "           0       0.90      0.92      0.91       866\n",
      "           1       0.82      0.78      0.80       404\n",
      "\n",
      "    accuracy                           0.87      1270\n",
      "   macro avg       0.86      0.85      0.85      1270\n",
      "weighted avg       0.87      0.87      0.87      1270\n",
      "\n"
     ]
    },
    {
     "name": "stderr",
     "output_type": "stream",
     "text": [
      "\n"
     ]
    },
    {
     "data": {
      "image/png": "[encoded data removed]",
      "text/plain": [
       "<Figure size 432x288 with 2 Axes>"
      ]
     },
     "metadata": {
      "needs_background": "light"
     },
     "output_type": "display_data"
    }
   ],
   "source": [
    "classifier = LogisticRegression()\n",
    "df, classifier = get_weighted_ensemble_data(model_lists=models_list[:4] ,test_df=test, classifier=classifier)"
   ]
  },
  {
   "cell_type": "code",
   "execution_count": 44,
   "id": "cdaafe65-5c37-47ae-a1fd-f148cb04e0b1",
   "metadata": {},
   "outputs": [
    {
     "data": {
      "text/plain": [
       "'/scratch/mt/ashapiro/Hate_Speech'"
      ]
     },
     "execution_count": 44,
     "metadata": {},
     "output_type": "execute_result"
    }
   ],
   "source": [
    "%pwd"
   ]
  },
  {
   "cell_type": "code",
   "execution_count": 54,
   "id": "77fb2be9-6c94-4407-aa56-01c9efc674e6",
   "metadata": {},
   "outputs": [
    {
     "data": {
      "text/html": [
       "<div>\n",
       "<style scoped>\n",
       "    .dataframe tbody tr th:only-of-type {\n",
       "        vertical-align: middle;\n",
       "    }\n",
       "\n",
       "    .dataframe tbody tr th {\n",
       "        vertical-align: top;\n",
       "    }\n",
       "\n",
       "    .dataframe thead th {\n",
       "        text-align: right;\n",
       "    }\n",
       "</style>\n",
       "<table border=\"1\" class=\"dataframe\">\n",
       "  <thead>\n",
       "    <tr style=\"text-align: right;\">\n",
       "      <th></th>\n",
       "      <th>text</th>\n",
       "    </tr>\n",
       "  </thead>\n",
       "  <tbody>\n",
       "    <tr>\n",
       "      <th>0</th>\n",
       "      <td>هتهزر معايا ولا ايه 😡</td>\n",
       "    </tr>\n",
       "    <tr>\n",
       "      <th>1</th>\n",
       "      <td>مشفتش العرض بتاعهم لا مش مهتمة لا 😩 🐸 😂</td>\n",
       "    </tr>\n",
       "    <tr>\n",
       "      <th>2</th>\n",
       "      <td>عندما تكون لوحدك تحس انك لحالك صح 😊 حتى انا مث...</td>\n",
       "    </tr>\n",
       "    <tr>\n",
       "      <th>3</th>\n",
       "      <td>ماشاء الله الرجال باين عليه محترم البنات متى ت...</td>\n",
       "    </tr>\n",
       "    <tr>\n",
       "      <th>4</th>\n",
       "      <td>شسالفة احد يفهمني 😤</td>\n",
       "    </tr>\n",
       "    <tr>\n",
       "      <th>...</th>\n",
       "      <td>...</td>\n",
       "    </tr>\n",
       "    <tr>\n",
       "      <th>2536</th>\n",
       "      <td>قله حيا وين اهلهم ذولي الله لايبلانا لهالدرجه ...</td>\n",
       "    </tr>\n",
       "    <tr>\n",
       "      <th>2537</th>\n",
       "      <td>ثم الطحلبه 🐸</td>\n",
       "    </tr>\n",
       "    <tr>\n",
       "      <th>2538</th>\n",
       "      <td>يا وجه الله 😷 من اليوم ورايح شاورما انسى 🔪</td>\n",
       "    </tr>\n",
       "    <tr>\n",
       "      <th>2539</th>\n",
       "      <td>متخلف حتى الحلال حرمتوه 😷</td>\n",
       "    </tr>\n",
       "    <tr>\n",
       "      <th>2540</th>\n",
       "      <td>حنا خقينا على بنت رئيس مو على بياع كليجا 😝 👊</td>\n",
       "    </tr>\n",
       "  </tbody>\n",
       "</table>\n",
       "<p>2541 rows × 1 columns</p>\n",
       "</div>"
      ],
      "text/plain": [
       "                                                   text\n",
       "0                                 هتهزر معايا ولا ايه 😡\n",
       "1               مشفتش العرض بتاعهم لا مش مهتمة لا 😩 🐸 😂\n",
       "2     عندما تكون لوحدك تحس انك لحالك صح 😊 حتى انا مث...\n",
       "3     ماشاء الله الرجال باين عليه محترم البنات متى ت...\n",
       "4                                   شسالفة احد يفهمني 😤\n",
       "...                                                 ...\n",
       "2536  قله حيا وين اهلهم ذولي الله لايبلانا لهالدرجه ...\n",
       "2537                                       ثم الطحلبه 🐸\n",
       "2538         يا وجه الله 😷 من اليوم ورايح شاورما انسى 🔪\n",
       "2539                          متخلف حتى الحلال حرمتوه 😷\n",
       "2540       حنا خقينا على بنت رئيس مو على بياع كليجا 😝 👊\n",
       "\n",
       "[2541 rows x 1 columns]"
      ]
     },
     "execution_count": 54,
     "metadata": {},
     "output_type": "execute_result"
    }
   ],
   "source": [
    "test = pd.read_csv('/home/ashapiro/Hate_speech_task/test.csv')\n",
    "test"
   ]
  },
  {
   "cell_type": "code",
   "execution_count": 57,
   "id": "9e84fe24-90e8-4c68-b0e0-7cda0c0a448d",
   "metadata": {},
   "outputs": [
    {
     "name": "stderr",
     "output_type": "stream",
     "text": [
      "100%|██████████| 5/5 [00:23<00:00,  4.66s/it]\n"
     ]
    }
   ],
   "source": [
    "df, models_output = ensemble(model_lists=models_list ,test_df=test, pred=True)"
   ]
  },
  {
   "cell_type": "code",
   "execution_count": 61,
   "id": "7c9f218e-925d-4b70-a5c2-19c35992c1dd",
   "metadata": {},
   "outputs": [],
   "source": [
    "preds = list(df.pred.apply(lambda x: 'OFF' if x == 1 else \"NOT_OFF\"))"
   ]
  },
  {
   "cell_type": "code",
   "execution_count": 63,
   "id": "d7d5351e-f678-4b06-8a42-0cee9fc9a83c",
   "metadata": {
    "collapsed": true,
    "jupyter": {
     "outputs_hidden": true
    },
    "tags": []
   },
   "outputs": [
    {
     "data": {
      "text/plain": [
       "['NOT_OFF',\n",
       " 'NOT_OFF',\n",
       " 'NOT_OFF',\n",
       " 'OFF',\n",
       " 'NOT_OFF',\n",
       " 'NOT_OFF',\n",
       " 'NOT_OFF',\n",
       " 'NOT_OFF',\n",
       " 'OFF',\n",
       " 'NOT_OFF',\n",
       " 'NOT_OFF',\n",
       " 'OFF',\n",
       " 'NOT_OFF',\n",
       " 'NOT_OFF',\n",
       " 'OFF',\n",
       " 'NOT_OFF',\n",
       " 'NOT_OFF',\n",
       " 'OFF',\n",
       " 'OFF',\n",
       " 'NOT_OFF',\n",
       " 'NOT_OFF',\n",
       " 'OFF',\n",
       " 'OFF',\n",
       " 'OFF',\n",
       " 'OFF',\n",
       " 'NOT_OFF',\n",
       " 'NOT_OFF',\n",
       " 'NOT_OFF',\n",
       " 'OFF',\n",
       " 'OFF',\n",
       " 'NOT_OFF',\n",
       " 'OFF',\n",
       " 'NOT_OFF',\n",
       " 'NOT_OFF',\n",
       " 'OFF',\n",
       " 'OFF',\n",
       " 'NOT_OFF',\n",
       " 'NOT_OFF',\n",
       " 'NOT_OFF',\n",
       " 'NOT_OFF',\n",
       " 'OFF',\n",
       " 'OFF',\n",
       " 'NOT_OFF',\n",
       " 'NOT_OFF',\n",
       " 'NOT_OFF',\n",
       " 'OFF',\n",
       " 'OFF',\n",
       " 'OFF',\n",
       " 'NOT_OFF',\n",
       " 'OFF',\n",
       " 'NOT_OFF',\n",
       " 'NOT_OFF',\n",
       " 'NOT_OFF',\n",
       " 'NOT_OFF',\n",
       " 'OFF',\n",
       " 'OFF',\n",
       " 'OFF',\n",
       " 'NOT_OFF',\n",
       " 'NOT_OFF',\n",
       " 'NOT_OFF',\n",
       " 'NOT_OFF',\n",
       " 'NOT_OFF',\n",
       " 'NOT_OFF',\n",
       " 'NOT_OFF',\n",
       " 'NOT_OFF',\n",
       " 'OFF',\n",
       " 'NOT_OFF',\n",
       " 'OFF',\n",
       " 'NOT_OFF',\n",
       " 'NOT_OFF',\n",
       " 'OFF',\n",
       " 'OFF',\n",
       " 'OFF',\n",
       " 'NOT_OFF',\n",
       " 'NOT_OFF',\n",
       " 'NOT_OFF',\n",
       " 'NOT_OFF',\n",
       " 'NOT_OFF',\n",
       " 'NOT_OFF',\n",
       " 'NOT_OFF',\n",
       " 'OFF',\n",
       " 'NOT_OFF',\n",
       " 'NOT_OFF',\n",
       " 'NOT_OFF',\n",
       " 'NOT_OFF',\n",
       " 'OFF',\n",
       " 'OFF',\n",
       " 'OFF',\n",
       " 'NOT_OFF',\n",
       " 'OFF',\n",
       " 'OFF',\n",
       " 'NOT_OFF',\n",
       " 'NOT_OFF',\n",
       " 'OFF',\n",
       " 'OFF',\n",
       " 'NOT_OFF',\n",
       " 'OFF',\n",
       " 'OFF',\n",
       " 'NOT_OFF',\n",
       " 'NOT_OFF',\n",
       " 'OFF',\n",
       " 'OFF',\n",
       " 'NOT_OFF',\n",
       " 'NOT_OFF',\n",
       " 'OFF',\n",
       " 'OFF',\n",
       " 'NOT_OFF',\n",
       " 'OFF',\n",
       " 'NOT_OFF',\n",
       " 'NOT_OFF',\n",
       " 'NOT_OFF',\n",
       " 'OFF',\n",
       " 'NOT_OFF',\n",
       " 'OFF',\n",
       " 'OFF',\n",
       " 'NOT_OFF',\n",
       " 'NOT_OFF',\n",
       " 'NOT_OFF',\n",
       " 'NOT_OFF',\n",
       " 'NOT_OFF',\n",
       " 'OFF',\n",
       " 'OFF',\n",
       " 'NOT_OFF',\n",
       " 'OFF',\n",
       " 'OFF',\n",
       " 'OFF',\n",
       " 'OFF',\n",
       " 'NOT_OFF',\n",
       " 'NOT_OFF',\n",
       " 'NOT_OFF',\n",
       " 'NOT_OFF',\n",
       " 'NOT_OFF',\n",
       " 'OFF',\n",
       " 'NOT_OFF',\n",
       " 'OFF',\n",
       " 'OFF',\n",
       " 'NOT_OFF',\n",
       " 'OFF',\n",
       " 'NOT_OFF',\n",
       " 'OFF',\n",
       " 'NOT_OFF',\n",
       " 'NOT_OFF',\n",
       " 'NOT_OFF',\n",
       " 'NOT_OFF',\n",
       " 'OFF',\n",
       " 'NOT_OFF',\n",
       " 'NOT_OFF',\n",
       " 'OFF',\n",
       " 'NOT_OFF',\n",
       " 'NOT_OFF',\n",
       " 'NOT_OFF',\n",
       " 'OFF',\n",
       " 'OFF',\n",
       " 'OFF',\n",
       " 'NOT_OFF',\n",
       " 'OFF',\n",
       " 'OFF',\n",
       " 'NOT_OFF',\n",
       " 'NOT_OFF',\n",
       " 'OFF',\n",
       " 'NOT_OFF',\n",
       " 'OFF',\n",
       " 'NOT_OFF',\n",
       " 'NOT_OFF',\n",
       " 'NOT_OFF',\n",
       " 'NOT_OFF',\n",
       " 'NOT_OFF',\n",
       " 'NOT_OFF',\n",
       " 'NOT_OFF',\n",
       " 'OFF',\n",
       " 'OFF',\n",
       " 'NOT_OFF',\n",
       " 'NOT_OFF',\n",
       " 'NOT_OFF',\n",
       " 'NOT_OFF',\n",
       " 'NOT_OFF',\n",
       " 'OFF',\n",
       " 'NOT_OFF',\n",
       " 'OFF',\n",
       " 'OFF',\n",
       " 'NOT_OFF',\n",
       " 'NOT_OFF',\n",
       " 'NOT_OFF',\n",
       " 'NOT_OFF',\n",
       " 'NOT_OFF',\n",
       " 'NOT_OFF',\n",
       " 'NOT_OFF',\n",
       " 'NOT_OFF',\n",
       " 'NOT_OFF',\n",
       " 'NOT_OFF',\n",
       " 'NOT_OFF',\n",
       " 'NOT_OFF',\n",
       " 'OFF',\n",
       " 'NOT_OFF',\n",
       " 'NOT_OFF',\n",
       " 'OFF',\n",
       " 'OFF',\n",
       " 'NOT_OFF',\n",
       " 'OFF',\n",
       " 'NOT_OFF',\n",
       " 'NOT_OFF',\n",
       " 'NOT_OFF',\n",
       " 'OFF',\n",
       " 'NOT_OFF',\n",
       " 'NOT_OFF',\n",
       " 'OFF',\n",
       " 'NOT_OFF',\n",
       " 'NOT_OFF',\n",
       " 'NOT_OFF',\n",
       " 'NOT_OFF',\n",
       " 'NOT_OFF',\n",
       " 'NOT_OFF',\n",
       " 'OFF',\n",
       " 'NOT_OFF',\n",
       " 'OFF',\n",
       " 'NOT_OFF',\n",
       " 'NOT_OFF',\n",
       " 'NOT_OFF',\n",
       " 'NOT_OFF',\n",
       " 'OFF',\n",
       " 'NOT_OFF',\n",
       " 'NOT_OFF',\n",
       " 'OFF',\n",
       " 'OFF',\n",
       " 'OFF',\n",
       " 'OFF',\n",
       " 'NOT_OFF',\n",
       " 'NOT_OFF',\n",
       " 'NOT_OFF',\n",
       " 'NOT_OFF',\n",
       " 'NOT_OFF',\n",
       " 'NOT_OFF',\n",
       " 'OFF',\n",
       " 'NOT_OFF',\n",
       " 'NOT_OFF',\n",
       " 'OFF',\n",
       " 'NOT_OFF',\n",
       " 'NOT_OFF',\n",
       " 'OFF',\n",
       " 'NOT_OFF',\n",
       " 'OFF',\n",
       " 'NOT_OFF',\n",
       " 'NOT_OFF',\n",
       " 'OFF',\n",
       " 'NOT_OFF',\n",
       " 'NOT_OFF',\n",
       " 'NOT_OFF',\n",
       " 'NOT_OFF',\n",
       " 'NOT_OFF',\n",
       " 'NOT_OFF',\n",
       " 'OFF',\n",
       " 'NOT_OFF',\n",
       " 'NOT_OFF',\n",
       " 'NOT_OFF',\n",
       " 'OFF',\n",
       " 'NOT_OFF',\n",
       " 'NOT_OFF',\n",
       " 'OFF',\n",
       " 'OFF',\n",
       " 'NOT_OFF',\n",
       " 'NOT_OFF',\n",
       " 'NOT_OFF',\n",
       " 'NOT_OFF',\n",
       " 'NOT_OFF',\n",
       " 'OFF',\n",
       " 'NOT_OFF',\n",
       " 'NOT_OFF',\n",
       " 'NOT_OFF',\n",
       " 'NOT_OFF',\n",
       " 'OFF',\n",
       " 'OFF',\n",
       " 'NOT_OFF',\n",
       " 'NOT_OFF',\n",
       " 'NOT_OFF',\n",
       " 'NOT_OFF',\n",
       " 'OFF',\n",
       " 'OFF',\n",
       " 'OFF',\n",
       " 'NOT_OFF',\n",
       " 'OFF',\n",
       " 'NOT_OFF',\n",
       " 'NOT_OFF',\n",
       " 'NOT_OFF',\n",
       " 'NOT_OFF',\n",
       " 'NOT_OFF',\n",
       " 'NOT_OFF',\n",
       " 'NOT_OFF',\n",
       " 'OFF',\n",
       " 'OFF',\n",
       " 'NOT_OFF',\n",
       " 'NOT_OFF',\n",
       " 'NOT_OFF',\n",
       " 'NOT_OFF',\n",
       " 'NOT_OFF',\n",
       " 'OFF',\n",
       " 'OFF',\n",
       " 'OFF',\n",
       " 'OFF',\n",
       " 'NOT_OFF',\n",
       " 'OFF',\n",
       " 'NOT_OFF',\n",
       " 'NOT_OFF',\n",
       " 'NOT_OFF',\n",
       " 'OFF',\n",
       " 'OFF',\n",
       " 'NOT_OFF',\n",
       " 'OFF',\n",
       " 'NOT_OFF',\n",
       " 'OFF',\n",
       " 'NOT_OFF',\n",
       " 'NOT_OFF',\n",
       " 'NOT_OFF',\n",
       " 'NOT_OFF',\n",
       " 'OFF',\n",
       " 'OFF',\n",
       " 'NOT_OFF',\n",
       " 'OFF',\n",
       " 'NOT_OFF',\n",
       " 'NOT_OFF',\n",
       " 'NOT_OFF',\n",
       " 'NOT_OFF',\n",
       " 'OFF',\n",
       " 'OFF',\n",
       " 'NOT_OFF',\n",
       " 'NOT_OFF',\n",
       " 'NOT_OFF',\n",
       " 'NOT_OFF',\n",
       " 'OFF',\n",
       " 'NOT_OFF',\n",
       " 'OFF',\n",
       " 'OFF',\n",
       " 'NOT_OFF',\n",
       " 'NOT_OFF',\n",
       " 'NOT_OFF',\n",
       " 'NOT_OFF',\n",
       " 'NOT_OFF',\n",
       " 'NOT_OFF',\n",
       " 'NOT_OFF',\n",
       " 'NOT_OFF',\n",
       " 'NOT_OFF',\n",
       " 'NOT_OFF',\n",
       " 'OFF',\n",
       " 'OFF',\n",
       " 'NOT_OFF',\n",
       " 'NOT_OFF',\n",
       " 'OFF',\n",
       " 'NOT_OFF',\n",
       " 'OFF',\n",
       " 'NOT_OFF',\n",
       " 'NOT_OFF',\n",
       " 'NOT_OFF',\n",
       " 'NOT_OFF',\n",
       " 'NOT_OFF',\n",
       " 'NOT_OFF',\n",
       " 'OFF',\n",
       " 'NOT_OFF',\n",
       " 'NOT_OFF',\n",
       " 'NOT_OFF',\n",
       " 'NOT_OFF',\n",
       " 'NOT_OFF',\n",
       " 'NOT_OFF',\n",
       " 'OFF',\n",
       " 'OFF',\n",
       " 'OFF',\n",
       " 'NOT_OFF',\n",
       " 'OFF',\n",
       " 'NOT_OFF',\n",
       " 'NOT_OFF',\n",
       " 'NOT_OFF',\n",
       " 'OFF',\n",
       " 'NOT_OFF',\n",
       " 'NOT_OFF',\n",
       " 'NOT_OFF',\n",
       " 'NOT_OFF',\n",
       " 'NOT_OFF',\n",
       " 'OFF',\n",
       " 'NOT_OFF',\n",
       " 'OFF',\n",
       " 'OFF',\n",
       " 'NOT_OFF',\n",
       " 'NOT_OFF',\n",
       " 'OFF',\n",
       " 'OFF',\n",
       " 'NOT_OFF',\n",
       " 'NOT_OFF',\n",
       " 'NOT_OFF',\n",
       " 'NOT_OFF',\n",
       " 'NOT_OFF',\n",
       " 'NOT_OFF',\n",
       " 'NOT_OFF',\n",
       " 'NOT_OFF',\n",
       " 'OFF',\n",
       " 'NOT_OFF',\n",
       " 'NOT_OFF',\n",
       " 'NOT_OFF',\n",
       " 'NOT_OFF',\n",
       " 'NOT_OFF',\n",
       " 'OFF',\n",
       " 'NOT_OFF',\n",
       " 'OFF',\n",
       " 'NOT_OFF',\n",
       " 'NOT_OFF',\n",
       " 'NOT_OFF',\n",
       " 'NOT_OFF',\n",
       " 'NOT_OFF',\n",
       " 'OFF',\n",
       " 'OFF',\n",
       " 'NOT_OFF',\n",
       " 'OFF',\n",
       " 'OFF',\n",
       " 'NOT_OFF',\n",
       " 'NOT_OFF',\n",
       " 'OFF',\n",
       " 'NOT_OFF',\n",
       " 'NOT_OFF',\n",
       " 'NOT_OFF',\n",
       " 'NOT_OFF',\n",
       " 'NOT_OFF',\n",
       " 'OFF',\n",
       " 'NOT_OFF',\n",
       " 'NOT_OFF',\n",
       " 'OFF',\n",
       " 'NOT_OFF',\n",
       " 'NOT_OFF',\n",
       " 'NOT_OFF',\n",
       " 'NOT_OFF',\n",
       " 'NOT_OFF',\n",
       " 'NOT_OFF',\n",
       " 'OFF',\n",
       " 'OFF',\n",
       " 'NOT_OFF',\n",
       " 'NOT_OFF',\n",
       " 'OFF',\n",
       " 'NOT_OFF',\n",
       " 'NOT_OFF',\n",
       " 'NOT_OFF',\n",
       " 'NOT_OFF',\n",
       " 'NOT_OFF',\n",
       " 'NOT_OFF',\n",
       " 'NOT_OFF',\n",
       " 'NOT_OFF',\n",
       " 'NOT_OFF',\n",
       " 'NOT_OFF',\n",
       " 'NOT_OFF',\n",
       " 'OFF',\n",
       " 'OFF',\n",
       " 'NOT_OFF',\n",
       " 'NOT_OFF',\n",
       " 'NOT_OFF',\n",
       " 'NOT_OFF',\n",
       " 'OFF',\n",
       " 'OFF',\n",
       " 'NOT_OFF',\n",
       " 'NOT_OFF',\n",
       " 'NOT_OFF',\n",
       " 'NOT_OFF',\n",
       " 'OFF',\n",
       " 'NOT_OFF',\n",
       " 'NOT_OFF',\n",
       " 'NOT_OFF',\n",
       " 'OFF',\n",
       " 'NOT_OFF',\n",
       " 'NOT_OFF',\n",
       " 'OFF',\n",
       " 'OFF',\n",
       " 'OFF',\n",
       " 'OFF',\n",
       " 'NOT_OFF',\n",
       " 'NOT_OFF',\n",
       " 'NOT_OFF',\n",
       " 'OFF',\n",
       " 'OFF',\n",
       " 'OFF',\n",
       " 'NOT_OFF',\n",
       " 'OFF',\n",
       " 'OFF',\n",
       " 'NOT_OFF',\n",
       " 'OFF',\n",
       " 'OFF',\n",
       " 'NOT_OFF',\n",
       " 'NOT_OFF',\n",
       " 'NOT_OFF',\n",
       " 'OFF',\n",
       " 'NOT_OFF',\n",
       " 'OFF',\n",
       " 'NOT_OFF',\n",
       " 'OFF',\n",
       " 'OFF',\n",
       " 'NOT_OFF',\n",
       " 'NOT_OFF',\n",
       " 'OFF',\n",
       " 'OFF',\n",
       " 'OFF',\n",
       " 'NOT_OFF',\n",
       " 'NOT_OFF',\n",
       " 'NOT_OFF',\n",
       " 'OFF',\n",
       " 'NOT_OFF',\n",
       " 'NOT_OFF',\n",
       " 'NOT_OFF',\n",
       " 'NOT_OFF',\n",
       " 'OFF',\n",
       " 'NOT_OFF',\n",
       " 'NOT_OFF',\n",
       " 'NOT_OFF',\n",
       " 'NOT_OFF',\n",
       " 'NOT_OFF',\n",
       " 'OFF',\n",
       " 'NOT_OFF',\n",
       " 'NOT_OFF',\n",
       " 'NOT_OFF',\n",
       " 'OFF',\n",
       " 'NOT_OFF',\n",
       " 'OFF',\n",
       " 'NOT_OFF',\n",
       " 'NOT_OFF',\n",
       " 'NOT_OFF',\n",
       " 'OFF',\n",
       " 'OFF',\n",
       " 'NOT_OFF',\n",
       " 'NOT_OFF',\n",
       " 'NOT_OFF',\n",
       " 'NOT_OFF',\n",
       " 'OFF',\n",
       " 'NOT_OFF',\n",
       " 'NOT_OFF',\n",
       " 'OFF',\n",
       " 'NOT_OFF',\n",
       " 'NOT_OFF',\n",
       " 'NOT_OFF',\n",
       " 'OFF',\n",
       " 'OFF',\n",
       " 'OFF',\n",
       " 'NOT_OFF',\n",
       " 'NOT_OFF',\n",
       " 'NOT_OFF',\n",
       " 'NOT_OFF',\n",
       " 'OFF',\n",
       " 'NOT_OFF',\n",
       " 'NOT_OFF',\n",
       " 'OFF',\n",
       " 'OFF',\n",
       " 'OFF',\n",
       " 'OFF',\n",
       " 'NOT_OFF',\n",
       " 'OFF',\n",
       " 'NOT_OFF',\n",
       " 'OFF',\n",
       " 'NOT_OFF',\n",
       " 'NOT_OFF',\n",
       " 'NOT_OFF',\n",
       " 'NOT_OFF',\n",
       " 'OFF',\n",
       " 'OFF',\n",
       " 'NOT_OFF',\n",
       " 'OFF',\n",
       " 'OFF',\n",
       " 'OFF',\n",
       " 'NOT_OFF',\n",
       " 'OFF',\n",
       " 'NOT_OFF',\n",
       " 'NOT_OFF',\n",
       " 'NOT_OFF',\n",
       " 'NOT_OFF',\n",
       " 'NOT_OFF',\n",
       " 'NOT_OFF',\n",
       " 'NOT_OFF',\n",
       " 'OFF',\n",
       " 'NOT_OFF',\n",
       " 'NOT_OFF',\n",
       " 'NOT_OFF',\n",
       " 'NOT_OFF',\n",
       " 'NOT_OFF',\n",
       " 'OFF',\n",
       " 'OFF',\n",
       " 'NOT_OFF',\n",
       " 'OFF',\n",
       " 'NOT_OFF',\n",
       " 'NOT_OFF',\n",
       " 'NOT_OFF',\n",
       " 'NOT_OFF',\n",
       " 'NOT_OFF',\n",
       " 'NOT_OFF',\n",
       " 'NOT_OFF',\n",
       " 'NOT_OFF',\n",
       " 'NOT_OFF',\n",
       " 'NOT_OFF',\n",
       " 'OFF',\n",
       " 'NOT_OFF',\n",
       " 'NOT_OFF',\n",
       " 'NOT_OFF',\n",
       " 'OFF',\n",
       " 'NOT_OFF',\n",
       " 'OFF',\n",
       " 'OFF',\n",
       " 'NOT_OFF',\n",
       " 'NOT_OFF',\n",
       " 'NOT_OFF',\n",
       " 'NOT_OFF',\n",
       " 'NOT_OFF',\n",
       " 'NOT_OFF',\n",
       " 'OFF',\n",
       " 'NOT_OFF',\n",
       " 'NOT_OFF',\n",
       " 'NOT_OFF',\n",
       " 'OFF',\n",
       " 'NOT_OFF',\n",
       " 'NOT_OFF',\n",
       " 'OFF',\n",
       " 'OFF',\n",
       " 'OFF',\n",
       " 'OFF',\n",
       " 'NOT_OFF',\n",
       " 'NOT_OFF',\n",
       " 'NOT_OFF',\n",
       " 'OFF',\n",
       " 'NOT_OFF',\n",
       " 'NOT_OFF',\n",
       " 'NOT_OFF',\n",
       " 'OFF',\n",
       " 'NOT_OFF',\n",
       " 'NOT_OFF',\n",
       " 'NOT_OFF',\n",
       " 'NOT_OFF',\n",
       " 'OFF',\n",
       " 'NOT_OFF',\n",
       " 'OFF',\n",
       " 'OFF',\n",
       " 'OFF',\n",
       " 'NOT_OFF',\n",
       " 'NOT_OFF',\n",
       " 'NOT_OFF',\n",
       " 'NOT_OFF',\n",
       " 'OFF',\n",
       " 'NOT_OFF',\n",
       " 'NOT_OFF',\n",
       " 'OFF',\n",
       " 'NOT_OFF',\n",
       " 'NOT_OFF',\n",
       " 'NOT_OFF',\n",
       " 'NOT_OFF',\n",
       " 'NOT_OFF',\n",
       " 'NOT_OFF',\n",
       " 'NOT_OFF',\n",
       " 'NOT_OFF',\n",
       " 'OFF',\n",
       " 'NOT_OFF',\n",
       " 'OFF',\n",
       " 'NOT_OFF',\n",
       " 'OFF',\n",
       " 'NOT_OFF',\n",
       " 'NOT_OFF',\n",
       " 'NOT_OFF',\n",
       " 'OFF',\n",
       " 'NOT_OFF',\n",
       " 'NOT_OFF',\n",
       " 'NOT_OFF',\n",
       " 'NOT_OFF',\n",
       " 'NOT_OFF',\n",
       " 'NOT_OFF',\n",
       " 'NOT_OFF',\n",
       " 'NOT_OFF',\n",
       " 'NOT_OFF',\n",
       " 'NOT_OFF',\n",
       " 'OFF',\n",
       " 'NOT_OFF',\n",
       " 'NOT_OFF',\n",
       " 'NOT_OFF',\n",
       " 'NOT_OFF',\n",
       " 'NOT_OFF',\n",
       " 'OFF',\n",
       " 'NOT_OFF',\n",
       " 'OFF',\n",
       " 'NOT_OFF',\n",
       " 'NOT_OFF',\n",
       " 'NOT_OFF',\n",
       " 'NOT_OFF',\n",
       " 'NOT_OFF',\n",
       " 'OFF',\n",
       " 'NOT_OFF',\n",
       " 'NOT_OFF',\n",
       " 'NOT_OFF',\n",
       " 'NOT_OFF',\n",
       " 'NOT_OFF',\n",
       " 'OFF',\n",
       " 'OFF',\n",
       " 'OFF',\n",
       " 'NOT_OFF',\n",
       " 'NOT_OFF',\n",
       " 'NOT_OFF',\n",
       " 'NOT_OFF',\n",
       " 'OFF',\n",
       " 'NOT_OFF',\n",
       " 'NOT_OFF',\n",
       " 'NOT_OFF',\n",
       " 'NOT_OFF',\n",
       " 'OFF',\n",
       " 'OFF',\n",
       " 'NOT_OFF',\n",
       " 'NOT_OFF',\n",
       " 'OFF',\n",
       " 'NOT_OFF',\n",
       " 'OFF',\n",
       " 'NOT_OFF',\n",
       " 'OFF',\n",
       " 'OFF',\n",
       " 'NOT_OFF',\n",
       " 'NOT_OFF',\n",
       " 'NOT_OFF',\n",
       " 'NOT_OFF',\n",
       " 'NOT_OFF',\n",
       " 'NOT_OFF',\n",
       " 'OFF',\n",
       " 'OFF',\n",
       " 'NOT_OFF',\n",
       " 'NOT_OFF',\n",
       " 'NOT_OFF',\n",
       " 'NOT_OFF',\n",
       " 'NOT_OFF',\n",
       " 'OFF',\n",
       " 'NOT_OFF',\n",
       " 'NOT_OFF',\n",
       " 'NOT_OFF',\n",
       " 'NOT_OFF',\n",
       " 'NOT_OFF',\n",
       " 'OFF',\n",
       " 'OFF',\n",
       " 'OFF',\n",
       " 'NOT_OFF',\n",
       " 'NOT_OFF',\n",
       " 'NOT_OFF',\n",
       " 'OFF',\n",
       " 'OFF',\n",
       " 'OFF',\n",
       " 'NOT_OFF',\n",
       " 'NOT_OFF',\n",
       " 'OFF',\n",
       " 'OFF',\n",
       " 'NOT_OFF',\n",
       " 'NOT_OFF',\n",
       " 'NOT_OFF',\n",
       " 'NOT_OFF',\n",
       " 'OFF',\n",
       " 'NOT_OFF',\n",
       " 'OFF',\n",
       " 'NOT_OFF',\n",
       " 'OFF',\n",
       " 'OFF',\n",
       " 'OFF',\n",
       " 'NOT_OFF',\n",
       " 'NOT_OFF',\n",
       " 'NOT_OFF',\n",
       " 'OFF',\n",
       " 'NOT_OFF',\n",
       " 'NOT_OFF',\n",
       " 'NOT_OFF',\n",
       " 'NOT_OFF',\n",
       " 'NOT_OFF',\n",
       " 'OFF',\n",
       " 'OFF',\n",
       " 'NOT_OFF',\n",
       " 'NOT_OFF',\n",
       " 'OFF',\n",
       " 'OFF',\n",
       " 'OFF',\n",
       " 'NOT_OFF',\n",
       " 'NOT_OFF',\n",
       " 'NOT_OFF',\n",
       " 'NOT_OFF',\n",
       " 'NOT_OFF',\n",
       " 'OFF',\n",
       " 'OFF',\n",
       " 'NOT_OFF',\n",
       " 'NOT_OFF',\n",
       " 'NOT_OFF',\n",
       " 'NOT_OFF',\n",
       " 'NOT_OFF',\n",
       " 'NOT_OFF',\n",
       " 'NOT_OFF',\n",
       " 'OFF',\n",
       " 'NOT_OFF',\n",
       " 'NOT_OFF',\n",
       " 'NOT_OFF',\n",
       " 'NOT_OFF',\n",
       " 'NOT_OFF',\n",
       " 'NOT_OFF',\n",
       " 'NOT_OFF',\n",
       " 'NOT_OFF',\n",
       " 'NOT_OFF',\n",
       " 'NOT_OFF',\n",
       " 'NOT_OFF',\n",
       " 'NOT_OFF',\n",
       " 'NOT_OFF',\n",
       " 'NOT_OFF',\n",
       " 'OFF',\n",
       " 'NOT_OFF',\n",
       " 'NOT_OFF',\n",
       " 'NOT_OFF',\n",
       " 'NOT_OFF',\n",
       " 'NOT_OFF',\n",
       " 'NOT_OFF',\n",
       " 'NOT_OFF',\n",
       " 'NOT_OFF',\n",
       " 'NOT_OFF',\n",
       " 'OFF',\n",
       " 'NOT_OFF',\n",
       " 'OFF',\n",
       " 'NOT_OFF',\n",
       " 'OFF',\n",
       " 'NOT_OFF',\n",
       " 'NOT_OFF',\n",
       " 'NOT_OFF',\n",
       " 'NOT_OFF',\n",
       " 'NOT_OFF',\n",
       " 'OFF',\n",
       " 'NOT_OFF',\n",
       " 'NOT_OFF',\n",
       " 'OFF',\n",
       " 'NOT_OFF',\n",
       " 'OFF',\n",
       " 'OFF',\n",
       " 'OFF',\n",
       " 'NOT_OFF',\n",
       " 'NOT_OFF',\n",
       " 'OFF',\n",
       " 'NOT_OFF',\n",
       " 'OFF',\n",
       " 'OFF',\n",
       " 'NOT_OFF',\n",
       " 'OFF',\n",
       " 'NOT_OFF',\n",
       " 'OFF',\n",
       " 'OFF',\n",
       " 'NOT_OFF',\n",
       " 'NOT_OFF',\n",
       " 'OFF',\n",
       " 'NOT_OFF',\n",
       " 'NOT_OFF',\n",
       " 'NOT_OFF',\n",
       " 'NOT_OFF',\n",
       " 'OFF',\n",
       " 'NOT_OFF',\n",
       " 'NOT_OFF',\n",
       " 'NOT_OFF',\n",
       " 'OFF',\n",
       " 'NOT_OFF',\n",
       " 'OFF',\n",
       " 'OFF',\n",
       " 'OFF',\n",
       " 'NOT_OFF',\n",
       " 'NOT_OFF',\n",
       " 'NOT_OFF',\n",
       " 'OFF',\n",
       " 'NOT_OFF',\n",
       " 'NOT_OFF',\n",
       " 'OFF',\n",
       " 'OFF',\n",
       " 'OFF',\n",
       " 'NOT_OFF',\n",
       " 'NOT_OFF',\n",
       " 'NOT_OFF',\n",
       " 'OFF',\n",
       " 'OFF',\n",
       " 'NOT_OFF',\n",
       " 'OFF',\n",
       " 'NOT_OFF',\n",
       " 'OFF',\n",
       " 'OFF',\n",
       " 'OFF',\n",
       " 'NOT_OFF',\n",
       " 'OFF',\n",
       " 'OFF',\n",
       " 'NOT_OFF',\n",
       " 'OFF',\n",
       " 'NOT_OFF',\n",
       " 'NOT_OFF',\n",
       " 'NOT_OFF',\n",
       " 'OFF',\n",
       " 'OFF',\n",
       " 'NOT_OFF',\n",
       " 'OFF',\n",
       " 'NOT_OFF',\n",
       " 'NOT_OFF',\n",
       " 'OFF',\n",
       " 'OFF',\n",
       " 'OFF',\n",
       " 'NOT_OFF',\n",
       " 'OFF',\n",
       " 'OFF',\n",
       " 'OFF',\n",
       " 'NOT_OFF',\n",
       " 'NOT_OFF',\n",
       " 'NOT_OFF',\n",
       " 'NOT_OFF',\n",
       " 'NOT_OFF',\n",
       " 'OFF',\n",
       " 'OFF',\n",
       " 'NOT_OFF',\n",
       " 'OFF',\n",
       " 'OFF',\n",
       " 'NOT_OFF',\n",
       " 'NOT_OFF',\n",
       " 'NOT_OFF',\n",
       " 'NOT_OFF',\n",
       " 'NOT_OFF',\n",
       " 'NOT_OFF',\n",
       " 'NOT_OFF',\n",
       " 'NOT_OFF',\n",
       " 'NOT_OFF',\n",
       " 'NOT_OFF',\n",
       " 'NOT_OFF',\n",
       " 'NOT_OFF',\n",
       " 'OFF',\n",
       " 'OFF',\n",
       " 'OFF',\n",
       " 'NOT_OFF',\n",
       " 'OFF',\n",
       " 'NOT_OFF',\n",
       " 'NOT_OFF',\n",
       " 'NOT_OFF',\n",
       " 'NOT_OFF',\n",
       " 'NOT_OFF',\n",
       " 'NOT_OFF',\n",
       " 'NOT_OFF',\n",
       " 'NOT_OFF',\n",
       " 'NOT_OFF',\n",
       " 'NOT_OFF',\n",
       " 'NOT_OFF',\n",
       " 'NOT_OFF',\n",
       " 'NOT_OFF',\n",
       " 'NOT_OFF',\n",
       " 'NOT_OFF',\n",
       " 'OFF',\n",
       " 'NOT_OFF',\n",
       " 'NOT_OFF',\n",
       " 'NOT_OFF',\n",
       " 'OFF',\n",
       " 'NOT_OFF',\n",
       " 'NOT_OFF',\n",
       " 'NOT_OFF',\n",
       " 'NOT_OFF',\n",
       " 'OFF',\n",
       " 'OFF',\n",
       " 'OFF',\n",
       " 'OFF',\n",
       " 'NOT_OFF',\n",
       " 'NOT_OFF',\n",
       " 'NOT_OFF',\n",
       " 'NOT_OFF',\n",
       " 'OFF',\n",
       " 'NOT_OFF',\n",
       " 'NOT_OFF',\n",
       " 'NOT_OFF',\n",
       " 'OFF',\n",
       " 'NOT_OFF',\n",
       " 'NOT_OFF',\n",
       " 'NOT_OFF',\n",
       " 'NOT_OFF',\n",
       " 'OFF',\n",
       " 'NOT_OFF',\n",
       " 'OFF',\n",
       " 'NOT_OFF',\n",
       " 'OFF',\n",
       " 'NOT_OFF',\n",
       " 'NOT_OFF',\n",
       " 'OFF',\n",
       " 'NOT_OFF',\n",
       " 'OFF',\n",
       " 'NOT_OFF',\n",
       " 'OFF',\n",
       " 'OFF',\n",
       " 'OFF',\n",
       " 'NOT_OFF',\n",
       " 'NOT_OFF',\n",
       " 'NOT_OFF',\n",
       " 'NOT_OFF',\n",
       " 'OFF',\n",
       " 'NOT_OFF',\n",
       " 'NOT_OFF',\n",
       " 'NOT_OFF',\n",
       " 'NOT_OFF',\n",
       " 'NOT_OFF',\n",
       " 'NOT_OFF',\n",
       " 'OFF',\n",
       " 'OFF',\n",
       " 'NOT_OFF',\n",
       " 'NOT_OFF',\n",
       " 'OFF',\n",
       " 'NOT_OFF',\n",
       " 'NOT_OFF',\n",
       " 'NOT_OFF',\n",
       " 'NOT_OFF',\n",
       " 'OFF',\n",
       " 'NOT_OFF',\n",
       " 'OFF',\n",
       " 'NOT_OFF',\n",
       " 'OFF',\n",
       " 'OFF',\n",
       " 'OFF',\n",
       " 'NOT_OFF',\n",
       " ...]"
      ]
     },
     "execution_count": 63,
     "metadata": {},
     "output_type": "execute_result"
    }
   ],
   "source": [
    "preds"
   ]
  },
  {
   "cell_type": "code",
   "execution_count": 64,
   "id": "593f93ed-3ee5-43f9-9139-22e356a47d45",
   "metadata": {},
   "outputs": [],
   "source": [
    "with open(\"/home/ashapiro/Hate_speech_task/preds_test.txt\", \"w\") as outfile:\n",
    "    outfile.write(\"\\n\".join(preds))"
   ]
  },
  {
   "cell_type": "markdown",
   "id": "6fcddfe2-e25e-401e-8aec-59ce3dc83877",
   "metadata": {},
   "source": [
    "## Top 5"
   ]
  },
  {
   "cell_type": "code",
   "execution_count": 41,
   "id": "7c5620ca-54f5-4cb0-9444-c8cea5bffdcc",
   "metadata": {},
   "outputs": [
    {
     "name": "stderr",
     "output_type": "stream",
     "text": [
      "100%|██████████| 5/5 [00:17<00:00,  3.55s/it]"
     ]
    },
    {
     "name": "stdout",
     "output_type": "stream",
     "text": [
      "              precision    recall  f1-score   support\n",
      "\n",
      "           0       0.92      0.90      0.91       866\n",
      "           1       0.79      0.82      0.81       404\n",
      "\n",
      "    accuracy                           0.88      1270\n",
      "   macro avg       0.86      0.86      0.86      1270\n",
      "weighted avg       0.88      0.88      0.88      1270\n",
      "\n"
     ]
    },
    {
     "name": "stderr",
     "output_type": "stream",
     "text": [
      "\n"
     ]
    }
   ],
   "source": [
    "df, models_output = ensemble(model_lists=models_list ,test_df=test)\n",
    "print(classification_report(y_true=df.true.values, y_pred=df.pred.values))"
   ]
  },
  {
   "cell_type": "code",
   "execution_count": 42,
   "id": "56d0ffcd-099f-4436-aa58-37d3f9a777bf",
   "metadata": {},
   "outputs": [
    {
     "name": "stderr",
     "output_type": "stream",
     "text": [
      "100%|██████████| 5/5 [00:15<00:00,  3.19s/it]"
     ]
    },
    {
     "name": "stdout",
     "output_type": "stream",
     "text": [
      "              precision    recall  f1-score   support\n",
      "\n",
      "           0       0.90      0.92      0.91       866\n",
      "           1       0.81      0.78      0.79       404\n",
      "\n",
      "    accuracy                           0.87      1270\n",
      "   macro avg       0.86      0.85      0.85      1270\n",
      "weighted avg       0.87      0.87      0.87      1270\n",
      "\n"
     ]
    },
    {
     "name": "stderr",
     "output_type": "stream",
     "text": [
      "\n"
     ]
    },
    {
     "data": {
      "image/png": "[encoded data removed]",
      "text/plain": [
       "<Figure size 432x288 with 2 Axes>"
      ]
     },
     "metadata": {
      "needs_background": "light"
     },
     "output_type": "display_data"
    }
   ],
   "source": [
    "classifier = LogisticRegression()\n",
    "df, classifier = get_weighted_ensemble_data(model_lists=models_list ,test_df=test, classifier=classifier)"
   ]
  },
  {
   "cell_type": "markdown",
   "id": "1c421c5b-0536-450b-8ac4-163a693054c4",
   "metadata": {},
   "source": [
    "# Trial"
   ]
  },
  {
   "cell_type": "code",
   "execution_count": 22,
   "id": "a6f30a80-4650-4f4d-9646-cbfbb12ee731",
   "metadata": {},
   "outputs": [
    {
     "name": "stdout",
     "output_type": "stream",
     "text": [
      "/scratch/mt/ashapiro/Hate_Speech\n"
     ]
    }
   ],
   "source": [
    "%cd /scratch/mt/ashapiro/Hate_Speech/\n",
    "\n",
    "from contrastive_utils import *\n",
    "import seaborn as sns\n",
    "from sklearn.metrics import classification_report, confusion_matrix\n",
    "from transformers import pipeline\n",
    "import pandas as pd\n",
    "from tqdm.autonotebook import tqdm\n",
    "from sklearn import svm\n",
    "from sklearn.pipeline import make_pipeline\n",
    "from sklearn.preprocessing import StandardScaler\n",
    "from sklearn.svm import SVC\n",
    "from sklearn.utils.class_weight import compute_class_weight"
   ]
  },
  {
   "cell_type": "code",
   "execution_count": 3,
   "id": "d6e0c65c-42ac-48e6-b1ac-27f807bbe5df",
   "metadata": {},
   "outputs": [],
   "source": [
    "train, test = getData(sub_task=\"A\", pre_proccessed=True, return_type=\"pandas\")kernel="
   ]
  },
  {
   "cell_type": "code",
   "execution_count": 2,
   "id": "0f71e2b0-a248-40c5-a8fc-51e2fdc7c711",
   "metadata": {},
   "outputs": [],
   "source": [
    "model = SentenceTransformer(\"./Checkpoints/SentenceBert/MarbertV2_OnlineContrastive_50K/\")"
   ]
  },
  {
   "cell_type": "code",
   "execution_count": null,
   "id": "9bd3e568-39dc-449e-ad98-57cc425521b6",
   "metadata": {},
   "outputs": [],
   "source": [
    "train.labels.values"
   ]
  },
  {
   "cell_type": "code",
   "execution_count": 4,
   "id": "9780ec52-543f-4a84-ae27-8cd98bb8a6fa",
   "metadata": {},
   "outputs": [],
   "source": [
    "X_train, y_train= model.encode(list(train.text.values)), train.labels.values"
   ]
  },
  {
   "cell_type": "code",
   "execution_count": 13,
   "id": "b993fb75-7f9f-4e07-97be-1ae71ef0143f",
   "metadata": {},
   "outputs": [],
   "source": [
    "X_test, y_test= model.encode(list(test.text.values)), test.labels.values"
   ]
  },
  {
   "cell_type": "code",
   "execution_count": 23,
   "id": "7858d48c-7bc6-4df7-b61f-16ea8bc86c5a",
   "metadata": {},
   "outputs": [
    {
     "data": {
      "text/plain": [
       "Pipeline(steps=[('standardscaler', StandardScaler()),\n",
       "                ('svc', SVC(class_weight={0: 0.77751531, 1: 1.4008512}))])"
      ]
     },
     "execution_count": 23,
     "metadata": {},
     "output_type": "execute_result"
    }
   ],
   "source": [
    "clf = make_pipeline(StandardScaler(), SVC(kernel='rbf', class_weight={0:0.77751531, 1:1.4008512}))\n",
    "clf.fit(X_train, y_train)"
   ]
  },
  {
   "cell_type": "code",
   "execution_count": 24,
   "id": "a28d77c4-9787-4f26-a59d-c01ffa15db22",
   "metadata": {},
   "outputs": [],
   "source": [
    "y_pred = clf.predict(X_test)"
   ]
  },
  {
   "cell_type": "code",
   "execution_count": 17,
   "id": "722677ec-54a6-4af8-afdd-4c5d1d561605",
   "metadata": {},
   "outputs": [
    {
     "name": "stdout",
     "output_type": "stream",
     "text": [
      "              precision    recall  f1-score   support\n",
      "\n",
      "           0       0.91      0.90      0.90       866\n",
      "           1       0.79      0.80      0.80       404\n",
      "\n",
      "    accuracy                           0.87      1270\n",
      "   macro avg       0.85      0.85      0.85      1270\n",
      "weighted avg       0.87      0.87      0.87      1270\n",
      "\n"
     ]
    }
   ],
   "source": [
    "print(classification_report(y_true=y_test, y_pred=y_pred))"
   ]
  },
  {
   "cell_type": "code",
   "execution_count": 25,
   "id": "5fc2ae19-e740-40a5-9a50-4a96ac5f5e98",
   "metadata": {},
   "outputs": [
    {
     "name": "stdout",
     "output_type": "stream",
     "text": [
      "              precision    recall  f1-score   support\n",
      "\n",
      "           0       0.91      0.90      0.90       866\n",
      "           1       0.79      0.81      0.80       404\n",
      "\n",
      "    accuracy                           0.87      1270\n",
      "   macro avg       0.85      0.85      0.85      1270\n",
      "weighted avg       0.87      0.87      0.87      1270\n",
      "\n"
     ]
    }
   ],
   "source": [
    "print(classification_report(y_true=y_test, y_pred=y_pred))"
   ]
  },
  {
   "cell_type": "code",
   "execution_count": 41,
   "id": "383f36e8-bd28-4e04-85b3-a7da671f8341",
   "metadata": {},
   "outputs": [],
   "source": [
    "from sklearn.ensemble import RandomForestClassifier, AdaBoostClassifier, BaggingClassifier, ExtraTreesClassifier, GradientBoostingClassifier, StackingClassifier, VotingClassifier"
   ]
  },
  {
   "cell_type": "code",
   "execution_count": 47,
   "id": "9b9849e8-1a2c-4825-a5f7-371acbd515c6",
   "metadata": {},
   "outputs": [],
   "source": [
    "clfs = [RandomForestClassifier(), AdaBoostClassifier(), BaggingClassifier(), ExtraTreesClassifier(), GradientBoostingClassifier()]"
   ]
  },
  {
   "cell_type": "code",
   "execution_count": 48,
   "id": "3eb5ed8b-834e-4c8f-b499-efc891b12a0d",
   "metadata": {},
   "outputs": [
    {
     "name": "stdout",
     "output_type": "stream",
     "text": [
      "==================================================================\n",
      "RandomForestClassifier()\n",
      "              precision    recall  f1-score   support\n",
      "\n",
      "           0       0.92      0.88      0.90       866\n",
      "           1       0.76      0.83      0.79       404\n",
      "\n",
      "    accuracy                           0.86      1270\n",
      "   macro avg       0.84      0.85      0.85      1270\n",
      "weighted avg       0.87      0.86      0.86      1270\n",
      "\n",
      "==================================================================\n",
      "==================================================================\n",
      "AdaBoostClassifier()\n",
      "              precision    recall  f1-score   support\n",
      "\n",
      "           0       0.92      0.87      0.89       866\n",
      "           1       0.75      0.83      0.79       404\n",
      "\n",
      "    accuracy                           0.86      1270\n",
      "   macro avg       0.83      0.85      0.84      1270\n",
      "weighted avg       0.86      0.86      0.86      1270\n",
      "\n",
      "==================================================================\n",
      "==================================================================\n",
      "BaggingClassifier()\n",
      "              precision    recall  f1-score   support\n",
      "\n",
      "           0       0.91      0.88      0.90       866\n",
      "           1       0.77      0.82      0.79       404\n",
      "\n",
      "    accuracy                           0.86      1270\n",
      "   macro avg       0.84      0.85      0.85      1270\n",
      "weighted avg       0.87      0.86      0.87      1270\n",
      "\n",
      "==================================================================\n",
      "==================================================================\n",
      "ExtraTreesClassifier()\n",
      "              precision    recall  f1-score   support\n",
      "\n",
      "           0       0.92      0.88      0.90       866\n",
      "           1       0.76      0.83      0.79       404\n",
      "\n",
      "    accuracy                           0.86      1270\n",
      "   macro avg       0.84      0.85      0.84      1270\n",
      "weighted avg       0.87      0.86      0.86      1270\n",
      "\n",
      "==================================================================\n",
      "==================================================================\n",
      "GradientBoostingClassifier()\n",
      "              precision    recall  f1-score   support\n",
      "\n",
      "           0       0.91      0.89      0.90       866\n",
      "           1       0.77      0.81      0.79       404\n",
      "\n",
      "    accuracy                           0.86      1270\n",
      "   macro avg       0.84      0.85      0.85      1270\n",
      "weighted avg       0.87      0.86      0.87      1270\n",
      "\n",
      "==================================================================\n"
     ]
    }
   ],
   "source": [
    "for clf in clfs :\n",
    "    print(\"==================================================================\")\n",
    "    print(str(clf).split('.')[-1])\n",
    "    clf.fit(X = X_train, y = y_train)\n",
    "    y_pred = clf.predict(X_test)\n",
    "    print(classification_report(y_true=y_test, y_pred=y_pred))\n",
    "    print(\"==================================================================\")"
   ]
  },
  {
   "cell_type": "code",
   "execution_count": 51,
   "id": "b2247aa8-eb93-41f6-b8dc-ce4eea4e3a7e",
   "metadata": {},
   "outputs": [],
   "source": [
    "stacked = StackingClassifier(estimators=[('EC',ExtraTreesClassifier()),('GB',GradientBoostingClassifier()), ('BC',BaggingClassifier())])"
   ]
  },
  {
   "cell_type": "code",
   "execution_count": 52,
   "id": "ac915511-c9c0-422f-93b5-292b79e2223d",
   "metadata": {},
   "outputs": [
    {
     "name": "stdout",
     "output_type": "stream",
     "text": [
      "              precision    recall  f1-score   support\n",
      "\n",
      "           0       0.91      0.89      0.90       866\n",
      "           1       0.77      0.82      0.79       404\n",
      "\n",
      "    accuracy                           0.87      1270\n",
      "   macro avg       0.84      0.85      0.85      1270\n",
      "weighted avg       0.87      0.87      0.87      1270\n",
      "\n",
      "==================================================================\n"
     ]
    }
   ],
   "source": [
    "stacked.fit(X = X_train, y = y_train)\n",
    "y_pred = stacked.predict(X_test)\n",
    "print(classification_report(y_true=y_test, y_pred=y_pred))\n",
    "print(\"==================================================================\")"
   ]
  },
  {
   "cell_type": "code",
   "execution_count": null,
   "id": "792c5c13-bc65-4b31-b634-c56f09e54a34",
   "metadata": {},
   "outputs": [],
   "source": []
  }
 ],
 "metadata": {
  "kernelspec": {
   "display_name": "MT-Jupyter",
   "language": "python",
   "name": "mt-jupyter"
  },
  "language_info": {
   "codemirror_mode": {
    "name": "ipython",
    "version": 3
   },
   "file_extension": ".py",
   "mimetype": "text/x-python",
   "name": "python",
   "nbconvert_exporter": "python",
   "pygments_lexer": "ipython3",
   "version": "3.8.6"
  }
 },
 "nbformat": 4,
 "nbformat_minor": 5
}
