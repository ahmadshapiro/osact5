{
 "cells": [
  {
   "cell_type": "code",
   "execution_count": 24,
   "id": "f085b91c-406a-4916-86ab-5304f61d570e",
   "metadata": {},
   "outputs": [],
   "source": [
    "import pandas as pd\n",
    "import numpy as np\n",
    "import os\n",
    "import seaborn as sns\n",
    "import matplotlib.pyplot as plt"
   ]
  },
  {
   "cell_type": "code",
   "execution_count": 3,
   "id": "0b84e5d5-838e-44d6-b18d-69e7252022ac",
   "metadata": {},
   "outputs": [],
   "source": [
    "QADI_PATH = \"/scratch/mt/new-structure/datasets/classification/dialect_identification/QADI_Corpus/dataset/text_data\""
   ]
  },
  {
   "cell_type": "code",
   "execution_count": 7,
   "id": "12b1b2e3-0dc3-4351-b4ce-fae7b9245231",
   "metadata": {},
   "outputs": [],
   "source": [
    "paths = os.listdir(QADI_PATH)"
   ]
  },
  {
   "cell_type": "code",
   "execution_count": 6,
   "id": "561e24b4-bffd-40a0-9531-4fec268ab9db",
   "metadata": {},
   "outputs": [],
   "source": [
    "code_dict = {\"OM\":\"Oman\",\n",
    "\"PL\":\"Palestine\",\n",
    "\"LB\":\"Lebanon\",\n",
    "\"SA\":\"Saudi Arabia\",\n",
    "\"QA\":\"Qatar\",\n",
    "\"BH\":\"Bahrain\",\n",
    "\"LY\":\"Libya\",\n",
    "\"DZ\":\"Algeria\",\n",
    "\"YE\":\"Yemen\",\n",
    "\"KW\":\"Kuwait\",\n",
    "\"SD\":\"Sudan\",\n",
    "\"SY\":\"Syria\",\n",
    "\"JO\":\"Jordan\",\n",
    "\"TN\":\"Tunisia\",\n",
    "\"AE\":\"UAE\",\n",
    "\"IQ\":\"Iraq\",\n",
    "\"MA\":\"Morocco\",\n",
    "\"EG\":\"Egypt\"\n",
    "}"
   ]
  },
  {
   "cell_type": "code",
   "execution_count": 19,
   "id": "3065d8ee-3bbc-44df-934d-65c6f9dba679",
   "metadata": {},
   "outputs": [],
   "source": [
    "data = {\"text\":[],\"code\":[],\"country\":[]}\n",
    "for path in paths : \n",
    "    file = open(os.path.join(QADI_PATH, path)).readlines()\n",
    "    texts = list(map(lambda x: x.strip(), file))\n",
    "    countryCode = path.split(\".\")[0]\n",
    "    countryName = code_dict[countryCode]\n",
    "    data['text'].extend(file)\n",
    "    data['code'].extend([countryCode]*len(file))\n",
    "    data['country'].extend([countryName]*len(file))\n",
    "df = pd.DataFrame.from_dict(data)"
   ]
  },
  {
   "cell_type": "code",
   "execution_count": 20,
   "id": "dc2b571d-8200-4fe6-b7a1-1233f4e8771d",
   "metadata": {},
   "outputs": [
    {
     "data": {
      "text/html": [
       "<div>\n",
       "<style scoped>\n",
       "    .dataframe tbody tr th:only-of-type {\n",
       "        vertical-align: middle;\n",
       "    }\n",
       "\n",
       "    .dataframe tbody tr th {\n",
       "        vertical-align: top;\n",
       "    }\n",
       "\n",
       "    .dataframe thead th {\n",
       "        text-align: right;\n",
       "    }\n",
       "</style>\n",
       "<table border=\"1\" class=\"dataframe\">\n",
       "  <thead>\n",
       "    <tr style=\"text-align: right;\">\n",
       "      <th></th>\n",
       "      <th>text</th>\n",
       "      <th>code</th>\n",
       "      <th>country</th>\n",
       "    </tr>\n",
       "  </thead>\n",
       "  <tbody>\n",
       "    <tr>\n",
       "      <th>0</th>\n",
       "      <td>@alshahri_mohmed طمنا عليك و على الأهل في صوب ...</td>\n",
       "      <td>OM</td>\n",
       "      <td>Oman</td>\n",
       "    </tr>\n",
       "    <tr>\n",
       "      <th>1</th>\n",
       "      <td>@rashadwahaibi كل حد يدور بحبته\\n</td>\n",
       "      <td>OM</td>\n",
       "      <td>Oman</td>\n",
       "    </tr>\n",
       "    <tr>\n",
       "      <th>2</th>\n",
       "      <td>@ialmukhtar مشتري من عنده كم كيلو وهميين؟\\n</td>\n",
       "      <td>OM</td>\n",
       "      <td>Oman</td>\n",
       "    </tr>\n",
       "    <tr>\n",
       "      <th>3</th>\n",
       "      <td>@RashAli @HilalAlBadi @jahwary @bnalrashdi @AQ...</td>\n",
       "      <td>OM</td>\n",
       "      <td>Oman</td>\n",
       "    </tr>\n",
       "    <tr>\n",
       "      <th>4</th>\n",
       "      <td>@Abdullah_AlAbri @Mo_balushi @SwardRa @Ha_Maaw...</td>\n",
       "      <td>OM</td>\n",
       "      <td>Oman</td>\n",
       "    </tr>\n",
       "    <tr>\n",
       "      <th>...</th>\n",
       "      <td>...</td>\n",
       "      <td>...</td>\n",
       "      <td>...</td>\n",
       "    </tr>\n",
       "    <tr>\n",
       "      <th>452998</th>\n",
       "      <td>@mycousinvinnyys @hanyamikhail1 متهيالي دي شكو...</td>\n",
       "      <td>EG</td>\n",
       "      <td>Egypt</td>\n",
       "    </tr>\n",
       "    <tr>\n",
       "      <th>452999</th>\n",
       "      <td>@mycousinvinnyys @diamond_mamy ماعرفش  لايصح غ...</td>\n",
       "      <td>EG</td>\n",
       "      <td>Egypt</td>\n",
       "    </tr>\n",
       "    <tr>\n",
       "      <th>453000</th>\n",
       "      <td>@MahmoudWaked7 @maganenoo في طريق مطروح مركز ب...</td>\n",
       "      <td>EG</td>\n",
       "      <td>Egypt</td>\n",
       "    </tr>\n",
       "    <tr>\n",
       "      <th>453001</th>\n",
       "      <td>@FayedSasa للاسف شعب يجري وراء الازمات بيحبوا ...</td>\n",
       "      <td>EG</td>\n",
       "      <td>Egypt</td>\n",
       "    </tr>\n",
       "    <tr>\n",
       "      <th>453002</th>\n",
       "      <td>@hanaramzy62 ردی بیکون هاتفرق معاک فی ایه\\n</td>\n",
       "      <td>EG</td>\n",
       "      <td>Egypt</td>\n",
       "    </tr>\n",
       "  </tbody>\n",
       "</table>\n",
       "<p>453003 rows × 3 columns</p>\n",
       "</div>"
      ],
      "text/plain": [
       "                                                     text code country\n",
       "0       @alshahri_mohmed طمنا عليك و على الأهل في صوب ...   OM    Oman\n",
       "1                       @rashadwahaibi كل حد يدور بحبته\\n   OM    Oman\n",
       "2             @ialmukhtar مشتري من عنده كم كيلو وهميين؟\\n   OM    Oman\n",
       "3       @RashAli @HilalAlBadi @jahwary @bnalrashdi @AQ...   OM    Oman\n",
       "4       @Abdullah_AlAbri @Mo_balushi @SwardRa @Ha_Maaw...   OM    Oman\n",
       "...                                                   ...  ...     ...\n",
       "452998  @mycousinvinnyys @hanyamikhail1 متهيالي دي شكو...   EG   Egypt\n",
       "452999  @mycousinvinnyys @diamond_mamy ماعرفش  لايصح غ...   EG   Egypt\n",
       "453000  @MahmoudWaked7 @maganenoo في طريق مطروح مركز ب...   EG   Egypt\n",
       "453001  @FayedSasa للاسف شعب يجري وراء الازمات بيحبوا ...   EG   Egypt\n",
       "453002        @hanaramzy62 ردی بیکون هاتفرق معاک فی ایه\\n   EG   Egypt\n",
       "\n",
       "[453003 rows x 3 columns]"
      ]
     },
     "execution_count": 20,
     "metadata": {},
     "output_type": "execute_result"
    }
   ],
   "source": [
    "df"
   ]
  },
  {
   "cell_type": "code",
   "execution_count": 29,
   "id": "50ec130e-8804-4595-a119-a1d8ab527d72",
   "metadata": {},
   "outputs": [
    {
     "data": {
      "text/plain": [
       "<matplotlib.axes._subplots.AxesSubplot at 0x7ffdf8a8cb50>"
      ]
     },
     "execution_count": 29,
     "metadata": {},
     "output_type": "execute_result"
    },
    {
     "data": {
      "image/png": "[encoded data removed]",
      "text/plain": [
       "<Figure size 1440x720 with 1 Axes>"
      ]
     },
     "metadata": {
      "needs_background": "light"
     },
     "output_type": "display_data"
    }
   ],
   "source": [
    "plt.figure(figsize=(20,10))\n",
    "sns.countplot(data=df, x='country')"
   ]
  },
  {
   "cell_type": "code",
   "execution_count": null,
   "id": "c97772c8-b0c6-4312-ba4a-1161ed079919",
   "metadata": {},
   "outputs": [],
   "source": []
  }
 ],
 "metadata": {
  "kernelspec": {
   "display_name": "MT-Jupyter-CPU",
   "language": "python",
   "name": "jupyter-cpu"
  },
  "language_info": {
   "codemirror_mode": {
    "name": "ipython",
    "version": 3
   },
   "file_extension": ".py",
   "mimetype": "text/x-python",
   "name": "python",
   "nbconvert_exporter": "python",
   "pygments_lexer": "ipython3",
   "version": "3.8.6"
  }
 },
 "nbformat": 4,
 "nbformat_minor": 5
}
