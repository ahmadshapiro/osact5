{
 "cells": [
  {
   "cell_type": "code",
   "execution_count": 12,
   "id": "94b86d08",
   "metadata": {},
   "outputs": [],
   "source": [
    "from tqdm.autonotebook import trange \n",
    "import warnings\n"
   ]
  },
  {
   "cell_type": "code",
   "execution_count": 14,
   "id": "72b3f6f8",
   "metadata": {},
   "outputs": [
    {
     "data": {
      "application/vnd.jupyter.widget-view+json": {
       "model_id": "51312407548d4161b7de208ce2521854",
       "version_major": 2,
       "version_minor": 0
      },
      "text/plain": [
       "  0%|          | 0/10 [00:00<?, ?it/s]"
      ]
     },
     "metadata": {},
     "output_type": "display_data"
    },
    {
     "name": "stderr",
     "output_type": "stream",
     "text": [
      "/tmp/ipykernel_103611/1474422060.py:2: UserWarning: Warning...........Message\n",
      "  warnings.warn(\"Warning...........Message\")\n"
     ]
    }
   ],
   "source": [
    "for i in trange(10, disable =not True):\n",
    "    warnings.warn(\"Warning...........Message\")\n",
    "    pass"
   ]
  },
  {
   "cell_type": "code",
   "execution_count": null,
   "id": "98040d0f",
   "metadata": {},
   "outputs": [],
   "source": []
  }
 ],
 "metadata": {
  "kernelspec": {
   "display_name": "Python 3 (ipykernel)",
   "language": "python",
   "name": "python3"
  },
  "language_info": {
   "codemirror_mode": {
    "name": "ipython",
    "version": 3
   },
   "file_extension": ".py",
   "mimetype": "text/x-python",
   "name": "python",
   "nbconvert_exporter": "python",
   "pygments_lexer": "ipython3",
   "version": "3.9.7"
  }
 },
 "nbformat": 4,
 "nbformat_minor": 5
}
