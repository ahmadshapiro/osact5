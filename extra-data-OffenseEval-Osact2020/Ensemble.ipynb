{
 "cells": [
  {
   "cell_type": "code",
   "execution_count": 1,
   "id": "184ba81d-2574-4b3b-a30d-7fd2a1177902",
   "metadata": {},
   "outputs": [
    {
     "name": "stdout",
     "output_type": "stream",
     "text": [
      "/scratch/mt/ashapiro/Hate_Speech\n"
     ]
    }
   ],
   "source": [
    "%cd /scratch/mt/ashapiro/Hate_Speech/\n",
    "from contrastive_utils import *\n",
    "import seaborn as sns\n",
    "from sklearn.metrics import classification_report, confusion_matrix\n",
    "from transformers import pipeline\n",
    "import pandas as pd\n",
    "from tqdm.autonotebook import tqdm"
   ]
  },
  {
   "cell_type": "code",
   "execution_count": 15,
   "id": "96e8658c-902e-4307-a180-04c8279a534a",
   "metadata": {},
   "outputs": [],
   "source": [
    "def plot_cf(cf_matrix):\n",
    "    ax = sns.heatmap(cf_matrix, annot=True, cmap='Blues',fmt=\"d\")\n",
    "    ax.set_title('Seaborn Confusion Matrix with labels\\n\\n');\n",
    "    ax.set_xlabel('\\nPredicted Values')\n",
    "    ax.set_ylabel('Actual Values ');\n",
    "    ## Ticket labels - List must be in alphabetical order\n",
    "    ax.xaxis.set_ticklabels(['False','True'])\n",
    "    ax.yaxis.set_ticklabels(['False','True'])\n",
    "    ## Display the visualization of the Confusion Matrix.\n",
    "    plt.show()"
   ]
  },
  {
   "cell_type": "code",
   "execution_count": 21,
   "id": "db85a0be-14e2-4992-98f7-348c2d908e45",
   "metadata": {},
   "outputs": [],
   "source": [
    "\n",
    "    \n",
    "def _proccess_one(preds):\n",
    "    temp_data = {'score_0':[], 'score_1':[]}\n",
    "    for pred in preds:\n",
    "        label = int(pred['label'].split('_')[-1])\n",
    "        \n",
    "        if label == 0 :\n",
    "            score_0 = pred['score']\n",
    "            score_1 = 1 - score_0\n",
    "        else:\n",
    "            score_1 = pred['score']\n",
    "            score_0 = 1 - score_1\n",
    "\n",
    "        temp_data['score_0'].append(score_0)\n",
    "        temp_data['score_1'].append(score_1)\n",
    "    temp = pd.DataFrame.from_dict(temp_data)\n",
    "    temp['pred'] = temp.apply(lambda row: 1 if row.score_0 < row.score_1 else 0, axis=1)\n",
    "    return temp\n",
    "\n",
    "def ensemble(model_lists, test_df):\n",
    "    df = pd.DataFrame.from_dict({'score_0':[0]*len(test_df), 'score_1':[0]*len(test_df)})\n",
    "    models_outputs = {}\n",
    "    for model in tqdm(model_lists):\n",
    "        if model == marbert_classification_only_checkpoint :\n",
    "            _model = bebo.from_pretrained(model)\n",
    "        else:\n",
    "            _model = BertForSequenceClassification.from_pretrained(model)\n",
    "        _pipeline = pipeline(task=\"text-classification\", model=_model, tokenizer=model, batch_size = 64, device=0)\n",
    "        model_name = model.split('/')[-3]\n",
    "        models_outputs[model_name]= _proccess_one(_pipeline(list(test_df.text.values)))\n",
    "        df = df.add(models_outputs[model_name][['score_0','score_1']])\n",
    "    df = df/len(model_lists)\n",
    "    df['tweet'] = test_df.text.values\n",
    "    df['pred'] = df.apply(lambda row: 1 if row.score_0 < row.score_1 else 0, axis=1)\n",
    "    df['true'] = test_df.labels.values\n",
    "    return df, models_outputs"
   ]
  },
  {
   "cell_type": "code",
   "execution_count": 3,
   "id": "87be1f2b-05ce-496a-9d83-b2108ccab400",
   "metadata": {},
   "outputs": [],
   "source": [
    "train, test = getData(sub_task=\"A\", pre_proccessed=True, return_type=\"pandas\")"
   ]
  },
  {
   "cell_type": "code",
   "execution_count": 4,
   "id": "860dd666-e7a9-48d2-afce-84c3126cc39f",
   "metadata": {},
   "outputs": [],
   "source": [
    "marbert_classification_only_checkpoint = \"/scratch/mt/ashapiro/Hate_Speech/Checkpoints/SentenceBert/Classifiers/Marbertv2_best/checkpoint-278/\" #0.8505582936759521\n",
    "online_contrastive_50k = \"/scratch/mt/ashapiro/Hate_Speech/Checkpoints/SentenceBert/Classifiers/MarbertV2_OnlineContrastive_50K/checkpoint-1807/\" #0.850946919178447\n",
    "contrastive_50k = \"/scratch/mt/ashapiro/Hate_Speech/Checkpoints/SentenceBert/Classifiers/MarbertV2_Contrastive_50K/checkpoint-1251/\" #0.849672373705347\n",
    "batch_all_triplet = \"/scratch/mt/ashapiro/Hate_Speech/Checkpoints/SentenceBert/Classifiers/BatchAllTripletLoss/checkpoint-1946/\" #0.847643942694422\n",
    "online_contrastive_1m = \"/scratch/mt/ashapiro/Hate_Speech/Checkpoints/SentenceBert/Classifiers/MarbertV2_OnlineContrastive_1M/checkpoint-1946/\" #0.847271070115216\n",
    "models_list = [marbert_classification_only_checkpoint, \n",
    "               online_contrastive_50k, \n",
    "               contrastive_50k,\n",
    "               batch_all_triplet,\n",
    "               online_contrastive_1m\n",
    "              ]\n",
    "reproduce = [marbert_classification_only_checkpoint, contrastive_50k, batch_all_triplet]"
   ]
  },
  {
   "cell_type": "markdown",
   "id": "475f54d4-e7a9-4e2a-8eeb-4ed9834a37ae",
   "metadata": {},
   "source": [
    "## Reproduce "
   ]
  },
  {
   "cell_type": "markdown",
   "id": "f5f88db2-3bd8-4061-92cd-c652df5a560d",
   "metadata": {},
   "source": [
    "## Top 2"
   ]
  },
  {
   "cell_type": "code",
   "execution_count": 13,
   "id": "c5f2c1e8-f669-4480-9af6-7f5c498df72d",
   "metadata": {},
   "outputs": [
    {
     "name": "stderr",
     "output_type": "stream",
     "text": [
      "100%|██████████| 2/2 [00:09<00:00,  4.62s/it]"
     ]
    },
    {
     "name": "stdout",
     "output_type": "stream",
     "text": [
      "              precision    recall  f1-score   support\n",
      "\n",
      "           0       0.91      0.90      0.90       866\n",
      "           1       0.79      0.81      0.80       404\n",
      "\n",
      "    accuracy                           0.87      1270\n",
      "   macro avg       0.85      0.85      0.85      1270\n",
      "weighted avg       0.87      0.87      0.87      1270\n",
      "\n"
     ]
    },
    {
     "name": "stderr",
     "output_type": "stream",
     "text": [
      "\n"
     ]
    }
   ],
   "source": [
    "df, models_output = ensemble(model_lists=models_list[:2] ,test_df=train)\n",
    "print(classification_report(y_true=df.true.values, y_pred=df.pred.values))"
   ]
  },
  {
   "cell_type": "markdown",
   "id": "678ee1c7-6082-4dd0-abf2-3f65c7a5936e",
   "metadata": {},
   "source": [
    "## Top 3"
   ]
  },
  {
   "cell_type": "code",
   "execution_count": 14,
   "id": "d8153b9b-c315-40a9-b6c4-898ab24528d9",
   "metadata": {},
   "outputs": [
    {
     "name": "stderr",
     "output_type": "stream",
     "text": [
      "100%|██████████| 3/3 [00:13<00:00,  4.53s/it]"
     ]
    },
    {
     "name": "stdout",
     "output_type": "stream",
     "text": [
      "              precision    recall  f1-score   support\n",
      "\n",
      "           0       0.91      0.90      0.91       866\n",
      "           1       0.80      0.81      0.80       404\n",
      "\n",
      "    accuracy                           0.87      1270\n",
      "   macro avg       0.85      0.86      0.85      1270\n",
      "weighted avg       0.87      0.87      0.87      1270\n",
      "\n"
     ]
    },
    {
     "name": "stderr",
     "output_type": "stream",
     "text": [
      "\n"
     ]
    }
   ],
   "source": [
    "df, models_output = ensemble(model_lists=models_list[:3] ,test_df=test)\n",
    "print(classification_report(y_true=df.true.values, y_pred=df.pred.values))"
   ]
  },
  {
   "cell_type": "markdown",
   "id": "3da5440e-f645-473d-ae91-386169705b70",
   "metadata": {},
   "source": [
    "## Top 4"
   ]
  },
  {
   "cell_type": "code",
   "execution_count": 15,
   "id": "2f3201b2-7199-4e95-9dc4-f0c6dc514e0e",
   "metadata": {},
   "outputs": [
    {
     "name": "stderr",
     "output_type": "stream",
     "text": [
      "100%|██████████| 4/4 [00:18<00:00,  4.54s/it]"
     ]
    },
    {
     "name": "stdout",
     "output_type": "stream",
     "text": [
      "              precision    recall  f1-score   support\n",
      "\n",
      "           0       0.91      0.90      0.91       866\n",
      "           1       0.79      0.81      0.80       404\n",
      "\n",
      "    accuracy                           0.87      1270\n",
      "   macro avg       0.85      0.86      0.85      1270\n",
      "weighted avg       0.87      0.87      0.87      1270\n",
      "\n"
     ]
    },
    {
     "name": "stderr",
     "output_type": "stream",
     "text": [
      "\n"
     ]
    }
   ],
   "source": [
    "df, models_output = ensemble(model_lists=models_list[:4] ,test_df=test)\n",
    "print(classification_report(y_true=df.true.values, y_pred=df.pred.values))"
   ]
  },
  {
   "cell_type": "markdown",
   "id": "6fcddfe2-e25e-401e-8aec-59ce3dc83877",
   "metadata": {},
   "source": [
    "## Top 5"
   ]
  },
  {
   "cell_type": "code",
   "execution_count": 18,
   "id": "7c5620ca-54f5-4cb0-9444-c8cea5bffdcc",
   "metadata": {},
   "outputs": [
    {
     "name": "stderr",
     "output_type": "stream",
     "text": [
      "100%|██████████| 5/5 [01:11<00:00, 14.38s/it]"
     ]
    },
    {
     "name": "stdout",
     "output_type": "stream",
     "text": [
      "              precision    recall  f1-score   support\n",
      "\n",
      "           0       0.68      1.00      0.81      5715\n",
      "           1       1.00      0.14      0.25      3172\n",
      "\n",
      "    accuracy                           0.69      8887\n",
      "   macro avg       0.84      0.57      0.53      8887\n",
      "weighted avg       0.79      0.69      0.61      8887\n",
      "\n"
     ]
    },
    {
     "name": "stderr",
     "output_type": "stream",
     "text": [
      "\n"
     ]
    }
   ],
   "source": [
    "df, models_output = ensemble(model_lists=models_list ,test_df=test)\n",
    "print(classification_report(y_true=df.true.values, y_pred=df.pred.values))"
   ]
  },
  {
   "cell_type": "code",
   "execution_count": 17,
   "id": "56d0ffcd-099f-4436-aa58-37d3f9a777bf",
   "metadata": {},
   "outputs": [
    {
     "name": "stdout",
     "output_type": "stream",
     "text": [
      "Marbertv2_best\n",
      "              precision    recall  f1-score   support\n",
      "\n",
      "           0       0.91      0.90      0.90       866\n",
      "           1       0.79      0.80      0.80       404\n",
      "\n",
      "    accuracy                           0.87      1270\n",
      "   macro avg       0.85      0.85      0.85      1270\n",
      "weighted avg       0.87      0.87      0.87      1270\n",
      "\n"
     ]
    },
    {
     "data": {
      "image/png": "[encoded data removed]",
      "text/plain": [
       "<Figure size 432x288 with 2 Axes>"
      ]
     },
     "metadata": {
      "needs_background": "light"
     },
     "output_type": "display_data"
    },
    {
     "name": "stdout",
     "output_type": "stream",
     "text": [
      "=====================================================================\n",
      "MarbertV2_OnlineContrastive_50K\n",
      "              precision    recall  f1-score   support\n",
      "\n",
      "           0       0.91      0.90      0.90       866\n",
      "           1       0.79      0.80      0.80       404\n",
      "\n",
      "    accuracy                           0.87      1270\n",
      "   macro avg       0.85      0.85      0.85      1270\n",
      "weighted avg       0.87      0.87      0.87      1270\n",
      "\n"
     ]
    },
    {
     "data": {
      "image/png": "[encoded data removed]",
      "text/plain": [
       "<Figure size 432x288 with 2 Axes>"
      ]
     },
     "metadata": {
      "needs_background": "light"
     },
     "output_type": "display_data"
    },
    {
     "name": "stdout",
     "output_type": "stream",
     "text": [
      "=====================================================================\n",
      "MarbertV2_Contrastive_50K\n",
      "              precision    recall  f1-score   support\n",
      "\n",
      "           0       0.91      0.89      0.90       866\n",
      "           1       0.78      0.82      0.80       404\n",
      "\n",
      "    accuracy                           0.87      1270\n",
      "   macro avg       0.85      0.85      0.85      1270\n",
      "weighted avg       0.87      0.87      0.87      1270\n",
      "\n"
     ]
    },
    {
     "data": {
      "image/png": "[encoded data removed]",
      "text/plain": [
       "<Figure size 432x288 with 2 Axes>"
      ]
     },
     "metadata": {
      "needs_background": "light"
     },
     "output_type": "display_data"
    },
    {
     "name": "stdout",
     "output_type": "stream",
     "text": [
      "=====================================================================\n",
      "BatchAllTripletLoss\n",
      "              precision    recall  f1-score   support\n",
      "\n",
      "           0       0.92      0.88      0.90       866\n",
      "           1       0.77      0.82      0.80       404\n",
      "\n",
      "    accuracy                           0.87      1270\n",
      "   macro avg       0.84      0.85      0.85      1270\n",
      "weighted avg       0.87      0.87      0.87      1270\n",
      "\n"
     ]
    },
    {
     "data": {
      "image/png": "[encoded data removed]",
      "text/plain": [
       "<Figure size 432x288 with 2 Axes>"
      ]
     },
     "metadata": {
      "needs_background": "light"
     },
     "output_type": "display_data"
    },
    {
     "name": "stdout",
     "output_type": "stream",
     "text": [
      "=====================================================================\n",
      "MarbertV2_OnlineContrastive_1M\n",
      "              precision    recall  f1-score   support\n",
      "\n",
      "           0       0.91      0.89      0.90       866\n",
      "           1       0.77      0.82      0.79       404\n",
      "\n",
      "    accuracy                           0.87      1270\n",
      "   macro avg       0.84      0.85      0.85      1270\n",
      "weighted avg       0.87      0.87      0.87      1270\n",
      "\n"
     ]
    },
    {
     "data": {
      "image/png": "[encoded data removed]",
      "text/plain": [
       "<Figure size 432x288 with 2 Axes>"
      ]
     },
     "metadata": {
      "needs_background": "light"
     },
     "output_type": "display_data"
    },
    {
     "name": "stdout",
     "output_type": "stream",
     "text": [
      "=====================================================================\n"
     ]
    }
   ],
   "source": [
    "for model_name, df in models_output.items():\n",
    "    print(model_name)\n",
    "    print(classification_report(y_true=test.labels.values, y_pred=df.pred.values))\n",
    "    plot_cf(confusion_matrix(test.labels.values, df.pred.values))\n",
    "    print(\"=====================================================================\")"
   ]
  },
  {
   "cell_type": "markdown",
   "id": "1c421c5b-0536-450b-8ac4-163a693054c4",
   "metadata": {},
   "source": [
    "# Trial"
   ]
  },
  {
   "cell_type": "code",
   "execution_count": 22,
   "id": "a6f30a80-4650-4f4d-9646-cbfbb12ee731",
   "metadata": {},
   "outputs": [
    {
     "name": "stdout",
     "output_type": "stream",
     "text": [
      "/scratch/mt/ashapiro/Hate_Speech\n"
     ]
    }
   ],
   "source": [
    "%cd /scratch/mt/ashapiro/Hate_Speech/\n",
    "\n",
    "from contrastive_utils import *\n",
    "import seaborn as sns\n",
    "from sklearn.metrics import classification_report, confusion_matrix\n",
    "from transformers import pipeline\n",
    "import pandas as pd\n",
    "from tqdm.autonotebook import tqdm\n",
    "from sklearn import svm\n",
    "from sklearn.pipeline import make_pipeline\n",
    "from sklearn.preprocessing import StandardScaler\n",
    "from sklearn.svm import SVC\n",
    "from sklearn.utils.class_weight import compute_class_weight"
   ]
  },
  {
   "cell_type": "code",
   "execution_count": 3,
   "id": "d6e0c65c-42ac-48e6-b1ac-27f807bbe5df",
   "metadata": {},
   "outputs": [],
   "source": [
    "train, test = getData(sub_task=\"A\", pre_proccessed=True, return_type=\"pandas\")kernel="
   ]
  },
  {
   "cell_type": "code",
   "execution_count": 2,
   "id": "0f71e2b0-a248-40c5-a8fc-51e2fdc7c711",
   "metadata": {},
   "outputs": [],
   "source": [
    "model = SentenceTransformer(\"./Checkpoints/SentenceBert/MarbertV2_OnlineContrastive_50K/\")"
   ]
  },
  {
   "cell_type": "code",
   "execution_count": null,
   "id": "9bd3e568-39dc-449e-ad98-57cc425521b6",
   "metadata": {},
   "outputs": [],
   "source": [
    "train.labels.values"
   ]
  },
  {
   "cell_type": "code",
   "execution_count": 4,
   "id": "9780ec52-543f-4a84-ae27-8cd98bb8a6fa",
   "metadata": {},
   "outputs": [],
   "source": [
    "X_train, y_train= model.encode(list(train.text.values)), train.labels.values"
   ]
  },
  {
   "cell_type": "code",
   "execution_count": 13,
   "id": "b993fb75-7f9f-4e07-97be-1ae71ef0143f",
   "metadata": {},
   "outputs": [],
   "source": [
    "X_test, y_test= model.encode(list(test.text.values)), test.labels.values"
   ]
  },
  {
   "cell_type": "code",
   "execution_count": 23,
   "id": "7858d48c-7bc6-4df7-b61f-16ea8bc86c5a",
   "metadata": {},
   "outputs": [
    {
     "data": {
      "text/plain": [
       "Pipeline(steps=[('standardscaler', StandardScaler()),\n",
       "                ('svc', SVC(class_weight={0: 0.77751531, 1: 1.4008512}))])"
      ]
     },
     "execution_count": 23,
     "metadata": {},
     "output_type": "execute_result"
    }
   ],
   "source": [
    "clf = make_pipeline(StandardScaler(), SVC(kernel='rbf', class_weight={0:0.77751531, 1:1.4008512}))\n",
    "clf.fit(X_train, y_train)"
   ]
  },
  {
   "cell_type": "code",
   "execution_count": 24,
   "id": "a28d77c4-9787-4f26-a59d-c01ffa15db22",
   "metadata": {},
   "outputs": [],
   "source": [
    "y_pred = clf.predict(X_test)"
   ]
  },
  {
   "cell_type": "code",
   "execution_count": 17,
   "id": "722677ec-54a6-4af8-afdd-4c5d1d561605",
   "metadata": {},
   "outputs": [
    {
     "name": "stdout",
     "output_type": "stream",
     "text": [
      "              precision    recall  f1-score   support\n",
      "\n",
      "           0       0.91      0.90      0.90       866\n",
      "           1       0.79      0.80      0.80       404\n",
      "\n",
      "    accuracy                           0.87      1270\n",
      "   macro avg       0.85      0.85      0.85      1270\n",
      "weighted avg       0.87      0.87      0.87      1270\n",
      "\n"
     ]
    }
   ],
   "source": [
    "print(classification_report(y_true=y_test, y_pred=y_pred))"
   ]
  },
  {
   "cell_type": "code",
   "execution_count": 25,
   "id": "5fc2ae19-e740-40a5-9a50-4a96ac5f5e98",
   "metadata": {},
   "outputs": [
    {
     "name": "stdout",
     "output_type": "stream",
     "text": [
      "              precision    recall  f1-score   support\n",
      "\n",
      "           0       0.91      0.90      0.90       866\n",
      "           1       0.79      0.81      0.80       404\n",
      "\n",
      "    accuracy                           0.87      1270\n",
      "   macro avg       0.85      0.85      0.85      1270\n",
      "weighted avg       0.87      0.87      0.87      1270\n",
      "\n"
     ]
    }
   ],
   "source": [
    "print(classification_report(y_true=y_test, y_pred=y_pred))"
   ]
  },
  {
   "cell_type": "code",
   "execution_count": 41,
   "id": "383f36e8-bd28-4e04-85b3-a7da671f8341",
   "metadata": {},
   "outputs": [],
   "source": [
    "from sklearn.ensemble import RandomForestClassifier, AdaBoostClassifier, BaggingClassifier, ExtraTreesClassifier, GradientBoostingClassifier, StackingClassifier, VotingClassifier"
   ]
  },
  {
   "cell_type": "code",
   "execution_count": 47,
   "id": "9b9849e8-1a2c-4825-a5f7-371acbd515c6",
   "metadata": {},
   "outputs": [],
   "source": [
    "clfs = [RandomForestClassifier(), AdaBoostClassifier(), BaggingClassifier(), ExtraTreesClassifier(), GradientBoostingClassifier()]"
   ]
  },
  {
   "cell_type": "code",
   "execution_count": 48,
   "id": "3eb5ed8b-834e-4c8f-b499-efc891b12a0d",
   "metadata": {},
   "outputs": [
    {
     "name": "stdout",
     "output_type": "stream",
     "text": [
      "==================================================================\n",
      "RandomForestClassifier()\n",
      "              precision    recall  f1-score   support\n",
      "\n",
      "           0       0.92      0.88      0.90       866\n",
      "           1       0.76      0.83      0.79       404\n",
      "\n",
      "    accuracy                           0.86      1270\n",
      "   macro avg       0.84      0.85      0.85      1270\n",
      "weighted avg       0.87      0.86      0.86      1270\n",
      "\n",
      "==================================================================\n",
      "==================================================================\n",
      "AdaBoostClassifier()\n",
      "              precision    recall  f1-score   support\n",
      "\n",
      "           0       0.92      0.87      0.89       866\n",
      "           1       0.75      0.83      0.79       404\n",
      "\n",
      "    accuracy                           0.86      1270\n",
      "   macro avg       0.83      0.85      0.84      1270\n",
      "weighted avg       0.86      0.86      0.86      1270\n",
      "\n",
      "==================================================================\n",
      "==================================================================\n",
      "BaggingClassifier()\n",
      "              precision    recall  f1-score   support\n",
      "\n",
      "           0       0.91      0.88      0.90       866\n",
      "           1       0.77      0.82      0.79       404\n",
      "\n",
      "    accuracy                           0.86      1270\n",
      "   macro avg       0.84      0.85      0.85      1270\n",
      "weighted avg       0.87      0.86      0.87      1270\n",
      "\n",
      "==================================================================\n",
      "==================================================================\n",
      "ExtraTreesClassifier()\n",
      "              precision    recall  f1-score   support\n",
      "\n",
      "           0       0.92      0.88      0.90       866\n",
      "           1       0.76      0.83      0.79       404\n",
      "\n",
      "    accuracy                           0.86      1270\n",
      "   macro avg       0.84      0.85      0.84      1270\n",
      "weighted avg       0.87      0.86      0.86      1270\n",
      "\n",
      "==================================================================\n",
      "==================================================================\n",
      "GradientBoostingClassifier()\n",
      "              precision    recall  f1-score   support\n",
      "\n",
      "           0       0.91      0.89      0.90       866\n",
      "           1       0.77      0.81      0.79       404\n",
      "\n",
      "    accuracy                           0.86      1270\n",
      "   macro avg       0.84      0.85      0.85      1270\n",
      "weighted avg       0.87      0.86      0.87      1270\n",
      "\n",
      "==================================================================\n"
     ]
    }
   ],
   "source": [
    "for clf in clfs :\n",
    "    print(\"==================================================================\")\n",
    "    print(str(clf).split('.')[-1])\n",
    "    clf.fit(X = X_train, y = y_train)\n",
    "    y_pred = clf.predict(X_test)\n",
    "    print(classification_report(y_true=y_test, y_pred=y_pred))\n",
    "    print(\"==================================================================\")"
   ]
  },
  {
   "cell_type": "code",
   "execution_count": 51,
   "id": "b2247aa8-eb93-41f6-b8dc-ce4eea4e3a7e",
   "metadata": {},
   "outputs": [],
   "source": [
    "stacked = StackingClassifier(estimators=[('EC',ExtraTreesClassifier()),('GB',GradientBoostingClassifier()), ('BC',BaggingClassifier())])"
   ]
  },
  {
   "cell_type": "code",
   "execution_count": 52,
   "id": "ac915511-c9c0-422f-93b5-292b79e2223d",
   "metadata": {},
   "outputs": [
    {
     "name": "stdout",
     "output_type": "stream",
     "text": [
      "              precision    recall  f1-score   support\n",
      "\n",
      "           0       0.91      0.89      0.90       866\n",
      "           1       0.77      0.82      0.79       404\n",
      "\n",
      "    accuracy                           0.87      1270\n",
      "   macro avg       0.84      0.85      0.85      1270\n",
      "weighted avg       0.87      0.87      0.87      1270\n",
      "\n",
      "==================================================================\n"
     ]
    }
   ],
   "source": [
    "stacked.fit(X = X_train, y = y_train)\n",
    "y_pred = stacked.predict(X_test)\n",
    "print(classification_report(y_true=y_test, y_pred=y_pred))\n",
    "print(\"==================================================================\")"
   ]
  },
  {
   "cell_type": "code",
   "execution_count": null,
   "id": "792c5c13-bc65-4b31-b634-c56f09e54a34",
   "metadata": {},
   "outputs": [],
   "source": []
  }
 ],
 "metadata": {
  "kernelspec": {
   "display_name": "MT-Jupyter",
   "language": "python",
   "name": "mt-jupyter"
  },
  "language_info": {
   "codemirror_mode": {
    "name": "ipython",
    "version": 3
   },
   "file_extension": ".py",
   "mimetype": "text/x-python",
   "name": "python",
   "nbconvert_exporter": "python",
   "pygments_lexer": "ipython3",
   "version": "3.8.6"
  }
 },
 "nbformat": 4,
 "nbformat_minor": 5
}
