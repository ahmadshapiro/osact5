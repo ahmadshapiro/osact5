{
 "cells": [
  {
   "cell_type": "code",
   "execution_count": 1,
   "id": "afb94afe-b598-43e9-8d01-1411a16743b5",
   "metadata": {},
   "outputs": [
    {
     "name": "stdout",
     "output_type": "stream",
     "text": [
      "/home/ashapiro/Hate_speech_task/Extra_data_offense_osacl\n"
     ]
    }
   ],
   "source": [
    "%cd Hate_speech_task/Extra_data_offense_osacl/"
   ]
  },
  {
   "cell_type": "code",
   "execution_count": 2,
   "id": "e0b28af8",
   "metadata": {},
   "outputs": [],
   "source": [
    "from utils import getData\n",
    "from datasets import load_dataset \n",
    "import pandas as pd \n",
    "from transformers import AutoTokenizer\n",
    "from transformers import DataCollatorWithPadding\n",
    "from transformers import TrainingArguments, Trainer\n",
    "from transformers import AutoModelForSequenceClassification\n",
    "from transformers import TrainingArguments, Trainer\n",
    "from datasets import load_dataset\n",
    "import pandas as pd \n",
    "import numpy as np\n",
    "import torch\n",
    "import matplotlib.pyplot as plt\n",
    "from collections import Counter\n",
    "from datasets import load_metric\n",
    "from transformers import EarlyStoppingCallback"
   ]
  },
  {
   "cell_type": "code",
   "execution_count": 4,
   "id": "c876f2a9",
   "metadata": {
    "scrolled": true
   },
   "outputs": [
    {
     "name": "stdout",
     "output_type": "stream",
     "text": [
      "Pre-Processed\n"
     ]
    },
    {
     "name": "stderr",
     "output_type": "stream",
     "text": [
      "100%|██████████| 2/2 [00:00<00:00, 600.73it/s]\n"
     ]
    }
   ],
   "source": [
    "f1 = load_metric(\"f1\")\n",
    "recall = load_metric(\"recall\")\n",
    "precision =  load_metric(\"precision\")\n",
    "def preprocess_function(examples, tok):\n",
    "    return tok(examples[\"text\"], truncation=True, max_length=512)\n",
    "\n",
    "\n",
    "def compute_metrics(p):    \n",
    "    predictions, labels = p\n",
    "    predictions = np.argmax(predictions, axis=1)\n",
    "    metric = f1.compute(predictions=predictions, references=labels, average=\"macro\")\n",
    "    metric.update(recall.compute(predictions=predictions, references=labels, average=\"macro\"))\n",
    "    metric.update(precision.compute(predictions=predictions, references=labels, average=\"macro\"))\n",
    "    return metric\n",
    "data = getData(sub_task = f\"A\", return_type = \"dataset\", pre_proccessed = True)\n",
    "tokenizer = AutoTokenizer.from_pretrained(\"/scratch/mt/ashapiro/Hate_Speech/Models/Marbertv2/\")\n",
    "data_collator = DataCollatorWithPadding(tokenizer=tokenizer)\n",
    "tokenized_data = data.map(preprocess_function,fn_kwargs = {'tok':tokenizer}, batched=True)"
   ]
  },
  {
   "cell_type": "code",
   "execution_count": 5,
   "id": "b2ad1962-7162-4605-8182-d0933987cb18",
   "metadata": {},
   "outputs": [
    {
     "data": {
      "text/plain": [
       "DatasetDict({\n",
       "    train: Dataset({\n",
       "        features: ['text', 'labels'],\n",
       "        num_rows: 10552\n",
       "    })\n",
       "    test: Dataset({\n",
       "        features: ['text', 'labels'],\n",
       "        num_rows: 1270\n",
       "    })\n",
       "})"
      ]
     },
     "execution_count": 5,
     "metadata": {},
     "output_type": "execute_result"
    }
   ],
   "source": [
    "data"
   ]
  },
  {
   "cell_type": "code",
   "execution_count": 6,
   "id": "234d6e96",
   "metadata": {},
   "outputs": [],
   "source": [
    "def model_init():\n",
    "    return AutoModelForSequenceClassification.from_pretrained(\"/scratch/mt/ashapiro/Hate_Speech/Models/Marbertv2/\", num_labels=2)"
   ]
  },
  {
   "cell_type": "code",
   "execution_count": 7,
   "id": "e5e92c17",
   "metadata": {
    "scrolled": true
   },
   "outputs": [
    {
     "name": "stderr",
     "output_type": "stream",
     "text": [
      "loading configuration file /scratch/mt/ashapiro/Hate_Speech/Models/Marbertv2/config.json\n",
      "Model config BertConfig {\n",
      "  \"_name_or_path\": \"/scratch/mt/ashapiro/Hate_Speech/Models/Marbertv2/\",\n",
      "  \"architectures\": [\n",
      "    \"BertForMaskedLM\"\n",
      "  ],\n",
      "  \"attention_probs_dropout_prob\": 0.1,\n",
      "  \"classifier_dropout\": null,\n",
      "  \"directionality\": \"bidi\",\n",
      "  \"gradient_checkpointing\": false,\n",
      "  \"hidden_act\": \"gelu\",\n",
      "  \"hidden_dropout_prob\": 0.1,\n",
      "  \"hidden_size\": 768,\n",
      "  \"initializer_range\": 0.02,\n",
      "  \"intermediate_size\": 3072,\n",
      "  \"layer_norm_eps\": 1e-12,\n",
      "  \"max_position_embeddings\": 512,\n",
      "  \"model_type\": \"bert\",\n",
      "  \"num_attention_heads\": 12,\n",
      "  \"num_hidden_layers\": 12,\n",
      "  \"pad_token_id\": 0,\n",
      "  \"pooler_fc_size\": 768,\n",
      "  \"pooler_num_attention_heads\": 12,\n",
      "  \"pooler_num_fc_layers\": 3,\n",
      "  \"pooler_size_per_head\": 128,\n",
      "  \"pooler_type\": \"first_token_transform\",\n",
      "  \"position_embedding_type\": \"absolute\",\n",
      "  \"transformers_version\": \"4.17.0\",\n",
      "  \"type_vocab_size\": 2,\n",
      "  \"use_cache\": true,\n",
      "  \"vocab_size\": 100000\n",
      "}\n",
      "\n",
      "loading weights file /scratch/mt/ashapiro/Hate_Speech/Models/Marbertv2/pytorch_model.bin\n",
      "Some weights of the model checkpoint at /scratch/mt/ashapiro/Hate_Speech/Models/Marbertv2/ were not used when initializing BertForSequenceClassification: ['cls.seq_relationship.bias', 'cls.predictions.decoder.bias', 'cls.predictions.transform.LayerNorm.weight', 'cls.seq_relationship.weight', 'cls.predictions.decoder.weight', 'cls.predictions.transform.LayerNorm.bias', 'cls.predictions.transform.dense.weight', 'cls.predictions.bias', 'cls.predictions.transform.dense.bias']\n",
      "- This IS expected if you are initializing BertForSequenceClassification from the checkpoint of a model trained on another task or with another architecture (e.g. initializing a BertForSequenceClassification model from a BertForPreTraining model).\n",
      "- This IS NOT expected if you are initializing BertForSequenceClassification from the checkpoint of a model that you expect to be exactly identical (initializing a BertForSequenceClassification model from a BertForSequenceClassification model).\n",
      "Some weights of BertForSequenceClassification were not initialized from the model checkpoint at /scratch/mt/ashapiro/Hate_Speech/Models/Marbertv2/ and are newly initialized: ['classifier.weight', 'classifier.bias']\n",
      "You should probably TRAIN this model on a down-stream task to be able to use it for predictions and inference.\n"
     ]
    }
   ],
   "source": [
    "training_args = TrainingArguments(\n",
    "    output_dir=\"./Checkpoints/MarBertv2_hyperparams\",\n",
    "    per_device_train_batch_size=32,\n",
    "    per_device_eval_batch_size=4,\n",
    "    evaluation_strategy=\"epoch\",\n",
    "    save_strategy = \"epoch\",\n",
    "    metric_for_best_model=\"f1\",\n",
    "    num_train_epochs=20,\n",
    "    weight_decay=0.01,\n",
    "    load_best_model_at_end=True,\n",
    "    group_by_length = True, \n",
    "    report_to = 'none'\n",
    "    )\n",
    "trainer = Trainer(\n",
    "    model_init=model_init,\n",
    "    args=training_args,\n",
    "    train_dataset=tokenized_data[\"train\"],\n",
    "    eval_dataset=tokenized_data[\"test\"],\n",
    "    tokenizer=tokenizer,\n",
    "    data_collator=data_collator,\n",
    "    compute_metrics=compute_metrics\n",
    ")"
   ]
  },
  {
   "cell_type": "code",
   "execution_count": 8,
   "id": "d1b54da0",
   "metadata": {},
   "outputs": [],
   "source": [
    "def my_hp_space(trial):\n",
    "    return {\n",
    "        \"learning_rate\": trial.suggest_float(\"learning_rate\", 1e-5, 1e-2, log=True),\n",
    "        \"weight_decay\" : trial.suggest_float(\"weight_decay\", 1e-10, 1e-4, log=True),\n",
    "        \"num_train_epochs\": trial.suggest_int(\"num_train_epochs\", 1, 20),\n",
    "        \"seed\": trial.suggest_int(\"seed\", 1, 50),\n",
    "        \"per_device_train_batch_size\": trial.suggest_categorical(\"per_device_train_batch_size\", [4, 8, 16, 32,64]),\n",
    "    }"
   ]
  },
  {
   "cell_type": "code",
   "execution_count": 9,
   "id": "8e61e104",
   "metadata": {
    "tags": []
   },
   "outputs": [
    {
     "name": "stderr",
     "output_type": "stream",
     "text": [
      "\u001b[32m[I 2022-03-28 21:05:46,609]\u001b[0m A new study created in memory with name: no-name-6fd228a3-ff94-4226-a56d-73957c3a978b\u001b[0m\n",
      "Trial:\n",
      "loading configuration file /scratch/mt/ashapiro/Hate_Speech/Models/Marbertv2/config.json\n",
      "Model config BertConfig {\n",
      "  \"_name_or_path\": \"/scratch/mt/ashapiro/Hate_Speech/Models/Marbertv2/\",\n",
      "  \"architectures\": [\n",
      "    \"BertForMaskedLM\"\n",
      "  ],\n",
      "  \"attention_probs_dropout_prob\": 0.1,\n",
      "  \"classifier_dropout\": null,\n",
      "  \"directionality\": \"bidi\",\n",
      "  \"gradient_checkpointing\": false,\n",
      "  \"hidden_act\": \"gelu\",\n",
      "  \"hidden_dropout_prob\": 0.1,\n",
      "  \"hidden_size\": 768,\n",
      "  \"initializer_range\": 0.02,\n",
      "  \"intermediate_size\": 3072,\n",
      "  \"layer_norm_eps\": 1e-12,\n",
      "  \"max_position_embeddings\": 512,\n",
      "  \"model_type\": \"bert\",\n",
      "  \"num_attention_heads\": 12,\n",
      "  \"num_hidden_layers\": 12,\n",
      "  \"pad_token_id\": 0,\n",
      "  \"pooler_fc_size\": 768,\n",
      "  \"pooler_num_attention_heads\": 12,\n",
      "  \"pooler_num_fc_layers\": 3,\n",
      "  \"pooler_size_per_head\": 128,\n",
      "  \"pooler_type\": \"first_token_transform\",\n",
      "  \"position_embedding_type\": \"absolute\",\n",
      "  \"transformers_version\": \"4.17.0\",\n",
      "  \"type_vocab_size\": 2,\n",
      "  \"use_cache\": true,\n",
      "  \"vocab_size\": 100000\n",
      "}\n",
      "\n",
      "loading weights file /scratch/mt/ashapiro/Hate_Speech/Models/Marbertv2/pytorch_model.bin\n",
      "Some weights of the model checkpoint at /scratch/mt/ashapiro/Hate_Speech/Models/Marbertv2/ were not used when initializing BertForSequenceClassification: ['cls.seq_relationship.bias', 'cls.predictions.decoder.bias', 'cls.predictions.transform.LayerNorm.weight', 'cls.seq_relationship.weight', 'cls.predictions.decoder.weight', 'cls.predictions.transform.LayerNorm.bias', 'cls.predictions.transform.dense.weight', 'cls.predictions.bias', 'cls.predictions.transform.dense.bias']\n",
      "- This IS expected if you are initializing BertForSequenceClassification from the checkpoint of a model trained on another task or with another architecture (e.g. initializing a BertForSequenceClassification model from a BertForPreTraining model).\n",
      "- This IS NOT expected if you are initializing BertForSequenceClassification from the checkpoint of a model that you expect to be exactly identical (initializing a BertForSequenceClassification model from a BertForSequenceClassification model).\n",
      "Some weights of BertForSequenceClassification were not initialized from the model checkpoint at /scratch/mt/ashapiro/Hate_Speech/Models/Marbertv2/ and are newly initialized: ['classifier.weight', 'classifier.bias']\n",
      "You should probably TRAIN this model on a down-stream task to be able to use it for predictions and inference.\n",
      "The following columns in the training set  don't have a corresponding argument in `BertForSequenceClassification.forward` and have been ignored: text. If text are not expected by `BertForSequenceClassification.forward`,  you can safely ignore this message.\n",
      "/home/ashapiro/.local/lib/python3.8/site-packages/transformers/optimization.py:306: FutureWarning: This implementation of AdamW is deprecated and will be removed in a future version. Use the PyTorch implementation torch.optim.AdamW instead, or set `no_deprecation_warning=True` to disable this warning\n",
      "  warnings.warn(\n",
      "***** Running training *****\n",
      "  Num examples = 10552\n",
      "  Num Epochs = 13\n",
      "  Instantaneous batch size per device = 8\n",
      "  Total train batch size (w. parallel, distributed & accumulation) = 8\n",
      "  Gradient Accumulation steps = 1\n",
      "  Total optimization steps = 17147\n",
      "  3%|▎         | 503/17147 [00:29<17:46, 15.60it/s]"
     ]
    },
    {
     "name": "stdout",
     "output_type": "stream",
     "text": [
      "{'loss': 0.7666, 'learning_rate': 0.0006734533661655461, 'epoch': 0.38}\n"
     ]
    },
    {
     "name": "stderr",
     "output_type": "stream",
     "text": [
      "  6%|▌         | 1003/17147 [00:59<16:06, 16.71it/s]"
     ]
    },
    {
     "name": "stdout",
     "output_type": "stream",
     "text": [
      "{'loss': 0.7958, 'learning_rate': 0.000653225896766689, 'epoch': 0.76}\n"
     ]
    },
    {
     "name": "stderr",
     "output_type": "stream",
     "text": [
      "  8%|▊         | 1319/17147 [01:17<15:26, 17.09it/s]The following columns in the evaluation set  don't have a corresponding argument in `BertForSequenceClassification.forward` and have been ignored: text. If text are not expected by `BertForSequenceClassification.forward`,  you can safely ignore this message.\n",
      "***** Running Evaluation *****\n",
      "  Num examples = 1270\n",
      "  Batch size = 4\n",
      "\n",
      "  0%|          | 0/318 [00:00<?, ?it/s]\u001b[A\n",
      "  3%|▎         | 10/318 [00:00<00:03, 97.47it/s]\u001b[A\n",
      "  6%|▋         | 20/318 [00:00<00:03, 90.64it/s]\u001b[A\n",
      "  9%|▉         | 30/318 [00:00<00:03, 89.02it/s]\u001b[A\n",
      " 12%|█▏        | 39/318 [00:00<00:03, 89.02it/s]\u001b[A\n",
      " 15%|█▌        | 48/318 [00:00<00:03, 88.88it/s]\u001b[A\n",
      " 18%|█▊        | 57/318 [00:00<00:02, 87.87it/s]\u001b[A\n",
      " 21%|██        | 66/318 [00:00<00:02, 87.41it/s]\u001b[A\n",
      " 24%|██▎       | 75/318 [00:00<00:02, 86.74it/s]\u001b[A\n",
      " 26%|██▋       | 84/318 [00:00<00:02, 86.56it/s]\u001b[A\n",
      " 29%|██▉       | 93/318 [00:01<00:02, 86.77it/s]\u001b[A\n",
      " 32%|███▏      | 102/318 [00:01<00:02, 87.23it/s]\u001b[A\n",
      " 35%|███▍      | 111/318 [00:01<00:02, 87.74it/s]\u001b[A\n",
      " 38%|███▊      | 120/318 [00:01<00:02, 87.75it/s]\u001b[A\n",
      " 41%|████      | 129/318 [00:01<00:02, 86.52it/s]\u001b[A\n",
      " 43%|████▎     | 138/318 [00:01<00:02, 86.32it/s]\u001b[A\n",
      " 46%|████▌     | 147/318 [00:01<00:01, 85.66it/s]\u001b[A\n",
      " 49%|████▉     | 156/318 [00:01<00:01, 86.16it/s]\u001b[A\n",
      " 52%|█████▏    | 165/318 [00:01<00:01, 86.37it/s]\u001b[A\n",
      " 55%|█████▍    | 174/318 [00:01<00:01, 86.31it/s]\u001b[A\n",
      " 58%|█████▊    | 183/318 [00:02<00:01, 86.25it/s]\u001b[A\n",
      " 60%|██████    | 192/318 [00:02<00:01, 86.26it/s]\u001b[A\n",
      " 63%|██████▎   | 201/318 [00:02<00:01, 86.69it/s]\u001b[A\n",
      " 66%|██████▌   | 210/318 [00:02<00:01, 86.62it/s]\u001b[A\n",
      " 69%|██████▉   | 219/318 [00:02<00:01, 86.96it/s]\u001b[A\n",
      " 72%|███████▏  | 228/318 [00:02<00:01, 86.96it/s]\u001b[A\n",
      " 75%|███████▍  | 237/318 [00:02<00:00, 86.84it/s]\u001b[A\n",
      " 77%|███████▋  | 246/318 [00:02<00:00, 85.28it/s]\u001b[A\n",
      " 80%|████████  | 255/318 [00:02<00:00, 79.29it/s]\u001b[A\n",
      " 83%|████████▎ | 264/318 [00:03<00:00, 77.10it/s]\u001b[A\n",
      " 86%|████████▌ | 272/318 [00:03<00:00, 75.61it/s]\u001b[A\n",
      " 88%|████████▊ | 280/318 [00:03<00:00, 75.09it/s]\u001b[A\n",
      " 91%|█████████ | 288/318 [00:03<00:00, 74.83it/s]\u001b[A\n",
      " 93%|█████████▎| 296/318 [00:03<00:00, 74.17it/s]\u001b[A\n",
      " 96%|█████████▌| 305/318 [00:03<00:00, 77.81it/s]\u001b[A\n",
      " 99%|█████████▊| 314/318 [00:03<00:00, 80.58it/s]\u001b[A/cm/shared/ebtree/software/Python/3.8.6-GCCcore-10.2.0/lib/python3.8/site-packages/sklearn/metrics/_classification.py:1248: UndefinedMetricWarning: Precision is ill-defined and being set to 0.0 in labels with no predicted samples. Use `zero_division` parameter to control this behavior.\n",
      "  _warn_prf(average, modifier, msg_start, len(result))\n",
      "                                                    \n",
      "  8%|▊         | 1319/17147 [01:21<15:26, 17.09it/s]\n",
      "100%|██████████| 318/318 [00:03<00:00, 80.58it/s]\u001b[A\n",
      "                                                 \u001b[ASaving model checkpoint to ./Checkpoints/MarBertv2_hyperparams/run-0/checkpoint-1319\n",
      "Configuration saved in ./Checkpoints/MarBertv2_hyperparams/run-0/checkpoint-1319/config.json\n"
     ]
    },
    {
     "name": "stdout",
     "output_type": "stream",
     "text": [
      "{'eval_loss': 0.6944581866264343, 'eval_f1': 0.24133811230585425, 'eval_recall': 0.5, 'eval_precision': 0.15905511811023623, 'eval_runtime': 3.8865, 'eval_samples_per_second': 326.771, 'eval_steps_per_second': 81.821, 'epoch': 1.0}\n"
     ]
    },
    {
     "name": "stderr",
     "output_type": "stream",
     "text": [
      "Model weights saved in ./Checkpoints/MarBertv2_hyperparams/run-0/checkpoint-1319/pytorch_model.bin\n",
      "tokenizer config file saved in ./Checkpoints/MarBertv2_hyperparams/run-0/checkpoint-1319/tokenizer_config.json\n",
      "Special tokens file saved in ./Checkpoints/MarBertv2_hyperparams/run-0/checkpoint-1319/special_tokens_map.json\n",
      "  9%|▉         | 1503/17147 [01:38<14:09, 18.42it/s]  "
     ]
    },
    {
     "name": "stdout",
     "output_type": "stream",
     "text": [
      "{'loss': 0.7689, 'learning_rate': 0.000632998427367832, 'epoch': 1.14}\n"
     ]
    },
    {
     "name": "stderr",
     "output_type": "stream",
     "text": [
      " 12%|█▏        | 2003/17147 [02:07<13:52, 18.19it/s]"
     ]
    },
    {
     "name": "stdout",
     "output_type": "stream",
     "text": [
      "{'loss': 0.8003, 'learning_rate': 0.0006127709579689749, 'epoch': 1.52}\n"
     ]
    },
    {
     "name": "stderr",
     "output_type": "stream",
     "text": [
      " 15%|█▍        | 2503/17147 [02:36<14:03, 17.36it/s]"
     ]
    },
    {
     "name": "stdout",
     "output_type": "stream",
     "text": [
      "{'loss': 0.713, 'learning_rate': 0.0005925434885701179, 'epoch': 1.9}\n"
     ]
    },
    {
     "name": "stderr",
     "output_type": "stream",
     "text": [
      " 15%|█▌        | 2637/17147 [02:43<14:20, 16.87it/s]The following columns in the evaluation set  don't have a corresponding argument in `BertForSequenceClassification.forward` and have been ignored: text. If text are not expected by `BertForSequenceClassification.forward`,  you can safely ignore this message.\n",
      "***** Running Evaluation *****\n",
      "  Num examples = 1270\n",
      "  Batch size = 4\n",
      "\n",
      "  0%|          | 0/318 [00:00<?, ?it/s]\u001b[A\n",
      "  3%|▎         | 8/318 [00:00<00:03, 79.47it/s]\u001b[A\n",
      "  5%|▌         | 17/318 [00:00<00:03, 81.33it/s]\u001b[A\n",
      "  8%|▊         | 26/318 [00:00<00:03, 83.15it/s]\u001b[A\n",
      " 11%|█         | 35/318 [00:00<00:03, 83.83it/s]\u001b[A\n",
      " 14%|█▍        | 44/318 [00:00<00:03, 82.88it/s]\u001b[A\n",
      " 17%|█▋        | 53/318 [00:00<00:03, 83.25it/s]\u001b[A\n",
      " 19%|█▉        | 62/318 [00:00<00:03, 84.01it/s]\u001b[A\n",
      " 22%|██▏       | 71/318 [00:00<00:02, 84.65it/s]\u001b[A\n",
      " 25%|██▌       | 80/318 [00:00<00:02, 85.15it/s]\u001b[A\n",
      " 28%|██▊       | 89/318 [00:01<00:02, 84.83it/s]\u001b[A\n",
      " 31%|███       | 98/318 [00:01<00:02, 85.33it/s]\u001b[A\n",
      " 34%|███▎      | 107/318 [00:01<00:02, 85.17it/s]\u001b[A\n",
      " 36%|███▋      | 116/318 [00:01<00:02, 85.20it/s]\u001b[A\n",
      " 39%|███▉      | 125/318 [00:01<00:02, 84.67it/s]\u001b[A\n",
      " 42%|████▏     | 134/318 [00:01<00:02, 84.68it/s]\u001b[A\n",
      " 45%|████▍     | 143/318 [00:01<00:02, 84.82it/s]\u001b[A\n",
      " 48%|████▊     | 152/318 [00:01<00:01, 84.81it/s]\u001b[A\n",
      " 51%|█████     | 161/318 [00:01<00:01, 84.68it/s]\u001b[A\n",
      " 53%|█████▎    | 170/318 [00:02<00:01, 82.80it/s]\u001b[A\n",
      " 56%|█████▋    | 179/318 [00:02<00:01, 83.63it/s]\u001b[A\n",
      " 59%|█████▉    | 188/318 [00:02<00:01, 82.41it/s]\u001b[A\n",
      " 62%|██████▏   | 197/318 [00:02<00:01, 79.78it/s]\u001b[A\n",
      " 65%|██████▍   | 206/318 [00:02<00:01, 79.08it/s]\u001b[A\n",
      " 68%|██████▊   | 215/318 [00:02<00:01, 81.02it/s]\u001b[A\n",
      " 70%|███████   | 224/318 [00:02<00:01, 82.52it/s]\u001b[A\n",
      " 73%|███████▎  | 233/318 [00:02<00:01, 83.37it/s]\u001b[A\n",
      " 76%|███████▌  | 242/318 [00:02<00:00, 84.24it/s]\u001b[A\n",
      " 79%|███████▉  | 251/318 [00:03<00:00, 83.23it/s]\u001b[A\n",
      " 82%|████████▏ | 260/318 [00:03<00:00, 84.03it/s]\u001b[A\n",
      " 85%|████████▍ | 269/318 [00:03<00:00, 84.39it/s]\u001b[A\n",
      " 87%|████████▋ | 278/318 [00:03<00:00, 84.92it/s]\u001b[A\n",
      " 90%|█████████ | 287/318 [00:03<00:00, 85.21it/s]\u001b[A\n",
      " 93%|█████████▎| 296/318 [00:03<00:00, 85.49it/s]\u001b[A\n",
      " 96%|█████████▌| 305/318 [00:03<00:00, 85.35it/s]\u001b[A\n",
      " 99%|█████████▊| 314/318 [00:03<00:00, 85.16it/s]\u001b[A/cm/shared/ebtree/software/Python/3.8.6-GCCcore-10.2.0/lib/python3.8/site-packages/sklearn/metrics/_classification.py:1248: UndefinedMetricWarning: Precision is ill-defined and being set to 0.0 in labels with no predicted samples. Use `zero_division` parameter to control this behavior.\n",
      "  _warn_prf(average, modifier, msg_start, len(result))\n",
      "                                                    \n",
      " 15%|█▌        | 2638/17147 [02:47<14:20, 16.87it/s]\n",
      "100%|██████████| 318/318 [00:03<00:00, 85.16it/s]\u001b[A\n",
      "                                                 \u001b[ASaving model checkpoint to ./Checkpoints/MarBertv2_hyperparams/run-0/checkpoint-2638\n",
      "Configuration saved in ./Checkpoints/MarBertv2_hyperparams/run-0/checkpoint-2638/config.json\n"
     ]
    },
    {
     "name": "stdout",
     "output_type": "stream",
     "text": [
      "{'eval_loss': 0.6937686204910278, 'eval_f1': 0.24133811230585425, 'eval_recall': 0.5, 'eval_precision': 0.15905511811023623, 'eval_runtime': 3.8764, 'eval_samples_per_second': 327.625, 'eval_steps_per_second': 82.035, 'epoch': 2.0}\n"
     ]
    },
    {
     "name": "stderr",
     "output_type": "stream",
     "text": [
      "Model weights saved in ./Checkpoints/MarBertv2_hyperparams/run-0/checkpoint-2638/pytorch_model.bin\n",
      "tokenizer config file saved in ./Checkpoints/MarBertv2_hyperparams/run-0/checkpoint-2638/tokenizer_config.json\n",
      "Special tokens file saved in ./Checkpoints/MarBertv2_hyperparams/run-0/checkpoint-2638/special_tokens_map.json\n",
      " 18%|█▊        | 3003/17147 [03:15<13:10, 17.89it/s]  "
     ]
    },
    {
     "name": "stdout",
     "output_type": "stream",
     "text": [
      "{'loss': 0.6942, 'learning_rate': 0.0005723160191712608, 'epoch': 2.27}\n"
     ]
    },
    {
     "name": "stderr",
     "output_type": "stream",
     "text": [
      " 20%|██        | 3503/17147 [03:44<14:45, 15.41it/s]"
     ]
    },
    {
     "name": "stdout",
     "output_type": "stream",
     "text": [
      "{'loss': 0.7319, 'learning_rate': 0.0005520885497724039, 'epoch': 2.65}\n"
     ]
    },
    {
     "name": "stderr",
     "output_type": "stream",
     "text": [
      " 23%|██▎       | 3957/17147 [04:10<11:55, 18.45it/s]The following columns in the evaluation set  don't have a corresponding argument in `BertForSequenceClassification.forward` and have been ignored: text. If text are not expected by `BertForSequenceClassification.forward`,  you can safely ignore this message.\n",
      "***** Running Evaluation *****\n",
      "  Num examples = 1270\n",
      "  Batch size = 4\n",
      "\n",
      "  0%|          | 0/318 [00:00<?, ?it/s]\u001b[A\n",
      "  3%|▎         | 10/318 [00:00<00:03, 94.35it/s]\u001b[A\n",
      "  6%|▋         | 20/318 [00:00<00:03, 89.16it/s]\u001b[A\n",
      "  9%|▉         | 29/318 [00:00<00:03, 88.46it/s]\u001b[A\n",
      " 12%|█▏        | 38/318 [00:00<00:03, 88.09it/s]\u001b[A\n",
      " 15%|█▍        | 47/318 [00:00<00:03, 88.67it/s]\u001b[A\n",
      " 18%|█▊        | 57/318 [00:00<00:02, 89.13it/s]\u001b[A\n",
      " 21%|██        | 66/318 [00:00<00:02, 88.36it/s]\u001b[A\n",
      " 24%|██▎       | 75/318 [00:00<00:02, 87.67it/s]\u001b[A\n",
      " 26%|██▋       | 84/318 [00:00<00:02, 87.96it/s]\u001b[A\n",
      " 29%|██▉       | 93/318 [00:01<00:02, 88.23it/s]\u001b[A\n",
      " 32%|███▏      | 102/318 [00:01<00:02, 87.32it/s]\u001b[A\n",
      " 35%|███▍      | 111/318 [00:01<00:02, 87.56it/s]\u001b[A\n",
      " 38%|███▊      | 120/318 [00:01<00:02, 87.94it/s]\u001b[A\n",
      " 41%|████      | 129/318 [00:01<00:02, 87.19it/s]\u001b[A\n",
      " 43%|████▎     | 138/318 [00:01<00:02, 87.14it/s]\u001b[A\n",
      " 46%|████▌     | 147/318 [00:01<00:01, 86.85it/s]\u001b[A\n",
      " 49%|████▉     | 156/318 [00:01<00:01, 87.15it/s]\u001b[A\n",
      " 52%|█████▏    | 165/318 [00:01<00:01, 87.58it/s]\u001b[A\n",
      " 55%|█████▍    | 174/318 [00:01<00:01, 87.48it/s]\u001b[A\n",
      " 58%|█████▊    | 183/318 [00:02<00:01, 87.77it/s]\u001b[A\n",
      " 60%|██████    | 192/318 [00:02<00:01, 81.45it/s]\u001b[A\n",
      " 63%|██████▎   | 201/318 [00:02<00:01, 83.18it/s]\u001b[A\n",
      " 66%|██████▌   | 210/318 [00:02<00:01, 84.48it/s]\u001b[A\n",
      " 69%|██████▉   | 219/318 [00:02<00:01, 84.56it/s]\u001b[A\n",
      " 72%|███████▏  | 228/318 [00:02<00:01, 84.94it/s]\u001b[A\n",
      " 75%|███████▍  | 237/318 [00:02<00:00, 85.19it/s]\u001b[A\n",
      " 77%|███████▋  | 246/318 [00:02<00:00, 85.40it/s]\u001b[A\n",
      " 80%|████████  | 255/318 [00:02<00:00, 85.47it/s]\u001b[A\n",
      " 83%|████████▎ | 264/318 [00:03<00:00, 85.62it/s]\u001b[A\n",
      " 86%|████████▌ | 273/318 [00:03<00:00, 85.65it/s]\u001b[A\n",
      " 89%|████████▊ | 282/318 [00:03<00:00, 85.68it/s]\u001b[A\n",
      " 92%|█████████▏| 291/318 [00:03<00:00, 85.62it/s]\u001b[A\n",
      " 94%|█████████▍| 300/318 [00:03<00:00, 85.70it/s]\u001b[A\n",
      " 97%|█████████▋| 309/318 [00:03<00:00, 85.64it/s]\u001b[A\n",
      "100%|██████████| 318/318 [00:03<00:00, 85.87it/s]\u001b[A/cm/shared/ebtree/software/Python/3.8.6-GCCcore-10.2.0/lib/python3.8/site-packages/sklearn/metrics/_classification.py:1248: UndefinedMetricWarning: Precision is ill-defined and being set to 0.0 in labels with no predicted samples. Use `zero_division` parameter to control this behavior.\n",
      "  _warn_prf(average, modifier, msg_start, len(result))\n",
      "                                                    \n",
      " 23%|██▎       | 3957/17147 [04:14<11:55, 18.45it/s]\n",
      "100%|██████████| 318/318 [00:03<00:00, 85.87it/s]\u001b[A\n",
      "                                                 \u001b[ASaving model checkpoint to ./Checkpoints/MarBertv2_hyperparams/run-0/checkpoint-3957\n",
      "Configuration saved in ./Checkpoints/MarBertv2_hyperparams/run-0/checkpoint-3957/config.json\n"
     ]
    },
    {
     "name": "stdout",
     "output_type": "stream",
     "text": [
      "{'eval_loss': 0.6910349726676941, 'eval_f1': 0.4054307116104869, 'eval_recall': 0.5, 'eval_precision': 0.3409448818897638, 'eval_runtime': 3.754, 'eval_samples_per_second': 338.309, 'eval_steps_per_second': 84.71, 'epoch': 3.0}\n"
     ]
    },
    {
     "name": "stderr",
     "output_type": "stream",
     "text": [
      "Model weights saved in ./Checkpoints/MarBertv2_hyperparams/run-0/checkpoint-3957/pytorch_model.bin\n",
      "tokenizer config file saved in ./Checkpoints/MarBertv2_hyperparams/run-0/checkpoint-3957/tokenizer_config.json\n",
      "Special tokens file saved in ./Checkpoints/MarBertv2_hyperparams/run-0/checkpoint-3957/special_tokens_map.json\n",
      " 23%|██▎       | 4003/17147 [04:23<12:35, 17.40it/s]  "
     ]
    },
    {
     "name": "stdout",
     "output_type": "stream",
     "text": [
      "{'loss': 0.7006, 'learning_rate': 0.0005318610803735468, 'epoch': 3.03}\n"
     ]
    },
    {
     "name": "stderr",
     "output_type": "stream",
     "text": [
      " 26%|██▋       | 4503/17147 [04:52<12:11, 17.28it/s]"
     ]
    },
    {
     "name": "stdout",
     "output_type": "stream",
     "text": [
      "{'loss': 0.6939, 'learning_rate': 0.0005116336109746897, 'epoch': 3.41}\n"
     ]
    },
    {
     "name": "stderr",
     "output_type": "stream",
     "text": [
      " 29%|██▉       | 5001/17147 [05:20<12:15, 16.50it/s]"
     ]
    },
    {
     "name": "stdout",
     "output_type": "stream",
     "text": [
      "{'loss': 0.694, 'learning_rate': 0.0004914061415758327, 'epoch': 3.79}\n"
     ]
    },
    {
     "name": "stderr",
     "output_type": "stream",
     "text": [
      " 31%|███       | 5275/17147 [05:36<11:25, 17.32it/s]The following columns in the evaluation set  don't have a corresponding argument in `BertForSequenceClassification.forward` and have been ignored: text. If text are not expected by `BertForSequenceClassification.forward`,  you can safely ignore this message.\n",
      "***** Running Evaluation *****\n",
      "  Num examples = 1270\n",
      "  Batch size = 4\n",
      "\n",
      "  0%|          | 0/318 [00:00<?, ?it/s]\u001b[A\n",
      "  3%|▎         | 10/318 [00:00<00:03, 96.42it/s]\u001b[A\n",
      "  6%|▋         | 20/318 [00:00<00:03, 88.02it/s]\u001b[A\n",
      "  9%|▉         | 29/318 [00:00<00:03, 84.41it/s]\u001b[A\n",
      " 12%|█▏        | 38/318 [00:00<00:03, 84.79it/s]\u001b[A\n",
      " 15%|█▍        | 47/318 [00:00<00:03, 84.93it/s]\u001b[A\n",
      " 18%|█▊        | 56/318 [00:00<00:03, 85.39it/s]\u001b[A\n",
      " 20%|██        | 65/318 [00:00<00:02, 85.79it/s]\u001b[A\n",
      " 23%|██▎       | 74/318 [00:00<00:02, 85.71it/s]\u001b[A\n",
      " 26%|██▌       | 83/318 [00:00<00:02, 85.96it/s]\u001b[A\n",
      " 29%|██▉       | 92/318 [00:01<00:02, 86.10it/s]\u001b[A\n",
      " 32%|███▏      | 101/318 [00:01<00:02, 85.96it/s]\u001b[A\n",
      " 35%|███▍      | 110/318 [00:01<00:02, 86.05it/s]\u001b[A\n",
      " 37%|███▋      | 119/318 [00:01<00:02, 86.21it/s]\u001b[A\n",
      " 40%|████      | 128/318 [00:01<00:02, 86.36it/s]\u001b[A\n",
      " 43%|████▎     | 137/318 [00:01<00:02, 86.39it/s]\u001b[A\n",
      " 46%|████▌     | 146/318 [00:01<00:02, 85.51it/s]\u001b[A\n",
      " 49%|████▊     | 155/318 [00:01<00:01, 84.61it/s]\u001b[A\n",
      " 52%|█████▏    | 164/318 [00:01<00:01, 84.26it/s]\u001b[A\n",
      " 54%|█████▍    | 173/318 [00:02<00:01, 83.75it/s]\u001b[A\n",
      " 57%|█████▋    | 182/318 [00:02<00:01, 84.22it/s]\u001b[A\n",
      " 60%|██████    | 191/318 [00:02<00:01, 84.72it/s]\u001b[A\n",
      " 63%|██████▎   | 200/318 [00:02<00:01, 85.15it/s]\u001b[A\n",
      " 66%|██████▌   | 209/318 [00:02<00:01, 84.85it/s]\u001b[A\n",
      " 69%|██████▊   | 218/318 [00:02<00:01, 84.18it/s]\u001b[A\n",
      " 71%|███████▏  | 227/318 [00:02<00:01, 84.57it/s]\u001b[A\n",
      " 74%|███████▍  | 236/318 [00:02<00:00, 84.91it/s]\u001b[A\n",
      " 77%|███████▋  | 245/318 [00:02<00:00, 84.62it/s]\u001b[A\n",
      " 80%|███████▉  | 254/318 [00:02<00:00, 84.88it/s]\u001b[A\n",
      " 83%|████████▎ | 263/318 [00:03<00:00, 85.66it/s]\u001b[A\n",
      " 86%|████████▌ | 272/318 [00:03<00:00, 85.60it/s]\u001b[A\n",
      " 88%|████████▊ | 281/318 [00:03<00:00, 84.23it/s]\u001b[A\n",
      " 91%|█████████ | 290/318 [00:03<00:00, 84.88it/s]\u001b[A\n",
      " 94%|█████████▍| 299/318 [00:03<00:00, 85.25it/s]\u001b[A\n",
      " 97%|█████████▋| 308/318 [00:03<00:00, 85.67it/s]\u001b[A\n",
      "100%|█████████▉| 317/318 [00:03<00:00, 85.16it/s]\u001b[A/cm/shared/ebtree/software/Python/3.8.6-GCCcore-10.2.0/lib/python3.8/site-packages/sklearn/metrics/_classification.py:1248: UndefinedMetricWarning: Precision is ill-defined and being set to 0.0 in labels with no predicted samples. Use `zero_division` parameter to control this behavior.\n",
      "  _warn_prf(average, modifier, msg_start, len(result))\n",
      "                                                    \n",
      " 31%|███       | 5276/17147 [05:40<11:25, 17.32it/s]\n",
      "100%|██████████| 318/318 [00:03<00:00, 85.16it/s]\u001b[A\n",
      "                                                 \u001b[ASaving model checkpoint to ./Checkpoints/MarBertv2_hyperparams/run-0/checkpoint-5276\n",
      "Configuration saved in ./Checkpoints/MarBertv2_hyperparams/run-0/checkpoint-5276/config.json\n"
     ]
    },
    {
     "name": "stdout",
     "output_type": "stream",
     "text": [
      "{'eval_loss': 0.687955915927887, 'eval_f1': 0.4054307116104869, 'eval_recall': 0.5, 'eval_precision': 0.3409448818897638, 'eval_runtime': 3.8246, 'eval_samples_per_second': 332.057, 'eval_steps_per_second': 83.145, 'epoch': 4.0}\n"
     ]
    },
    {
     "name": "stderr",
     "output_type": "stream",
     "text": [
      "Model weights saved in ./Checkpoints/MarBertv2_hyperparams/run-0/checkpoint-5276/pytorch_model.bin\n",
      "tokenizer config file saved in ./Checkpoints/MarBertv2_hyperparams/run-0/checkpoint-5276/tokenizer_config.json\n",
      "Special tokens file saved in ./Checkpoints/MarBertv2_hyperparams/run-0/checkpoint-5276/special_tokens_map.json\n",
      " 32%|███▏      | 5503/17147 [06:00<12:30, 15.51it/s]  "
     ]
    },
    {
     "name": "stdout",
     "output_type": "stream",
     "text": [
      "{'loss': 0.7129, 'learning_rate': 0.0004711786721769757, 'epoch': 4.17}\n"
     ]
    },
    {
     "name": "stderr",
     "output_type": "stream",
     "text": [
      " 35%|███▌      | 6003/17147 [06:29<10:24, 17.86it/s]"
     ]
    },
    {
     "name": "stdout",
     "output_type": "stream",
     "text": [
      "{'loss': 0.6966, 'learning_rate': 0.0004509512027781186, 'epoch': 4.55}\n"
     ]
    },
    {
     "name": "stderr",
     "output_type": "stream",
     "text": [
      " 38%|███▊      | 6503/17147 [06:57<09:57, 17.80it/s]"
     ]
    },
    {
     "name": "stdout",
     "output_type": "stream",
     "text": [
      "{'loss': 0.6938, 'learning_rate': 0.00043072373337926166, 'epoch': 4.93}\n"
     ]
    },
    {
     "name": "stderr",
     "output_type": "stream",
     "text": [
      " 38%|███▊      | 6595/17147 [07:02<09:16, 18.97it/s]The following columns in the evaluation set  don't have a corresponding argument in `BertForSequenceClassification.forward` and have been ignored: text. If text are not expected by `BertForSequenceClassification.forward`,  you can safely ignore this message.\n",
      "***** Running Evaluation *****\n",
      "  Num examples = 1270\n",
      "  Batch size = 4\n",
      "\n",
      "  0%|          | 0/318 [00:00<?, ?it/s]\u001b[A\n",
      "  3%|▎         | 10/318 [00:00<00:03, 96.48it/s]\u001b[A\n",
      "  6%|▋         | 20/318 [00:00<00:03, 90.20it/s]\u001b[A\n",
      "  9%|▉         | 30/318 [00:00<00:03, 88.35it/s]\u001b[A\n",
      " 12%|█▏        | 39/318 [00:00<00:03, 87.87it/s]\u001b[A\n",
      " 15%|█▌        | 48/318 [00:00<00:03, 87.43it/s]\u001b[A\n",
      " 18%|█▊        | 57/318 [00:00<00:02, 87.52it/s]\u001b[A\n",
      " 21%|██        | 66/318 [00:00<00:02, 87.08it/s]\u001b[A\n",
      " 24%|██▎       | 75/318 [00:00<00:02, 86.46it/s]\u001b[A\n",
      " 26%|██▋       | 84/318 [00:00<00:02, 86.86it/s]\u001b[A\n",
      " 29%|██▉       | 93/318 [00:01<00:02, 87.30it/s]\u001b[A\n",
      " 32%|███▏      | 102/318 [00:01<00:02, 87.29it/s]\u001b[A\n",
      " 35%|███▍      | 111/318 [00:01<00:02, 87.40it/s]\u001b[A\n",
      " 38%|███▊      | 120/318 [00:01<00:02, 87.49it/s]\u001b[A\n",
      " 41%|████      | 129/318 [00:01<00:02, 87.23it/s]\u001b[A\n",
      " 43%|████▎     | 138/318 [00:01<00:02, 86.94it/s]\u001b[A\n",
      " 46%|████▌     | 147/318 [00:01<00:01, 86.67it/s]\u001b[A\n",
      " 49%|████▉     | 156/318 [00:01<00:01, 86.51it/s]\u001b[A\n",
      " 52%|█████▏    | 165/318 [00:01<00:01, 85.86it/s]\u001b[A\n",
      " 55%|█████▍    | 174/318 [00:01<00:01, 86.09it/s]\u001b[A\n",
      " 58%|█████▊    | 183/318 [00:02<00:01, 86.30it/s]\u001b[A\n",
      " 60%|██████    | 192/318 [00:02<00:01, 86.29it/s]\u001b[A\n",
      " 63%|██████▎   | 201/318 [00:02<00:01, 85.73it/s]\u001b[A\n",
      " 66%|██████▌   | 210/318 [00:02<00:01, 85.99it/s]\u001b[A\n",
      " 69%|██████▉   | 219/318 [00:02<00:01, 84.82it/s]\u001b[A\n",
      " 72%|███████▏  | 228/318 [00:02<00:01, 85.04it/s]\u001b[A\n",
      " 75%|███████▍  | 237/318 [00:02<00:00, 85.10it/s]\u001b[A\n",
      " 77%|███████▋  | 246/318 [00:02<00:00, 84.80it/s]\u001b[A\n",
      " 80%|████████  | 255/318 [00:02<00:00, 85.59it/s]\u001b[A\n",
      " 83%|████████▎ | 264/318 [00:03<00:00, 86.05it/s]\u001b[A\n",
      " 86%|████████▌ | 273/318 [00:03<00:00, 86.08it/s]\u001b[A\n",
      " 89%|████████▊ | 282/318 [00:03<00:00, 85.86it/s]\u001b[A\n",
      " 92%|█████████▏| 291/318 [00:03<00:00, 85.84it/s]\u001b[A\n",
      " 94%|█████████▍| 300/318 [00:03<00:00, 85.61it/s]\u001b[A\n",
      " 97%|█████████▋| 309/318 [00:03<00:00, 85.59it/s]\u001b[A\n",
      "100%|██████████| 318/318 [00:03<00:00, 85.53it/s]\u001b[A/cm/shared/ebtree/software/Python/3.8.6-GCCcore-10.2.0/lib/python3.8/site-packages/sklearn/metrics/_classification.py:1248: UndefinedMetricWarning: Precision is ill-defined and being set to 0.0 in labels with no predicted samples. Use `zero_division` parameter to control this behavior.\n",
      "  _warn_prf(average, modifier, msg_start, len(result))\n",
      "                                                    \n",
      " 38%|███▊      | 6595/17147 [07:06<09:16, 18.97it/s]\n",
      "100%|██████████| 318/318 [00:03<00:00, 85.53it/s]\u001b[A\n",
      "                                                 \u001b[ASaving model checkpoint to ./Checkpoints/MarBertv2_hyperparams/run-0/checkpoint-6595\n",
      "Configuration saved in ./Checkpoints/MarBertv2_hyperparams/run-0/checkpoint-6595/config.json\n"
     ]
    },
    {
     "name": "stdout",
     "output_type": "stream",
     "text": [
      "{'eval_loss': 0.6916840672492981, 'eval_f1': 0.4054307116104869, 'eval_recall': 0.5, 'eval_precision': 0.3409448818897638, 'eval_runtime': 3.7582, 'eval_samples_per_second': 337.925, 'eval_steps_per_second': 84.614, 'epoch': 5.0}\n"
     ]
    },
    {
     "name": "stderr",
     "output_type": "stream",
     "text": [
      "Model weights saved in ./Checkpoints/MarBertv2_hyperparams/run-0/checkpoint-6595/pytorch_model.bin\n",
      "tokenizer config file saved in ./Checkpoints/MarBertv2_hyperparams/run-0/checkpoint-6595/tokenizer_config.json\n",
      "Special tokens file saved in ./Checkpoints/MarBertv2_hyperparams/run-0/checkpoint-6595/special_tokens_map.json\n",
      " 41%|████      | 7001/17147 [07:36<10:12, 16.57it/s]  "
     ]
    },
    {
     "name": "stdout",
     "output_type": "stream",
     "text": [
      "{'loss': 0.6938, 'learning_rate': 0.00041049626398040464, 'epoch': 5.31}\n"
     ]
    },
    {
     "name": "stderr",
     "output_type": "stream",
     "text": [
      " 44%|████▍     | 7503/17147 [08:05<09:34, 16.80it/s]"
     ]
    },
    {
     "name": "stdout",
     "output_type": "stream",
     "text": [
      "{'loss': 0.6938, 'learning_rate': 0.00039026879458154757, 'epoch': 5.69}\n"
     ]
    },
    {
     "name": "stderr",
     "output_type": "stream",
     "text": [
      " 46%|████▌     | 7913/17147 [08:28<08:27, 18.20it/s]The following columns in the evaluation set  don't have a corresponding argument in `BertForSequenceClassification.forward` and have been ignored: text. If text are not expected by `BertForSequenceClassification.forward`,  you can safely ignore this message.\n",
      "***** Running Evaluation *****\n",
      "  Num examples = 1270\n",
      "  Batch size = 4\n",
      "\n",
      "  0%|          | 0/318 [00:00<?, ?it/s]\u001b[A\n",
      "  3%|▎         | 10/318 [00:00<00:03, 95.14it/s]\u001b[A\n",
      "  6%|▋         | 20/318 [00:00<00:03, 88.10it/s]\u001b[A\n",
      "  9%|▉         | 29/318 [00:00<00:03, 86.54it/s]\u001b[A\n",
      " 12%|█▏        | 38/318 [00:00<00:03, 85.85it/s]\u001b[A\n",
      " 15%|█▍        | 47/318 [00:00<00:03, 83.79it/s]\u001b[A\n",
      " 18%|█▊        | 56/318 [00:00<00:03, 83.14it/s]\u001b[A\n",
      " 20%|██        | 65/318 [00:00<00:03, 84.17it/s]\u001b[A\n",
      " 23%|██▎       | 74/318 [00:00<00:02, 84.75it/s]\u001b[A\n",
      " 26%|██▌       | 83/318 [00:00<00:02, 85.27it/s]\u001b[A\n",
      " 29%|██▉       | 92/318 [00:01<00:02, 85.46it/s]\u001b[A\n",
      " 32%|███▏      | 101/318 [00:01<00:02, 85.80it/s]\u001b[A\n",
      " 35%|███▍      | 110/318 [00:01<00:02, 85.92it/s]\u001b[A\n",
      " 37%|███▋      | 119/318 [00:01<00:02, 86.00it/s]\u001b[A\n",
      " 40%|████      | 128/318 [00:01<00:02, 85.87it/s]\u001b[A\n",
      " 43%|████▎     | 137/318 [00:01<00:02, 85.83it/s]\u001b[A\n",
      " 46%|████▌     | 146/318 [00:01<00:02, 85.97it/s]\u001b[A\n",
      " 49%|████▊     | 155/318 [00:01<00:01, 85.03it/s]\u001b[A\n",
      " 52%|█████▏    | 164/318 [00:01<00:01, 85.21it/s]\u001b[A\n",
      " 54%|█████▍    | 173/318 [00:02<00:01, 85.51it/s]\u001b[A\n",
      " 57%|█████▋    | 182/318 [00:02<00:01, 86.03it/s]\u001b[A\n",
      " 60%|██████    | 191/318 [00:02<00:01, 86.03it/s]\u001b[A\n",
      " 63%|██████▎   | 200/318 [00:02<00:01, 86.10it/s]\u001b[A\n",
      " 66%|██████▌   | 209/318 [00:02<00:01, 86.11it/s]\u001b[A\n",
      " 69%|██████▊   | 218/318 [00:02<00:01, 86.26it/s]\u001b[A\n",
      " 71%|███████▏  | 227/318 [00:02<00:01, 86.18it/s]\u001b[A\n",
      " 74%|███████▍  | 236/318 [00:02<00:00, 86.06it/s]\u001b[A\n",
      " 77%|███████▋  | 245/318 [00:02<00:00, 84.97it/s]\u001b[A\n",
      " 80%|███████▉  | 254/318 [00:02<00:00, 85.20it/s]\u001b[A\n",
      " 83%|████████▎ | 263/318 [00:03<00:00, 86.01it/s]\u001b[A\n",
      " 86%|████████▌ | 272/318 [00:03<00:00, 85.82it/s]\u001b[A\n",
      " 88%|████████▊ | 281/318 [00:03<00:00, 85.62it/s]\u001b[A\n",
      " 91%|█████████ | 290/318 [00:03<00:00, 83.96it/s]\u001b[A\n",
      " 94%|█████████▍| 299/318 [00:03<00:00, 82.83it/s]\u001b[A\n",
      " 97%|█████████▋| 308/318 [00:03<00:00, 77.85it/s]\u001b[A\n",
      " 99%|█████████▉| 316/318 [00:03<00:00, 75.63it/s]\u001b[A/cm/shared/ebtree/software/Python/3.8.6-GCCcore-10.2.0/lib/python3.8/site-packages/sklearn/metrics/_classification.py:1248: UndefinedMetricWarning: Precision is ill-defined and being set to 0.0 in labels with no predicted samples. Use `zero_division` parameter to control this behavior.\n",
      "  _warn_prf(average, modifier, msg_start, len(result))\n",
      "                                                    \n",
      " 46%|████▌     | 7914/17147 [08:32<08:27, 18.20it/s]\n",
      "100%|██████████| 318/318 [00:03<00:00, 75.63it/s]\u001b[A\n",
      "                                                 \u001b[ASaving model checkpoint to ./Checkpoints/MarBertv2_hyperparams/run-0/checkpoint-7914\n",
      "Configuration saved in ./Checkpoints/MarBertv2_hyperparams/run-0/checkpoint-7914/config.json\n"
     ]
    },
    {
     "name": "stdout",
     "output_type": "stream",
     "text": [
      "{'eval_loss': 0.6931825876235962, 'eval_f1': 0.24133811230585425, 'eval_recall': 0.5, 'eval_precision': 0.15905511811023623, 'eval_runtime': 3.8544, 'eval_samples_per_second': 329.495, 'eval_steps_per_second': 82.504, 'epoch': 6.0}\n"
     ]
    },
    {
     "name": "stderr",
     "output_type": "stream",
     "text": [
      "Model weights saved in ./Checkpoints/MarBertv2_hyperparams/run-0/checkpoint-7914/pytorch_model.bin\n",
      "tokenizer config file saved in ./Checkpoints/MarBertv2_hyperparams/run-0/checkpoint-7914/tokenizer_config.json\n",
      "Special tokens file saved in ./Checkpoints/MarBertv2_hyperparams/run-0/checkpoint-7914/special_tokens_map.json\n",
      " 47%|████▋     | 8003/17147 [08:44<08:44, 17.43it/s]  "
     ]
    },
    {
     "name": "stdout",
     "output_type": "stream",
     "text": [
      "{'loss': 0.6949, 'learning_rate': 0.00037004132518269055, 'epoch': 6.07}\n"
     ]
    },
    {
     "name": "stderr",
     "output_type": "stream",
     "text": [
      " 50%|████▉     | 8503/17147 [09:13<08:02, 17.93it/s]"
     ]
    },
    {
     "name": "stdout",
     "output_type": "stream",
     "text": [
      "{'loss': 0.7193, 'learning_rate': 0.0003498138557838335, 'epoch': 6.44}\n"
     ]
    },
    {
     "name": "stderr",
     "output_type": "stream",
     "text": [
      " 53%|█████▎    | 9003/17147 [09:41<08:03, 16.83it/s]"
     ]
    },
    {
     "name": "stdout",
     "output_type": "stream",
     "text": [
      "{'loss': 0.6938, 'learning_rate': 0.00032958638638497646, 'epoch': 6.82}\n"
     ]
    },
    {
     "name": "stderr",
     "output_type": "stream",
     "text": [
      " 54%|█████▍    | 9233/17147 [09:54<07:18, 18.07it/s]The following columns in the evaluation set  don't have a corresponding argument in `BertForSequenceClassification.forward` and have been ignored: text. If text are not expected by `BertForSequenceClassification.forward`,  you can safely ignore this message.\n",
      "***** Running Evaluation *****\n",
      "  Num examples = 1270\n",
      "  Batch size = 4\n",
      "\n",
      "  0%|          | 0/318 [00:00<?, ?it/s]\u001b[A\n",
      "  3%|▎         | 9/318 [00:00<00:03, 80.66it/s]\u001b[A\n",
      "  6%|▌         | 18/318 [00:00<00:03, 75.17it/s]\u001b[A\n",
      "  8%|▊         | 26/318 [00:00<00:03, 73.82it/s]\u001b[A\n",
      " 11%|█         | 34/318 [00:00<00:03, 72.63it/s]\u001b[A\n",
      " 13%|█▎        | 42/318 [00:00<00:03, 72.65it/s]\u001b[A\n",
      " 16%|█▌        | 50/318 [00:00<00:03, 72.54it/s]\u001b[A\n",
      " 18%|█▊        | 58/318 [00:00<00:03, 72.38it/s]\u001b[A\n",
      " 21%|██        | 66/318 [00:00<00:03, 72.35it/s]\u001b[A\n",
      " 23%|██▎       | 74/318 [00:01<00:03, 72.16it/s]\u001b[A\n",
      " 26%|██▌       | 82/318 [00:01<00:03, 71.95it/s]\u001b[A\n",
      " 28%|██▊       | 90/318 [00:01<00:03, 72.05it/s]\u001b[A\n",
      " 31%|███       | 98/318 [00:01<00:03, 71.99it/s]\u001b[A\n",
      " 33%|███▎      | 106/318 [00:01<00:02, 71.99it/s]\u001b[A\n",
      " 36%|███▌      | 114/318 [00:01<00:02, 71.93it/s]\u001b[A\n",
      " 38%|███▊      | 122/318 [00:01<00:02, 72.04it/s]\u001b[A\n",
      " 41%|████      | 130/318 [00:01<00:02, 72.05it/s]\u001b[A\n",
      " 43%|████▎     | 138/318 [00:01<00:02, 72.08it/s]\u001b[A\n",
      " 46%|████▌     | 146/318 [00:02<00:02, 72.21it/s]\u001b[A\n",
      " 48%|████▊     | 154/318 [00:02<00:02, 72.51it/s]\u001b[A\n",
      " 51%|█████     | 162/318 [00:02<00:02, 72.76it/s]\u001b[A\n",
      " 54%|█████▍    | 171/318 [00:02<00:01, 75.73it/s]\u001b[A\n",
      " 57%|█████▋    | 180/318 [00:02<00:01, 78.64it/s]\u001b[A\n",
      " 59%|█████▉    | 189/318 [00:02<00:01, 80.66it/s]\u001b[A\n",
      " 62%|██████▏   | 198/318 [00:02<00:01, 82.22it/s]\u001b[A\n",
      " 65%|██████▌   | 207/318 [00:02<00:01, 78.62it/s]\u001b[A\n",
      " 68%|██████▊   | 215/318 [00:02<00:01, 76.53it/s]\u001b[A\n",
      " 70%|███████   | 223/318 [00:03<00:01, 75.06it/s]\u001b[A\n",
      " 73%|███████▎  | 231/318 [00:03<00:01, 74.40it/s]\u001b[A\n",
      " 75%|███████▌  | 239/318 [00:03<00:01, 73.79it/s]\u001b[A\n",
      " 78%|███████▊  | 247/318 [00:03<00:00, 73.36it/s]\u001b[A\n",
      " 80%|████████  | 255/318 [00:03<00:00, 73.35it/s]\u001b[A\n",
      " 83%|████████▎ | 264/318 [00:03<00:00, 76.90it/s]\u001b[A\n",
      " 86%|████████▌ | 273/318 [00:03<00:00, 79.58it/s]\u001b[A\n",
      " 89%|████████▊ | 282/318 [00:03<00:00, 80.50it/s]\u001b[A\n",
      " 92%|█████████▏| 291/318 [00:03<00:00, 82.01it/s]\u001b[A\n",
      " 94%|█████████▍| 300/318 [00:03<00:00, 78.42it/s]\u001b[A\n",
      " 97%|█████████▋| 308/318 [00:04<00:00, 78.84it/s]\u001b[A\n",
      "100%|█████████▉| 317/318 [00:04<00:00, 80.92it/s]\u001b[A/cm/shared/ebtree/software/Python/3.8.6-GCCcore-10.2.0/lib/python3.8/site-packages/sklearn/metrics/_classification.py:1248: UndefinedMetricWarning: Precision is ill-defined and being set to 0.0 in labels with no predicted samples. Use `zero_division` parameter to control this behavior.\n",
      "  _warn_prf(average, modifier, msg_start, len(result))\n",
      "                                                    \n",
      " 54%|█████▍    | 9233/17147 [09:58<07:18, 18.07it/s]\n",
      "100%|██████████| 318/318 [00:04<00:00, 80.92it/s]\u001b[A\n",
      "                                                 \u001b[ASaving model checkpoint to ./Checkpoints/MarBertv2_hyperparams/run-0/checkpoint-9233\n",
      "Configuration saved in ./Checkpoints/MarBertv2_hyperparams/run-0/checkpoint-9233/config.json\n"
     ]
    },
    {
     "name": "stdout",
     "output_type": "stream",
     "text": [
      "{'eval_loss': 0.692937970161438, 'eval_f1': 0.4054307116104869, 'eval_recall': 0.5, 'eval_precision': 0.3409448818897638, 'eval_runtime': 4.2847, 'eval_samples_per_second': 296.405, 'eval_steps_per_second': 74.218, 'epoch': 7.0}\n"
     ]
    },
    {
     "name": "stderr",
     "output_type": "stream",
     "text": [
      "Model weights saved in ./Checkpoints/MarBertv2_hyperparams/run-0/checkpoint-9233/pytorch_model.bin\n",
      "tokenizer config file saved in ./Checkpoints/MarBertv2_hyperparams/run-0/checkpoint-9233/tokenizer_config.json\n",
      "Special tokens file saved in ./Checkpoints/MarBertv2_hyperparams/run-0/checkpoint-9233/special_tokens_map.json\n",
      " 55%|█████▌    | 9503/17147 [10:21<07:39, 16.63it/s]  "
     ]
    },
    {
     "name": "stdout",
     "output_type": "stream",
     "text": [
      "{'loss': 0.6936, 'learning_rate': 0.00030935891698611944, 'epoch': 7.2}\n"
     ]
    },
    {
     "name": "stderr",
     "output_type": "stream",
     "text": [
      " 58%|█████▊    | 10003/17147 [10:49<06:44, 17.64it/s]"
     ]
    },
    {
     "name": "stdout",
     "output_type": "stream",
     "text": [
      "{'loss': 0.6936, 'learning_rate': 0.0002891314475872624, 'epoch': 7.58}\n"
     ]
    },
    {
     "name": "stderr",
     "output_type": "stream",
     "text": [
      " 61%|██████▏   | 10503/17147 [11:18<06:11, 17.91it/s]"
     ]
    },
    {
     "name": "stdout",
     "output_type": "stream",
     "text": [
      "{'loss': 0.6938, 'learning_rate': 0.0002689039781884054, 'epoch': 7.96}\n"
     ]
    },
    {
     "name": "stderr",
     "output_type": "stream",
     "text": [
      " 62%|██████▏   | 10551/17147 [11:20<06:13, 17.68it/s]The following columns in the evaluation set  don't have a corresponding argument in `BertForSequenceClassification.forward` and have been ignored: text. If text are not expected by `BertForSequenceClassification.forward`,  you can safely ignore this message.\n",
      "***** Running Evaluation *****\n",
      "  Num examples = 1270\n",
      "  Batch size = 4\n",
      "\n",
      "  0%|          | 0/318 [00:00<?, ?it/s]\u001b[A\n",
      "  3%|▎         | 10/318 [00:00<00:03, 97.62it/s]\u001b[A\n",
      "  6%|▋         | 20/318 [00:00<00:03, 90.79it/s]\u001b[A\n",
      "  9%|▉         | 30/318 [00:00<00:03, 88.77it/s]\u001b[A\n",
      " 12%|█▏        | 39/318 [00:00<00:03, 88.24it/s]\u001b[A\n",
      " 15%|█▌        | 48/318 [00:00<00:03, 87.50it/s]\u001b[A\n",
      " 18%|█▊        | 57/318 [00:00<00:02, 87.55it/s]\u001b[A\n",
      " 21%|██        | 66/318 [00:00<00:02, 87.92it/s]\u001b[A\n",
      " 24%|██▎       | 75/318 [00:00<00:02, 86.16it/s]\u001b[A\n",
      " 26%|██▋       | 84/318 [00:00<00:02, 86.65it/s]\u001b[A\n",
      " 29%|██▉       | 93/318 [00:01<00:02, 87.11it/s]\u001b[A\n",
      " 32%|███▏      | 102/318 [00:01<00:02, 87.22it/s]\u001b[A\n",
      " 35%|███▍      | 111/318 [00:01<00:02, 87.25it/s]\u001b[A\n",
      " 38%|███▊      | 120/318 [00:01<00:02, 87.38it/s]\u001b[A\n",
      " 41%|████      | 129/318 [00:01<00:02, 87.24it/s]\u001b[A\n",
      " 43%|████▎     | 138/318 [00:01<00:02, 87.53it/s]\u001b[A\n",
      " 46%|████▌     | 147/318 [00:01<00:01, 87.53it/s]\u001b[A\n",
      " 49%|████▉     | 156/318 [00:01<00:01, 87.45it/s]\u001b[A\n",
      " 52%|█████▏    | 165/318 [00:01<00:01, 87.41it/s]\u001b[A\n",
      " 55%|█████▍    | 174/318 [00:01<00:01, 85.59it/s]\u001b[A\n",
      " 58%|█████▊    | 183/318 [00:02<00:01, 81.05it/s]\u001b[A\n",
      " 60%|██████    | 192/318 [00:02<00:01, 78.34it/s]\u001b[A\n",
      " 63%|██████▎   | 200/318 [00:02<00:01, 76.63it/s]\u001b[A\n",
      " 65%|██████▌   | 208/318 [00:02<00:01, 75.35it/s]\u001b[A\n",
      " 68%|██████▊   | 216/318 [00:02<00:01, 74.54it/s]\u001b[A\n",
      " 71%|███████   | 225/318 [00:02<00:01, 77.87it/s]\u001b[A\n",
      " 74%|███████▎  | 234/318 [00:02<00:01, 80.36it/s]\u001b[A\n",
      " 76%|███████▋  | 243/318 [00:02<00:00, 82.23it/s]\u001b[A\n",
      " 79%|███████▉  | 252/318 [00:02<00:00, 83.79it/s]\u001b[A\n",
      " 82%|████████▏ | 261/318 [00:03<00:00, 84.50it/s]\u001b[A\n",
      " 85%|████████▍ | 270/318 [00:03<00:00, 85.00it/s]\u001b[A\n",
      " 88%|████████▊ | 279/318 [00:03<00:00, 84.54it/s]\u001b[A\n",
      " 91%|█████████ | 288/318 [00:03<00:00, 85.36it/s]\u001b[A\n",
      " 93%|█████████▎| 297/318 [00:03<00:00, 85.95it/s]\u001b[A\n",
      " 96%|█████████▌| 306/318 [00:03<00:00, 85.97it/s]\u001b[A\n",
      " 99%|█████████▉| 315/318 [00:03<00:00, 85.91it/s]\u001b[A/cm/shared/ebtree/software/Python/3.8.6-GCCcore-10.2.0/lib/python3.8/site-packages/sklearn/metrics/_classification.py:1248: UndefinedMetricWarning: Precision is ill-defined and being set to 0.0 in labels with no predicted samples. Use `zero_division` parameter to control this behavior.\n",
      "  _warn_prf(average, modifier, msg_start, len(result))\n",
      "                                                     \n",
      " 62%|██████▏   | 10552/17147 [11:24<06:13, 17.68it/s]\n",
      "100%|██████████| 318/318 [00:03<00:00, 85.91it/s]\u001b[A\n",
      "                                                 \u001b[ASaving model checkpoint to ./Checkpoints/MarBertv2_hyperparams/run-0/checkpoint-10552\n",
      "Configuration saved in ./Checkpoints/MarBertv2_hyperparams/run-0/checkpoint-10552/config.json\n"
     ]
    },
    {
     "name": "stdout",
     "output_type": "stream",
     "text": [
      "{'eval_loss': 0.6923338174819946, 'eval_f1': 0.4054307116104869, 'eval_recall': 0.5, 'eval_precision': 0.3409448818897638, 'eval_runtime': 3.8329, 'eval_samples_per_second': 331.344, 'eval_steps_per_second': 82.966, 'epoch': 8.0}\n"
     ]
    },
    {
     "name": "stderr",
     "output_type": "stream",
     "text": [
      "Model weights saved in ./Checkpoints/MarBertv2_hyperparams/run-0/checkpoint-10552/pytorch_model.bin\n",
      "tokenizer config file saved in ./Checkpoints/MarBertv2_hyperparams/run-0/checkpoint-10552/tokenizer_config.json\n",
      "Special tokens file saved in ./Checkpoints/MarBertv2_hyperparams/run-0/checkpoint-10552/special_tokens_map.json\n",
      " 64%|██████▍   | 11003/17147 [11:57<06:59, 14.65it/s]  "
     ]
    },
    {
     "name": "stdout",
     "output_type": "stream",
     "text": [
      "{'loss': 0.6935, 'learning_rate': 0.00024867650878954834, 'epoch': 8.34}\n"
     ]
    },
    {
     "name": "stderr",
     "output_type": "stream",
     "text": [
      " 67%|██████▋   | 11503/17147 [12:26<05:09, 18.21it/s]"
     ]
    },
    {
     "name": "stdout",
     "output_type": "stream",
     "text": [
      "{'loss': 0.6939, 'learning_rate': 0.00022844903939069132, 'epoch': 8.72}\n"
     ]
    },
    {
     "name": "stderr",
     "output_type": "stream",
     "text": [
      " 69%|██████▉   | 11871/17147 [12:46<05:09, 17.02it/s]The following columns in the evaluation set  don't have a corresponding argument in `BertForSequenceClassification.forward` and have been ignored: text. If text are not expected by `BertForSequenceClassification.forward`,  you can safely ignore this message.\n",
      "***** Running Evaluation *****\n",
      "  Num examples = 1270\n",
      "  Batch size = 4\n",
      "\n",
      "  0%|          | 0/318 [00:00<?, ?it/s]\u001b[A\n",
      "  3%|▎         | 11/318 [00:00<00:03, 100.56it/s]\u001b[A\n",
      "  7%|▋         | 22/318 [00:00<00:03, 92.57it/s] \u001b[A\n",
      " 10%|█         | 32/318 [00:00<00:03, 90.47it/s]\u001b[A\n",
      " 13%|█▎        | 42/318 [00:00<00:03, 88.92it/s]\u001b[A\n",
      " 16%|█▋        | 52/318 [00:00<00:02, 89.73it/s]\u001b[A\n",
      " 19%|█▉        | 61/318 [00:00<00:03, 85.43it/s]\u001b[A\n",
      " 22%|██▏       | 70/318 [00:00<00:02, 86.30it/s]\u001b[A\n",
      " 25%|██▍       | 79/318 [00:00<00:02, 86.78it/s]\u001b[A\n",
      " 28%|██▊       | 89/318 [00:01<00:02, 87.86it/s]\u001b[A\n",
      " 31%|███       | 98/318 [00:01<00:02, 87.85it/s]\u001b[A\n",
      " 34%|███▎      | 107/318 [00:01<00:02, 87.80it/s]\u001b[A\n",
      " 36%|███▋      | 116/318 [00:01<00:02, 87.59it/s]\u001b[A\n",
      " 39%|███▉      | 125/318 [00:01<00:02, 88.01it/s]\u001b[A\n",
      " 42%|████▏     | 134/318 [00:01<00:02, 87.90it/s]\u001b[A\n",
      " 45%|████▍     | 143/318 [00:01<00:01, 88.38it/s]\u001b[A\n",
      " 48%|████▊     | 152/318 [00:01<00:01, 88.78it/s]\u001b[A\n",
      " 51%|█████     | 161/318 [00:01<00:01, 88.79it/s]\u001b[A\n",
      " 53%|█████▎    | 170/318 [00:01<00:01, 88.83it/s]\u001b[A\n",
      " 56%|█████▋    | 179/318 [00:02<00:01, 88.83it/s]\u001b[A\n",
      " 59%|█████▉    | 188/318 [00:02<00:01, 88.60it/s]\u001b[A\n",
      " 62%|██████▏   | 197/318 [00:02<00:01, 88.93it/s]\u001b[A\n",
      " 65%|██████▌   | 207/318 [00:02<00:01, 89.34it/s]\u001b[A\n",
      " 68%|██████▊   | 217/318 [00:02<00:01, 89.88it/s]\u001b[A\n",
      " 71%|███████   | 226/318 [00:02<00:01, 89.51it/s]\u001b[A\n",
      " 74%|███████▍  | 235/318 [00:02<00:00, 87.66it/s]\u001b[A\n",
      " 77%|███████▋  | 244/318 [00:02<00:00, 87.45it/s]\u001b[A\n",
      " 80%|███████▉  | 253/318 [00:02<00:00, 87.47it/s]\u001b[A\n",
      " 82%|████████▏ | 262/318 [00:02<00:00, 87.57it/s]\u001b[A\n",
      " 85%|████████▌ | 271/318 [00:03<00:00, 87.84it/s]\u001b[A\n",
      " 88%|████████▊ | 280/318 [00:03<00:00, 87.88it/s]\u001b[A\n",
      " 91%|█████████ | 289/318 [00:03<00:00, 87.70it/s]\u001b[A\n",
      " 94%|█████████▎| 298/318 [00:03<00:00, 87.64it/s]\u001b[A\n",
      " 97%|█████████▋| 307/318 [00:03<00:00, 86.07it/s]\u001b[A\n",
      " 99%|█████████▉| 316/318 [00:03<00:00, 86.89it/s]\u001b[A/cm/shared/ebtree/software/Python/3.8.6-GCCcore-10.2.0/lib/python3.8/site-packages/sklearn/metrics/_classification.py:1248: UndefinedMetricWarning: Precision is ill-defined and being set to 0.0 in labels with no predicted samples. Use `zero_division` parameter to control this behavior.\n",
      "  _warn_prf(average, modifier, msg_start, len(result))\n",
      "                                                     \n",
      " 69%|██████▉   | 11871/17147 [12:50<05:09, 17.02it/s]\n",
      "100%|██████████| 318/318 [00:03<00:00, 86.89it/s]\u001b[A\n",
      "                                                 \u001b[ASaving model checkpoint to ./Checkpoints/MarBertv2_hyperparams/run-0/checkpoint-11871\n",
      "Configuration saved in ./Checkpoints/MarBertv2_hyperparams/run-0/checkpoint-11871/config.json\n"
     ]
    },
    {
     "name": "stdout",
     "output_type": "stream",
     "text": [
      "{'eval_loss': 0.6927797198295593, 'eval_f1': 0.4054307116104869, 'eval_recall': 0.5, 'eval_precision': 0.3409448818897638, 'eval_runtime': 3.6842, 'eval_samples_per_second': 344.716, 'eval_steps_per_second': 86.315, 'epoch': 9.0}\n"
     ]
    },
    {
     "name": "stderr",
     "output_type": "stream",
     "text": [
      "Model weights saved in ./Checkpoints/MarBertv2_hyperparams/run-0/checkpoint-11871/pytorch_model.bin\n",
      "tokenizer config file saved in ./Checkpoints/MarBertv2_hyperparams/run-0/checkpoint-11871/tokenizer_config.json\n",
      "Special tokens file saved in ./Checkpoints/MarBertv2_hyperparams/run-0/checkpoint-11871/special_tokens_map.json\n",
      " 70%|███████   | 12003/17147 [13:04<04:52, 17.56it/s]  "
     ]
    },
    {
     "name": "stdout",
     "output_type": "stream",
     "text": [
      "{'loss': 0.6937, 'learning_rate': 0.0002082215699918343, 'epoch': 9.1}\n"
     ]
    },
    {
     "name": "stderr",
     "output_type": "stream",
     "text": [
      " 73%|███████▎  | 12503/17147 [13:33<04:17, 18.04it/s]"
     ]
    },
    {
     "name": "stdout",
     "output_type": "stream",
     "text": [
      "{'loss': 0.6936, 'learning_rate': 0.00018799410059297726, 'epoch': 9.48}\n"
     ]
    },
    {
     "name": "stderr",
     "output_type": "stream",
     "text": [
      " 76%|███████▌  | 13003/17147 [14:01<03:47, 18.20it/s]"
     ]
    },
    {
     "name": "stdout",
     "output_type": "stream",
     "text": [
      "{'loss': 0.6935, 'learning_rate': 0.0001677666311941202, 'epoch': 9.86}\n"
     ]
    },
    {
     "name": "stderr",
     "output_type": "stream",
     "text": [
      " 77%|███████▋  | 13189/17147 [14:12<03:39, 18.05it/s]The following columns in the evaluation set  don't have a corresponding argument in `BertForSequenceClassification.forward` and have been ignored: text. If text are not expected by `BertForSequenceClassification.forward`,  you can safely ignore this message.\n",
      "***** Running Evaluation *****\n",
      "  Num examples = 1270\n",
      "  Batch size = 4\n",
      "\n",
      "  0%|          | 0/318 [00:00<?, ?it/s]\u001b[A\n",
      "  3%|▎         | 10/318 [00:00<00:03, 93.25it/s]\u001b[A\n",
      "  6%|▋         | 20/318 [00:00<00:03, 88.39it/s]\u001b[A\n",
      "  9%|▉         | 29/318 [00:00<00:03, 88.46it/s]\u001b[A\n",
      " 12%|█▏        | 38/318 [00:00<00:03, 88.38it/s]\u001b[A\n",
      " 15%|█▍        | 47/318 [00:00<00:03, 88.07it/s]\u001b[A\n",
      " 18%|█▊        | 56/318 [00:00<00:02, 88.25it/s]\u001b[A\n",
      " 20%|██        | 65/318 [00:00<00:02, 86.81it/s]\u001b[A\n",
      " 23%|██▎       | 74/318 [00:00<00:02, 86.79it/s]\u001b[A\n",
      " 26%|██▌       | 83/318 [00:00<00:02, 86.84it/s]\u001b[A\n",
      " 29%|██▉       | 92/318 [00:01<00:02, 87.43it/s]\u001b[A\n",
      " 32%|███▏      | 101/318 [00:01<00:02, 87.84it/s]\u001b[A\n",
      " 35%|███▍      | 110/318 [00:01<00:02, 88.06it/s]\u001b[A\n",
      " 37%|███▋      | 119/318 [00:01<00:02, 87.70it/s]\u001b[A\n",
      " 40%|████      | 128/318 [00:01<00:02, 87.92it/s]\u001b[A\n",
      " 43%|████▎     | 137/318 [00:01<00:02, 88.20it/s]\u001b[A\n",
      " 46%|████▌     | 146/318 [00:01<00:01, 88.20it/s]\u001b[A\n",
      " 49%|████▊     | 155/318 [00:01<00:01, 87.84it/s]\u001b[A\n",
      " 52%|█████▏    | 164/318 [00:01<00:01, 88.03it/s]\u001b[A\n",
      " 54%|█████▍    | 173/318 [00:01<00:01, 87.92it/s]\u001b[A\n",
      " 57%|█████▋    | 182/318 [00:02<00:01, 87.17it/s]\u001b[A\n",
      " 60%|██████    | 191/318 [00:02<00:01, 87.45it/s]\u001b[A\n",
      " 63%|██████▎   | 200/318 [00:02<00:01, 87.57it/s]\u001b[A\n",
      " 66%|██████▌   | 209/318 [00:02<00:01, 87.63it/s]\u001b[A\n",
      " 69%|██████▊   | 218/318 [00:02<00:01, 87.88it/s]\u001b[A\n",
      " 71%|███████▏  | 227/318 [00:02<00:01, 87.78it/s]\u001b[A\n",
      " 74%|███████▍  | 236/318 [00:02<00:00, 87.69it/s]\u001b[A\n",
      " 77%|███████▋  | 245/318 [00:02<00:00, 87.92it/s]\u001b[A\n",
      " 80%|███████▉  | 254/318 [00:02<00:00, 87.98it/s]\u001b[A\n",
      " 83%|████████▎ | 263/318 [00:02<00:00, 88.13it/s]\u001b[A\n",
      " 86%|████████▌ | 272/318 [00:03<00:00, 85.61it/s]\u001b[A\n",
      " 88%|████████▊ | 281/318 [00:03<00:00, 84.83it/s]\u001b[A\n",
      " 91%|█████████ | 290/318 [00:03<00:00, 85.51it/s]\u001b[A\n",
      " 94%|█████████▍| 299/318 [00:03<00:00, 85.97it/s]\u001b[A\n",
      " 97%|█████████▋| 308/318 [00:03<00:00, 86.32it/s]\u001b[A\n",
      "100%|█████████▉| 317/318 [00:03<00:00, 86.73it/s]\u001b[A/cm/shared/ebtree/software/Python/3.8.6-GCCcore-10.2.0/lib/python3.8/site-packages/sklearn/metrics/_classification.py:1248: UndefinedMetricWarning: Precision is ill-defined and being set to 0.0 in labels with no predicted samples. Use `zero_division` parameter to control this behavior.\n",
      "  _warn_prf(average, modifier, msg_start, len(result))\n",
      "                                                     \n",
      " 77%|███████▋  | 13190/17147 [14:16<03:39, 18.05it/s]\n",
      "100%|██████████| 318/318 [00:03<00:00, 86.73it/s]\u001b[A\n",
      "                                                 \u001b[ASaving model checkpoint to ./Checkpoints/MarBertv2_hyperparams/run-0/checkpoint-13190\n",
      "Configuration saved in ./Checkpoints/MarBertv2_hyperparams/run-0/checkpoint-13190/config.json\n"
     ]
    },
    {
     "name": "stdout",
     "output_type": "stream",
     "text": [
      "{'eval_loss': 0.6927951574325562, 'eval_f1': 0.4054307116104869, 'eval_recall': 0.5, 'eval_precision': 0.3409448818897638, 'eval_runtime': 3.7113, 'eval_samples_per_second': 342.198, 'eval_steps_per_second': 85.684, 'epoch': 10.0}\n"
     ]
    },
    {
     "name": "stderr",
     "output_type": "stream",
     "text": [
      "Model weights saved in ./Checkpoints/MarBertv2_hyperparams/run-0/checkpoint-13190/pytorch_model.bin\n",
      "tokenizer config file saved in ./Checkpoints/MarBertv2_hyperparams/run-0/checkpoint-13190/tokenizer_config.json\n",
      "Special tokens file saved in ./Checkpoints/MarBertv2_hyperparams/run-0/checkpoint-13190/special_tokens_map.json\n",
      " 79%|███████▊  | 13503/17147 [14:40<03:27, 17.53it/s]  "
     ]
    },
    {
     "name": "stdout",
     "output_type": "stream",
     "text": [
      "{'loss': 0.6935, 'learning_rate': 0.0001475391617952632, 'epoch': 10.24}\n"
     ]
    },
    {
     "name": "stderr",
     "output_type": "stream",
     "text": [
      " 82%|████████▏ | 14003/17147 [15:08<03:04, 17.05it/s]"
     ]
    },
    {
     "name": "stdout",
     "output_type": "stream",
     "text": [
      "{'loss': 0.6934, 'learning_rate': 0.00012731169239640615, 'epoch': 10.61}\n"
     ]
    },
    {
     "name": "stderr",
     "output_type": "stream",
     "text": [
      " 85%|████████▍ | 14503/17147 [15:36<02:29, 17.70it/s]"
     ]
    },
    {
     "name": "stdout",
     "output_type": "stream",
     "text": [
      "{'loss': 0.6934, 'learning_rate': 0.00010708422299754913, 'epoch': 10.99}\n"
     ]
    },
    {
     "name": "stderr",
     "output_type": "stream",
     "text": [
      " 85%|████████▍ | 14509/17147 [15:37<02:39, 16.53it/s]The following columns in the evaluation set  don't have a corresponding argument in `BertForSequenceClassification.forward` and have been ignored: text. If text are not expected by `BertForSequenceClassification.forward`,  you can safely ignore this message.\n",
      "***** Running Evaluation *****\n",
      "  Num examples = 1270\n",
      "  Batch size = 4\n",
      "\n",
      "  0%|          | 0/318 [00:00<?, ?it/s]\u001b[A\n",
      "  3%|▎         | 10/318 [00:00<00:03, 98.07it/s]\u001b[A\n",
      "  6%|▋         | 20/318 [00:00<00:03, 91.56it/s]\u001b[A\n",
      "  9%|▉         | 30/318 [00:00<00:03, 89.59it/s]\u001b[A\n",
      " 12%|█▏        | 39/318 [00:00<00:03, 87.64it/s]\u001b[A\n",
      " 15%|█▌        | 48/318 [00:00<00:03, 87.60it/s]\u001b[A\n",
      " 18%|█▊        | 57/318 [00:00<00:03, 86.69it/s]\u001b[A\n",
      " 21%|██        | 66/318 [00:00<00:02, 87.36it/s]\u001b[A\n",
      " 24%|██▎       | 75/318 [00:00<00:02, 87.61it/s]\u001b[A\n",
      " 27%|██▋       | 85/318 [00:00<00:02, 88.45it/s]\u001b[A\n",
      " 30%|██▉       | 94/318 [00:01<00:02, 88.28it/s]\u001b[A\n",
      " 32%|███▏      | 103/318 [00:01<00:02, 88.21it/s]\u001b[A\n",
      " 35%|███▌      | 112/318 [00:01<00:02, 88.32it/s]\u001b[A\n",
      " 38%|███▊      | 121/318 [00:01<00:02, 88.75it/s]\u001b[A\n",
      " 41%|████      | 130/318 [00:01<00:02, 76.69it/s]\u001b[A\n",
      " 44%|████▎     | 139/318 [00:01<00:02, 78.36it/s]\u001b[A\n",
      " 47%|████▋     | 148/318 [00:01<00:02, 80.89it/s]\u001b[A\n",
      " 49%|████▉     | 157/318 [00:01<00:01, 82.33it/s]\u001b[A\n",
      " 52%|█████▏    | 166/318 [00:01<00:01, 83.84it/s]\u001b[A\n",
      " 55%|█████▌    | 175/318 [00:02<00:01, 84.68it/s]\u001b[A\n",
      " 58%|█████▊    | 184/318 [00:02<00:01, 86.05it/s]\u001b[A\n",
      " 61%|██████    | 193/318 [00:02<00:01, 86.73it/s]\u001b[A\n",
      " 64%|██████▎   | 202/318 [00:02<00:01, 87.14it/s]\u001b[A\n",
      " 66%|██████▋   | 211/318 [00:02<00:01, 86.08it/s]\u001b[A\n",
      " 69%|██████▉   | 220/318 [00:02<00:01, 86.64it/s]\u001b[A\n",
      " 72%|███████▏  | 229/318 [00:02<00:01, 86.01it/s]\u001b[A\n",
      " 75%|███████▍  | 238/318 [00:02<00:00, 87.08it/s]\u001b[A\n",
      " 78%|███████▊  | 248/318 [00:02<00:00, 88.10it/s]\u001b[A\n",
      " 81%|████████  | 257/318 [00:02<00:00, 88.61it/s]\u001b[A\n",
      " 84%|████████▎ | 266/318 [00:03<00:00, 88.65it/s]\u001b[A\n",
      " 86%|████████▋ | 275/318 [00:03<00:00, 88.36it/s]\u001b[A\n",
      " 89%|████████▉ | 284/318 [00:03<00:00, 88.84it/s]\u001b[A\n",
      " 92%|█████████▏| 294/318 [00:03<00:00, 89.50it/s]\u001b[A\n",
      " 95%|█████████▌| 303/318 [00:03<00:00, 89.07it/s]\u001b[A\n",
      " 98%|█████████▊| 312/318 [00:03<00:00, 88.75it/s]\u001b[A/cm/shared/ebtree/software/Python/3.8.6-GCCcore-10.2.0/lib/python3.8/site-packages/sklearn/metrics/_classification.py:1248: UndefinedMetricWarning: Precision is ill-defined and being set to 0.0 in labels with no predicted samples. Use `zero_division` parameter to control this behavior.\n",
      "  _warn_prf(average, modifier, msg_start, len(result))\n",
      "                                                     \n",
      " 85%|████████▍ | 14509/17147 [15:40<02:39, 16.53it/s]\n",
      "100%|██████████| 318/318 [00:03<00:00, 88.75it/s]\u001b[A\n",
      "                                                 \u001b[ASaving model checkpoint to ./Checkpoints/MarBertv2_hyperparams/run-0/checkpoint-14509\n",
      "Configuration saved in ./Checkpoints/MarBertv2_hyperparams/run-0/checkpoint-14509/config.json\n"
     ]
    },
    {
     "name": "stdout",
     "output_type": "stream",
     "text": [
      "{'eval_loss': 0.6929324269294739, 'eval_f1': 0.4054307116104869, 'eval_recall': 0.5, 'eval_precision': 0.3409448818897638, 'eval_runtime': 3.7459, 'eval_samples_per_second': 339.036, 'eval_steps_per_second': 84.892, 'epoch': 11.0}\n"
     ]
    },
    {
     "name": "stderr",
     "output_type": "stream",
     "text": [
      "Model weights saved in ./Checkpoints/MarBertv2_hyperparams/run-0/checkpoint-14509/pytorch_model.bin\n",
      "tokenizer config file saved in ./Checkpoints/MarBertv2_hyperparams/run-0/checkpoint-14509/tokenizer_config.json\n",
      "Special tokens file saved in ./Checkpoints/MarBertv2_hyperparams/run-0/checkpoint-14509/special_tokens_map.json\n",
      " 87%|████████▋ | 15003/17147 [16:15<02:05, 17.04it/s]  "
     ]
    },
    {
     "name": "stdout",
     "output_type": "stream",
     "text": [
      "{'loss': 0.6933, 'learning_rate': 8.68567535986921e-05, 'epoch': 11.37}\n"
     ]
    },
    {
     "name": "stderr",
     "output_type": "stream",
     "text": [
      " 90%|█████████ | 15503/17147 [16:43<01:30, 18.15it/s]"
     ]
    },
    {
     "name": "stdout",
     "output_type": "stream",
     "text": [
      "{'loss': 0.6933, 'learning_rate': 6.662928419983507e-05, 'epoch': 11.75}\n"
     ]
    },
    {
     "name": "stderr",
     "output_type": "stream",
     "text": [
      " 92%|█████████▏| 15827/17147 [17:01<01:11, 18.49it/s]The following columns in the evaluation set  don't have a corresponding argument in `BertForSequenceClassification.forward` and have been ignored: text. If text are not expected by `BertForSequenceClassification.forward`,  you can safely ignore this message.\n",
      "***** Running Evaluation *****\n",
      "  Num examples = 1270\n",
      "  Batch size = 4\n",
      "\n",
      "  0%|          | 0/318 [00:00<?, ?it/s]\u001b[A\n",
      "  3%|▎         | 10/318 [00:00<00:03, 97.90it/s]\u001b[A\n",
      "  6%|▋         | 20/318 [00:00<00:03, 87.48it/s]\u001b[A\n",
      "  9%|▉         | 29/318 [00:00<00:03, 87.49it/s]\u001b[A\n",
      " 12%|█▏        | 38/318 [00:00<00:03, 85.95it/s]\u001b[A\n",
      " 15%|█▍        | 47/318 [00:00<00:03, 86.59it/s]\u001b[A\n",
      " 18%|█▊        | 56/318 [00:00<00:03, 86.81it/s]\u001b[A\n",
      " 20%|██        | 65/318 [00:00<00:02, 87.02it/s]\u001b[A\n",
      " 23%|██▎       | 74/318 [00:00<00:02, 87.05it/s]\u001b[A\n",
      " 26%|██▌       | 83/318 [00:00<00:02, 86.23it/s]\u001b[A\n",
      " 29%|██▉       | 92/318 [00:01<00:02, 86.64it/s]\u001b[A\n",
      " 32%|███▏      | 101/318 [00:01<00:02, 86.84it/s]\u001b[A\n",
      " 35%|███▍      | 110/318 [00:01<00:02, 87.04it/s]\u001b[A\n",
      " 37%|███▋      | 119/318 [00:01<00:02, 86.56it/s]\u001b[A\n",
      " 40%|████      | 128/318 [00:01<00:02, 81.90it/s]\u001b[A\n",
      " 43%|████▎     | 137/318 [00:01<00:02, 79.08it/s]\u001b[A\n",
      " 46%|████▌     | 145/318 [00:01<00:02, 77.26it/s]\u001b[A\n",
      " 48%|████▊     | 154/318 [00:01<00:02, 78.93it/s]\u001b[A\n",
      " 51%|█████▏    | 163/318 [00:01<00:01, 81.15it/s]\u001b[A\n",
      " 54%|█████▍    | 172/318 [00:02<00:01, 82.41it/s]\u001b[A\n",
      " 57%|█████▋    | 181/318 [00:02<00:01, 83.69it/s]\u001b[A\n",
      " 60%|█████▉    | 190/318 [00:02<00:01, 84.55it/s]\u001b[A\n",
      " 63%|██████▎   | 199/318 [00:02<00:01, 85.27it/s]\u001b[A\n",
      " 65%|██████▌   | 208/318 [00:02<00:01, 85.70it/s]\u001b[A\n",
      " 68%|██████▊   | 217/318 [00:02<00:01, 85.94it/s]\u001b[A\n",
      " 71%|███████   | 226/318 [00:02<00:01, 86.12it/s]\u001b[A\n",
      " 74%|███████▍  | 235/318 [00:02<00:00, 86.62it/s]\u001b[A\n",
      " 77%|███████▋  | 244/318 [00:02<00:00, 86.34it/s]\u001b[A\n",
      " 80%|███████▉  | 253/318 [00:02<00:00, 86.22it/s]\u001b[A\n",
      " 82%|████████▏ | 262/318 [00:03<00:00, 86.25it/s]\u001b[A\n",
      " 85%|████████▌ | 271/318 [00:03<00:00, 86.13it/s]\u001b[A\n",
      " 88%|████████▊ | 280/318 [00:03<00:00, 86.10it/s]\u001b[A\n",
      " 91%|█████████ | 289/318 [00:03<00:00, 86.01it/s]\u001b[A\n",
      " 94%|█████████▎| 298/318 [00:03<00:00, 86.05it/s]\u001b[A\n",
      " 97%|█████████▋| 307/318 [00:03<00:00, 84.33it/s]\u001b[A\n",
      " 99%|█████████▉| 316/318 [00:03<00:00, 84.74it/s]\u001b[A/cm/shared/ebtree/software/Python/3.8.6-GCCcore-10.2.0/lib/python3.8/site-packages/sklearn/metrics/_classification.py:1248: UndefinedMetricWarning: Precision is ill-defined and being set to 0.0 in labels with no predicted samples. Use `zero_division` parameter to control this behavior.\n",
      "  _warn_prf(average, modifier, msg_start, len(result))\n",
      "                                                     \n",
      " 92%|█████████▏| 15828/17147 [17:05<01:11, 18.49it/s]\n",
      "100%|██████████| 318/318 [00:03<00:00, 84.74it/s]\u001b[A\n",
      "                                                 \u001b[ASaving model checkpoint to ./Checkpoints/MarBertv2_hyperparams/run-0/checkpoint-15828\n",
      "Configuration saved in ./Checkpoints/MarBertv2_hyperparams/run-0/checkpoint-15828/config.json\n"
     ]
    },
    {
     "name": "stdout",
     "output_type": "stream",
     "text": [
      "{'eval_loss': 0.6930054426193237, 'eval_f1': 0.4054307116104869, 'eval_recall': 0.5, 'eval_precision': 0.3409448818897638, 'eval_runtime': 3.8339, 'eval_samples_per_second': 331.255, 'eval_steps_per_second': 82.944, 'epoch': 12.0}\n"
     ]
    },
    {
     "name": "stderr",
     "output_type": "stream",
     "text": [
      "Model weights saved in ./Checkpoints/MarBertv2_hyperparams/run-0/checkpoint-15828/pytorch_model.bin\n",
      "tokenizer config file saved in ./Checkpoints/MarBertv2_hyperparams/run-0/checkpoint-15828/tokenizer_config.json\n",
      "Special tokens file saved in ./Checkpoints/MarBertv2_hyperparams/run-0/checkpoint-15828/special_tokens_map.json\n",
      " 93%|█████████▎| 16003/17147 [17:22<01:03, 18.01it/s]"
     ]
    },
    {
     "name": "stdout",
     "output_type": "stream",
     "text": [
      "{'loss': 0.6932, 'learning_rate': 4.640181480097803e-05, 'epoch': 12.13}\n"
     ]
    },
    {
     "name": "stderr",
     "output_type": "stream",
     "text": [
      " 96%|█████████▌| 16503/17147 [17:50<00:34, 18.80it/s]"
     ]
    },
    {
     "name": "stdout",
     "output_type": "stream",
     "text": [
      "{'loss': 0.6932, 'learning_rate': 2.6174345402121e-05, 'epoch': 12.51}\n"
     ]
    },
    {
     "name": "stderr",
     "output_type": "stream",
     "text": [
      " 99%|█████████▉| 17003/17147 [18:19<00:08, 16.38it/s]"
     ]
    },
    {
     "name": "stdout",
     "output_type": "stream",
     "text": [
      "{'loss': 0.6932, 'learning_rate': 5.946876003263967e-06, 'epoch': 12.89}\n"
     ]
    },
    {
     "name": "stderr",
     "output_type": "stream",
     "text": [
      "100%|██████████| 17147/17147 [18:27<00:00, 18.30it/s]The following columns in the evaluation set  don't have a corresponding argument in `BertForSequenceClassification.forward` and have been ignored: text. If text are not expected by `BertForSequenceClassification.forward`,  you can safely ignore this message.\n",
      "***** Running Evaluation *****\n",
      "  Num examples = 1270\n",
      "  Batch size = 4\n",
      "\n",
      "  0%|          | 0/318 [00:00<?, ?it/s]\u001b[A\n",
      "  3%|▎         | 10/318 [00:00<00:03, 94.96it/s]\u001b[A\n",
      "  6%|▋         | 20/318 [00:00<00:03, 89.83it/s]\u001b[A\n",
      "  9%|▉         | 30/318 [00:00<00:03, 88.54it/s]\u001b[A\n",
      " 12%|█▏        | 39/318 [00:00<00:03, 88.17it/s]\u001b[A\n",
      " 15%|█▌        | 48/318 [00:00<00:03, 87.85it/s]\u001b[A\n",
      " 18%|█▊        | 57/318 [00:00<00:02, 87.55it/s]\u001b[A\n",
      " 21%|██        | 66/318 [00:00<00:02, 87.14it/s]\u001b[A\n",
      " 24%|██▎       | 75/318 [00:00<00:02, 87.03it/s]\u001b[A\n",
      " 26%|██▋       | 84/318 [00:00<00:02, 87.13it/s]\u001b[A\n",
      " 29%|██▉       | 93/318 [00:01<00:02, 87.66it/s]\u001b[A\n",
      " 32%|███▏      | 102/318 [00:01<00:02, 87.69it/s]\u001b[A\n",
      " 35%|███▍      | 111/318 [00:01<00:02, 87.53it/s]\u001b[A\n",
      " 38%|███▊      | 120/318 [00:01<00:02, 87.65it/s]\u001b[A\n",
      " 41%|████      | 129/318 [00:01<00:02, 87.75it/s]\u001b[A\n",
      " 43%|████▎     | 138/318 [00:01<00:02, 88.18it/s]\u001b[A\n",
      " 46%|████▌     | 147/318 [00:01<00:01, 88.22it/s]\u001b[A\n",
      " 49%|████▉     | 156/318 [00:01<00:01, 87.82it/s]\u001b[A\n",
      " 52%|█████▏    | 165/318 [00:01<00:01, 88.05it/s]\u001b[A\n",
      " 55%|█████▍    | 174/318 [00:01<00:01, 88.07it/s]\u001b[A\n",
      " 58%|█████▊    | 183/318 [00:02<00:01, 87.62it/s]\u001b[A\n",
      " 60%|██████    | 192/318 [00:02<00:01, 87.71it/s]\u001b[A\n",
      " 63%|██████▎   | 201/318 [00:02<00:01, 84.61it/s]\u001b[A\n",
      " 66%|██████▌   | 210/318 [00:02<00:01, 85.76it/s]\u001b[A\n",
      " 69%|██████▉   | 219/318 [00:02<00:01, 86.88it/s]\u001b[A\n",
      " 72%|███████▏  | 228/318 [00:02<00:01, 87.74it/s]\u001b[A\n",
      " 75%|███████▍  | 237/318 [00:02<00:00, 88.27it/s]\u001b[A\n",
      " 77%|███████▋  | 246/318 [00:02<00:00, 88.41it/s]\u001b[A\n",
      " 80%|████████  | 255/318 [00:02<00:00, 88.51it/s]\u001b[A\n",
      " 83%|████████▎ | 264/318 [00:03<00:00, 88.32it/s]\u001b[A\n",
      " 86%|████████▌ | 273/318 [00:03<00:00, 88.00it/s]\u001b[A\n",
      " 89%|████████▊ | 282/318 [00:03<00:00, 87.97it/s]\u001b[A\n",
      " 92%|█████████▏| 291/318 [00:03<00:00, 87.94it/s]\u001b[A\n",
      " 94%|█████████▍| 300/318 [00:03<00:00, 87.88it/s]\u001b[A\n",
      " 97%|█████████▋| 309/318 [00:03<00:00, 88.02it/s]\u001b[A\n",
      "100%|██████████| 318/318 [00:03<00:00, 88.15it/s]\u001b[A/cm/shared/ebtree/software/Python/3.8.6-GCCcore-10.2.0/lib/python3.8/site-packages/sklearn/metrics/_classification.py:1248: UndefinedMetricWarning: Precision is ill-defined and being set to 0.0 in labels with no predicted samples. Use `zero_division` parameter to control this behavior.\n",
      "  _warn_prf(average, modifier, msg_start, len(result))\n",
      "                                                     \n",
      "100%|██████████| 17147/17147 [18:31<00:00, 18.30it/s]\n",
      "100%|██████████| 318/318 [00:03<00:00, 88.15it/s]\u001b[A\n",
      "                                                 \u001b[ASaving model checkpoint to ./Checkpoints/MarBertv2_hyperparams/run-0/checkpoint-17147\n",
      "Configuration saved in ./Checkpoints/MarBertv2_hyperparams/run-0/checkpoint-17147/config.json\n"
     ]
    },
    {
     "name": "stdout",
     "output_type": "stream",
     "text": [
      "{'eval_loss': 0.6931483149528503, 'eval_f1': 0.24133811230585425, 'eval_recall': 0.5, 'eval_precision': 0.15905511811023623, 'eval_runtime': 3.6948, 'eval_samples_per_second': 343.726, 'eval_steps_per_second': 86.067, 'epoch': 13.0}\n"
     ]
    },
    {
     "name": "stderr",
     "output_type": "stream",
     "text": [
      "Model weights saved in ./Checkpoints/MarBertv2_hyperparams/run-0/checkpoint-17147/pytorch_model.bin\n",
      "tokenizer config file saved in ./Checkpoints/MarBertv2_hyperparams/run-0/checkpoint-17147/tokenizer_config.json\n",
      "Special tokens file saved in ./Checkpoints/MarBertv2_hyperparams/run-0/checkpoint-17147/special_tokens_map.json\n",
      "\n",
      "\n",
      "Training completed. Do not forget to share your model on huggingface.co/models =)\n",
      "\n",
      "\n",
      "Loading best model from ./Checkpoints/MarBertv2_hyperparams/run-0/checkpoint-3957 (score: 0.4054307116104869).\n",
      "100%|██████████| 17147/17147 [18:38<00:00, 15.34it/s]\n",
      "\u001b[32m[I 2022-03-28 21:24:28,313]\u001b[0m Trial 0 finished with value: 0.9003932304160904 and parameters: {'learning_rate': 0.000693680835564403, 'weight_decay': 1.5324771152622894e-09, 'num_train_epochs': 13, 'seed': 34, 'per_device_train_batch_size': 8}. Best is trial 0 with value: 0.9003932304160904.\u001b[0m\n",
      "Trial:\n",
      "loading configuration file /scratch/mt/ashapiro/Hate_Speech/Models/Marbertv2/config.json\n",
      "Model config BertConfig {\n",
      "  \"_name_or_path\": \"/scratch/mt/ashapiro/Hate_Speech/Models/Marbertv2/\",\n",
      "  \"architectures\": [\n",
      "    \"BertForMaskedLM\"\n",
      "  ],\n",
      "  \"attention_probs_dropout_prob\": 0.1,\n",
      "  \"classifier_dropout\": null,\n",
      "  \"directionality\": \"bidi\",\n",
      "  \"gradient_checkpointing\": false,\n",
      "  \"hidden_act\": \"gelu\",\n",
      "  \"hidden_dropout_prob\": 0.1,\n",
      "  \"hidden_size\": 768,\n",
      "  \"initializer_range\": 0.02,\n",
      "  \"intermediate_size\": 3072,\n",
      "  \"layer_norm_eps\": 1e-12,\n",
      "  \"max_position_embeddings\": 512,\n",
      "  \"model_type\": \"bert\",\n",
      "  \"num_attention_heads\": 12,\n",
      "  \"num_hidden_layers\": 12,\n",
      "  \"pad_token_id\": 0,\n",
      "  \"pooler_fc_size\": 768,\n",
      "  \"pooler_num_attention_heads\": 12,\n",
      "  \"pooler_num_fc_layers\": 3,\n",
      "  \"pooler_size_per_head\": 128,\n",
      "  \"pooler_type\": \"first_token_transform\",\n",
      "  \"position_embedding_type\": \"absolute\",\n",
      "  \"transformers_version\": \"4.17.0\",\n",
      "  \"type_vocab_size\": 2,\n",
      "  \"use_cache\": true,\n",
      "  \"vocab_size\": 100000\n",
      "}\n",
      "\n",
      "loading weights file /scratch/mt/ashapiro/Hate_Speech/Models/Marbertv2/pytorch_model.bin\n"
     ]
    },
    {
     "name": "stdout",
     "output_type": "stream",
     "text": [
      "{'train_runtime': 1118.0879, 'train_samples_per_second': 122.688, 'train_steps_per_second': 15.336, 'train_loss': 0.7073450349347337, 'epoch': 13.0}\n"
     ]
    },
    {
     "name": "stderr",
     "output_type": "stream",
     "text": [
      "Some weights of the model checkpoint at /scratch/mt/ashapiro/Hate_Speech/Models/Marbertv2/ were not used when initializing BertForSequenceClassification: ['cls.seq_relationship.bias', 'cls.predictions.decoder.bias', 'cls.predictions.transform.LayerNorm.weight', 'cls.seq_relationship.weight', 'cls.predictions.decoder.weight', 'cls.predictions.transform.LayerNorm.bias', 'cls.predictions.transform.dense.weight', 'cls.predictions.bias', 'cls.predictions.transform.dense.bias']\n",
      "- This IS expected if you are initializing BertForSequenceClassification from the checkpoint of a model trained on another task or with another architecture (e.g. initializing a BertForSequenceClassification model from a BertForPreTraining model).\n",
      "- This IS NOT expected if you are initializing BertForSequenceClassification from the checkpoint of a model that you expect to be exactly identical (initializing a BertForSequenceClassification model from a BertForSequenceClassification model).\n",
      "Some weights of BertForSequenceClassification were not initialized from the model checkpoint at /scratch/mt/ashapiro/Hate_Speech/Models/Marbertv2/ and are newly initialized: ['classifier.weight', 'classifier.bias']\n",
      "You should probably TRAIN this model on a down-stream task to be able to use it for predictions and inference.\n",
      "The following columns in the training set  don't have a corresponding argument in `BertForSequenceClassification.forward` and have been ignored: text. If text are not expected by `BertForSequenceClassification.forward`,  you can safely ignore this message.\n",
      "/home/ashapiro/.local/lib/python3.8/site-packages/transformers/optimization.py:306: FutureWarning: This implementation of AdamW is deprecated and will be removed in a future version. Use the PyTorch implementation torch.optim.AdamW instead, or set `no_deprecation_warning=True` to disable this warning\n",
      "  warnings.warn(\n",
      "***** Running training *****\n",
      "  Num examples = 10552\n",
      "  Num Epochs = 16\n",
      "  Instantaneous batch size per device = 16\n",
      "  Total train batch size (w. parallel, distributed & accumulation) = 16\n",
      "  Gradient Accumulation steps = 1\n",
      "  Total optimization steps = 10560\n",
      "  5%|▍         | 501/10560 [00:32<10:43, 15.63it/s]"
     ]
    },
    {
     "name": "stdout",
     "output_type": "stream",
     "text": [
      "{'loss': 0.6173, 'learning_rate': 0.00010642620349714879, 'epoch': 0.76}\n"
     ]
    },
    {
     "name": "stderr",
     "output_type": "stream",
     "text": [
      "  6%|▌         | 659/10560 [00:42<10:29, 15.72it/s]The following columns in the evaluation set  don't have a corresponding argument in `BertForSequenceClassification.forward` and have been ignored: text. If text are not expected by `BertForSequenceClassification.forward`,  you can safely ignore this message.\n",
      "***** Running Evaluation *****\n",
      "  Num examples = 1270\n",
      "  Batch size = 4\n",
      "\n",
      "  0%|          | 0/318 [00:00<?, ?it/s]\u001b[A\n",
      "  3%|▎         | 11/318 [00:00<00:03, 98.87it/s]\u001b[A\n",
      "  7%|▋         | 21/318 [00:00<00:03, 92.64it/s]\u001b[A\n",
      " 10%|▉         | 31/318 [00:00<00:03, 90.84it/s]\u001b[A\n",
      " 13%|█▎        | 41/318 [00:00<00:03, 90.18it/s]\u001b[A\n",
      " 16%|█▌        | 51/318 [00:00<00:02, 90.32it/s]\u001b[A\n",
      " 19%|█▉        | 61/318 [00:00<00:02, 89.81it/s]\u001b[A\n",
      " 22%|██▏       | 70/318 [00:00<00:02, 89.44it/s]\u001b[A\n",
      " 25%|██▍       | 79/318 [00:00<00:02, 88.80it/s]\u001b[A\n",
      " 28%|██▊       | 88/318 [00:00<00:02, 88.52it/s]\u001b[A\n",
      " 31%|███       | 97/318 [00:01<00:02, 88.39it/s]\u001b[A\n",
      " 33%|███▎      | 106/318 [00:01<00:02, 88.75it/s]\u001b[A\n",
      " 36%|███▌      | 115/318 [00:01<00:02, 89.05it/s]\u001b[A\n",
      " 39%|███▉      | 124/318 [00:01<00:02, 88.91it/s]\u001b[A\n",
      " 42%|████▏     | 134/318 [00:01<00:02, 89.56it/s]\u001b[A\n",
      " 45%|████▌     | 144/318 [00:01<00:01, 90.12it/s]\u001b[A\n",
      " 48%|████▊     | 154/318 [00:01<00:01, 90.29it/s]\u001b[A\n",
      " 52%|█████▏    | 164/318 [00:01<00:01, 80.59it/s]\u001b[A\n",
      " 54%|█████▍    | 173/318 [00:01<00:01, 78.77it/s]\u001b[A\n",
      " 57%|█████▋    | 182/318 [00:02<00:01, 80.68it/s]\u001b[A\n",
      " 60%|██████    | 191/318 [00:02<00:01, 82.95it/s]\u001b[A\n",
      " 63%|██████▎   | 200/318 [00:02<00:01, 84.73it/s]\u001b[A\n",
      " 66%|██████▌   | 209/318 [00:02<00:01, 86.03it/s]\u001b[A\n",
      " 69%|██████▊   | 218/318 [00:02<00:01, 87.03it/s]\u001b[A\n",
      " 71%|███████▏  | 227/318 [00:02<00:01, 87.41it/s]\u001b[A\n",
      " 74%|███████▍  | 236/318 [00:02<00:00, 87.11it/s]\u001b[A\n",
      " 77%|███████▋  | 245/318 [00:02<00:00, 87.43it/s]\u001b[A\n",
      " 80%|███████▉  | 254/318 [00:02<00:00, 87.67it/s]\u001b[A\n",
      " 83%|████████▎ | 263/318 [00:03<00:00, 88.15it/s]\u001b[A\n",
      " 86%|████████▌ | 272/318 [00:03<00:00, 88.03it/s]\u001b[A\n",
      " 88%|████████▊ | 281/318 [00:03<00:00, 88.09it/s]\u001b[A\n",
      " 91%|█████████ | 290/318 [00:03<00:00, 88.39it/s]\u001b[A\n",
      " 94%|█████████▍| 299/318 [00:03<00:00, 88.53it/s]\u001b[A\n",
      " 97%|█████████▋| 308/318 [00:03<00:00, 88.62it/s]\u001b[A\n",
      "100%|█████████▉| 317/318 [00:03<00:00, 88.49it/s]\u001b[A\n",
      "                                                   \n",
      "  6%|▋         | 660/10560 [00:46<10:29, 15.72it/s]A\n",
      "                                                 \u001b[ASaving model checkpoint to ./Checkpoints/MarBertv2_hyperparams/run-1/checkpoint-660\n",
      "Configuration saved in ./Checkpoints/MarBertv2_hyperparams/run-1/checkpoint-660/config.json\n"
     ]
    },
    {
     "name": "stdout",
     "output_type": "stream",
     "text": [
      "{'eval_loss': 0.6347977519035339, 'eval_f1': 0.5495037245755054, 'eval_recall': 0.5672518464317563, 'eval_precision': 0.6799664986500027, 'eval_runtime': 3.7026, 'eval_samples_per_second': 342.998, 'eval_steps_per_second': 85.885, 'epoch': 1.0}\n"
     ]
    },
    {
     "name": "stderr",
     "output_type": "stream",
     "text": [
      "Model weights saved in ./Checkpoints/MarBertv2_hyperparams/run-1/checkpoint-660/pytorch_model.bin\n",
      "tokenizer config file saved in ./Checkpoints/MarBertv2_hyperparams/run-1/checkpoint-660/tokenizer_config.json\n",
      "Special tokens file saved in ./Checkpoints/MarBertv2_hyperparams/run-1/checkpoint-660/special_tokens_map.json\n",
      "  9%|▉         | 1003/10560 [01:14<09:05, 17.52it/s] "
     ]
    },
    {
     "name": "stdout",
     "output_type": "stream",
     "text": [
      "{'loss': 0.7095, 'learning_rate': 0.00010113663075872192, 'epoch': 1.52}\n"
     ]
    },
    {
     "name": "stderr",
     "output_type": "stream",
     "text": [
      " 12%|█▏        | 1319/10560 [01:34<10:30, 14.65it/s]The following columns in the evaluation set  don't have a corresponding argument in `BertForSequenceClassification.forward` and have been ignored: text. If text are not expected by `BertForSequenceClassification.forward`,  you can safely ignore this message.\n",
      "***** Running Evaluation *****\n",
      "  Num examples = 1270\n",
      "  Batch size = 4\n",
      "\n",
      "  0%|          | 0/318 [00:00<?, ?it/s]\u001b[A\n",
      "  3%|▎         | 10/318 [00:00<00:03, 99.45it/s]\u001b[A\n",
      "  6%|▋         | 20/318 [00:00<00:03, 93.38it/s]\u001b[A\n",
      "  9%|▉         | 30/318 [00:00<00:03, 91.92it/s]\u001b[A\n",
      " 13%|█▎        | 40/318 [00:00<00:03, 90.99it/s]\u001b[A\n",
      " 16%|█▌        | 50/318 [00:00<00:02, 90.64it/s]\u001b[A\n",
      " 19%|█▉        | 60/318 [00:00<00:02, 90.70it/s]\u001b[A\n",
      " 22%|██▏       | 70/318 [00:00<00:02, 90.76it/s]\u001b[A\n",
      " 25%|██▌       | 80/318 [00:00<00:02, 90.12it/s]\u001b[A\n",
      " 28%|██▊       | 90/318 [00:00<00:02, 89.98it/s]\u001b[A\n",
      " 31%|███       | 99/318 [00:01<00:02, 89.68it/s]\u001b[A\n",
      " 34%|███▍      | 108/318 [00:01<00:02, 89.46it/s]\u001b[A\n",
      " 37%|███▋      | 117/318 [00:01<00:02, 89.32it/s]\u001b[A\n",
      " 40%|███▉      | 126/318 [00:01<00:02, 89.15it/s]\u001b[A\n",
      " 42%|████▏     | 135/318 [00:01<00:02, 88.59it/s]\u001b[A\n",
      " 45%|████▌     | 144/318 [00:01<00:01, 88.69it/s]\u001b[A\n",
      " 48%|████▊     | 153/318 [00:01<00:01, 88.46it/s]\u001b[A\n",
      " 51%|█████     | 162/318 [00:01<00:01, 88.71it/s]\u001b[A\n",
      " 54%|█████▍    | 171/318 [00:01<00:01, 88.64it/s]\u001b[A\n",
      " 57%|█████▋    | 180/318 [00:02<00:01, 88.49it/s]\u001b[A\n",
      " 59%|█████▉    | 189/318 [00:02<00:01, 88.68it/s]\u001b[A\n",
      " 62%|██████▏   | 198/318 [00:02<00:01, 88.91it/s]\u001b[A\n",
      " 65%|██████▌   | 207/318 [00:02<00:01, 88.88it/s]\u001b[A\n",
      " 68%|██████▊   | 216/318 [00:02<00:01, 88.64it/s]\u001b[A\n",
      " 71%|███████   | 225/318 [00:02<00:01, 88.40it/s]\u001b[A\n",
      " 74%|███████▎  | 234/318 [00:02<00:00, 87.18it/s]\u001b[A\n",
      " 76%|███████▋  | 243/318 [00:02<00:00, 87.59it/s]\u001b[A\n",
      " 79%|███████▉  | 252/318 [00:02<00:00, 87.82it/s]\u001b[A\n",
      " 82%|████████▏ | 261/318 [00:02<00:00, 88.14it/s]\u001b[A\n",
      " 85%|████████▍ | 270/318 [00:03<00:00, 88.43it/s]\u001b[A\n",
      " 88%|████████▊ | 279/318 [00:03<00:00, 88.73it/s]\u001b[A\n",
      " 91%|█████████ | 289/318 [00:03<00:00, 89.40it/s]\u001b[A\n",
      " 94%|█████████▍| 299/318 [00:03<00:00, 89.74it/s]\u001b[A\n",
      " 97%|█████████▋| 309/318 [00:03<00:00, 90.13it/s]\u001b[A\n",
      "                                                    \n",
      " 12%|█▎        | 1320/10560 [01:38<10:30, 14.65it/s]\n",
      "                                                 \u001b[ASaving model checkpoint to ./Checkpoints/MarBertv2_hyperparams/run-1/checkpoint-1320\n",
      "Configuration saved in ./Checkpoints/MarBertv2_hyperparams/run-1/checkpoint-1320/config.json\n"
     ]
    },
    {
     "name": "stdout",
     "output_type": "stream",
     "text": [
      "{'eval_loss': 0.6392249464988708, 'eval_f1': 0.405152224824356, 'eval_recall': 0.49942263279445726, 'eval_precision': 0.3408195429472025, 'eval_runtime': 3.6293, 'eval_samples_per_second': 349.927, 'eval_steps_per_second': 87.62, 'epoch': 2.0}\n"
     ]
    },
    {
     "name": "stderr",
     "output_type": "stream",
     "text": [
      "Model weights saved in ./Checkpoints/MarBertv2_hyperparams/run-1/checkpoint-1320/pytorch_model.bin\n",
      "tokenizer config file saved in ./Checkpoints/MarBertv2_hyperparams/run-1/checkpoint-1320/tokenizer_config.json\n",
      "Special tokens file saved in ./Checkpoints/MarBertv2_hyperparams/run-1/checkpoint-1320/special_tokens_map.json\n",
      " 14%|█▍        | 1503/10560 [01:56<08:39, 17.43it/s]  "
     ]
    },
    {
     "name": "stdout",
     "output_type": "stream",
     "text": [
      "{'loss': 0.7361, 'learning_rate': 9.584705802029504e-05, 'epoch': 2.27}\n"
     ]
    },
    {
     "name": "stderr",
     "output_type": "stream",
     "text": [
      " 19%|█▊        | 1979/10560 [02:26<08:50, 16.18it/s]The following columns in the evaluation set  don't have a corresponding argument in `BertForSequenceClassification.forward` and have been ignored: text. If text are not expected by `BertForSequenceClassification.forward`,  you can safely ignore this message.\n",
      "***** Running Evaluation *****\n",
      "  Num examples = 1270\n",
      "  Batch size = 4\n",
      "\n",
      "  0%|          | 0/318 [00:00<?, ?it/s]\u001b[A\n",
      "  3%|▎         | 10/318 [00:00<00:03, 99.33it/s]\u001b[A\n",
      "  6%|▋         | 20/318 [00:00<00:03, 91.20it/s]\u001b[A\n",
      "  9%|▉         | 30/318 [00:00<00:03, 88.96it/s]\u001b[A\n",
      " 12%|█▏        | 39/318 [00:00<00:03, 88.63it/s]\u001b[A\n",
      " 15%|█▌        | 48/318 [00:00<00:03, 88.81it/s]\u001b[A\n",
      " 18%|█▊        | 58/318 [00:00<00:02, 89.27it/s]\u001b[A\n",
      " 21%|██        | 67/318 [00:00<00:02, 88.56it/s]\u001b[A\n",
      " 24%|██▍       | 76/318 [00:00<00:02, 88.27it/s]\u001b[A\n",
      " 27%|██▋       | 85/318 [00:00<00:02, 88.40it/s]\u001b[A\n",
      " 30%|██▉       | 94/318 [00:01<00:02, 88.82it/s]\u001b[A\n",
      " 32%|███▏      | 103/318 [00:01<00:02, 89.08it/s]\u001b[A\n",
      " 36%|███▌      | 113/318 [00:01<00:02, 89.67it/s]\u001b[A\n",
      " 38%|███▊      | 122/318 [00:01<00:02, 89.61it/s]\u001b[A\n",
      " 41%|████      | 131/318 [00:01<00:02, 89.51it/s]\u001b[A\n",
      " 44%|████▍     | 140/318 [00:01<00:01, 89.39it/s]\u001b[A\n",
      " 47%|████▋     | 149/318 [00:01<00:01, 88.96it/s]\u001b[A\n",
      " 50%|████▉     | 158/318 [00:01<00:01, 88.78it/s]\u001b[A\n",
      " 53%|█████▎    | 167/318 [00:01<00:01, 88.60it/s]\u001b[A\n",
      " 55%|█████▌    | 176/318 [00:01<00:01, 88.86it/s]\u001b[A\n",
      " 58%|█████▊    | 186/318 [00:02<00:01, 89.34it/s]\u001b[A\n",
      " 61%|██████▏   | 195/318 [00:02<00:01, 89.44it/s]\u001b[A\n",
      " 64%|██████▍   | 204/318 [00:02<00:01, 89.41it/s]\u001b[A\n",
      " 67%|██████▋   | 213/318 [00:02<00:01, 89.20it/s]\u001b[A\n",
      " 70%|██████▉   | 222/318 [00:02<00:01, 88.91it/s]\u001b[A\n",
      " 73%|███████▎  | 231/318 [00:02<00:00, 88.69it/s]\u001b[A\n",
      " 76%|███████▌  | 241/318 [00:02<00:00, 89.52it/s]\u001b[A\n",
      " 79%|███████▊  | 250/318 [00:02<00:00, 88.59it/s]\u001b[A\n",
      " 81%|████████▏ | 259/318 [00:02<00:00, 88.97it/s]\u001b[A\n",
      " 84%|████████▍ | 268/318 [00:03<00:00, 88.83it/s]\u001b[A\n",
      " 87%|████████▋ | 277/318 [00:03<00:00, 88.49it/s]\u001b[A\n",
      " 90%|████████▉ | 286/318 [00:03<00:00, 88.48it/s]\u001b[A\n",
      " 93%|█████████▎| 295/318 [00:03<00:00, 88.75it/s]\u001b[A\n",
      " 96%|█████████▌| 304/318 [00:03<00:00, 83.84it/s]\u001b[A\n",
      " 98%|█████████▊| 313/318 [00:03<00:00, 80.77it/s]\u001b[A\n",
      "                                                    \n",
      " 19%|█▉        | 1980/10560 [02:30<08:50, 16.18it/s]\n",
      "                                                 \u001b[ASaving model checkpoint to ./Checkpoints/MarBertv2_hyperparams/run-1/checkpoint-1980\n",
      "Configuration saved in ./Checkpoints/MarBertv2_hyperparams/run-1/checkpoint-1980/config.json\n"
     ]
    },
    {
     "name": "stdout",
     "output_type": "stream",
     "text": [
      "{'eval_loss': 0.6767127513885498, 'eval_f1': 0.405152224824356, 'eval_recall': 0.49942263279445726, 'eval_precision': 0.3408195429472025, 'eval_runtime': 3.6913, 'eval_samples_per_second': 344.052, 'eval_steps_per_second': 86.148, 'epoch': 3.0}\n"
     ]
    },
    {
     "name": "stderr",
     "output_type": "stream",
     "text": [
      "Model weights saved in ./Checkpoints/MarBertv2_hyperparams/run-1/checkpoint-1980/pytorch_model.bin\n",
      "tokenizer config file saved in ./Checkpoints/MarBertv2_hyperparams/run-1/checkpoint-1980/tokenizer_config.json\n",
      "Special tokens file saved in ./Checkpoints/MarBertv2_hyperparams/run-1/checkpoint-1980/special_tokens_map.json\n",
      " 19%|█▉        | 2003/10560 [02:39<13:31, 10.54it/s]  "
     ]
    },
    {
     "name": "stdout",
     "output_type": "stream",
     "text": [
      "{'loss': 0.7011, 'learning_rate': 9.055748528186815e-05, 'epoch': 3.03}\n"
     ]
    },
    {
     "name": "stderr",
     "output_type": "stream",
     "text": [
      " 24%|██▎       | 2501/10560 [03:10<08:46, 15.30it/s]"
     ]
    },
    {
     "name": "stdout",
     "output_type": "stream",
     "text": [
      "{'loss': 0.6997, 'learning_rate': 8.526791254344129e-05, 'epoch': 3.79}\n"
     ]
    },
    {
     "name": "stderr",
     "output_type": "stream",
     "text": [
      " 25%|██▍       | 2639/10560 [03:18<07:54, 16.71it/s]The following columns in the evaluation set  don't have a corresponding argument in `BertForSequenceClassification.forward` and have been ignored: text. If text are not expected by `BertForSequenceClassification.forward`,  you can safely ignore this message.\n",
      "***** Running Evaluation *****\n",
      "  Num examples = 1270\n",
      "  Batch size = 4\n",
      "\n",
      "  0%|          | 0/318 [00:00<?, ?it/s]\u001b[A\n",
      "  3%|▎         | 10/318 [00:00<00:03, 98.09it/s]\u001b[A\n",
      "  6%|▋         | 20/318 [00:00<00:03, 91.21it/s]\u001b[A\n",
      "  9%|▉         | 30/318 [00:00<00:03, 89.31it/s]\u001b[A\n",
      " 12%|█▏        | 39/318 [00:00<00:03, 88.75it/s]\u001b[A\n",
      " 15%|█▌        | 48/318 [00:00<00:03, 88.52it/s]\u001b[A\n",
      " 18%|█▊        | 57/318 [00:00<00:02, 88.95it/s]\u001b[A\n",
      " 21%|██        | 67/318 [00:00<00:02, 89.53it/s]\u001b[A\n",
      " 24%|██▍       | 76/318 [00:00<00:02, 88.82it/s]\u001b[A\n",
      " 27%|██▋       | 85/318 [00:00<00:02, 88.51it/s]\u001b[A\n",
      " 30%|██▉       | 94/318 [00:01<00:02, 83.24it/s]\u001b[A\n",
      " 32%|███▏      | 103/318 [00:01<00:02, 80.05it/s]\u001b[A\n",
      " 35%|███▌      | 112/318 [00:01<00:02, 81.61it/s]\u001b[A\n",
      " 38%|███▊      | 121/318 [00:01<00:02, 83.29it/s]\u001b[A\n",
      " 41%|████      | 130/318 [00:01<00:02, 84.13it/s]\u001b[A\n",
      " 44%|████▎     | 139/318 [00:01<00:02, 84.99it/s]\u001b[A\n",
      " 47%|████▋     | 148/318 [00:01<00:01, 85.74it/s]\u001b[A\n",
      " 49%|████▉     | 157/318 [00:01<00:01, 86.17it/s]\u001b[A\n",
      " 52%|█████▏    | 166/318 [00:01<00:01, 86.10it/s]\u001b[A\n",
      " 55%|█████▌    | 175/318 [00:02<00:01, 86.22it/s]\u001b[A\n",
      " 58%|█████▊    | 184/318 [00:02<00:01, 86.57it/s]\u001b[A\n",
      " 61%|██████    | 193/318 [00:02<00:01, 86.44it/s]\u001b[A\n",
      " 64%|██████▎   | 202/318 [00:02<00:01, 86.87it/s]\u001b[A\n",
      " 66%|██████▋   | 211/318 [00:02<00:01, 87.30it/s]\u001b[A\n",
      " 69%|██████▉   | 220/318 [00:02<00:01, 87.61it/s]\u001b[A\n",
      " 72%|███████▏  | 229/318 [00:02<00:01, 88.00it/s]\u001b[A\n",
      " 75%|███████▍  | 238/318 [00:02<00:00, 88.10it/s]\u001b[A\n",
      " 78%|███████▊  | 247/318 [00:02<00:00, 88.26it/s]\u001b[A\n",
      " 81%|████████  | 257/318 [00:02<00:00, 88.81it/s]\u001b[A\n",
      " 84%|████████▎ | 266/318 [00:03<00:00, 88.81it/s]\u001b[A\n",
      " 86%|████████▋ | 275/318 [00:03<00:00, 86.55it/s]\u001b[A\n",
      " 89%|████████▉ | 284/318 [00:03<00:00, 86.93it/s]\u001b[A\n",
      " 92%|█████████▏| 293/318 [00:03<00:00, 86.90it/s]\u001b[A\n",
      " 95%|█████████▍| 302/318 [00:03<00:00, 86.46it/s]\u001b[A\n",
      " 98%|█████████▊| 311/318 [00:03<00:00, 86.99it/s]\u001b[A\n",
      "                                                    \n",
      " 25%|██▌       | 2640/10560 [03:22<07:54, 16.71it/s]\n",
      "                                                 \u001b[ASaving model checkpoint to ./Checkpoints/MarBertv2_hyperparams/run-1/checkpoint-2640\n",
      "Configuration saved in ./Checkpoints/MarBertv2_hyperparams/run-1/checkpoint-2640/config.json\n"
     ]
    },
    {
     "name": "stdout",
     "output_type": "stream",
     "text": [
      "{'eval_loss': 0.6624765992164612, 'eval_f1': 0.405152224824356, 'eval_recall': 0.49942263279445726, 'eval_precision': 0.3408195429472025, 'eval_runtime': 3.7417, 'eval_samples_per_second': 339.422, 'eval_steps_per_second': 84.989, 'epoch': 4.0}\n"
     ]
    },
    {
     "name": "stderr",
     "output_type": "stream",
     "text": [
      "Model weights saved in ./Checkpoints/MarBertv2_hyperparams/run-1/checkpoint-2640/pytorch_model.bin\n",
      "tokenizer config file saved in ./Checkpoints/MarBertv2_hyperparams/run-1/checkpoint-2640/tokenizer_config.json\n",
      "Special tokens file saved in ./Checkpoints/MarBertv2_hyperparams/run-1/checkpoint-2640/special_tokens_map.json\n",
      " 28%|██▊       | 3003/10560 [03:52<08:35, 14.65it/s]  "
     ]
    },
    {
     "name": "stdout",
     "output_type": "stream",
     "text": [
      "{'loss': 0.6962, 'learning_rate': 7.997833980501441e-05, 'epoch': 4.55}\n"
     ]
    },
    {
     "name": "stderr",
     "output_type": "stream",
     "text": [
      " 31%|███       | 3299/10560 [04:10<07:23, 16.36it/s]The following columns in the evaluation set  don't have a corresponding argument in `BertForSequenceClassification.forward` and have been ignored: text. If text are not expected by `BertForSequenceClassification.forward`,  you can safely ignore this message.\n",
      "***** Running Evaluation *****\n",
      "  Num examples = 1270\n",
      "  Batch size = 4\n",
      "\n",
      "  0%|          | 0/318 [00:00<?, ?it/s]\u001b[A\n",
      "  3%|▎         | 10/318 [00:00<00:03, 98.46it/s]\u001b[A\n",
      "  6%|▋         | 20/318 [00:00<00:03, 92.02it/s]\u001b[A\n",
      "  9%|▉         | 30/318 [00:00<00:03, 90.84it/s]\u001b[A\n",
      " 13%|█▎        | 40/318 [00:00<00:03, 90.38it/s]\u001b[A\n",
      " 16%|█▌        | 50/318 [00:00<00:02, 89.70it/s]\u001b[A\n",
      " 19%|█▉        | 60/318 [00:00<00:02, 89.91it/s]\u001b[A\n",
      " 22%|██▏       | 69/318 [00:00<00:02, 89.62it/s]\u001b[A\n",
      " 25%|██▍       | 78/318 [00:00<00:02, 83.35it/s]\u001b[A\n",
      " 27%|██▋       | 87/318 [00:01<00:02, 80.37it/s]\u001b[A\n",
      " 30%|███       | 96/318 [00:01<00:02, 78.27it/s]\u001b[A\n",
      " 33%|███▎      | 104/318 [00:01<00:02, 77.06it/s]\u001b[A\n",
      " 35%|███▌      | 112/318 [00:01<00:02, 76.18it/s]\u001b[A\n",
      " 38%|███▊      | 120/318 [00:01<00:02, 76.44it/s]\u001b[A\n",
      " 41%|████      | 129/318 [00:01<00:02, 79.00it/s]\u001b[A\n",
      " 43%|████▎     | 138/318 [00:01<00:02, 81.80it/s]\u001b[A\n",
      " 46%|████▌     | 147/318 [00:01<00:02, 83.72it/s]\u001b[A\n",
      " 49%|████▉     | 156/318 [00:01<00:01, 84.87it/s]\u001b[A\n",
      " 52%|█████▏    | 165/318 [00:01<00:01, 85.37it/s]\u001b[A\n",
      " 55%|█████▍    | 174/318 [00:02<00:01, 86.20it/s]\u001b[A\n",
      " 58%|█████▊    | 183/318 [00:02<00:01, 85.60it/s]\u001b[A\n",
      " 60%|██████    | 192/318 [00:02<00:01, 86.13it/s]\u001b[A\n",
      " 63%|██████▎   | 201/318 [00:02<00:01, 86.64it/s]\u001b[A\n",
      " 66%|██████▌   | 210/318 [00:02<00:01, 87.12it/s]\u001b[A\n",
      " 69%|██████▉   | 219/318 [00:02<00:01, 87.31it/s]\u001b[A\n",
      " 72%|███████▏  | 228/318 [00:02<00:01, 87.41it/s]\u001b[A\n",
      " 75%|███████▍  | 237/318 [00:02<00:00, 87.45it/s]\u001b[A\n",
      " 77%|███████▋  | 246/318 [00:02<00:00, 87.38it/s]\u001b[A\n",
      " 80%|████████  | 255/318 [00:02<00:00, 88.05it/s]\u001b[A\n",
      " 83%|████████▎ | 264/318 [00:03<00:00, 86.06it/s]\u001b[A\n",
      " 86%|████████▌ | 273/318 [00:03<00:00, 86.51it/s]\u001b[A\n",
      " 89%|████████▊ | 282/318 [00:03<00:00, 86.75it/s]\u001b[A\n",
      " 92%|█████████▏| 291/318 [00:03<00:00, 87.13it/s]\u001b[A\n",
      " 94%|█████████▍| 300/318 [00:03<00:00, 87.46it/s]\u001b[A\n",
      " 97%|█████████▋| 309/318 [00:03<00:00, 87.58it/s]\u001b[A\n",
      "100%|██████████| 318/318 [00:03<00:00, 87.57it/s]\u001b[A/cm/shared/ebtree/software/Python/3.8.6-GCCcore-10.2.0/lib/python3.8/site-packages/sklearn/metrics/_classification.py:1248: UndefinedMetricWarning: Precision is ill-defined and being set to 0.0 in labels with no predicted samples. Use `zero_division` parameter to control this behavior.\n",
      "  _warn_prf(average, modifier, msg_start, len(result))\n",
      "\n",
      "                                                    \n",
      " 31%|███▏      | 3300/10560 [04:14<07:23, 16.36it/s]\n",
      "                                                 \u001b[ASaving model checkpoint to ./Checkpoints/MarBertv2_hyperparams/run-1/checkpoint-3300\n",
      "Configuration saved in ./Checkpoints/MarBertv2_hyperparams/run-1/checkpoint-3300/config.json\n"
     ]
    },
    {
     "name": "stdout",
     "output_type": "stream",
     "text": [
      "{'eval_loss': 0.6774370074272156, 'eval_f1': 0.4054307116104869, 'eval_recall': 0.5, 'eval_precision': 0.3409448818897638, 'eval_runtime': 3.7943, 'eval_samples_per_second': 334.716, 'eval_steps_per_second': 83.811, 'epoch': 5.0}\n"
     ]
    },
    {
     "name": "stderr",
     "output_type": "stream",
     "text": [
      "Model weights saved in ./Checkpoints/MarBertv2_hyperparams/run-1/checkpoint-3300/pytorch_model.bin\n",
      "tokenizer config file saved in ./Checkpoints/MarBertv2_hyperparams/run-1/checkpoint-3300/tokenizer_config.json\n",
      "Special tokens file saved in ./Checkpoints/MarBertv2_hyperparams/run-1/checkpoint-3300/special_tokens_map.json\n",
      " 33%|███▎      | 3501/10560 [04:33<07:06, 16.53it/s]  "
     ]
    },
    {
     "name": "stdout",
     "output_type": "stream",
     "text": [
      "{'loss': 0.7139, 'learning_rate': 7.468876706658754e-05, 'epoch': 5.3}\n"
     ]
    },
    {
     "name": "stderr",
     "output_type": "stream",
     "text": [
      " 37%|███▋      | 3959/10560 [05:02<06:30, 16.90it/s]The following columns in the evaluation set  don't have a corresponding argument in `BertForSequenceClassification.forward` and have been ignored: text. If text are not expected by `BertForSequenceClassification.forward`,  you can safely ignore this message.\n",
      "***** Running Evaluation *****\n",
      "  Num examples = 1270\n",
      "  Batch size = 4\n",
      "\n",
      "  0%|          | 0/318 [00:00<?, ?it/s]\u001b[A\n",
      "  3%|▎         | 10/318 [00:00<00:03, 95.95it/s]\u001b[A\n",
      "  6%|▋         | 20/318 [00:00<00:03, 90.21it/s]\u001b[A\n",
      "  9%|▉         | 30/318 [00:00<00:03, 88.06it/s]\u001b[A\n",
      " 12%|█▏        | 39/318 [00:00<00:03, 88.09it/s]\u001b[A\n",
      " 15%|█▌        | 48/318 [00:00<00:03, 88.25it/s]\u001b[A\n",
      " 18%|█▊        | 57/318 [00:00<00:02, 87.96it/s]\u001b[A\n",
      " 21%|██        | 66/318 [00:00<00:02, 87.27it/s]\u001b[A\n",
      " 24%|██▎       | 75/318 [00:00<00:02, 87.82it/s]\u001b[A\n",
      " 26%|██▋       | 84/318 [00:00<00:02, 87.83it/s]\u001b[A\n",
      " 29%|██▉       | 93/318 [00:01<00:02, 86.97it/s]\u001b[A\n",
      " 32%|███▏      | 102/318 [00:01<00:02, 87.26it/s]\u001b[A\n",
      " 35%|███▍      | 111/318 [00:01<00:02, 87.20it/s]\u001b[A\n",
      " 38%|███▊      | 120/318 [00:01<00:02, 87.44it/s]\u001b[A\n",
      " 41%|████      | 129/318 [00:01<00:02, 87.60it/s]\u001b[A\n",
      " 43%|████▎     | 138/318 [00:01<00:02, 87.73it/s]\u001b[A\n",
      " 46%|████▌     | 147/318 [00:01<00:01, 87.71it/s]\u001b[A\n",
      " 49%|████▉     | 156/318 [00:01<00:01, 87.51it/s]\u001b[A\n",
      " 52%|█████▏    | 165/318 [00:01<00:01, 87.53it/s]\u001b[A\n",
      " 55%|█████▍    | 174/318 [00:01<00:01, 87.30it/s]\u001b[A\n",
      " 58%|█████▊    | 183/318 [00:02<00:01, 87.27it/s]\u001b[A\n",
      " 60%|██████    | 192/318 [00:02<00:01, 86.85it/s]\u001b[A\n",
      " 63%|██████▎   | 201/318 [00:02<00:01, 86.99it/s]\u001b[A\n",
      " 66%|██████▌   | 210/318 [00:02<00:01, 87.14it/s]\u001b[A\n",
      " 69%|██████▉   | 219/318 [00:02<00:01, 87.19it/s]\u001b[A\n",
      " 72%|███████▏  | 228/318 [00:02<00:01, 87.53it/s]\u001b[A\n",
      " 75%|███████▍  | 237/318 [00:02<00:00, 86.26it/s]\u001b[A\n",
      " 77%|███████▋  | 246/318 [00:02<00:00, 86.09it/s]\u001b[A\n",
      " 80%|████████  | 255/318 [00:02<00:00, 86.64it/s]\u001b[A\n",
      " 83%|████████▎ | 264/318 [00:03<00:00, 86.92it/s]\u001b[A\n",
      " 86%|████████▌ | 273/318 [00:03<00:00, 86.96it/s]\u001b[A\n",
      " 89%|████████▊ | 282/318 [00:03<00:00, 87.25it/s]\u001b[A\n",
      " 92%|█████████▏| 291/318 [00:03<00:00, 87.21it/s]\u001b[A\n",
      " 94%|█████████▍| 300/318 [00:03<00:00, 87.63it/s]\u001b[A\n",
      " 97%|█████████▋| 309/318 [00:03<00:00, 87.96it/s]\u001b[A\n",
      "100%|██████████| 318/318 [00:03<00:00, 87.86it/s]\u001b[A/cm/shared/ebtree/software/Python/3.8.6-GCCcore-10.2.0/lib/python3.8/site-packages/sklearn/metrics/_classification.py:1248: UndefinedMetricWarning: Precision is ill-defined and being set to 0.0 in labels with no predicted samples. Use `zero_division` parameter to control this behavior.\n",
      "  _warn_prf(average, modifier, msg_start, len(result))\n",
      "\n",
      "                                                    \n",
      " 38%|███▊      | 3960/10560 [05:05<06:30, 16.90it/s]\n",
      "                                                 \u001b[ASaving model checkpoint to ./Checkpoints/MarBertv2_hyperparams/run-1/checkpoint-3960\n",
      "Configuration saved in ./Checkpoints/MarBertv2_hyperparams/run-1/checkpoint-3960/config.json\n"
     ]
    },
    {
     "name": "stdout",
     "output_type": "stream",
     "text": [
      "{'eval_loss': 0.6972764134407043, 'eval_f1': 0.24133811230585425, 'eval_recall': 0.5, 'eval_precision': 0.15905511811023623, 'eval_runtime': 3.7165, 'eval_samples_per_second': 341.72, 'eval_steps_per_second': 85.565, 'epoch': 6.0}\n"
     ]
    },
    {
     "name": "stderr",
     "output_type": "stream",
     "text": [
      "Model weights saved in ./Checkpoints/MarBertv2_hyperparams/run-1/checkpoint-3960/pytorch_model.bin\n",
      "tokenizer config file saved in ./Checkpoints/MarBertv2_hyperparams/run-1/checkpoint-3960/tokenizer_config.json\n",
      "Special tokens file saved in ./Checkpoints/MarBertv2_hyperparams/run-1/checkpoint-3960/special_tokens_map.json\n",
      " 38%|███▊      | 4003/10560 [05:15<06:22, 17.15it/s]  "
     ]
    },
    {
     "name": "stdout",
     "output_type": "stream",
     "text": [
      "{'loss': 0.695, 'learning_rate': 6.939919432816065e-05, 'epoch': 6.06}\n"
     ]
    },
    {
     "name": "stderr",
     "output_type": "stream",
     "text": [
      " 43%|████▎     | 4503/10560 [05:46<06:08, 16.42it/s]"
     ]
    },
    {
     "name": "stdout",
     "output_type": "stream",
     "text": [
      "{'loss': 0.6948, 'learning_rate': 6.410962158973376e-05, 'epoch': 6.82}\n"
     ]
    },
    {
     "name": "stderr",
     "output_type": "stream",
     "text": [
      " 44%|████▎     | 4619/10560 [05:53<05:46, 17.16it/s]The following columns in the evaluation set  don't have a corresponding argument in `BertForSequenceClassification.forward` and have been ignored: text. If text are not expected by `BertForSequenceClassification.forward`,  you can safely ignore this message.\n",
      "***** Running Evaluation *****\n",
      "  Num examples = 1270\n",
      "  Batch size = 4\n",
      "\n",
      "  0%|          | 0/318 [00:00<?, ?it/s]\u001b[A\n",
      "  3%|▎         | 11/318 [00:00<00:03, 100.21it/s]\u001b[A\n",
      "  7%|▋         | 22/318 [00:00<00:03, 92.20it/s] \u001b[A\n",
      " 10%|█         | 32/318 [00:00<00:03, 90.71it/s]\u001b[A\n",
      " 13%|█▎        | 42/318 [00:00<00:03, 91.20it/s]\u001b[A\n",
      " 16%|█▋        | 52/318 [00:00<00:02, 90.96it/s]\u001b[A\n",
      " 19%|█▉        | 62/318 [00:00<00:02, 91.31it/s]\u001b[A\n",
      " 23%|██▎       | 72/318 [00:00<00:02, 90.27it/s]\u001b[A\n",
      " 26%|██▌       | 82/318 [00:00<00:02, 89.45it/s]\u001b[A\n",
      " 29%|██▉       | 92/318 [00:01<00:02, 90.01it/s]\u001b[A\n",
      " 32%|███▏      | 102/318 [00:01<00:02, 90.36it/s]\u001b[A\n",
      " 35%|███▌      | 112/318 [00:01<00:02, 90.38it/s]\u001b[A\n",
      " 38%|███▊      | 122/318 [00:01<00:02, 90.56it/s]\u001b[A\n",
      " 42%|████▏     | 132/318 [00:01<00:02, 89.91it/s]\u001b[A\n",
      " 44%|████▍     | 141/318 [00:01<00:01, 89.55it/s]\u001b[A\n",
      " 47%|████▋     | 150/318 [00:01<00:01, 89.11it/s]\u001b[A\n",
      " 50%|█████     | 159/318 [00:01<00:01, 89.02it/s]\u001b[A\n",
      " 53%|█████▎    | 168/318 [00:01<00:01, 88.75it/s]\u001b[A\n",
      " 56%|█████▌    | 177/318 [00:01<00:01, 88.74it/s]\u001b[A\n",
      " 58%|█████▊    | 186/318 [00:02<00:01, 76.29it/s]\u001b[A\n",
      " 61%|██████▏   | 195/318 [00:02<00:01, 79.16it/s]\u001b[A\n",
      " 64%|██████▍   | 205/318 [00:02<00:01, 82.39it/s]\u001b[A\n",
      " 67%|██████▋   | 214/318 [00:02<00:01, 84.02it/s]\u001b[A\n",
      " 70%|███████   | 224/318 [00:02<00:01, 86.03it/s]\u001b[A\n",
      " 74%|███████▎  | 234/318 [00:02<00:00, 87.56it/s]\u001b[A\n",
      " 76%|███████▋  | 243/318 [00:02<00:00, 88.17it/s]\u001b[A\n",
      " 79%|███████▉  | 252/318 [00:02<00:00, 88.23it/s]\u001b[A\n",
      " 82%|████████▏ | 262/318 [00:02<00:00, 88.97it/s]\u001b[A\n",
      " 86%|████████▌ | 272/318 [00:03<00:00, 89.29it/s]\u001b[A\n",
      " 88%|████████▊ | 281/318 [00:03<00:00, 88.98it/s]\u001b[A\n",
      " 92%|█████████▏| 291/318 [00:03<00:00, 89.38it/s]\u001b[A\n",
      " 94%|█████████▍| 300/318 [00:03<00:00, 89.26it/s]\u001b[A\n",
      " 97%|█████████▋| 310/318 [00:03<00:00, 89.63it/s]\u001b[A/cm/shared/ebtree/software/Python/3.8.6-GCCcore-10.2.0/lib/python3.8/site-packages/sklearn/metrics/_classification.py:1248: UndefinedMetricWarning: Precision is ill-defined and being set to 0.0 in labels with no predicted samples. Use `zero_division` parameter to control this behavior.\n",
      "  _warn_prf(average, modifier, msg_start, len(result))\n",
      "\n",
      "                                                    \n",
      " 44%|████▍     | 4620/10560 [05:57<05:46, 17.16it/s]\n",
      "                                                 \u001b[ASaving model checkpoint to ./Checkpoints/MarBertv2_hyperparams/run-1/checkpoint-4620\n",
      "Configuration saved in ./Checkpoints/MarBertv2_hyperparams/run-1/checkpoint-4620/config.json\n"
     ]
    },
    {
     "name": "stdout",
     "output_type": "stream",
     "text": [
      "{'eval_loss': 0.6902035474777222, 'eval_f1': 0.4054307116104869, 'eval_recall': 0.5, 'eval_precision': 0.3409448818897638, 'eval_runtime': 3.7219, 'eval_samples_per_second': 341.226, 'eval_steps_per_second': 85.441, 'epoch': 7.0}\n"
     ]
    },
    {
     "name": "stderr",
     "output_type": "stream",
     "text": [
      "Model weights saved in ./Checkpoints/MarBertv2_hyperparams/run-1/checkpoint-4620/pytorch_model.bin\n",
      "tokenizer config file saved in ./Checkpoints/MarBertv2_hyperparams/run-1/checkpoint-4620/tokenizer_config.json\n",
      "Special tokens file saved in ./Checkpoints/MarBertv2_hyperparams/run-1/checkpoint-4620/special_tokens_map.json\n",
      " 47%|████▋     | 5003/10560 [06:28<05:23, 17.19it/s]  "
     ]
    },
    {
     "name": "stdout",
     "output_type": "stream",
     "text": [
      "{'loss': 0.6941, 'learning_rate': 5.8820048851306886e-05, 'epoch': 7.58}\n"
     ]
    },
    {
     "name": "stderr",
     "output_type": "stream",
     "text": [
      " 50%|████▉     | 5279/10560 [06:45<05:13, 16.83it/s]The following columns in the evaluation set  don't have a corresponding argument in `BertForSequenceClassification.forward` and have been ignored: text. If text are not expected by `BertForSequenceClassification.forward`,  you can safely ignore this message.\n",
      "***** Running Evaluation *****\n",
      "  Num examples = 1270\n",
      "  Batch size = 4\n",
      "\n",
      "  0%|          | 0/318 [00:00<?, ?it/s]\u001b[A\n",
      "  3%|▎         | 10/318 [00:00<00:03, 98.29it/s]\u001b[A\n",
      "  6%|▋         | 20/318 [00:00<00:03, 87.98it/s]\u001b[A\n",
      "  9%|▉         | 29/318 [00:00<00:03, 84.46it/s]\u001b[A\n",
      " 12%|█▏        | 38/318 [00:00<00:03, 83.13it/s]\u001b[A\n",
      " 15%|█▍        | 47/318 [00:00<00:03, 81.92it/s]\u001b[A\n",
      " 18%|█▊        | 56/318 [00:00<00:03, 81.91it/s]\u001b[A\n",
      " 20%|██        | 65/318 [00:00<00:03, 83.57it/s]\u001b[A\n",
      " 23%|██▎       | 74/318 [00:00<00:02, 82.93it/s]\u001b[A\n",
      " 26%|██▌       | 83/318 [00:00<00:02, 83.87it/s]\u001b[A\n",
      " 29%|██▉       | 92/318 [00:01<00:02, 84.90it/s]\u001b[A\n",
      " 32%|███▏      | 101/318 [00:01<00:02, 85.35it/s]\u001b[A\n",
      " 35%|███▍      | 110/318 [00:01<00:02, 85.75it/s]\u001b[A\n",
      " 37%|███▋      | 119/318 [00:01<00:02, 86.34it/s]\u001b[A\n",
      " 40%|████      | 128/318 [00:01<00:02, 86.41it/s]\u001b[A\n",
      " 43%|████▎     | 137/318 [00:01<00:02, 86.31it/s]\u001b[A\n",
      " 46%|████▌     | 146/318 [00:01<00:01, 86.28it/s]\u001b[A\n",
      " 49%|████▊     | 155/318 [00:01<00:01, 85.14it/s]\u001b[A\n",
      " 52%|█████▏    | 164/318 [00:01<00:01, 85.10it/s]\u001b[A\n",
      " 54%|█████▍    | 173/318 [00:02<00:01, 85.54it/s]\u001b[A\n",
      " 57%|█████▋    | 182/318 [00:02<00:01, 84.58it/s]\u001b[A\n",
      " 60%|██████    | 191/318 [00:02<00:01, 85.18it/s]\u001b[A\n",
      " 63%|██████▎   | 200/318 [00:02<00:01, 84.71it/s]\u001b[A\n",
      " 66%|██████▌   | 209/318 [00:02<00:01, 85.33it/s]\u001b[A\n",
      " 69%|██████▊   | 218/318 [00:02<00:01, 85.01it/s]\u001b[A\n",
      " 71%|███████▏  | 227/318 [00:02<00:01, 80.60it/s]\u001b[A\n",
      " 74%|███████▍  | 236/318 [00:02<00:01, 78.12it/s]\u001b[A\n",
      " 77%|███████▋  | 245/318 [00:02<00:00, 80.40it/s]\u001b[A\n",
      " 80%|███████▉  | 254/318 [00:03<00:00, 81.00it/s]\u001b[A\n",
      " 83%|████████▎ | 263/318 [00:03<00:00, 82.68it/s]\u001b[A\n",
      " 86%|████████▌ | 272/318 [00:03<00:00, 83.79it/s]\u001b[A\n",
      " 88%|████████▊ | 281/318 [00:03<00:00, 84.65it/s]\u001b[A\n",
      " 91%|█████████ | 290/318 [00:03<00:00, 85.24it/s]\u001b[A\n",
      " 94%|█████████▍| 299/318 [00:03<00:00, 85.58it/s]\u001b[A\n",
      " 97%|█████████▋| 308/318 [00:03<00:00, 85.95it/s]\u001b[A\n",
      "100%|█████████▉| 317/318 [00:03<00:00, 86.37it/s]\u001b[A/cm/shared/ebtree/software/Python/3.8.6-GCCcore-10.2.0/lib/python3.8/site-packages/sklearn/metrics/_classification.py:1248: UndefinedMetricWarning: Precision is ill-defined and being set to 0.0 in labels with no predicted samples. Use `zero_division` parameter to control this behavior.\n",
      "  _warn_prf(average, modifier, msg_start, len(result))\n",
      "\n",
      "                                                    \n",
      " 50%|█████     | 5280/10560 [06:49<05:13, 16.83it/s]\n",
      "                                                 \u001b[ASaving model checkpoint to ./Checkpoints/MarBertv2_hyperparams/run-1/checkpoint-5280\n",
      "Configuration saved in ./Checkpoints/MarBertv2_hyperparams/run-1/checkpoint-5280/config.json\n"
     ]
    },
    {
     "name": "stdout",
     "output_type": "stream",
     "text": [
      "{'eval_loss': 0.6875393390655518, 'eval_f1': 0.4054307116104869, 'eval_recall': 0.5, 'eval_precision': 0.3409448818897638, 'eval_runtime': 3.8607, 'eval_samples_per_second': 328.953, 'eval_steps_per_second': 82.368, 'epoch': 8.0}\n"
     ]
    },
    {
     "name": "stderr",
     "output_type": "stream",
     "text": [
      "Model weights saved in ./Checkpoints/MarBertv2_hyperparams/run-1/checkpoint-5280/pytorch_model.bin\n",
      "tokenizer config file saved in ./Checkpoints/MarBertv2_hyperparams/run-1/checkpoint-5280/tokenizer_config.json\n",
      "Special tokens file saved in ./Checkpoints/MarBertv2_hyperparams/run-1/checkpoint-5280/special_tokens_map.json\n",
      " 52%|█████▏    | 5503/10560 [07:10<05:05, 16.56it/s]  "
     ]
    },
    {
     "name": "stdout",
     "output_type": "stream",
     "text": [
      "{'loss': 0.6941, 'learning_rate': 5.3530476112880015e-05, 'epoch': 8.33}\n"
     ]
    },
    {
     "name": "stderr",
     "output_type": "stream",
     "text": [
      " 56%|█████▌    | 5939/10560 [07:37<04:26, 17.34it/s]The following columns in the evaluation set  don't have a corresponding argument in `BertForSequenceClassification.forward` and have been ignored: text. If text are not expected by `BertForSequenceClassification.forward`,  you can safely ignore this message.\n",
      "***** Running Evaluation *****\n",
      "  Num examples = 1270\n",
      "  Batch size = 4\n",
      "\n",
      "  0%|          | 0/318 [00:00<?, ?it/s]\u001b[A\n",
      "  3%|▎         | 10/318 [00:00<00:03, 91.47it/s]\u001b[A\n",
      "  6%|▋         | 20/318 [00:00<00:03, 88.95it/s]\u001b[A\n",
      "  9%|▉         | 29/318 [00:00<00:03, 88.23it/s]\u001b[A\n",
      " 12%|█▏        | 38/318 [00:00<00:03, 88.22it/s]\u001b[A\n",
      " 15%|█▍        | 47/318 [00:00<00:03, 88.25it/s]\u001b[A\n",
      " 18%|█▊        | 56/318 [00:00<00:02, 88.27it/s]\u001b[A\n",
      " 20%|██        | 65/318 [00:00<00:02, 88.58it/s]\u001b[A\n",
      " 23%|██▎       | 74/318 [00:00<00:02, 88.35it/s]\u001b[A\n",
      " 26%|██▌       | 83/318 [00:00<00:02, 88.04it/s]\u001b[A\n",
      " 29%|██▉       | 92/318 [00:01<00:02, 88.35it/s]\u001b[A\n",
      " 32%|███▏      | 101/318 [00:01<00:02, 88.31it/s]\u001b[A\n",
      " 35%|███▍      | 110/318 [00:01<00:02, 87.99it/s]\u001b[A\n",
      " 38%|███▊      | 120/318 [00:01<00:02, 88.92it/s]\u001b[A\n",
      " 41%|████      | 129/318 [00:01<00:02, 88.73it/s]\u001b[A\n",
      " 43%|████▎     | 138/318 [00:01<00:02, 88.38it/s]\u001b[A\n",
      " 46%|████▌     | 147/318 [00:01<00:01, 88.68it/s]\u001b[A\n",
      " 49%|████▉     | 156/318 [00:01<00:01, 88.77it/s]\u001b[A\n",
      " 52%|█████▏    | 166/318 [00:01<00:01, 89.42it/s]\u001b[A\n",
      " 55%|█████▌    | 176/318 [00:01<00:01, 89.80it/s]\u001b[A\n",
      " 58%|█████▊    | 186/318 [00:02<00:01, 89.97it/s]\u001b[A\n",
      " 61%|██████▏   | 195/318 [00:02<00:01, 89.56it/s]\u001b[A\n",
      " 64%|██████▍   | 204/318 [00:02<00:01, 88.64it/s]\u001b[A\n",
      " 67%|██████▋   | 213/318 [00:02<00:01, 87.38it/s]\u001b[A\n",
      " 70%|██████▉   | 222/318 [00:02<00:01, 86.12it/s]\u001b[A\n",
      " 73%|███████▎  | 231/318 [00:02<00:01, 86.89it/s]\u001b[A\n",
      " 76%|███████▌  | 241/318 [00:02<00:00, 88.23it/s]\u001b[A\n",
      " 79%|███████▊  | 250/318 [00:02<00:00, 87.96it/s]\u001b[A\n",
      " 81%|████████▏ | 259/318 [00:02<00:00, 87.08it/s]\u001b[A\n",
      " 84%|████████▍ | 268/318 [00:03<00:00, 86.60it/s]\u001b[A\n",
      " 87%|████████▋ | 278/318 [00:03<00:00, 87.84it/s]\u001b[A\n",
      " 91%|█████████ | 288/318 [00:03<00:00, 88.62it/s]\u001b[A\n",
      " 93%|█████████▎| 297/318 [00:03<00:00, 88.66it/s]\u001b[A\n",
      " 96%|█████████▌| 306/318 [00:03<00:00, 88.65it/s]\u001b[A\n",
      " 99%|█████████▉| 315/318 [00:03<00:00, 88.82it/s]\u001b[A/cm/shared/ebtree/software/Python/3.8.6-GCCcore-10.2.0/lib/python3.8/site-packages/sklearn/metrics/_classification.py:1248: UndefinedMetricWarning: Precision is ill-defined and being set to 0.0 in labels with no predicted samples. Use `zero_division` parameter to control this behavior.\n",
      "  _warn_prf(average, modifier, msg_start, len(result))\n",
      "\n",
      "                                                    \n",
      " 56%|█████▋    | 5940/10560 [07:41<04:26, 17.34it/s]\n",
      "                                                 \u001b[ASaving model checkpoint to ./Checkpoints/MarBertv2_hyperparams/run-1/checkpoint-5940\n",
      "Configuration saved in ./Checkpoints/MarBertv2_hyperparams/run-1/checkpoint-5940/config.json\n"
     ]
    },
    {
     "name": "stdout",
     "output_type": "stream",
     "text": [
      "{'eval_loss': 0.6908766627311707, 'eval_f1': 0.4054307116104869, 'eval_recall': 0.5, 'eval_precision': 0.3409448818897638, 'eval_runtime': 3.6795, 'eval_samples_per_second': 345.155, 'eval_steps_per_second': 86.425, 'epoch': 9.0}\n"
     ]
    },
    {
     "name": "stderr",
     "output_type": "stream",
     "text": [
      "Model weights saved in ./Checkpoints/MarBertv2_hyperparams/run-1/checkpoint-5940/pytorch_model.bin\n",
      "tokenizer config file saved in ./Checkpoints/MarBertv2_hyperparams/run-1/checkpoint-5940/tokenizer_config.json\n",
      "Special tokens file saved in ./Checkpoints/MarBertv2_hyperparams/run-1/checkpoint-5940/special_tokens_map.json\n",
      " 57%|█████▋    | 6001/10560 [07:52<05:06, 14.87it/s]  "
     ]
    },
    {
     "name": "stdout",
     "output_type": "stream",
     "text": [
      "{'loss': 0.694, 'learning_rate': 4.8240903374453136e-05, 'epoch': 9.09}\n"
     ]
    },
    {
     "name": "stderr",
     "output_type": "stream",
     "text": [
      " 62%|██████▏   | 6503/10560 [08:23<04:44, 14.26it/s]"
     ]
    },
    {
     "name": "stdout",
     "output_type": "stream",
     "text": [
      "{'loss': 0.6938, 'learning_rate': 4.295133063602625e-05, 'epoch': 9.85}\n"
     ]
    },
    {
     "name": "stderr",
     "output_type": "stream",
     "text": [
      " 62%|██████▏   | 6599/10560 [08:29<03:56, 16.76it/s]The following columns in the evaluation set  don't have a corresponding argument in `BertForSequenceClassification.forward` and have been ignored: text. If text are not expected by `BertForSequenceClassification.forward`,  you can safely ignore this message.\n",
      "***** Running Evaluation *****\n",
      "  Num examples = 1270\n",
      "  Batch size = 4\n",
      "\n",
      "  0%|          | 0/318 [00:00<?, ?it/s]\u001b[A\n",
      "  3%|▎         | 9/318 [00:00<00:03, 85.66it/s]\u001b[A\n",
      "  6%|▌         | 18/318 [00:00<00:03, 86.64it/s]\u001b[A\n",
      "  8%|▊         | 27/318 [00:00<00:03, 87.54it/s]\u001b[A\n",
      " 11%|█▏        | 36/318 [00:00<00:03, 88.05it/s]\u001b[A\n",
      " 14%|█▍        | 45/318 [00:00<00:03, 86.81it/s]\u001b[A\n",
      " 17%|█▋        | 54/318 [00:00<00:03, 74.15it/s]\u001b[A\n",
      " 20%|█▉        | 63/318 [00:00<00:03, 77.72it/s]\u001b[A\n",
      " 23%|██▎       | 72/318 [00:00<00:03, 80.61it/s]\u001b[A\n",
      " 25%|██▌       | 81/318 [00:00<00:02, 82.99it/s]\u001b[A\n",
      " 29%|██▊       | 91/318 [00:01<00:02, 85.67it/s]\u001b[A\n",
      " 32%|███▏      | 101/318 [00:01<00:02, 87.42it/s]\u001b[A\n",
      " 35%|███▍      | 110/318 [00:01<00:02, 88.11it/s]\u001b[A\n",
      " 37%|███▋      | 119/318 [00:01<00:02, 88.09it/s]\u001b[A\n",
      " 40%|████      | 128/318 [00:01<00:02, 88.17it/s]\u001b[A\n",
      " 43%|████▎     | 137/318 [00:01<00:02, 88.65it/s]\u001b[A\n",
      " 46%|████▌     | 146/318 [00:01<00:01, 88.03it/s]\u001b[A\n",
      " 49%|████▊     | 155/318 [00:01<00:01, 87.89it/s]\u001b[A\n",
      " 52%|█████▏    | 164/318 [00:01<00:01, 88.21it/s]\u001b[A\n",
      " 54%|█████▍    | 173/318 [00:02<00:01, 88.13it/s]\u001b[A\n",
      " 57%|█████▋    | 182/318 [00:02<00:01, 88.55it/s]\u001b[A\n",
      " 60%|██████    | 191/318 [00:02<00:01, 88.34it/s]\u001b[A\n",
      " 63%|██████▎   | 200/318 [00:02<00:01, 88.70it/s]\u001b[A\n",
      " 66%|██████▌   | 209/318 [00:02<00:01, 86.17it/s]\u001b[A\n",
      " 69%|██████▊   | 218/318 [00:02<00:01, 87.15it/s]\u001b[A\n",
      " 71%|███████▏  | 227/318 [00:02<00:01, 78.00it/s]\u001b[A\n",
      " 74%|███████▍  | 236/318 [00:02<00:01, 80.12it/s]\u001b[A\n",
      " 77%|███████▋  | 245/318 [00:02<00:00, 82.42it/s]\u001b[A\n",
      " 80%|███████▉  | 254/318 [00:02<00:00, 84.12it/s]\u001b[A\n",
      " 83%|████████▎ | 263/318 [00:03<00:00, 85.59it/s]\u001b[A\n",
      " 86%|████████▌ | 272/318 [00:03<00:00, 86.75it/s]\u001b[A\n",
      " 88%|████████▊ | 281/318 [00:03<00:00, 87.63it/s]\u001b[A\n",
      " 91%|█████████ | 290/318 [00:03<00:00, 86.79it/s]\u001b[A\n",
      " 94%|█████████▍| 299/318 [00:03<00:00, 87.19it/s]\u001b[A\n",
      " 97%|█████████▋| 308/318 [00:03<00:00, 87.57it/s]\u001b[A\n",
      "100%|██████████| 318/318 [00:03<00:00, 88.39it/s]\u001b[A/cm/shared/ebtree/software/Python/3.8.6-GCCcore-10.2.0/lib/python3.8/site-packages/sklearn/metrics/_classification.py:1248: UndefinedMetricWarning: Precision is ill-defined and being set to 0.0 in labels with no predicted samples. Use `zero_division` parameter to control this behavior.\n",
      "  _warn_prf(average, modifier, msg_start, len(result))\n",
      "\n",
      "                                                    \n",
      " 62%|██████▎   | 6600/10560 [08:33<03:56, 16.76it/s]\n",
      "                                                 \u001b[ASaving model checkpoint to ./Checkpoints/MarBertv2_hyperparams/run-1/checkpoint-6600\n",
      "Configuration saved in ./Checkpoints/MarBertv2_hyperparams/run-1/checkpoint-6600/config.json\n"
     ]
    },
    {
     "name": "stdout",
     "output_type": "stream",
     "text": [
      "{'eval_loss': 0.6914353370666504, 'eval_f1': 0.4054307116104869, 'eval_recall': 0.5, 'eval_precision': 0.3409448818897638, 'eval_runtime': 3.786, 'eval_samples_per_second': 335.446, 'eval_steps_per_second': 83.993, 'epoch': 10.0}\n"
     ]
    },
    {
     "name": "stderr",
     "output_type": "stream",
     "text": [
      "Model weights saved in ./Checkpoints/MarBertv2_hyperparams/run-1/checkpoint-6600/pytorch_model.bin\n",
      "tokenizer config file saved in ./Checkpoints/MarBertv2_hyperparams/run-1/checkpoint-6600/tokenizer_config.json\n",
      "Special tokens file saved in ./Checkpoints/MarBertv2_hyperparams/run-1/checkpoint-6600/special_tokens_map.json\n",
      " 66%|██████▋   | 7001/10560 [09:04<03:54, 15.19it/s]  "
     ]
    },
    {
     "name": "stdout",
     "output_type": "stream",
     "text": [
      "{'loss': 0.6937, 'learning_rate': 3.766175789759937e-05, 'epoch': 10.61}\n"
     ]
    },
    {
     "name": "stderr",
     "output_type": "stream",
     "text": [
      " 69%|██████▊   | 7259/10560 [09:21<03:12, 17.17it/s]The following columns in the evaluation set  don't have a corresponding argument in `BertForSequenceClassification.forward` and have been ignored: text. If text are not expected by `BertForSequenceClassification.forward`,  you can safely ignore this message.\n",
      "***** Running Evaluation *****\n",
      "  Num examples = 1270\n",
      "  Batch size = 4\n",
      "\n",
      "  0%|          | 0/318 [00:00<?, ?it/s]\u001b[A\n",
      "  3%|▎         | 10/318 [00:00<00:03, 99.82it/s]\u001b[A\n",
      "  6%|▋         | 20/318 [00:00<00:03, 92.12it/s]\u001b[A\n",
      "  9%|▉         | 30/318 [00:00<00:03, 90.76it/s]\u001b[A\n",
      " 13%|█▎        | 40/318 [00:00<00:03, 88.96it/s]\u001b[A\n",
      " 16%|█▌        | 50/318 [00:00<00:02, 89.65it/s]\u001b[A\n",
      " 19%|█▉        | 60/318 [00:00<00:02, 89.88it/s]\u001b[A\n",
      " 22%|██▏       | 69/318 [00:00<00:02, 89.54it/s]\u001b[A\n",
      " 25%|██▍       | 78/318 [00:00<00:02, 89.02it/s]\u001b[A\n",
      " 27%|██▋       | 87/318 [00:00<00:02, 87.27it/s]\u001b[A\n",
      " 30%|███       | 96/318 [00:01<00:02, 87.69it/s]\u001b[A\n",
      " 33%|███▎      | 106/318 [00:01<00:02, 88.27it/s]\u001b[A\n",
      " 36%|███▋      | 116/318 [00:01<00:02, 89.07it/s]\u001b[A\n",
      " 39%|███▉      | 125/318 [00:01<00:02, 88.82it/s]\u001b[A\n",
      " 42%|████▏     | 134/318 [00:01<00:02, 88.81it/s]\u001b[A\n",
      " 45%|████▍     | 143/318 [00:01<00:01, 89.05it/s]\u001b[A\n",
      " 48%|████▊     | 152/318 [00:01<00:01, 89.24it/s]\u001b[A\n",
      " 51%|█████     | 162/318 [00:01<00:01, 89.82it/s]\u001b[A\n",
      " 54%|█████▍    | 172/318 [00:01<00:01, 90.51it/s]\u001b[A\n",
      " 57%|█████▋    | 182/318 [00:02<00:01, 90.90it/s]\u001b[A\n",
      " 60%|██████    | 192/318 [00:02<00:01, 90.41it/s]\u001b[A\n",
      " 64%|██████▎   | 202/318 [00:02<00:01, 90.77it/s]\u001b[A\n",
      " 67%|██████▋   | 212/318 [00:02<00:01, 90.33it/s]\u001b[A\n",
      " 70%|██████▉   | 222/318 [00:02<00:01, 90.26it/s]\u001b[A\n",
      " 73%|███████▎  | 232/318 [00:02<00:00, 89.31it/s]\u001b[A\n",
      " 76%|███████▌  | 242/318 [00:02<00:00, 89.61it/s]\u001b[A\n",
      " 79%|███████▉  | 251/318 [00:02<00:00, 89.68it/s]\u001b[A\n",
      " 82%|████████▏ | 260/318 [00:02<00:00, 89.24it/s]\u001b[A\n",
      " 85%|████████▍ | 269/318 [00:03<00:00, 88.94it/s]\u001b[A\n",
      " 87%|████████▋ | 278/318 [00:03<00:00, 88.62it/s]\u001b[A\n",
      " 90%|█████████ | 287/318 [00:03<00:00, 88.55it/s]\u001b[A\n",
      " 93%|█████████▎| 296/318 [00:03<00:00, 88.46it/s]\u001b[A\n",
      " 96%|█████████▌| 305/318 [00:03<00:00, 88.40it/s]\u001b[A\n",
      " 99%|█████████▊| 314/318 [00:03<00:00, 88.44it/s]\u001b[A/cm/shared/ebtree/software/Python/3.8.6-GCCcore-10.2.0/lib/python3.8/site-packages/sklearn/metrics/_classification.py:1248: UndefinedMetricWarning: Precision is ill-defined and being set to 0.0 in labels with no predicted samples. Use `zero_division` parameter to control this behavior.\n",
      "  _warn_prf(average, modifier, msg_start, len(result))\n",
      "\n",
      "                                                    \n",
      " 69%|██████▉   | 7260/10560 [09:24<03:12, 17.17it/s]\n",
      "                                                 \u001b[ASaving model checkpoint to ./Checkpoints/MarBertv2_hyperparams/run-1/checkpoint-7260\n",
      "Configuration saved in ./Checkpoints/MarBertv2_hyperparams/run-1/checkpoint-7260/config.json\n"
     ]
    },
    {
     "name": "stdout",
     "output_type": "stream",
     "text": [
      "{'eval_loss': 0.6915984153747559, 'eval_f1': 0.4054307116104869, 'eval_recall': 0.5, 'eval_precision': 0.3409448818897638, 'eval_runtime': 3.6377, 'eval_samples_per_second': 349.124, 'eval_steps_per_second': 87.418, 'epoch': 11.0}\n"
     ]
    },
    {
     "name": "stderr",
     "output_type": "stream",
     "text": [
      "Model weights saved in ./Checkpoints/MarBertv2_hyperparams/run-1/checkpoint-7260/pytorch_model.bin\n",
      "tokenizer config file saved in ./Checkpoints/MarBertv2_hyperparams/run-1/checkpoint-7260/tokenizer_config.json\n",
      "Special tokens file saved in ./Checkpoints/MarBertv2_hyperparams/run-1/checkpoint-7260/special_tokens_map.json\n",
      " 71%|███████   | 7503/10560 [09:46<02:59, 16.99it/s]  "
     ]
    },
    {
     "name": "stdout",
     "output_type": "stream",
     "text": [
      "{'loss': 0.6936, 'learning_rate': 3.23721851591725e-05, 'epoch': 11.36}\n"
     ]
    },
    {
     "name": "stderr",
     "output_type": "stream",
     "text": [
      " 75%|███████▍  | 7919/10560 [10:12<02:34, 17.05it/s]The following columns in the evaluation set  don't have a corresponding argument in `BertForSequenceClassification.forward` and have been ignored: text. If text are not expected by `BertForSequenceClassification.forward`,  you can safely ignore this message.\n",
      "***** Running Evaluation *****\n",
      "  Num examples = 1270\n",
      "  Batch size = 4\n",
      "\n",
      "  0%|          | 0/318 [00:00<?, ?it/s]\u001b[A\n",
      "  3%|▎         | 10/318 [00:00<00:03, 98.81it/s]\u001b[A\n",
      "  6%|▋         | 20/318 [00:00<00:03, 84.45it/s]\u001b[A\n",
      "  9%|▉         | 29/318 [00:00<00:03, 85.94it/s]\u001b[A\n",
      " 12%|█▏        | 38/318 [00:00<00:03, 86.61it/s]\u001b[A\n",
      " 15%|█▍        | 47/318 [00:00<00:03, 87.08it/s]\u001b[A\n",
      " 18%|█▊        | 56/318 [00:00<00:03, 87.26it/s]\u001b[A\n",
      " 20%|██        | 65/318 [00:00<00:02, 87.55it/s]\u001b[A\n",
      " 23%|██▎       | 74/318 [00:00<00:02, 87.59it/s]\u001b[A\n",
      " 26%|██▌       | 83/318 [00:00<00:02, 87.68it/s]\u001b[A\n",
      " 29%|██▉       | 92/318 [00:01<00:02, 87.72it/s]\u001b[A\n",
      " 32%|███▏      | 101/318 [00:01<00:02, 87.68it/s]\u001b[A\n",
      " 35%|███▍      | 110/318 [00:01<00:02, 87.78it/s]\u001b[A\n",
      " 37%|███▋      | 119/318 [00:01<00:02, 87.95it/s]\u001b[A\n",
      " 41%|████      | 129/318 [00:01<00:02, 88.71it/s]\u001b[A\n",
      " 43%|████▎     | 138/318 [00:01<00:02, 88.81it/s]\u001b[A\n",
      " 46%|████▌     | 147/318 [00:01<00:01, 89.14it/s]\u001b[A\n",
      " 49%|████▉     | 156/318 [00:01<00:01, 88.54it/s]\u001b[A\n",
      " 52%|█████▏    | 165/318 [00:01<00:01, 87.73it/s]\u001b[A\n",
      " 55%|█████▍    | 174/318 [00:01<00:01, 87.66it/s]\u001b[A\n",
      " 58%|█████▊    | 183/318 [00:02<00:01, 87.36it/s]\u001b[A\n",
      " 60%|██████    | 192/318 [00:02<00:01, 87.54it/s]\u001b[A\n",
      " 63%|██████▎   | 201/318 [00:02<00:01, 87.00it/s]\u001b[A\n",
      " 66%|██████▌   | 210/318 [00:02<00:01, 87.04it/s]\u001b[A\n",
      " 69%|██████▉   | 219/318 [00:02<00:01, 87.01it/s]\u001b[A\n",
      " 72%|███████▏  | 228/318 [00:02<00:01, 87.06it/s]\u001b[A\n",
      " 75%|███████▍  | 237/318 [00:02<00:00, 87.51it/s]\u001b[A\n",
      " 77%|███████▋  | 246/318 [00:02<00:00, 88.16it/s]\u001b[A\n",
      " 80%|████████  | 255/318 [00:02<00:00, 87.92it/s]\u001b[A\n",
      " 83%|████████▎ | 264/318 [00:03<00:00, 88.05it/s]\u001b[A\n",
      " 86%|████████▌ | 273/318 [00:03<00:00, 87.50it/s]\u001b[A\n",
      " 89%|████████▊ | 282/318 [00:03<00:00, 88.16it/s]\u001b[A\n",
      " 92%|█████████▏| 291/318 [00:03<00:00, 88.32it/s]\u001b[A\n",
      " 94%|█████████▍| 300/318 [00:03<00:00, 88.48it/s]\u001b[A\n",
      " 97%|█████████▋| 309/318 [00:03<00:00, 88.60it/s]\u001b[A/cm/shared/ebtree/software/Python/3.8.6-GCCcore-10.2.0/lib/python3.8/site-packages/sklearn/metrics/_classification.py:1248: UndefinedMetricWarning: Precision is ill-defined and being set to 0.0 in labels with no predicted samples. Use `zero_division` parameter to control this behavior.\n",
      "  _warn_prf(average, modifier, msg_start, len(result))\n",
      "\n",
      "                                                    \n",
      " 75%|███████▌  | 7920/10560 [10:16<02:34, 17.05it/s]\n",
      "                                                 \u001b[ASaving model checkpoint to ./Checkpoints/MarBertv2_hyperparams/run-1/checkpoint-7920\n",
      "Configuration saved in ./Checkpoints/MarBertv2_hyperparams/run-1/checkpoint-7920/config.json\n"
     ]
    },
    {
     "name": "stdout",
     "output_type": "stream",
     "text": [
      "{'eval_loss': 0.6919289231300354, 'eval_f1': 0.4054307116104869, 'eval_recall': 0.5, 'eval_precision': 0.3409448818897638, 'eval_runtime': 3.7047, 'eval_samples_per_second': 342.812, 'eval_steps_per_second': 85.838, 'epoch': 12.0}\n"
     ]
    },
    {
     "name": "stderr",
     "output_type": "stream",
     "text": [
      "Model weights saved in ./Checkpoints/MarBertv2_hyperparams/run-1/checkpoint-7920/pytorch_model.bin\n",
      "tokenizer config file saved in ./Checkpoints/MarBertv2_hyperparams/run-1/checkpoint-7920/tokenizer_config.json\n",
      "Special tokens file saved in ./Checkpoints/MarBertv2_hyperparams/run-1/checkpoint-7920/special_tokens_map.json\n",
      " 76%|███████▌  | 8001/10560 [10:28<02:40, 15.96it/s]  "
     ]
    },
    {
     "name": "stdout",
     "output_type": "stream",
     "text": [
      "{'loss': 0.6935, 'learning_rate': 2.708261242074562e-05, 'epoch': 12.12}\n"
     ]
    },
    {
     "name": "stderr",
     "output_type": "stream",
     "text": [
      " 81%|████████  | 8503/10560 [10:59<01:57, 17.55it/s]"
     ]
    },
    {
     "name": "stdout",
     "output_type": "stream",
     "text": [
      "{'loss': 0.6934, 'learning_rate': 2.179303968231874e-05, 'epoch': 12.88}\n"
     ]
    },
    {
     "name": "stderr",
     "output_type": "stream",
     "text": [
      " 81%|████████  | 8579/10560 [11:04<01:56, 17.00it/s]The following columns in the evaluation set  don't have a corresponding argument in `BertForSequenceClassification.forward` and have been ignored: text. If text are not expected by `BertForSequenceClassification.forward`,  you can safely ignore this message.\n",
      "***** Running Evaluation *****\n",
      "  Num examples = 1270\n",
      "  Batch size = 4\n",
      "\n",
      "  0%|          | 0/318 [00:00<?, ?it/s]\u001b[A\n",
      "  3%|▎         | 10/318 [00:00<00:03, 99.95it/s]\u001b[A\n",
      "  6%|▋         | 20/318 [00:00<00:03, 92.32it/s]\u001b[A\n",
      "  9%|▉         | 30/318 [00:00<00:03, 90.32it/s]\u001b[A\n",
      " 13%|█▎        | 40/318 [00:00<00:03, 89.56it/s]\u001b[A\n",
      " 15%|█▌        | 49/318 [00:00<00:03, 89.14it/s]\u001b[A\n",
      " 18%|█▊        | 58/318 [00:00<00:02, 88.79it/s]\u001b[A\n",
      " 21%|██        | 67/318 [00:00<00:02, 88.96it/s]\u001b[A\n",
      " 24%|██▍       | 76/318 [00:00<00:02, 88.45it/s]\u001b[A\n",
      " 27%|██▋       | 85/318 [00:00<00:02, 88.88it/s]\u001b[A\n",
      " 30%|██▉       | 94/318 [00:01<00:02, 89.15it/s]\u001b[A\n",
      " 32%|███▏      | 103/318 [00:01<00:02, 88.23it/s]\u001b[A\n",
      " 35%|███▌      | 112/318 [00:01<00:02, 87.57it/s]\u001b[A\n",
      " 38%|███▊      | 121/318 [00:01<00:02, 87.27it/s]\u001b[A\n",
      " 41%|████      | 131/318 [00:01<00:02, 88.39it/s]\u001b[A\n",
      " 44%|████▍     | 141/318 [00:01<00:01, 89.27it/s]\u001b[A\n",
      " 47%|████▋     | 150/318 [00:01<00:01, 89.38it/s]\u001b[A\n",
      " 50%|█████     | 160/318 [00:01<00:01, 89.80it/s]\u001b[A\n",
      " 53%|█████▎    | 169/318 [00:01<00:01, 89.65it/s]\u001b[A\n",
      " 56%|█████▌    | 178/318 [00:01<00:01, 89.22it/s]\u001b[A\n",
      " 59%|█████▉    | 187/318 [00:02<00:01, 86.84it/s]\u001b[A\n",
      " 62%|██████▏   | 196/318 [00:02<00:01, 87.32it/s]\u001b[A\n",
      " 64%|██████▍   | 205/318 [00:02<00:01, 86.35it/s]\u001b[A\n",
      " 67%|██████▋   | 214/318 [00:02<00:01, 87.01it/s]\u001b[A\n",
      " 70%|███████   | 223/318 [00:02<00:01, 87.18it/s]\u001b[A\n",
      " 73%|███████▎  | 232/318 [00:02<00:00, 87.64it/s]\u001b[A\n",
      " 76%|███████▌  | 241/318 [00:02<00:00, 86.89it/s]\u001b[A\n",
      " 79%|███████▊  | 250/318 [00:02<00:00, 86.98it/s]\u001b[A\n",
      " 81%|████████▏ | 259/318 [00:02<00:00, 87.35it/s]\u001b[A\n",
      " 84%|████████▍ | 268/318 [00:03<00:00, 87.65it/s]\u001b[A\n",
      " 87%|████████▋ | 277/318 [00:03<00:00, 87.76it/s]\u001b[A\n",
      " 90%|████████▉ | 286/318 [00:03<00:00, 87.76it/s]\u001b[A\n",
      " 93%|█████████▎| 295/318 [00:03<00:00, 88.13it/s]\u001b[A\n",
      " 96%|█████████▌| 304/318 [00:03<00:00, 88.31it/s]\u001b[A\n",
      " 98%|█████████▊| 313/318 [00:03<00:00, 88.58it/s]\u001b[A/cm/shared/ebtree/software/Python/3.8.6-GCCcore-10.2.0/lib/python3.8/site-packages/sklearn/metrics/_classification.py:1248: UndefinedMetricWarning: Precision is ill-defined and being set to 0.0 in labels with no predicted samples. Use `zero_division` parameter to control this behavior.\n",
      "  _warn_prf(average, modifier, msg_start, len(result))\n",
      "\n",
      "                                                    \n",
      " 81%|████████▏ | 8580/10560 [11:07<01:56, 17.00it/s]\n",
      "                                                 \u001b[ASaving model checkpoint to ./Checkpoints/MarBertv2_hyperparams/run-1/checkpoint-8580\n",
      "Configuration saved in ./Checkpoints/MarBertv2_hyperparams/run-1/checkpoint-8580/config.json\n"
     ]
    },
    {
     "name": "stdout",
     "output_type": "stream",
     "text": [
      "{'eval_loss': 0.6923970580101013, 'eval_f1': 0.4054307116104869, 'eval_recall': 0.5, 'eval_precision': 0.3409448818897638, 'eval_runtime': 3.67, 'eval_samples_per_second': 346.052, 'eval_steps_per_second': 86.649, 'epoch': 13.0}\n"
     ]
    },
    {
     "name": "stderr",
     "output_type": "stream",
     "text": [
      "Model weights saved in ./Checkpoints/MarBertv2_hyperparams/run-1/checkpoint-8580/pytorch_model.bin\n",
      "tokenizer config file saved in ./Checkpoints/MarBertv2_hyperparams/run-1/checkpoint-8580/tokenizer_config.json\n",
      "Special tokens file saved in ./Checkpoints/MarBertv2_hyperparams/run-1/checkpoint-8580/special_tokens_map.json\n",
      " 85%|████████▌ | 9003/10560 [11:41<01:33, 16.66it/s]"
     ]
    },
    {
     "name": "stdout",
     "output_type": "stream",
     "text": [
      "{'loss': 0.6934, 'learning_rate': 1.6503466943891862e-05, 'epoch': 13.64}\n"
     ]
    },
    {
     "name": "stderr",
     "output_type": "stream",
     "text": [
      " 87%|████████▋ | 9239/10560 [11:55<01:14, 17.65it/s]The following columns in the evaluation set  don't have a corresponding argument in `BertForSequenceClassification.forward` and have been ignored: text. If text are not expected by `BertForSequenceClassification.forward`,  you can safely ignore this message.\n",
      "***** Running Evaluation *****\n",
      "  Num examples = 1270\n",
      "  Batch size = 4\n",
      "\n",
      "  0%|          | 0/318 [00:00<?, ?it/s]\u001b[A\n",
      "  3%|▎         | 10/318 [00:00<00:03, 99.18it/s]\u001b[A\n",
      "  6%|▋         | 20/318 [00:00<00:03, 89.97it/s]\u001b[A\n",
      "  9%|▉         | 30/318 [00:00<00:03, 89.12it/s]\u001b[A\n",
      " 12%|█▏        | 39/318 [00:00<00:03, 88.98it/s]\u001b[A\n",
      " 15%|█▌        | 48/318 [00:00<00:03, 89.02it/s]\u001b[A\n",
      " 18%|█▊        | 57/318 [00:00<00:02, 88.91it/s]\u001b[A\n",
      " 21%|██        | 66/318 [00:00<00:02, 88.56it/s]\u001b[A\n",
      " 24%|██▎       | 75/318 [00:00<00:02, 88.36it/s]\u001b[A\n",
      " 26%|██▋       | 84/318 [00:00<00:02, 88.14it/s]\u001b[A\n",
      " 29%|██▉       | 93/318 [00:01<00:02, 88.14it/s]\u001b[A\n",
      " 32%|███▏      | 102/318 [00:01<00:02, 88.27it/s]\u001b[A\n",
      " 35%|███▍      | 111/318 [00:01<00:02, 88.16it/s]\u001b[A\n",
      " 38%|███▊      | 120/318 [00:01<00:02, 88.05it/s]\u001b[A\n",
      " 41%|████      | 129/318 [00:01<00:02, 87.96it/s]\u001b[A\n",
      " 43%|████▎     | 138/318 [00:01<00:02, 85.15it/s]\u001b[A\n",
      " 46%|████▌     | 147/318 [00:01<00:01, 85.51it/s]\u001b[A\n",
      " 49%|████▉     | 156/318 [00:01<00:01, 85.91it/s]\u001b[A\n",
      " 52%|█████▏    | 165/318 [00:01<00:01, 86.51it/s]\u001b[A\n",
      " 55%|█████▍    | 174/318 [00:01<00:01, 86.78it/s]\u001b[A\n",
      " 58%|█████▊    | 183/318 [00:02<00:01, 87.05it/s]\u001b[A\n",
      " 60%|██████    | 192/318 [00:02<00:01, 87.16it/s]\u001b[A\n",
      " 63%|██████▎   | 201/318 [00:02<00:01, 87.25it/s]\u001b[A\n",
      " 66%|██████▌   | 210/318 [00:02<00:01, 87.33it/s]\u001b[A\n",
      " 69%|██████▉   | 219/318 [00:02<00:01, 87.65it/s]\u001b[A\n",
      " 72%|███████▏  | 228/318 [00:02<00:01, 87.86it/s]\u001b[A\n",
      " 75%|███████▍  | 237/318 [00:02<00:00, 87.84it/s]\u001b[A\n",
      " 77%|███████▋  | 246/318 [00:02<00:00, 83.81it/s]\u001b[A\n",
      " 80%|████████  | 255/318 [00:02<00:00, 84.88it/s]\u001b[A\n",
      " 83%|████████▎ | 264/318 [00:03<00:00, 85.71it/s]\u001b[A\n",
      " 86%|████████▌ | 273/318 [00:03<00:00, 86.35it/s]\u001b[A\n",
      " 89%|████████▊ | 282/318 [00:03<00:00, 85.70it/s]\u001b[A\n",
      " 92%|█████████▏| 291/318 [00:03<00:00, 86.58it/s]\u001b[A\n",
      " 94%|█████████▍| 300/318 [00:03<00:00, 76.70it/s]\u001b[A\n",
      " 97%|█████████▋| 309/318 [00:03<00:00, 79.44it/s]\u001b[A\n",
      "100%|██████████| 318/318 [00:03<00:00, 81.61it/s]\u001b[A/cm/shared/ebtree/software/Python/3.8.6-GCCcore-10.2.0/lib/python3.8/site-packages/sklearn/metrics/_classification.py:1248: UndefinedMetricWarning: Precision is ill-defined and being set to 0.0 in labels with no predicted samples. Use `zero_division` parameter to control this behavior.\n",
      "  _warn_prf(average, modifier, msg_start, len(result))\n",
      "\n",
      "                                                    \n",
      " 88%|████████▊ | 9240/10560 [11:59<01:14, 17.65it/s]\n",
      "                                                 \u001b[ASaving model checkpoint to ./Checkpoints/MarBertv2_hyperparams/run-1/checkpoint-9240\n",
      "Configuration saved in ./Checkpoints/MarBertv2_hyperparams/run-1/checkpoint-9240/config.json\n"
     ]
    },
    {
     "name": "stdout",
     "output_type": "stream",
     "text": [
      "{'eval_loss': 0.6927291750907898, 'eval_f1': 0.4054307116104869, 'eval_recall': 0.5, 'eval_precision': 0.3409448818897638, 'eval_runtime': 3.7816, 'eval_samples_per_second': 335.833, 'eval_steps_per_second': 84.09, 'epoch': 14.0}\n"
     ]
    },
    {
     "name": "stderr",
     "output_type": "stream",
     "text": [
      "Model weights saved in ./Checkpoints/MarBertv2_hyperparams/run-1/checkpoint-9240/pytorch_model.bin\n",
      "tokenizer config file saved in ./Checkpoints/MarBertv2_hyperparams/run-1/checkpoint-9240/tokenizer_config.json\n",
      "Special tokens file saved in ./Checkpoints/MarBertv2_hyperparams/run-1/checkpoint-9240/special_tokens_map.json\n",
      " 90%|████████▉ | 9503/10560 [12:22<01:11, 14.86it/s]"
     ]
    },
    {
     "name": "stdout",
     "output_type": "stream",
     "text": [
      "{'loss': 0.6933, 'learning_rate': 1.1213894205464982e-05, 'epoch': 14.39}\n"
     ]
    },
    {
     "name": "stderr",
     "output_type": "stream",
     "text": [
      " 94%|█████████▎| 9899/10560 [12:46<00:37, 17.76it/s]The following columns in the evaluation set  don't have a corresponding argument in `BertForSequenceClassification.forward` and have been ignored: text. If text are not expected by `BertForSequenceClassification.forward`,  you can safely ignore this message.\n",
      "***** Running Evaluation *****\n",
      "  Num examples = 1270\n",
      "  Batch size = 4\n",
      "\n",
      "  0%|          | 0/318 [00:00<?, ?it/s]\u001b[A\n",
      "  3%|▎         | 10/318 [00:00<00:03, 98.98it/s]\u001b[A\n",
      "  6%|▋         | 20/318 [00:00<00:03, 92.64it/s]\u001b[A\n",
      "  9%|▉         | 30/318 [00:00<00:03, 90.59it/s]\u001b[A\n",
      " 13%|█▎        | 40/318 [00:00<00:03, 89.00it/s]\u001b[A\n",
      " 15%|█▌        | 49/318 [00:00<00:03, 89.11it/s]\u001b[A\n",
      " 18%|█▊        | 58/318 [00:00<00:02, 87.98it/s]\u001b[A\n",
      " 21%|██        | 67/318 [00:00<00:02, 88.27it/s]\u001b[A\n",
      " 24%|██▍       | 76/318 [00:00<00:02, 88.30it/s]\u001b[A\n",
      " 27%|██▋       | 85/318 [00:00<00:02, 87.74it/s]\u001b[A\n",
      " 30%|██▉       | 94/318 [00:01<00:02, 87.08it/s]\u001b[A\n",
      " 32%|███▏      | 103/318 [00:01<00:02, 87.24it/s]\u001b[A\n",
      " 35%|███▌      | 112/318 [00:01<00:02, 87.70it/s]\u001b[A\n",
      " 38%|███▊      | 121/318 [00:01<00:02, 87.91it/s]\u001b[A\n",
      " 41%|████      | 130/318 [00:01<00:02, 87.68it/s]\u001b[A\n",
      " 44%|████▎     | 139/318 [00:01<00:02, 87.91it/s]\u001b[A\n",
      " 47%|████▋     | 148/318 [00:01<00:01, 88.28it/s]\u001b[A\n",
      " 49%|████▉     | 157/318 [00:01<00:01, 88.38it/s]\u001b[A\n",
      " 52%|█████▏    | 166/318 [00:01<00:01, 88.60it/s]\u001b[A\n",
      " 55%|█████▌    | 175/318 [00:01<00:01, 88.35it/s]\u001b[A\n",
      " 58%|█████▊    | 184/318 [00:02<00:01, 88.21it/s]\u001b[A\n",
      " 61%|██████    | 193/318 [00:02<00:01, 88.07it/s]\u001b[A\n",
      " 64%|██████▎   | 202/318 [00:02<00:01, 88.13it/s]\u001b[A\n",
      " 66%|██████▋   | 211/318 [00:02<00:01, 88.32it/s]\u001b[A\n",
      " 69%|██████▉   | 220/318 [00:02<00:01, 88.27it/s]\u001b[A\n",
      " 72%|███████▏  | 229/318 [00:02<00:01, 88.08it/s]\u001b[A\n",
      " 75%|███████▍  | 238/318 [00:02<00:00, 88.14it/s]\u001b[A\n",
      " 78%|███████▊  | 247/318 [00:02<00:00, 88.02it/s]\u001b[A\n",
      " 81%|████████  | 256/318 [00:02<00:00, 88.12it/s]\u001b[A\n",
      " 83%|████████▎ | 265/318 [00:03<00:00, 88.17it/s]\u001b[A\n",
      " 86%|████████▌ | 274/318 [00:03<00:00, 87.35it/s]\u001b[A\n",
      " 89%|████████▉ | 283/318 [00:03<00:00, 87.67it/s]\u001b[A\n",
      " 92%|█████████▏| 292/318 [00:03<00:00, 87.79it/s]\u001b[A\n",
      " 95%|█████████▍| 301/318 [00:03<00:00, 87.94it/s]\u001b[A\n",
      " 97%|█████████▋| 310/318 [00:03<00:00, 88.08it/s]\u001b[A/cm/shared/ebtree/software/Python/3.8.6-GCCcore-10.2.0/lib/python3.8/site-packages/sklearn/metrics/_classification.py:1248: UndefinedMetricWarning: Precision is ill-defined and being set to 0.0 in labels with no predicted samples. Use `zero_division` parameter to control this behavior.\n",
      "  _warn_prf(average, modifier, msg_start, len(result))\n",
      "\n",
      "                                                    \n",
      " 94%|█████████▍| 9900/10560 [12:50<00:37, 17.76it/s]\n",
      "                                                 \u001b[ASaving model checkpoint to ./Checkpoints/MarBertv2_hyperparams/run-1/checkpoint-9900\n",
      "Configuration saved in ./Checkpoints/MarBertv2_hyperparams/run-1/checkpoint-9900/config.json\n"
     ]
    },
    {
     "name": "stdout",
     "output_type": "stream",
     "text": [
      "{'eval_loss': 0.6929116249084473, 'eval_f1': 0.4054307116104869, 'eval_recall': 0.5, 'eval_precision': 0.3409448818897638, 'eval_runtime': 3.6821, 'eval_samples_per_second': 344.915, 'eval_steps_per_second': 86.364, 'epoch': 15.0}\n"
     ]
    },
    {
     "name": "stderr",
     "output_type": "stream",
     "text": [
      "Model weights saved in ./Checkpoints/MarBertv2_hyperparams/run-1/checkpoint-9900/pytorch_model.bin\n",
      "tokenizer config file saved in ./Checkpoints/MarBertv2_hyperparams/run-1/checkpoint-9900/tokenizer_config.json\n",
      "Special tokens file saved in ./Checkpoints/MarBertv2_hyperparams/run-1/checkpoint-9900/special_tokens_map.json\n",
      " 95%|█████████▍| 10001/10560 [13:03<00:33, 16.48it/s]"
     ]
    },
    {
     "name": "stdout",
     "output_type": "stream",
     "text": [
      "{'loss': 0.6932, 'learning_rate': 5.924321467038104e-06, 'epoch': 15.15}\n"
     ]
    },
    {
     "name": "stderr",
     "output_type": "stream",
     "text": [
      " 99%|█████████▉| 10501/10560 [13:34<00:03, 15.67it/s]"
     ]
    },
    {
     "name": "stdout",
     "output_type": "stream",
     "text": [
      "{'loss': 0.6932, 'learning_rate': 6.347487286112254e-07, 'epoch': 15.91}\n"
     ]
    },
    {
     "name": "stderr",
     "output_type": "stream",
     "text": [
      "100%|█████████▉| 10559/10560 [13:38<00:00, 16.85it/s]The following columns in the evaluation set  don't have a corresponding argument in `BertForSequenceClassification.forward` and have been ignored: text. If text are not expected by `BertForSequenceClassification.forward`,  you can safely ignore this message.\n",
      "***** Running Evaluation *****\n",
      "  Num examples = 1270\n",
      "  Batch size = 4\n",
      "\n",
      "  0%|          | 0/318 [00:00<?, ?it/s]\u001b[A\n",
      "  3%|▎         | 10/318 [00:00<00:03, 99.07it/s]\u001b[A\n",
      "  6%|▋         | 20/318 [00:00<00:03, 90.41it/s]\u001b[A\n",
      "  9%|▉         | 30/318 [00:00<00:03, 86.09it/s]\u001b[A\n",
      " 12%|█▏        | 39/318 [00:00<00:03, 85.70it/s]\u001b[A\n",
      " 15%|█▌        | 48/318 [00:00<00:03, 86.36it/s]\u001b[A\n",
      " 18%|█▊        | 57/318 [00:00<00:03, 86.82it/s]\u001b[A\n",
      " 21%|██        | 66/318 [00:00<00:02, 87.27it/s]\u001b[A\n",
      " 24%|██▎       | 75/318 [00:00<00:02, 87.27it/s]\u001b[A\n",
      " 26%|██▋       | 84/318 [00:00<00:02, 87.43it/s]\u001b[A\n",
      " 29%|██▉       | 93/318 [00:01<00:02, 87.87it/s]\u001b[A\n",
      " 32%|███▏      | 102/318 [00:01<00:02, 88.14it/s]\u001b[A\n",
      " 35%|███▍      | 111/318 [00:01<00:02, 88.09it/s]\u001b[A\n",
      " 38%|███▊      | 120/318 [00:01<00:02, 88.02it/s]\u001b[A\n",
      " 41%|████      | 129/318 [00:01<00:02, 88.04it/s]\u001b[A\n",
      " 43%|████▎     | 138/318 [00:01<00:02, 86.85it/s]\u001b[A\n",
      " 46%|████▌     | 147/318 [00:01<00:01, 86.99it/s]\u001b[A\n",
      " 49%|████▉     | 156/318 [00:01<00:01, 87.05it/s]\u001b[A\n",
      " 52%|█████▏    | 165/318 [00:01<00:01, 87.86it/s]\u001b[A\n",
      " 55%|█████▍    | 174/318 [00:01<00:01, 88.02it/s]\u001b[A\n",
      " 58%|█████▊    | 183/318 [00:02<00:01, 82.23it/s]\u001b[A\n",
      " 60%|██████    | 192/318 [00:02<00:01, 82.41it/s]\u001b[A\n",
      " 63%|██████▎   | 201/318 [00:02<00:01, 84.06it/s]\u001b[A\n",
      " 66%|██████▌   | 210/318 [00:02<00:01, 82.61it/s]\u001b[A\n",
      " 69%|██████▉   | 219/318 [00:02<00:01, 83.32it/s]\u001b[A\n",
      " 72%|███████▏  | 228/318 [00:02<00:01, 84.69it/s]\u001b[A\n",
      " 75%|███████▍  | 237/318 [00:02<00:00, 85.57it/s]\u001b[A\n",
      " 77%|███████▋  | 246/318 [00:02<00:00, 86.39it/s]\u001b[A\n",
      " 80%|████████  | 255/318 [00:02<00:00, 85.76it/s]\u001b[A\n",
      " 83%|████████▎ | 264/318 [00:03<00:00, 86.52it/s]\u001b[A\n",
      " 86%|████████▌ | 273/318 [00:03<00:00, 86.26it/s]\u001b[A\n",
      " 89%|████████▊ | 282/318 [00:03<00:00, 86.78it/s]\u001b[A\n",
      " 92%|█████████▏| 291/318 [00:03<00:00, 87.16it/s]\u001b[A\n",
      " 94%|█████████▍| 300/318 [00:03<00:00, 87.17it/s]\u001b[A\n",
      " 97%|█████████▋| 309/318 [00:03<00:00, 87.36it/s]\u001b[A\n",
      "100%|██████████| 318/318 [00:03<00:00, 87.77it/s]\u001b[A/cm/shared/ebtree/software/Python/3.8.6-GCCcore-10.2.0/lib/python3.8/site-packages/sklearn/metrics/_classification.py:1248: UndefinedMetricWarning: Precision is ill-defined and being set to 0.0 in labels with no predicted samples. Use `zero_division` parameter to control this behavior.\n",
      "  _warn_prf(average, modifier, msg_start, len(result))\n",
      "\n",
      "                                                     \n",
      "100%|██████████| 10560/10560 [13:41<00:00, 16.85it/s]\n",
      "                                                 \u001b[ASaving model checkpoint to ./Checkpoints/MarBertv2_hyperparams/run-1/checkpoint-10560\n",
      "Configuration saved in ./Checkpoints/MarBertv2_hyperparams/run-1/checkpoint-10560/config.json\n"
     ]
    },
    {
     "name": "stdout",
     "output_type": "stream",
     "text": [
      "{'eval_loss': 0.6931220293045044, 'eval_f1': 0.4054307116104869, 'eval_recall': 0.5, 'eval_precision': 0.3409448818897638, 'eval_runtime': 3.7468, 'eval_samples_per_second': 338.957, 'eval_steps_per_second': 84.873, 'epoch': 16.0}\n"
     ]
    },
    {
     "name": "stderr",
     "output_type": "stream",
     "text": [
      "Model weights saved in ./Checkpoints/MarBertv2_hyperparams/run-1/checkpoint-10560/pytorch_model.bin\n",
      "tokenizer config file saved in ./Checkpoints/MarBertv2_hyperparams/run-1/checkpoint-10560/tokenizer_config.json\n",
      "Special tokens file saved in ./Checkpoints/MarBertv2_hyperparams/run-1/checkpoint-10560/special_tokens_map.json\n",
      "\n",
      "\n",
      "Training completed. Do not forget to share your model on huggingface.co/models =)\n",
      "\n",
      "\n",
      "Loading best model from ./Checkpoints/MarBertv2_hyperparams/run-1/checkpoint-660 (score: 0.5495037245755054).\n",
      "100%|██████████| 10560/10560 [13:49<00:00, 12.74it/s]\n",
      "\u001b[32m[I 2022-03-28 21:38:20,934]\u001b[0m Trial 1 finished with value: 1.2463755935002507 and parameters: {'learning_rate': 0.00011171577623557568, 'weight_decay': 9.431873117533165e-05, 'num_train_epochs': 16, 'seed': 24, 'per_device_train_batch_size': 16}. Best is trial 1 with value: 1.2463755935002507.\u001b[0m\n",
      "Trial:\n",
      "loading configuration file /scratch/mt/ashapiro/Hate_Speech/Models/Marbertv2/config.json\n",
      "Model config BertConfig {\n",
      "  \"_name_or_path\": \"/scratch/mt/ashapiro/Hate_Speech/Models/Marbertv2/\",\n",
      "  \"architectures\": [\n",
      "    \"BertForMaskedLM\"\n",
      "  ],\n",
      "  \"attention_probs_dropout_prob\": 0.1,\n",
      "  \"classifier_dropout\": null,\n",
      "  \"directionality\": \"bidi\",\n",
      "  \"gradient_checkpointing\": false,\n",
      "  \"hidden_act\": \"gelu\",\n",
      "  \"hidden_dropout_prob\": 0.1,\n",
      "  \"hidden_size\": 768,\n",
      "  \"initializer_range\": 0.02,\n",
      "  \"intermediate_size\": 3072,\n",
      "  \"layer_norm_eps\": 1e-12,\n",
      "  \"max_position_embeddings\": 512,\n",
      "  \"model_type\": \"bert\",\n",
      "  \"num_attention_heads\": 12,\n",
      "  \"num_hidden_layers\": 12,\n",
      "  \"pad_token_id\": 0,\n",
      "  \"pooler_fc_size\": 768,\n",
      "  \"pooler_num_attention_heads\": 12,\n",
      "  \"pooler_num_fc_layers\": 3,\n",
      "  \"pooler_size_per_head\": 128,\n",
      "  \"pooler_type\": \"first_token_transform\",\n",
      "  \"position_embedding_type\": \"absolute\",\n",
      "  \"transformers_version\": \"4.17.0\",\n",
      "  \"type_vocab_size\": 2,\n",
      "  \"use_cache\": true,\n",
      "  \"vocab_size\": 100000\n",
      "}\n",
      "\n",
      "loading weights file /scratch/mt/ashapiro/Hate_Speech/Models/Marbertv2/pytorch_model.bin\n"
     ]
    },
    {
     "name": "stdout",
     "output_type": "stream",
     "text": [
      "{'train_runtime': 829.0735, 'train_samples_per_second': 203.639, 'train_steps_per_second': 12.737, 'train_loss': 0.6946227420460094, 'epoch': 16.0}\n"
     ]
    },
    {
     "name": "stderr",
     "output_type": "stream",
     "text": [
      "Some weights of the model checkpoint at /scratch/mt/ashapiro/Hate_Speech/Models/Marbertv2/ were not used when initializing BertForSequenceClassification: ['cls.seq_relationship.bias', 'cls.predictions.decoder.bias', 'cls.predictions.transform.LayerNorm.weight', 'cls.seq_relationship.weight', 'cls.predictions.decoder.weight', 'cls.predictions.transform.LayerNorm.bias', 'cls.predictions.transform.dense.weight', 'cls.predictions.bias', 'cls.predictions.transform.dense.bias']\n",
      "- This IS expected if you are initializing BertForSequenceClassification from the checkpoint of a model trained on another task or with another architecture (e.g. initializing a BertForSequenceClassification model from a BertForPreTraining model).\n",
      "- This IS NOT expected if you are initializing BertForSequenceClassification from the checkpoint of a model that you expect to be exactly identical (initializing a BertForSequenceClassification model from a BertForSequenceClassification model).\n",
      "Some weights of BertForSequenceClassification were not initialized from the model checkpoint at /scratch/mt/ashapiro/Hate_Speech/Models/Marbertv2/ and are newly initialized: ['classifier.weight', 'classifier.bias']\n",
      "You should probably TRAIN this model on a down-stream task to be able to use it for predictions and inference.\n",
      "The following columns in the training set  don't have a corresponding argument in `BertForSequenceClassification.forward` and have been ignored: text. If text are not expected by `BertForSequenceClassification.forward`,  you can safely ignore this message.\n",
      "/home/ashapiro/.local/lib/python3.8/site-packages/transformers/optimization.py:306: FutureWarning: This implementation of AdamW is deprecated and will be removed in a future version. Use the PyTorch implementation torch.optim.AdamW instead, or set `no_deprecation_warning=True` to disable this warning\n",
      "  warnings.warn(\n",
      "***** Running training *****\n",
      "  Num examples = 10552\n",
      "  Num Epochs = 11\n",
      "  Instantaneous batch size per device = 16\n",
      "  Total train batch size (w. parallel, distributed & accumulation) = 16\n",
      "  Gradient Accumulation steps = 1\n",
      "  Total optimization steps = 7260\n",
      "  7%|▋         | 501/7260 [00:32<07:09, 15.72it/s]"
     ]
    },
    {
     "name": "stdout",
     "output_type": "stream",
     "text": [
      "{'loss': 1.0628, 'learning_rate': 0.005634782202504491, 'epoch': 0.76}\n"
     ]
    },
    {
     "name": "stderr",
     "output_type": "stream",
     "text": [
      "  9%|▉         | 659/7260 [00:42<06:55, 15.90it/s]The following columns in the evaluation set  don't have a corresponding argument in `BertForSequenceClassification.forward` and have been ignored: text. If text are not expected by `BertForSequenceClassification.forward`,  you can safely ignore this message.\n",
      "***** Running Evaluation *****\n",
      "  Num examples = 1270\n",
      "  Batch size = 4\n",
      "\n",
      "  0%|          | 0/318 [00:00<?, ?it/s]\u001b[A\n",
      "  3%|▎         | 10/318 [00:00<00:03, 99.66it/s]\u001b[A\n",
      "  6%|▋         | 20/318 [00:00<00:03, 92.31it/s]\u001b[A\n",
      "  9%|▉         | 30/318 [00:00<00:03, 91.00it/s]\u001b[A\n",
      " 13%|█▎        | 40/318 [00:00<00:03, 90.84it/s]\u001b[A\n",
      " 16%|█▌        | 50/318 [00:00<00:02, 90.59it/s]\u001b[A\n",
      " 19%|█▉        | 60/318 [00:00<00:02, 90.13it/s]\u001b[A\n",
      " 22%|██▏       | 70/318 [00:00<00:02, 89.04it/s]\u001b[A\n",
      " 25%|██▍       | 79/318 [00:00<00:02, 88.51it/s]\u001b[A\n",
      " 28%|██▊       | 88/318 [00:00<00:02, 88.86it/s]\u001b[A\n",
      " 31%|███       | 97/318 [00:01<00:02, 88.86it/s]\u001b[A\n",
      " 33%|███▎      | 106/318 [00:01<00:02, 89.00it/s]\u001b[A\n",
      " 36%|███▌      | 115/318 [00:01<00:02, 88.52it/s]\u001b[A\n",
      " 39%|███▉      | 125/318 [00:01<00:02, 89.30it/s]\u001b[A\n",
      " 42%|████▏     | 135/318 [00:01<00:02, 90.12it/s]\u001b[A\n",
      " 46%|████▌     | 145/318 [00:01<00:01, 90.36it/s]\u001b[A\n",
      " 49%|████▊     | 155/318 [00:01<00:01, 90.59it/s]\u001b[A\n",
      " 52%|█████▏    | 165/318 [00:01<00:01, 90.50it/s]\u001b[A\n",
      " 55%|█████▌    | 175/318 [00:01<00:01, 90.51it/s]\u001b[A\n",
      " 58%|█████▊    | 185/318 [00:02<00:01, 90.66it/s]\u001b[A\n",
      " 61%|██████▏   | 195/318 [00:02<00:01, 88.75it/s]\u001b[A\n",
      " 64%|██████▍   | 204/318 [00:02<00:01, 88.60it/s]\u001b[A\n",
      " 67%|██████▋   | 213/318 [00:02<00:01, 88.29it/s]\u001b[A\n",
      " 70%|██████▉   | 222/318 [00:02<00:01, 88.05it/s]\u001b[A\n",
      " 73%|███████▎  | 231/318 [00:02<00:01, 86.02it/s]\u001b[A\n",
      " 75%|███████▌  | 240/318 [00:02<00:00, 87.14it/s]\u001b[A\n",
      " 78%|███████▊  | 249/318 [00:02<00:00, 87.73it/s]\u001b[A\n",
      " 81%|████████▏ | 259/318 [00:02<00:00, 88.64it/s]\u001b[A\n",
      " 84%|████████▍ | 268/318 [00:03<00:00, 88.89it/s]\u001b[A\n",
      " 87%|████████▋ | 277/318 [00:03<00:00, 88.48it/s]\u001b[A\n",
      " 90%|████████▉ | 286/318 [00:03<00:00, 76.61it/s]\u001b[A\n",
      " 93%|█████████▎| 295/318 [00:03<00:00, 79.41it/s]\u001b[A\n",
      " 96%|█████████▌| 304/318 [00:03<00:00, 82.18it/s]\u001b[A\n",
      " 99%|█████████▊| 314/318 [00:03<00:00, 84.74it/s]\u001b[A/cm/shared/ebtree/software/Python/3.8.6-GCCcore-10.2.0/lib/python3.8/site-packages/sklearn/metrics/_classification.py:1248: UndefinedMetricWarning: Precision is ill-defined and being set to 0.0 in labels with no predicted samples. Use `zero_division` parameter to control this behavior.\n",
      "  _warn_prf(average, modifier, msg_start, len(result))\n",
      "\n",
      "                                                  \n",
      "  9%|▉         | 660/7260 [00:46<06:55, 15.90it/s][A\n",
      "                                                 \u001b[ASaving model checkpoint to ./Checkpoints/MarBertv2_hyperparams/run-2/checkpoint-660\n",
      "Configuration saved in ./Checkpoints/MarBertv2_hyperparams/run-2/checkpoint-660/config.json\n"
     ]
    },
    {
     "name": "stdout",
     "output_type": "stream",
     "text": [
      "{'eval_loss': 1.0006476640701294, 'eval_f1': 0.4054307116104869, 'eval_recall': 0.5, 'eval_precision': 0.3409448818897638, 'eval_runtime': 3.6885, 'eval_samples_per_second': 344.316, 'eval_steps_per_second': 86.214, 'epoch': 1.0}\n"
     ]
    },
    {
     "name": "stderr",
     "output_type": "stream",
     "text": [
      "Model weights saved in ./Checkpoints/MarBertv2_hyperparams/run-2/checkpoint-660/pytorch_model.bin\n",
      "tokenizer config file saved in ./Checkpoints/MarBertv2_hyperparams/run-2/checkpoint-660/tokenizer_config.json\n",
      "Special tokens file saved in ./Checkpoints/MarBertv2_hyperparams/run-2/checkpoint-660/special_tokens_map.json\n",
      " 14%|█▍        | 1003/7260 [01:15<05:59, 17.40it/s] "
     ]
    },
    {
     "name": "stdout",
     "output_type": "stream",
     "text": [
      "{'loss': 0.9893, 'learning_rate': 0.005218008370958301, 'epoch': 1.52}\n"
     ]
    },
    {
     "name": "stderr",
     "output_type": "stream",
     "text": [
      " 18%|█▊        | 1319/7260 [01:35<06:08, 16.12it/s]The following columns in the evaluation set  don't have a corresponding argument in `BertForSequenceClassification.forward` and have been ignored: text. If text are not expected by `BertForSequenceClassification.forward`,  you can safely ignore this message.\n",
      "***** Running Evaluation *****\n",
      "  Num examples = 1270\n",
      "  Batch size = 4\n",
      "\n",
      "  0%|          | 0/318 [00:00<?, ?it/s]\u001b[A\n",
      "  3%|▎         | 10/318 [00:00<00:03, 98.92it/s]\u001b[A\n",
      "  6%|▋         | 20/318 [00:00<00:03, 92.17it/s]\u001b[A\n",
      "  9%|▉         | 30/318 [00:00<00:03, 88.25it/s]\u001b[A\n",
      " 12%|█▏        | 39/318 [00:00<00:03, 86.53it/s]\u001b[A\n",
      " 15%|█▌        | 48/318 [00:00<00:03, 87.09it/s]\u001b[A\n",
      " 18%|█▊        | 57/318 [00:00<00:02, 87.02it/s]\u001b[A\n",
      " 21%|██        | 66/318 [00:00<00:02, 87.31it/s]\u001b[A\n",
      " 24%|██▎       | 75/318 [00:00<00:02, 87.29it/s]\u001b[A\n",
      " 26%|██▋       | 84/318 [00:00<00:02, 87.38it/s]\u001b[A\n",
      " 29%|██▉       | 93/318 [00:01<00:02, 87.82it/s]\u001b[A\n",
      " 32%|███▏      | 102/318 [00:01<00:02, 87.89it/s]\u001b[A\n",
      " 35%|███▍      | 111/318 [00:01<00:02, 85.99it/s]\u001b[A\n",
      " 38%|███▊      | 120/318 [00:01<00:02, 85.38it/s]\u001b[A\n",
      " 41%|████      | 129/318 [00:01<00:02, 86.01it/s]\u001b[A\n",
      " 43%|████▎     | 138/318 [00:01<00:02, 86.55it/s]\u001b[A\n",
      " 46%|████▌     | 147/318 [00:01<00:01, 86.33it/s]\u001b[A\n",
      " 49%|████▉     | 156/318 [00:01<00:01, 86.73it/s]\u001b[A\n",
      " 52%|█████▏    | 165/318 [00:01<00:01, 86.78it/s]\u001b[A\n",
      " 55%|█████▍    | 174/318 [00:01<00:01, 86.65it/s]\u001b[A\n",
      " 58%|█████▊    | 183/318 [00:02<00:01, 86.89it/s]\u001b[A\n",
      " 60%|██████    | 192/318 [00:02<00:01, 87.02it/s]\u001b[A\n",
      " 63%|██████▎   | 201/318 [00:02<00:01, 86.31it/s]\u001b[A\n",
      " 66%|██████▌   | 210/318 [00:02<00:01, 84.24it/s]\u001b[A\n",
      " 69%|██████▉   | 219/318 [00:02<00:01, 83.72it/s]\u001b[A\n",
      " 72%|███████▏  | 228/318 [00:02<00:01, 84.87it/s]\u001b[A\n",
      " 75%|███████▍  | 237/318 [00:02<00:00, 85.85it/s]\u001b[A\n",
      " 77%|███████▋  | 246/318 [00:02<00:00, 85.20it/s]\u001b[A\n",
      " 80%|████████  | 255/318 [00:02<00:00, 86.01it/s]\u001b[A\n",
      " 83%|████████▎ | 264/318 [00:03<00:00, 86.07it/s]\u001b[A\n",
      " 86%|████████▌ | 273/318 [00:03<00:00, 86.26it/s]\u001b[A\n",
      " 89%|████████▊ | 282/318 [00:03<00:00, 86.51it/s]\u001b[A\n",
      " 92%|█████████▏| 291/318 [00:03<00:00, 86.61it/s]\u001b[A\n",
      " 94%|█████████▍| 300/318 [00:03<00:00, 86.00it/s]\u001b[A\n",
      " 97%|█████████▋| 309/318 [00:03<00:00, 86.33it/s]\u001b[A\n",
      "100%|██████████| 318/318 [00:03<00:00, 85.95it/s]\u001b[A/cm/shared/ebtree/software/Python/3.8.6-GCCcore-10.2.0/lib/python3.8/site-packages/sklearn/metrics/_classification.py:1248: UndefinedMetricWarning: Precision is ill-defined and being set to 0.0 in labels with no predicted samples. Use `zero_division` parameter to control this behavior.\n",
      "  _warn_prf(average, modifier, msg_start, len(result))\n",
      "\n",
      "                                                   \n",
      " 18%|█▊        | 1320/7260 [01:39<06:08, 16.12it/s]A\n",
      "                                                 \u001b[ASaving model checkpoint to ./Checkpoints/MarBertv2_hyperparams/run-2/checkpoint-1320\n",
      "Configuration saved in ./Checkpoints/MarBertv2_hyperparams/run-2/checkpoint-1320/config.json\n"
     ]
    },
    {
     "name": "stdout",
     "output_type": "stream",
     "text": [
      "{'eval_loss': 1.7428518533706665, 'eval_f1': 0.4054307116104869, 'eval_recall': 0.5, 'eval_precision': 0.3409448818897638, 'eval_runtime': 3.7621, 'eval_samples_per_second': 337.574, 'eval_steps_per_second': 84.526, 'epoch': 2.0}\n"
     ]
    },
    {
     "name": "stderr",
     "output_type": "stream",
     "text": [
      "Model weights saved in ./Checkpoints/MarBertv2_hyperparams/run-2/checkpoint-1320/pytorch_model.bin\n",
      "tokenizer config file saved in ./Checkpoints/MarBertv2_hyperparams/run-2/checkpoint-1320/tokenizer_config.json\n",
      "Special tokens file saved in ./Checkpoints/MarBertv2_hyperparams/run-2/checkpoint-1320/special_tokens_map.json\n",
      " 21%|██        | 1501/7260 [01:58<05:53, 16.29it/s]  "
     ]
    },
    {
     "name": "stdout",
     "output_type": "stream",
     "text": [
      "{'loss': 0.979, 'learning_rate': 0.004801234539412111, 'epoch': 2.27}\n"
     ]
    },
    {
     "name": "stderr",
     "output_type": "stream",
     "text": [
      " 27%|██▋       | 1979/7260 [02:29<05:22, 16.39it/s]The following columns in the evaluation set  don't have a corresponding argument in `BertForSequenceClassification.forward` and have been ignored: text. If text are not expected by `BertForSequenceClassification.forward`,  you can safely ignore this message.\n",
      "***** Running Evaluation *****\n",
      "  Num examples = 1270\n",
      "  Batch size = 4\n",
      "\n",
      "  0%|          | 0/318 [00:00<?, ?it/s]\u001b[A\n",
      "  3%|▎         | 11/318 [00:00<00:03, 99.02it/s]\u001b[A\n",
      "  7%|▋         | 21/318 [00:00<00:03, 92.37it/s]\u001b[A\n",
      " 10%|▉         | 31/318 [00:00<00:03, 90.11it/s]\u001b[A\n",
      " 13%|█▎        | 41/318 [00:00<00:03, 89.92it/s]\u001b[A\n",
      " 16%|█▌        | 51/318 [00:00<00:02, 90.55it/s]\u001b[A\n",
      " 19%|█▉        | 61/318 [00:00<00:02, 90.26it/s]\u001b[A\n",
      " 22%|██▏       | 71/318 [00:00<00:02, 90.15it/s]\u001b[A\n",
      " 25%|██▌       | 81/318 [00:00<00:02, 90.39it/s]\u001b[A\n",
      " 29%|██▊       | 91/318 [00:01<00:02, 91.10it/s]\u001b[A\n",
      " 32%|███▏      | 101/318 [00:01<00:02, 91.03it/s]\u001b[A\n",
      " 35%|███▍      | 111/318 [00:01<00:02, 90.99it/s]\u001b[A\n",
      " 38%|███▊      | 121/318 [00:01<00:02, 91.30it/s]\u001b[A\n",
      " 41%|████      | 131/318 [00:01<00:02, 90.54it/s]\u001b[A\n",
      " 44%|████▍     | 141/318 [00:01<00:01, 90.50it/s]\u001b[A\n",
      " 47%|████▋     | 151/318 [00:01<00:01, 90.12it/s]\u001b[A\n",
      " 51%|█████     | 161/318 [00:01<00:01, 89.86it/s]\u001b[A\n",
      " 53%|█████▎    | 170/318 [00:01<00:01, 89.74it/s]\u001b[A\n",
      " 57%|█████▋    | 180/318 [00:01<00:01, 89.85it/s]\u001b[A\n",
      " 59%|█████▉    | 189/318 [00:02<00:01, 89.29it/s]\u001b[A\n",
      " 62%|██████▏   | 198/318 [00:02<00:01, 89.07it/s]\u001b[A\n",
      " 65%|██████▌   | 207/318 [00:02<00:01, 88.73it/s]\u001b[A\n",
      " 68%|██████▊   | 216/318 [00:02<00:01, 88.43it/s]\u001b[A\n",
      " 71%|███████   | 225/318 [00:02<00:01, 88.36it/s]\u001b[A\n",
      " 74%|███████▎  | 234/318 [00:02<00:00, 88.44it/s]\u001b[A\n",
      " 76%|███████▋  | 243/318 [00:02<00:00, 88.57it/s]\u001b[A\n",
      " 79%|███████▉  | 252/318 [00:02<00:00, 88.63it/s]\u001b[A\n",
      " 82%|████████▏ | 261/318 [00:02<00:00, 88.54it/s]\u001b[A\n",
      " 85%|████████▍ | 270/318 [00:03<00:00, 88.48it/s]\u001b[A\n",
      " 88%|████████▊ | 279/318 [00:03<00:00, 88.61it/s]\u001b[A\n",
      " 91%|█████████ | 288/318 [00:03<00:00, 88.68it/s]\u001b[A\n",
      " 93%|█████████▎| 297/318 [00:03<00:00, 88.47it/s]\u001b[A\n",
      " 96%|█████████▌| 306/318 [00:03<00:00, 88.41it/s]\u001b[A\n",
      " 99%|█████████▉| 315/318 [00:03<00:00, 88.76it/s]\u001b[A/cm/shared/ebtree/software/Python/3.8.6-GCCcore-10.2.0/lib/python3.8/site-packages/sklearn/metrics/_classification.py:1248: UndefinedMetricWarning: Precision is ill-defined and being set to 0.0 in labels with no predicted samples. Use `zero_division` parameter to control this behavior.\n",
      "  _warn_prf(average, modifier, msg_start, len(result))\n",
      "\n",
      "                                                   \n",
      " 27%|██▋       | 1980/7260 [02:32<05:22, 16.39it/s]A\n",
      "                                                 \u001b[ASaving model checkpoint to ./Checkpoints/MarBertv2_hyperparams/run-2/checkpoint-1980\n",
      "Configuration saved in ./Checkpoints/MarBertv2_hyperparams/run-2/checkpoint-1980/config.json\n"
     ]
    },
    {
     "name": "stdout",
     "output_type": "stream",
     "text": [
      "{'eval_loss': 0.7715578079223633, 'eval_f1': 0.4054307116104869, 'eval_recall': 0.5, 'eval_precision': 0.3409448818897638, 'eval_runtime': 3.6172, 'eval_samples_per_second': 351.096, 'eval_steps_per_second': 87.912, 'epoch': 3.0}\n"
     ]
    },
    {
     "name": "stderr",
     "output_type": "stream",
     "text": [
      "Model weights saved in ./Checkpoints/MarBertv2_hyperparams/run-2/checkpoint-1980/pytorch_model.bin\n",
      "tokenizer config file saved in ./Checkpoints/MarBertv2_hyperparams/run-2/checkpoint-1980/tokenizer_config.json\n",
      "Special tokens file saved in ./Checkpoints/MarBertv2_hyperparams/run-2/checkpoint-1980/special_tokens_map.json\n",
      " 28%|██▊       | 2003/7260 [02:41<08:38, 10.15it/s]  "
     ]
    },
    {
     "name": "stdout",
     "output_type": "stream",
     "text": [
      "{'loss': 1.0244, 'learning_rate': 0.00438446070786592, 'epoch': 3.03}\n"
     ]
    },
    {
     "name": "stderr",
     "output_type": "stream",
     "text": [
      " 34%|███▍      | 2503/7260 [03:13<05:00, 15.85it/s]"
     ]
    },
    {
     "name": "stdout",
     "output_type": "stream",
     "text": [
      "{'loss': 1.0583, 'learning_rate': 0.00396768687631973, 'epoch': 3.79}\n"
     ]
    },
    {
     "name": "stderr",
     "output_type": "stream",
     "text": [
      " 36%|███▋      | 2639/7260 [03:21<04:41, 16.41it/s]The following columns in the evaluation set  don't have a corresponding argument in `BertForSequenceClassification.forward` and have been ignored: text. If text are not expected by `BertForSequenceClassification.forward`,  you can safely ignore this message.\n",
      "***** Running Evaluation *****\n",
      "  Num examples = 1270\n",
      "  Batch size = 4\n",
      "\n",
      "  0%|          | 0/318 [00:00<?, ?it/s]\u001b[A\n",
      "  3%|▎         | 10/318 [00:00<00:03, 99.98it/s]\u001b[A\n",
      "  6%|▋         | 20/318 [00:00<00:03, 88.34it/s]\u001b[A\n",
      "  9%|▉         | 29/318 [00:00<00:03, 81.37it/s]\u001b[A\n",
      " 12%|█▏        | 38/318 [00:00<00:03, 79.01it/s]\u001b[A\n",
      " 14%|█▍        | 46/318 [00:00<00:03, 76.94it/s]\u001b[A\n",
      " 17%|█▋        | 54/318 [00:00<00:03, 75.18it/s]\u001b[A\n",
      " 20%|█▉        | 63/318 [00:00<00:03, 79.10it/s]\u001b[A\n",
      " 23%|██▎       | 72/318 [00:00<00:03, 80.03it/s]\u001b[A\n",
      " 25%|██▌       | 81/318 [00:01<00:02, 80.72it/s]\u001b[A\n",
      " 28%|██▊       | 90/318 [00:01<00:02, 81.78it/s]\u001b[A\n",
      " 31%|███       | 99/318 [00:01<00:02, 82.76it/s]\u001b[A\n",
      " 34%|███▍      | 108/318 [00:01<00:02, 84.32it/s]\u001b[A\n",
      " 37%|███▋      | 118/318 [00:01<00:02, 86.26it/s]\u001b[A\n",
      " 40%|███▉      | 127/318 [00:01<00:02, 87.02it/s]\u001b[A\n",
      " 43%|████▎     | 136/318 [00:01<00:02, 87.33it/s]\u001b[A\n",
      " 46%|████▌     | 145/318 [00:01<00:01, 87.59it/s]\u001b[A\n",
      " 48%|████▊     | 154/318 [00:01<00:01, 88.22it/s]\u001b[A\n",
      " 51%|█████▏    | 163/318 [00:01<00:01, 83.20it/s]\u001b[A\n",
      " 54%|█████▍    | 172/318 [00:02<00:01, 79.91it/s]\u001b[A\n",
      " 57%|█████▋    | 181/318 [00:02<00:01, 78.03it/s]\u001b[A\n",
      " 59%|█████▉    | 189/318 [00:02<00:01, 76.68it/s]\u001b[A\n",
      " 62%|██████▏   | 197/318 [00:02<00:01, 75.67it/s]\u001b[A\n",
      " 64%|██████▍   | 205/318 [00:02<00:01, 74.85it/s]\u001b[A\n",
      " 67%|██████▋   | 213/318 [00:02<00:01, 74.38it/s]\u001b[A\n",
      " 69%|██████▉   | 221/318 [00:02<00:01, 74.05it/s]\u001b[A\n",
      " 72%|███████▏  | 229/318 [00:02<00:01, 73.82it/s]\u001b[A\n",
      " 75%|███████▍  | 237/318 [00:02<00:01, 73.89it/s]\u001b[A\n",
      " 77%|███████▋  | 245/318 [00:03<00:00, 73.79it/s]\u001b[A\n",
      " 80%|███████▉  | 253/318 [00:03<00:00, 73.85it/s]\u001b[A\n",
      " 82%|████████▏ | 261/318 [00:03<00:00, 73.89it/s]\u001b[A\n",
      " 85%|████████▍ | 269/318 [00:03<00:00, 73.77it/s]\u001b[A\n",
      " 87%|████████▋ | 277/318 [00:03<00:00, 73.76it/s]\u001b[A\n",
      " 90%|████████▉ | 285/318 [00:03<00:00, 73.69it/s]\u001b[A\n",
      " 92%|█████████▏| 293/318 [00:03<00:00, 73.55it/s]\u001b[A\n",
      " 95%|█████████▍| 301/318 [00:03<00:00, 73.84it/s]\u001b[A\n",
      " 97%|█████████▋| 309/318 [00:03<00:00, 73.77it/s]\u001b[A\n",
      "100%|██████████| 318/318 [00:04<00:00, 76.62it/s]\u001b[A/cm/shared/ebtree/software/Python/3.8.6-GCCcore-10.2.0/lib/python3.8/site-packages/sklearn/metrics/_classification.py:1248: UndefinedMetricWarning: Precision is ill-defined and being set to 0.0 in labels with no predicted samples. Use `zero_division` parameter to control this behavior.\n",
      "  _warn_prf(average, modifier, msg_start, len(result))\n",
      "\n",
      "                                                   \n",
      " 36%|███▋      | 2640/7260 [03:26<04:41, 16.41it/s]A\n",
      "                                                 \u001b[ASaving model checkpoint to ./Checkpoints/MarBertv2_hyperparams/run-2/checkpoint-2640\n",
      "Configuration saved in ./Checkpoints/MarBertv2_hyperparams/run-2/checkpoint-2640/config.json\n"
     ]
    },
    {
     "name": "stdout",
     "output_type": "stream",
     "text": [
      "{'eval_loss': 1.3477880954742432, 'eval_f1': 0.4054307116104869, 'eval_recall': 0.5, 'eval_precision': 0.3409448818897638, 'eval_runtime': 4.1281, 'eval_samples_per_second': 307.644, 'eval_steps_per_second': 77.032, 'epoch': 4.0}\n"
     ]
    },
    {
     "name": "stderr",
     "output_type": "stream",
     "text": [
      "Model weights saved in ./Checkpoints/MarBertv2_hyperparams/run-2/checkpoint-2640/pytorch_model.bin\n",
      "tokenizer config file saved in ./Checkpoints/MarBertv2_hyperparams/run-2/checkpoint-2640/tokenizer_config.json\n",
      "Special tokens file saved in ./Checkpoints/MarBertv2_hyperparams/run-2/checkpoint-2640/special_tokens_map.json\n",
      " 41%|████▏     | 3001/7260 [03:56<05:12, 13.62it/s]  "
     ]
    },
    {
     "name": "stdout",
     "output_type": "stream",
     "text": [
      "{'loss': 0.9855, 'learning_rate': 0.0035509130447735405, 'epoch': 4.55}\n"
     ]
    },
    {
     "name": "stderr",
     "output_type": "stream",
     "text": [
      " 45%|████▌     | 3299/7260 [04:15<04:12, 15.68it/s]The following columns in the evaluation set  don't have a corresponding argument in `BertForSequenceClassification.forward` and have been ignored: text. If text are not expected by `BertForSequenceClassification.forward`,  you can safely ignore this message.\n",
      "***** Running Evaluation *****\n",
      "  Num examples = 1270\n",
      "  Batch size = 4\n",
      "\n",
      "  0%|          | 0/318 [00:00<?, ?it/s]\u001b[A\n",
      "  3%|▎         | 10/318 [00:00<00:03, 98.58it/s]\u001b[A\n",
      "  6%|▋         | 20/318 [00:00<00:03, 87.46it/s]\u001b[A\n",
      "  9%|▉         | 29/318 [00:00<00:03, 87.45it/s]\u001b[A\n",
      " 12%|█▏        | 38/318 [00:00<00:03, 87.64it/s]\u001b[A\n",
      " 15%|█▍        | 47/318 [00:00<00:03, 87.19it/s]\u001b[A\n",
      " 18%|█▊        | 56/318 [00:00<00:03, 82.03it/s]\u001b[A\n",
      " 20%|██        | 65/318 [00:00<00:03, 83.41it/s]\u001b[A\n",
      " 23%|██▎       | 74/318 [00:00<00:02, 84.77it/s]\u001b[A\n",
      " 26%|██▌       | 83/318 [00:00<00:02, 85.85it/s]\u001b[A\n",
      " 29%|██▉       | 92/318 [00:01<00:02, 86.72it/s]\u001b[A\n",
      " 32%|███▏      | 101/318 [00:01<00:02, 87.23it/s]\u001b[A\n",
      " 35%|███▍      | 110/318 [00:01<00:02, 87.45it/s]\u001b[A\n",
      " 37%|███▋      | 119/318 [00:01<00:02, 87.70it/s]\u001b[A\n",
      " 40%|████      | 128/318 [00:01<00:02, 87.81it/s]\u001b[A\n",
      " 43%|████▎     | 137/318 [00:01<00:02, 87.83it/s]\u001b[A\n",
      " 46%|████▌     | 146/318 [00:01<00:01, 87.85it/s]\u001b[A\n",
      " 49%|████▊     | 155/318 [00:01<00:01, 87.76it/s]\u001b[A\n",
      " 52%|█████▏    | 164/318 [00:01<00:01, 87.90it/s]\u001b[A\n",
      " 54%|█████▍    | 173/318 [00:01<00:01, 87.88it/s]\u001b[A\n",
      " 57%|█████▋    | 182/318 [00:02<00:01, 88.02it/s]\u001b[A\n",
      " 60%|██████    | 191/318 [00:02<00:01, 83.59it/s]\u001b[A\n",
      " 63%|██████▎   | 200/318 [00:02<00:01, 84.90it/s]\u001b[A\n",
      " 66%|██████▌   | 209/318 [00:02<00:01, 85.67it/s]\u001b[A\n",
      " 69%|██████▊   | 218/318 [00:02<00:01, 86.26it/s]\u001b[A\n",
      " 71%|███████▏  | 227/318 [00:02<00:01, 86.75it/s]\u001b[A\n",
      " 74%|███████▍  | 236/318 [00:02<00:00, 82.18it/s]\u001b[A\n",
      " 77%|███████▋  | 245/318 [00:02<00:00, 82.03it/s]\u001b[A\n",
      " 80%|███████▉  | 254/318 [00:02<00:00, 83.37it/s]\u001b[A\n",
      " 83%|████████▎ | 263/318 [00:03<00:00, 82.81it/s]\u001b[A\n",
      " 86%|████████▌ | 272/318 [00:03<00:00, 79.53it/s]\u001b[A\n",
      " 88%|████████▊ | 281/318 [00:03<00:00, 81.23it/s]\u001b[A\n",
      " 91%|█████████ | 290/318 [00:03<00:00, 83.15it/s]\u001b[A\n",
      " 94%|█████████▍| 299/318 [00:03<00:00, 85.00it/s]\u001b[A\n",
      " 97%|█████████▋| 308/318 [00:03<00:00, 85.81it/s]\u001b[A\n",
      "100%|█████████▉| 317/318 [00:03<00:00, 86.50it/s]\u001b[A/cm/shared/ebtree/software/Python/3.8.6-GCCcore-10.2.0/lib/python3.8/site-packages/sklearn/metrics/_classification.py:1248: UndefinedMetricWarning: Precision is ill-defined and being set to 0.0 in labels with no predicted samples. Use `zero_division` parameter to control this behavior.\n",
      "  _warn_prf(average, modifier, msg_start, len(result))\n",
      "\n",
      "                                                   \n",
      " 45%|████▌     | 3300/7260 [04:19<04:12, 15.68it/s]A\n",
      "                                                 \u001b[ASaving model checkpoint to ./Checkpoints/MarBertv2_hyperparams/run-2/checkpoint-3300\n",
      "Configuration saved in ./Checkpoints/MarBertv2_hyperparams/run-2/checkpoint-3300/config.json\n"
     ]
    },
    {
     "name": "stdout",
     "output_type": "stream",
     "text": [
      "{'eval_loss': 0.6290162801742554, 'eval_f1': 0.4054307116104869, 'eval_recall': 0.5, 'eval_precision': 0.3409448818897638, 'eval_runtime': 3.7965, 'eval_samples_per_second': 334.519, 'eval_steps_per_second': 83.762, 'epoch': 5.0}\n"
     ]
    },
    {
     "name": "stderr",
     "output_type": "stream",
     "text": [
      "Model weights saved in ./Checkpoints/MarBertv2_hyperparams/run-2/checkpoint-3300/pytorch_model.bin\n",
      "tokenizer config file saved in ./Checkpoints/MarBertv2_hyperparams/run-2/checkpoint-3300/tokenizer_config.json\n",
      "Special tokens file saved in ./Checkpoints/MarBertv2_hyperparams/run-2/checkpoint-3300/special_tokens_map.json\n",
      " 48%|████▊     | 3501/7260 [04:38<03:56, 15.91it/s]  "
     ]
    },
    {
     "name": "stdout",
     "output_type": "stream",
     "text": [
      "{'loss': 0.9052, 'learning_rate': 0.00313413921322735, 'epoch': 5.3}\n"
     ]
    },
    {
     "name": "stderr",
     "output_type": "stream",
     "text": [
      " 55%|█████▍    | 3959/7260 [05:07<03:28, 15.80it/s]The following columns in the evaluation set  don't have a corresponding argument in `BertForSequenceClassification.forward` and have been ignored: text. If text are not expected by `BertForSequenceClassification.forward`,  you can safely ignore this message.\n",
      "***** Running Evaluation *****\n",
      "  Num examples = 1270\n",
      "  Batch size = 4\n",
      "\n",
      "  0%|          | 0/318 [00:00<?, ?it/s]\u001b[A\n",
      "  3%|▎         | 10/318 [00:00<00:03, 99.82it/s]\u001b[A\n",
      "  6%|▋         | 20/318 [00:00<00:03, 90.65it/s]\u001b[A\n",
      "  9%|▉         | 30/318 [00:00<00:03, 86.44it/s]\u001b[A\n",
      " 12%|█▏        | 39/318 [00:00<00:03, 86.98it/s]\u001b[A\n",
      " 15%|█▌        | 48/318 [00:00<00:03, 87.22it/s]\u001b[A\n",
      " 18%|█▊        | 57/318 [00:00<00:02, 87.08it/s]\u001b[A\n",
      " 21%|██        | 66/318 [00:00<00:02, 87.31it/s]\u001b[A\n",
      " 24%|██▎       | 75/318 [00:00<00:02, 87.21it/s]\u001b[A\n",
      " 26%|██▋       | 84/318 [00:00<00:02, 87.26it/s]\u001b[A\n",
      " 29%|██▉       | 93/318 [00:01<00:02, 87.64it/s]\u001b[A\n",
      " 32%|███▏      | 102/318 [00:01<00:02, 87.19it/s]\u001b[A\n",
      " 35%|███▍      | 111/318 [00:01<00:02, 87.29it/s]\u001b[A\n",
      " 38%|███▊      | 120/318 [00:01<00:02, 83.94it/s]\u001b[A\n",
      " 41%|████      | 129/318 [00:01<00:02, 85.06it/s]\u001b[A\n",
      " 43%|████▎     | 138/318 [00:01<00:02, 86.04it/s]\u001b[A\n",
      " 46%|████▌     | 147/318 [00:01<00:01, 86.52it/s]\u001b[A\n",
      " 49%|████▉     | 156/318 [00:01<00:01, 87.24it/s]\u001b[A\n",
      " 52%|█████▏    | 165/318 [00:01<00:01, 85.61it/s]\u001b[A\n",
      " 55%|█████▍    | 174/318 [00:02<00:01, 83.53it/s]\u001b[A\n",
      " 58%|█████▊    | 183/318 [00:02<00:01, 84.64it/s]\u001b[A\n",
      " 60%|██████    | 192/318 [00:02<00:01, 85.46it/s]\u001b[A\n",
      " 63%|██████▎   | 201/318 [00:02<00:01, 86.07it/s]\u001b[A\n",
      " 66%|██████▌   | 210/318 [00:02<00:01, 86.63it/s]\u001b[A\n",
      " 69%|██████▉   | 219/318 [00:02<00:01, 86.89it/s]\u001b[A\n",
      " 72%|███████▏  | 228/318 [00:02<00:01, 87.23it/s]\u001b[A\n",
      " 75%|███████▍  | 237/318 [00:02<00:00, 87.80it/s]\u001b[A\n",
      " 77%|███████▋  | 246/318 [00:02<00:00, 87.89it/s]\u001b[A\n",
      " 80%|████████  | 255/318 [00:02<00:00, 88.26it/s]\u001b[A\n",
      " 83%|████████▎ | 264/318 [00:03<00:00, 88.07it/s]\u001b[A\n",
      " 86%|████████▌ | 273/318 [00:03<00:00, 88.32it/s]\u001b[A\n",
      " 89%|████████▊ | 282/318 [00:03<00:00, 88.20it/s]\u001b[A\n",
      " 92%|█████████▏| 291/318 [00:03<00:00, 88.42it/s]\u001b[A\n",
      " 94%|█████████▍| 300/318 [00:03<00:00, 78.71it/s]\u001b[A\n",
      " 97%|█████████▋| 309/318 [00:03<00:00, 76.85it/s]\u001b[A\n",
      "100%|█████████▉| 317/318 [00:03<00:00, 77.35it/s]\u001b[A/cm/shared/ebtree/software/Python/3.8.6-GCCcore-10.2.0/lib/python3.8/site-packages/sklearn/metrics/_classification.py:1248: UndefinedMetricWarning: Precision is ill-defined and being set to 0.0 in labels with no predicted samples. Use `zero_division` parameter to control this behavior.\n",
      "  _warn_prf(average, modifier, msg_start, len(result))\n",
      "\n",
      "                                                   \n",
      " 55%|█████▍    | 3960/7260 [05:11<03:28, 15.80it/s]A\n",
      "                                                 \u001b[ASaving model checkpoint to ./Checkpoints/MarBertv2_hyperparams/run-2/checkpoint-3960\n",
      "Configuration saved in ./Checkpoints/MarBertv2_hyperparams/run-2/checkpoint-3960/config.json\n"
     ]
    },
    {
     "name": "stdout",
     "output_type": "stream",
     "text": [
      "{'eval_loss': 0.6381296515464783, 'eval_f1': 0.4054307116104869, 'eval_recall': 0.5, 'eval_precision': 0.3409448818897638, 'eval_runtime': 3.8043, 'eval_samples_per_second': 333.835, 'eval_steps_per_second': 83.59, 'epoch': 6.0}\n"
     ]
    },
    {
     "name": "stderr",
     "output_type": "stream",
     "text": [
      "Model weights saved in ./Checkpoints/MarBertv2_hyperparams/run-2/checkpoint-3960/pytorch_model.bin\n",
      "tokenizer config file saved in ./Checkpoints/MarBertv2_hyperparams/run-2/checkpoint-3960/tokenizer_config.json\n",
      "Special tokens file saved in ./Checkpoints/MarBertv2_hyperparams/run-2/checkpoint-3960/special_tokens_map.json\n",
      " 55%|█████▌    | 4001/7260 [05:21<03:27, 15.71it/s]  "
     ]
    },
    {
     "name": "stdout",
     "output_type": "stream",
     "text": [
      "{'loss': 0.9514, 'learning_rate': 0.0027173653816811596, 'epoch': 6.06}\n"
     ]
    },
    {
     "name": "stderr",
     "output_type": "stream",
     "text": [
      " 62%|██████▏   | 4503/7260 [05:53<02:34, 17.82it/s]"
     ]
    },
    {
     "name": "stdout",
     "output_type": "stream",
     "text": [
      "{'loss': 0.9004, 'learning_rate': 0.00230059155013497, 'epoch': 6.82}\n"
     ]
    },
    {
     "name": "stderr",
     "output_type": "stream",
     "text": [
      " 64%|██████▎   | 4619/7260 [06:00<02:37, 16.81it/s]The following columns in the evaluation set  don't have a corresponding argument in `BertForSequenceClassification.forward` and have been ignored: text. If text are not expected by `BertForSequenceClassification.forward`,  you can safely ignore this message.\n",
      "***** Running Evaluation *****\n",
      "  Num examples = 1270\n",
      "  Batch size = 4\n",
      "\n",
      "  0%|          | 0/318 [00:00<?, ?it/s]\u001b[A\n",
      "  3%|▎         | 10/318 [00:00<00:03, 98.60it/s]\u001b[A\n",
      "  6%|▋         | 20/318 [00:00<00:03, 92.32it/s]\u001b[A\n",
      "  9%|▉         | 30/318 [00:00<00:03, 78.53it/s]\u001b[A\n",
      " 12%|█▏        | 39/318 [00:00<00:03, 72.17it/s]\u001b[A\n",
      " 15%|█▌        | 48/318 [00:00<00:03, 76.81it/s]\u001b[A\n",
      " 18%|█▊        | 57/318 [00:00<00:03, 80.23it/s]\u001b[A\n",
      " 21%|██        | 66/318 [00:00<00:03, 82.87it/s]\u001b[A\n",
      " 24%|██▎       | 75/318 [00:00<00:02, 84.94it/s]\u001b[A\n",
      " 26%|██▋       | 84/318 [00:01<00:02, 86.28it/s]\u001b[A\n",
      " 29%|██▉       | 93/318 [00:01<00:02, 87.37it/s]\u001b[A\n",
      " 32%|███▏      | 102/318 [00:01<00:02, 88.13it/s]\u001b[A\n",
      " 35%|███▌      | 112/318 [00:01<00:02, 88.85it/s]\u001b[A\n",
      " 38%|███▊      | 122/318 [00:01<00:02, 89.24it/s]\u001b[A\n",
      " 41%|████      | 131/318 [00:01<00:02, 89.27it/s]\u001b[A\n",
      " 44%|████▍     | 141/318 [00:01<00:01, 89.83it/s]\u001b[A\n",
      " 47%|████▋     | 150/318 [00:01<00:01, 89.79it/s]\u001b[A\n",
      " 50%|█████     | 159/318 [00:01<00:01, 89.47it/s]\u001b[A\n",
      " 53%|█████▎    | 168/318 [00:01<00:01, 88.71it/s]\u001b[A\n",
      " 56%|█████▌    | 177/318 [00:02<00:01, 88.11it/s]\u001b[A\n",
      " 58%|█████▊    | 186/318 [00:02<00:01, 88.38it/s]\u001b[A\n",
      " 61%|██████▏   | 195/318 [00:02<00:01, 88.86it/s]\u001b[A\n",
      " 64%|██████▍   | 204/318 [00:02<00:01, 88.37it/s]\u001b[A\n",
      " 67%|██████▋   | 213/318 [00:02<00:01, 88.17it/s]\u001b[A\n",
      " 70%|██████▉   | 222/318 [00:02<00:01, 88.56it/s]\u001b[A\n",
      " 73%|███████▎  | 232/318 [00:02<00:00, 89.54it/s]\u001b[A\n",
      " 76%|███████▌  | 241/318 [00:02<00:00, 89.22it/s]\u001b[A\n",
      " 79%|███████▊  | 250/318 [00:02<00:00, 88.93it/s]\u001b[A\n",
      " 81%|████████▏ | 259/318 [00:02<00:00, 88.78it/s]\u001b[A\n",
      " 84%|████████▍ | 268/318 [00:03<00:00, 88.77it/s]\u001b[A\n",
      " 87%|████████▋ | 277/318 [00:03<00:00, 88.56it/s]\u001b[A\n",
      " 90%|████████▉ | 286/318 [00:03<00:00, 88.65it/s]\u001b[A\n",
      " 93%|█████████▎| 295/318 [00:03<00:00, 88.55it/s]\u001b[A\n",
      " 96%|█████████▌| 304/318 [00:03<00:00, 88.39it/s]\u001b[A\n",
      " 98%|█████████▊| 313/318 [00:03<00:00, 87.83it/s]\u001b[A/cm/shared/ebtree/software/Python/3.8.6-GCCcore-10.2.0/lib/python3.8/site-packages/sklearn/metrics/_classification.py:1248: UndefinedMetricWarning: Precision is ill-defined and being set to 0.0 in labels with no predicted samples. Use `zero_division` parameter to control this behavior.\n",
      "  _warn_prf(average, modifier, msg_start, len(result))\n",
      "\n",
      "                                                   \n",
      " 64%|██████▎   | 4620/7260 [06:04<02:37, 16.81it/s]A\n",
      "                                                 \u001b[ASaving model checkpoint to ./Checkpoints/MarBertv2_hyperparams/run-2/checkpoint-4620\n",
      "Configuration saved in ./Checkpoints/MarBertv2_hyperparams/run-2/checkpoint-4620/config.json\n"
     ]
    },
    {
     "name": "stdout",
     "output_type": "stream",
     "text": [
      "{'eval_loss': 0.8992210626602173, 'eval_f1': 0.4054307116104869, 'eval_recall': 0.5, 'eval_precision': 0.3409448818897638, 'eval_runtime': 3.7455, 'eval_samples_per_second': 339.071, 'eval_steps_per_second': 84.901, 'epoch': 7.0}\n"
     ]
    },
    {
     "name": "stderr",
     "output_type": "stream",
     "text": [
      "Model weights saved in ./Checkpoints/MarBertv2_hyperparams/run-2/checkpoint-4620/pytorch_model.bin\n",
      "tokenizer config file saved in ./Checkpoints/MarBertv2_hyperparams/run-2/checkpoint-4620/tokenizer_config.json\n",
      "Special tokens file saved in ./Checkpoints/MarBertv2_hyperparams/run-2/checkpoint-4620/special_tokens_map.json\n",
      " 69%|██████▉   | 5003/7260 [06:35<02:20, 16.03it/s]  "
     ]
    },
    {
     "name": "stdout",
     "output_type": "stream",
     "text": [
      "{'loss': 0.8479, 'learning_rate': 0.0018838177185887795, 'epoch': 7.58}\n"
     ]
    },
    {
     "name": "stderr",
     "output_type": "stream",
     "text": [
      " 73%|███████▎  | 5279/7260 [06:53<01:58, 16.76it/s]The following columns in the evaluation set  don't have a corresponding argument in `BertForSequenceClassification.forward` and have been ignored: text. If text are not expected by `BertForSequenceClassification.forward`,  you can safely ignore this message.\n",
      "***** Running Evaluation *****\n",
      "  Num examples = 1270\n",
      "  Batch size = 4\n",
      "\n",
      "  0%|          | 0/318 [00:00<?, ?it/s]\u001b[A\n",
      "  3%|▎         | 9/318 [00:00<00:03, 83.60it/s]\u001b[A\n",
      "  6%|▌         | 18/318 [00:00<00:03, 79.47it/s]\u001b[A\n",
      "  8%|▊         | 27/318 [00:00<00:03, 82.93it/s]\u001b[A\n",
      " 11%|█▏        | 36/318 [00:00<00:03, 84.41it/s]\u001b[A\n",
      " 14%|█▍        | 45/318 [00:00<00:03, 84.42it/s]\u001b[A\n",
      " 17%|█▋        | 54/318 [00:00<00:03, 85.62it/s]\u001b[A\n",
      " 20%|█▉        | 63/318 [00:00<00:02, 85.56it/s]\u001b[A\n",
      " 23%|██▎       | 72/318 [00:00<00:02, 86.27it/s]\u001b[A\n",
      " 25%|██▌       | 81/318 [00:00<00:02, 86.95it/s]\u001b[A\n",
      " 28%|██▊       | 90/318 [00:01<00:02, 87.66it/s]\u001b[A\n",
      " 31%|███       | 99/318 [00:01<00:02, 87.59it/s]\u001b[A\n",
      " 34%|███▍      | 108/318 [00:01<00:02, 87.84it/s]\u001b[A\n",
      " 37%|███▋      | 117/318 [00:01<00:02, 87.23it/s]\u001b[A\n",
      " 40%|███▉      | 126/318 [00:01<00:02, 87.28it/s]\u001b[A\n",
      " 42%|████▏     | 135/318 [00:01<00:02, 87.05it/s]\u001b[A\n",
      " 45%|████▌     | 144/318 [00:01<00:01, 87.50it/s]\u001b[A\n",
      " 48%|████▊     | 153/318 [00:01<00:01, 87.74it/s]\u001b[A\n",
      " 51%|█████     | 162/318 [00:01<00:01, 88.16it/s]\u001b[A\n",
      " 54%|█████▍    | 171/318 [00:01<00:01, 88.04it/s]\u001b[A\n",
      " 57%|█████▋    | 180/318 [00:02<00:01, 87.00it/s]\u001b[A\n",
      " 59%|█████▉    | 189/318 [00:02<00:01, 87.76it/s]\u001b[A\n",
      " 62%|██████▏   | 198/318 [00:02<00:01, 88.32it/s]\u001b[A\n",
      " 65%|██████▌   | 207/318 [00:02<00:01, 87.93it/s]\u001b[A\n",
      " 68%|██████▊   | 216/318 [00:02<00:01, 88.07it/s]\u001b[A\n",
      " 71%|███████   | 225/318 [00:02<00:01, 88.12it/s]\u001b[A\n",
      " 74%|███████▎  | 234/318 [00:02<00:00, 88.35it/s]\u001b[A\n",
      " 76%|███████▋  | 243/318 [00:02<00:00, 88.60it/s]\u001b[A\n",
      " 79%|███████▉  | 252/318 [00:02<00:00, 88.42it/s]\u001b[A\n",
      " 82%|████████▏ | 261/318 [00:02<00:00, 88.49it/s]\u001b[A\n",
      " 85%|████████▍ | 270/318 [00:03<00:00, 88.40it/s]\u001b[A\n",
      " 88%|████████▊ | 279/318 [00:03<00:00, 88.41it/s]\u001b[A\n",
      " 91%|█████████ | 288/318 [00:03<00:00, 86.32it/s]\u001b[A\n",
      " 93%|█████████▎| 297/318 [00:03<00:00, 85.86it/s]\u001b[A\n",
      " 96%|█████████▌| 306/318 [00:03<00:00, 86.67it/s]\u001b[A\n",
      " 99%|█████████▉| 315/318 [00:03<00:00, 87.61it/s]\u001b[A/cm/shared/ebtree/software/Python/3.8.6-GCCcore-10.2.0/lib/python3.8/site-packages/sklearn/metrics/_classification.py:1248: UndefinedMetricWarning: Precision is ill-defined and being set to 0.0 in labels with no predicted samples. Use `zero_division` parameter to control this behavior.\n",
      "  _warn_prf(average, modifier, msg_start, len(result))\n",
      "\n",
      "                                                   \n",
      " 73%|███████▎  | 5280/7260 [06:56<01:58, 16.76it/s]A\n",
      "                                                 \u001b[ASaving model checkpoint to ./Checkpoints/MarBertv2_hyperparams/run-2/checkpoint-5280\n",
      "Configuration saved in ./Checkpoints/MarBertv2_hyperparams/run-2/checkpoint-5280/config.json\n"
     ]
    },
    {
     "name": "stdout",
     "output_type": "stream",
     "text": [
      "{'eval_loss': 1.9052417278289795, 'eval_f1': 0.24133811230585425, 'eval_recall': 0.5, 'eval_precision': 0.15905511811023623, 'eval_runtime': 3.7236, 'eval_samples_per_second': 341.064, 'eval_steps_per_second': 85.4, 'epoch': 8.0}\n"
     ]
    },
    {
     "name": "stderr",
     "output_type": "stream",
     "text": [
      "Model weights saved in ./Checkpoints/MarBertv2_hyperparams/run-2/checkpoint-5280/pytorch_model.bin\n",
      "tokenizer config file saved in ./Checkpoints/MarBertv2_hyperparams/run-2/checkpoint-5280/tokenizer_config.json\n",
      "Special tokens file saved in ./Checkpoints/MarBertv2_hyperparams/run-2/checkpoint-5280/special_tokens_map.json\n",
      " 76%|███████▌  | 5503/7260 [07:18<01:46, 16.54it/s]"
     ]
    },
    {
     "name": "stdout",
     "output_type": "stream",
     "text": [
      "{'loss': 0.8132, 'learning_rate': 0.0014670438870425895, 'epoch': 8.33}\n"
     ]
    },
    {
     "name": "stderr",
     "output_type": "stream",
     "text": [
      " 82%|████████▏ | 5939/7260 [07:46<01:27, 15.16it/s]The following columns in the evaluation set  don't have a corresponding argument in `BertForSequenceClassification.forward` and have been ignored: text. If text are not expected by `BertForSequenceClassification.forward`,  you can safely ignore this message.\n",
      "***** Running Evaluation *****\n",
      "  Num examples = 1270\n",
      "  Batch size = 4\n",
      "\n",
      "  0%|          | 0/318 [00:00<?, ?it/s]\u001b[A\n",
      "  3%|▎         | 10/318 [00:00<00:03, 99.37it/s]\u001b[A\n",
      "  6%|▋         | 20/318 [00:00<00:03, 91.50it/s]\u001b[A\n",
      "  9%|▉         | 30/318 [00:00<00:03, 90.24it/s]\u001b[A\n",
      " 13%|█▎        | 40/318 [00:00<00:03, 90.65it/s]\u001b[A\n",
      " 16%|█▌        | 50/318 [00:00<00:02, 89.86it/s]\u001b[A\n",
      " 19%|█▊        | 59/318 [00:00<00:02, 88.87it/s]\u001b[A\n",
      " 21%|██▏       | 68/318 [00:00<00:02, 88.88it/s]\u001b[A\n",
      " 24%|██▍       | 77/318 [00:00<00:02, 88.61it/s]\u001b[A\n",
      " 27%|██▋       | 87/318 [00:00<00:02, 89.21it/s]\u001b[A\n",
      " 31%|███       | 97/318 [00:01<00:02, 89.72it/s]\u001b[A\n",
      " 34%|███▎      | 107/318 [00:01<00:02, 90.13it/s]\u001b[A\n",
      " 37%|███▋      | 117/318 [00:01<00:02, 90.13it/s]\u001b[A\n",
      " 40%|███▉      | 127/318 [00:01<00:02, 89.57it/s]\u001b[A\n",
      " 43%|████▎     | 136/318 [00:01<00:02, 89.50it/s]\u001b[A\n",
      " 46%|████▌     | 145/318 [00:01<00:01, 89.46it/s]\u001b[A\n",
      " 48%|████▊     | 154/318 [00:01<00:01, 89.05it/s]\u001b[A\n",
      " 51%|█████▏    | 163/318 [00:01<00:01, 89.04it/s]\u001b[A\n",
      " 54%|█████▍    | 172/318 [00:01<00:01, 88.79it/s]\u001b[A\n",
      " 57%|█████▋    | 182/318 [00:02<00:01, 89.59it/s]\u001b[A\n",
      " 60%|██████    | 192/318 [00:02<00:01, 90.19it/s]\u001b[A\n",
      " 64%|██████▎   | 202/318 [00:02<00:01, 89.65it/s]\u001b[A\n",
      " 66%|██████▋   | 211/318 [00:02<00:01, 89.44it/s]\u001b[A\n",
      " 69%|██████▉   | 220/318 [00:02<00:01, 89.26it/s]\u001b[A\n",
      " 72%|███████▏  | 229/318 [00:02<00:00, 89.32it/s]\u001b[A\n",
      " 75%|███████▌  | 239/318 [00:02<00:00, 89.85it/s]\u001b[A\n",
      " 78%|███████▊  | 248/318 [00:02<00:00, 89.73it/s]\u001b[A\n",
      " 81%|████████  | 257/318 [00:02<00:00, 77.03it/s]\u001b[A\n",
      " 84%|████████▎ | 266/318 [00:03<00:00, 79.75it/s]\u001b[A\n",
      " 86%|████████▋ | 275/318 [00:03<00:00, 82.17it/s]\u001b[A\n",
      " 90%|████████▉ | 285/318 [00:03<00:00, 84.69it/s]\u001b[A\n",
      " 92%|█████████▏| 294/318 [00:03<00:00, 85.76it/s]\u001b[A\n",
      " 95%|█████████▌| 303/318 [00:03<00:00, 86.80it/s]\u001b[A\n",
      " 98%|█████████▊| 312/318 [00:03<00:00, 87.46it/s]\u001b[A/cm/shared/ebtree/software/Python/3.8.6-GCCcore-10.2.0/lib/python3.8/site-packages/sklearn/metrics/_classification.py:1248: UndefinedMetricWarning: Precision is ill-defined and being set to 0.0 in labels with no predicted samples. Use `zero_division` parameter to control this behavior.\n",
      "  _warn_prf(average, modifier, msg_start, len(result))\n",
      "\n",
      "                                                   \n",
      " 82%|████████▏ | 5940/7260 [07:49<01:27, 15.16it/s]A\n",
      "                                                 \u001b[ASaving model checkpoint to ./Checkpoints/MarBertv2_hyperparams/run-2/checkpoint-5940\n",
      "Configuration saved in ./Checkpoints/MarBertv2_hyperparams/run-2/checkpoint-5940/config.json\n"
     ]
    },
    {
     "name": "stdout",
     "output_type": "stream",
     "text": [
      "{'eval_loss': 1.290969967842102, 'eval_f1': 0.24133811230585425, 'eval_recall': 0.5, 'eval_precision': 0.15905511811023623, 'eval_runtime': 3.6781, 'eval_samples_per_second': 345.284, 'eval_steps_per_second': 86.457, 'epoch': 9.0}\n"
     ]
    },
    {
     "name": "stderr",
     "output_type": "stream",
     "text": [
      "Model weights saved in ./Checkpoints/MarBertv2_hyperparams/run-2/checkpoint-5940/pytorch_model.bin\n",
      "tokenizer config file saved in ./Checkpoints/MarBertv2_hyperparams/run-2/checkpoint-5940/tokenizer_config.json\n",
      "Special tokens file saved in ./Checkpoints/MarBertv2_hyperparams/run-2/checkpoint-5940/special_tokens_map.json\n",
      " 83%|████████▎ | 6002/7260 [08:00<01:28, 14.22it/s]"
     ]
    },
    {
     "name": "stdout",
     "output_type": "stream",
     "text": [
      "{'loss': 0.8511, 'learning_rate': 0.0010502700554963992, 'epoch': 9.09}\n"
     ]
    },
    {
     "name": "stderr",
     "output_type": "stream",
     "text": [
      " 90%|████████▉ | 6502/7260 [08:32<00:54, 13.86it/s]"
     ]
    },
    {
     "name": "stdout",
     "output_type": "stream",
     "text": [
      "{'loss': 0.8242, 'learning_rate': 0.0006334962239502091, 'epoch': 9.85}\n"
     ]
    },
    {
     "name": "stderr",
     "output_type": "stream",
     "text": [
      " 91%|█████████ | 6600/7260 [08:39<00:39, 16.71it/s]The following columns in the evaluation set  don't have a corresponding argument in `BertForSequenceClassification.forward` and have been ignored: text. If text are not expected by `BertForSequenceClassification.forward`,  you can safely ignore this message.\n",
      "***** Running Evaluation *****\n",
      "  Num examples = 1270\n",
      "  Batch size = 4\n",
      "\n",
      "  0%|          | 0/318 [00:00<?, ?it/s]\u001b[A\n",
      "  3%|▎         | 10/318 [00:00<00:03, 99.41it/s]\u001b[A\n",
      "  6%|▋         | 20/318 [00:00<00:03, 88.59it/s]\u001b[A\n",
      "  9%|▉         | 29/318 [00:00<00:03, 88.30it/s]\u001b[A\n",
      " 12%|█▏        | 38/318 [00:00<00:03, 88.45it/s]\u001b[A\n",
      " 15%|█▍        | 47/318 [00:00<00:03, 88.56it/s]\u001b[A\n",
      " 18%|█▊        | 56/318 [00:00<00:02, 88.37it/s]\u001b[A\n",
      " 20%|██        | 65/318 [00:00<00:02, 88.44it/s]\u001b[A\n",
      " 23%|██▎       | 74/318 [00:00<00:02, 85.00it/s]\u001b[A\n",
      " 26%|██▌       | 83/318 [00:00<00:02, 86.20it/s]\u001b[A\n",
      " 29%|██▉       | 92/318 [00:01<00:02, 86.96it/s]\u001b[A\n",
      " 32%|███▏      | 101/318 [00:01<00:02, 87.80it/s]\u001b[A\n",
      " 35%|███▍      | 110/318 [00:01<00:02, 88.20it/s]\u001b[A\n",
      " 37%|███▋      | 119/318 [00:01<00:02, 88.34it/s]\u001b[A\n",
      " 40%|████      | 128/318 [00:01<00:02, 88.22it/s]\u001b[A\n",
      " 43%|████▎     | 137/318 [00:01<00:02, 88.52it/s]\u001b[A\n",
      " 46%|████▌     | 146/318 [00:01<00:01, 88.51it/s]\u001b[A\n",
      " 49%|████▊     | 155/318 [00:01<00:01, 88.46it/s]\u001b[A\n",
      " 52%|█████▏    | 164/318 [00:01<00:01, 87.80it/s]\u001b[A\n",
      " 54%|█████▍    | 173/318 [00:01<00:01, 87.78it/s]\u001b[A\n",
      " 57%|█████▋    | 182/318 [00:02<00:01, 87.78it/s]\u001b[A\n",
      " 60%|██████    | 191/318 [00:02<00:01, 86.95it/s]\u001b[A\n",
      " 63%|██████▎   | 200/318 [00:02<00:01, 82.92it/s]\u001b[A\n",
      " 66%|██████▌   | 209/318 [00:02<00:01, 84.64it/s]\u001b[A\n",
      " 69%|██████▊   | 218/318 [00:02<00:01, 85.75it/s]\u001b[A\n",
      " 71%|███████▏  | 227/318 [00:02<00:01, 86.60it/s]\u001b[A\n",
      " 74%|███████▍  | 236/318 [00:02<00:00, 87.34it/s]\u001b[A\n",
      " 77%|███████▋  | 245/318 [00:02<00:00, 87.80it/s]\u001b[A\n",
      " 80%|███████▉  | 254/318 [00:02<00:00, 87.19it/s]\u001b[A\n",
      " 83%|████████▎ | 263/318 [00:03<00:00, 87.25it/s]\u001b[A\n",
      " 86%|████████▌ | 272/318 [00:03<00:00, 87.55it/s]\u001b[A\n",
      " 88%|████████▊ | 281/318 [00:03<00:00, 88.10it/s]\u001b[A\n",
      " 92%|█████████▏| 291/318 [00:03<00:00, 88.73it/s]\u001b[A\n",
      " 94%|█████████▍| 300/318 [00:03<00:00, 88.68it/s]\u001b[A\n",
      " 97%|█████████▋| 309/318 [00:03<00:00, 88.57it/s]\u001b[A\n",
      "100%|██████████| 318/318 [00:03<00:00, 88.61it/s]\u001b[A/cm/shared/ebtree/software/Python/3.8.6-GCCcore-10.2.0/lib/python3.8/site-packages/sklearn/metrics/_classification.py:1248: UndefinedMetricWarning: Precision is ill-defined and being set to 0.0 in labels with no predicted samples. Use `zero_division` parameter to control this behavior.\n",
      "  _warn_prf(average, modifier, msg_start, len(result))\n",
      "\n",
      "                                                   \n",
      " 91%|█████████ | 6600/7260 [08:42<00:39, 16.71it/s]A\n",
      "                                                 \u001b[ASaving model checkpoint to ./Checkpoints/MarBertv2_hyperparams/run-2/checkpoint-6600\n",
      "Configuration saved in ./Checkpoints/MarBertv2_hyperparams/run-2/checkpoint-6600/config.json\n"
     ]
    },
    {
     "name": "stdout",
     "output_type": "stream",
     "text": [
      "{'eval_loss': 0.6963135600090027, 'eval_f1': 0.24133811230585425, 'eval_recall': 0.5, 'eval_precision': 0.15905511811023623, 'eval_runtime': 3.7041, 'eval_samples_per_second': 342.86, 'eval_steps_per_second': 85.85, 'epoch': 10.0}\n"
     ]
    },
    {
     "name": "stderr",
     "output_type": "stream",
     "text": [
      "Model weights saved in ./Checkpoints/MarBertv2_hyperparams/run-2/checkpoint-6600/pytorch_model.bin\n",
      "tokenizer config file saved in ./Checkpoints/MarBertv2_hyperparams/run-2/checkpoint-6600/tokenizer_config.json\n",
      "Special tokens file saved in ./Checkpoints/MarBertv2_hyperparams/run-2/checkpoint-6600/special_tokens_map.json\n",
      " 96%|█████████▋| 7000/7260 [09:15<00:17, 15.01it/s]"
     ]
    },
    {
     "name": "stdout",
     "output_type": "stream",
     "text": [
      "{'loss': 0.7996, 'learning_rate': 0.0002167223924040189, 'epoch': 10.61}\n"
     ]
    },
    {
     "name": "stderr",
     "output_type": "stream",
     "text": [
      "100%|██████████| 7260/7260 [09:32<00:00, 17.44it/s]The following columns in the evaluation set  don't have a corresponding argument in `BertForSequenceClassification.forward` and have been ignored: text. If text are not expected by `BertForSequenceClassification.forward`,  you can safely ignore this message.\n",
      "***** Running Evaluation *****\n",
      "  Num examples = 1270\n",
      "  Batch size = 4\n",
      "\n",
      "  0%|          | 0/318 [00:00<?, ?it/s]\u001b[A\n",
      "  3%|▎         | 11/318 [00:00<00:03, 99.48it/s]\u001b[A\n",
      "  7%|▋         | 21/318 [00:00<00:03, 93.17it/s]\u001b[A\n",
      " 10%|▉         | 31/318 [00:00<00:03, 91.87it/s]\u001b[A\n",
      " 13%|█▎        | 41/318 [00:00<00:03, 89.02it/s]\u001b[A\n",
      " 16%|█▌        | 50/318 [00:00<00:03, 88.82it/s]\u001b[A\n",
      " 19%|█▊        | 59/318 [00:00<00:02, 88.81it/s]\u001b[A\n",
      " 21%|██▏       | 68/318 [00:00<00:02, 89.04it/s]\u001b[A\n",
      " 24%|██▍       | 77/318 [00:00<00:02, 88.75it/s]\u001b[A\n",
      " 27%|██▋       | 86/318 [00:00<00:02, 88.70it/s]\u001b[A\n",
      " 30%|██▉       | 95/318 [00:01<00:02, 88.57it/s]\u001b[A\n",
      " 33%|███▎      | 104/318 [00:01<00:02, 88.57it/s]\u001b[A\n",
      " 36%|███▌      | 113/318 [00:01<00:02, 88.70it/s]\u001b[A\n",
      " 38%|███▊      | 122/318 [00:01<00:02, 88.72it/s]\u001b[A\n",
      " 41%|████      | 131/318 [00:01<00:02, 88.46it/s]\u001b[A\n",
      " 44%|████▍     | 140/318 [00:01<00:02, 88.48it/s]\u001b[A\n",
      " 47%|████▋     | 149/318 [00:01<00:01, 88.81it/s]\u001b[A\n",
      " 50%|█████     | 159/318 [00:01<00:01, 89.53it/s]\u001b[A\n",
      " 53%|█████▎    | 168/318 [00:01<00:01, 89.64it/s]\u001b[A\n",
      " 56%|█████▌    | 177/318 [00:01<00:01, 89.47it/s]\u001b[A\n",
      " 58%|█████▊    | 186/318 [00:02<00:01, 84.19it/s]\u001b[A\n",
      " 61%|██████▏   | 195/318 [00:02<00:01, 85.04it/s]\u001b[A\n",
      " 64%|██████▍   | 205/318 [00:02<00:01, 86.74it/s]\u001b[A\n",
      " 67%|██████▋   | 214/318 [00:02<00:01, 87.60it/s]\u001b[A\n",
      " 70%|███████   | 223/318 [00:02<00:01, 88.23it/s]\u001b[A\n",
      " 73%|███████▎  | 233/318 [00:02<00:00, 89.12it/s]\u001b[A\n",
      " 76%|███████▋  | 243/318 [00:02<00:00, 89.65it/s]\u001b[A\n",
      " 79%|███████▉  | 252/318 [00:02<00:00, 89.24it/s]\u001b[A\n",
      " 82%|████████▏ | 261/318 [00:02<00:00, 89.24it/s]\u001b[A\n",
      " 85%|████████▍ | 270/318 [00:03<00:00, 89.21it/s]\u001b[A\n",
      " 88%|████████▊ | 279/318 [00:03<00:00, 89.09it/s]\u001b[A\n",
      " 91%|█████████ | 288/318 [00:03<00:00, 88.03it/s]\u001b[A\n",
      " 93%|█████████▎| 297/318 [00:03<00:00, 88.10it/s]\u001b[A\n",
      " 96%|█████████▌| 306/318 [00:03<00:00, 88.23it/s]\u001b[A\n",
      " 99%|█████████▉| 316/318 [00:03<00:00, 89.17it/s]\u001b[A/cm/shared/ebtree/software/Python/3.8.6-GCCcore-10.2.0/lib/python3.8/site-packages/sklearn/metrics/_classification.py:1248: UndefinedMetricWarning: Precision is ill-defined and being set to 0.0 in labels with no predicted samples. Use `zero_division` parameter to control this behavior.\n",
      "  _warn_prf(average, modifier, msg_start, len(result))\n",
      "\n",
      "                                                   \n",
      "100%|██████████| 7260/7260 [09:36<00:00, 17.44it/s]A\n",
      "                                                 \u001b[ASaving model checkpoint to ./Checkpoints/MarBertv2_hyperparams/run-2/checkpoint-7260\n",
      "Configuration saved in ./Checkpoints/MarBertv2_hyperparams/run-2/checkpoint-7260/config.json\n"
     ]
    },
    {
     "name": "stdout",
     "output_type": "stream",
     "text": [
      "{'eval_loss': 0.6766806840896606, 'eval_f1': 0.4054307116104869, 'eval_recall': 0.5, 'eval_precision': 0.3409448818897638, 'eval_runtime': 3.6654, 'eval_samples_per_second': 346.48, 'eval_steps_per_second': 86.756, 'epoch': 11.0}\n"
     ]
    },
    {
     "name": "stderr",
     "output_type": "stream",
     "text": [
      "Model weights saved in ./Checkpoints/MarBertv2_hyperparams/run-2/checkpoint-7260/pytorch_model.bin\n",
      "tokenizer config file saved in ./Checkpoints/MarBertv2_hyperparams/run-2/checkpoint-7260/tokenizer_config.json\n",
      "Special tokens file saved in ./Checkpoints/MarBertv2_hyperparams/run-2/checkpoint-7260/special_tokens_map.json\n",
      "\n",
      "\n",
      "Training completed. Do not forget to share your model on huggingface.co/models =)\n",
      "\n",
      "\n",
      "Loading best model from ./Checkpoints/MarBertv2_hyperparams/run-2/checkpoint-660 (score: 0.4054307116104869).\n",
      "100%|██████████| 7260/7260 [09:43<00:00, 12.44it/s]\n",
      "\u001b[32m[I 2022-03-28 21:48:07,751]\u001b[0m Trial 2 finished with value: 1.2463755935002507 and parameters: {'learning_rate': 0.006051556034050681, 'weight_decay': 1.0186671941044907e-10, 'num_train_epochs': 11, 'seed': 14, 'per_device_train_batch_size': 16}. Best is trial 1 with value: 1.2463755935002507.\u001b[0m\n",
      "Trial:\n",
      "loading configuration file /scratch/mt/ashapiro/Hate_Speech/Models/Marbertv2/config.json\n",
      "Model config BertConfig {\n",
      "  \"_name_or_path\": \"/scratch/mt/ashapiro/Hate_Speech/Models/Marbertv2/\",\n",
      "  \"architectures\": [\n",
      "    \"BertForMaskedLM\"\n",
      "  ],\n",
      "  \"attention_probs_dropout_prob\": 0.1,\n",
      "  \"classifier_dropout\": null,\n",
      "  \"directionality\": \"bidi\",\n",
      "  \"gradient_checkpointing\": false,\n",
      "  \"hidden_act\": \"gelu\",\n",
      "  \"hidden_dropout_prob\": 0.1,\n",
      "  \"hidden_size\": 768,\n",
      "  \"initializer_range\": 0.02,\n",
      "  \"intermediate_size\": 3072,\n",
      "  \"layer_norm_eps\": 1e-12,\n",
      "  \"max_position_embeddings\": 512,\n",
      "  \"model_type\": \"bert\",\n",
      "  \"num_attention_heads\": 12,\n",
      "  \"num_hidden_layers\": 12,\n",
      "  \"pad_token_id\": 0,\n",
      "  \"pooler_fc_size\": 768,\n",
      "  \"pooler_num_attention_heads\": 12,\n",
      "  \"pooler_num_fc_layers\": 3,\n",
      "  \"pooler_size_per_head\": 128,\n",
      "  \"pooler_type\": \"first_token_transform\",\n",
      "  \"position_embedding_type\": \"absolute\",\n",
      "  \"transformers_version\": \"4.17.0\",\n",
      "  \"type_vocab_size\": 2,\n",
      "  \"use_cache\": true,\n",
      "  \"vocab_size\": 100000\n",
      "}\n",
      "\n",
      "loading weights file /scratch/mt/ashapiro/Hate_Speech/Models/Marbertv2/pytorch_model.bin\n"
     ]
    },
    {
     "name": "stdout",
     "output_type": "stream",
     "text": [
      "{'train_runtime': 583.392, 'train_samples_per_second': 198.961, 'train_steps_per_second': 12.444, 'train_loss': 0.922943274968255, 'epoch': 11.0}\n"
     ]
    },
    {
     "name": "stderr",
     "output_type": "stream",
     "text": [
      "Some weights of the model checkpoint at /scratch/mt/ashapiro/Hate_Speech/Models/Marbertv2/ were not used when initializing BertForSequenceClassification: ['cls.seq_relationship.bias', 'cls.predictions.decoder.bias', 'cls.predictions.transform.LayerNorm.weight', 'cls.seq_relationship.weight', 'cls.predictions.decoder.weight', 'cls.predictions.transform.LayerNorm.bias', 'cls.predictions.transform.dense.weight', 'cls.predictions.bias', 'cls.predictions.transform.dense.bias']\n",
      "- This IS expected if you are initializing BertForSequenceClassification from the checkpoint of a model trained on another task or with another architecture (e.g. initializing a BertForSequenceClassification model from a BertForPreTraining model).\n",
      "- This IS NOT expected if you are initializing BertForSequenceClassification from the checkpoint of a model that you expect to be exactly identical (initializing a BertForSequenceClassification model from a BertForSequenceClassification model).\n",
      "Some weights of BertForSequenceClassification were not initialized from the model checkpoint at /scratch/mt/ashapiro/Hate_Speech/Models/Marbertv2/ and are newly initialized: ['classifier.weight', 'classifier.bias']\n",
      "You should probably TRAIN this model on a down-stream task to be able to use it for predictions and inference.\n",
      "The following columns in the training set  don't have a corresponding argument in `BertForSequenceClassification.forward` and have been ignored: text. If text are not expected by `BertForSequenceClassification.forward`,  you can safely ignore this message.\n",
      "/home/ashapiro/.local/lib/python3.8/site-packages/transformers/optimization.py:306: FutureWarning: This implementation of AdamW is deprecated and will be removed in a future version. Use the PyTorch implementation torch.optim.AdamW instead, or set `no_deprecation_warning=True` to disable this warning\n",
      "  warnings.warn(\n",
      "***** Running training *****\n",
      "  Num examples = 10552\n",
      "  Num Epochs = 5\n",
      "  Instantaneous batch size per device = 16\n",
      "  Total train batch size (w. parallel, distributed & accumulation) = 16\n",
      "  Gradient Accumulation steps = 1\n",
      "  Total optimization steps = 3300\n",
      " 15%|█▌        | 501/3300 [00:31<03:02, 15.35it/s]"
     ]
    },
    {
     "name": "stdout",
     "output_type": "stream",
     "text": [
      "{'loss': 0.3686, 'learning_rate': 3.956045775511703e-05, 'epoch': 0.76}\n"
     ]
    },
    {
     "name": "stderr",
     "output_type": "stream",
     "text": [
      " 20%|█▉        | 659/3300 [00:42<02:43, 16.17it/s]The following columns in the evaluation set  don't have a corresponding argument in `BertForSequenceClassification.forward` and have been ignored: text. If text are not expected by `BertForSequenceClassification.forward`,  you can safely ignore this message.\n",
      "***** Running Evaluation *****\n",
      "  Num examples = 1270\n",
      "  Batch size = 4\n",
      "\n",
      "  0%|          | 0/318 [00:00<?, ?it/s]\u001b[A\n",
      "  3%|▎         | 10/318 [00:00<00:03, 99.16it/s]\u001b[A\n",
      "  6%|▋         | 20/318 [00:00<00:03, 92.35it/s]\u001b[A\n",
      "  9%|▉         | 30/318 [00:00<00:03, 88.49it/s]\u001b[A\n",
      " 12%|█▏        | 39/318 [00:00<00:03, 88.61it/s]\u001b[A\n",
      " 15%|█▌        | 48/318 [00:00<00:03, 86.13it/s]\u001b[A\n",
      " 18%|█▊        | 57/318 [00:00<00:03, 85.95it/s]\u001b[A\n",
      " 21%|██        | 66/318 [00:00<00:02, 85.92it/s]\u001b[A\n",
      " 24%|██▎       | 75/318 [00:00<00:02, 84.94it/s]\u001b[A\n",
      " 26%|██▋       | 84/318 [00:00<00:02, 85.95it/s]\u001b[A\n",
      " 29%|██▉       | 93/318 [00:01<00:02, 86.50it/s]\u001b[A\n",
      " 32%|███▏      | 102/318 [00:01<00:02, 87.40it/s]\u001b[A\n",
      " 35%|███▍      | 111/318 [00:01<00:02, 87.57it/s]\u001b[A\n",
      " 38%|███▊      | 120/318 [00:01<00:02, 87.91it/s]\u001b[A\n",
      " 41%|████      | 129/318 [00:01<00:02, 87.94it/s]\u001b[A\n",
      " 43%|████▎     | 138/318 [00:01<00:02, 88.01it/s]\u001b[A\n",
      " 46%|████▌     | 147/318 [00:01<00:01, 87.48it/s]\u001b[A\n",
      " 49%|████▉     | 156/318 [00:01<00:01, 87.61it/s]\u001b[A\n",
      " 52%|█████▏    | 165/318 [00:01<00:01, 87.37it/s]\u001b[A\n",
      " 55%|█████▍    | 174/318 [00:01<00:01, 88.05it/s]\u001b[A\n",
      " 58%|█████▊    | 183/318 [00:02<00:01, 88.11it/s]\u001b[A\n",
      " 60%|██████    | 192/318 [00:02<00:01, 88.17it/s]\u001b[A\n",
      " 63%|██████▎   | 201/318 [00:02<00:01, 86.48it/s]\u001b[A\n",
      " 66%|██████▌   | 210/318 [00:02<00:01, 86.85it/s]\u001b[A\n",
      " 69%|██████▉   | 219/318 [00:02<00:01, 87.14it/s]\u001b[A\n",
      " 72%|███████▏  | 228/318 [00:02<00:01, 87.46it/s]\u001b[A\n",
      " 75%|███████▍  | 237/318 [00:02<00:00, 88.15it/s]\u001b[A\n",
      " 77%|███████▋  | 246/318 [00:02<00:00, 88.33it/s]\u001b[A\n",
      " 80%|████████  | 255/318 [00:02<00:00, 88.59it/s]\u001b[A\n",
      " 83%|████████▎ | 264/318 [00:03<00:00, 88.96it/s]\u001b[A\n",
      " 86%|████████▌ | 273/318 [00:03<00:00, 89.09it/s]\u001b[A\n",
      " 89%|████████▊ | 282/318 [00:03<00:00, 88.79it/s]\u001b[A\n",
      " 92%|█████████▏| 291/318 [00:03<00:00, 86.46it/s]\u001b[A\n",
      " 94%|█████████▍| 300/318 [00:03<00:00, 87.11it/s]\u001b[A\n",
      " 97%|█████████▋| 309/318 [00:03<00:00, 87.37it/s]\u001b[A\n",
      "100%|██████████| 318/318 [00:03<00:00, 87.70it/s]\u001b[A\n",
      "                                                  \n",
      " 20%|██        | 660/3300 [00:45<02:43, 16.17it/s][A\n",
      "                                                 \u001b[ASaving model checkpoint to ./Checkpoints/MarBertv2_hyperparams/run-3/checkpoint-660\n",
      "Configuration saved in ./Checkpoints/MarBertv2_hyperparams/run-3/checkpoint-660/config.json\n"
     ]
    },
    {
     "name": "stdout",
     "output_type": "stream",
     "text": [
      "{'eval_loss': 0.520647406578064, 'eval_f1': 0.8232644833722705, 'eval_recall': 0.8288992294148584, 'eval_precision': 0.8185769656699889, 'eval_runtime': 3.7072, 'eval_samples_per_second': 342.581, 'eval_steps_per_second': 85.78, 'epoch': 1.0}\n"
     ]
    },
    {
     "name": "stderr",
     "output_type": "stream",
     "text": [
      "Model weights saved in ./Checkpoints/MarBertv2_hyperparams/run-3/checkpoint-660/pytorch_model.bin\n",
      "tokenizer config file saved in ./Checkpoints/MarBertv2_hyperparams/run-3/checkpoint-660/tokenizer_config.json\n",
      "Special tokens file saved in ./Checkpoints/MarBertv2_hyperparams/run-3/checkpoint-660/special_tokens_map.json\n",
      " 30%|███       | 1003/3300 [01:14<02:09, 17.73it/s] "
     ]
    },
    {
     "name": "stdout",
     "output_type": "stream",
     "text": [
      "{'loss': 0.2353, 'learning_rate': 3.2496090298846134e-05, 'epoch': 1.52}\n"
     ]
    },
    {
     "name": "stderr",
     "output_type": "stream",
     "text": [
      " 40%|███▉      | 1319/3300 [01:35<02:00, 16.46it/s]The following columns in the evaluation set  don't have a corresponding argument in `BertForSequenceClassification.forward` and have been ignored: text. If text are not expected by `BertForSequenceClassification.forward`,  you can safely ignore this message.\n",
      "***** Running Evaluation *****\n",
      "  Num examples = 1270\n",
      "  Batch size = 4\n",
      "\n",
      "  0%|          | 0/318 [00:00<?, ?it/s]\u001b[A\n",
      "  3%|▎         | 10/318 [00:00<00:03, 99.91it/s]\u001b[A\n",
      "  6%|▋         | 20/318 [00:00<00:03, 93.13it/s]\u001b[A\n",
      "  9%|▉         | 30/318 [00:00<00:03, 90.91it/s]\u001b[A\n",
      " 13%|█▎        | 40/318 [00:00<00:03, 90.46it/s]\u001b[A\n",
      " 16%|█▌        | 50/318 [00:00<00:02, 89.98it/s]\u001b[A\n",
      " 19%|█▉        | 60/318 [00:00<00:02, 89.97it/s]\u001b[A\n",
      " 22%|██▏       | 70/318 [00:00<00:02, 89.97it/s]\u001b[A\n",
      " 25%|██▌       | 80/318 [00:00<00:02, 89.85it/s]\u001b[A\n",
      " 28%|██▊       | 90/318 [00:00<00:02, 89.99it/s]\u001b[A\n",
      " 31%|███▏      | 100/318 [00:01<00:02, 90.18it/s]\u001b[A\n",
      " 35%|███▍      | 110/318 [00:01<00:02, 89.83it/s]\u001b[A\n",
      " 37%|███▋      | 119/318 [00:01<00:02, 89.28it/s]\u001b[A\n",
      " 40%|████      | 128/318 [00:01<00:02, 89.42it/s]\u001b[A\n",
      " 43%|████▎     | 137/318 [00:01<00:02, 89.40it/s]\u001b[A\n",
      " 46%|████▌     | 147/318 [00:01<00:01, 89.68it/s]\u001b[A\n",
      " 49%|████▉     | 156/318 [00:01<00:01, 89.24it/s]\u001b[A\n",
      " 52%|█████▏    | 165/318 [00:01<00:01, 88.99it/s]\u001b[A\n",
      " 55%|█████▍    | 174/318 [00:01<00:01, 88.75it/s]\u001b[A\n",
      " 58%|█████▊    | 183/318 [00:02<00:01, 88.76it/s]\u001b[A\n",
      " 60%|██████    | 192/318 [00:02<00:01, 79.99it/s]\u001b[A\n",
      " 63%|██████▎   | 201/318 [00:02<00:01, 80.33it/s]\u001b[A\n",
      " 66%|██████▌   | 210/318 [00:02<00:01, 82.46it/s]\u001b[A\n",
      " 69%|██████▉   | 219/318 [00:02<00:01, 84.02it/s]\u001b[A\n",
      " 72%|███████▏  | 228/318 [00:02<00:01, 85.34it/s]\u001b[A\n",
      " 75%|███████▍  | 237/318 [00:02<00:00, 86.44it/s]\u001b[A\n",
      " 77%|███████▋  | 246/318 [00:02<00:00, 86.35it/s]\u001b[A\n",
      " 80%|████████  | 255/318 [00:02<00:00, 86.96it/s]\u001b[A\n",
      " 83%|████████▎ | 264/318 [00:03<00:00, 87.76it/s]\u001b[A\n",
      " 86%|████████▌ | 273/318 [00:03<00:00, 87.86it/s]\u001b[A\n",
      " 89%|████████▊ | 282/318 [00:03<00:00, 88.37it/s]\u001b[A\n",
      " 92%|█████████▏| 292/318 [00:03<00:00, 88.93it/s]\u001b[A\n",
      " 95%|█████████▍| 302/318 [00:03<00:00, 89.25it/s]\u001b[A\n",
      " 98%|█████████▊| 311/318 [00:03<00:00, 89.17it/s]\u001b[A\n",
      "                                                   \n",
      " 40%|████      | 1320/3300 [01:38<02:00, 16.46it/s]A\n",
      "                                                 \u001b[ASaving model checkpoint to ./Checkpoints/MarBertv2_hyperparams/run-3/checkpoint-1320\n",
      "Configuration saved in ./Checkpoints/MarBertv2_hyperparams/run-3/checkpoint-1320/config.json\n"
     ]
    },
    {
     "name": "stdout",
     "output_type": "stream",
     "text": [
      "{'eval_loss': 0.6125295162200928, 'eval_f1': 0.8158672086720867, 'eval_recall': 0.8361677680470125, 'eval_precision': 0.8063604442777361, 'eval_runtime': 3.6754, 'eval_samples_per_second': 345.542, 'eval_steps_per_second': 86.522, 'epoch': 2.0}\n"
     ]
    },
    {
     "name": "stderr",
     "output_type": "stream",
     "text": [
      "Model weights saved in ./Checkpoints/MarBertv2_hyperparams/run-3/checkpoint-1320/pytorch_model.bin\n",
      "tokenizer config file saved in ./Checkpoints/MarBertv2_hyperparams/run-3/checkpoint-1320/tokenizer_config.json\n",
      "Special tokens file saved in ./Checkpoints/MarBertv2_hyperparams/run-3/checkpoint-1320/special_tokens_map.json\n",
      " 46%|████▌     | 1503/3300 [01:57<01:45, 17.09it/s]"
     ]
    },
    {
     "name": "stdout",
     "output_type": "stream",
     "text": [
      "{'loss': 0.1775, 'learning_rate': 2.543172284257523e-05, 'epoch': 2.27}\n"
     ]
    },
    {
     "name": "stderr",
     "output_type": "stream",
     "text": [
      " 60%|█████▉    | 1979/3300 [02:27<01:21, 16.26it/s]The following columns in the evaluation set  don't have a corresponding argument in `BertForSequenceClassification.forward` and have been ignored: text. If text are not expected by `BertForSequenceClassification.forward`,  you can safely ignore this message.\n",
      "***** Running Evaluation *****\n",
      "  Num examples = 1270\n",
      "  Batch size = 4\n",
      "\n",
      "  0%|          | 0/318 [00:00<?, ?it/s]\u001b[A\n",
      "  3%|▎         | 11/318 [00:00<00:03, 99.10it/s]\u001b[A\n",
      "  7%|▋         | 21/318 [00:00<00:03, 92.61it/s]\u001b[A\n",
      " 10%|▉         | 31/318 [00:00<00:03, 90.61it/s]\u001b[A\n",
      " 13%|█▎        | 41/318 [00:00<00:03, 88.03it/s]\u001b[A\n",
      " 16%|█▌        | 50/318 [00:00<00:03, 86.86it/s]\u001b[A\n",
      " 19%|█▊        | 59/318 [00:00<00:02, 87.14it/s]\u001b[A\n",
      " 21%|██▏       | 68/318 [00:00<00:02, 87.45it/s]\u001b[A\n",
      " 24%|██▍       | 77/318 [00:00<00:02, 87.50it/s]\u001b[A\n",
      " 27%|██▋       | 86/318 [00:00<00:02, 86.80it/s]\u001b[A\n",
      " 30%|██▉       | 95/318 [00:01<00:02, 85.29it/s]\u001b[A\n",
      " 33%|███▎      | 104/318 [00:01<00:02, 86.14it/s]\u001b[A\n",
      " 36%|███▌      | 113/318 [00:01<00:02, 86.67it/s]\u001b[A\n",
      " 38%|███▊      | 122/318 [00:01<00:02, 87.09it/s]\u001b[A\n",
      " 41%|████      | 131/318 [00:01<00:02, 87.35it/s]\u001b[A\n",
      " 44%|████▍     | 140/318 [00:01<00:02, 86.51it/s]\u001b[A\n",
      " 47%|████▋     | 149/318 [00:01<00:01, 86.95it/s]\u001b[A\n",
      " 50%|████▉     | 158/318 [00:01<00:01, 87.12it/s]\u001b[A\n",
      " 53%|█████▎    | 167/318 [00:01<00:01, 87.22it/s]\u001b[A\n",
      " 55%|█████▌    | 176/318 [00:02<00:01, 87.30it/s]\u001b[A\n",
      " 58%|█████▊    | 185/318 [00:02<00:01, 87.40it/s]\u001b[A\n",
      " 61%|██████    | 194/318 [00:02<00:01, 87.52it/s]\u001b[A\n",
      " 64%|██████▍   | 203/318 [00:02<00:01, 87.44it/s]\u001b[A\n",
      " 67%|██████▋   | 212/318 [00:02<00:01, 86.10it/s]\u001b[A\n",
      " 69%|██████▉   | 221/318 [00:02<00:01, 86.68it/s]\u001b[A\n",
      " 72%|███████▏  | 230/318 [00:02<00:01, 87.13it/s]\u001b[A\n",
      " 75%|███████▌  | 239/318 [00:02<00:00, 87.62it/s]\u001b[A\n",
      " 78%|███████▊  | 248/318 [00:02<00:00, 86.07it/s]\u001b[A\n",
      " 81%|████████  | 257/318 [00:02<00:00, 87.08it/s]\u001b[A\n",
      " 84%|████████▍ | 267/318 [00:03<00:00, 88.31it/s]\u001b[A\n",
      " 87%|████████▋ | 276/318 [00:03<00:00, 88.59it/s]\u001b[A\n",
      " 90%|████████▉ | 285/318 [00:03<00:00, 88.62it/s]\u001b[A\n",
      " 92%|█████████▏| 294/318 [00:03<00:00, 85.12it/s]\u001b[A\n",
      " 95%|█████████▌| 303/318 [00:03<00:00, 85.82it/s]\u001b[A\n",
      " 98%|█████████▊| 312/318 [00:03<00:00, 85.21it/s]\u001b[A\n",
      "                                                   \n",
      " 60%|██████    | 1980/3300 [02:31<01:21, 16.26it/s]A\n",
      "                                                 \u001b[ASaving model checkpoint to ./Checkpoints/MarBertv2_hyperparams/run-3/checkpoint-1980\n",
      "Configuration saved in ./Checkpoints/MarBertv2_hyperparams/run-3/checkpoint-1980/config.json\n"
     ]
    },
    {
     "name": "stdout",
     "output_type": "stream",
     "text": [
      "{'eval_loss': 0.6823513507843018, 'eval_f1': 0.8250678022569313, 'eval_recall': 0.8451598335353165, 'eval_precision': 0.8152474410080901, 'eval_runtime': 3.7387, 'eval_samples_per_second': 339.694, 'eval_steps_per_second': 85.057, 'epoch': 3.0}\n"
     ]
    },
    {
     "name": "stderr",
     "output_type": "stream",
     "text": [
      "Model weights saved in ./Checkpoints/MarBertv2_hyperparams/run-3/checkpoint-1980/pytorch_model.bin\n",
      "tokenizer config file saved in ./Checkpoints/MarBertv2_hyperparams/run-3/checkpoint-1980/tokenizer_config.json\n",
      "Special tokens file saved in ./Checkpoints/MarBertv2_hyperparams/run-3/checkpoint-1980/special_tokens_map.json\n",
      " 61%|██████    | 2003/3300 [02:40<01:58, 10.93it/s]"
     ]
    },
    {
     "name": "stdout",
     "output_type": "stream",
     "text": [
      "{'loss': 0.1022, 'learning_rate': 1.8367355386304334e-05, 'epoch': 3.03}\n"
     ]
    },
    {
     "name": "stderr",
     "output_type": "stream",
     "text": [
      " 76%|███████▌  | 2503/3300 [03:10<00:49, 16.15it/s]"
     ]
    },
    {
     "name": "stdout",
     "output_type": "stream",
     "text": [
      "{'loss': 0.0389, 'learning_rate': 1.1302987930033436e-05, 'epoch': 3.79}\n"
     ]
    },
    {
     "name": "stderr",
     "output_type": "stream",
     "text": [
      " 80%|███████▉  | 2639/3300 [03:19<00:38, 17.07it/s]The following columns in the evaluation set  don't have a corresponding argument in `BertForSequenceClassification.forward` and have been ignored: text. If text are not expected by `BertForSequenceClassification.forward`,  you can safely ignore this message.\n",
      "***** Running Evaluation *****\n",
      "  Num examples = 1270\n",
      "  Batch size = 4\n",
      "\n",
      "  0%|          | 0/318 [00:00<?, ?it/s]\u001b[A\n",
      "  3%|▎         | 11/318 [00:00<00:03, 99.86it/s]\u001b[A\n",
      "  7%|▋         | 21/318 [00:00<00:03, 93.24it/s]\u001b[A\n",
      " 10%|▉         | 31/318 [00:00<00:03, 91.35it/s]\u001b[A\n",
      " 13%|█▎        | 41/318 [00:00<00:03, 91.29it/s]\u001b[A\n",
      " 16%|█▌        | 51/318 [00:00<00:02, 91.23it/s]\u001b[A\n",
      " 19%|█▉        | 61/318 [00:00<00:02, 89.23it/s]\u001b[A\n",
      " 22%|██▏       | 70/318 [00:00<00:02, 89.00it/s]\u001b[A\n",
      " 25%|██▍       | 79/318 [00:00<00:02, 89.20it/s]\u001b[A\n",
      " 28%|██▊       | 89/318 [00:00<00:02, 89.60it/s]\u001b[A\n",
      " 31%|███       | 98/318 [00:01<00:02, 89.37it/s]\u001b[A\n",
      " 34%|███▎      | 107/318 [00:01<00:02, 89.34it/s]\u001b[A\n",
      " 36%|███▋      | 116/318 [00:01<00:02, 89.34it/s]\u001b[A\n",
      " 39%|███▉      | 125/318 [00:01<00:02, 89.23it/s]\u001b[A\n",
      " 42%|████▏     | 134/318 [00:01<00:02, 86.82it/s]\u001b[A\n",
      " 45%|████▍     | 143/318 [00:01<00:02, 87.21it/s]\u001b[A\n",
      " 48%|████▊     | 152/318 [00:01<00:01, 87.57it/s]\u001b[A\n",
      " 51%|█████     | 161/318 [00:01<00:01, 86.96it/s]\u001b[A\n",
      " 53%|█████▎    | 170/318 [00:01<00:01, 87.23it/s]\u001b[A\n",
      " 56%|█████▋    | 179/318 [00:02<00:01, 86.94it/s]\u001b[A\n",
      " 59%|█████▉    | 188/318 [00:02<00:01, 83.76it/s]\u001b[A\n",
      " 62%|██████▏   | 197/318 [00:02<00:01, 84.71it/s]\u001b[A\n",
      " 65%|██████▌   | 207/318 [00:02<00:01, 86.48it/s]\u001b[A\n",
      " 68%|██████▊   | 217/318 [00:02<00:01, 87.85it/s]\u001b[A\n",
      " 71%|███████▏  | 227/318 [00:02<00:01, 88.74it/s]\u001b[A\n",
      " 75%|███████▍  | 237/318 [00:02<00:00, 89.42it/s]\u001b[A\n",
      " 78%|███████▊  | 247/318 [00:02<00:00, 89.62it/s]\u001b[A\n",
      " 81%|████████  | 256/318 [00:02<00:00, 89.63it/s]\u001b[A\n",
      " 83%|████████▎ | 265/318 [00:02<00:00, 89.31it/s]\u001b[A\n",
      " 86%|████████▌ | 274/318 [00:03<00:00, 89.12it/s]\u001b[A\n",
      " 89%|████████▉ | 283/318 [00:03<00:00, 88.95it/s]\u001b[A\n",
      " 92%|█████████▏| 293/318 [00:03<00:00, 89.40it/s]\u001b[A\n",
      " 95%|█████████▍| 302/318 [00:03<00:00, 89.23it/s]\u001b[A\n",
      " 98%|█████████▊| 311/318 [00:03<00:00, 89.22it/s]\u001b[A\n",
      "                                                   \n",
      " 80%|████████  | 2640/3300 [03:23<00:38, 17.07it/s]A\n",
      "                                                 \u001b[ASaving model checkpoint to ./Checkpoints/MarBertv2_hyperparams/run-3/checkpoint-2640\n",
      "Configuration saved in ./Checkpoints/MarBertv2_hyperparams/run-3/checkpoint-2640/config.json\n"
     ]
    },
    {
     "name": "stdout",
     "output_type": "stream",
     "text": [
      "{'eval_loss': 0.8829237818717957, 'eval_f1': 0.8391337146460096, 'eval_recall': 0.8445738915692955, 'eval_precision': 0.8345228317091038, 'eval_runtime': 3.6634, 'eval_samples_per_second': 346.672, 'eval_steps_per_second': 86.805, 'epoch': 4.0}\n"
     ]
    },
    {
     "name": "stderr",
     "output_type": "stream",
     "text": [
      "Model weights saved in ./Checkpoints/MarBertv2_hyperparams/run-3/checkpoint-2640/pytorch_model.bin\n",
      "tokenizer config file saved in ./Checkpoints/MarBertv2_hyperparams/run-3/checkpoint-2640/tokenizer_config.json\n",
      "Special tokens file saved in ./Checkpoints/MarBertv2_hyperparams/run-3/checkpoint-2640/special_tokens_map.json\n",
      " 91%|█████████ | 3003/3300 [03:52<00:19, 15.34it/s]"
     ]
    },
    {
     "name": "stdout",
     "output_type": "stream",
     "text": [
      "{'loss': 0.0192, 'learning_rate': 4.2386204737625384e-06, 'epoch': 4.55}\n"
     ]
    },
    {
     "name": "stderr",
     "output_type": "stream",
     "text": [
      "100%|█████████▉| 3299/3300 [04:11<00:00, 16.75it/s]The following columns in the evaluation set  don't have a corresponding argument in `BertForSequenceClassification.forward` and have been ignored: text. If text are not expected by `BertForSequenceClassification.forward`,  you can safely ignore this message.\n",
      "***** Running Evaluation *****\n",
      "  Num examples = 1270\n",
      "  Batch size = 4\n",
      "\n",
      "  0%|          | 0/318 [00:00<?, ?it/s]\u001b[A\n",
      "  3%|▎         | 9/318 [00:00<00:03, 85.56it/s]\u001b[A\n",
      "  6%|▌         | 18/318 [00:00<00:03, 87.13it/s]\u001b[A\n",
      "  8%|▊         | 27/318 [00:00<00:03, 87.13it/s]\u001b[A\n",
      " 11%|█▏        | 36/318 [00:00<00:03, 87.80it/s]\u001b[A\n",
      " 14%|█▍        | 46/318 [00:00<00:03, 89.22it/s]\u001b[A\n",
      " 18%|█▊        | 56/318 [00:00<00:02, 90.17it/s]\u001b[A\n",
      " 21%|██        | 66/318 [00:00<00:02, 91.06it/s]\u001b[A\n",
      " 24%|██▍       | 76/318 [00:00<00:02, 91.46it/s]\u001b[A\n",
      " 27%|██▋       | 86/318 [00:00<00:02, 91.57it/s]\u001b[A\n",
      " 30%|███       | 96/318 [00:01<00:02, 90.78it/s]\u001b[A\n",
      " 33%|███▎      | 106/318 [00:01<00:02, 91.09it/s]\u001b[A\n",
      " 36%|███▋      | 116/318 [00:01<00:02, 90.79it/s]\u001b[A\n",
      " 40%|███▉      | 126/318 [00:01<00:02, 90.26it/s]\u001b[A\n",
      " 43%|████▎     | 136/318 [00:01<00:02, 89.76it/s]\u001b[A\n",
      " 46%|████▌     | 145/318 [00:01<00:01, 89.39it/s]\u001b[A\n",
      " 48%|████▊     | 154/318 [00:01<00:01, 88.71it/s]\u001b[A\n",
      " 51%|█████▏    | 163/318 [00:01<00:01, 88.79it/s]\u001b[A\n",
      " 54%|█████▍    | 172/318 [00:01<00:01, 88.69it/s]\u001b[A\n",
      " 57%|█████▋    | 181/318 [00:02<00:01, 89.04it/s]\u001b[A\n",
      " 60%|█████▉    | 190/318 [00:02<00:01, 87.44it/s]\u001b[A\n",
      " 63%|██████▎   | 199/318 [00:02<00:01, 85.38it/s]\u001b[A\n",
      " 65%|██████▌   | 208/318 [00:02<00:01, 86.47it/s]\u001b[A\n",
      " 68%|██████▊   | 217/318 [00:02<00:01, 86.86it/s]\u001b[A\n",
      " 71%|███████   | 226/318 [00:02<00:01, 87.74it/s]\u001b[A\n",
      " 74%|███████▍  | 235/318 [00:02<00:00, 88.32it/s]\u001b[A\n",
      " 77%|███████▋  | 244/318 [00:02<00:00, 88.75it/s]\u001b[A\n",
      " 80%|███████▉  | 253/318 [00:02<00:00, 89.03it/s]\u001b[A\n",
      " 82%|████████▏ | 262/318 [00:02<00:00, 88.39it/s]\u001b[A\n",
      " 85%|████████▌ | 271/318 [00:03<00:00, 88.42it/s]\u001b[A\n",
      " 88%|████████▊ | 280/318 [00:03<00:00, 88.59it/s]\u001b[A\n",
      " 91%|█████████ | 290/318 [00:03<00:00, 89.13it/s]\u001b[A\n",
      " 94%|█████████▍| 299/318 [00:03<00:00, 88.65it/s]\u001b[A\n",
      " 97%|█████████▋| 308/318 [00:03<00:00, 88.48it/s]\u001b[A\n",
      "100%|█████████▉| 317/318 [00:03<00:00, 88.44it/s]\u001b[A\n",
      "                                                   \n",
      "100%|██████████| 3300/3300 [04:14<00:00, 16.75it/s]A\n",
      "                                                 \u001b[ASaving model checkpoint to ./Checkpoints/MarBertv2_hyperparams/run-3/checkpoint-3300\n",
      "Configuration saved in ./Checkpoints/MarBertv2_hyperparams/run-3/checkpoint-3300/config.json\n"
     ]
    },
    {
     "name": "stdout",
     "output_type": "stream",
     "text": [
      "{'eval_loss': 0.9221487641334534, 'eval_f1': 0.8398371347241739, 'eval_recall': 0.8513422358402122, 'eval_precision': 0.8318055195646541, 'eval_runtime': 3.6661, 'eval_samples_per_second': 346.421, 'eval_steps_per_second': 86.742, 'epoch': 5.0}\n"
     ]
    },
    {
     "name": "stderr",
     "output_type": "stream",
     "text": [
      "Model weights saved in ./Checkpoints/MarBertv2_hyperparams/run-3/checkpoint-3300/pytorch_model.bin\n",
      "tokenizer config file saved in ./Checkpoints/MarBertv2_hyperparams/run-3/checkpoint-3300/tokenizer_config.json\n",
      "Special tokens file saved in ./Checkpoints/MarBertv2_hyperparams/run-3/checkpoint-3300/special_tokens_map.json\n",
      "100%|██████████| 3300/3300 [04:21<00:00, 16.75it/s]\n",
      "\n",
      "Training completed. Do not forget to share your model on huggingface.co/models =)\n",
      "\n",
      "\n",
      "Loading best model from ./Checkpoints/MarBertv2_hyperparams/run-3/checkpoint-3300 (score: 0.8398371347241739).\n",
      "100%|██████████| 3300/3300 [04:22<00:00, 12.57it/s]\n",
      "\u001b[32m[I 2022-03-28 21:52:33,686]\u001b[0m Trial 3 finished with value: 2.52298489012904 and parameters: {'learning_rate': 4.6624825211387924e-05, 'weight_decay': 3.9847823385575535e-05, 'num_train_epochs': 5, 'seed': 11, 'per_device_train_batch_size': 16}. Best is trial 3 with value: 2.52298489012904.\u001b[0m\n",
      "Trial:\n",
      "loading configuration file /scratch/mt/ashapiro/Hate_Speech/Models/Marbertv2/config.json\n",
      "Model config BertConfig {\n",
      "  \"_name_or_path\": \"/scratch/mt/ashapiro/Hate_Speech/Models/Marbertv2/\",\n",
      "  \"architectures\": [\n",
      "    \"BertForMaskedLM\"\n",
      "  ],\n",
      "  \"attention_probs_dropout_prob\": 0.1,\n",
      "  \"classifier_dropout\": null,\n",
      "  \"directionality\": \"bidi\",\n",
      "  \"gradient_checkpointing\": false,\n",
      "  \"hidden_act\": \"gelu\",\n",
      "  \"hidden_dropout_prob\": 0.1,\n",
      "  \"hidden_size\": 768,\n",
      "  \"initializer_range\": 0.02,\n",
      "  \"intermediate_size\": 3072,\n",
      "  \"layer_norm_eps\": 1e-12,\n",
      "  \"max_position_embeddings\": 512,\n",
      "  \"model_type\": \"bert\",\n",
      "  \"num_attention_heads\": 12,\n",
      "  \"num_hidden_layers\": 12,\n",
      "  \"pad_token_id\": 0,\n",
      "  \"pooler_fc_size\": 768,\n",
      "  \"pooler_num_attention_heads\": 12,\n",
      "  \"pooler_num_fc_layers\": 3,\n",
      "  \"pooler_size_per_head\": 128,\n",
      "  \"pooler_type\": \"first_token_transform\",\n",
      "  \"position_embedding_type\": \"absolute\",\n",
      "  \"transformers_version\": \"4.17.0\",\n",
      "  \"type_vocab_size\": 2,\n",
      "  \"use_cache\": true,\n",
      "  \"vocab_size\": 100000\n",
      "}\n",
      "\n",
      "loading weights file /scratch/mt/ashapiro/Hate_Speech/Models/Marbertv2/pytorch_model.bin\n"
     ]
    },
    {
     "name": "stdout",
     "output_type": "stream",
     "text": [
      "{'train_runtime': 262.4571, 'train_samples_per_second': 201.023, 'train_steps_per_second': 12.573, 'train_loss': 0.1435434158643087, 'epoch': 5.0}\n"
     ]
    },
    {
     "name": "stderr",
     "output_type": "stream",
     "text": [
      "Some weights of the model checkpoint at /scratch/mt/ashapiro/Hate_Speech/Models/Marbertv2/ were not used when initializing BertForSequenceClassification: ['cls.seq_relationship.bias', 'cls.predictions.decoder.bias', 'cls.predictions.transform.LayerNorm.weight', 'cls.seq_relationship.weight', 'cls.predictions.decoder.weight', 'cls.predictions.transform.LayerNorm.bias', 'cls.predictions.transform.dense.weight', 'cls.predictions.bias', 'cls.predictions.transform.dense.bias']\n",
      "- This IS expected if you are initializing BertForSequenceClassification from the checkpoint of a model trained on another task or with another architecture (e.g. initializing a BertForSequenceClassification model from a BertForPreTraining model).\n",
      "- This IS NOT expected if you are initializing BertForSequenceClassification from the checkpoint of a model that you expect to be exactly identical (initializing a BertForSequenceClassification model from a BertForSequenceClassification model).\n",
      "Some weights of BertForSequenceClassification were not initialized from the model checkpoint at /scratch/mt/ashapiro/Hate_Speech/Models/Marbertv2/ and are newly initialized: ['classifier.weight', 'classifier.bias']\n",
      "You should probably TRAIN this model on a down-stream task to be able to use it for predictions and inference.\n",
      "The following columns in the training set  don't have a corresponding argument in `BertForSequenceClassification.forward` and have been ignored: text. If text are not expected by `BertForSequenceClassification.forward`,  you can safely ignore this message.\n",
      "/home/ashapiro/.local/lib/python3.8/site-packages/transformers/optimization.py:306: FutureWarning: This implementation of AdamW is deprecated and will be removed in a future version. Use the PyTorch implementation torch.optim.AdamW instead, or set `no_deprecation_warning=True` to disable this warning\n",
      "  warnings.warn(\n",
      "***** Running training *****\n",
      "  Num examples = 10552\n",
      "  Num Epochs = 11\n",
      "  Instantaneous batch size per device = 16\n",
      "  Total train batch size (w. parallel, distributed & accumulation) = 16\n",
      "  Gradient Accumulation steps = 1\n",
      "  Total optimization steps = 7260\n",
      "  7%|▋         | 501/7260 [00:31<06:52, 16.40it/s]"
     ]
    },
    {
     "name": "stdout",
     "output_type": "stream",
     "text": [
      "{'loss': 0.7502, 'learning_rate': 0.0010836845655850563, 'epoch': 0.76}\n"
     ]
    },
    {
     "name": "stderr",
     "output_type": "stream",
     "text": [
      "  9%|▉         | 659/7260 [00:41<06:30, 16.92it/s]The following columns in the evaluation set  don't have a corresponding argument in `BertForSequenceClassification.forward` and have been ignored: text. If text are not expected by `BertForSequenceClassification.forward`,  you can safely ignore this message.\n",
      "***** Running Evaluation *****\n",
      "  Num examples = 1270\n",
      "  Batch size = 4\n",
      "\n",
      "  0%|          | 0/318 [00:00<?, ?it/s]\u001b[A\n",
      "  3%|▎         | 11/318 [00:00<00:03, 99.01it/s]\u001b[A\n",
      "  7%|▋         | 21/318 [00:00<00:03, 92.46it/s]\u001b[A\n",
      " 10%|▉         | 31/318 [00:00<00:03, 90.97it/s]\u001b[A\n",
      " 13%|█▎        | 41/318 [00:00<00:03, 90.18it/s]\u001b[A\n",
      " 16%|█▌        | 51/318 [00:00<00:02, 90.17it/s]\u001b[A\n",
      " 19%|█▉        | 61/318 [00:00<00:02, 89.84it/s]\u001b[A\n",
      " 22%|██▏       | 70/318 [00:00<00:02, 89.17it/s]\u001b[A\n",
      " 25%|██▍       | 79/318 [00:00<00:02, 88.84it/s]\u001b[A\n",
      " 28%|██▊       | 88/318 [00:00<00:02, 88.82it/s]\u001b[A\n",
      " 31%|███       | 97/318 [00:01<00:02, 88.09it/s]\u001b[A\n",
      " 33%|███▎      | 106/318 [00:01<00:02, 87.92it/s]\u001b[A\n",
      " 36%|███▋      | 116/318 [00:01<00:02, 88.65it/s]\u001b[A\n",
      " 39%|███▉      | 125/318 [00:01<00:02, 89.04it/s]\u001b[A\n",
      " 42%|████▏     | 134/318 [00:01<00:02, 88.88it/s]\u001b[A\n",
      " 45%|████▍     | 143/318 [00:01<00:01, 88.74it/s]\u001b[A\n",
      " 48%|████▊     | 152/318 [00:01<00:01, 87.33it/s]\u001b[A\n",
      " 51%|█████     | 162/318 [00:01<00:01, 88.41it/s]\u001b[A\n",
      " 54%|█████▍    | 172/318 [00:01<00:01, 88.95it/s]\u001b[A\n",
      " 57%|█████▋    | 181/318 [00:02<00:01, 88.79it/s]\u001b[A\n",
      " 60%|█████▉    | 190/318 [00:02<00:01, 88.78it/s]\u001b[A\n",
      " 63%|██████▎   | 199/318 [00:02<00:01, 88.99it/s]\u001b[A\n",
      " 66%|██████▌   | 209/318 [00:02<00:01, 89.82it/s]\u001b[A\n",
      " 69%|██████▉   | 219/318 [00:02<00:01, 90.14it/s]\u001b[A\n",
      " 72%|███████▏  | 229/318 [00:02<00:00, 89.88it/s]\u001b[A\n",
      " 75%|███████▌  | 239/318 [00:02<00:00, 90.08it/s]\u001b[A\n",
      " 78%|███████▊  | 249/318 [00:02<00:00, 89.62it/s]\u001b[A\n",
      " 81%|████████  | 258/318 [00:02<00:00, 80.75it/s]\u001b[A\n",
      " 84%|████████▍ | 267/318 [00:03<00:00, 82.84it/s]\u001b[A\n",
      " 87%|████████▋ | 277/318 [00:03<00:00, 85.00it/s]\u001b[A\n",
      " 90%|████████▉ | 286/318 [00:03<00:00, 81.17it/s]\u001b[A\n",
      " 93%|█████████▎| 295/318 [00:03<00:00, 78.75it/s]\u001b[A\n",
      " 95%|█████████▌| 303/318 [00:03<00:00, 76.96it/s]\u001b[A\n",
      " 98%|█████████▊| 311/318 [00:03<00:00, 75.87it/s]\u001b[A/cm/shared/ebtree/software/Python/3.8.6-GCCcore-10.2.0/lib/python3.8/site-packages/sklearn/metrics/_classification.py:1248: UndefinedMetricWarning: Precision is ill-defined and being set to 0.0 in labels with no predicted samples. Use `zero_division` parameter to control this behavior.\n",
      "  _warn_prf(average, modifier, msg_start, len(result))\n",
      "\n",
      "                                                  \n",
      "  9%|▉         | 660/7260 [00:45<06:29, 16.92it/s][A\n",
      "                                                 \u001b[ASaving model checkpoint to ./Checkpoints/MarBertv2_hyperparams/run-4/checkpoint-660\n",
      "Configuration saved in ./Checkpoints/MarBertv2_hyperparams/run-4/checkpoint-660/config.json\n"
     ]
    },
    {
     "name": "stdout",
     "output_type": "stream",
     "text": [
      "{'eval_loss': 0.8000936508178711, 'eval_f1': 0.24133811230585425, 'eval_recall': 0.5, 'eval_precision': 0.15905511811023623, 'eval_runtime': 3.7784, 'eval_samples_per_second': 336.125, 'eval_steps_per_second': 84.164, 'epoch': 1.0}\n"
     ]
    },
    {
     "name": "stderr",
     "output_type": "stream",
     "text": [
      "Model weights saved in ./Checkpoints/MarBertv2_hyperparams/run-4/checkpoint-660/pytorch_model.bin\n",
      "tokenizer config file saved in ./Checkpoints/MarBertv2_hyperparams/run-4/checkpoint-660/tokenizer_config.json\n",
      "Special tokens file saved in ./Checkpoints/MarBertv2_hyperparams/run-4/checkpoint-660/special_tokens_map.json\n",
      " 14%|█▍        | 1003/7260 [01:14<05:50, 17.87it/s] "
     ]
    },
    {
     "name": "stdout",
     "output_type": "stream",
     "text": [
      "{'loss': 0.754, 'learning_rate': 0.001003530381740008, 'epoch': 1.52}\n"
     ]
    },
    {
     "name": "stderr",
     "output_type": "stream",
     "text": [
      " 18%|█▊        | 1319/7260 [01:34<05:38, 17.53it/s]The following columns in the evaluation set  don't have a corresponding argument in `BertForSequenceClassification.forward` and have been ignored: text. If text are not expected by `BertForSequenceClassification.forward`,  you can safely ignore this message.\n",
      "***** Running Evaluation *****\n",
      "  Num examples = 1270\n",
      "  Batch size = 4\n",
      "\n",
      "  0%|          | 0/318 [00:00<?, ?it/s]\u001b[A\n",
      "  3%|▎         | 10/318 [00:00<00:03, 95.63it/s]\u001b[A\n",
      "  6%|▋         | 20/318 [00:00<00:03, 90.59it/s]\u001b[A\n",
      "  9%|▉         | 30/318 [00:00<00:03, 87.80it/s]\u001b[A\n",
      " 12%|█▏        | 39/318 [00:00<00:03, 86.49it/s]\u001b[A\n",
      " 15%|█▌        | 48/318 [00:00<00:03, 87.55it/s]\u001b[A\n",
      " 18%|█▊        | 57/318 [00:00<00:02, 87.80it/s]\u001b[A\n",
      " 21%|██        | 66/318 [00:00<00:02, 88.02it/s]\u001b[A\n",
      " 24%|██▎       | 75/318 [00:00<00:02, 88.42it/s]\u001b[A\n",
      " 26%|██▋       | 84/318 [00:00<00:02, 88.40it/s]\u001b[A\n",
      " 29%|██▉       | 93/318 [00:01<00:02, 88.85it/s]\u001b[A\n",
      " 32%|███▏      | 103/318 [00:01<00:02, 89.22it/s]\u001b[A\n",
      " 35%|███▌      | 112/318 [00:01<00:02, 88.87it/s]\u001b[A\n",
      " 38%|███▊      | 121/318 [00:01<00:02, 88.76it/s]\u001b[A\n",
      " 41%|████      | 130/318 [00:01<00:02, 88.51it/s]\u001b[A\n",
      " 44%|████▎     | 139/318 [00:01<00:02, 88.75it/s]\u001b[A\n",
      " 47%|████▋     | 148/318 [00:01<00:01, 88.49it/s]\u001b[A\n",
      " 49%|████▉     | 157/318 [00:01<00:01, 88.35it/s]\u001b[A\n",
      " 52%|█████▏    | 166/318 [00:01<00:01, 87.21it/s]\u001b[A\n",
      " 55%|█████▌    | 175/318 [00:01<00:01, 87.33it/s]\u001b[A\n",
      " 58%|█████▊    | 184/318 [00:02<00:01, 87.06it/s]\u001b[A\n",
      " 61%|██████    | 193/318 [00:02<00:01, 87.22it/s]\u001b[A\n",
      " 64%|██████▎   | 202/318 [00:02<00:01, 87.14it/s]\u001b[A\n",
      " 66%|██████▋   | 211/318 [00:02<00:01, 87.89it/s]\u001b[A\n",
      " 69%|██████▉   | 220/318 [00:02<00:01, 88.04it/s]\u001b[A\n",
      " 72%|███████▏  | 229/318 [00:02<00:01, 88.11it/s]\u001b[A\n",
      " 75%|███████▍  | 238/318 [00:02<00:00, 87.21it/s]\u001b[A\n",
      " 78%|███████▊  | 247/318 [00:02<00:00, 87.46it/s]\u001b[A\n",
      " 81%|████████  | 256/318 [00:02<00:00, 79.12it/s]\u001b[A\n",
      " 83%|████████▎ | 265/318 [00:03<00:00, 81.56it/s]\u001b[A\n",
      " 86%|████████▌ | 274/318 [00:03<00:00, 83.41it/s]\u001b[A\n",
      " 89%|████████▉ | 283/318 [00:03<00:00, 84.71it/s]\u001b[A\n",
      " 92%|█████████▏| 292/318 [00:03<00:00, 85.67it/s]\u001b[A\n",
      " 95%|█████████▍| 301/318 [00:03<00:00, 86.73it/s]\u001b[A\n",
      " 97%|█████████▋| 310/318 [00:03<00:00, 86.36it/s]\u001b[A/cm/shared/ebtree/software/Python/3.8.6-GCCcore-10.2.0/lib/python3.8/site-packages/sklearn/metrics/_classification.py:1248: UndefinedMetricWarning: Precision is ill-defined and being set to 0.0 in labels with no predicted samples. Use `zero_division` parameter to control this behavior.\n",
      "  _warn_prf(average, modifier, msg_start, len(result))\n",
      "\n",
      "                                                   \n",
      " 18%|█▊        | 1320/7260 [01:38<05:38, 17.53it/s]A\n",
      "                                                 \u001b[ASaving model checkpoint to ./Checkpoints/MarBertv2_hyperparams/run-4/checkpoint-1320\n",
      "Configuration saved in ./Checkpoints/MarBertv2_hyperparams/run-4/checkpoint-1320/config.json\n"
     ]
    },
    {
     "name": "stdout",
     "output_type": "stream",
     "text": [
      "{'eval_loss': 0.6799198389053345, 'eval_f1': 0.4054307116104869, 'eval_recall': 0.5, 'eval_precision': 0.3409448818897638, 'eval_runtime': 3.7252, 'eval_samples_per_second': 340.925, 'eval_steps_per_second': 85.366, 'epoch': 2.0}\n"
     ]
    },
    {
     "name": "stderr",
     "output_type": "stream",
     "text": [
      "Model weights saved in ./Checkpoints/MarBertv2_hyperparams/run-4/checkpoint-1320/pytorch_model.bin\n",
      "tokenizer config file saved in ./Checkpoints/MarBertv2_hyperparams/run-4/checkpoint-1320/tokenizer_config.json\n",
      "Special tokens file saved in ./Checkpoints/MarBertv2_hyperparams/run-4/checkpoint-1320/special_tokens_map.json\n",
      " 21%|██        | 1503/7260 [01:56<05:39, 16.96it/s]  "
     ]
    },
    {
     "name": "stdout",
     "output_type": "stream",
     "text": [
      "{'loss': 0.7606, 'learning_rate': 0.0009233761978949593, 'epoch': 2.27}\n"
     ]
    },
    {
     "name": "stderr",
     "output_type": "stream",
     "text": [
      " 27%|██▋       | 1979/7260 [02:25<05:09, 17.09it/s]The following columns in the evaluation set  don't have a corresponding argument in `BertForSequenceClassification.forward` and have been ignored: text. If text are not expected by `BertForSequenceClassification.forward`,  you can safely ignore this message.\n",
      "***** Running Evaluation *****\n",
      "  Num examples = 1270\n",
      "  Batch size = 4\n",
      "\n",
      "  0%|          | 0/318 [00:00<?, ?it/s]\u001b[A\n",
      "  3%|▎         | 10/318 [00:00<00:03, 99.22it/s]\u001b[A\n",
      "  6%|▋         | 20/318 [00:00<00:04, 73.40it/s]\u001b[A\n",
      "  9%|▉         | 29/318 [00:00<00:03, 78.35it/s]\u001b[A\n",
      " 12%|█▏        | 38/318 [00:00<00:03, 81.29it/s]\u001b[A\n",
      " 15%|█▍        | 47/318 [00:00<00:03, 84.01it/s]\u001b[A\n",
      " 18%|█▊        | 56/318 [00:00<00:03, 85.55it/s]\u001b[A\n",
      " 20%|██        | 65/318 [00:00<00:02, 84.43it/s]\u001b[A\n",
      " 23%|██▎       | 74/318 [00:00<00:02, 85.31it/s]\u001b[A\n",
      " 26%|██▌       | 83/318 [00:00<00:02, 86.63it/s]\u001b[A\n",
      " 29%|██▉       | 92/318 [00:01<00:02, 87.47it/s]\u001b[A\n",
      " 32%|███▏      | 101/318 [00:01<00:02, 88.20it/s]\u001b[A\n",
      " 35%|███▍      | 110/318 [00:01<00:02, 87.86it/s]\u001b[A\n",
      " 37%|███▋      | 119/318 [00:01<00:02, 87.91it/s]\u001b[A\n",
      " 40%|████      | 128/318 [00:01<00:02, 87.71it/s]\u001b[A\n",
      " 43%|████▎     | 137/318 [00:01<00:02, 85.97it/s]\u001b[A\n",
      " 46%|████▌     | 146/318 [00:01<00:01, 86.53it/s]\u001b[A\n",
      " 49%|████▊     | 155/318 [00:01<00:01, 87.29it/s]\u001b[A\n",
      " 52%|█████▏    | 164/318 [00:01<00:01, 87.94it/s]\u001b[A\n",
      " 54%|█████▍    | 173/318 [00:02<00:01, 88.46it/s]\u001b[A\n",
      " 58%|█████▊    | 183/318 [00:02<00:01, 89.14it/s]\u001b[A\n",
      " 60%|██████    | 192/318 [00:02<00:01, 89.35it/s]\u001b[A\n",
      " 63%|██████▎   | 201/318 [00:02<00:01, 89.40it/s]\u001b[A\n",
      " 66%|██████▋   | 211/318 [00:02<00:01, 89.28it/s]\u001b[A\n",
      " 69%|██████▉   | 221/318 [00:02<00:01, 89.67it/s]\u001b[A\n",
      " 72%|███████▏  | 230/318 [00:02<00:00, 89.42it/s]\u001b[A\n",
      " 75%|███████▌  | 239/318 [00:02<00:00, 87.48it/s]\u001b[A\n",
      " 78%|███████▊  | 248/318 [00:02<00:00, 87.72it/s]\u001b[A\n",
      " 81%|████████  | 257/318 [00:02<00:00, 88.28it/s]\u001b[A\n",
      " 84%|████████▍ | 267/318 [00:03<00:00, 88.90it/s]\u001b[A\n",
      " 87%|████████▋ | 276/318 [00:03<00:00, 88.69it/s]\u001b[A\n",
      " 90%|████████▉ | 286/318 [00:03<00:00, 89.58it/s]\u001b[A\n",
      " 93%|█████████▎| 296/318 [00:03<00:00, 89.89it/s]\u001b[A\n",
      " 96%|█████████▌| 305/318 [00:03<00:00, 89.19it/s]\u001b[A\n",
      " 99%|█████████▊| 314/318 [00:03<00:00, 89.11it/s]\u001b[A/cm/shared/ebtree/software/Python/3.8.6-GCCcore-10.2.0/lib/python3.8/site-packages/sklearn/metrics/_classification.py:1248: UndefinedMetricWarning: Precision is ill-defined and being set to 0.0 in labels with no predicted samples. Use `zero_division` parameter to control this behavior.\n",
      "  _warn_prf(average, modifier, msg_start, len(result))\n",
      "\n",
      "                                                   \n",
      " 27%|██▋       | 1980/7260 [02:29<05:08, 17.09it/s]A\n",
      "                                                 \u001b[ASaving model checkpoint to ./Checkpoints/MarBertv2_hyperparams/run-4/checkpoint-1980\n",
      "Configuration saved in ./Checkpoints/MarBertv2_hyperparams/run-4/checkpoint-1980/config.json\n"
     ]
    },
    {
     "name": "stdout",
     "output_type": "stream",
     "text": [
      "{'eval_loss': 0.6257704496383667, 'eval_f1': 0.4054307116104869, 'eval_recall': 0.5, 'eval_precision': 0.3409448818897638, 'eval_runtime': 3.7227, 'eval_samples_per_second': 341.15, 'eval_steps_per_second': 85.422, 'epoch': 3.0}\n"
     ]
    },
    {
     "name": "stderr",
     "output_type": "stream",
     "text": [
      "Model weights saved in ./Checkpoints/MarBertv2_hyperparams/run-4/checkpoint-1980/pytorch_model.bin\n",
      "tokenizer config file saved in ./Checkpoints/MarBertv2_hyperparams/run-4/checkpoint-1980/tokenizer_config.json\n",
      "Special tokens file saved in ./Checkpoints/MarBertv2_hyperparams/run-4/checkpoint-1980/special_tokens_map.json\n",
      " 28%|██▊       | 2003/7260 [02:38<08:03, 10.88it/s]  "
     ]
    },
    {
     "name": "stdout",
     "output_type": "stream",
     "text": [
      "{'loss': 0.7739, 'learning_rate': 0.0008432220140499108, 'epoch': 3.03}\n"
     ]
    },
    {
     "name": "stderr",
     "output_type": "stream",
     "text": [
      " 34%|███▍      | 2503/7260 [03:09<04:51, 16.31it/s]"
     ]
    },
    {
     "name": "stdout",
     "output_type": "stream",
     "text": [
      "{'loss': 0.7359, 'learning_rate': 0.0007630678302048622, 'epoch': 3.79}\n"
     ]
    },
    {
     "name": "stderr",
     "output_type": "stream",
     "text": [
      " 36%|███▋      | 2639/7260 [03:17<04:38, 16.59it/s]The following columns in the evaluation set  don't have a corresponding argument in `BertForSequenceClassification.forward` and have been ignored: text. If text are not expected by `BertForSequenceClassification.forward`,  you can safely ignore this message.\n",
      "***** Running Evaluation *****\n",
      "  Num examples = 1270\n",
      "  Batch size = 4\n",
      "\n",
      "  0%|          | 0/318 [00:00<?, ?it/s]\u001b[A\n",
      "  3%|▎         | 9/318 [00:00<00:03, 83.01it/s]\u001b[A\n",
      "  6%|▌         | 18/318 [00:00<00:03, 86.31it/s]\u001b[A\n",
      "  9%|▉         | 28/318 [00:00<00:03, 88.59it/s]\u001b[A\n",
      " 12%|█▏        | 37/318 [00:00<00:03, 88.58it/s]\u001b[A\n",
      " 14%|█▍        | 46/318 [00:00<00:03, 89.01it/s]\u001b[A\n",
      " 18%|█▊        | 56/318 [00:00<00:02, 89.64it/s]\u001b[A\n",
      " 21%|██        | 66/318 [00:00<00:02, 89.76it/s]\u001b[A\n",
      " 24%|██▎       | 75/318 [00:00<00:02, 89.40it/s]\u001b[A\n",
      " 27%|██▋       | 85/318 [00:00<00:02, 89.72it/s]\u001b[A\n",
      " 30%|██▉       | 95/318 [00:01<00:02, 90.29it/s]\u001b[A\n",
      " 33%|███▎      | 105/318 [00:01<00:02, 90.64it/s]\u001b[A\n",
      " 36%|███▌      | 115/318 [00:01<00:02, 91.22it/s]\u001b[A\n",
      " 39%|███▉      | 125/318 [00:01<00:02, 91.47it/s]\u001b[A\n",
      " 42%|████▏     | 135/318 [00:01<00:01, 91.69it/s]\u001b[A\n",
      " 46%|████▌     | 145/318 [00:01<00:01, 91.53it/s]\u001b[A\n",
      " 49%|████▊     | 155/318 [00:01<00:01, 89.36it/s]\u001b[A\n",
      " 52%|█████▏    | 164/318 [00:01<00:01, 89.18it/s]\u001b[A\n",
      " 55%|█████▍    | 174/318 [00:01<00:01, 89.66it/s]\u001b[A\n",
      " 58%|█████▊    | 183/318 [00:02<00:01, 89.14it/s]\u001b[A\n",
      " 60%|██████    | 192/318 [00:02<00:01, 89.24it/s]\u001b[A\n",
      " 64%|██████▎   | 202/318 [00:02<00:01, 89.64it/s]\u001b[A\n",
      " 66%|██████▋   | 211/318 [00:02<00:01, 86.77it/s]\u001b[A\n",
      " 69%|██████▉   | 220/318 [00:02<00:01, 79.27it/s]\u001b[A\n",
      " 72%|███████▏  | 229/318 [00:02<00:01, 81.72it/s]\u001b[A\n",
      " 75%|███████▍  | 238/318 [00:02<00:01, 79.01it/s]\u001b[A\n",
      " 77%|███████▋  | 246/318 [00:02<00:00, 77.52it/s]\u001b[A\n",
      " 80%|███████▉  | 254/318 [00:02<00:00, 76.74it/s]\u001b[A\n",
      " 82%|████████▏ | 262/318 [00:03<00:00, 76.47it/s]\u001b[A\n",
      " 85%|████████▍ | 270/318 [00:03<00:00, 75.66it/s]\u001b[A\n",
      " 87%|████████▋ | 278/318 [00:03<00:00, 74.94it/s]\u001b[A\n",
      " 90%|████████▉ | 286/318 [00:03<00:00, 74.37it/s]\u001b[A\n",
      " 92%|█████████▏| 294/318 [00:03<00:00, 74.31it/s]\u001b[A\n",
      " 95%|█████████▌| 303/318 [00:03<00:00, 77.86it/s]\u001b[A\n",
      " 98%|█████████▊| 312/318 [00:03<00:00, 80.52it/s]\u001b[A/cm/shared/ebtree/software/Python/3.8.6-GCCcore-10.2.0/lib/python3.8/site-packages/sklearn/metrics/_classification.py:1248: UndefinedMetricWarning: Precision is ill-defined and being set to 0.0 in labels with no predicted samples. Use `zero_division` parameter to control this behavior.\n",
      "  _warn_prf(average, modifier, msg_start, len(result))\n",
      "\n",
      "                                                   \n",
      " 36%|███▋      | 2640/7260 [03:21<04:38, 16.59it/s]A\n",
      "                                                 \u001b[ASaving model checkpoint to ./Checkpoints/MarBertv2_hyperparams/run-4/checkpoint-2640\n",
      "Configuration saved in ./Checkpoints/MarBertv2_hyperparams/run-4/checkpoint-2640/config.json\n"
     ]
    },
    {
     "name": "stdout",
     "output_type": "stream",
     "text": [
      "{'eval_loss': 0.687588632106781, 'eval_f1': 0.4054307116104869, 'eval_recall': 0.5, 'eval_precision': 0.3409448818897638, 'eval_runtime': 3.8276, 'eval_samples_per_second': 331.8, 'eval_steps_per_second': 83.081, 'epoch': 4.0}\n"
     ]
    },
    {
     "name": "stderr",
     "output_type": "stream",
     "text": [
      "Model weights saved in ./Checkpoints/MarBertv2_hyperparams/run-4/checkpoint-2640/pytorch_model.bin\n",
      "tokenizer config file saved in ./Checkpoints/MarBertv2_hyperparams/run-4/checkpoint-2640/tokenizer_config.json\n",
      "Special tokens file saved in ./Checkpoints/MarBertv2_hyperparams/run-4/checkpoint-2640/special_tokens_map.json\n",
      " 41%|████▏     | 3003/7260 [03:50<05:02, 14.09it/s]  "
     ]
    },
    {
     "name": "stdout",
     "output_type": "stream",
     "text": [
      "{'loss': 0.6946, 'learning_rate': 0.0006829136463598137, 'epoch': 4.55}\n"
     ]
    },
    {
     "name": "stderr",
     "output_type": "stream",
     "text": [
      " 45%|████▌     | 3299/7260 [04:08<04:09, 15.91it/s]The following columns in the evaluation set  don't have a corresponding argument in `BertForSequenceClassification.forward` and have been ignored: text. If text are not expected by `BertForSequenceClassification.forward`,  you can safely ignore this message.\n",
      "***** Running Evaluation *****\n",
      "  Num examples = 1270\n",
      "  Batch size = 4\n",
      "\n",
      "  0%|          | 0/318 [00:00<?, ?it/s]\u001b[A\n",
      "  3%|▎         | 10/318 [00:00<00:03, 99.11it/s]\u001b[A\n",
      "  6%|▋         | 20/318 [00:00<00:03, 92.58it/s]\u001b[A\n",
      "  9%|▉         | 30/318 [00:00<00:03, 90.19it/s]\u001b[A\n",
      " 13%|█▎        | 40/318 [00:00<00:03, 89.50it/s]\u001b[A\n",
      " 15%|█▌        | 49/318 [00:00<00:03, 89.11it/s]\u001b[A\n",
      " 18%|█▊        | 58/318 [00:00<00:02, 87.98it/s]\u001b[A\n",
      " 21%|██        | 67/318 [00:00<00:02, 88.22it/s]\u001b[A\n",
      " 24%|██▍       | 76/318 [00:00<00:02, 88.33it/s]\u001b[A\n",
      " 27%|██▋       | 85/318 [00:00<00:02, 82.68it/s]\u001b[A\n",
      " 30%|██▉       | 94/318 [00:01<00:02, 79.68it/s]\u001b[A\n",
      " 32%|███▏      | 103/318 [00:01<00:02, 77.21it/s]\u001b[A\n",
      " 35%|███▍      | 111/318 [00:01<00:02, 75.92it/s]\u001b[A\n",
      " 37%|███▋      | 119/318 [00:01<00:02, 75.01it/s]\u001b[A\n",
      " 40%|███▉      | 127/318 [00:01<00:02, 74.42it/s]\u001b[A\n",
      " 43%|████▎     | 136/318 [00:01<00:02, 78.25it/s]\u001b[A\n",
      " 46%|████▌     | 145/318 [00:01<00:02, 80.96it/s]\u001b[A\n",
      " 48%|████▊     | 154/318 [00:01<00:01, 82.72it/s]\u001b[A\n",
      " 51%|█████▏    | 163/318 [00:01<00:01, 84.39it/s]\u001b[A\n",
      " 54%|█████▍    | 172/318 [00:02<00:01, 85.40it/s]\u001b[A\n",
      " 57%|█████▋    | 181/318 [00:02<00:01, 86.26it/s]\u001b[A\n",
      " 60%|█████▉    | 190/318 [00:02<00:01, 86.86it/s]\u001b[A\n",
      " 63%|██████▎   | 199/318 [00:02<00:01, 87.53it/s]\u001b[A\n",
      " 65%|██████▌   | 208/318 [00:02<00:01, 87.86it/s]\u001b[A\n",
      " 68%|██████▊   | 217/318 [00:02<00:01, 87.93it/s]\u001b[A\n",
      " 71%|███████   | 226/318 [00:02<00:01, 86.79it/s]\u001b[A\n",
      " 74%|███████▍  | 235/318 [00:02<00:00, 84.30it/s]\u001b[A\n",
      " 77%|███████▋  | 244/318 [00:02<00:00, 84.22it/s]\u001b[A\n",
      " 80%|███████▉  | 253/318 [00:03<00:00, 84.95it/s]\u001b[A\n",
      " 82%|████████▏ | 262/318 [00:03<00:00, 86.32it/s]\u001b[A\n",
      " 85%|████████▌ | 271/318 [00:03<00:00, 86.43it/s]\u001b[A\n",
      " 88%|████████▊ | 280/318 [00:03<00:00, 87.15it/s]\u001b[A\n",
      " 91%|█████████ | 289/318 [00:03<00:00, 87.79it/s]\u001b[A\n",
      " 94%|█████████▎| 298/318 [00:03<00:00, 87.97it/s]\u001b[A\n",
      " 97%|█████████▋| 307/318 [00:03<00:00, 86.71it/s]\u001b[A\n",
      " 99%|█████████▉| 316/318 [00:03<00:00, 87.07it/s]\u001b[A/cm/shared/ebtree/software/Python/3.8.6-GCCcore-10.2.0/lib/python3.8/site-packages/sklearn/metrics/_classification.py:1248: UndefinedMetricWarning: Precision is ill-defined and being set to 0.0 in labels with no predicted samples. Use `zero_division` parameter to control this behavior.\n",
      "  _warn_prf(average, modifier, msg_start, len(result))\n",
      "\n",
      "                                                   \n",
      " 45%|████▌     | 3300/7260 [04:12<04:08, 15.91it/s]A\n",
      "                                                 \u001b[ASaving model checkpoint to ./Checkpoints/MarBertv2_hyperparams/run-4/checkpoint-3300\n",
      "Configuration saved in ./Checkpoints/MarBertv2_hyperparams/run-4/checkpoint-3300/config.json\n"
     ]
    },
    {
     "name": "stdout",
     "output_type": "stream",
     "text": [
      "{'eval_loss': 0.6898963451385498, 'eval_f1': 0.4054307116104869, 'eval_recall': 0.5, 'eval_precision': 0.3409448818897638, 'eval_runtime': 3.8333, 'eval_samples_per_second': 331.307, 'eval_steps_per_second': 82.957, 'epoch': 5.0}\n"
     ]
    },
    {
     "name": "stderr",
     "output_type": "stream",
     "text": [
      "Model weights saved in ./Checkpoints/MarBertv2_hyperparams/run-4/checkpoint-3300/pytorch_model.bin\n",
      "tokenizer config file saved in ./Checkpoints/MarBertv2_hyperparams/run-4/checkpoint-3300/tokenizer_config.json\n",
      "Special tokens file saved in ./Checkpoints/MarBertv2_hyperparams/run-4/checkpoint-3300/special_tokens_map.json\n",
      " 48%|████▊     | 3501/7260 [04:32<04:18, 14.56it/s]  "
     ]
    },
    {
     "name": "stdout",
     "output_type": "stream",
     "text": [
      "{'loss': 0.694, 'learning_rate': 0.0006027594625147651, 'epoch': 5.3}\n"
     ]
    },
    {
     "name": "stderr",
     "output_type": "stream",
     "text": [
      " 55%|█████▍    | 3959/7260 [05:00<03:19, 16.55it/s]The following columns in the evaluation set  don't have a corresponding argument in `BertForSequenceClassification.forward` and have been ignored: text. If text are not expected by `BertForSequenceClassification.forward`,  you can safely ignore this message.\n",
      "***** Running Evaluation *****\n",
      "  Num examples = 1270\n",
      "  Batch size = 4\n",
      "\n",
      "  0%|          | 0/318 [00:00<?, ?it/s]\u001b[A\n",
      "  3%|▎         | 10/318 [00:00<00:03, 98.79it/s]\u001b[A\n",
      "  6%|▋         | 20/318 [00:00<00:03, 92.47it/s]\u001b[A\n",
      "  9%|▉         | 30/318 [00:00<00:03, 91.01it/s]\u001b[A\n",
      " 13%|█▎        | 40/318 [00:00<00:03, 83.12it/s]\u001b[A\n",
      " 15%|█▌        | 49/318 [00:00<00:03, 84.53it/s]\u001b[A\n",
      " 19%|█▊        | 59/318 [00:00<00:03, 86.33it/s]\u001b[A\n",
      " 21%|██▏       | 68/318 [00:00<00:02, 87.43it/s]\u001b[A\n",
      " 24%|██▍       | 77/318 [00:00<00:02, 88.14it/s]\u001b[A\n",
      " 27%|██▋       | 86/318 [00:00<00:02, 87.14it/s]\u001b[A\n",
      " 30%|███       | 96/318 [00:01<00:02, 88.13it/s]\u001b[A\n",
      " 33%|███▎      | 106/318 [00:01<00:02, 89.13it/s]\u001b[A\n",
      " 36%|███▌      | 115/318 [00:01<00:02, 89.15it/s]\u001b[A\n",
      " 39%|███▉      | 125/318 [00:01<00:02, 89.42it/s]\u001b[A\n",
      " 42%|████▏     | 134/318 [00:01<00:02, 89.23it/s]\u001b[A\n",
      " 45%|████▍     | 143/318 [00:01<00:01, 89.03it/s]\u001b[A\n",
      " 48%|████▊     | 152/318 [00:01<00:01, 89.13it/s]\u001b[A\n",
      " 51%|█████     | 161/318 [00:01<00:01, 89.36it/s]\u001b[A\n",
      " 54%|█████▍    | 171/318 [00:01<00:01, 89.85it/s]\u001b[A\n",
      " 57%|█████▋    | 181/318 [00:02<00:01, 90.25it/s]\u001b[A\n",
      " 60%|██████    | 191/318 [00:02<00:01, 89.94it/s]\u001b[A\n",
      " 63%|██████▎   | 200/318 [00:02<00:01, 89.43it/s]\u001b[A\n",
      " 66%|██████▌   | 209/318 [00:02<00:01, 87.96it/s]\u001b[A\n",
      " 69%|██████▊   | 218/318 [00:02<00:01, 87.59it/s]\u001b[A\n",
      " 71%|███████▏  | 227/318 [00:02<00:01, 85.16it/s]\u001b[A\n",
      " 74%|███████▍  | 236/318 [00:02<00:00, 86.44it/s]\u001b[A\n",
      " 77%|███████▋  | 245/318 [00:02<00:00, 87.33it/s]\u001b[A\n",
      " 80%|███████▉  | 254/318 [00:02<00:00, 87.84it/s]\u001b[A\n",
      " 83%|████████▎ | 263/318 [00:02<00:00, 88.36it/s]\u001b[A\n",
      " 86%|████████▌ | 272/318 [00:03<00:00, 88.54it/s]\u001b[A\n",
      " 88%|████████▊ | 281/318 [00:03<00:00, 88.64it/s]\u001b[A\n",
      " 91%|█████████ | 290/318 [00:03<00:00, 88.88it/s]\u001b[A\n",
      " 94%|█████████▍| 299/318 [00:03<00:00, 88.98it/s]\u001b[A\n",
      " 97%|█████████▋| 308/318 [00:03<00:00, 88.34it/s]\u001b[A\n",
      "100%|█████████▉| 317/318 [00:03<00:00, 88.79it/s]\u001b[A/cm/shared/ebtree/software/Python/3.8.6-GCCcore-10.2.0/lib/python3.8/site-packages/sklearn/metrics/_classification.py:1248: UndefinedMetricWarning: Precision is ill-defined and being set to 0.0 in labels with no predicted samples. Use `zero_division` parameter to control this behavior.\n",
      "  _warn_prf(average, modifier, msg_start, len(result))\n",
      "\n",
      "                                                   \n",
      " 55%|█████▍    | 3960/7260 [05:04<03:19, 16.55it/s]A\n",
      "                                                 \u001b[ASaving model checkpoint to ./Checkpoints/MarBertv2_hyperparams/run-4/checkpoint-3960\n",
      "Configuration saved in ./Checkpoints/MarBertv2_hyperparams/run-4/checkpoint-3960/config.json\n"
     ]
    },
    {
     "name": "stdout",
     "output_type": "stream",
     "text": [
      "{'eval_loss': 0.6403189301490784, 'eval_f1': 0.4054307116104869, 'eval_recall': 0.5, 'eval_precision': 0.3409448818897638, 'eval_runtime': 3.675, 'eval_samples_per_second': 345.579, 'eval_steps_per_second': 86.531, 'epoch': 6.0}\n"
     ]
    },
    {
     "name": "stderr",
     "output_type": "stream",
     "text": [
      "Model weights saved in ./Checkpoints/MarBertv2_hyperparams/run-4/checkpoint-3960/pytorch_model.bin\n",
      "tokenizer config file saved in ./Checkpoints/MarBertv2_hyperparams/run-4/checkpoint-3960/tokenizer_config.json\n",
      "Special tokens file saved in ./Checkpoints/MarBertv2_hyperparams/run-4/checkpoint-3960/special_tokens_map.json\n",
      " 55%|█████▌    | 4003/7260 [05:13<02:57, 18.34it/s]  "
     ]
    },
    {
     "name": "stdout",
     "output_type": "stream",
     "text": [
      "{'loss': 0.6954, 'learning_rate': 0.0005226052786697165, 'epoch': 6.06}\n"
     ]
    },
    {
     "name": "stderr",
     "output_type": "stream",
     "text": [
      " 62%|██████▏   | 4503/7260 [05:44<02:31, 18.21it/s]"
     ]
    },
    {
     "name": "stdout",
     "output_type": "stream",
     "text": [
      "{'loss': 0.7155, 'learning_rate': 0.000442451094824668, 'epoch': 6.82}\n"
     ]
    },
    {
     "name": "stderr",
     "output_type": "stream",
     "text": [
      " 64%|██████▎   | 4619/7260 [05:51<02:34, 17.06it/s]The following columns in the evaluation set  don't have a corresponding argument in `BertForSequenceClassification.forward` and have been ignored: text. If text are not expected by `BertForSequenceClassification.forward`,  you can safely ignore this message.\n",
      "***** Running Evaluation *****\n",
      "  Num examples = 1270\n",
      "  Batch size = 4\n",
      "\n",
      "  0%|          | 0/318 [00:00<?, ?it/s]\u001b[A\n",
      "  3%|▎         | 11/318 [00:00<00:03, 100.68it/s]\u001b[A\n",
      "  7%|▋         | 22/318 [00:00<00:03, 94.23it/s] \u001b[A\n",
      " 10%|█         | 32/318 [00:00<00:03, 92.12it/s]\u001b[A\n",
      " 13%|█▎        | 42/318 [00:00<00:03, 91.12it/s]\u001b[A\n",
      " 16%|█▋        | 52/318 [00:00<00:02, 90.40it/s]\u001b[A\n",
      " 19%|█▉        | 62/318 [00:00<00:02, 89.99it/s]\u001b[A\n",
      " 23%|██▎       | 72/318 [00:00<00:02, 89.64it/s]\u001b[A\n",
      " 25%|██▌       | 81/318 [00:00<00:02, 89.53it/s]\u001b[A\n",
      " 28%|██▊       | 90/318 [00:00<00:02, 89.53it/s]\u001b[A\n",
      " 31%|███       | 99/318 [00:01<00:02, 89.62it/s]\u001b[A\n",
      " 34%|███▍      | 108/318 [00:01<00:02, 88.77it/s]\u001b[A\n",
      " 37%|███▋      | 117/318 [00:01<00:02, 88.77it/s]\u001b[A\n",
      " 40%|███▉      | 126/318 [00:01<00:02, 88.45it/s]\u001b[A\n",
      " 42%|████▏     | 135/318 [00:01<00:02, 88.54it/s]\u001b[A\n",
      " 45%|████▌     | 144/318 [00:01<00:01, 88.31it/s]\u001b[A\n",
      " 48%|████▊     | 153/318 [00:01<00:01, 87.89it/s]\u001b[A\n",
      " 51%|█████     | 162/318 [00:01<00:01, 88.27it/s]\u001b[A\n",
      " 54%|█████▍    | 171/318 [00:01<00:01, 87.58it/s]\u001b[A\n",
      " 57%|█████▋    | 180/318 [00:02<00:01, 87.95it/s]\u001b[A\n",
      " 59%|█████▉    | 189/318 [00:02<00:01, 88.41it/s]\u001b[A\n",
      " 62%|██████▏   | 198/318 [00:02<00:01, 88.33it/s]\u001b[A\n",
      " 65%|██████▌   | 207/318 [00:02<00:01, 84.86it/s]\u001b[A\n",
      " 68%|██████▊   | 216/318 [00:02<00:01, 86.33it/s]\u001b[A\n",
      " 71%|███████   | 225/318 [00:02<00:01, 87.12it/s]\u001b[A\n",
      " 74%|███████▎  | 234/318 [00:02<00:00, 87.92it/s]\u001b[A\n",
      " 76%|███████▋  | 243/318 [00:02<00:00, 88.01it/s]\u001b[A\n",
      " 80%|███████▉  | 253/318 [00:02<00:00, 88.73it/s]\u001b[A\n",
      " 83%|████████▎ | 263/318 [00:02<00:00, 89.27it/s]\u001b[A\n",
      " 86%|████████▌ | 272/318 [00:03<00:00, 89.17it/s]\u001b[A\n",
      " 88%|████████▊ | 281/318 [00:03<00:00, 88.89it/s]\u001b[A\n",
      " 91%|█████████ | 290/318 [00:03<00:00, 88.80it/s]\u001b[A\n",
      " 94%|█████████▍| 299/318 [00:03<00:00, 88.70it/s]\u001b[A\n",
      " 97%|█████████▋| 308/318 [00:03<00:00, 88.65it/s]\u001b[A\n",
      "100%|█████████▉| 317/318 [00:03<00:00, 88.78it/s]\u001b[A/cm/shared/ebtree/software/Python/3.8.6-GCCcore-10.2.0/lib/python3.8/site-packages/sklearn/metrics/_classification.py:1248: UndefinedMetricWarning: Precision is ill-defined and being set to 0.0 in labels with no predicted samples. Use `zero_division` parameter to control this behavior.\n",
      "  _warn_prf(average, modifier, msg_start, len(result))\n",
      "\n",
      "                                                   \n",
      " 64%|██████▎   | 4620/7260 [05:55<02:34, 17.06it/s]A\n",
      "                                                 \u001b[ASaving model checkpoint to ./Checkpoints/MarBertv2_hyperparams/run-4/checkpoint-4620\n",
      "Configuration saved in ./Checkpoints/MarBertv2_hyperparams/run-4/checkpoint-4620/config.json\n"
     ]
    },
    {
     "name": "stdout",
     "output_type": "stream",
     "text": [
      "{'eval_loss': 0.6931313872337341, 'eval_f1': 0.4054307116104869, 'eval_recall': 0.5, 'eval_precision': 0.3409448818897638, 'eval_runtime': 3.653, 'eval_samples_per_second': 347.661, 'eval_steps_per_second': 87.052, 'epoch': 7.0}\n"
     ]
    },
    {
     "name": "stderr",
     "output_type": "stream",
     "text": [
      "Model weights saved in ./Checkpoints/MarBertv2_hyperparams/run-4/checkpoint-4620/pytorch_model.bin\n",
      "tokenizer config file saved in ./Checkpoints/MarBertv2_hyperparams/run-4/checkpoint-4620/tokenizer_config.json\n",
      "Special tokens file saved in ./Checkpoints/MarBertv2_hyperparams/run-4/checkpoint-4620/special_tokens_map.json\n",
      " 69%|██████▉   | 5003/7260 [06:26<02:10, 17.25it/s]  "
     ]
    },
    {
     "name": "stdout",
     "output_type": "stream",
     "text": [
      "{'loss': 0.6936, 'learning_rate': 0.00036229691097961945, 'epoch': 7.58}\n"
     ]
    },
    {
     "name": "stderr",
     "output_type": "stream",
     "text": [
      " 73%|███████▎  | 5279/7260 [06:43<01:54, 17.26it/s]The following columns in the evaluation set  don't have a corresponding argument in `BertForSequenceClassification.forward` and have been ignored: text. If text are not expected by `BertForSequenceClassification.forward`,  you can safely ignore this message.\n",
      "***** Running Evaluation *****\n",
      "  Num examples = 1270\n",
      "  Batch size = 4\n",
      "\n",
      "  0%|          | 0/318 [00:00<?, ?it/s]\u001b[A\n",
      "  3%|▎         | 9/318 [00:00<00:03, 84.34it/s]\u001b[A\n",
      "  6%|▌         | 18/318 [00:00<00:03, 77.86it/s]\u001b[A\n",
      "  8%|▊         | 26/318 [00:00<00:03, 75.93it/s]\u001b[A\n",
      " 11%|█         | 35/318 [00:00<00:03, 80.91it/s]\u001b[A\n",
      " 14%|█▍        | 44/318 [00:00<00:03, 83.76it/s]\u001b[A\n",
      " 17%|█▋        | 53/318 [00:00<00:03, 85.75it/s]\u001b[A\n",
      " 19%|█▉        | 62/318 [00:00<00:02, 86.18it/s]\u001b[A\n",
      " 22%|██▏       | 71/318 [00:00<00:02, 86.69it/s]\u001b[A\n",
      " 25%|██▌       | 80/318 [00:00<00:02, 87.16it/s]\u001b[A\n",
      " 28%|██▊       | 89/318 [00:01<00:02, 87.59it/s]\u001b[A\n",
      " 31%|███       | 98/318 [00:01<00:02, 87.78it/s]\u001b[A\n",
      " 34%|███▎      | 107/318 [00:01<00:02, 87.81it/s]\u001b[A\n",
      " 36%|███▋      | 116/318 [00:01<00:02, 87.89it/s]\u001b[A\n",
      " 39%|███▉      | 125/318 [00:01<00:02, 88.25it/s]\u001b[A\n",
      " 42%|████▏     | 134/318 [00:01<00:02, 88.23it/s]\u001b[A\n",
      " 45%|████▍     | 143/318 [00:01<00:01, 88.61it/s]\u001b[A\n",
      " 48%|████▊     | 152/318 [00:01<00:01, 87.04it/s]\u001b[A\n",
      " 51%|█████     | 161/318 [00:01<00:01, 87.64it/s]\u001b[A\n",
      " 53%|█████▎    | 170/318 [00:01<00:01, 87.61it/s]\u001b[A\n",
      " 56%|█████▋    | 179/318 [00:02<00:01, 81.51it/s]\u001b[A\n",
      " 59%|█████▉    | 188/318 [00:02<00:01, 79.03it/s]\u001b[A\n",
      " 62%|██████▏   | 196/318 [00:02<00:01, 77.40it/s]\u001b[A\n",
      " 64%|██████▍   | 204/318 [00:02<00:01, 75.80it/s]\u001b[A\n",
      " 67%|██████▋   | 213/318 [00:02<00:01, 78.96it/s]\u001b[A\n",
      " 70%|██████▉   | 222/318 [00:02<00:01, 81.69it/s]\u001b[A\n",
      " 73%|███████▎  | 231/318 [00:02<00:01, 83.46it/s]\u001b[A\n",
      " 75%|███████▌  | 240/318 [00:02<00:00, 84.82it/s]\u001b[A\n",
      " 78%|███████▊  | 249/318 [00:02<00:00, 85.66it/s]\u001b[A\n",
      " 81%|████████  | 258/318 [00:03<00:00, 86.40it/s]\u001b[A\n",
      " 84%|████████▍ | 267/318 [00:03<00:00, 86.66it/s]\u001b[A\n",
      " 87%|████████▋ | 276/318 [00:03<00:00, 86.33it/s]\u001b[A\n",
      " 90%|████████▉ | 285/318 [00:03<00:00, 86.62it/s]\u001b[A\n",
      " 92%|█████████▏| 294/318 [00:03<00:00, 86.58it/s]\u001b[A\n",
      " 95%|█████████▌| 303/318 [00:03<00:00, 86.94it/s]\u001b[A\n",
      " 98%|█████████▊| 312/318 [00:03<00:00, 83.82it/s]\u001b[A/cm/shared/ebtree/software/Python/3.8.6-GCCcore-10.2.0/lib/python3.8/site-packages/sklearn/metrics/_classification.py:1248: UndefinedMetricWarning: Precision is ill-defined and being set to 0.0 in labels with no predicted samples. Use `zero_division` parameter to control this behavior.\n",
      "  _warn_prf(average, modifier, msg_start, len(result))\n",
      "\n",
      "                                                   \n",
      " 73%|███████▎  | 5280/7260 [06:47<01:54, 17.26it/s]A\n",
      "                                                 \u001b[ASaving model checkpoint to ./Checkpoints/MarBertv2_hyperparams/run-4/checkpoint-5280\n",
      "Configuration saved in ./Checkpoints/MarBertv2_hyperparams/run-4/checkpoint-5280/config.json\n"
     ]
    },
    {
     "name": "stdout",
     "output_type": "stream",
     "text": [
      "{'eval_loss': 0.6921547055244446, 'eval_f1': 0.4054307116104869, 'eval_recall': 0.5, 'eval_precision': 0.3409448818897638, 'eval_runtime': 3.836, 'eval_samples_per_second': 331.078, 'eval_steps_per_second': 82.9, 'epoch': 8.0}\n"
     ]
    },
    {
     "name": "stderr",
     "output_type": "stream",
     "text": [
      "Model weights saved in ./Checkpoints/MarBertv2_hyperparams/run-4/checkpoint-5280/pytorch_model.bin\n",
      "tokenizer config file saved in ./Checkpoints/MarBertv2_hyperparams/run-4/checkpoint-5280/tokenizer_config.json\n",
      "Special tokens file saved in ./Checkpoints/MarBertv2_hyperparams/run-4/checkpoint-5280/special_tokens_map.json\n",
      " 76%|███████▌  | 5503/7260 [07:08<01:44, 16.79it/s]"
     ]
    },
    {
     "name": "stdout",
     "output_type": "stream",
     "text": [
      "{'loss': 0.6935, 'learning_rate': 0.0002821427271345709, 'epoch': 8.33}\n"
     ]
    },
    {
     "name": "stderr",
     "output_type": "stream",
     "text": [
      " 82%|████████▏ | 5939/7260 [07:34<01:21, 16.13it/s]The following columns in the evaluation set  don't have a corresponding argument in `BertForSequenceClassification.forward` and have been ignored: text. If text are not expected by `BertForSequenceClassification.forward`,  you can safely ignore this message.\n",
      "***** Running Evaluation *****\n",
      "  Num examples = 1270\n",
      "  Batch size = 4\n",
      "\n",
      "  0%|          | 0/318 [00:00<?, ?it/s]\u001b[A\n",
      "  3%|▎         | 11/318 [00:00<00:03, 99.11it/s]\u001b[A\n",
      "  7%|▋         | 21/318 [00:00<00:03, 92.73it/s]\u001b[A\n",
      " 10%|▉         | 31/318 [00:00<00:03, 90.55it/s]\u001b[A\n",
      " 13%|█▎        | 41/318 [00:00<00:03, 89.93it/s]\u001b[A\n",
      " 16%|█▌        | 50/318 [00:00<00:03, 89.22it/s]\u001b[A\n",
      " 19%|█▊        | 59/318 [00:00<00:02, 89.23it/s]\u001b[A\n",
      " 22%|██▏       | 69/318 [00:00<00:02, 89.66it/s]\u001b[A\n",
      " 25%|██▍       | 78/318 [00:00<00:02, 89.09it/s]\u001b[A\n",
      " 28%|██▊       | 88/318 [00:00<00:02, 89.72it/s]\u001b[A\n",
      " 31%|███       | 97/318 [00:01<00:02, 89.65it/s]\u001b[A\n",
      " 33%|███▎      | 106/318 [00:01<00:02, 89.66it/s]\u001b[A\n",
      " 36%|███▌      | 115/318 [00:01<00:02, 89.39it/s]\u001b[A\n",
      " 39%|███▉      | 124/318 [00:01<00:02, 89.33it/s]\u001b[A\n",
      " 42%|████▏     | 133/318 [00:01<00:02, 87.64it/s]\u001b[A\n",
      " 45%|████▍     | 142/318 [00:01<00:01, 88.21it/s]\u001b[A\n",
      " 47%|████▋     | 151/318 [00:01<00:01, 88.48it/s]\u001b[A\n",
      " 50%|█████     | 160/318 [00:01<00:01, 88.79it/s]\u001b[A\n",
      " 53%|█████▎    | 169/318 [00:01<00:01, 88.89it/s]\u001b[A\n",
      " 56%|█████▌    | 178/318 [00:02<00:01, 83.10it/s]\u001b[A\n",
      " 59%|█████▉    | 187/318 [00:02<00:01, 79.91it/s]\u001b[A\n",
      " 62%|██████▏   | 196/318 [00:02<00:01, 78.51it/s]\u001b[A\n",
      " 64%|██████▍   | 204/318 [00:02<00:01, 77.15it/s]\u001b[A\n",
      " 67%|██████▋   | 212/318 [00:02<00:01, 76.15it/s]\u001b[A\n",
      " 69%|██████▉   | 220/318 [00:02<00:01, 75.42it/s]\u001b[A\n",
      " 72%|███████▏  | 228/318 [00:02<00:01, 74.81it/s]\u001b[A\n",
      " 74%|███████▍  | 236/318 [00:02<00:01, 74.40it/s]\u001b[A\n",
      " 77%|███████▋  | 244/318 [00:02<00:00, 74.40it/s]\u001b[A\n",
      " 79%|███████▉  | 252/318 [00:03<00:00, 74.25it/s]\u001b[A\n",
      " 82%|████████▏ | 260/318 [00:03<00:00, 74.11it/s]\u001b[A\n",
      " 84%|████████▍ | 268/318 [00:03<00:00, 74.52it/s]\u001b[A\n",
      " 87%|████████▋ | 276/318 [00:03<00:00, 74.32it/s]\u001b[A\n",
      " 89%|████████▉ | 284/318 [00:03<00:00, 74.25it/s]\u001b[A\n",
      " 92%|█████████▏| 292/318 [00:03<00:00, 74.13it/s]\u001b[A\n",
      " 94%|█████████▍| 300/318 [00:03<00:00, 73.95it/s]\u001b[A\n",
      " 97%|█████████▋| 308/318 [00:03<00:00, 74.15it/s]\u001b[A\n",
      " 99%|█████████▉| 316/318 [00:03<00:00, 74.26it/s]\u001b[A/cm/shared/ebtree/software/Python/3.8.6-GCCcore-10.2.0/lib/python3.8/site-packages/sklearn/metrics/_classification.py:1248: UndefinedMetricWarning: Precision is ill-defined and being set to 0.0 in labels with no predicted samples. Use `zero_division` parameter to control this behavior.\n",
      "  _warn_prf(average, modifier, msg_start, len(result))\n",
      "\n",
      "                                                   \n",
      " 82%|████████▏ | 5940/7260 [07:38<01:21, 16.13it/s]A\n",
      "                                                 \u001b[ASaving model checkpoint to ./Checkpoints/MarBertv2_hyperparams/run-4/checkpoint-5940\n",
      "Configuration saved in ./Checkpoints/MarBertv2_hyperparams/run-4/checkpoint-5940/config.json\n"
     ]
    },
    {
     "name": "stdout",
     "output_type": "stream",
     "text": [
      "{'eval_loss': 0.692594051361084, 'eval_f1': 0.4054307116104869, 'eval_recall': 0.5, 'eval_precision': 0.3409448818897638, 'eval_runtime': 3.9791, 'eval_samples_per_second': 319.165, 'eval_steps_per_second': 79.917, 'epoch': 9.0}\n"
     ]
    },
    {
     "name": "stderr",
     "output_type": "stream",
     "text": [
      "Model weights saved in ./Checkpoints/MarBertv2_hyperparams/run-4/checkpoint-5940/pytorch_model.bin\n",
      "tokenizer config file saved in ./Checkpoints/MarBertv2_hyperparams/run-4/checkpoint-5940/tokenizer_config.json\n",
      "Special tokens file saved in ./Checkpoints/MarBertv2_hyperparams/run-4/checkpoint-5940/special_tokens_map.json\n",
      " 83%|████████▎ | 6003/7260 [07:49<01:22, 15.31it/s]"
     ]
    },
    {
     "name": "stdout",
     "output_type": "stream",
     "text": [
      "{'loss': 0.6935, 'learning_rate': 0.00020198854328952234, 'epoch': 9.09}\n"
     ]
    },
    {
     "name": "stderr",
     "output_type": "stream",
     "text": [
      " 90%|████████▉ | 6503/7260 [08:20<00:50, 14.91it/s]"
     ]
    },
    {
     "name": "stdout",
     "output_type": "stream",
     "text": [
      "{'loss': 0.6934, 'learning_rate': 0.0001218343594444738, 'epoch': 9.85}\n"
     ]
    },
    {
     "name": "stderr",
     "output_type": "stream",
     "text": [
      " 91%|█████████ | 6599/7260 [08:26<00:38, 16.97it/s]The following columns in the evaluation set  don't have a corresponding argument in `BertForSequenceClassification.forward` and have been ignored: text. If text are not expected by `BertForSequenceClassification.forward`,  you can safely ignore this message.\n",
      "***** Running Evaluation *****\n",
      "  Num examples = 1270\n",
      "  Batch size = 4\n",
      "\n",
      "  0%|          | 0/318 [00:00<?, ?it/s]\u001b[A\n",
      "  3%|▎         | 10/318 [00:00<00:03, 91.72it/s]\u001b[A\n",
      "  6%|▋         | 20/318 [00:00<00:03, 90.06it/s]\u001b[A\n",
      "  9%|▉         | 30/318 [00:00<00:03, 88.67it/s]\u001b[A\n",
      " 13%|█▎        | 40/318 [00:00<00:03, 89.94it/s]\u001b[A\n",
      " 15%|█▌        | 49/318 [00:00<00:02, 89.82it/s]\u001b[A\n",
      " 18%|█▊        | 58/318 [00:00<00:02, 89.54it/s]\u001b[A\n",
      " 21%|██        | 67/318 [00:00<00:02, 89.29it/s]\u001b[A\n",
      " 24%|██▍       | 76/318 [00:00<00:02, 88.77it/s]\u001b[A\n",
      " 27%|██▋       | 85/318 [00:00<00:02, 88.83it/s]\u001b[A\n",
      " 30%|██▉       | 94/318 [00:01<00:02, 88.96it/s]\u001b[A\n",
      " 32%|███▏      | 103/318 [00:01<00:02, 89.05it/s]\u001b[A\n",
      " 35%|███▌      | 112/318 [00:01<00:02, 89.16it/s]\u001b[A\n",
      " 38%|███▊      | 121/318 [00:01<00:02, 88.70it/s]\u001b[A\n",
      " 41%|████      | 130/318 [00:01<00:02, 88.57it/s]\u001b[A\n",
      " 44%|████▎     | 139/318 [00:01<00:02, 88.82it/s]\u001b[A\n",
      " 47%|████▋     | 148/318 [00:01<00:01, 88.81it/s]\u001b[A\n",
      " 49%|████▉     | 157/318 [00:01<00:01, 88.83it/s]\u001b[A\n",
      " 52%|█████▏    | 166/318 [00:01<00:01, 88.20it/s]\u001b[A\n",
      " 55%|█████▌    | 175/318 [00:01<00:01, 88.28it/s]\u001b[A\n",
      " 58%|█████▊    | 184/318 [00:02<00:01, 88.32it/s]\u001b[A\n",
      " 61%|██████    | 193/318 [00:02<00:01, 88.28it/s]\u001b[A\n",
      " 64%|██████▎   | 202/318 [00:02<00:01, 88.36it/s]\u001b[A\n",
      " 66%|██████▋   | 211/318 [00:02<00:01, 88.40it/s]\u001b[A\n",
      " 69%|██████▉   | 220/318 [00:02<00:01, 88.58it/s]\u001b[A\n",
      " 72%|███████▏  | 229/318 [00:02<00:01, 88.59it/s]\u001b[A\n",
      " 75%|███████▍  | 238/318 [00:02<00:00, 88.70it/s]\u001b[A\n",
      " 78%|███████▊  | 247/318 [00:02<00:00, 88.54it/s]\u001b[A\n",
      " 81%|████████  | 256/318 [00:02<00:00, 87.63it/s]\u001b[A\n",
      " 83%|████████▎ | 265/318 [00:02<00:00, 87.78it/s]\u001b[A\n",
      " 86%|████████▌ | 274/318 [00:03<00:00, 87.14it/s]\u001b[A\n",
      " 89%|████████▉ | 283/318 [00:03<00:00, 81.74it/s]\u001b[A\n",
      " 92%|█████████▏| 292/318 [00:03<00:00, 78.90it/s]\u001b[A\n",
      " 94%|█████████▍| 300/318 [00:03<00:00, 77.50it/s]\u001b[A\n",
      " 97%|█████████▋| 308/318 [00:03<00:00, 76.45it/s]\u001b[A\n",
      " 99%|█████████▉| 316/318 [00:03<00:00, 75.69it/s]\u001b[A/cm/shared/ebtree/software/Python/3.8.6-GCCcore-10.2.0/lib/python3.8/site-packages/sklearn/metrics/_classification.py:1248: UndefinedMetricWarning: Precision is ill-defined and being set to 0.0 in labels with no predicted samples. Use `zero_division` parameter to control this behavior.\n",
      "  _warn_prf(average, modifier, msg_start, len(result))\n",
      "\n",
      "                                                   \n",
      " 91%|█████████ | 6600/7260 [08:30<00:38, 16.97it/s]A\n",
      "                                                 \u001b[ASaving model checkpoint to ./Checkpoints/MarBertv2_hyperparams/run-4/checkpoint-6600\n",
      "Configuration saved in ./Checkpoints/MarBertv2_hyperparams/run-4/checkpoint-6600/config.json\n"
     ]
    },
    {
     "name": "stdout",
     "output_type": "stream",
     "text": [
      "{'eval_loss': 0.692939817905426, 'eval_f1': 0.4054307116104869, 'eval_recall': 0.5, 'eval_precision': 0.3409448818897638, 'eval_runtime': 3.7856, 'eval_samples_per_second': 335.479, 'eval_steps_per_second': 84.002, 'epoch': 10.0}\n"
     ]
    },
    {
     "name": "stderr",
     "output_type": "stream",
     "text": [
      "Model weights saved in ./Checkpoints/MarBertv2_hyperparams/run-4/checkpoint-6600/pytorch_model.bin\n",
      "tokenizer config file saved in ./Checkpoints/MarBertv2_hyperparams/run-4/checkpoint-6600/tokenizer_config.json\n",
      "Special tokens file saved in ./Checkpoints/MarBertv2_hyperparams/run-4/checkpoint-6600/special_tokens_map.json\n",
      " 96%|█████████▋| 7001/7260 [09:01<00:16, 15.62it/s]"
     ]
    },
    {
     "name": "stdout",
     "output_type": "stream",
     "text": [
      "{'loss': 0.6932, 'learning_rate': 4.1680175599425247e-05, 'epoch': 10.61}\n"
     ]
    },
    {
     "name": "stderr",
     "output_type": "stream",
     "text": [
      "100%|█████████▉| 7259/7260 [09:17<00:00, 17.51it/s]The following columns in the evaluation set  don't have a corresponding argument in `BertForSequenceClassification.forward` and have been ignored: text. If text are not expected by `BertForSequenceClassification.forward`,  you can safely ignore this message.\n",
      "***** Running Evaluation *****\n",
      "  Num examples = 1270\n",
      "  Batch size = 4\n",
      "\n",
      "  0%|          | 0/318 [00:00<?, ?it/s]\u001b[A\n",
      "  3%|▎         | 10/318 [00:00<00:03, 99.88it/s]\u001b[A\n",
      "  6%|▋         | 20/318 [00:00<00:03, 93.62it/s]\u001b[A\n",
      "  9%|▉         | 30/318 [00:00<00:03, 91.66it/s]\u001b[A\n",
      " 13%|█▎        | 40/318 [00:00<00:03, 90.21it/s]\u001b[A\n",
      " 16%|█▌        | 50/318 [00:00<00:02, 90.39it/s]\u001b[A\n",
      " 19%|█▉        | 60/318 [00:00<00:02, 90.12it/s]\u001b[A\n",
      " 22%|██▏       | 70/318 [00:00<00:02, 89.64it/s]\u001b[A\n",
      " 25%|██▍       | 79/318 [00:00<00:02, 89.04it/s]\u001b[A\n",
      " 28%|██▊       | 88/318 [00:00<00:02, 89.13it/s]\u001b[A\n",
      " 31%|███       | 98/318 [00:01<00:02, 89.50it/s]\u001b[A\n",
      " 34%|███▎      | 107/318 [00:01<00:02, 88.91it/s]\u001b[A\n",
      " 36%|███▋      | 116/318 [00:01<00:02, 88.44it/s]\u001b[A\n",
      " 39%|███▉      | 125/318 [00:01<00:02, 88.08it/s]\u001b[A\n",
      " 42%|████▏     | 134/318 [00:01<00:02, 88.18it/s]\u001b[A\n",
      " 45%|████▍     | 143/318 [00:01<00:01, 87.80it/s]\u001b[A\n",
      " 48%|████▊     | 152/318 [00:01<00:01, 88.37it/s]\u001b[A\n",
      " 51%|█████     | 161/318 [00:01<00:01, 88.84it/s]\u001b[A\n",
      " 53%|█████▎    | 170/318 [00:01<00:01, 88.85it/s]\u001b[A\n",
      " 57%|█████▋    | 180/318 [00:02<00:01, 89.66it/s]\u001b[A\n",
      " 59%|█████▉    | 189/318 [00:02<00:01, 88.90it/s]\u001b[A\n",
      " 63%|██████▎   | 199/318 [00:02<00:01, 89.42it/s]\u001b[A\n",
      " 66%|██████▌   | 209/318 [00:02<00:01, 90.08it/s]\u001b[A\n",
      " 69%|██████▉   | 219/318 [00:02<00:01, 89.46it/s]\u001b[A\n",
      " 72%|███████▏  | 228/318 [00:02<00:01, 89.53it/s]\u001b[A\n",
      " 75%|███████▍  | 237/318 [00:02<00:00, 89.32it/s]\u001b[A\n",
      " 77%|███████▋  | 246/318 [00:02<00:00, 89.20it/s]\u001b[A\n",
      " 81%|████████  | 256/318 [00:02<00:00, 89.77it/s]\u001b[A\n",
      " 83%|████████▎ | 265/318 [00:02<00:00, 89.42it/s]\u001b[A\n",
      " 86%|████████▌ | 274/318 [00:03<00:00, 89.08it/s]\u001b[A\n",
      " 89%|████████▉ | 283/318 [00:03<00:00, 88.98it/s]\u001b[A\n",
      " 92%|█████████▏| 292/318 [00:03<00:00, 88.79it/s]\u001b[A\n",
      " 95%|█████████▍| 301/318 [00:03<00:00, 88.82it/s]\u001b[A\n",
      " 97%|█████████▋| 310/318 [00:03<00:00, 88.69it/s]\u001b[A/cm/shared/ebtree/software/Python/3.8.6-GCCcore-10.2.0/lib/python3.8/site-packages/sklearn/metrics/_classification.py:1248: UndefinedMetricWarning: Precision is ill-defined and being set to 0.0 in labels with no predicted samples. Use `zero_division` parameter to control this behavior.\n",
      "  _warn_prf(average, modifier, msg_start, len(result))\n",
      "\n",
      "                                                   \n",
      "100%|██████████| 7260/7260 [09:21<00:00, 17.51it/s]A\n",
      "                                                 \u001b[ASaving model checkpoint to ./Checkpoints/MarBertv2_hyperparams/run-4/checkpoint-7260\n",
      "Configuration saved in ./Checkpoints/MarBertv2_hyperparams/run-4/checkpoint-7260/config.json\n"
     ]
    },
    {
     "name": "stdout",
     "output_type": "stream",
     "text": [
      "{'eval_loss': 0.6928423643112183, 'eval_f1': 0.4054307116104869, 'eval_recall': 0.5, 'eval_precision': 0.3409448818897638, 'eval_runtime': 3.6354, 'eval_samples_per_second': 349.345, 'eval_steps_per_second': 87.474, 'epoch': 11.0}\n"
     ]
    },
    {
     "name": "stderr",
     "output_type": "stream",
     "text": [
      "Model weights saved in ./Checkpoints/MarBertv2_hyperparams/run-4/checkpoint-7260/pytorch_model.bin\n",
      "tokenizer config file saved in ./Checkpoints/MarBertv2_hyperparams/run-4/checkpoint-7260/tokenizer_config.json\n",
      "Special tokens file saved in ./Checkpoints/MarBertv2_hyperparams/run-4/checkpoint-7260/special_tokens_map.json\n",
      "\n",
      "\n",
      "Training completed. Do not forget to share your model on huggingface.co/models =)\n",
      "\n",
      "\n",
      "Loading best model from ./Checkpoints/MarBertv2_hyperparams/run-4/checkpoint-1320 (score: 0.4054307116104869).\n",
      "100%|██████████| 7260/7260 [09:28<00:00, 12.78it/s]\n",
      "\u001b[32m[I 2022-03-28 22:02:05,306]\u001b[0m Trial 4 finished with value: 1.2463755935002507 and parameters: {'learning_rate': 0.001163838749430105, 'weight_decay': 7.468546856792952e-08, 'num_train_epochs': 11, 'seed': 5, 'per_device_train_batch_size': 16}. Best is trial 3 with value: 2.52298489012904.\u001b[0m\n",
      "Trial:\n",
      "loading configuration file /scratch/mt/ashapiro/Hate_Speech/Models/Marbertv2/config.json\n",
      "Model config BertConfig {\n",
      "  \"_name_or_path\": \"/scratch/mt/ashapiro/Hate_Speech/Models/Marbertv2/\",\n",
      "  \"architectures\": [\n",
      "    \"BertForMaskedLM\"\n",
      "  ],\n",
      "  \"attention_probs_dropout_prob\": 0.1,\n",
      "  \"classifier_dropout\": null,\n",
      "  \"directionality\": \"bidi\",\n",
      "  \"gradient_checkpointing\": false,\n",
      "  \"hidden_act\": \"gelu\",\n",
      "  \"hidden_dropout_prob\": 0.1,\n",
      "  \"hidden_size\": 768,\n",
      "  \"initializer_range\": 0.02,\n",
      "  \"intermediate_size\": 3072,\n",
      "  \"layer_norm_eps\": 1e-12,\n",
      "  \"max_position_embeddings\": 512,\n",
      "  \"model_type\": \"bert\",\n",
      "  \"num_attention_heads\": 12,\n",
      "  \"num_hidden_layers\": 12,\n",
      "  \"pad_token_id\": 0,\n",
      "  \"pooler_fc_size\": 768,\n",
      "  \"pooler_num_attention_heads\": 12,\n",
      "  \"pooler_num_fc_layers\": 3,\n",
      "  \"pooler_size_per_head\": 128,\n",
      "  \"pooler_type\": \"first_token_transform\",\n",
      "  \"position_embedding_type\": \"absolute\",\n",
      "  \"transformers_version\": \"4.17.0\",\n",
      "  \"type_vocab_size\": 2,\n",
      "  \"use_cache\": true,\n",
      "  \"vocab_size\": 100000\n",
      "}\n",
      "\n",
      "loading weights file /scratch/mt/ashapiro/Hate_Speech/Models/Marbertv2/pytorch_model.bin\n"
     ]
    },
    {
     "name": "stdout",
     "output_type": "stream",
     "text": [
      "{'train_runtime': 568.2357, 'train_samples_per_second': 204.267, 'train_steps_per_second': 12.776, 'train_loss': 0.716385419440992, 'epoch': 11.0}\n"
     ]
    },
    {
     "name": "stderr",
     "output_type": "stream",
     "text": [
      "Some weights of the model checkpoint at /scratch/mt/ashapiro/Hate_Speech/Models/Marbertv2/ were not used when initializing BertForSequenceClassification: ['cls.seq_relationship.bias', 'cls.predictions.decoder.bias', 'cls.predictions.transform.LayerNorm.weight', 'cls.seq_relationship.weight', 'cls.predictions.decoder.weight', 'cls.predictions.transform.LayerNorm.bias', 'cls.predictions.transform.dense.weight', 'cls.predictions.bias', 'cls.predictions.transform.dense.bias']\n",
      "- This IS expected if you are initializing BertForSequenceClassification from the checkpoint of a model trained on another task or with another architecture (e.g. initializing a BertForSequenceClassification model from a BertForPreTraining model).\n",
      "- This IS NOT expected if you are initializing BertForSequenceClassification from the checkpoint of a model that you expect to be exactly identical (initializing a BertForSequenceClassification model from a BertForSequenceClassification model).\n",
      "Some weights of BertForSequenceClassification were not initialized from the model checkpoint at /scratch/mt/ashapiro/Hate_Speech/Models/Marbertv2/ and are newly initialized: ['classifier.weight', 'classifier.bias']\n",
      "You should probably TRAIN this model on a down-stream task to be able to use it for predictions and inference.\n",
      "The following columns in the training set  don't have a corresponding argument in `BertForSequenceClassification.forward` and have been ignored: text. If text are not expected by `BertForSequenceClassification.forward`,  you can safely ignore this message.\n",
      "/home/ashapiro/.local/lib/python3.8/site-packages/transformers/optimization.py:306: FutureWarning: This implementation of AdamW is deprecated and will be removed in a future version. Use the PyTorch implementation torch.optim.AdamW instead, or set `no_deprecation_warning=True` to disable this warning\n",
      "  warnings.warn(\n",
      "***** Running training *****\n",
      "  Num examples = 10552\n",
      "  Num Epochs = 4\n",
      "  Instantaneous batch size per device = 32\n",
      "  Total train batch size (w. parallel, distributed & accumulation) = 32\n",
      "  Gradient Accumulation steps = 1\n",
      "  Total optimization steps = 1320\n",
      " 25%|██▍       | 329/1320 [00:25<01:02, 15.94it/s]The following columns in the evaluation set  don't have a corresponding argument in `BertForSequenceClassification.forward` and have been ignored: text. If text are not expected by `BertForSequenceClassification.forward`,  you can safely ignore this message.\n",
      "***** Running Evaluation *****\n",
      "  Num examples = 1270\n",
      "  Batch size = 4\n",
      "\n",
      "  0%|          | 0/318 [00:00<?, ?it/s]\u001b[A\n",
      "  3%|▎         | 10/318 [00:00<00:03, 98.66it/s]\u001b[A\n",
      "  6%|▋         | 20/318 [00:00<00:03, 89.14it/s]\u001b[A\n",
      "  9%|▉         | 29/318 [00:00<00:03, 87.73it/s]\u001b[A\n",
      " 12%|█▏        | 38/318 [00:00<00:03, 88.12it/s]\u001b[A\n",
      " 15%|█▍        | 47/318 [00:00<00:03, 88.44it/s]\u001b[A\n",
      " 18%|█▊        | 56/318 [00:00<00:03, 86.97it/s]\u001b[A\n",
      " 20%|██        | 65/318 [00:00<00:02, 87.81it/s]\u001b[A\n",
      " 23%|██▎       | 74/318 [00:00<00:02, 87.89it/s]\u001b[A\n",
      " 26%|██▌       | 83/318 [00:00<00:02, 87.90it/s]\u001b[A\n",
      " 29%|██▉       | 92/318 [00:01<00:02, 88.04it/s]\u001b[A\n",
      " 32%|███▏      | 101/318 [00:01<00:02, 88.02it/s]\u001b[A\n",
      " 35%|███▍      | 110/318 [00:01<00:02, 88.02it/s]\u001b[A\n",
      " 37%|███▋      | 119/318 [00:01<00:02, 88.01it/s]\u001b[A\n",
      " 40%|████      | 128/318 [00:01<00:02, 88.10it/s]\u001b[A\n",
      " 43%|████▎     | 137/318 [00:01<00:02, 87.07it/s]\u001b[A\n",
      " 46%|████▌     | 146/318 [00:01<00:02, 84.40it/s]\u001b[A\n",
      " 49%|████▊     | 155/318 [00:01<00:01, 85.24it/s]\u001b[A\n",
      " 52%|█████▏    | 164/318 [00:01<00:01, 85.07it/s]\u001b[A\n",
      " 54%|█████▍    | 173/318 [00:01<00:01, 85.84it/s]\u001b[A\n",
      " 57%|█████▋    | 182/318 [00:02<00:01, 86.33it/s]\u001b[A\n",
      " 60%|██████    | 191/318 [00:02<00:01, 86.62it/s]\u001b[A\n",
      " 63%|██████▎   | 200/318 [00:02<00:01, 86.84it/s]\u001b[A\n",
      " 66%|██████▌   | 210/318 [00:02<00:01, 88.30it/s]\u001b[A\n",
      " 69%|██████▉   | 220/318 [00:02<00:01, 89.43it/s]\u001b[A\n",
      " 72%|███████▏  | 229/318 [00:02<00:00, 89.33it/s]\u001b[A\n",
      " 75%|███████▍  | 238/318 [00:02<00:00, 89.48it/s]\u001b[A\n",
      " 78%|███████▊  | 247/318 [00:02<00:00, 88.77it/s]\u001b[A\n",
      " 81%|████████  | 257/318 [00:02<00:00, 89.21it/s]\u001b[A\n",
      " 84%|████████▎ | 266/318 [00:03<00:00, 89.23it/s]\u001b[A\n",
      " 86%|████████▋ | 275/318 [00:03<00:00, 89.22it/s]\u001b[A\n",
      " 89%|████████▉ | 284/318 [00:03<00:00, 89.00it/s]\u001b[A\n",
      " 92%|█████████▏| 293/318 [00:03<00:00, 86.74it/s]\u001b[A\n",
      " 95%|█████████▍| 302/318 [00:03<00:00, 87.39it/s]\u001b[A\n",
      " 98%|█████████▊| 311/318 [00:03<00:00, 87.97it/s]\u001b[A/cm/shared/ebtree/software/Python/3.8.6-GCCcore-10.2.0/lib/python3.8/site-packages/sklearn/metrics/_classification.py:1248: UndefinedMetricWarning: Precision is ill-defined and being set to 0.0 in labels with no predicted samples. Use `zero_division` parameter to control this behavior.\n",
      "  _warn_prf(average, modifier, msg_start, len(result))\n",
      "\n",
      "                                                  \n",
      " 25%|██▌       | 330/1320 [00:29<01:02, 15.94it/s][A\n",
      "                                                 \u001b[ASaving model checkpoint to ./Checkpoints/MarBertv2_hyperparams/run-5/checkpoint-330\n",
      "Configuration saved in ./Checkpoints/MarBertv2_hyperparams/run-5/checkpoint-330/config.json\n"
     ]
    },
    {
     "name": "stdout",
     "output_type": "stream",
     "text": [
      "{'eval_loss': 0.6915783882141113, 'eval_f1': 0.4054307116104869, 'eval_recall': 0.5, 'eval_precision': 0.3409448818897638, 'eval_runtime': 3.7194, 'eval_samples_per_second': 341.456, 'eval_steps_per_second': 85.498, 'epoch': 1.0}\n"
     ]
    },
    {
     "name": "stderr",
     "output_type": "stream",
     "text": [
      "Model weights saved in ./Checkpoints/MarBertv2_hyperparams/run-5/checkpoint-330/pytorch_model.bin\n",
      "tokenizer config file saved in ./Checkpoints/MarBertv2_hyperparams/run-5/checkpoint-330/tokenizer_config.json\n",
      "Special tokens file saved in ./Checkpoints/MarBertv2_hyperparams/run-5/checkpoint-330/special_tokens_map.json\n",
      " 38%|███▊      | 502/1320 [00:50<01:05, 12.50it/s]"
     ]
    },
    {
     "name": "stdout",
     "output_type": "stream",
     "text": [
      "{'loss': 0.7655, 'learning_rate': 0.001085198878118528, 'epoch': 1.52}\n"
     ]
    },
    {
     "name": "stderr",
     "output_type": "stream",
     "text": [
      " 50%|█████     | 660/1320 [01:02<00:43, 15.26it/s]The following columns in the evaluation set  don't have a corresponding argument in `BertForSequenceClassification.forward` and have been ignored: text. If text are not expected by `BertForSequenceClassification.forward`,  you can safely ignore this message.\n",
      "***** Running Evaluation *****\n",
      "  Num examples = 1270\n",
      "  Batch size = 4\n",
      "\n",
      "  0%|          | 0/318 [00:00<?, ?it/s]\u001b[A\n",
      "  3%|▎         | 10/318 [00:00<00:03, 99.34it/s]\u001b[A\n",
      "  6%|▋         | 20/318 [00:00<00:03, 92.52it/s]\u001b[A\n",
      "  9%|▉         | 30/318 [00:00<00:03, 91.24it/s]\u001b[A\n",
      " 13%|█▎        | 40/318 [00:00<00:03, 90.88it/s]\u001b[A\n",
      " 16%|█▌        | 50/318 [00:00<00:02, 90.48it/s]\u001b[A\n",
      " 19%|█▉        | 60/318 [00:00<00:02, 90.28it/s]\u001b[A\n",
      " 22%|██▏       | 70/318 [00:00<00:02, 89.44it/s]\u001b[A\n",
      " 25%|██▍       | 79/318 [00:00<00:02, 88.86it/s]\u001b[A\n",
      " 28%|██▊       | 88/318 [00:00<00:02, 88.96it/s]\u001b[A\n",
      " 31%|███       | 97/318 [00:01<00:02, 88.94it/s]\u001b[A\n",
      " 33%|███▎      | 106/318 [00:01<00:02, 89.01it/s]\u001b[A\n",
      " 36%|███▋      | 116/318 [00:01<00:02, 89.37it/s]\u001b[A\n",
      " 40%|███▉      | 126/318 [00:01<00:02, 90.07it/s]\u001b[A\n",
      " 43%|████▎     | 136/318 [00:01<00:02, 90.69it/s]\u001b[A\n",
      " 46%|████▌     | 146/318 [00:01<00:01, 90.65it/s]\u001b[A\n",
      " 49%|████▉     | 156/318 [00:01<00:01, 90.81it/s]\u001b[A\n",
      " 52%|█████▏    | 166/318 [00:01<00:01, 89.86it/s]\u001b[A\n",
      " 55%|█████▌    | 175/318 [00:01<00:01, 89.35it/s]\u001b[A\n",
      " 58%|█████▊    | 184/318 [00:02<00:01, 89.33it/s]\u001b[A\n",
      " 61%|██████    | 193/318 [00:02<00:01, 89.49it/s]\u001b[A\n",
      " 64%|██████▎   | 202/318 [00:02<00:01, 89.35it/s]\u001b[A\n",
      " 66%|██████▋   | 211/318 [00:02<00:01, 89.19it/s]\u001b[A\n",
      " 69%|██████▉   | 220/318 [00:02<00:01, 89.16it/s]\u001b[A\n",
      " 72%|███████▏  | 229/318 [00:02<00:00, 89.37it/s]\u001b[A\n",
      " 75%|███████▌  | 239/318 [00:02<00:00, 89.96it/s]\u001b[A\n",
      " 78%|███████▊  | 248/318 [00:02<00:00, 89.75it/s]\u001b[A\n",
      " 81%|████████  | 258/318 [00:02<00:00, 89.96it/s]\u001b[A\n",
      " 84%|████████▍ | 267/318 [00:02<00:00, 89.84it/s]\u001b[A\n",
      " 87%|████████▋ | 276/318 [00:03<00:00, 89.02it/s]\u001b[A\n",
      " 90%|████████▉ | 286/318 [00:03<00:00, 89.96it/s]\u001b[A\n",
      " 93%|█████████▎| 295/318 [00:03<00:00, 89.24it/s]\u001b[A\n",
      " 96%|█████████▌| 304/318 [00:03<00:00, 89.18it/s]\u001b[A\n",
      " 98%|█████████▊| 313/318 [00:03<00:00, 89.14it/s]\u001b[A/cm/shared/ebtree/software/Python/3.8.6-GCCcore-10.2.0/lib/python3.8/site-packages/sklearn/metrics/_classification.py:1248: UndefinedMetricWarning: Precision is ill-defined and being set to 0.0 in labels with no predicted samples. Use `zero_division` parameter to control this behavior.\n",
      "  _warn_prf(average, modifier, msg_start, len(result))\n",
      "\n",
      "                                                  \n",
      " 50%|█████     | 660/1320 [01:05<00:43, 15.26it/s][A\n",
      "                                                 \u001b[ASaving model checkpoint to ./Checkpoints/MarBertv2_hyperparams/run-5/checkpoint-660\n",
      "Configuration saved in ./Checkpoints/MarBertv2_hyperparams/run-5/checkpoint-660/config.json\n"
     ]
    },
    {
     "name": "stdout",
     "output_type": "stream",
     "text": [
      "{'eval_loss': 0.649308979511261, 'eval_f1': 0.4054307116104869, 'eval_recall': 0.5, 'eval_precision': 0.3409448818897638, 'eval_runtime': 3.6133, 'eval_samples_per_second': 351.474, 'eval_steps_per_second': 88.007, 'epoch': 2.0}\n"
     ]
    },
    {
     "name": "stderr",
     "output_type": "stream",
     "text": [
      "Model weights saved in ./Checkpoints/MarBertv2_hyperparams/run-5/checkpoint-660/pytorch_model.bin\n",
      "tokenizer config file saved in ./Checkpoints/MarBertv2_hyperparams/run-5/checkpoint-660/tokenizer_config.json\n",
      "Special tokens file saved in ./Checkpoints/MarBertv2_hyperparams/run-5/checkpoint-660/special_tokens_map.json\n",
      " 75%|███████▍  | 989/1320 [01:38<00:19, 16.77it/s]The following columns in the evaluation set  don't have a corresponding argument in `BertForSequenceClassification.forward` and have been ignored: text. If text are not expected by `BertForSequenceClassification.forward`,  you can safely ignore this message.\n",
      "***** Running Evaluation *****\n",
      "  Num examples = 1270\n",
      "  Batch size = 4\n",
      "\n",
      "  0%|          | 0/318 [00:00<?, ?it/s]\u001b[A\n",
      "  3%|▎         | 11/318 [00:00<00:03, 99.86it/s]\u001b[A\n",
      "  7%|▋         | 21/318 [00:00<00:03, 93.41it/s]\u001b[A\n",
      " 10%|▉         | 31/318 [00:00<00:03, 92.09it/s]\u001b[A\n",
      " 13%|█▎        | 41/318 [00:00<00:03, 78.51it/s]\u001b[A\n",
      " 16%|█▌        | 50/318 [00:00<00:03, 81.68it/s]\u001b[A\n",
      " 19%|█▊        | 59/318 [00:00<00:03, 77.66it/s]\u001b[A\n",
      " 21%|██        | 67/318 [00:00<00:03, 76.73it/s]\u001b[A\n",
      " 24%|██▎       | 75/318 [00:00<00:03, 76.01it/s]\u001b[A\n",
      " 26%|██▌       | 83/318 [00:01<00:03, 75.33it/s]\u001b[A\n",
      " 29%|██▊       | 91/318 [00:01<00:03, 74.93it/s]\u001b[A\n",
      " 31%|███       | 99/318 [00:01<00:02, 74.68it/s]\u001b[A\n",
      " 34%|███▍      | 108/318 [00:01<00:02, 78.61it/s]\u001b[A\n",
      " 37%|███▋      | 117/318 [00:01<00:02, 81.68it/s]\u001b[A\n",
      " 40%|███▉      | 126/318 [00:01<00:02, 83.06it/s]\u001b[A\n",
      " 42%|████▏     | 135/318 [00:01<00:02, 84.99it/s]\u001b[A\n",
      " 46%|████▌     | 145/318 [00:01<00:01, 86.93it/s]\u001b[A\n",
      " 48%|████▊     | 154/318 [00:01<00:01, 87.61it/s]\u001b[A\n",
      " 51%|█████▏    | 163/318 [00:01<00:01, 88.18it/s]\u001b[A\n",
      " 54%|█████▍    | 172/318 [00:02<00:01, 88.12it/s]\u001b[A\n",
      " 57%|█████▋    | 181/318 [00:02<00:01, 88.43it/s]\u001b[A\n",
      " 60%|█████▉    | 190/318 [00:02<00:01, 88.77it/s]\u001b[A\n",
      " 63%|██████▎   | 200/318 [00:02<00:01, 89.15it/s]\u001b[A\n",
      " 66%|██████▌   | 210/318 [00:02<00:01, 89.76it/s]\u001b[A\n",
      " 69%|██████▉   | 219/318 [00:02<00:01, 89.26it/s]\u001b[A\n",
      " 72%|███████▏  | 229/318 [00:02<00:00, 89.85it/s]\u001b[A\n",
      " 75%|███████▌  | 239/318 [00:02<00:00, 90.05it/s]\u001b[A\n",
      " 78%|███████▊  | 249/318 [00:02<00:00, 89.38it/s]\u001b[A\n",
      " 81%|████████  | 258/318 [00:03<00:00, 88.85it/s]\u001b[A\n",
      " 84%|████████▍ | 267/318 [00:03<00:00, 88.27it/s]\u001b[A\n",
      " 87%|████████▋ | 276/318 [00:03<00:00, 87.20it/s]\u001b[A\n",
      " 90%|████████▉ | 285/318 [00:03<00:00, 87.40it/s]\u001b[A\n",
      " 92%|█████████▏| 294/318 [00:03<00:00, 87.27it/s]\u001b[A\n",
      " 95%|█████████▌| 303/318 [00:03<00:00, 87.59it/s]\u001b[A\n",
      " 98%|█████████▊| 312/318 [00:03<00:00, 87.83it/s]\u001b[A/cm/shared/ebtree/software/Python/3.8.6-GCCcore-10.2.0/lib/python3.8/site-packages/sklearn/metrics/_classification.py:1248: UndefinedMetricWarning: Precision is ill-defined and being set to 0.0 in labels with no predicted samples. Use `zero_division` parameter to control this behavior.\n",
      "  _warn_prf(average, modifier, msg_start, len(result))\n",
      "\n",
      "                                                  \n",
      " 75%|███████▌  | 990/1320 [01:41<00:19, 16.77it/s][A\n",
      "                                                 \u001b[ASaving model checkpoint to ./Checkpoints/MarBertv2_hyperparams/run-5/checkpoint-990\n",
      "Configuration saved in ./Checkpoints/MarBertv2_hyperparams/run-5/checkpoint-990/config.json\n"
     ]
    },
    {
     "name": "stdout",
     "output_type": "stream",
     "text": [
      "{'eval_loss': 0.6561294794082642, 'eval_f1': 0.4054307116104869, 'eval_recall': 0.5, 'eval_precision': 0.3409448818897638, 'eval_runtime': 3.8007, 'eval_samples_per_second': 334.148, 'eval_steps_per_second': 83.669, 'epoch': 3.0}\n"
     ]
    },
    {
     "name": "stderr",
     "output_type": "stream",
     "text": [
      "Model weights saved in ./Checkpoints/MarBertv2_hyperparams/run-5/checkpoint-990/pytorch_model.bin\n",
      "tokenizer config file saved in ./Checkpoints/MarBertv2_hyperparams/run-5/checkpoint-990/tokenizer_config.json\n",
      "Special tokens file saved in ./Checkpoints/MarBertv2_hyperparams/run-5/checkpoint-990/special_tokens_map.json\n",
      " 76%|███████▌  | 1002/1320 [01:50<01:32,  3.43it/s]"
     ]
    },
    {
     "name": "stdout",
     "output_type": "stream",
     "text": [
      "{'loss': 0.7616, 'learning_rate': 0.0004234922451194256, 'epoch': 3.03}\n"
     ]
    },
    {
     "name": "stderr",
     "output_type": "stream",
     "text": [
      "100%|██████████| 1320/1320 [02:13<00:00, 16.27it/s]The following columns in the evaluation set  don't have a corresponding argument in `BertForSequenceClassification.forward` and have been ignored: text. If text are not expected by `BertForSequenceClassification.forward`,  you can safely ignore this message.\n",
      "***** Running Evaluation *****\n",
      "  Num examples = 1270\n",
      "  Batch size = 4\n",
      "\n",
      "  0%|          | 0/318 [00:00<?, ?it/s]\u001b[A\n",
      "  3%|▎         | 10/318 [00:00<00:03, 99.59it/s]\u001b[A\n",
      "  6%|▋         | 20/318 [00:00<00:03, 85.71it/s]\u001b[A\n",
      "  9%|▉         | 29/318 [00:00<00:03, 87.07it/s]\u001b[A\n",
      " 12%|█▏        | 38/318 [00:00<00:03, 86.76it/s]\u001b[A\n",
      " 15%|█▍        | 47/318 [00:00<00:03, 87.19it/s]\u001b[A\n",
      " 18%|█▊        | 56/318 [00:00<00:03, 80.37it/s]\u001b[A\n",
      " 20%|██        | 65/318 [00:00<00:03, 79.07it/s]\u001b[A\n",
      " 23%|██▎       | 74/318 [00:00<00:02, 81.82it/s]\u001b[A\n",
      " 26%|██▋       | 84/318 [00:00<00:02, 84.64it/s]\u001b[A\n",
      " 30%|██▉       | 94/318 [00:01<00:02, 86.81it/s]\u001b[A\n",
      " 33%|███▎      | 104/318 [00:01<00:02, 87.95it/s]\u001b[A\n",
      " 36%|███▌      | 113/318 [00:01<00:02, 88.21it/s]\u001b[A\n",
      " 38%|███▊      | 122/318 [00:01<00:02, 88.36it/s]\u001b[A\n",
      " 41%|████      | 131/318 [00:01<00:02, 88.49it/s]\u001b[A\n",
      " 44%|████▍     | 140/318 [00:01<00:02, 88.71it/s]\u001b[A\n",
      " 47%|████▋     | 150/318 [00:01<00:01, 89.38it/s]\u001b[A\n",
      " 50%|█████     | 159/318 [00:01<00:01, 89.38it/s]\u001b[A\n",
      " 53%|█████▎    | 169/318 [00:01<00:01, 89.72it/s]\u001b[A\n",
      " 56%|█████▋    | 179/318 [00:02<00:01, 90.11it/s]\u001b[A\n",
      " 59%|█████▉    | 189/318 [00:02<00:01, 90.19it/s]\u001b[A\n",
      " 63%|██████▎   | 199/318 [00:02<00:01, 90.41it/s]\u001b[A\n",
      " 66%|██████▌   | 209/318 [00:02<00:01, 90.15it/s]\u001b[A\n",
      " 69%|██████▉   | 219/318 [00:02<00:01, 89.23it/s]\u001b[A\n",
      " 72%|███████▏  | 228/318 [00:02<00:01, 88.84it/s]\u001b[A\n",
      " 75%|███████▍  | 237/318 [00:02<00:00, 88.83it/s]\u001b[A\n",
      " 77%|███████▋  | 246/318 [00:02<00:00, 83.21it/s]\u001b[A\n",
      " 80%|████████  | 255/318 [00:02<00:00, 81.14it/s]\u001b[A\n",
      " 83%|████████▎ | 264/318 [00:03<00:00, 79.48it/s]\u001b[A\n",
      " 86%|████████▌ | 272/318 [00:03<00:00, 78.38it/s]\u001b[A\n",
      " 88%|████████▊ | 280/318 [00:03<00:00, 77.52it/s]\u001b[A\n",
      " 91%|█████████ | 288/318 [00:03<00:00, 76.70it/s]\u001b[A\n",
      " 93%|█████████▎| 296/318 [00:03<00:00, 76.54it/s]\u001b[A\n",
      " 96%|█████████▌| 304/318 [00:03<00:00, 76.25it/s]\u001b[A\n",
      " 98%|█████████▊| 312/318 [00:03<00:00, 75.99it/s]\u001b[A/cm/shared/ebtree/software/Python/3.8.6-GCCcore-10.2.0/lib/python3.8/site-packages/sklearn/metrics/_classification.py:1248: UndefinedMetricWarning: Precision is ill-defined and being set to 0.0 in labels with no predicted samples. Use `zero_division` parameter to control this behavior.\n",
      "  _warn_prf(average, modifier, msg_start, len(result))\n",
      "\n",
      "                                                   \n",
      "100%|██████████| 1320/1320 [02:17<00:00, 16.27it/s]A\n",
      "                                                 \u001b[ASaving model checkpoint to ./Checkpoints/MarBertv2_hyperparams/run-5/checkpoint-1320\n",
      "Configuration saved in ./Checkpoints/MarBertv2_hyperparams/run-5/checkpoint-1320/config.json\n"
     ]
    },
    {
     "name": "stdout",
     "output_type": "stream",
     "text": [
      "{'eval_loss': 0.7064206004142761, 'eval_f1': 0.24133811230585425, 'eval_recall': 0.5, 'eval_precision': 0.15905511811023623, 'eval_runtime': 3.8521, 'eval_samples_per_second': 329.692, 'eval_steps_per_second': 82.553, 'epoch': 4.0}\n"
     ]
    },
    {
     "name": "stderr",
     "output_type": "stream",
     "text": [
      "Model weights saved in ./Checkpoints/MarBertv2_hyperparams/run-5/checkpoint-1320/pytorch_model.bin\n",
      "tokenizer config file saved in ./Checkpoints/MarBertv2_hyperparams/run-5/checkpoint-1320/tokenizer_config.json\n",
      "Special tokens file saved in ./Checkpoints/MarBertv2_hyperparams/run-5/checkpoint-1320/special_tokens_map.json\n",
      "\n",
      "\n",
      "Training completed. Do not forget to share your model on huggingface.co/models =)\n",
      "\n",
      "\n",
      "Loading best model from ./Checkpoints/MarBertv2_hyperparams/run-5/checkpoint-330 (score: 0.4054307116104869).\n",
      "100%|██████████| 1320/1320 [02:24<00:00,  9.12it/s]\n",
      "\u001b[32m[I 2022-03-28 22:04:33,367]\u001b[0m Trial 5 finished with value: 0.9003932304160904 and parameters: {'learning_rate': 0.0017469055111176306, 'weight_decay': 1.699179546350497e-09, 'num_train_epochs': 4, 'seed': 48, 'per_device_train_batch_size': 32}. Best is trial 3 with value: 2.52298489012904.\u001b[0m\n",
      "Trial:\n",
      "loading configuration file /scratch/mt/ashapiro/Hate_Speech/Models/Marbertv2/config.json\n",
      "Model config BertConfig {\n",
      "  \"_name_or_path\": \"/scratch/mt/ashapiro/Hate_Speech/Models/Marbertv2/\",\n",
      "  \"architectures\": [\n",
      "    \"BertForMaskedLM\"\n",
      "  ],\n",
      "  \"attention_probs_dropout_prob\": 0.1,\n",
      "  \"classifier_dropout\": null,\n",
      "  \"directionality\": \"bidi\",\n",
      "  \"gradient_checkpointing\": false,\n",
      "  \"hidden_act\": \"gelu\",\n",
      "  \"hidden_dropout_prob\": 0.1,\n",
      "  \"hidden_size\": 768,\n",
      "  \"initializer_range\": 0.02,\n",
      "  \"intermediate_size\": 3072,\n",
      "  \"layer_norm_eps\": 1e-12,\n",
      "  \"max_position_embeddings\": 512,\n",
      "  \"model_type\": \"bert\",\n",
      "  \"num_attention_heads\": 12,\n",
      "  \"num_hidden_layers\": 12,\n",
      "  \"pad_token_id\": 0,\n",
      "  \"pooler_fc_size\": 768,\n",
      "  \"pooler_num_attention_heads\": 12,\n",
      "  \"pooler_num_fc_layers\": 3,\n",
      "  \"pooler_size_per_head\": 128,\n",
      "  \"pooler_type\": \"first_token_transform\",\n",
      "  \"position_embedding_type\": \"absolute\",\n",
      "  \"transformers_version\": \"4.17.0\",\n",
      "  \"type_vocab_size\": 2,\n",
      "  \"use_cache\": true,\n",
      "  \"vocab_size\": 100000\n",
      "}\n",
      "\n",
      "loading weights file /scratch/mt/ashapiro/Hate_Speech/Models/Marbertv2/pytorch_model.bin\n"
     ]
    },
    {
     "name": "stdout",
     "output_type": "stream",
     "text": [
      "{'train_runtime': 144.7411, 'train_samples_per_second': 291.61, 'train_steps_per_second': 9.12, 'train_loss': 0.7471740607059363, 'epoch': 4.0}\n"
     ]
    },
    {
     "name": "stderr",
     "output_type": "stream",
     "text": [
      "Some weights of the model checkpoint at /scratch/mt/ashapiro/Hate_Speech/Models/Marbertv2/ were not used when initializing BertForSequenceClassification: ['cls.seq_relationship.bias', 'cls.predictions.decoder.bias', 'cls.predictions.transform.LayerNorm.weight', 'cls.seq_relationship.weight', 'cls.predictions.decoder.weight', 'cls.predictions.transform.LayerNorm.bias', 'cls.predictions.transform.dense.weight', 'cls.predictions.bias', 'cls.predictions.transform.dense.bias']\n",
      "- This IS expected if you are initializing BertForSequenceClassification from the checkpoint of a model trained on another task or with another architecture (e.g. initializing a BertForSequenceClassification model from a BertForPreTraining model).\n",
      "- This IS NOT expected if you are initializing BertForSequenceClassification from the checkpoint of a model that you expect to be exactly identical (initializing a BertForSequenceClassification model from a BertForSequenceClassification model).\n",
      "Some weights of BertForSequenceClassification were not initialized from the model checkpoint at /scratch/mt/ashapiro/Hate_Speech/Models/Marbertv2/ and are newly initialized: ['classifier.weight', 'classifier.bias']\n",
      "You should probably TRAIN this model on a down-stream task to be able to use it for predictions and inference.\n",
      "The following columns in the training set  don't have a corresponding argument in `BertForSequenceClassification.forward` and have been ignored: text. If text are not expected by `BertForSequenceClassification.forward`,  you can safely ignore this message.\n",
      "/home/ashapiro/.local/lib/python3.8/site-packages/transformers/optimization.py:306: FutureWarning: This implementation of AdamW is deprecated and will be removed in a future version. Use the PyTorch implementation torch.optim.AdamW instead, or set `no_deprecation_warning=True` to disable this warning\n",
      "  warnings.warn(\n",
      "***** Running training *****\n",
      "  Num examples = 10552\n",
      "  Num Epochs = 19\n",
      "  Instantaneous batch size per device = 32\n",
      "  Total train batch size (w. parallel, distributed & accumulation) = 32\n",
      "  Gradient Accumulation steps = 1\n",
      "  Total optimization steps = 6270\n",
      "  5%|▌         | 330/6270 [00:25<06:17, 15.74it/s]The following columns in the evaluation set  don't have a corresponding argument in `BertForSequenceClassification.forward` and have been ignored: text. If text are not expected by `BertForSequenceClassification.forward`,  you can safely ignore this message.\n",
      "***** Running Evaluation *****\n",
      "  Num examples = 1270\n",
      "  Batch size = 4\n",
      "\n",
      "  0%|          | 0/318 [00:00<?, ?it/s]\u001b[A\n",
      "  3%|▎         | 10/318 [00:00<00:03, 96.92it/s]\u001b[A\n",
      "  6%|▋         | 20/318 [00:00<00:03, 92.70it/s]\u001b[A\n",
      "  9%|▉         | 30/318 [00:00<00:03, 91.63it/s]\u001b[A\n",
      " 13%|█▎        | 40/318 [00:00<00:03, 91.15it/s]\u001b[A\n",
      " 16%|█▌        | 50/318 [00:00<00:02, 91.28it/s]\u001b[A\n",
      " 19%|█▉        | 60/318 [00:00<00:02, 90.98it/s]\u001b[A\n",
      " 22%|██▏       | 70/318 [00:00<00:02, 91.33it/s]\u001b[A\n",
      " 25%|██▌       | 80/318 [00:00<00:02, 91.03it/s]\u001b[A\n",
      " 28%|██▊       | 90/318 [00:00<00:02, 88.58it/s]\u001b[A\n",
      " 31%|███▏      | 100/318 [00:01<00:02, 89.06it/s]\u001b[A\n",
      " 34%|███▍      | 109/318 [00:01<00:02, 87.63it/s]\u001b[A\n",
      " 37%|███▋      | 118/318 [00:01<00:02, 86.80it/s]\u001b[A\n",
      " 40%|███▉      | 127/318 [00:01<00:02, 86.23it/s]\u001b[A\n",
      " 43%|████▎     | 136/318 [00:01<00:02, 87.14it/s]\u001b[A\n",
      " 46%|████▌     | 145/318 [00:01<00:01, 87.69it/s]\u001b[A\n",
      " 49%|████▊     | 155/318 [00:01<00:01, 88.53it/s]\u001b[A\n",
      " 52%|█████▏    | 165/318 [00:01<00:01, 89.24it/s]\u001b[A\n",
      " 55%|█████▍    | 174/318 [00:01<00:01, 89.07it/s]\u001b[A\n",
      " 58%|█████▊    | 183/318 [00:02<00:01, 89.27it/s]\u001b[A\n",
      " 60%|██████    | 192/318 [00:02<00:01, 89.26it/s]\u001b[A\n",
      " 63%|██████▎   | 201/318 [00:02<00:01, 88.15it/s]\u001b[A\n",
      " 66%|██████▌   | 210/318 [00:02<00:01, 82.62it/s]\u001b[A\n",
      " 69%|██████▉   | 219/318 [00:02<00:01, 83.58it/s]\u001b[A\n",
      " 72%|███████▏  | 228/318 [00:02<00:01, 85.13it/s]\u001b[A\n",
      " 75%|███████▍  | 238/318 [00:02<00:00, 87.04it/s]\u001b[A\n",
      " 78%|███████▊  | 247/318 [00:02<00:00, 81.45it/s]\u001b[A\n",
      " 81%|████████  | 257/318 [00:02<00:00, 84.04it/s]\u001b[A\n",
      " 84%|████████▎ | 266/318 [00:03<00:00, 85.22it/s]\u001b[A\n",
      " 86%|████████▋ | 275/318 [00:03<00:00, 86.04it/s]\u001b[A\n",
      " 89%|████████▉ | 284/318 [00:03<00:00, 86.94it/s]\u001b[A\n",
      " 92%|█████████▏| 293/318 [00:03<00:00, 87.77it/s]\u001b[A\n",
      " 95%|█████████▍| 302/318 [00:03<00:00, 87.89it/s]\u001b[A\n",
      " 98%|█████████▊| 311/318 [00:03<00:00, 87.93it/s]\u001b[A/cm/shared/ebtree/software/Python/3.8.6-GCCcore-10.2.0/lib/python3.8/site-packages/sklearn/metrics/_classification.py:1248: UndefinedMetricWarning: Precision is ill-defined and being set to 0.0 in labels with no predicted samples. Use `zero_division` parameter to control this behavior.\n",
      "  _warn_prf(average, modifier, msg_start, len(result))\n",
      "\n",
      "                                                  \n",
      "  5%|▌         | 330/6270 [00:29<06:17, 15.74it/s][A\n",
      "                                                 \u001b[ASaving model checkpoint to ./Checkpoints/MarBertv2_hyperparams/run-6/checkpoint-330\n",
      "Configuration saved in ./Checkpoints/MarBertv2_hyperparams/run-6/checkpoint-330/config.json\n"
     ]
    },
    {
     "name": "stdout",
     "output_type": "stream",
     "text": [
      "{'eval_loss': 0.7251737117767334, 'eval_f1': 0.4054307116104869, 'eval_recall': 0.5, 'eval_precision': 0.3409448818897638, 'eval_runtime': 3.6965, 'eval_samples_per_second': 343.566, 'eval_steps_per_second': 86.027, 'epoch': 1.0}\n"
     ]
    },
    {
     "name": "stderr",
     "output_type": "stream",
     "text": [
      "Model weights saved in ./Checkpoints/MarBertv2_hyperparams/run-6/checkpoint-330/pytorch_model.bin\n",
      "tokenizer config file saved in ./Checkpoints/MarBertv2_hyperparams/run-6/checkpoint-330/tokenizer_config.json\n",
      "Special tokens file saved in ./Checkpoints/MarBertv2_hyperparams/run-6/checkpoint-330/special_tokens_map.json\n",
      "  8%|▊         | 502/6270 [00:50<07:39, 12.54it/s]  "
     ]
    },
    {
     "name": "stdout",
     "output_type": "stream",
     "text": [
      "{'loss': 0.9069, 'learning_rate': 0.003114464404585385, 'epoch': 1.52}\n"
     ]
    },
    {
     "name": "stderr",
     "output_type": "stream",
     "text": [
      " 11%|█         | 660/6270 [01:02<06:08, 15.21it/s]The following columns in the evaluation set  don't have a corresponding argument in `BertForSequenceClassification.forward` and have been ignored: text. If text are not expected by `BertForSequenceClassification.forward`,  you can safely ignore this message.\n",
      "***** Running Evaluation *****\n",
      "  Num examples = 1270\n",
      "  Batch size = 4\n",
      "\n",
      "  0%|          | 0/318 [00:00<?, ?it/s]\u001b[A\n",
      "  3%|▎         | 10/318 [00:00<00:03, 94.85it/s]\u001b[A\n",
      "  6%|▋         | 20/318 [00:00<00:03, 92.45it/s]\u001b[A\n",
      "  9%|▉         | 30/318 [00:00<00:03, 91.54it/s]\u001b[A\n",
      " 13%|█▎        | 40/318 [00:00<00:03, 91.48it/s]\u001b[A\n",
      " 16%|█▌        | 50/318 [00:00<00:02, 91.43it/s]\u001b[A\n",
      " 19%|█▉        | 60/318 [00:00<00:02, 90.67it/s]\u001b[A\n",
      " 22%|██▏       | 70/318 [00:00<00:02, 90.11it/s]\u001b[A\n",
      " 25%|██▌       | 80/318 [00:00<00:02, 89.71it/s]\u001b[A\n",
      " 28%|██▊       | 90/318 [00:00<00:02, 90.50it/s]\u001b[A\n",
      " 31%|███▏      | 100/318 [00:01<00:02, 90.57it/s]\u001b[A\n",
      " 35%|███▍      | 110/318 [00:01<00:02, 90.05it/s]\u001b[A\n",
      " 38%|███▊      | 120/318 [00:01<00:02, 89.78it/s]\u001b[A\n",
      " 41%|████      | 130/318 [00:01<00:02, 90.08it/s]\u001b[A\n",
      " 44%|████▍     | 140/318 [00:01<00:02, 77.21it/s]\u001b[A\n",
      " 47%|████▋     | 149/318 [00:01<00:02, 80.14it/s]\u001b[A\n",
      " 50%|█████     | 159/318 [00:01<00:01, 83.02it/s]\u001b[A\n",
      " 53%|█████▎    | 168/318 [00:01<00:01, 84.79it/s]\u001b[A\n",
      " 56%|█████▌    | 178/318 [00:02<00:01, 86.73it/s]\u001b[A\n",
      " 59%|█████▉    | 188/318 [00:02<00:01, 87.77it/s]\u001b[A\n",
      " 62%|██████▏   | 197/318 [00:02<00:01, 88.28it/s]\u001b[A\n",
      " 65%|██████▍   | 206/318 [00:02<00:01, 88.72it/s]\u001b[A\n",
      " 68%|██████▊   | 215/318 [00:02<00:01, 88.73it/s]\u001b[A\n",
      " 70%|███████   | 224/318 [00:02<00:01, 88.92it/s]\u001b[A\n",
      " 73%|███████▎  | 233/318 [00:02<00:00, 89.06it/s]\u001b[A\n",
      " 76%|███████▋  | 243/318 [00:02<00:00, 89.96it/s]\u001b[A\n",
      " 80%|███████▉  | 253/318 [00:02<00:00, 90.20it/s]\u001b[A\n",
      " 83%|████████▎ | 263/318 [00:02<00:00, 90.02it/s]\u001b[A\n",
      " 86%|████████▌ | 273/318 [00:03<00:00, 89.90it/s]\u001b[A\n",
      " 89%|████████▉ | 283/318 [00:03<00:00, 90.32it/s]\u001b[A\n",
      " 92%|█████████▏| 293/318 [00:03<00:00, 90.74it/s]\u001b[A\n",
      " 95%|█████████▌| 303/318 [00:03<00:00, 91.06it/s]\u001b[A\n",
      " 98%|█████████▊| 313/318 [00:03<00:00, 90.88it/s]\u001b[A/cm/shared/ebtree/software/Python/3.8.6-GCCcore-10.2.0/lib/python3.8/site-packages/sklearn/metrics/_classification.py:1248: UndefinedMetricWarning: Precision is ill-defined and being set to 0.0 in labels with no predicted samples. Use `zero_division` parameter to control this behavior.\n",
      "  _warn_prf(average, modifier, msg_start, len(result))\n",
      "\n",
      "                                                  \n",
      " 11%|█         | 660/6270 [01:06<06:08, 15.21it/s][A\n",
      "                                                 \u001b[ASaving model checkpoint to ./Checkpoints/MarBertv2_hyperparams/run-6/checkpoint-660\n",
      "Configuration saved in ./Checkpoints/MarBertv2_hyperparams/run-6/checkpoint-660/config.json\n"
     ]
    },
    {
     "name": "stdout",
     "output_type": "stream",
     "text": [
      "{'eval_loss': 0.7352030873298645, 'eval_f1': 0.4054307116104869, 'eval_recall': 0.5, 'eval_precision': 0.3409448818897638, 'eval_runtime': 3.6497, 'eval_samples_per_second': 347.976, 'eval_steps_per_second': 87.131, 'epoch': 2.0}\n"
     ]
    },
    {
     "name": "stderr",
     "output_type": "stream",
     "text": [
      "Model weights saved in ./Checkpoints/MarBertv2_hyperparams/run-6/checkpoint-660/pytorch_model.bin\n",
      "tokenizer config file saved in ./Checkpoints/MarBertv2_hyperparams/run-6/checkpoint-660/tokenizer_config.json\n",
      "Special tokens file saved in ./Checkpoints/MarBertv2_hyperparams/run-6/checkpoint-660/special_tokens_map.json\n",
      " 16%|█▌        | 989/6270 [01:39<06:17, 14.00it/s]  The following columns in the evaluation set  don't have a corresponding argument in `BertForSequenceClassification.forward` and have been ignored: text. If text are not expected by `BertForSequenceClassification.forward`,  you can safely ignore this message.\n",
      "***** Running Evaluation *****\n",
      "  Num examples = 1270\n",
      "  Batch size = 4\n",
      "\n",
      "  0%|          | 0/318 [00:00<?, ?it/s]\u001b[A\n",
      "  3%|▎         | 10/318 [00:00<00:03, 99.40it/s]\u001b[A\n",
      "  6%|▋         | 20/318 [00:00<00:03, 91.45it/s]\u001b[A\n",
      "  9%|▉         | 30/318 [00:00<00:03, 90.32it/s]\u001b[A\n",
      " 13%|█▎        | 40/318 [00:00<00:03, 90.31it/s]\u001b[A\n",
      " 16%|█▌        | 50/318 [00:00<00:02, 90.35it/s]\u001b[A\n",
      " 19%|█▉        | 60/318 [00:00<00:02, 90.25it/s]\u001b[A\n",
      " 22%|██▏       | 70/318 [00:00<00:02, 90.38it/s]\u001b[A\n",
      " 25%|██▌       | 80/318 [00:00<00:02, 90.19it/s]\u001b[A\n",
      " 28%|██▊       | 90/318 [00:00<00:02, 90.17it/s]\u001b[A\n",
      " 31%|███▏      | 100/318 [00:01<00:02, 90.17it/s]\u001b[A\n",
      " 35%|███▍      | 110/318 [00:01<00:02, 90.00it/s]\u001b[A\n",
      " 38%|███▊      | 120/318 [00:01<00:02, 90.96it/s]\u001b[A\n",
      " 41%|████      | 130/318 [00:01<00:02, 90.24it/s]\u001b[A\n",
      " 44%|████▍     | 140/318 [00:01<00:01, 90.13it/s]\u001b[A\n",
      " 47%|████▋     | 150/318 [00:01<00:01, 89.99it/s]\u001b[A\n",
      " 50%|█████     | 160/318 [00:01<00:01, 90.26it/s]\u001b[A\n",
      " 53%|█████▎    | 170/318 [00:01<00:01, 89.97it/s]\u001b[A\n",
      " 57%|█████▋    | 180/318 [00:01<00:01, 90.30it/s]\u001b[A\n",
      " 60%|█████▉    | 190/318 [00:02<00:01, 90.57it/s]\u001b[A\n",
      " 63%|██████▎   | 200/318 [00:02<00:01, 91.08it/s]\u001b[A\n",
      " 66%|██████▌   | 210/318 [00:02<00:01, 91.35it/s]\u001b[A\n",
      " 69%|██████▉   | 220/318 [00:02<00:01, 91.38it/s]\u001b[A\n",
      " 72%|███████▏  | 230/318 [00:02<00:00, 91.03it/s]\u001b[A\n",
      " 75%|███████▌  | 240/318 [00:02<00:00, 90.67it/s]\u001b[A\n",
      " 79%|███████▊  | 250/318 [00:02<00:00, 88.63it/s]\u001b[A\n",
      " 82%|████████▏ | 260/318 [00:02<00:00, 89.72it/s]\u001b[A\n",
      " 85%|████████▍ | 270/318 [00:02<00:00, 90.55it/s]\u001b[A\n",
      " 88%|████████▊ | 280/318 [00:03<00:00, 90.30it/s]\u001b[A\n",
      " 91%|█████████ | 290/318 [00:03<00:00, 90.66it/s]\u001b[A\n",
      " 94%|█████████▍| 300/318 [00:03<00:00, 90.60it/s]\u001b[A\n",
      " 97%|█████████▋| 310/318 [00:03<00:00, 90.17it/s]\u001b[A/cm/shared/ebtree/software/Python/3.8.6-GCCcore-10.2.0/lib/python3.8/site-packages/sklearn/metrics/_classification.py:1248: UndefinedMetricWarning: Precision is ill-defined and being set to 0.0 in labels with no predicted samples. Use `zero_division` parameter to control this behavior.\n",
      "  _warn_prf(average, modifier, msg_start, len(result))\n",
      "\n",
      "                                                  \n",
      " 16%|█▌        | 990/6270 [01:42<06:17, 14.00it/s][A\n",
      "                                                 \u001b[ASaving model checkpoint to ./Checkpoints/MarBertv2_hyperparams/run-6/checkpoint-990\n",
      "Configuration saved in ./Checkpoints/MarBertv2_hyperparams/run-6/checkpoint-990/config.json\n"
     ]
    },
    {
     "name": "stdout",
     "output_type": "stream",
     "text": [
      "{'eval_loss': 0.6773854494094849, 'eval_f1': 0.4054307116104869, 'eval_recall': 0.5, 'eval_precision': 0.3409448818897638, 'eval_runtime': 3.5899, 'eval_samples_per_second': 353.766, 'eval_steps_per_second': 88.581, 'epoch': 3.0}\n"
     ]
    },
    {
     "name": "stderr",
     "output_type": "stream",
     "text": [
      "Model weights saved in ./Checkpoints/MarBertv2_hyperparams/run-6/checkpoint-990/pytorch_model.bin\n",
      "tokenizer config file saved in ./Checkpoints/MarBertv2_hyperparams/run-6/checkpoint-990/tokenizer_config.json\n",
      "Special tokens file saved in ./Checkpoints/MarBertv2_hyperparams/run-6/checkpoint-990/special_tokens_map.json\n",
      " 16%|█▌        | 1002/6270 [01:50<25:05,  3.50it/s] "
     ]
    },
    {
     "name": "stdout",
     "output_type": "stream",
     "text": [
      "{'loss': 0.843, 'learning_rate': 0.002844580140756496, 'epoch': 3.03}\n"
     ]
    },
    {
     "name": "stderr",
     "output_type": "stream",
     "text": [
      " 21%|██        | 1320/6270 [02:15<05:21, 15.41it/s]The following columns in the evaluation set  don't have a corresponding argument in `BertForSequenceClassification.forward` and have been ignored: text. If text are not expected by `BertForSequenceClassification.forward`,  you can safely ignore this message.\n",
      "***** Running Evaluation *****\n",
      "  Num examples = 1270\n",
      "  Batch size = 4\n",
      "\n",
      "  0%|          | 0/318 [00:00<?, ?it/s]\u001b[A\n",
      "  3%|▎         | 9/318 [00:00<00:03, 82.07it/s]\u001b[A\n",
      "  6%|▌         | 18/318 [00:00<00:03, 84.25it/s]\u001b[A\n",
      "  8%|▊         | 27/318 [00:00<00:03, 86.20it/s]\u001b[A\n",
      " 11%|█▏        | 36/318 [00:00<00:03, 87.40it/s]\u001b[A\n",
      " 14%|█▍        | 45/318 [00:00<00:03, 88.12it/s]\u001b[A\n",
      " 17%|█▋        | 54/318 [00:00<00:03, 87.98it/s]\u001b[A\n",
      " 20%|█▉        | 63/318 [00:00<00:02, 88.17it/s]\u001b[A\n",
      " 23%|██▎       | 72/318 [00:00<00:02, 88.30it/s]\u001b[A\n",
      " 25%|██▌       | 81/318 [00:00<00:02, 88.28it/s]\u001b[A\n",
      " 29%|██▊       | 91/318 [00:01<00:02, 89.18it/s]\u001b[A\n",
      " 31%|███▏      | 100/318 [00:01<00:02, 89.26it/s]\u001b[A\n",
      " 34%|███▍      | 109/318 [00:01<00:02, 89.09it/s]\u001b[A\n",
      " 37%|███▋      | 118/318 [00:01<00:02, 89.15it/s]\u001b[A\n",
      " 40%|███▉      | 127/318 [00:01<00:02, 89.02it/s]\u001b[A\n",
      " 43%|████▎     | 136/318 [00:01<00:02, 89.11it/s]\u001b[A\n",
      " 46%|████▌     | 145/318 [00:01<00:01, 89.18it/s]\u001b[A\n",
      " 48%|████▊     | 154/318 [00:01<00:01, 89.23it/s]\u001b[A\n",
      " 51%|█████▏    | 163/318 [00:01<00:01, 89.04it/s]\u001b[A\n",
      " 54%|█████▍    | 172/318 [00:01<00:01, 88.86it/s]\u001b[A\n",
      " 57%|█████▋    | 181/318 [00:02<00:01, 88.87it/s]\u001b[A\n",
      " 60%|█████▉    | 190/318 [00:02<00:01, 88.32it/s]\u001b[A\n",
      " 63%|██████▎   | 199/318 [00:02<00:01, 88.52it/s]\u001b[A\n",
      " 65%|██████▌   | 208/318 [00:02<00:01, 88.92it/s]\u001b[A\n",
      " 68%|██████▊   | 217/318 [00:02<00:01, 88.88it/s]\u001b[A\n",
      " 71%|███████   | 226/318 [00:02<00:01, 88.84it/s]\u001b[A\n",
      " 74%|███████▍  | 235/318 [00:02<00:00, 88.61it/s]\u001b[A\n",
      " 77%|███████▋  | 244/318 [00:02<00:00, 80.55it/s]\u001b[A\n",
      " 80%|███████▉  | 253/318 [00:02<00:00, 80.46it/s]\u001b[A\n",
      " 83%|████████▎ | 263/318 [00:03<00:00, 83.71it/s]\u001b[A\n",
      " 86%|████████▌ | 273/318 [00:03<00:00, 86.04it/s]\u001b[A\n",
      " 89%|████████▉ | 283/318 [00:03<00:00, 87.65it/s]\u001b[A\n",
      " 92%|█████████▏| 293/318 [00:03<00:00, 88.85it/s]\u001b[A\n",
      " 95%|█████████▍| 302/318 [00:03<00:00, 89.05it/s]\u001b[A\n",
      " 98%|█████████▊| 312/318 [00:03<00:00, 89.60it/s]\u001b[A/cm/shared/ebtree/software/Python/3.8.6-GCCcore-10.2.0/lib/python3.8/site-packages/sklearn/metrics/_classification.py:1248: UndefinedMetricWarning: Precision is ill-defined and being set to 0.0 in labels with no predicted samples. Use `zero_division` parameter to control this behavior.\n",
      "  _warn_prf(average, modifier, msg_start, len(result))\n",
      "\n",
      "                                                   \n",
      " 21%|██        | 1320/6270 [02:19<05:21, 15.41it/s]A\n",
      "                                                 \u001b[ASaving model checkpoint to ./Checkpoints/MarBertv2_hyperparams/run-6/checkpoint-1320\n",
      "Configuration saved in ./Checkpoints/MarBertv2_hyperparams/run-6/checkpoint-1320/config.json\n"
     ]
    },
    {
     "name": "stdout",
     "output_type": "stream",
     "text": [
      "{'eval_loss': 0.625984251499176, 'eval_f1': 0.4054307116104869, 'eval_recall': 0.5, 'eval_precision': 0.3409448818897638, 'eval_runtime': 3.6971, 'eval_samples_per_second': 343.509, 'eval_steps_per_second': 86.012, 'epoch': 4.0}\n"
     ]
    },
    {
     "name": "stderr",
     "output_type": "stream",
     "text": [
      "Model weights saved in ./Checkpoints/MarBertv2_hyperparams/run-6/checkpoint-1320/pytorch_model.bin\n",
      "tokenizer config file saved in ./Checkpoints/MarBertv2_hyperparams/run-6/checkpoint-1320/tokenizer_config.json\n",
      "Special tokens file saved in ./Checkpoints/MarBertv2_hyperparams/run-6/checkpoint-1320/special_tokens_map.json\n",
      " 24%|██▍       | 1503/6270 [02:40<05:20, 14.87it/s]  "
     ]
    },
    {
     "name": "stdout",
     "output_type": "stream",
     "text": [
      "{'loss': 0.8279, 'learning_rate': 0.002574695876927606, 'epoch': 4.55}\n"
     ]
    },
    {
     "name": "stderr",
     "output_type": "stream",
     "text": [
      " 26%|██▋       | 1649/6270 [02:51<04:42, 16.35it/s]The following columns in the evaluation set  don't have a corresponding argument in `BertForSequenceClassification.forward` and have been ignored: text. If text are not expected by `BertForSequenceClassification.forward`,  you can safely ignore this message.\n",
      "***** Running Evaluation *****\n",
      "  Num examples = 1270\n",
      "  Batch size = 4\n",
      "\n",
      "  0%|          | 0/318 [00:00<?, ?it/s]\u001b[A\n",
      "  3%|▎         | 11/318 [00:00<00:03, 100.04it/s]\u001b[A\n",
      "  7%|▋         | 22/318 [00:00<00:03, 93.78it/s] \u001b[A\n",
      " 10%|█         | 32/318 [00:00<00:03, 92.09it/s]\u001b[A\n",
      " 13%|█▎        | 42/318 [00:00<00:03, 91.27it/s]\u001b[A\n",
      " 16%|█▋        | 52/318 [00:00<00:02, 90.70it/s]\u001b[A\n",
      " 19%|█▉        | 62/318 [00:00<00:02, 90.38it/s]\u001b[A\n",
      " 23%|██▎       | 72/318 [00:00<00:02, 90.32it/s]\u001b[A\n",
      " 26%|██▌       | 82/318 [00:00<00:02, 90.67it/s]\u001b[A\n",
      " 29%|██▉       | 92/318 [00:01<00:02, 90.74it/s]\u001b[A\n",
      " 32%|███▏      | 102/318 [00:01<00:02, 82.80it/s]\u001b[A\n",
      " 35%|███▍      | 111/318 [00:01<00:02, 84.25it/s]\u001b[A\n",
      " 38%|███▊      | 120/318 [00:01<00:02, 85.50it/s]\u001b[A\n",
      " 41%|████      | 129/318 [00:01<00:02, 86.35it/s]\u001b[A\n",
      " 43%|████▎     | 138/318 [00:01<00:02, 87.03it/s]\u001b[A\n",
      " 46%|████▌     | 147/318 [00:01<00:01, 87.49it/s]\u001b[A\n",
      " 49%|████▉     | 156/318 [00:01<00:01, 87.73it/s]\u001b[A\n",
      " 52%|█████▏    | 165/318 [00:01<00:01, 88.27it/s]\u001b[A\n",
      " 55%|█████▍    | 174/318 [00:01<00:01, 84.75it/s]\u001b[A\n",
      " 58%|█████▊    | 183/318 [00:02<00:01, 86.05it/s]\u001b[A\n",
      " 60%|██████    | 192/318 [00:02<00:01, 86.83it/s]\u001b[A\n",
      " 63%|██████▎   | 201/318 [00:02<00:01, 87.34it/s]\u001b[A\n",
      " 66%|██████▌   | 210/318 [00:02<00:01, 87.80it/s]\u001b[A\n",
      " 69%|██████▉   | 219/318 [00:02<00:01, 88.07it/s]\u001b[A\n",
      " 72%|███████▏  | 228/318 [00:02<00:01, 88.08it/s]\u001b[A\n",
      " 75%|███████▍  | 237/318 [00:02<00:00, 88.32it/s]\u001b[A\n",
      " 77%|███████▋  | 246/318 [00:02<00:00, 88.35it/s]\u001b[A\n",
      " 80%|████████  | 255/318 [00:02<00:00, 88.64it/s]\u001b[A\n",
      " 83%|████████▎ | 264/318 [00:02<00:00, 89.02it/s]\u001b[A\n",
      " 86%|████████▌ | 273/318 [00:03<00:00, 89.18it/s]\u001b[A\n",
      " 89%|████████▉ | 283/318 [00:03<00:00, 89.70it/s]\u001b[A\n",
      " 92%|█████████▏| 293/318 [00:03<00:00, 89.87it/s]\u001b[A\n",
      " 95%|█████████▍| 302/318 [00:03<00:00, 89.24it/s]\u001b[A\n",
      " 98%|█████████▊| 311/318 [00:03<00:00, 89.12it/s]\u001b[A/cm/shared/ebtree/software/Python/3.8.6-GCCcore-10.2.0/lib/python3.8/site-packages/sklearn/metrics/_classification.py:1248: UndefinedMetricWarning: Precision is ill-defined and being set to 0.0 in labels with no predicted samples. Use `zero_division` parameter to control this behavior.\n",
      "  _warn_prf(average, modifier, msg_start, len(result))\n",
      "\n",
      "                                                   \n",
      " 26%|██▋       | 1650/6270 [02:55<04:42, 16.35it/s]A\n",
      "                                                 \u001b[ASaving model checkpoint to ./Checkpoints/MarBertv2_hyperparams/run-6/checkpoint-1650\n",
      "Configuration saved in ./Checkpoints/MarBertv2_hyperparams/run-6/checkpoint-1650/config.json\n"
     ]
    },
    {
     "name": "stdout",
     "output_type": "stream",
     "text": [
      "{'eval_loss': 0.7927525639533997, 'eval_f1': 0.4054307116104869, 'eval_recall': 0.5, 'eval_precision': 0.3409448818897638, 'eval_runtime': 3.6803, 'eval_samples_per_second': 345.083, 'eval_steps_per_second': 86.407, 'epoch': 5.0}\n"
     ]
    },
    {
     "name": "stderr",
     "output_type": "stream",
     "text": [
      "Model weights saved in ./Checkpoints/MarBertv2_hyperparams/run-6/checkpoint-1650/pytorch_model.bin\n",
      "tokenizer config file saved in ./Checkpoints/MarBertv2_hyperparams/run-6/checkpoint-1650/tokenizer_config.json\n",
      "Special tokens file saved in ./Checkpoints/MarBertv2_hyperparams/run-6/checkpoint-1650/special_tokens_map.json\n",
      " 32%|███▏      | 1980/6270 [03:28<04:25, 16.13it/s]  The following columns in the evaluation set  don't have a corresponding argument in `BertForSequenceClassification.forward` and have been ignored: text. If text are not expected by `BertForSequenceClassification.forward`,  you can safely ignore this message.\n",
      "***** Running Evaluation *****\n",
      "  Num examples = 1270\n",
      "  Batch size = 4\n",
      "\n",
      "  0%|          | 0/318 [00:00<?, ?it/s]\u001b[A\n",
      "  3%|▎         | 10/318 [00:00<00:03, 98.59it/s]\u001b[A\n",
      "  6%|▋         | 20/318 [00:00<00:03, 91.72it/s]\u001b[A\n",
      "  9%|▉         | 30/318 [00:00<00:03, 90.08it/s]\u001b[A\n",
      " 13%|█▎        | 40/318 [00:00<00:03, 89.47it/s]\u001b[A\n",
      " 15%|█▌        | 49/318 [00:00<00:03, 89.39it/s]\u001b[A\n",
      " 18%|█▊        | 58/318 [00:00<00:03, 85.51it/s]\u001b[A\n",
      " 21%|██        | 67/318 [00:00<00:03, 83.41it/s]\u001b[A\n",
      " 24%|██▍       | 76/318 [00:00<00:02, 84.94it/s]\u001b[A\n",
      " 27%|██▋       | 85/318 [00:00<00:02, 86.23it/s]\u001b[A\n",
      " 30%|██▉       | 94/318 [00:01<00:02, 83.98it/s]\u001b[A\n",
      " 32%|███▏      | 103/318 [00:01<00:02, 85.03it/s]\u001b[A\n",
      " 35%|███▌      | 112/318 [00:01<00:02, 85.83it/s]\u001b[A\n",
      " 38%|███▊      | 121/318 [00:01<00:02, 85.75it/s]\u001b[A\n",
      " 41%|████      | 130/318 [00:01<00:02, 86.80it/s]\u001b[A\n",
      " 44%|████▍     | 140/318 [00:01<00:02, 87.80it/s]\u001b[A\n",
      " 47%|████▋     | 149/318 [00:01<00:01, 86.91it/s]\u001b[A\n",
      " 50%|████▉     | 158/318 [00:01<00:01, 87.10it/s]\u001b[A\n",
      " 53%|█████▎    | 167/318 [00:01<00:01, 86.05it/s]\u001b[A\n",
      " 55%|█████▌    | 176/318 [00:02<00:01, 86.64it/s]\u001b[A\n",
      " 58%|█████▊    | 185/318 [00:02<00:01, 87.24it/s]\u001b[A\n",
      " 61%|██████    | 194/318 [00:02<00:01, 87.51it/s]\u001b[A\n",
      " 64%|██████▍   | 203/318 [00:02<00:01, 87.83it/s]\u001b[A\n",
      " 67%|██████▋   | 212/318 [00:02<00:01, 87.98it/s]\u001b[A\n",
      " 69%|██████▉   | 221/318 [00:02<00:01, 88.12it/s]\u001b[A\n",
      " 72%|███████▏  | 230/318 [00:02<00:01, 86.51it/s]\u001b[A\n",
      " 75%|███████▌  | 239/318 [00:02<00:00, 87.07it/s]\u001b[A\n",
      " 78%|███████▊  | 248/318 [00:02<00:00, 87.36it/s]\u001b[A\n",
      " 81%|████████  | 257/318 [00:02<00:00, 87.75it/s]\u001b[A\n",
      " 84%|████████▎ | 266/318 [00:03<00:00, 84.27it/s]\u001b[A\n",
      " 86%|████████▋ | 275/318 [00:03<00:00, 85.41it/s]\u001b[A\n",
      " 89%|████████▉ | 284/318 [00:03<00:00, 85.66it/s]\u001b[A\n",
      " 92%|█████████▏| 293/318 [00:03<00:00, 86.21it/s]\u001b[A\n",
      " 95%|█████████▍| 302/318 [00:03<00:00, 86.81it/s]\u001b[A\n",
      " 98%|█████████▊| 311/318 [00:03<00:00, 87.10it/s]\u001b[A/cm/shared/ebtree/software/Python/3.8.6-GCCcore-10.2.0/lib/python3.8/site-packages/sklearn/metrics/_classification.py:1248: UndefinedMetricWarning: Precision is ill-defined and being set to 0.0 in labels with no predicted samples. Use `zero_division` parameter to control this behavior.\n",
      "  _warn_prf(average, modifier, msg_start, len(result))\n",
      "\n",
      "                                                   \n",
      " 32%|███▏      | 1980/6270 [03:32<04:25, 16.13it/s]A\n",
      "                                                 \u001b[ASaving model checkpoint to ./Checkpoints/MarBertv2_hyperparams/run-6/checkpoint-1980\n",
      "Configuration saved in ./Checkpoints/MarBertv2_hyperparams/run-6/checkpoint-1980/config.json\n"
     ]
    },
    {
     "name": "stdout",
     "output_type": "stream",
     "text": [
      "{'eval_loss': 0.7333099842071533, 'eval_f1': 0.4054307116104869, 'eval_recall': 0.5, 'eval_precision': 0.3409448818897638, 'eval_runtime': 3.7325, 'eval_samples_per_second': 340.256, 'eval_steps_per_second': 85.198, 'epoch': 6.0}\n"
     ]
    },
    {
     "name": "stderr",
     "output_type": "stream",
     "text": [
      "Model weights saved in ./Checkpoints/MarBertv2_hyperparams/run-6/checkpoint-1980/pytorch_model.bin\n",
      "tokenizer config file saved in ./Checkpoints/MarBertv2_hyperparams/run-6/checkpoint-1980/tokenizer_config.json\n",
      "Special tokens file saved in ./Checkpoints/MarBertv2_hyperparams/run-6/checkpoint-1980/special_tokens_map.json\n",
      " 32%|███▏      | 2001/6270 [03:41<08:55,  7.97it/s]  "
     ]
    },
    {
     "name": "stdout",
     "output_type": "stream",
     "text": [
      "{'loss': 0.7971, 'learning_rate': 0.002304811613098717, 'epoch': 6.06}\n"
     ]
    },
    {
     "name": "stderr",
     "output_type": "stream",
     "text": [
      " 37%|███▋      | 2309/6270 [04:04<04:36, 14.31it/s]The following columns in the evaluation set  don't have a corresponding argument in `BertForSequenceClassification.forward` and have been ignored: text. If text are not expected by `BertForSequenceClassification.forward`,  you can safely ignore this message.\n",
      "***** Running Evaluation *****\n",
      "  Num examples = 1270\n",
      "  Batch size = 4\n",
      "\n",
      "  0%|          | 0/318 [00:00<?, ?it/s]\u001b[A\n",
      "  3%|▎         | 10/318 [00:00<00:03, 99.65it/s]\u001b[A\n",
      "  6%|▋         | 20/318 [00:00<00:03, 92.98it/s]\u001b[A\n",
      "  9%|▉         | 30/318 [00:00<00:03, 90.73it/s]\u001b[A\n",
      " 13%|█▎        | 40/318 [00:00<00:03, 88.21it/s]\u001b[A\n",
      " 15%|█▌        | 49/318 [00:00<00:03, 88.42it/s]\u001b[A\n",
      " 18%|█▊        | 58/318 [00:00<00:02, 88.75it/s]\u001b[A\n",
      " 21%|██        | 67/318 [00:00<00:02, 88.95it/s]\u001b[A\n",
      " 24%|██▍       | 76/318 [00:00<00:02, 88.70it/s]\u001b[A\n",
      " 27%|██▋       | 85/318 [00:00<00:02, 88.64it/s]\u001b[A\n",
      " 30%|██▉       | 94/318 [00:01<00:02, 88.85it/s]\u001b[A\n",
      " 33%|███▎      | 104/318 [00:01<00:02, 89.66it/s]\u001b[A\n",
      " 36%|███▌      | 113/318 [00:01<00:02, 89.24it/s]\u001b[A\n",
      " 39%|███▊      | 123/318 [00:01<00:02, 89.62it/s]\u001b[A\n",
      " 42%|████▏     | 132/318 [00:01<00:02, 88.69it/s]\u001b[A\n",
      " 44%|████▍     | 141/318 [00:01<00:01, 88.98it/s]\u001b[A\n",
      " 47%|████▋     | 150/318 [00:01<00:01, 88.14it/s]\u001b[A\n",
      " 50%|█████     | 159/318 [00:01<00:01, 88.38it/s]\u001b[A\n",
      " 53%|█████▎    | 168/318 [00:01<00:01, 88.54it/s]\u001b[A\n",
      " 56%|█████▌    | 177/318 [00:01<00:01, 88.60it/s]\u001b[A\n",
      " 58%|█████▊    | 186/318 [00:02<00:01, 88.65it/s]\u001b[A\n",
      " 61%|██████▏   | 195/318 [00:02<00:01, 87.47it/s]\u001b[A\n",
      " 64%|██████▍   | 204/318 [00:02<00:01, 87.67it/s]\u001b[A\n",
      " 67%|██████▋   | 213/318 [00:02<00:01, 88.07it/s]\u001b[A\n",
      " 70%|██████▉   | 222/318 [00:02<00:01, 88.33it/s]\u001b[A\n",
      " 73%|███████▎  | 231/318 [00:02<00:00, 88.81it/s]\u001b[A\n",
      " 76%|███████▌  | 241/318 [00:02<00:00, 89.61it/s]\u001b[A\n",
      " 79%|███████▊  | 250/318 [00:02<00:00, 89.60it/s]\u001b[A\n",
      " 81%|████████▏ | 259/318 [00:02<00:00, 89.26it/s]\u001b[A\n",
      " 84%|████████▍ | 268/318 [00:03<00:00, 89.10it/s]\u001b[A\n",
      " 87%|████████▋ | 277/318 [00:03<00:00, 89.14it/s]\u001b[A\n",
      " 90%|█████████ | 287/318 [00:03<00:00, 89.60it/s]\u001b[A\n",
      " 93%|█████████▎| 296/318 [00:03<00:00, 89.64it/s]\u001b[A\n",
      " 96%|█████████▌| 306/318 [00:03<00:00, 89.79it/s]\u001b[A\n",
      " 99%|█████████▉| 315/318 [00:03<00:00, 89.57it/s]\u001b[A/cm/shared/ebtree/software/Python/3.8.6-GCCcore-10.2.0/lib/python3.8/site-packages/sklearn/metrics/_classification.py:1248: UndefinedMetricWarning: Precision is ill-defined and being set to 0.0 in labels with no predicted samples. Use `zero_division` parameter to control this behavior.\n",
      "  _warn_prf(average, modifier, msg_start, len(result))\n",
      "\n",
      "                                                   \n",
      " 37%|███▋      | 2310/6270 [04:08<04:36, 14.31it/s]A\n",
      "                                                 \u001b[ASaving model checkpoint to ./Checkpoints/MarBertv2_hyperparams/run-6/checkpoint-2310\n",
      "Configuration saved in ./Checkpoints/MarBertv2_hyperparams/run-6/checkpoint-2310/config.json\n"
     ]
    },
    {
     "name": "stdout",
     "output_type": "stream",
     "text": [
      "{'eval_loss': 0.9379228949546814, 'eval_f1': 0.4054307116104869, 'eval_recall': 0.5, 'eval_precision': 0.3409448818897638, 'eval_runtime': 3.6415, 'eval_samples_per_second': 348.762, 'eval_steps_per_second': 87.328, 'epoch': 7.0}\n"
     ]
    },
    {
     "name": "stderr",
     "output_type": "stream",
     "text": [
      "Model weights saved in ./Checkpoints/MarBertv2_hyperparams/run-6/checkpoint-2310/pytorch_model.bin\n",
      "tokenizer config file saved in ./Checkpoints/MarBertv2_hyperparams/run-6/checkpoint-2310/tokenizer_config.json\n",
      "Special tokens file saved in ./Checkpoints/MarBertv2_hyperparams/run-6/checkpoint-2310/special_tokens_map.json\n",
      " 40%|███▉      | 2502/6270 [04:30<04:08, 15.18it/s]  "
     ]
    },
    {
     "name": "stdout",
     "output_type": "stream",
     "text": [
      "{'loss': 0.8203, 'learning_rate': 0.002034927349269827, 'epoch': 7.58}\n"
     ]
    },
    {
     "name": "stderr",
     "output_type": "stream",
     "text": [
      " 42%|████▏     | 2640/6270 [04:41<03:39, 16.55it/s]The following columns in the evaluation set  don't have a corresponding argument in `BertForSequenceClassification.forward` and have been ignored: text. If text are not expected by `BertForSequenceClassification.forward`,  you can safely ignore this message.\n",
      "***** Running Evaluation *****\n",
      "  Num examples = 1270\n",
      "  Batch size = 4\n",
      "\n",
      "  0%|          | 0/318 [00:00<?, ?it/s]\u001b[A\n",
      "  3%|▎         | 9/318 [00:00<00:03, 88.27it/s]\u001b[A\n",
      "  6%|▌         | 18/318 [00:00<00:03, 87.38it/s]\u001b[A\n",
      "  9%|▉         | 28/318 [00:00<00:03, 89.00it/s]\u001b[A\n",
      " 12%|█▏        | 37/318 [00:00<00:03, 89.04it/s]\u001b[A\n",
      " 14%|█▍        | 46/318 [00:00<00:03, 88.67it/s]\u001b[A\n",
      " 17%|█▋        | 55/318 [00:00<00:02, 88.43it/s]\u001b[A\n",
      " 20%|██        | 64/318 [00:00<00:02, 88.43it/s]\u001b[A\n",
      " 23%|██▎       | 73/318 [00:00<00:02, 88.16it/s]\u001b[A\n",
      " 26%|██▌       | 82/318 [00:00<00:02, 88.16it/s]\u001b[A\n",
      " 29%|██▊       | 91/318 [00:01<00:02, 88.23it/s]\u001b[A\n",
      " 31%|███▏      | 100/318 [00:01<00:02, 88.45it/s]\u001b[A\n",
      " 34%|███▍      | 109/318 [00:01<00:02, 88.35it/s]\u001b[A\n",
      " 37%|███▋      | 118/318 [00:01<00:02, 88.15it/s]\u001b[A\n",
      " 40%|███▉      | 127/318 [00:01<00:02, 88.53it/s]\u001b[A\n",
      " 43%|████▎     | 136/318 [00:01<00:02, 88.61it/s]\u001b[A\n",
      " 46%|████▌     | 145/318 [00:01<00:01, 88.61it/s]\u001b[A\n",
      " 48%|████▊     | 154/318 [00:01<00:01, 88.47it/s]\u001b[A\n",
      " 51%|█████▏    | 163/318 [00:01<00:01, 88.52it/s]\u001b[A\n",
      " 54%|█████▍    | 172/318 [00:01<00:01, 87.15it/s]\u001b[A\n",
      " 57%|█████▋    | 181/318 [00:02<00:01, 87.62it/s]\u001b[A\n",
      " 60%|█████▉    | 190/318 [00:02<00:01, 88.03it/s]\u001b[A\n",
      " 63%|██████▎   | 199/318 [00:02<00:01, 88.16it/s]\u001b[A\n",
      " 65%|██████▌   | 208/318 [00:02<00:01, 88.31it/s]\u001b[A\n",
      " 68%|██████▊   | 217/318 [00:02<00:01, 88.50it/s]\u001b[A\n",
      " 71%|███████▏  | 227/318 [00:02<00:01, 89.46it/s]\u001b[A\n",
      " 74%|███████▍  | 236/318 [00:02<00:00, 89.23it/s]\u001b[A\n",
      " 77%|███████▋  | 245/318 [00:02<00:00, 89.12it/s]\u001b[A\n",
      " 80%|████████  | 255/318 [00:02<00:00, 89.81it/s]\u001b[A\n",
      " 83%|████████▎ | 264/318 [00:02<00:00, 89.20it/s]\u001b[A\n",
      " 86%|████████▌ | 273/318 [00:03<00:00, 89.28it/s]\u001b[A\n",
      " 89%|████████▊ | 282/318 [00:03<00:00, 89.42it/s]\u001b[A\n",
      " 92%|█████████▏| 291/318 [00:03<00:00, 89.55it/s]\u001b[A\n",
      " 94%|█████████▍| 300/318 [00:03<00:00, 88.93it/s]\u001b[A\n",
      " 97%|█████████▋| 309/318 [00:03<00:00, 88.91it/s]\u001b[A\n",
      "100%|██████████| 318/318 [00:03<00:00, 89.06it/s]\u001b[A/cm/shared/ebtree/software/Python/3.8.6-GCCcore-10.2.0/lib/python3.8/site-packages/sklearn/metrics/_classification.py:1248: UndefinedMetricWarning: Precision is ill-defined and being set to 0.0 in labels with no predicted samples. Use `zero_division` parameter to control this behavior.\n",
      "  _warn_prf(average, modifier, msg_start, len(result))\n",
      "\n",
      "                                                   \n",
      " 42%|████▏     | 2640/6270 [04:45<03:39, 16.55it/s]A\n",
      "                                                 \u001b[ASaving model checkpoint to ./Checkpoints/MarBertv2_hyperparams/run-6/checkpoint-2640\n",
      "Configuration saved in ./Checkpoints/MarBertv2_hyperparams/run-6/checkpoint-2640/config.json\n"
     ]
    },
    {
     "name": "stdout",
     "output_type": "stream",
     "text": [
      "{'eval_loss': 0.9575179815292358, 'eval_f1': 0.4054307116104869, 'eval_recall': 0.5, 'eval_precision': 0.3409448818897638, 'eval_runtime': 3.6607, 'eval_samples_per_second': 346.932, 'eval_steps_per_second': 86.87, 'epoch': 8.0}\n"
     ]
    },
    {
     "name": "stderr",
     "output_type": "stream",
     "text": [
      "Model weights saved in ./Checkpoints/MarBertv2_hyperparams/run-6/checkpoint-2640/pytorch_model.bin\n",
      "tokenizer config file saved in ./Checkpoints/MarBertv2_hyperparams/run-6/checkpoint-2640/tokenizer_config.json\n",
      "Special tokens file saved in ./Checkpoints/MarBertv2_hyperparams/run-6/checkpoint-2640/special_tokens_map.json\n",
      " 47%|████▋     | 2969/6270 [05:17<03:24, 16.17it/s]  The following columns in the evaluation set  don't have a corresponding argument in `BertForSequenceClassification.forward` and have been ignored: text. If text are not expected by `BertForSequenceClassification.forward`,  you can safely ignore this message.\n",
      "***** Running Evaluation *****\n",
      "  Num examples = 1270\n",
      "  Batch size = 4\n",
      "\n",
      "  0%|          | 0/318 [00:00<?, ?it/s]\u001b[A\n",
      "  3%|▎         | 10/318 [00:00<00:03, 99.35it/s]\u001b[A\n",
      "  6%|▋         | 20/318 [00:00<00:03, 91.90it/s]\u001b[A\n",
      "  9%|▉         | 30/318 [00:00<00:03, 86.76it/s]\u001b[A\n",
      " 12%|█▏        | 39/318 [00:00<00:03, 86.82it/s]\u001b[A\n",
      " 15%|█▌        | 48/318 [00:00<00:03, 87.57it/s]\u001b[A\n",
      " 18%|█▊        | 57/318 [00:00<00:02, 87.41it/s]\u001b[A\n",
      " 21%|██        | 66/318 [00:00<00:02, 87.97it/s]\u001b[A\n",
      " 24%|██▎       | 75/318 [00:00<00:02, 86.05it/s]\u001b[A\n",
      " 26%|██▋       | 84/318 [00:00<00:02, 85.78it/s]\u001b[A\n",
      " 29%|██▉       | 93/318 [00:01<00:02, 87.00it/s]\u001b[A\n",
      " 32%|███▏      | 102/318 [00:01<00:02, 87.67it/s]\u001b[A\n",
      " 35%|███▍      | 111/318 [00:01<00:02, 88.14it/s]\u001b[A\n",
      " 38%|███▊      | 120/318 [00:01<00:02, 88.04it/s]\u001b[A\n",
      " 41%|████      | 129/318 [00:01<00:02, 88.18it/s]\u001b[A\n",
      " 43%|████▎     | 138/318 [00:01<00:02, 88.60it/s]\u001b[A\n",
      " 46%|████▌     | 147/318 [00:01<00:02, 81.92it/s]\u001b[A\n",
      " 49%|████▉     | 156/318 [00:01<00:02, 78.97it/s]\u001b[A\n",
      " 52%|█████▏    | 164/318 [00:01<00:01, 77.24it/s]\u001b[A\n",
      " 54%|█████▍    | 172/318 [00:02<00:01, 76.23it/s]\u001b[A\n",
      " 57%|█████▋    | 181/318 [00:02<00:01, 79.12it/s]\u001b[A\n",
      " 60%|█████▉    | 190/318 [00:02<00:01, 81.89it/s]\u001b[A\n",
      " 63%|██████▎   | 199/318 [00:02<00:01, 84.03it/s]\u001b[A\n",
      " 65%|██████▌   | 208/318 [00:02<00:01, 85.63it/s]\u001b[A\n",
      " 68%|██████▊   | 217/318 [00:02<00:01, 86.64it/s]\u001b[A\n",
      " 71%|███████   | 226/318 [00:02<00:01, 87.56it/s]\u001b[A\n",
      " 74%|███████▍  | 235/318 [00:02<00:00, 88.25it/s]\u001b[A\n",
      " 77%|███████▋  | 244/318 [00:02<00:00, 87.97it/s]\u001b[A\n",
      " 80%|███████▉  | 253/318 [00:02<00:00, 88.39it/s]\u001b[A\n",
      " 83%|████████▎ | 263/318 [00:03<00:00, 89.41it/s]\u001b[A\n",
      " 86%|████████▌ | 273/318 [00:03<00:00, 89.76it/s]\u001b[A\n",
      " 89%|████████▊ | 282/318 [00:03<00:00, 89.29it/s]\u001b[A\n",
      " 92%|█████████▏| 291/318 [00:03<00:00, 89.02it/s]\u001b[A\n",
      " 94%|█████████▍| 300/318 [00:03<00:00, 88.92it/s]\u001b[A\n",
      " 97%|█████████▋| 309/318 [00:03<00:00, 88.92it/s]\u001b[A/cm/shared/ebtree/software/Python/3.8.6-GCCcore-10.2.0/lib/python3.8/site-packages/sklearn/metrics/_classification.py:1248: UndefinedMetricWarning: Precision is ill-defined and being set to 0.0 in labels with no predicted samples. Use `zero_division` parameter to control this behavior.\n",
      "  _warn_prf(average, modifier, msg_start, len(result))\n",
      "\n",
      "                                                   \n",
      " 47%|████▋     | 2970/6270 [05:21<03:24, 16.17it/s]A\n",
      "                                                 \u001b[ASaving model checkpoint to ./Checkpoints/MarBertv2_hyperparams/run-6/checkpoint-2970\n",
      "Configuration saved in ./Checkpoints/MarBertv2_hyperparams/run-6/checkpoint-2970/config.json\n"
     ]
    },
    {
     "name": "stdout",
     "output_type": "stream",
     "text": [
      "{'eval_loss': 0.7306711077690125, 'eval_f1': 0.4054307116104869, 'eval_recall': 0.5, 'eval_precision': 0.3409448818897638, 'eval_runtime': 3.7616, 'eval_samples_per_second': 337.62, 'eval_steps_per_second': 84.538, 'epoch': 9.0}\n"
     ]
    },
    {
     "name": "stderr",
     "output_type": "stream",
     "text": [
      "Model weights saved in ./Checkpoints/MarBertv2_hyperparams/run-6/checkpoint-2970/pytorch_model.bin\n",
      "tokenizer config file saved in ./Checkpoints/MarBertv2_hyperparams/run-6/checkpoint-2970/tokenizer_config.json\n",
      "Special tokens file saved in ./Checkpoints/MarBertv2_hyperparams/run-6/checkpoint-2970/special_tokens_map.json\n",
      " 48%|████▊     | 3002/6270 [05:31<04:12, 12.96it/s]  "
     ]
    },
    {
     "name": "stdout",
     "output_type": "stream",
     "text": [
      "{'loss': 0.8034, 'learning_rate': 0.0017650430854409375, 'epoch': 9.09}\n"
     ]
    },
    {
     "name": "stderr",
     "output_type": "stream",
     "text": [
      " 53%|█████▎    | 3300/6270 [05:54<02:55, 16.88it/s]The following columns in the evaluation set  don't have a corresponding argument in `BertForSequenceClassification.forward` and have been ignored: text. If text are not expected by `BertForSequenceClassification.forward`,  you can safely ignore this message.\n",
      "***** Running Evaluation *****\n",
      "  Num examples = 1270\n",
      "  Batch size = 4\n",
      "\n",
      "  0%|          | 0/318 [00:00<?, ?it/s]\u001b[A\n",
      "  3%|▎         | 11/318 [00:00<00:03, 99.46it/s]\u001b[A\n",
      "  7%|▋         | 21/318 [00:00<00:03, 93.87it/s]\u001b[A\n",
      " 10%|▉         | 31/318 [00:00<00:03, 91.76it/s]\u001b[A\n",
      " 13%|█▎        | 41/318 [00:00<00:03, 91.01it/s]\u001b[A\n",
      " 16%|█▌        | 51/318 [00:00<00:02, 90.57it/s]\u001b[A\n",
      " 19%|█▉        | 61/318 [00:00<00:02, 90.17it/s]\u001b[A\n",
      " 22%|██▏       | 71/318 [00:00<00:02, 89.81it/s]\u001b[A\n",
      " 25%|██▌       | 80/318 [00:00<00:03, 75.84it/s]\u001b[A\n",
      " 28%|██▊       | 89/318 [00:01<00:02, 78.78it/s]\u001b[A\n",
      " 31%|███       | 98/318 [00:01<00:02, 81.72it/s]\u001b[A\n",
      " 34%|███▎      | 107/318 [00:01<00:02, 83.78it/s]\u001b[A\n",
      " 36%|███▋      | 116/318 [00:01<00:02, 84.89it/s]\u001b[A\n",
      " 39%|███▉      | 125/318 [00:01<00:02, 86.07it/s]\u001b[A\n",
      " 42%|████▏     | 134/318 [00:01<00:02, 86.69it/s]\u001b[A\n",
      " 45%|████▍     | 143/318 [00:01<00:02, 87.32it/s]\u001b[A\n",
      " 48%|████▊     | 152/318 [00:01<00:01, 87.37it/s]\u001b[A\n",
      " 51%|█████     | 161/318 [00:01<00:01, 87.77it/s]\u001b[A\n",
      " 53%|█████▎    | 170/318 [00:01<00:01, 87.42it/s]\u001b[A\n",
      " 56%|█████▋    | 179/318 [00:02<00:01, 87.77it/s]\u001b[A\n",
      " 59%|█████▉    | 188/318 [00:02<00:01, 88.40it/s]\u001b[A\n",
      " 62%|██████▏   | 197/318 [00:02<00:01, 88.54it/s]\u001b[A\n",
      " 65%|██████▌   | 207/318 [00:02<00:01, 89.29it/s]\u001b[A\n",
      " 68%|██████▊   | 216/318 [00:02<00:01, 89.21it/s]\u001b[A\n",
      " 71%|███████   | 225/318 [00:02<00:01, 88.98it/s]\u001b[A\n",
      " 74%|███████▎  | 234/318 [00:02<00:00, 88.95it/s]\u001b[A\n",
      " 76%|███████▋  | 243/318 [00:02<00:00, 89.04it/s]\u001b[A\n",
      " 79%|███████▉  | 252/318 [00:02<00:00, 89.03it/s]\u001b[A\n",
      " 82%|████████▏ | 262/318 [00:02<00:00, 89.50it/s]\u001b[A\n",
      " 85%|████████▌ | 271/318 [00:03<00:00, 89.55it/s]\u001b[A\n",
      " 88%|████████▊ | 280/318 [00:03<00:00, 89.51it/s]\u001b[A\n",
      " 91%|█████████ | 290/318 [00:03<00:00, 89.73it/s]\u001b[A\n",
      " 94%|█████████▍| 299/318 [00:03<00:00, 89.76it/s]\u001b[A\n",
      " 97%|█████████▋| 308/318 [00:03<00:00, 89.71it/s]\u001b[A\n",
      "100%|██████████| 318/318 [00:03<00:00, 89.82it/s]\u001b[A/cm/shared/ebtree/software/Python/3.8.6-GCCcore-10.2.0/lib/python3.8/site-packages/sklearn/metrics/_classification.py:1248: UndefinedMetricWarning: Precision is ill-defined and being set to 0.0 in labels with no predicted samples. Use `zero_division` parameter to control this behavior.\n",
      "  _warn_prf(average, modifier, msg_start, len(result))\n",
      "\n",
      "                                                   \n",
      " 53%|█████▎    | 3300/6270 [05:57<02:55, 16.88it/s]A\n",
      "                                                 \u001b[ASaving model checkpoint to ./Checkpoints/MarBertv2_hyperparams/run-6/checkpoint-3300\n",
      "Configuration saved in ./Checkpoints/MarBertv2_hyperparams/run-6/checkpoint-3300/config.json\n"
     ]
    },
    {
     "name": "stdout",
     "output_type": "stream",
     "text": [
      "{'eval_loss': 0.8137564659118652, 'eval_f1': 0.4054307116104869, 'eval_recall': 0.5, 'eval_precision': 0.3409448818897638, 'eval_runtime': 3.691, 'eval_samples_per_second': 344.079, 'eval_steps_per_second': 86.155, 'epoch': 10.0}\n"
     ]
    },
    {
     "name": "stderr",
     "output_type": "stream",
     "text": [
      "Model weights saved in ./Checkpoints/MarBertv2_hyperparams/run-6/checkpoint-3300/pytorch_model.bin\n",
      "tokenizer config file saved in ./Checkpoints/MarBertv2_hyperparams/run-6/checkpoint-3300/tokenizer_config.json\n",
      "Special tokens file saved in ./Checkpoints/MarBertv2_hyperparams/run-6/checkpoint-3300/special_tokens_map.json\n",
      " 56%|█████▌    | 3501/6270 [06:20<03:31, 13.08it/s]  "
     ]
    },
    {
     "name": "stdout",
     "output_type": "stream",
     "text": [
      "{'loss': 0.7482, 'learning_rate': 0.0014951588216120483, 'epoch': 10.61}\n"
     ]
    },
    {
     "name": "stderr",
     "output_type": "stream",
     "text": [
      " 58%|█████▊    | 3629/6270 [06:30<02:38, 16.68it/s]The following columns in the evaluation set  don't have a corresponding argument in `BertForSequenceClassification.forward` and have been ignored: text. If text are not expected by `BertForSequenceClassification.forward`,  you can safely ignore this message.\n",
      "***** Running Evaluation *****\n",
      "  Num examples = 1270\n",
      "  Batch size = 4\n",
      "\n",
      "  0%|          | 0/318 [00:00<?, ?it/s]\u001b[A\n",
      "  3%|▎         | 11/318 [00:00<00:03, 99.42it/s]\u001b[A\n",
      "  7%|▋         | 21/318 [00:00<00:03, 89.82it/s]\u001b[A\n",
      " 10%|▉         | 31/318 [00:00<00:03, 89.42it/s]\u001b[A\n",
      " 13%|█▎        | 40/318 [00:00<00:03, 89.30it/s]\u001b[A\n",
      " 15%|█▌        | 49/318 [00:00<00:03, 89.22it/s]\u001b[A\n",
      " 18%|█▊        | 58/318 [00:00<00:02, 89.19it/s]\u001b[A\n",
      " 21%|██        | 67/318 [00:00<00:02, 89.19it/s]\u001b[A\n",
      " 24%|██▍       | 76/318 [00:00<00:02, 88.95it/s]\u001b[A\n",
      " 27%|██▋       | 85/318 [00:00<00:02, 89.09it/s]\u001b[A\n",
      " 30%|██▉       | 94/318 [00:01<00:02, 89.14it/s]\u001b[A\n",
      " 33%|███▎      | 104/318 [00:01<00:02, 89.62it/s]\u001b[A\n",
      " 36%|███▌      | 113/318 [00:01<00:02, 89.17it/s]\u001b[A\n",
      " 38%|███▊      | 122/318 [00:01<00:02, 89.38it/s]\u001b[A\n",
      " 41%|████      | 131/318 [00:01<00:02, 88.92it/s]\u001b[A\n",
      " 44%|████▍     | 140/318 [00:01<00:02, 88.90it/s]\u001b[A\n",
      " 47%|████▋     | 149/318 [00:01<00:01, 88.69it/s]\u001b[A\n",
      " 50%|████▉     | 158/318 [00:01<00:01, 88.94it/s]\u001b[A\n",
      " 53%|█████▎    | 167/318 [00:01<00:01, 88.92it/s]\u001b[A\n",
      " 55%|█████▌    | 176/318 [00:01<00:01, 88.93it/s]\u001b[A\n",
      " 58%|█████▊    | 185/318 [00:02<00:01, 88.33it/s]\u001b[A\n",
      " 61%|██████    | 194/318 [00:02<00:01, 88.43it/s]\u001b[A\n",
      " 64%|██████▍   | 203/318 [00:02<00:01, 88.54it/s]\u001b[A\n",
      " 67%|██████▋   | 212/318 [00:02<00:01, 88.60it/s]\u001b[A\n",
      " 69%|██████▉   | 221/318 [00:02<00:01, 88.67it/s]\u001b[A\n",
      " 72%|███████▏  | 230/318 [00:02<00:00, 88.46it/s]\u001b[A\n",
      " 75%|███████▌  | 239/318 [00:02<00:00, 88.53it/s]\u001b[A\n",
      " 78%|███████▊  | 248/318 [00:02<00:00, 88.58it/s]\u001b[A\n",
      " 81%|████████  | 257/318 [00:02<00:00, 87.33it/s]\u001b[A\n",
      " 84%|████████▎ | 266/318 [00:02<00:00, 87.58it/s]\u001b[A\n",
      " 87%|████████▋ | 276/318 [00:03<00:00, 88.62it/s]\u001b[A\n",
      " 90%|████████▉ | 285/318 [00:03<00:00, 88.73it/s]\u001b[A\n",
      " 92%|█████████▏| 294/318 [00:03<00:00, 88.84it/s]\u001b[A\n",
      " 95%|█████████▌| 303/318 [00:03<00:00, 88.68it/s]\u001b[A\n",
      " 98%|█████████▊| 312/318 [00:03<00:00, 88.57it/s]\u001b[A/cm/shared/ebtree/software/Python/3.8.6-GCCcore-10.2.0/lib/python3.8/site-packages/sklearn/metrics/_classification.py:1248: UndefinedMetricWarning: Precision is ill-defined and being set to 0.0 in labels with no predicted samples. Use `zero_division` parameter to control this behavior.\n",
      "  _warn_prf(average, modifier, msg_start, len(result))\n",
      "\n",
      "                                                   \n",
      " 58%|█████▊    | 3630/6270 [06:33<02:38, 16.68it/s]A\n",
      "                                                 \u001b[ASaving model checkpoint to ./Checkpoints/MarBertv2_hyperparams/run-6/checkpoint-3630\n",
      "Configuration saved in ./Checkpoints/MarBertv2_hyperparams/run-6/checkpoint-3630/config.json\n"
     ]
    },
    {
     "name": "stdout",
     "output_type": "stream",
     "text": [
      "{'eval_loss': 0.8120511174201965, 'eval_f1': 0.4054307116104869, 'eval_recall': 0.5, 'eval_precision': 0.3409448818897638, 'eval_runtime': 3.6524, 'eval_samples_per_second': 347.716, 'eval_steps_per_second': 87.066, 'epoch': 11.0}\n"
     ]
    },
    {
     "name": "stderr",
     "output_type": "stream",
     "text": [
      "Model weights saved in ./Checkpoints/MarBertv2_hyperparams/run-6/checkpoint-3630/pytorch_model.bin\n",
      "tokenizer config file saved in ./Checkpoints/MarBertv2_hyperparams/run-6/checkpoint-3630/tokenizer_config.json\n",
      "Special tokens file saved in ./Checkpoints/MarBertv2_hyperparams/run-6/checkpoint-3630/special_tokens_map.json\n",
      " 63%|██████▎   | 3960/6270 [07:06<02:18, 16.64it/s]  The following columns in the evaluation set  don't have a corresponding argument in `BertForSequenceClassification.forward` and have been ignored: text. If text are not expected by `BertForSequenceClassification.forward`,  you can safely ignore this message.\n",
      "***** Running Evaluation *****\n",
      "  Num examples = 1270\n",
      "  Batch size = 4\n",
      "\n",
      "  0%|          | 0/318 [00:00<?, ?it/s]\u001b[A\n",
      "  3%|▎         | 10/318 [00:00<00:03, 99.74it/s]\u001b[A\n",
      "  6%|▋         | 20/318 [00:00<00:03, 92.82it/s]\u001b[A\n",
      "  9%|▉         | 30/318 [00:00<00:03, 92.05it/s]\u001b[A\n",
      " 13%|█▎        | 40/318 [00:00<00:03, 82.69it/s]\u001b[A\n",
      " 15%|█▌        | 49/318 [00:00<00:03, 84.91it/s]\u001b[A\n",
      " 18%|█▊        | 58/318 [00:00<00:03, 86.42it/s]\u001b[A\n",
      " 21%|██        | 67/318 [00:00<00:02, 87.46it/s]\u001b[A\n",
      " 24%|██▍       | 76/318 [00:00<00:02, 88.07it/s]\u001b[A\n",
      " 27%|██▋       | 85/318 [00:00<00:02, 88.43it/s]\u001b[A\n",
      " 30%|██▉       | 95/318 [00:01<00:02, 88.99it/s]\u001b[A\n",
      " 33%|███▎      | 104/318 [00:01<00:02, 89.12it/s]\u001b[A\n",
      " 36%|███▌      | 113/318 [00:01<00:02, 88.95it/s]\u001b[A\n",
      " 38%|███▊      | 122/318 [00:01<00:02, 88.59it/s]\u001b[A\n",
      " 41%|████      | 131/318 [00:01<00:02, 88.74it/s]\u001b[A\n",
      " 44%|████▍     | 141/318 [00:01<00:01, 89.31it/s]\u001b[A\n",
      " 47%|████▋     | 150/318 [00:01<00:01, 89.09it/s]\u001b[A\n",
      " 50%|█████     | 159/318 [00:01<00:01, 88.78it/s]\u001b[A\n",
      " 53%|█████▎    | 168/318 [00:01<00:01, 88.95it/s]\u001b[A\n",
      " 56%|█████▌    | 177/318 [00:01<00:01, 88.93it/s]\u001b[A\n",
      " 58%|█████▊    | 186/318 [00:02<00:01, 88.81it/s]\u001b[A\n",
      " 61%|██████▏   | 195/318 [00:02<00:01, 88.71it/s]\u001b[A\n",
      " 64%|██████▍   | 204/318 [00:02<00:01, 88.60it/s]\u001b[A\n",
      " 67%|██████▋   | 213/318 [00:02<00:01, 88.47it/s]\u001b[A\n",
      " 70%|██████▉   | 222/318 [00:02<00:01, 88.50it/s]\u001b[A\n",
      " 73%|███████▎  | 231/318 [00:02<00:00, 88.69it/s]\u001b[A\n",
      " 75%|███████▌  | 240/318 [00:02<00:00, 88.98it/s]\u001b[A\n",
      " 78%|███████▊  | 249/318 [00:02<00:00, 87.95it/s]\u001b[A\n",
      " 81%|████████  | 258/318 [00:02<00:00, 85.57it/s]\u001b[A\n",
      " 84%|████████▍ | 267/318 [00:03<00:00, 86.54it/s]\u001b[A\n",
      " 87%|████████▋ | 276/318 [00:03<00:00, 82.75it/s]\u001b[A\n",
      " 90%|████████▉ | 285/318 [00:03<00:00, 79.78it/s]\u001b[A\n",
      " 92%|█████████▏| 294/318 [00:03<00:00, 81.87it/s]\u001b[A\n",
      " 95%|█████████▌| 303/318 [00:03<00:00, 83.80it/s]\u001b[A\n",
      " 98%|█████████▊| 312/318 [00:03<00:00, 84.97it/s]\u001b[A/cm/shared/ebtree/software/Python/3.8.6-GCCcore-10.2.0/lib/python3.8/site-packages/sklearn/metrics/_classification.py:1248: UndefinedMetricWarning: Precision is ill-defined and being set to 0.0 in labels with no predicted samples. Use `zero_division` parameter to control this behavior.\n",
      "  _warn_prf(average, modifier, msg_start, len(result))\n",
      "\n",
      "                                                   \n",
      " 63%|██████▎   | 3960/6270 [07:09<02:18, 16.64it/s]A\n",
      "                                                 \u001b[ASaving model checkpoint to ./Checkpoints/MarBertv2_hyperparams/run-6/checkpoint-3960\n",
      "Configuration saved in ./Checkpoints/MarBertv2_hyperparams/run-6/checkpoint-3960/config.json\n"
     ]
    },
    {
     "name": "stdout",
     "output_type": "stream",
     "text": [
      "{'eval_loss': 0.7382277250289917, 'eval_f1': 0.4054307116104869, 'eval_recall': 0.5, 'eval_precision': 0.3409448818897638, 'eval_runtime': 3.715, 'eval_samples_per_second': 341.854, 'eval_steps_per_second': 85.598, 'epoch': 12.0}\n"
     ]
    },
    {
     "name": "stderr",
     "output_type": "stream",
     "text": [
      "Model weights saved in ./Checkpoints/MarBertv2_hyperparams/run-6/checkpoint-3960/pytorch_model.bin\n",
      "tokenizer config file saved in ./Checkpoints/MarBertv2_hyperparams/run-6/checkpoint-3960/tokenizer_config.json\n",
      "Special tokens file saved in ./Checkpoints/MarBertv2_hyperparams/run-6/checkpoint-3960/special_tokens_map.json\n",
      " 64%|██████▍   | 4002/6270 [07:20<02:25, 15.62it/s]  "
     ]
    },
    {
     "name": "stdout",
     "output_type": "stream",
     "text": [
      "{'loss': 0.7717, 'learning_rate': 0.0012252745577831586, 'epoch': 12.12}\n"
     ]
    },
    {
     "name": "stderr",
     "output_type": "stream",
     "text": [
      " 68%|██████▊   | 4290/6270 [07:42<01:56, 16.94it/s]The following columns in the evaluation set  don't have a corresponding argument in `BertForSequenceClassification.forward` and have been ignored: text. If text are not expected by `BertForSequenceClassification.forward`,  you can safely ignore this message.\n",
      "***** Running Evaluation *****\n",
      "  Num examples = 1270\n",
      "  Batch size = 4\n",
      "\n",
      "  0%|          | 0/318 [00:00<?, ?it/s]\u001b[A\n",
      "  3%|▎         | 11/318 [00:00<00:03, 99.47it/s]\u001b[A\n",
      "  7%|▋         | 21/318 [00:00<00:03, 93.49it/s]\u001b[A\n",
      " 10%|▉         | 31/318 [00:00<00:03, 91.65it/s]\u001b[A\n",
      " 13%|█▎        | 41/318 [00:00<00:03, 91.33it/s]\u001b[A\n",
      " 16%|█▌        | 51/318 [00:00<00:02, 91.45it/s]\u001b[A\n",
      " 19%|█▉        | 61/318 [00:00<00:02, 91.33it/s]\u001b[A\n",
      " 22%|██▏       | 71/318 [00:00<00:02, 91.43it/s]\u001b[A\n",
      " 25%|██▌       | 81/318 [00:00<00:02, 90.68it/s]\u001b[A\n",
      " 29%|██▊       | 91/318 [00:00<00:02, 89.68it/s]\u001b[A\n",
      " 31%|███▏      | 100/318 [00:01<00:02, 89.45it/s]\u001b[A\n",
      " 34%|███▍      | 109/318 [00:01<00:02, 89.29it/s]\u001b[A\n",
      " 37%|███▋      | 119/318 [00:01<00:02, 89.71it/s]\u001b[A\n",
      " 40%|████      | 128/318 [00:01<00:02, 89.67it/s]\u001b[A\n",
      " 43%|████▎     | 137/318 [00:01<00:02, 89.17it/s]\u001b[A\n",
      " 46%|████▌     | 147/318 [00:01<00:01, 89.50it/s]\u001b[A\n",
      " 49%|████▉     | 157/318 [00:01<00:01, 89.78it/s]\u001b[A\n",
      " 52%|█████▏    | 166/318 [00:01<00:01, 88.64it/s]\u001b[A\n",
      " 55%|█████▌    | 175/318 [00:01<00:01, 88.69it/s]\u001b[A\n",
      " 58%|█████▊    | 184/318 [00:02<00:01, 88.80it/s]\u001b[A\n",
      " 61%|██████    | 193/318 [00:02<00:01, 89.02it/s]\u001b[A\n",
      " 64%|██████▎   | 202/318 [00:02<00:01, 88.85it/s]\u001b[A\n",
      " 66%|██████▋   | 211/318 [00:02<00:01, 85.47it/s]\u001b[A\n",
      " 69%|██████▉   | 220/318 [00:02<00:01, 86.39it/s]\u001b[A\n",
      " 72%|███████▏  | 229/318 [00:02<00:01, 87.03it/s]\u001b[A\n",
      " 75%|███████▍  | 238/318 [00:02<00:00, 87.61it/s]\u001b[A\n",
      " 78%|███████▊  | 247/318 [00:02<00:00, 88.22it/s]\u001b[A\n",
      " 81%|████████  | 257/318 [00:02<00:00, 89.42it/s]\u001b[A\n",
      " 84%|████████▍ | 267/318 [00:02<00:00, 90.26it/s]\u001b[A\n",
      " 87%|████████▋ | 277/318 [00:03<00:00, 90.46it/s]\u001b[A\n",
      " 90%|█████████ | 287/318 [00:03<00:00, 91.25it/s]\u001b[A\n",
      " 93%|█████████▎| 297/318 [00:03<00:00, 90.48it/s]\u001b[A\n",
      " 97%|█████████▋| 307/318 [00:03<00:00, 90.06it/s]\u001b[A\n",
      "100%|█████████▉| 317/318 [00:03<00:00, 89.33it/s]\u001b[A/cm/shared/ebtree/software/Python/3.8.6-GCCcore-10.2.0/lib/python3.8/site-packages/sklearn/metrics/_classification.py:1248: UndefinedMetricWarning: Precision is ill-defined and being set to 0.0 in labels with no predicted samples. Use `zero_division` parameter to control this behavior.\n",
      "  _warn_prf(average, modifier, msg_start, len(result))\n",
      "\n",
      "                                                   \n",
      " 68%|██████▊   | 4290/6270 [07:45<01:56, 16.94it/s]A\n",
      "                                                 \u001b[ASaving model checkpoint to ./Checkpoints/MarBertv2_hyperparams/run-6/checkpoint-4290\n",
      "Configuration saved in ./Checkpoints/MarBertv2_hyperparams/run-6/checkpoint-4290/config.json\n"
     ]
    },
    {
     "name": "stdout",
     "output_type": "stream",
     "text": [
      "{'eval_loss': 0.7484005689620972, 'eval_f1': 0.4054307116104869, 'eval_recall': 0.5, 'eval_precision': 0.3409448818897638, 'eval_runtime': 3.6278, 'eval_samples_per_second': 350.073, 'eval_steps_per_second': 87.656, 'epoch': 13.0}\n"
     ]
    },
    {
     "name": "stderr",
     "output_type": "stream",
     "text": [
      "Model weights saved in ./Checkpoints/MarBertv2_hyperparams/run-6/checkpoint-4290/pytorch_model.bin\n",
      "tokenizer config file saved in ./Checkpoints/MarBertv2_hyperparams/run-6/checkpoint-4290/tokenizer_config.json\n",
      "Special tokens file saved in ./Checkpoints/MarBertv2_hyperparams/run-6/checkpoint-4290/special_tokens_map.json\n",
      " 72%|███████▏  | 4501/6270 [08:09<02:56, 10.04it/s]"
     ]
    },
    {
     "name": "stdout",
     "output_type": "stream",
     "text": [
      "{'loss': 0.7916, 'learning_rate': 0.0009553902939542689, 'epoch': 13.64}\n"
     ]
    },
    {
     "name": "stderr",
     "output_type": "stream",
     "text": [
      " 74%|███████▎  | 4619/6270 [08:18<01:41, 16.28it/s]The following columns in the evaluation set  don't have a corresponding argument in `BertForSequenceClassification.forward` and have been ignored: text. If text are not expected by `BertForSequenceClassification.forward`,  you can safely ignore this message.\n",
      "***** Running Evaluation *****\n",
      "  Num examples = 1270\n",
      "  Batch size = 4\n",
      "\n",
      "  0%|          | 0/318 [00:00<?, ?it/s]\u001b[A\n",
      "  3%|▎         | 10/318 [00:00<00:03, 98.84it/s]\u001b[A\n",
      "  6%|▋         | 20/318 [00:00<00:03, 90.53it/s]\u001b[A\n",
      "  9%|▉         | 30/318 [00:00<00:03, 89.65it/s]\u001b[A\n",
      " 12%|█▏        | 39/318 [00:00<00:03, 89.60it/s]\u001b[A\n",
      " 15%|█▌        | 48/318 [00:00<00:03, 89.60it/s]\u001b[A\n",
      " 18%|█▊        | 57/318 [00:00<00:02, 89.57it/s]\u001b[A\n",
      " 21%|██        | 66/318 [00:00<00:02, 89.06it/s]\u001b[A\n",
      " 24%|██▍       | 76/318 [00:00<00:02, 89.55it/s]\u001b[A\n",
      " 27%|██▋       | 86/318 [00:00<00:02, 89.80it/s]\u001b[A\n",
      " 30%|██▉       | 95/318 [00:01<00:02, 88.32it/s]\u001b[A\n",
      " 33%|███▎      | 105/318 [00:01<00:02, 88.96it/s]\u001b[A\n",
      " 36%|███▌      | 114/318 [00:01<00:02, 88.99it/s]\u001b[A\n",
      " 39%|███▊      | 123/318 [00:01<00:02, 89.01it/s]\u001b[A\n",
      " 42%|████▏     | 132/318 [00:01<00:02, 89.05it/s]\u001b[A\n",
      " 44%|████▍     | 141/318 [00:01<00:01, 89.17it/s]\u001b[A\n",
      " 47%|████▋     | 150/318 [00:01<00:01, 87.77it/s]\u001b[A\n",
      " 50%|█████     | 159/318 [00:01<00:01, 84.65it/s]\u001b[A\n",
      " 53%|█████▎    | 168/318 [00:01<00:01, 85.88it/s]\u001b[A\n",
      " 56%|█████▌    | 177/318 [00:02<00:01, 85.33it/s]\u001b[A\n",
      " 58%|█████▊    | 186/318 [00:02<00:01, 83.06it/s]\u001b[A\n",
      " 61%|██████▏   | 195/318 [00:02<00:01, 83.43it/s]\u001b[A\n",
      " 64%|██████▍   | 204/318 [00:02<00:01, 84.82it/s]\u001b[A\n",
      " 67%|██████▋   | 213/318 [00:02<00:01, 84.98it/s]\u001b[A\n",
      " 70%|██████▉   | 222/318 [00:02<00:01, 85.30it/s]\u001b[A\n",
      " 73%|███████▎  | 231/318 [00:02<00:01, 85.87it/s]\u001b[A\n",
      " 75%|███████▌  | 240/318 [00:02<00:00, 86.31it/s]\u001b[A\n",
      " 78%|███████▊  | 249/318 [00:02<00:00, 86.19it/s]\u001b[A\n",
      " 81%|████████  | 258/318 [00:02<00:00, 86.52it/s]\u001b[A\n",
      " 84%|████████▍ | 267/318 [00:03<00:00, 86.94it/s]\u001b[A\n",
      " 87%|████████▋ | 276/318 [00:03<00:00, 87.01it/s]\u001b[A\n",
      " 90%|████████▉ | 285/318 [00:03<00:00, 87.46it/s]\u001b[A\n",
      " 92%|█████████▏| 294/318 [00:03<00:00, 87.87it/s]\u001b[A\n",
      " 95%|█████████▌| 303/318 [00:03<00:00, 88.14it/s]\u001b[A\n",
      " 98%|█████████▊| 312/318 [00:03<00:00, 87.77it/s]\u001b[A/cm/shared/ebtree/software/Python/3.8.6-GCCcore-10.2.0/lib/python3.8/site-packages/sklearn/metrics/_classification.py:1248: UndefinedMetricWarning: Precision is ill-defined and being set to 0.0 in labels with no predicted samples. Use `zero_division` parameter to control this behavior.\n",
      "  _warn_prf(average, modifier, msg_start, len(result))\n",
      "\n",
      "                                                   \n",
      " 74%|███████▎  | 4620/6270 [08:21<01:41, 16.28it/s]A\n",
      "                                                 \u001b[ASaving model checkpoint to ./Checkpoints/MarBertv2_hyperparams/run-6/checkpoint-4620\n",
      "Configuration saved in ./Checkpoints/MarBertv2_hyperparams/run-6/checkpoint-4620/config.json\n"
     ]
    },
    {
     "name": "stdout",
     "output_type": "stream",
     "text": [
      "{'eval_loss': 0.6371399760246277, 'eval_f1': 0.4054307116104869, 'eval_recall': 0.5, 'eval_precision': 0.3409448818897638, 'eval_runtime': 3.7176, 'eval_samples_per_second': 341.618, 'eval_steps_per_second': 85.539, 'epoch': 14.0}\n"
     ]
    },
    {
     "name": "stderr",
     "output_type": "stream",
     "text": [
      "Model weights saved in ./Checkpoints/MarBertv2_hyperparams/run-6/checkpoint-4620/pytorch_model.bin\n",
      "tokenizer config file saved in ./Checkpoints/MarBertv2_hyperparams/run-6/checkpoint-4620/tokenizer_config.json\n",
      "Special tokens file saved in ./Checkpoints/MarBertv2_hyperparams/run-6/checkpoint-4620/special_tokens_map.json\n",
      " 79%|███████▉  | 4950/6270 [08:54<01:18, 16.90it/s]The following columns in the evaluation set  don't have a corresponding argument in `BertForSequenceClassification.forward` and have been ignored: text. If text are not expected by `BertForSequenceClassification.forward`,  you can safely ignore this message.\n",
      "***** Running Evaluation *****\n",
      "  Num examples = 1270\n",
      "  Batch size = 4\n",
      "\n",
      "  0%|          | 0/318 [00:00<?, ?it/s]\u001b[A\n",
      "  3%|▎         | 10/318 [00:00<00:03, 99.89it/s]\u001b[A\n",
      "  6%|▋         | 20/318 [00:00<00:03, 92.72it/s]\u001b[A\n",
      "  9%|▉         | 30/318 [00:00<00:03, 92.19it/s]\u001b[A\n",
      " 13%|█▎        | 40/318 [00:00<00:03, 92.00it/s]\u001b[A\n",
      " 16%|█▌        | 50/318 [00:00<00:02, 91.75it/s]\u001b[A\n",
      " 19%|█▉        | 60/318 [00:00<00:02, 92.15it/s]\u001b[A\n",
      " 22%|██▏       | 70/318 [00:00<00:02, 90.93it/s]\u001b[A\n",
      " 25%|██▌       | 80/318 [00:00<00:02, 90.68it/s]\u001b[A\n",
      " 28%|██▊       | 90/318 [00:00<00:02, 89.89it/s]\u001b[A\n",
      " 31%|███▏      | 100/318 [00:01<00:02, 90.00it/s]\u001b[A\n",
      " 35%|███▍      | 110/318 [00:01<00:02, 90.18it/s]\u001b[A\n",
      " 38%|███▊      | 120/318 [00:01<00:02, 90.35it/s]\u001b[A\n",
      " 41%|████      | 130/318 [00:01<00:02, 89.11it/s]\u001b[A\n",
      " 44%|████▎     | 139/318 [00:01<00:02, 86.73it/s]\u001b[A\n",
      " 47%|████▋     | 148/318 [00:01<00:01, 86.70it/s]\u001b[A\n",
      " 49%|████▉     | 157/318 [00:01<00:01, 87.46it/s]\u001b[A\n",
      " 52%|█████▏    | 166/318 [00:01<00:01, 88.16it/s]\u001b[A\n",
      " 55%|█████▌    | 175/318 [00:01<00:01, 88.61it/s]\u001b[A\n",
      " 58%|█████▊    | 185/318 [00:02<00:01, 89.63it/s]\u001b[A\n",
      " 61%|██████    | 194/318 [00:02<00:01, 89.66it/s]\u001b[A\n",
      " 64%|██████▍   | 203/318 [00:02<00:01, 89.66it/s]\u001b[A\n",
      " 67%|██████▋   | 212/318 [00:02<00:01, 89.35it/s]\u001b[A\n",
      " 69%|██████▉   | 221/318 [00:02<00:01, 84.43it/s]\u001b[A\n",
      " 72%|███████▏  | 230/318 [00:02<00:01, 84.47it/s]\u001b[A\n",
      " 75%|███████▌  | 239/318 [00:02<00:00, 85.56it/s]\u001b[A\n",
      " 78%|███████▊  | 248/318 [00:02<00:00, 86.78it/s]\u001b[A\n",
      " 81%|████████  | 258/318 [00:02<00:00, 88.48it/s]\u001b[A\n",
      " 84%|████████▍ | 267/318 [00:03<00:00, 88.37it/s]\u001b[A\n",
      " 87%|████████▋ | 276/318 [00:03<00:00, 88.46it/s]\u001b[A\n",
      " 90%|████████▉ | 285/318 [00:03<00:00, 88.64it/s]\u001b[A\n",
      " 93%|█████████▎| 295/318 [00:03<00:00, 89.46it/s]\u001b[A\n",
      " 96%|█████████▌| 304/318 [00:03<00:00, 89.49it/s]\u001b[A\n",
      " 99%|█████████▊| 314/318 [00:03<00:00, 90.04it/s]\u001b[A/cm/shared/ebtree/software/Python/3.8.6-GCCcore-10.2.0/lib/python3.8/site-packages/sklearn/metrics/_classification.py:1248: UndefinedMetricWarning: Precision is ill-defined and being set to 0.0 in labels with no predicted samples. Use `zero_division` parameter to control this behavior.\n",
      "  _warn_prf(average, modifier, msg_start, len(result))\n",
      "\n",
      "                                                   \n",
      " 79%|███████▉  | 4950/6270 [08:58<01:18, 16.90it/s]A\n",
      "                                                 \u001b[ASaving model checkpoint to ./Checkpoints/MarBertv2_hyperparams/run-6/checkpoint-4950\n",
      "Configuration saved in ./Checkpoints/MarBertv2_hyperparams/run-6/checkpoint-4950/config.json\n"
     ]
    },
    {
     "name": "stdout",
     "output_type": "stream",
     "text": [
      "{'eval_loss': 0.6934718489646912, 'eval_f1': 0.24133811230585425, 'eval_recall': 0.5, 'eval_precision': 0.15905511811023623, 'eval_runtime': 3.6398, 'eval_samples_per_second': 348.919, 'eval_steps_per_second': 87.367, 'epoch': 15.0}\n"
     ]
    },
    {
     "name": "stderr",
     "output_type": "stream",
     "text": [
      "Model weights saved in ./Checkpoints/MarBertv2_hyperparams/run-6/checkpoint-4950/pytorch_model.bin\n",
      "tokenizer config file saved in ./Checkpoints/MarBertv2_hyperparams/run-6/checkpoint-4950/tokenizer_config.json\n",
      "Special tokens file saved in ./Checkpoints/MarBertv2_hyperparams/run-6/checkpoint-4950/special_tokens_map.json\n",
      " 80%|███████▉  | 5001/6270 [09:08<01:35, 13.30it/s]"
     ]
    },
    {
     "name": "stdout",
     "output_type": "stream",
     "text": [
      "{'loss': 0.7683, 'learning_rate': 0.0006855060301253795, 'epoch': 15.15}\n"
     ]
    },
    {
     "name": "stderr",
     "output_type": "stream",
     "text": [
      " 84%|████████▍ | 5279/6270 [09:30<01:00, 16.46it/s]The following columns in the evaluation set  don't have a corresponding argument in `BertForSequenceClassification.forward` and have been ignored: text. If text are not expected by `BertForSequenceClassification.forward`,  you can safely ignore this message.\n",
      "***** Running Evaluation *****\n",
      "  Num examples = 1270\n",
      "  Batch size = 4\n",
      "\n",
      "  0%|          | 0/318 [00:00<?, ?it/s]\u001b[A\n",
      "  3%|▎         | 11/318 [00:00<00:03, 101.27it/s]\u001b[A\n",
      "  7%|▋         | 22/318 [00:00<00:03, 94.01it/s] \u001b[A\n",
      " 10%|█         | 32/318 [00:00<00:03, 91.75it/s]\u001b[A\n",
      " 13%|█▎        | 42/318 [00:00<00:03, 90.85it/s]\u001b[A\n",
      " 16%|█▋        | 52/318 [00:00<00:02, 90.94it/s]\u001b[A\n",
      " 19%|█▉        | 62/318 [00:00<00:02, 89.81it/s]\u001b[A\n",
      " 22%|██▏       | 71/318 [00:00<00:02, 89.78it/s]\u001b[A\n",
      " 25%|██▌       | 81/318 [00:00<00:02, 89.86it/s]\u001b[A\n",
      " 29%|██▊       | 91/318 [00:01<00:02, 90.11it/s]\u001b[A\n",
      " 32%|███▏      | 101/318 [00:01<00:02, 90.20it/s]\u001b[A\n",
      " 35%|███▍      | 111/318 [00:01<00:02, 89.49it/s]\u001b[A\n",
      " 38%|███▊      | 121/318 [00:01<00:02, 89.81it/s]\u001b[A\n",
      " 41%|████      | 130/318 [00:01<00:02, 89.34it/s]\u001b[A\n",
      " 44%|████▎     | 139/318 [00:01<00:02, 89.31it/s]\u001b[A\n",
      " 47%|████▋     | 148/318 [00:01<00:01, 89.07it/s]\u001b[A\n",
      " 49%|████▉     | 157/318 [00:01<00:02, 80.02it/s]\u001b[A\n",
      " 52%|█████▏    | 166/318 [00:01<00:01, 82.20it/s]\u001b[A\n",
      " 55%|█████▌    | 175/318 [00:01<00:01, 84.27it/s]\u001b[A\n",
      " 58%|█████▊    | 185/318 [00:02<00:01, 86.83it/s]\u001b[A\n",
      " 61%|██████    | 194/318 [00:02<00:01, 87.72it/s]\u001b[A\n",
      " 64%|██████▍   | 204/318 [00:02<00:01, 88.51it/s]\u001b[A\n",
      " 67%|██████▋   | 213/318 [00:02<00:01, 88.63it/s]\u001b[A\n",
      " 70%|██████▉   | 222/318 [00:02<00:01, 88.79it/s]\u001b[A\n",
      " 73%|███████▎  | 231/318 [00:02<00:00, 89.06it/s]\u001b[A\n",
      " 75%|███████▌  | 240/318 [00:02<00:00, 89.31it/s]\u001b[A\n",
      " 79%|███████▊  | 250/318 [00:02<00:00, 89.69it/s]\u001b[A\n",
      " 82%|████████▏ | 260/318 [00:02<00:00, 90.45it/s]\u001b[A\n",
      " 85%|████████▍ | 270/318 [00:03<00:00, 90.95it/s]\u001b[A\n",
      " 88%|████████▊ | 280/318 [00:03<00:00, 90.42it/s]\u001b[A\n",
      " 91%|█████████ | 290/318 [00:03<00:00, 90.10it/s]\u001b[A\n",
      " 94%|█████████▍| 300/318 [00:03<00:00, 89.83it/s]\u001b[A\n",
      " 97%|█████████▋| 310/318 [00:03<00:00, 89.93it/s]\u001b[A/cm/shared/ebtree/software/Python/3.8.6-GCCcore-10.2.0/lib/python3.8/site-packages/sklearn/metrics/_classification.py:1248: UndefinedMetricWarning: Precision is ill-defined and being set to 0.0 in labels with no predicted samples. Use `zero_division` parameter to control this behavior.\n",
      "  _warn_prf(average, modifier, msg_start, len(result))\n",
      "\n",
      "                                                   \n",
      " 84%|████████▍ | 5280/6270 [09:33<01:00, 16.46it/s]A\n",
      "                                                 \u001b[ASaving model checkpoint to ./Checkpoints/MarBertv2_hyperparams/run-6/checkpoint-5280\n",
      "Configuration saved in ./Checkpoints/MarBertv2_hyperparams/run-6/checkpoint-5280/config.json\n"
     ]
    },
    {
     "name": "stdout",
     "output_type": "stream",
     "text": [
      "{'eval_loss': 0.7111423015594482, 'eval_f1': 0.24133811230585425, 'eval_recall': 0.5, 'eval_precision': 0.15905511811023623, 'eval_runtime': 3.6408, 'eval_samples_per_second': 348.826, 'eval_steps_per_second': 87.344, 'epoch': 16.0}\n"
     ]
    },
    {
     "name": "stderr",
     "output_type": "stream",
     "text": [
      "Model weights saved in ./Checkpoints/MarBertv2_hyperparams/run-6/checkpoint-5280/pytorch_model.bin\n",
      "tokenizer config file saved in ./Checkpoints/MarBertv2_hyperparams/run-6/checkpoint-5280/tokenizer_config.json\n",
      "Special tokens file saved in ./Checkpoints/MarBertv2_hyperparams/run-6/checkpoint-5280/special_tokens_map.json\n",
      " 88%|████████▊ | 5502/6270 [09:58<01:00, 12.73it/s]"
     ]
    },
    {
     "name": "stdout",
     "output_type": "stream",
     "text": [
      "{'loss': 0.7417, 'learning_rate': 0.0004156217662964899, 'epoch': 16.67}\n"
     ]
    },
    {
     "name": "stderr",
     "output_type": "stream",
     "text": [
      " 89%|████████▉ | 5610/6270 [10:06<00:39, 16.65it/s]The following columns in the evaluation set  don't have a corresponding argument in `BertForSequenceClassification.forward` and have been ignored: text. If text are not expected by `BertForSequenceClassification.forward`,  you can safely ignore this message.\n",
      "***** Running Evaluation *****\n",
      "  Num examples = 1270\n",
      "  Batch size = 4\n",
      "\n",
      "  0%|          | 0/318 [00:00<?, ?it/s]\u001b[A\n",
      "  3%|▎         | 10/318 [00:00<00:03, 99.90it/s]\u001b[A\n",
      "  6%|▋         | 20/318 [00:00<00:03, 93.08it/s]\u001b[A\n",
      "  9%|▉         | 30/318 [00:00<00:03, 91.75it/s]\u001b[A\n",
      " 13%|█▎        | 40/318 [00:00<00:03, 90.84it/s]\u001b[A\n",
      " 16%|█▌        | 50/318 [00:00<00:02, 90.25it/s]\u001b[A\n",
      " 19%|█▉        | 60/318 [00:00<00:02, 89.70it/s]\u001b[A\n",
      " 22%|██▏       | 69/318 [00:00<00:02, 89.32it/s]\u001b[A\n",
      " 25%|██▍       | 78/318 [00:00<00:02, 88.82it/s]\u001b[A\n",
      " 27%|██▋       | 87/318 [00:00<00:02, 88.92it/s]\u001b[A\n",
      " 31%|███       | 97/318 [00:01<00:02, 89.39it/s]\u001b[A\n",
      " 34%|███▎      | 107/318 [00:01<00:02, 89.67it/s]\u001b[A\n",
      " 37%|███▋      | 117/318 [00:01<00:02, 90.09it/s]\u001b[A\n",
      " 40%|███▉      | 127/318 [00:01<00:02, 89.67it/s]\u001b[A\n",
      " 43%|████▎     | 136/318 [00:01<00:02, 89.10it/s]\u001b[A\n",
      " 46%|████▌     | 145/318 [00:01<00:01, 89.08it/s]\u001b[A\n",
      " 48%|████▊     | 154/318 [00:01<00:02, 78.86it/s]\u001b[A\n",
      " 51%|█████▏    | 163/318 [00:01<00:01, 77.93it/s]\u001b[A\n",
      " 54%|█████▍    | 171/318 [00:01<00:01, 76.89it/s]\u001b[A\n",
      " 56%|█████▋    | 179/318 [00:02<00:01, 76.04it/s]\u001b[A\n",
      " 59%|█████▉    | 187/318 [00:02<00:01, 75.50it/s]\u001b[A\n",
      " 61%|██████▏   | 195/318 [00:02<00:01, 75.04it/s]\u001b[A\n",
      " 64%|██████▍   | 203/318 [00:02<00:01, 74.96it/s]\u001b[A\n",
      " 67%|██████▋   | 212/318 [00:02<00:01, 77.42it/s]\u001b[A\n",
      " 69%|██████▉   | 221/318 [00:02<00:01, 80.20it/s]\u001b[A\n",
      " 72%|███████▏  | 230/318 [00:02<00:01, 82.27it/s]\u001b[A\n",
      " 75%|███████▌  | 239/318 [00:02<00:00, 81.80it/s]\u001b[A\n",
      " 78%|███████▊  | 248/318 [00:02<00:00, 83.96it/s]\u001b[A\n",
      " 81%|████████  | 258/318 [00:03<00:00, 86.14it/s]\u001b[A\n",
      " 84%|████████▍ | 267/318 [00:03<00:00, 87.06it/s]\u001b[A\n",
      " 87%|████████▋ | 276/318 [00:03<00:00, 87.73it/s]\u001b[A\n",
      " 90%|████████▉ | 285/318 [00:03<00:00, 88.20it/s]\u001b[A\n",
      " 93%|█████████▎| 295/318 [00:03<00:00, 88.98it/s]\u001b[A\n",
      " 96%|█████████▌| 304/318 [00:03<00:00, 88.95it/s]\u001b[A\n",
      " 98%|█████████▊| 313/318 [00:03<00:00, 89.05it/s]\u001b[A/cm/shared/ebtree/software/Python/3.8.6-GCCcore-10.2.0/lib/python3.8/site-packages/sklearn/metrics/_classification.py:1248: UndefinedMetricWarning: Precision is ill-defined and being set to 0.0 in labels with no predicted samples. Use `zero_division` parameter to control this behavior.\n",
      "  _warn_prf(average, modifier, msg_start, len(result))\n",
      "\n",
      "                                                   \n",
      " 89%|████████▉ | 5610/6270 [10:09<00:39, 16.65it/s]A\n",
      "                                                 \u001b[ASaving model checkpoint to ./Checkpoints/MarBertv2_hyperparams/run-6/checkpoint-5610\n",
      "Configuration saved in ./Checkpoints/MarBertv2_hyperparams/run-6/checkpoint-5610/config.json\n"
     ]
    },
    {
     "name": "stdout",
     "output_type": "stream",
     "text": [
      "{'eval_loss': 0.6924858689308167, 'eval_f1': 0.4054307116104869, 'eval_recall': 0.5, 'eval_precision': 0.3409448818897638, 'eval_runtime': 3.7985, 'eval_samples_per_second': 334.345, 'eval_steps_per_second': 83.718, 'epoch': 17.0}\n"
     ]
    },
    {
     "name": "stderr",
     "output_type": "stream",
     "text": [
      "Model weights saved in ./Checkpoints/MarBertv2_hyperparams/run-6/checkpoint-5610/pytorch_model.bin\n",
      "tokenizer config file saved in ./Checkpoints/MarBertv2_hyperparams/run-6/checkpoint-5610/tokenizer_config.json\n",
      "Special tokens file saved in ./Checkpoints/MarBertv2_hyperparams/run-6/checkpoint-5610/special_tokens_map.json\n",
      " 95%|█████████▍| 5940/6270 [10:42<00:19, 17.12it/s]The following columns in the evaluation set  don't have a corresponding argument in `BertForSequenceClassification.forward` and have been ignored: text. If text are not expected by `BertForSequenceClassification.forward`,  you can safely ignore this message.\n",
      "***** Running Evaluation *****\n",
      "  Num examples = 1270\n",
      "  Batch size = 4\n",
      "\n",
      "  0%|          | 0/318 [00:00<?, ?it/s]\u001b[A\n",
      "  3%|▎         | 11/318 [00:00<00:03, 100.00it/s]\u001b[A\n",
      "  7%|▋         | 22/318 [00:00<00:03, 94.58it/s] \u001b[A\n",
      " 10%|█         | 32/318 [00:00<00:03, 92.07it/s]\u001b[A\n",
      " 13%|█▎        | 42/318 [00:00<00:03, 91.90it/s]\u001b[A\n",
      " 16%|█▋        | 52/318 [00:00<00:02, 91.40it/s]\u001b[A\n",
      " 19%|█▉        | 62/318 [00:00<00:02, 91.46it/s]\u001b[A\n",
      " 23%|██▎       | 72/318 [00:00<00:02, 91.25it/s]\u001b[A\n",
      " 26%|██▌       | 82/318 [00:00<00:02, 90.85it/s]\u001b[A\n",
      " 29%|██▉       | 92/318 [00:01<00:02, 90.66it/s]\u001b[A\n",
      " 32%|███▏      | 102/318 [00:01<00:02, 90.16it/s]\u001b[A\n",
      " 35%|███▌      | 112/318 [00:01<00:02, 89.66it/s]\u001b[A\n",
      " 38%|███▊      | 121/318 [00:01<00:02, 89.52it/s]\u001b[A\n",
      " 41%|████      | 130/318 [00:01<00:02, 83.44it/s]\u001b[A\n",
      " 44%|████▎     | 139/318 [00:01<00:02, 84.30it/s]\u001b[A\n",
      " 47%|████▋     | 149/318 [00:01<00:01, 86.11it/s]\u001b[A\n",
      " 50%|████▉     | 158/318 [00:01<00:01, 86.62it/s]\u001b[A\n",
      " 53%|█████▎    | 167/318 [00:01<00:01, 87.30it/s]\u001b[A\n",
      " 55%|█████▌    | 176/318 [00:01<00:01, 87.37it/s]\u001b[A\n",
      " 58%|█████▊    | 185/318 [00:02<00:01, 87.58it/s]\u001b[A\n",
      " 61%|██████▏   | 195/318 [00:02<00:01, 88.40it/s]\u001b[A\n",
      " 64%|██████▍   | 205/318 [00:02<00:01, 89.48it/s]\u001b[A\n",
      " 68%|██████▊   | 215/318 [00:02<00:01, 89.96it/s]\u001b[A\n",
      " 70%|███████   | 224/318 [00:02<00:01, 89.00it/s]\u001b[A\n",
      " 73%|███████▎  | 233/318 [00:02<00:00, 89.07it/s]\u001b[A\n",
      " 76%|███████▌  | 242/318 [00:02<00:00, 88.78it/s]\u001b[A\n",
      " 79%|███████▉  | 251/318 [00:02<00:00, 87.70it/s]\u001b[A\n",
      " 82%|████████▏ | 260/318 [00:02<00:00, 85.11it/s]\u001b[A\n",
      " 85%|████████▍ | 269/318 [00:03<00:00, 85.47it/s]\u001b[A\n",
      " 87%|████████▋ | 278/318 [00:03<00:00, 85.82it/s]\u001b[A\n",
      " 90%|█████████ | 287/318 [00:03<00:00, 85.03it/s]\u001b[A\n",
      " 93%|█████████▎| 296/318 [00:03<00:00, 84.19it/s]\u001b[A\n",
      " 96%|█████████▌| 305/318 [00:03<00:00, 83.48it/s]\u001b[A\n",
      " 99%|█████████▊| 314/318 [00:03<00:00, 85.15it/s]\u001b[A/cm/shared/ebtree/software/Python/3.8.6-GCCcore-10.2.0/lib/python3.8/site-packages/sklearn/metrics/_classification.py:1248: UndefinedMetricWarning: Precision is ill-defined and being set to 0.0 in labels with no predicted samples. Use `zero_division` parameter to control this behavior.\n",
      "  _warn_prf(average, modifier, msg_start, len(result))\n",
      "\n",
      "                                                   \n",
      " 95%|█████████▍| 5940/6270 [10:45<00:19, 17.12it/s]A\n",
      "                                                 \u001b[ASaving model checkpoint to ./Checkpoints/MarBertv2_hyperparams/run-6/checkpoint-5940\n",
      "Configuration saved in ./Checkpoints/MarBertv2_hyperparams/run-6/checkpoint-5940/config.json\n"
     ]
    },
    {
     "name": "stdout",
     "output_type": "stream",
     "text": [
      "{'eval_loss': 0.694760799407959, 'eval_f1': 0.24133811230585425, 'eval_recall': 0.5, 'eval_precision': 0.15905511811023623, 'eval_runtime': 3.6902, 'eval_samples_per_second': 344.156, 'eval_steps_per_second': 86.174, 'epoch': 18.0}\n"
     ]
    },
    {
     "name": "stderr",
     "output_type": "stream",
     "text": [
      "Model weights saved in ./Checkpoints/MarBertv2_hyperparams/run-6/checkpoint-5940/pytorch_model.bin\n",
      "tokenizer config file saved in ./Checkpoints/MarBertv2_hyperparams/run-6/checkpoint-5940/tokenizer_config.json\n",
      "Special tokens file saved in ./Checkpoints/MarBertv2_hyperparams/run-6/checkpoint-5940/special_tokens_map.json\n",
      " 96%|█████████▌| 6001/6270 [10:57<00:25, 10.65it/s]"
     ]
    },
    {
     "name": "stdout",
     "output_type": "stream",
     "text": [
      "{'loss': 0.6955, 'learning_rate': 0.00014573750246760038, 'epoch': 18.18}\n"
     ]
    },
    {
     "name": "stderr",
     "output_type": "stream",
     "text": [
      "100%|█████████▉| 6269/6270 [11:17<00:00, 16.43it/s]The following columns in the evaluation set  don't have a corresponding argument in `BertForSequenceClassification.forward` and have been ignored: text. If text are not expected by `BertForSequenceClassification.forward`,  you can safely ignore this message.\n",
      "***** Running Evaluation *****\n",
      "  Num examples = 1270\n",
      "  Batch size = 4\n",
      "\n",
      "  0%|          | 0/318 [00:00<?, ?it/s]\u001b[A\n",
      "  3%|▎         | 11/318 [00:00<00:03, 99.64it/s]\u001b[A\n",
      "  7%|▋         | 21/318 [00:00<00:03, 93.95it/s]\u001b[A\n",
      " 10%|▉         | 31/318 [00:00<00:03, 91.76it/s]\u001b[A\n",
      " 13%|█▎        | 41/318 [00:00<00:03, 90.82it/s]\u001b[A\n",
      " 16%|█▌        | 51/318 [00:00<00:02, 90.21it/s]\u001b[A\n",
      " 19%|█▉        | 61/318 [00:00<00:02, 89.90it/s]\u001b[A\n",
      " 22%|██▏       | 70/318 [00:00<00:02, 87.84it/s]\u001b[A\n",
      " 25%|██▍       | 79/318 [00:00<00:02, 88.37it/s]\u001b[A\n",
      " 28%|██▊       | 88/318 [00:00<00:02, 88.35it/s]\u001b[A\n",
      " 31%|███       | 97/318 [00:01<00:02, 88.53it/s]\u001b[A\n",
      " 33%|███▎      | 106/318 [00:01<00:02, 88.65it/s]\u001b[A\n",
      " 36%|███▌      | 115/318 [00:01<00:02, 88.22it/s]\u001b[A\n",
      " 39%|███▉      | 125/318 [00:01<00:02, 88.85it/s]\u001b[A\n",
      " 42%|████▏     | 135/318 [00:01<00:02, 89.45it/s]\u001b[A\n",
      " 46%|████▌     | 145/318 [00:01<00:01, 89.92it/s]\u001b[A\n",
      " 48%|████▊     | 154/318 [00:01<00:01, 89.46it/s]\u001b[A\n",
      " 51%|█████▏    | 163/318 [00:01<00:01, 89.51it/s]\u001b[A\n",
      " 54%|█████▍    | 172/318 [00:01<00:01, 89.32it/s]\u001b[A\n",
      " 57%|█████▋    | 182/318 [00:02<00:01, 89.68it/s]\u001b[A\n",
      " 60%|██████    | 192/318 [00:02<00:01, 89.87it/s]\u001b[A\n",
      " 63%|██████▎   | 201/318 [00:02<00:01, 89.56it/s]\u001b[A\n",
      " 66%|██████▋   | 211/318 [00:02<00:01, 89.95it/s]\u001b[A\n",
      " 69%|██████▉   | 221/318 [00:02<00:01, 90.30it/s]\u001b[A\n",
      " 73%|███████▎  | 231/318 [00:02<00:00, 90.67it/s]\u001b[A\n",
      " 76%|███████▌  | 241/318 [00:02<00:00, 90.54it/s]\u001b[A\n",
      " 79%|███████▉  | 251/318 [00:02<00:00, 90.12it/s]\u001b[A\n",
      " 82%|████████▏ | 261/318 [00:02<00:00, 90.39it/s]\u001b[A\n",
      " 85%|████████▌ | 271/318 [00:03<00:00, 90.08it/s]\u001b[A\n",
      " 88%|████████▊ | 281/318 [00:03<00:00, 89.88it/s]\u001b[A\n",
      " 91%|█████████ | 290/318 [00:03<00:00, 77.49it/s]\u001b[A\n",
      " 94%|█████████▍| 299/318 [00:03<00:00, 80.19it/s]\u001b[A\n",
      " 97%|█████████▋| 309/318 [00:03<00:00, 83.40it/s]\u001b[A\n",
      "100%|██████████| 318/318 [00:03<00:00, 83.33it/s]\u001b[A/cm/shared/ebtree/software/Python/3.8.6-GCCcore-10.2.0/lib/python3.8/site-packages/sklearn/metrics/_classification.py:1248: UndefinedMetricWarning: Precision is ill-defined and being set to 0.0 in labels with no predicted samples. Use `zero_division` parameter to control this behavior.\n",
      "  _warn_prf(average, modifier, msg_start, len(result))\n",
      "\n",
      "                                                   \n",
      "100%|██████████| 6270/6270 [11:21<00:00, 16.43it/s]A\n",
      "                                                 \u001b[ASaving model checkpoint to ./Checkpoints/MarBertv2_hyperparams/run-6/checkpoint-6270\n",
      "Configuration saved in ./Checkpoints/MarBertv2_hyperparams/run-6/checkpoint-6270/config.json\n"
     ]
    },
    {
     "name": "stdout",
     "output_type": "stream",
     "text": [
      "{'eval_loss': 0.6972362399101257, 'eval_f1': 0.24133811230585425, 'eval_recall': 0.5, 'eval_precision': 0.15905511811023623, 'eval_runtime': 3.6837, 'eval_samples_per_second': 344.766, 'eval_steps_per_second': 86.327, 'epoch': 19.0}\n"
     ]
    },
    {
     "name": "stderr",
     "output_type": "stream",
     "text": [
      "Model weights saved in ./Checkpoints/MarBertv2_hyperparams/run-6/checkpoint-6270/pytorch_model.bin\n",
      "tokenizer config file saved in ./Checkpoints/MarBertv2_hyperparams/run-6/checkpoint-6270/tokenizer_config.json\n",
      "Special tokens file saved in ./Checkpoints/MarBertv2_hyperparams/run-6/checkpoint-6270/special_tokens_map.json\n",
      "\n",
      "\n",
      "Training completed. Do not forget to share your model on huggingface.co/models =)\n",
      "\n",
      "\n",
      "Loading best model from ./Checkpoints/MarBertv2_hyperparams/run-6/checkpoint-330 (score: 0.4054307116104869).\n",
      "100%|██████████| 6270/6270 [11:29<00:00,  9.10it/s]\n",
      "\u001b[32m[I 2022-03-28 22:16:05,856]\u001b[0m Trial 6 finished with value: 0.9003932304160904 and parameters: {'learning_rate': 0.003384348668414275, 'weight_decay': 5.87403015098304e-05, 'num_train_epochs': 19, 'seed': 4, 'per_device_train_batch_size': 32}. Best is trial 3 with value: 2.52298489012904.\u001b[0m\n",
      "Trial:\n",
      "loading configuration file /scratch/mt/ashapiro/Hate_Speech/Models/Marbertv2/config.json\n",
      "Model config BertConfig {\n",
      "  \"_name_or_path\": \"/scratch/mt/ashapiro/Hate_Speech/Models/Marbertv2/\",\n",
      "  \"architectures\": [\n",
      "    \"BertForMaskedLM\"\n",
      "  ],\n",
      "  \"attention_probs_dropout_prob\": 0.1,\n",
      "  \"classifier_dropout\": null,\n",
      "  \"directionality\": \"bidi\",\n",
      "  \"gradient_checkpointing\": false,\n",
      "  \"hidden_act\": \"gelu\",\n",
      "  \"hidden_dropout_prob\": 0.1,\n",
      "  \"hidden_size\": 768,\n",
      "  \"initializer_range\": 0.02,\n",
      "  \"intermediate_size\": 3072,\n",
      "  \"layer_norm_eps\": 1e-12,\n",
      "  \"max_position_embeddings\": 512,\n",
      "  \"model_type\": \"bert\",\n",
      "  \"num_attention_heads\": 12,\n",
      "  \"num_hidden_layers\": 12,\n",
      "  \"pad_token_id\": 0,\n",
      "  \"pooler_fc_size\": 768,\n",
      "  \"pooler_num_attention_heads\": 12,\n",
      "  \"pooler_num_fc_layers\": 3,\n",
      "  \"pooler_size_per_head\": 128,\n",
      "  \"pooler_type\": \"first_token_transform\",\n",
      "  \"position_embedding_type\": \"absolute\",\n",
      "  \"transformers_version\": \"4.17.0\",\n",
      "  \"type_vocab_size\": 2,\n",
      "  \"use_cache\": true,\n",
      "  \"vocab_size\": 100000\n",
      "}\n",
      "\n",
      "loading weights file /scratch/mt/ashapiro/Hate_Speech/Models/Marbertv2/pytorch_model.bin\n"
     ]
    },
    {
     "name": "stdout",
     "output_type": "stream",
     "text": [
      "{'train_runtime': 689.0097, 'train_samples_per_second': 290.98, 'train_steps_per_second': 9.1, 'train_loss': 0.7887071040638706, 'epoch': 19.0}\n"
     ]
    },
    {
     "name": "stderr",
     "output_type": "stream",
     "text": [
      "Some weights of the model checkpoint at /scratch/mt/ashapiro/Hate_Speech/Models/Marbertv2/ were not used when initializing BertForSequenceClassification: ['cls.seq_relationship.bias', 'cls.predictions.decoder.bias', 'cls.predictions.transform.LayerNorm.weight', 'cls.seq_relationship.weight', 'cls.predictions.decoder.weight', 'cls.predictions.transform.LayerNorm.bias', 'cls.predictions.transform.dense.weight', 'cls.predictions.bias', 'cls.predictions.transform.dense.bias']\n",
      "- This IS expected if you are initializing BertForSequenceClassification from the checkpoint of a model trained on another task or with another architecture (e.g. initializing a BertForSequenceClassification model from a BertForPreTraining model).\n",
      "- This IS NOT expected if you are initializing BertForSequenceClassification from the checkpoint of a model that you expect to be exactly identical (initializing a BertForSequenceClassification model from a BertForSequenceClassification model).\n",
      "Some weights of BertForSequenceClassification were not initialized from the model checkpoint at /scratch/mt/ashapiro/Hate_Speech/Models/Marbertv2/ and are newly initialized: ['classifier.weight', 'classifier.bias']\n",
      "You should probably TRAIN this model on a down-stream task to be able to use it for predictions and inference.\n",
      "The following columns in the training set  don't have a corresponding argument in `BertForSequenceClassification.forward` and have been ignored: text. If text are not expected by `BertForSequenceClassification.forward`,  you can safely ignore this message.\n",
      "/home/ashapiro/.local/lib/python3.8/site-packages/transformers/optimization.py:306: FutureWarning: This implementation of AdamW is deprecated and will be removed in a future version. Use the PyTorch implementation torch.optim.AdamW instead, or set `no_deprecation_warning=True` to disable this warning\n",
      "  warnings.warn(\n",
      "***** Running training *****\n",
      "  Num examples = 10552\n",
      "  Num Epochs = 4\n",
      "  Instantaneous batch size per device = 16\n",
      "  Total train batch size (w. parallel, distributed & accumulation) = 16\n",
      "  Gradient Accumulation steps = 1\n",
      "  Total optimization steps = 2640\n",
      " 19%|█▉        | 501/2640 [00:32<02:22, 14.99it/s]"
     ]
    },
    {
     "name": "stdout",
     "output_type": "stream",
     "text": [
      "{'loss': 0.3505, 'learning_rate': 2.7592355340335664e-05, 'epoch': 0.76}\n"
     ]
    },
    {
     "name": "stderr",
     "output_type": "stream",
     "text": [
      " 25%|██▍       | 659/2640 [00:42<02:00, 16.39it/s]The following columns in the evaluation set  don't have a corresponding argument in `BertForSequenceClassification.forward` and have been ignored: text. If text are not expected by `BertForSequenceClassification.forward`,  you can safely ignore this message.\n",
      "***** Running Evaluation *****\n",
      "  Num examples = 1270\n",
      "  Batch size = 4\n",
      "\n",
      "  0%|          | 0/318 [00:00<?, ?it/s]\u001b[A\n",
      "  3%|▎         | 10/318 [00:00<00:03, 96.08it/s]\u001b[A\n",
      "  6%|▋         | 20/318 [00:00<00:03, 92.00it/s]\u001b[A\n",
      "  9%|▉         | 30/318 [00:00<00:03, 90.71it/s]\u001b[A\n",
      " 13%|█▎        | 40/318 [00:00<00:03, 89.89it/s]\u001b[A\n",
      " 15%|█▌        | 49/318 [00:00<00:03, 89.15it/s]\u001b[A\n",
      " 18%|█▊        | 58/318 [00:00<00:02, 89.11it/s]\u001b[A\n",
      " 21%|██        | 67/318 [00:00<00:02, 89.16it/s]\u001b[A\n",
      " 24%|██▍       | 76/318 [00:00<00:02, 87.40it/s]\u001b[A\n",
      " 27%|██▋       | 85/318 [00:00<00:02, 86.57it/s]\u001b[A\n",
      " 30%|██▉       | 94/318 [00:01<00:02, 85.99it/s]\u001b[A\n",
      " 32%|███▏      | 103/318 [00:01<00:02, 86.43it/s]\u001b[A\n",
      " 35%|███▌      | 112/318 [00:01<00:02, 86.95it/s]\u001b[A\n",
      " 38%|███▊      | 121/318 [00:01<00:02, 87.37it/s]\u001b[A\n",
      " 41%|████      | 130/318 [00:01<00:02, 87.71it/s]\u001b[A\n",
      " 44%|████▎     | 139/318 [00:01<00:02, 88.23it/s]\u001b[A\n",
      " 47%|████▋     | 148/318 [00:01<00:01, 88.41it/s]\u001b[A\n",
      " 49%|████▉     | 157/318 [00:01<00:01, 88.49it/s]\u001b[A\n",
      " 52%|█████▏    | 166/318 [00:01<00:01, 88.58it/s]\u001b[A\n",
      " 55%|█████▌    | 175/318 [00:01<00:01, 88.42it/s]\u001b[A\n",
      " 58%|█████▊    | 184/318 [00:02<00:01, 88.44it/s]\u001b[A\n",
      " 61%|██████    | 193/318 [00:02<00:01, 88.16it/s]\u001b[A\n",
      " 64%|██████▎   | 202/318 [00:02<00:01, 88.17it/s]\u001b[A\n",
      " 66%|██████▋   | 211/318 [00:02<00:01, 87.26it/s]\u001b[A\n",
      " 69%|██████▉   | 220/318 [00:02<00:01, 87.62it/s]\u001b[A\n",
      " 72%|███████▏  | 229/318 [00:02<00:01, 87.58it/s]\u001b[A\n",
      " 75%|███████▍  | 238/318 [00:02<00:00, 87.76it/s]\u001b[A\n",
      " 78%|███████▊  | 247/318 [00:02<00:00, 87.72it/s]\u001b[A\n",
      " 81%|████████  | 256/318 [00:02<00:00, 87.97it/s]\u001b[A\n",
      " 83%|████████▎ | 265/318 [00:03<00:00, 87.86it/s]\u001b[A\n",
      " 86%|████████▌ | 274/318 [00:03<00:00, 88.07it/s]\u001b[A\n",
      " 89%|████████▉ | 283/318 [00:03<00:00, 88.30it/s]\u001b[A\n",
      " 92%|█████████▏| 292/318 [00:03<00:00, 87.89it/s]\u001b[A\n",
      " 95%|█████████▍| 301/318 [00:03<00:00, 88.11it/s]\u001b[A\n",
      " 97%|█████████▋| 310/318 [00:03<00:00, 88.53it/s]\u001b[A\n",
      "                                                  \n",
      " 25%|██▌       | 660/2640 [00:45<02:00, 16.39it/s][A\n",
      "                                                 \u001b[ASaving model checkpoint to ./Checkpoints/MarBertv2_hyperparams/run-7/checkpoint-660\n",
      "Configuration saved in ./Checkpoints/MarBertv2_hyperparams/run-7/checkpoint-660/config.json\n"
     ]
    },
    {
     "name": "stdout",
     "output_type": "stream",
     "text": [
      "{'eval_loss': 0.3630688786506653, 'eval_f1': 0.8390469551992903, 'eval_recall': 0.8231112660919672, 'eval_precision': 0.8644261766602193, 'eval_runtime': 3.6875, 'eval_samples_per_second': 344.403, 'eval_steps_per_second': 86.236, 'epoch': 1.0}\n"
     ]
    },
    {
     "name": "stderr",
     "output_type": "stream",
     "text": [
      "Model weights saved in ./Checkpoints/MarBertv2_hyperparams/run-7/checkpoint-660/pytorch_model.bin\n",
      "tokenizer config file saved in ./Checkpoints/MarBertv2_hyperparams/run-7/checkpoint-660/tokenizer_config.json\n",
      "Special tokens file saved in ./Checkpoints/MarBertv2_hyperparams/run-7/checkpoint-660/special_tokens_map.json\n",
      " 38%|███▊      | 1003/2640 [01:15<01:36, 16.92it/s]"
     ]
    },
    {
     "name": "stdout",
     "output_type": "stream",
     "text": [
      "{'loss': 0.2322, 'learning_rate': 2.1145543344930136e-05, 'epoch': 1.52}\n"
     ]
    },
    {
     "name": "stderr",
     "output_type": "stream",
     "text": [
      " 50%|████▉     | 1319/2640 [01:35<01:18, 16.73it/s]The following columns in the evaluation set  don't have a corresponding argument in `BertForSequenceClassification.forward` and have been ignored: text. If text are not expected by `BertForSequenceClassification.forward`,  you can safely ignore this message.\n",
      "***** Running Evaluation *****\n",
      "  Num examples = 1270\n",
      "  Batch size = 4\n",
      "\n",
      "  0%|          | 0/318 [00:00<?, ?it/s]\u001b[A\n",
      "  3%|▎         | 11/318 [00:00<00:03, 100.05it/s]\u001b[A\n",
      "  7%|▋         | 22/318 [00:00<00:03, 93.05it/s] \u001b[A\n",
      " 10%|█         | 32/318 [00:00<00:03, 91.20it/s]\u001b[A\n",
      " 13%|█▎        | 42/318 [00:00<00:03, 90.63it/s]\u001b[A\n",
      " 16%|█▋        | 52/318 [00:00<00:02, 90.03it/s]\u001b[A\n",
      " 19%|█▉        | 62/318 [00:00<00:02, 89.57it/s]\u001b[A\n",
      " 22%|██▏       | 71/318 [00:00<00:02, 88.02it/s]\u001b[A\n",
      " 25%|██▌       | 80/318 [00:00<00:02, 87.72it/s]\u001b[A\n",
      " 28%|██▊       | 89/318 [00:00<00:02, 86.84it/s]\u001b[A\n",
      " 31%|███       | 99/318 [00:01<00:02, 88.38it/s]\u001b[A\n",
      " 34%|███▍      | 109/318 [00:01<00:02, 89.23it/s]\u001b[A\n",
      " 37%|███▋      | 119/318 [00:01<00:02, 89.77it/s]\u001b[A\n",
      " 41%|████      | 129/318 [00:01<00:02, 90.17it/s]\u001b[A\n",
      " 44%|████▎     | 139/318 [00:01<00:01, 89.65it/s]\u001b[A\n",
      " 47%|████▋     | 148/318 [00:01<00:01, 88.17it/s]\u001b[A\n",
      " 49%|████▉     | 157/318 [00:01<00:01, 88.41it/s]\u001b[A\n",
      " 52%|█████▏    | 166/318 [00:01<00:01, 87.90it/s]\u001b[A\n",
      " 55%|█████▌    | 176/318 [00:01<00:01, 88.86it/s]\u001b[A\n",
      " 58%|█████▊    | 186/318 [00:02<00:01, 89.61it/s]\u001b[A\n",
      " 62%|██████▏   | 196/318 [00:02<00:01, 89.88it/s]\u001b[A\n",
      " 65%|██████▍   | 206/318 [00:02<00:01, 90.13it/s]\u001b[A\n",
      " 68%|██████▊   | 216/318 [00:02<00:01, 88.64it/s]\u001b[A\n",
      " 71%|███████   | 225/318 [00:02<00:01, 87.42it/s]\u001b[A\n",
      " 74%|███████▎  | 234/318 [00:02<00:00, 87.98it/s]\u001b[A\n",
      " 76%|███████▋  | 243/318 [00:02<00:00, 88.11it/s]\u001b[A\n",
      " 79%|███████▉  | 252/318 [00:02<00:00, 88.27it/s]\u001b[A\n",
      " 82%|████████▏ | 261/318 [00:02<00:00, 88.18it/s]\u001b[A\n",
      " 85%|████████▍ | 270/318 [00:03<00:00, 87.88it/s]\u001b[A\n",
      " 88%|████████▊ | 279/318 [00:03<00:00, 88.03it/s]\u001b[A\n",
      " 91%|█████████ | 288/318 [00:03<00:00, 88.33it/s]\u001b[A\n",
      " 93%|█████████▎| 297/318 [00:03<00:00, 87.96it/s]\u001b[A\n",
      " 96%|█████████▌| 306/318 [00:03<00:00, 88.01it/s]\u001b[A\n",
      " 99%|█████████▉| 316/318 [00:03<00:00, 88.86it/s]\u001b[A\n",
      "                                                   \n",
      " 50%|█████     | 1320/2640 [01:38<01:18, 16.73it/s]A\n",
      "                                                 \u001b[ASaving model checkpoint to ./Checkpoints/MarBertv2_hyperparams/run-7/checkpoint-1320\n",
      "Configuration saved in ./Checkpoints/MarBertv2_hyperparams/run-7/checkpoint-1320/config.json\n"
     ]
    },
    {
     "name": "stdout",
     "output_type": "stream",
     "text": [
      "{'eval_loss': 0.5055630207061768, 'eval_f1': 0.8439689728772971, 'eval_recall': 0.8548893284247594, 'eval_precision': 0.8361489459050435, 'eval_runtime': 3.6563, 'eval_samples_per_second': 347.347, 'eval_steps_per_second': 86.974, 'epoch': 2.0}\n"
     ]
    },
    {
     "name": "stderr",
     "output_type": "stream",
     "text": [
      "Model weights saved in ./Checkpoints/MarBertv2_hyperparams/run-7/checkpoint-1320/pytorch_model.bin\n",
      "tokenizer config file saved in ./Checkpoints/MarBertv2_hyperparams/run-7/checkpoint-1320/tokenizer_config.json\n",
      "Special tokens file saved in ./Checkpoints/MarBertv2_hyperparams/run-7/checkpoint-1320/special_tokens_map.json\n",
      " 57%|█████▋    | 1502/2640 [01:58<01:10, 16.23it/s]"
     ]
    },
    {
     "name": "stdout",
     "output_type": "stream",
     "text": [
      "{'loss': 0.158, 'learning_rate': 1.4698731349524607e-05, 'epoch': 2.27}\n"
     ]
    },
    {
     "name": "stderr",
     "output_type": "stream",
     "text": [
      " 75%|███████▌  | 1980/2640 [02:28<00:37, 17.55it/s]The following columns in the evaluation set  don't have a corresponding argument in `BertForSequenceClassification.forward` and have been ignored: text. If text are not expected by `BertForSequenceClassification.forward`,  you can safely ignore this message.\n",
      "***** Running Evaluation *****\n",
      "  Num examples = 1270\n",
      "  Batch size = 4\n",
      "\n",
      "  0%|          | 0/318 [00:00<?, ?it/s]\u001b[A\n",
      "  3%|▎         | 10/318 [00:00<00:03, 97.32it/s]\u001b[A\n",
      "  6%|▋         | 20/318 [00:00<00:03, 91.63it/s]\u001b[A\n",
      "  9%|▉         | 30/318 [00:00<00:03, 90.87it/s]\u001b[A\n",
      " 13%|█▎        | 40/318 [00:00<00:03, 90.10it/s]\u001b[A\n",
      " 16%|█▌        | 50/318 [00:00<00:02, 89.77it/s]\u001b[A\n",
      " 19%|█▊        | 59/318 [00:00<00:02, 89.46it/s]\u001b[A\n",
      " 21%|██▏       | 68/318 [00:00<00:02, 89.39it/s]\u001b[A\n",
      " 24%|██▍       | 77/318 [00:00<00:02, 89.55it/s]\u001b[A\n",
      " 27%|██▋       | 86/318 [00:00<00:02, 89.53it/s]\u001b[A\n",
      " 30%|███       | 96/318 [00:01<00:02, 89.80it/s]\u001b[A\n",
      " 33%|███▎      | 106/318 [00:01<00:02, 90.57it/s]\u001b[A\n",
      " 36%|███▋      | 116/318 [00:01<00:02, 90.62it/s]\u001b[A\n",
      " 40%|███▉      | 126/318 [00:01<00:02, 87.94it/s]\u001b[A\n",
      " 42%|████▏     | 135/318 [00:01<00:02, 88.09it/s]\u001b[A\n",
      " 45%|████▌     | 144/318 [00:01<00:01, 88.39it/s]\u001b[A\n",
      " 48%|████▊     | 153/318 [00:01<00:01, 88.77it/s]\u001b[A\n",
      " 51%|█████▏    | 163/318 [00:01<00:01, 89.91it/s]\u001b[A\n",
      " 54%|█████▍    | 172/318 [00:01<00:01, 89.71it/s]\u001b[A\n",
      " 57%|█████▋    | 181/318 [00:02<00:01, 89.21it/s]\u001b[A\n",
      " 60%|█████▉    | 190/318 [00:02<00:01, 89.37it/s]\u001b[A\n",
      " 63%|██████▎   | 200/318 [00:02<00:01, 89.62it/s]\u001b[A\n",
      " 66%|██████▌   | 209/318 [00:02<00:01, 89.38it/s]\u001b[A\n",
      " 69%|██████▊   | 218/318 [00:02<00:01, 89.08it/s]\u001b[A\n",
      " 71%|███████▏  | 227/318 [00:02<00:01, 88.93it/s]\u001b[A\n",
      " 74%|███████▍  | 236/318 [00:02<00:00, 86.58it/s]\u001b[A\n",
      " 77%|███████▋  | 245/318 [00:02<00:00, 87.26it/s]\u001b[A\n",
      " 80%|███████▉  | 254/318 [00:02<00:00, 87.98it/s]\u001b[A\n",
      " 83%|████████▎ | 263/318 [00:02<00:00, 88.21it/s]\u001b[A\n",
      " 86%|████████▌ | 272/318 [00:03<00:00, 88.48it/s]\u001b[A\n",
      " 89%|████████▊ | 282/318 [00:03<00:00, 89.10it/s]\u001b[A\n",
      " 92%|█████████▏| 291/318 [00:03<00:00, 88.46it/s]\u001b[A\n",
      " 94%|█████████▍| 300/318 [00:03<00:00, 87.19it/s]\u001b[A\n",
      " 97%|█████████▋| 309/318 [00:03<00:00, 87.57it/s]\u001b[A\n",
      "100%|██████████| 318/318 [00:03<00:00, 87.39it/s]\u001b[A\n",
      "                                                   \n",
      " 75%|███████▌  | 1980/2640 [02:31<00:37, 17.55it/s]A\n",
      "                                                 \u001b[ASaving model checkpoint to ./Checkpoints/MarBertv2_hyperparams/run-7/checkpoint-1980\n",
      "Configuration saved in ./Checkpoints/MarBertv2_hyperparams/run-7/checkpoint-1980/config.json\n"
     ]
    },
    {
     "name": "stdout",
     "output_type": "stream",
     "text": [
      "{'eval_loss': 0.7390373349189758, 'eval_f1': 0.8361206410978544, 'eval_recall': 0.8539032309697483, 'eval_precision': 0.8262584023040297, 'eval_runtime': 3.6486, 'eval_samples_per_second': 348.077, 'eval_steps_per_second': 87.156, 'epoch': 3.0}\n"
     ]
    },
    {
     "name": "stderr",
     "output_type": "stream",
     "text": [
      "Model weights saved in ./Checkpoints/MarBertv2_hyperparams/run-7/checkpoint-1980/pytorch_model.bin\n",
      "tokenizer config file saved in ./Checkpoints/MarBertv2_hyperparams/run-7/checkpoint-1980/tokenizer_config.json\n",
      "Special tokens file saved in ./Checkpoints/MarBertv2_hyperparams/run-7/checkpoint-1980/special_tokens_map.json\n",
      " 76%|███████▌  | 2002/2640 [02:41<01:10,  9.00it/s]"
     ]
    },
    {
     "name": "stdout",
     "output_type": "stream",
     "text": [
      "{'loss': 0.082, 'learning_rate': 8.251919354119078e-06, 'epoch': 3.03}\n"
     ]
    },
    {
     "name": "stderr",
     "output_type": "stream",
     "text": [
      " 95%|█████████▍| 2502/2640 [03:12<00:08, 15.82it/s]"
     ]
    },
    {
     "name": "stdout",
     "output_type": "stream",
     "text": [
      "{'loss': 0.038, 'learning_rate': 1.8051073587135483e-06, 'epoch': 3.79}\n"
     ]
    },
    {
     "name": "stderr",
     "output_type": "stream",
     "text": [
      "100%|██████████| 2640/2640 [03:20<00:00, 17.14it/s]The following columns in the evaluation set  don't have a corresponding argument in `BertForSequenceClassification.forward` and have been ignored: text. If text are not expected by `BertForSequenceClassification.forward`,  you can safely ignore this message.\n",
      "***** Running Evaluation *****\n",
      "  Num examples = 1270\n",
      "  Batch size = 4\n",
      "\n",
      "  0%|          | 0/318 [00:00<?, ?it/s]\u001b[A\n",
      "  3%|▎         | 9/318 [00:00<00:03, 88.52it/s]\u001b[A\n",
      "  6%|▌         | 18/318 [00:00<00:03, 84.80it/s]\u001b[A\n",
      "  8%|▊         | 27/318 [00:00<00:03, 86.26it/s]\u001b[A\n",
      " 11%|█▏        | 36/318 [00:00<00:03, 87.21it/s]\u001b[A\n",
      " 14%|█▍        | 45/318 [00:00<00:03, 87.65it/s]\u001b[A\n",
      " 17%|█▋        | 54/318 [00:00<00:02, 88.09it/s]\u001b[A\n",
      " 20%|█▉        | 63/318 [00:00<00:02, 88.29it/s]\u001b[A\n",
      " 23%|██▎       | 72/318 [00:00<00:02, 88.02it/s]\u001b[A\n",
      " 25%|██▌       | 81/318 [00:00<00:02, 88.15it/s]\u001b[A\n",
      " 28%|██▊       | 90/318 [00:01<00:02, 86.43it/s]\u001b[A\n",
      " 31%|███       | 99/318 [00:01<00:02, 86.92it/s]\u001b[A\n",
      " 34%|███▍      | 108/318 [00:01<00:02, 87.15it/s]\u001b[A\n",
      " 37%|███▋      | 117/318 [00:01<00:02, 87.35it/s]\u001b[A\n",
      " 40%|███▉      | 126/318 [00:01<00:02, 87.41it/s]\u001b[A\n",
      " 42%|████▏     | 135/318 [00:01<00:02, 87.36it/s]\u001b[A\n",
      " 45%|████▌     | 144/318 [00:01<00:02, 82.70it/s]\u001b[A\n",
      " 48%|████▊     | 153/318 [00:01<00:02, 79.62it/s]\u001b[A\n",
      " 51%|█████     | 162/318 [00:01<00:02, 77.77it/s]\u001b[A\n",
      " 53%|█████▎    | 170/318 [00:02<00:01, 76.47it/s]\u001b[A\n",
      " 56%|█████▌    | 178/318 [00:02<00:01, 75.59it/s]\u001b[A\n",
      " 59%|█████▉    | 187/318 [00:02<00:01, 77.61it/s]\u001b[A\n",
      " 62%|██████▏   | 196/318 [00:02<00:01, 80.23it/s]\u001b[A\n",
      " 64%|██████▍   | 205/318 [00:02<00:01, 82.49it/s]\u001b[A\n",
      " 67%|██████▋   | 214/318 [00:02<00:01, 84.00it/s]\u001b[A\n",
      " 70%|███████   | 223/318 [00:02<00:01, 85.38it/s]\u001b[A\n",
      " 73%|███████▎  | 232/318 [00:02<00:01, 85.92it/s]\u001b[A\n",
      " 76%|███████▌  | 241/318 [00:02<00:00, 86.72it/s]\u001b[A\n",
      " 79%|███████▊  | 250/318 [00:02<00:00, 87.11it/s]\u001b[A\n",
      " 81%|████████▏ | 259/318 [00:03<00:00, 87.40it/s]\u001b[A\n",
      " 84%|████████▍ | 268/318 [00:03<00:00, 87.67it/s]\u001b[A\n",
      " 87%|████████▋ | 277/318 [00:03<00:00, 87.66it/s]\u001b[A\n",
      " 90%|████████▉ | 286/318 [00:03<00:00, 87.74it/s]\u001b[A\n",
      " 93%|█████████▎| 295/318 [00:03<00:00, 87.92it/s]\u001b[A\n",
      " 96%|█████████▌| 304/318 [00:03<00:00, 87.86it/s]\u001b[A\n",
      " 98%|█████████▊| 313/318 [00:03<00:00, 88.08it/s]\u001b[A\n",
      "                                                   \n",
      "100%|██████████| 2640/2640 [03:24<00:00, 17.14it/s]A\n",
      "                                                 \u001b[ASaving model checkpoint to ./Checkpoints/MarBertv2_hyperparams/run-7/checkpoint-2640\n",
      "Configuration saved in ./Checkpoints/MarBertv2_hyperparams/run-7/checkpoint-2640/config.json\n"
     ]
    },
    {
     "name": "stdout",
     "output_type": "stream",
     "text": [
      "{'eval_loss': 0.8812566995620728, 'eval_f1': 0.8353020382372986, 'eval_recall': 0.8485382891637894, 'eval_precision': 0.8266603446058891, 'eval_runtime': 3.8091, 'eval_samples_per_second': 333.411, 'eval_steps_per_second': 83.484, 'epoch': 4.0}\n"
     ]
    },
    {
     "name": "stderr",
     "output_type": "stream",
     "text": [
      "Model weights saved in ./Checkpoints/MarBertv2_hyperparams/run-7/checkpoint-2640/pytorch_model.bin\n",
      "tokenizer config file saved in ./Checkpoints/MarBertv2_hyperparams/run-7/checkpoint-2640/tokenizer_config.json\n",
      "Special tokens file saved in ./Checkpoints/MarBertv2_hyperparams/run-7/checkpoint-2640/special_tokens_map.json\n",
      "\n",
      "\n",
      "Training completed. Do not forget to share your model on huggingface.co/models =)\n",
      "\n",
      "\n",
      "Loading best model from ./Checkpoints/MarBertv2_hyperparams/run-7/checkpoint-1320 (score: 0.8439689728772971).\n",
      "100%|██████████| 2640/2640 [03:33<00:00, 12.37it/s]\n",
      "\u001b[32m[I 2022-03-28 22:19:42,704]\u001b[0m Trial 7 finished with value: 2.510500672006977 and parameters: {'learning_rate': 3.4039167335741194e-05, 'weight_decay': 3.9732207404861103e-07, 'num_train_epochs': 4, 'seed': 21, 'per_device_train_batch_size': 16}. Best is trial 3 with value: 2.52298489012904.\u001b[0m\n",
      "Trial:\n",
      "loading configuration file /scratch/mt/ashapiro/Hate_Speech/Models/Marbertv2/config.json\n",
      "Model config BertConfig {\n",
      "  \"_name_or_path\": \"/scratch/mt/ashapiro/Hate_Speech/Models/Marbertv2/\",\n",
      "  \"architectures\": [\n",
      "    \"BertForMaskedLM\"\n",
      "  ],\n",
      "  \"attention_probs_dropout_prob\": 0.1,\n",
      "  \"classifier_dropout\": null,\n",
      "  \"directionality\": \"bidi\",\n",
      "  \"gradient_checkpointing\": false,\n",
      "  \"hidden_act\": \"gelu\",\n",
      "  \"hidden_dropout_prob\": 0.1,\n",
      "  \"hidden_size\": 768,\n",
      "  \"initializer_range\": 0.02,\n",
      "  \"intermediate_size\": 3072,\n",
      "  \"layer_norm_eps\": 1e-12,\n",
      "  \"max_position_embeddings\": 512,\n",
      "  \"model_type\": \"bert\",\n",
      "  \"num_attention_heads\": 12,\n",
      "  \"num_hidden_layers\": 12,\n",
      "  \"pad_token_id\": 0,\n",
      "  \"pooler_fc_size\": 768,\n",
      "  \"pooler_num_attention_heads\": 12,\n",
      "  \"pooler_num_fc_layers\": 3,\n",
      "  \"pooler_size_per_head\": 128,\n",
      "  \"pooler_type\": \"first_token_transform\",\n",
      "  \"position_embedding_type\": \"absolute\",\n",
      "  \"transformers_version\": \"4.17.0\",\n",
      "  \"type_vocab_size\": 2,\n",
      "  \"use_cache\": true,\n",
      "  \"vocab_size\": 100000\n",
      "}\n",
      "\n",
      "loading weights file /scratch/mt/ashapiro/Hate_Speech/Models/Marbertv2/pytorch_model.bin\n"
     ]
    },
    {
     "name": "stdout",
     "output_type": "stream",
     "text": [
      "{'train_runtime': 213.3604, 'train_samples_per_second': 197.825, 'train_steps_per_second': 12.373, 'train_loss': 0.1650697314377987, 'epoch': 4.0}\n"
     ]
    },
    {
     "name": "stderr",
     "output_type": "stream",
     "text": [
      "Some weights of the model checkpoint at /scratch/mt/ashapiro/Hate_Speech/Models/Marbertv2/ were not used when initializing BertForSequenceClassification: ['cls.seq_relationship.bias', 'cls.predictions.decoder.bias', 'cls.predictions.transform.LayerNorm.weight', 'cls.seq_relationship.weight', 'cls.predictions.decoder.weight', 'cls.predictions.transform.LayerNorm.bias', 'cls.predictions.transform.dense.weight', 'cls.predictions.bias', 'cls.predictions.transform.dense.bias']\n",
      "- This IS expected if you are initializing BertForSequenceClassification from the checkpoint of a model trained on another task or with another architecture (e.g. initializing a BertForSequenceClassification model from a BertForPreTraining model).\n",
      "- This IS NOT expected if you are initializing BertForSequenceClassification from the checkpoint of a model that you expect to be exactly identical (initializing a BertForSequenceClassification model from a BertForSequenceClassification model).\n",
      "Some weights of BertForSequenceClassification were not initialized from the model checkpoint at /scratch/mt/ashapiro/Hate_Speech/Models/Marbertv2/ and are newly initialized: ['classifier.weight', 'classifier.bias']\n",
      "You should probably TRAIN this model on a down-stream task to be able to use it for predictions and inference.\n",
      "The following columns in the training set  don't have a corresponding argument in `BertForSequenceClassification.forward` and have been ignored: text. If text are not expected by `BertForSequenceClassification.forward`,  you can safely ignore this message.\n",
      "/home/ashapiro/.local/lib/python3.8/site-packages/transformers/optimization.py:306: FutureWarning: This implementation of AdamW is deprecated and will be removed in a future version. Use the PyTorch implementation torch.optim.AdamW instead, or set `no_deprecation_warning=True` to disable this warning\n",
      "  warnings.warn(\n",
      "***** Running training *****\n",
      "  Num examples = 10552\n",
      "  Num Epochs = 16\n",
      "  Instantaneous batch size per device = 64\n",
      "  Total train batch size (w. parallel, distributed & accumulation) = 64\n",
      "  Gradient Accumulation steps = 1\n",
      "  Total optimization steps = 2640\n",
      "  6%|▌         | 164/2640 [00:18<02:56, 14.02it/s]The following columns in the evaluation set  don't have a corresponding argument in `BertForSequenceClassification.forward` and have been ignored: text. If text are not expected by `BertForSequenceClassification.forward`,  you can safely ignore this message.\n",
      "***** Running Evaluation *****\n",
      "  Num examples = 1270\n",
      "  Batch size = 4\n",
      "\n",
      "  0%|          | 0/318 [00:00<?, ?it/s]\u001b[A\n",
      "  3%|▎         | 11/318 [00:00<00:03, 101.35it/s]\u001b[A\n",
      "  7%|▋         | 22/318 [00:00<00:03, 95.00it/s] \u001b[A\n",
      " 10%|█         | 32/318 [00:00<00:03, 91.61it/s]\u001b[A\n",
      " 13%|█▎        | 42/318 [00:00<00:03, 88.24it/s]\u001b[A\n",
      " 16%|█▌        | 51/318 [00:00<00:03, 87.77it/s]\u001b[A\n",
      " 19%|█▉        | 60/318 [00:00<00:02, 87.52it/s]\u001b[A\n",
      " 22%|██▏       | 69/318 [00:00<00:02, 87.35it/s]\u001b[A\n",
      " 25%|██▍       | 78/318 [00:00<00:02, 88.03it/s]\u001b[A\n",
      " 28%|██▊       | 88/318 [00:00<00:02, 89.23it/s]\u001b[A\n",
      " 31%|███       | 98/318 [00:01<00:02, 90.49it/s]\u001b[A\n",
      " 34%|███▍      | 108/318 [00:01<00:02, 91.20it/s]\u001b[A\n",
      " 37%|███▋      | 118/318 [00:01<00:02, 91.64it/s]\u001b[A\n",
      " 40%|████      | 128/318 [00:01<00:02, 91.43it/s]\u001b[A\n",
      " 43%|████▎     | 138/318 [00:01<00:01, 91.73it/s]\u001b[A\n",
      " 47%|████▋     | 148/318 [00:01<00:01, 90.88it/s]\u001b[A\n",
      " 50%|████▉     | 158/318 [00:01<00:01, 90.96it/s]\u001b[A\n",
      " 53%|█████▎    | 168/318 [00:01<00:01, 91.06it/s]\u001b[A\n",
      " 56%|█████▌    | 178/318 [00:01<00:01, 85.59it/s]\u001b[A\n",
      " 59%|█████▉    | 187/318 [00:02<00:01, 82.75it/s]\u001b[A\n",
      " 62%|██████▏   | 196/318 [00:02<00:01, 83.87it/s]\u001b[A\n",
      " 65%|██████▍   | 206/318 [00:02<00:01, 85.97it/s]\u001b[A\n",
      " 68%|██████▊   | 215/318 [00:02<00:01, 86.43it/s]\u001b[A\n",
      " 70%|███████   | 224/318 [00:02<00:01, 75.13it/s]\u001b[A\n",
      " 73%|███████▎  | 232/318 [00:02<00:01, 70.72it/s]\u001b[A\n",
      " 76%|███████▌  | 241/318 [00:02<00:01, 75.31it/s]\u001b[A\n",
      " 79%|███████▊  | 250/318 [00:02<00:00, 78.77it/s]\u001b[A\n",
      " 81%|████████▏ | 259/318 [00:03<00:00, 81.37it/s]\u001b[A\n",
      " 84%|████████▍ | 268/318 [00:03<00:00, 83.49it/s]\u001b[A\n",
      " 87%|████████▋ | 277/318 [00:03<00:00, 84.83it/s]\u001b[A\n",
      " 90%|████████▉ | 286/318 [00:03<00:00, 85.88it/s]\u001b[A\n",
      " 93%|█████████▎| 295/318 [00:03<00:00, 86.70it/s]\u001b[A\n",
      " 96%|█████████▌| 304/318 [00:03<00:00, 87.66it/s]\u001b[A\n",
      " 99%|█████████▊| 314/318 [00:03<00:00, 88.56it/s]\u001b[A/cm/shared/ebtree/software/Python/3.8.6-GCCcore-10.2.0/lib/python3.8/site-packages/sklearn/metrics/_classification.py:1248: UndefinedMetricWarning: Precision is ill-defined and being set to 0.0 in labels with no predicted samples. Use `zero_division` parameter to control this behavior.\n",
      "  _warn_prf(average, modifier, msg_start, len(result))\n",
      "\n",
      "                                                  \n",
      "  6%|▋         | 165/2640 [00:22<02:56, 14.02it/s][A\n",
      "                                                 \u001b[ASaving model checkpoint to ./Checkpoints/MarBertv2_hyperparams/run-8/checkpoint-165\n",
      "Configuration saved in ./Checkpoints/MarBertv2_hyperparams/run-8/checkpoint-165/config.json\n"
     ]
    },
    {
     "name": "stdout",
     "output_type": "stream",
     "text": [
      "{'eval_loss': 0.6828162670135498, 'eval_f1': 0.4054307116104869, 'eval_recall': 0.5, 'eval_precision': 0.3409448818897638, 'eval_runtime': 3.7511, 'eval_samples_per_second': 338.564, 'eval_steps_per_second': 84.774, 'epoch': 1.0}\n"
     ]
    },
    {
     "name": "stderr",
     "output_type": "stream",
     "text": [
      "Model weights saved in ./Checkpoints/MarBertv2_hyperparams/run-8/checkpoint-165/pytorch_model.bin\n",
      "tokenizer config file saved in ./Checkpoints/MarBertv2_hyperparams/run-8/checkpoint-165/tokenizer_config.json\n",
      "Special tokens file saved in ./Checkpoints/MarBertv2_hyperparams/run-8/checkpoint-165/special_tokens_map.json\n",
      " 12%|█▏        | 329/2640 [00:49<02:38, 14.57it/s]  The following columns in the evaluation set  don't have a corresponding argument in `BertForSequenceClassification.forward` and have been ignored: text. If text are not expected by `BertForSequenceClassification.forward`,  you can safely ignore this message.\n",
      "***** Running Evaluation *****\n",
      "  Num examples = 1270\n",
      "  Batch size = 4\n",
      "\n",
      "  0%|          | 0/318 [00:00<?, ?it/s]\u001b[A\n",
      "  3%|▎         | 11/318 [00:00<00:03, 99.59it/s]\u001b[A\n",
      "  7%|▋         | 21/318 [00:00<00:03, 93.10it/s]\u001b[A\n",
      " 10%|▉         | 31/318 [00:00<00:03, 91.45it/s]\u001b[A\n",
      " 13%|█▎        | 41/318 [00:00<00:03, 90.36it/s]\u001b[A\n",
      " 16%|█▌        | 51/318 [00:00<00:02, 89.86it/s]\u001b[A\n",
      " 19%|█▉        | 60/318 [00:00<00:02, 89.41it/s]\u001b[A\n",
      " 22%|██▏       | 69/318 [00:00<00:02, 86.30it/s]\u001b[A\n",
      " 25%|██▍       | 78/318 [00:00<00:02, 86.50it/s]\u001b[A\n",
      " 27%|██▋       | 87/318 [00:00<00:02, 82.48it/s]\u001b[A\n",
      " 30%|███       | 96/318 [00:01<00:02, 80.00it/s]\u001b[A\n",
      " 33%|███▎      | 105/318 [00:01<00:02, 78.29it/s]\u001b[A\n",
      " 36%|███▌      | 113/318 [00:01<00:02, 77.43it/s]\u001b[A\n",
      " 38%|███▊      | 121/318 [00:01<00:02, 76.83it/s]\u001b[A\n",
      " 41%|████      | 129/318 [00:01<00:02, 75.83it/s]\u001b[A\n",
      " 43%|████▎     | 137/318 [00:01<00:02, 75.58it/s]\u001b[A\n",
      " 46%|████▌     | 146/318 [00:01<00:02, 79.06it/s]\u001b[A\n",
      " 49%|████▊     | 155/318 [00:01<00:01, 81.70it/s]\u001b[A\n",
      " 52%|█████▏    | 164/318 [00:01<00:01, 83.54it/s]\u001b[A\n",
      " 54%|█████▍    | 173/318 [00:02<00:01, 85.28it/s]\u001b[A\n",
      " 57%|█████▋    | 182/318 [00:02<00:01, 86.21it/s]\u001b[A\n",
      " 60%|██████    | 191/318 [00:02<00:01, 86.96it/s]\u001b[A\n",
      " 63%|██████▎   | 200/318 [00:02<00:01, 87.39it/s]\u001b[A\n",
      " 66%|██████▌   | 209/318 [00:02<00:01, 87.94it/s]\u001b[A\n",
      " 69%|██████▊   | 218/318 [00:02<00:01, 88.19it/s]\u001b[A\n",
      " 71%|███████▏  | 227/318 [00:02<00:01, 88.15it/s]\u001b[A\n",
      " 74%|███████▍  | 236/318 [00:02<00:00, 88.32it/s]\u001b[A\n",
      " 77%|███████▋  | 245/318 [00:02<00:00, 88.13it/s]\u001b[A\n",
      " 80%|███████▉  | 254/318 [00:02<00:00, 88.09it/s]\u001b[A\n",
      " 83%|████████▎ | 263/318 [00:03<00:00, 83.89it/s]\u001b[A\n",
      " 86%|████████▌ | 272/318 [00:03<00:00, 85.24it/s]\u001b[A\n",
      " 88%|████████▊ | 281/318 [00:03<00:00, 86.16it/s]\u001b[A\n",
      " 91%|█████████ | 290/318 [00:03<00:00, 86.59it/s]\u001b[A\n",
      " 94%|█████████▍| 299/318 [00:03<00:00, 86.96it/s]\u001b[A\n",
      " 97%|█████████▋| 308/318 [00:03<00:00, 87.18it/s]\u001b[A\n",
      "100%|█████████▉| 317/318 [00:03<00:00, 87.40it/s]\u001b[A/cm/shared/ebtree/software/Python/3.8.6-GCCcore-10.2.0/lib/python3.8/site-packages/sklearn/metrics/_classification.py:1248: UndefinedMetricWarning: Precision is ill-defined and being set to 0.0 in labels with no predicted samples. Use `zero_division` parameter to control this behavior.\n",
      "  _warn_prf(average, modifier, msg_start, len(result))\n",
      "\n",
      "                                                  \n",
      " 12%|█▎        | 330/2640 [00:53<02:38, 14.57it/s][A\n",
      "                                                 \u001b[ASaving model checkpoint to ./Checkpoints/MarBertv2_hyperparams/run-8/checkpoint-330\n",
      "Configuration saved in ./Checkpoints/MarBertv2_hyperparams/run-8/checkpoint-330/config.json\n"
     ]
    },
    {
     "name": "stdout",
     "output_type": "stream",
     "text": [
      "{'eval_loss': 0.7165234088897705, 'eval_f1': 0.4054307116104869, 'eval_recall': 0.5, 'eval_precision': 0.3409448818897638, 'eval_runtime': 3.8233, 'eval_samples_per_second': 332.174, 'eval_steps_per_second': 83.174, 'epoch': 2.0}\n"
     ]
    },
    {
     "name": "stderr",
     "output_type": "stream",
     "text": [
      "Model weights saved in ./Checkpoints/MarBertv2_hyperparams/run-8/checkpoint-330/pytorch_model.bin\n",
      "tokenizer config file saved in ./Checkpoints/MarBertv2_hyperparams/run-8/checkpoint-330/tokenizer_config.json\n",
      "Special tokens file saved in ./Checkpoints/MarBertv2_hyperparams/run-8/checkpoint-330/special_tokens_map.json\n",
      " 19%|█▊        | 494/2640 [01:20<02:26, 14.64it/s]  The following columns in the evaluation set  don't have a corresponding argument in `BertForSequenceClassification.forward` and have been ignored: text. If text are not expected by `BertForSequenceClassification.forward`,  you can safely ignore this message.\n",
      "***** Running Evaluation *****\n",
      "  Num examples = 1270\n",
      "  Batch size = 4\n",
      "\n",
      "  0%|          | 0/318 [00:00<?, ?it/s]\u001b[A\n",
      "  3%|▎         | 11/318 [00:00<00:03, 100.27it/s]\u001b[A\n",
      "  7%|▋         | 22/318 [00:00<00:03, 93.46it/s] \u001b[A\n",
      " 10%|█         | 32/318 [00:00<00:03, 91.11it/s]\u001b[A\n",
      " 13%|█▎        | 42/318 [00:00<00:03, 90.27it/s]\u001b[A\n",
      " 16%|█▋        | 52/318 [00:00<00:02, 89.67it/s]\u001b[A\n",
      " 19%|█▉        | 61/318 [00:00<00:02, 89.19it/s]\u001b[A\n",
      " 22%|██▏       | 70/318 [00:00<00:02, 88.36it/s]\u001b[A\n",
      " 25%|██▍       | 79/318 [00:00<00:02, 87.55it/s]\u001b[A\n",
      " 28%|██▊       | 88/318 [00:01<00:02, 82.81it/s]\u001b[A\n",
      " 31%|███       | 97/318 [00:01<00:02, 84.57it/s]\u001b[A\n",
      " 33%|███▎      | 106/318 [00:01<00:02, 85.66it/s]\u001b[A\n",
      " 36%|███▌      | 115/318 [00:01<00:02, 86.49it/s]\u001b[A\n",
      " 39%|███▉      | 124/318 [00:01<00:02, 87.40it/s]\u001b[A\n",
      " 42%|████▏     | 133/318 [00:01<00:02, 88.07it/s]\u001b[A\n",
      " 45%|████▍     | 142/318 [00:01<00:01, 88.38it/s]\u001b[A\n",
      " 48%|████▊     | 152/318 [00:01<00:01, 89.15it/s]\u001b[A\n",
      " 51%|█████     | 162/318 [00:01<00:01, 89.95it/s]\u001b[A\n",
      " 54%|█████▍    | 172/318 [00:01<00:01, 90.38it/s]\u001b[A\n",
      " 57%|█████▋    | 182/318 [00:02<00:01, 90.79it/s]\u001b[A\n",
      " 60%|██████    | 192/318 [00:02<00:01, 90.58it/s]\u001b[A\n",
      " 64%|██████▎   | 202/318 [00:02<00:01, 90.40it/s]\u001b[A\n",
      " 67%|██████▋   | 212/318 [00:02<00:01, 89.80it/s]\u001b[A\n",
      " 69%|██████▉   | 221/318 [00:02<00:01, 89.58it/s]\u001b[A\n",
      " 72%|███████▏  | 230/318 [00:02<00:00, 89.25it/s]\u001b[A\n",
      " 75%|███████▌  | 240/318 [00:02<00:00, 89.64it/s]\u001b[A\n",
      " 79%|███████▊  | 250/318 [00:02<00:00, 90.18it/s]\u001b[A\n",
      " 82%|████████▏ | 260/318 [00:02<00:00, 90.65it/s]\u001b[A\n",
      " 85%|████████▍ | 270/318 [00:03<00:00, 90.72it/s]\u001b[A\n",
      " 88%|████████▊ | 280/318 [00:03<00:00, 89.78it/s]\u001b[A\n",
      " 91%|█████████ | 289/318 [00:03<00:00, 89.80it/s]\u001b[A\n",
      " 94%|█████████▍| 299/318 [00:03<00:00, 89.89it/s]\u001b[A\n",
      " 97%|█████████▋| 308/318 [00:03<00:00, 89.63it/s]\u001b[A\n",
      "100%|██████████| 318/318 [00:03<00:00, 90.28it/s]\u001b[A/cm/shared/ebtree/software/Python/3.8.6-GCCcore-10.2.0/lib/python3.8/site-packages/sklearn/metrics/_classification.py:1248: UndefinedMetricWarning: Precision is ill-defined and being set to 0.0 in labels with no predicted samples. Use `zero_division` parameter to control this behavior.\n",
      "  _warn_prf(average, modifier, msg_start, len(result))\n",
      "\n",
      "                                                  \n",
      " 19%|█▉        | 495/2640 [01:24<02:26, 14.64it/s][A\n",
      "                                                 \u001b[ASaving model checkpoint to ./Checkpoints/MarBertv2_hyperparams/run-8/checkpoint-495\n",
      "Configuration saved in ./Checkpoints/MarBertv2_hyperparams/run-8/checkpoint-495/config.json\n"
     ]
    },
    {
     "name": "stdout",
     "output_type": "stream",
     "text": [
      "{'eval_loss': 0.6669318079948425, 'eval_f1': 0.4054307116104869, 'eval_recall': 0.5, 'eval_precision': 0.3409448818897638, 'eval_runtime': 3.6375, 'eval_samples_per_second': 349.146, 'eval_steps_per_second': 87.424, 'epoch': 3.0}\n"
     ]
    },
    {
     "name": "stderr",
     "output_type": "stream",
     "text": [
      "Model weights saved in ./Checkpoints/MarBertv2_hyperparams/run-8/checkpoint-495/pytorch_model.bin\n",
      "tokenizer config file saved in ./Checkpoints/MarBertv2_hyperparams/run-8/checkpoint-495/tokenizer_config.json\n",
      "Special tokens file saved in ./Checkpoints/MarBertv2_hyperparams/run-8/checkpoint-495/special_tokens_map.json\n",
      " 19%|█▉        | 501/2640 [01:34<28:08,  1.27it/s]  "
     ]
    },
    {
     "name": "stdout",
     "output_type": "stream",
     "text": [
      "{'loss': 0.7549, 'learning_rate': 0.0005588538147823978, 'epoch': 3.03}\n"
     ]
    },
    {
     "name": "stderr",
     "output_type": "stream",
     "text": [
      " 25%|██▍       | 659/2640 [01:51<02:17, 14.37it/s]The following columns in the evaluation set  don't have a corresponding argument in `BertForSequenceClassification.forward` and have been ignored: text. If text are not expected by `BertForSequenceClassification.forward`,  you can safely ignore this message.\n",
      "***** Running Evaluation *****\n",
      "  Num examples = 1270\n",
      "  Batch size = 4\n",
      "\n",
      "  0%|          | 0/318 [00:00<?, ?it/s]\u001b[A\n",
      "  3%|▎         | 11/318 [00:00<00:03, 99.69it/s]\u001b[A\n",
      "  7%|▋         | 21/318 [00:00<00:03, 93.17it/s]\u001b[A\n",
      " 10%|▉         | 31/318 [00:00<00:03, 91.15it/s]\u001b[A\n",
      " 13%|█▎        | 41/318 [00:00<00:03, 90.88it/s]\u001b[A\n",
      " 16%|█▌        | 51/318 [00:00<00:02, 89.93it/s]\u001b[A\n",
      " 19%|█▉        | 60/318 [00:00<00:02, 88.75it/s]\u001b[A\n",
      " 22%|██▏       | 69/318 [00:00<00:02, 88.08it/s]\u001b[A\n",
      " 25%|██▍       | 78/318 [00:00<00:02, 87.86it/s]\u001b[A\n",
      " 28%|██▊       | 88/318 [00:00<00:02, 88.67it/s]\u001b[A\n",
      " 31%|███       | 97/318 [00:01<00:02, 88.80it/s]\u001b[A\n",
      " 34%|███▎      | 107/318 [00:01<00:02, 89.49it/s]\u001b[A\n",
      " 36%|███▋      | 116/318 [00:01<00:02, 86.78it/s]\u001b[A\n",
      " 39%|███▉      | 125/318 [00:01<00:02, 87.56it/s]\u001b[A\n",
      " 42%|████▏     | 134/318 [00:01<00:02, 87.86it/s]\u001b[A\n",
      " 45%|████▍     | 143/318 [00:01<00:01, 88.48it/s]\u001b[A\n",
      " 48%|████▊     | 152/318 [00:01<00:01, 88.69it/s]\u001b[A\n",
      " 51%|█████     | 161/318 [00:01<00:01, 89.06it/s]\u001b[A\n",
      " 54%|█████▍    | 171/318 [00:01<00:01, 89.60it/s]\u001b[A\n",
      " 57%|█████▋    | 181/318 [00:02<00:01, 90.00it/s]\u001b[A\n",
      " 60%|██████    | 191/318 [00:02<00:01, 90.31it/s]\u001b[A\n",
      " 63%|██████▎   | 201/318 [00:02<00:01, 90.45it/s]\u001b[A\n",
      " 66%|██████▋   | 211/318 [00:02<00:01, 90.86it/s]\u001b[A\n",
      " 69%|██████▉   | 221/318 [00:02<00:01, 90.58it/s]\u001b[A\n",
      " 73%|███████▎  | 231/318 [00:02<00:00, 90.29it/s]\u001b[A\n",
      " 76%|███████▌  | 241/318 [00:02<00:00, 89.86it/s]\u001b[A\n",
      " 79%|███████▊  | 250/318 [00:02<00:00, 89.25it/s]\u001b[A\n",
      " 82%|████████▏ | 260/318 [00:02<00:00, 90.09it/s]\u001b[A\n",
      " 85%|████████▍ | 270/318 [00:03<00:00, 90.24it/s]\u001b[A\n",
      " 88%|████████▊ | 280/318 [00:03<00:00, 89.34it/s]\u001b[A\n",
      " 91%|█████████ | 290/318 [00:03<00:00, 89.63it/s]\u001b[A\n",
      " 94%|█████████▍| 299/318 [00:03<00:00, 89.59it/s]\u001b[A\n",
      " 97%|█████████▋| 308/318 [00:03<00:00, 88.33it/s]\u001b[A\n",
      "100%|█████████▉| 317/318 [00:03<00:00, 87.99it/s]\u001b[A/cm/shared/ebtree/software/Python/3.8.6-GCCcore-10.2.0/lib/python3.8/site-packages/sklearn/metrics/_classification.py:1248: UndefinedMetricWarning: Precision is ill-defined and being set to 0.0 in labels with no predicted samples. Use `zero_division` parameter to control this behavior.\n",
      "  _warn_prf(average, modifier, msg_start, len(result))\n",
      "\n",
      "                                                  \n",
      " 25%|██▌       | 660/2640 [01:54<02:17, 14.37it/s][A\n",
      "                                                 \u001b[ASaving model checkpoint to ./Checkpoints/MarBertv2_hyperparams/run-8/checkpoint-660\n",
      "Configuration saved in ./Checkpoints/MarBertv2_hyperparams/run-8/checkpoint-660/config.json\n"
     ]
    },
    {
     "name": "stdout",
     "output_type": "stream",
     "text": [
      "{'eval_loss': 0.8255086541175842, 'eval_f1': 0.4054307116104869, 'eval_recall': 0.5, 'eval_precision': 0.3409448818897638, 'eval_runtime': 3.6328, 'eval_samples_per_second': 349.589, 'eval_steps_per_second': 87.535, 'epoch': 4.0}\n"
     ]
    },
    {
     "name": "stderr",
     "output_type": "stream",
     "text": [
      "Model weights saved in ./Checkpoints/MarBertv2_hyperparams/run-8/checkpoint-660/pytorch_model.bin\n",
      "tokenizer config file saved in ./Checkpoints/MarBertv2_hyperparams/run-8/checkpoint-660/tokenizer_config.json\n",
      "Special tokens file saved in ./Checkpoints/MarBertv2_hyperparams/run-8/checkpoint-660/special_tokens_map.json\n",
      " 31%|███▏      | 825/2640 [02:22<02:43, 11.10it/s]  The following columns in the evaluation set  don't have a corresponding argument in `BertForSequenceClassification.forward` and have been ignored: text. If text are not expected by `BertForSequenceClassification.forward`,  you can safely ignore this message.\n",
      "***** Running Evaluation *****\n",
      "  Num examples = 1270\n",
      "  Batch size = 4\n",
      "\n",
      "  0%|          | 0/318 [00:00<?, ?it/s]\u001b[A\n",
      "  3%|▎         | 10/318 [00:00<00:03, 96.95it/s]\u001b[A\n",
      "  6%|▋         | 20/318 [00:00<00:03, 91.78it/s]\u001b[A\n",
      "  9%|▉         | 30/318 [00:00<00:03, 90.10it/s]\u001b[A\n",
      " 13%|█▎        | 40/318 [00:00<00:03, 89.41it/s]\u001b[A\n",
      " 15%|█▌        | 49/318 [00:00<00:03, 89.14it/s]\u001b[A\n",
      " 18%|█▊        | 58/318 [00:00<00:02, 88.93it/s]\u001b[A\n",
      " 21%|██        | 67/318 [00:00<00:02, 88.87it/s]\u001b[A\n",
      " 24%|██▍       | 76/318 [00:00<00:02, 88.55it/s]\u001b[A\n",
      " 27%|██▋       | 85/318 [00:00<00:02, 88.50it/s]\u001b[A\n",
      " 30%|██▉       | 94/318 [00:01<00:02, 88.48it/s]\u001b[A\n",
      " 32%|███▏      | 103/318 [00:01<00:02, 88.50it/s]\u001b[A\n",
      " 35%|███▌      | 112/318 [00:01<00:02, 88.62it/s]\u001b[A\n",
      " 38%|███▊      | 121/318 [00:01<00:02, 88.59it/s]\u001b[A\n",
      " 41%|████      | 130/318 [00:01<00:02, 86.96it/s]\u001b[A\n",
      " 44%|████▎     | 139/318 [00:01<00:02, 87.18it/s]\u001b[A\n",
      " 47%|████▋     | 148/318 [00:01<00:01, 87.03it/s]\u001b[A\n",
      " 49%|████▉     | 157/318 [00:01<00:01, 86.92it/s]\u001b[A\n",
      " 52%|█████▏    | 166/318 [00:01<00:01, 86.96it/s]\u001b[A\n",
      " 55%|█████▌    | 175/318 [00:01<00:01, 86.79it/s]\u001b[A\n",
      " 58%|█████▊    | 184/318 [00:02<00:01, 87.04it/s]\u001b[A\n",
      " 61%|██████    | 193/318 [00:02<00:01, 87.09it/s]\u001b[A\n",
      " 64%|██████▎   | 202/318 [00:02<00:01, 87.35it/s]\u001b[A\n",
      " 66%|██████▋   | 211/318 [00:02<00:01, 87.73it/s]\u001b[A\n",
      " 69%|██████▉   | 220/318 [00:02<00:01, 87.94it/s]\u001b[A\n",
      " 72%|███████▏  | 229/318 [00:02<00:01, 87.84it/s]\u001b[A\n",
      " 75%|███████▍  | 238/318 [00:02<00:00, 87.98it/s]\u001b[A\n",
      " 78%|███████▊  | 247/318 [00:02<00:00, 87.93it/s]\u001b[A\n",
      " 81%|████████  | 256/318 [00:02<00:00, 88.34it/s]\u001b[A\n",
      " 83%|████████▎ | 265/318 [00:03<00:00, 88.37it/s]\u001b[A\n",
      " 86%|████████▌ | 274/318 [00:03<00:00, 88.27it/s]\u001b[A\n",
      " 89%|████████▉ | 283/318 [00:03<00:00, 88.39it/s]\u001b[A\n",
      " 92%|█████████▏| 292/318 [00:03<00:00, 88.27it/s]\u001b[A\n",
      " 95%|█████████▍| 301/318 [00:03<00:00, 88.23it/s]\u001b[A\n",
      " 97%|█████████▋| 310/318 [00:03<00:00, 87.90it/s]\u001b[A/cm/shared/ebtree/software/Python/3.8.6-GCCcore-10.2.0/lib/python3.8/site-packages/sklearn/metrics/_classification.py:1248: UndefinedMetricWarning: Precision is ill-defined and being set to 0.0 in labels with no predicted samples. Use `zero_division` parameter to control this behavior.\n",
      "  _warn_prf(average, modifier, msg_start, len(result))\n",
      "\n",
      "                                                  \n",
      " 31%|███▏      | 825/2640 [02:25<02:43, 11.10it/s][A\n",
      "                                                 \u001b[ASaving model checkpoint to ./Checkpoints/MarBertv2_hyperparams/run-8/checkpoint-825\n",
      "Configuration saved in ./Checkpoints/MarBertv2_hyperparams/run-8/checkpoint-825/config.json\n"
     ]
    },
    {
     "name": "stdout",
     "output_type": "stream",
     "text": [
      "{'eval_loss': 0.7555170059204102, 'eval_f1': 0.4054307116104869, 'eval_recall': 0.5, 'eval_precision': 0.3409448818897638, 'eval_runtime': 3.6817, 'eval_samples_per_second': 344.95, 'eval_steps_per_second': 86.373, 'epoch': 5.0}\n"
     ]
    },
    {
     "name": "stderr",
     "output_type": "stream",
     "text": [
      "Model weights saved in ./Checkpoints/MarBertv2_hyperparams/run-8/checkpoint-825/pytorch_model.bin\n",
      "tokenizer config file saved in ./Checkpoints/MarBertv2_hyperparams/run-8/checkpoint-825/tokenizer_config.json\n",
      "Special tokens file saved in ./Checkpoints/MarBertv2_hyperparams/run-8/checkpoint-825/special_tokens_map.json\n",
      " 38%|███▊      | 990/2640 [02:53<02:24, 11.42it/s]  The following columns in the evaluation set  don't have a corresponding argument in `BertForSequenceClassification.forward` and have been ignored: text. If text are not expected by `BertForSequenceClassification.forward`,  you can safely ignore this message.\n",
      "***** Running Evaluation *****\n",
      "  Num examples = 1270\n",
      "  Batch size = 4\n",
      "\n",
      "  0%|          | 0/318 [00:00<?, ?it/s]\u001b[A\n",
      "  3%|▎         | 11/318 [00:00<00:03, 100.01it/s]\u001b[A\n",
      "  7%|▋         | 22/318 [00:00<00:03, 93.69it/s] \u001b[A\n",
      " 10%|█         | 32/318 [00:00<00:03, 92.24it/s]\u001b[A\n",
      " 13%|█▎        | 42/318 [00:00<00:03, 91.88it/s]\u001b[A\n",
      " 16%|█▋        | 52/318 [00:00<00:02, 91.75it/s]\u001b[A\n",
      " 19%|█▉        | 62/318 [00:00<00:02, 91.49it/s]\u001b[A\n",
      " 23%|██▎       | 72/318 [00:00<00:02, 91.16it/s]\u001b[A\n",
      " 26%|██▌       | 82/318 [00:00<00:02, 90.73it/s]\u001b[A\n",
      " 29%|██▉       | 92/318 [00:01<00:02, 90.63it/s]\u001b[A\n",
      " 32%|███▏      | 102/318 [00:01<00:02, 90.53it/s]\u001b[A\n",
      " 35%|███▌      | 112/318 [00:01<00:02, 90.07it/s]\u001b[A\n",
      " 38%|███▊      | 122/318 [00:01<00:02, 90.19it/s]\u001b[A\n",
      " 42%|████▏     | 132/318 [00:01<00:02, 90.35it/s]\u001b[A\n",
      " 45%|████▍     | 142/318 [00:01<00:01, 89.79it/s]\u001b[A\n",
      " 48%|████▊     | 152/318 [00:01<00:01, 90.13it/s]\u001b[A\n",
      " 51%|█████     | 162/318 [00:01<00:01, 90.63it/s]\u001b[A\n",
      " 54%|█████▍    | 172/318 [00:01<00:01, 90.65it/s]\u001b[A\n",
      " 57%|█████▋    | 182/318 [00:02<00:01, 90.40it/s]\u001b[A\n",
      " 60%|██████    | 192/318 [00:02<00:01, 90.43it/s]\u001b[A\n",
      " 64%|██████▎   | 202/318 [00:02<00:01, 90.42it/s]\u001b[A\n",
      " 67%|██████▋   | 212/318 [00:02<00:01, 90.86it/s]\u001b[A\n",
      " 70%|██████▉   | 222/318 [00:02<00:01, 91.08it/s]\u001b[A\n",
      " 73%|███████▎  | 232/318 [00:02<00:00, 90.62it/s]\u001b[A\n",
      " 76%|███████▌  | 242/318 [00:02<00:00, 90.74it/s]\u001b[A\n",
      " 79%|███████▉  | 252/318 [00:02<00:00, 91.17it/s]\u001b[A\n",
      " 82%|████████▏ | 262/318 [00:02<00:00, 91.47it/s]\u001b[A\n",
      " 86%|████████▌ | 272/318 [00:02<00:00, 91.58it/s]\u001b[A\n",
      " 89%|████████▊ | 282/318 [00:03<00:00, 91.89it/s]\u001b[A\n",
      " 92%|█████████▏| 292/318 [00:03<00:00, 92.04it/s]\u001b[A\n",
      " 95%|█████████▍| 302/318 [00:03<00:00, 91.75it/s]\u001b[A\n",
      " 98%|█████████▊| 312/318 [00:03<00:00, 91.46it/s]\u001b[A/cm/shared/ebtree/software/Python/3.8.6-GCCcore-10.2.0/lib/python3.8/site-packages/sklearn/metrics/_classification.py:1248: UndefinedMetricWarning: Precision is ill-defined and being set to 0.0 in labels with no predicted samples. Use `zero_division` parameter to control this behavior.\n",
      "  _warn_prf(average, modifier, msg_start, len(result))\n",
      "\n",
      "                                                  \n",
      " 38%|███▊      | 990/2640 [02:56<02:24, 11.42it/s][A\n",
      "                                                 \u001b[ASaving model checkpoint to ./Checkpoints/MarBertv2_hyperparams/run-8/checkpoint-990\n",
      "Configuration saved in ./Checkpoints/MarBertv2_hyperparams/run-8/checkpoint-990/config.json\n"
     ]
    },
    {
     "name": "stdout",
     "output_type": "stream",
     "text": [
      "{'eval_loss': 0.6313449740409851, 'eval_f1': 0.4054307116104869, 'eval_recall': 0.5, 'eval_precision': 0.3409448818897638, 'eval_runtime': 3.5615, 'eval_samples_per_second': 356.592, 'eval_steps_per_second': 89.288, 'epoch': 6.0}\n"
     ]
    },
    {
     "name": "stderr",
     "output_type": "stream",
     "text": [
      "Model weights saved in ./Checkpoints/MarBertv2_hyperparams/run-8/checkpoint-990/pytorch_model.bin\n",
      "tokenizer config file saved in ./Checkpoints/MarBertv2_hyperparams/run-8/checkpoint-990/tokenizer_config.json\n",
      "Special tokens file saved in ./Checkpoints/MarBertv2_hyperparams/run-8/checkpoint-990/special_tokens_map.json\n",
      " 38%|███▊      | 1001/2640 [03:07<07:53,  3.46it/s]"
     ]
    },
    {
     "name": "stdout",
     "output_type": "stream",
     "text": [
      "{'loss': 0.8045, 'learning_rate': 0.00042828049357155723, 'epoch': 6.06}\n"
     ]
    },
    {
     "name": "stderr",
     "output_type": "stream",
     "text": [
      " 44%|████▎     | 1154/2640 [03:23<01:46, 13.90it/s]The following columns in the evaluation set  don't have a corresponding argument in `BertForSequenceClassification.forward` and have been ignored: text. If text are not expected by `BertForSequenceClassification.forward`,  you can safely ignore this message.\n",
      "***** Running Evaluation *****\n",
      "  Num examples = 1270\n",
      "  Batch size = 4\n",
      "\n",
      "  0%|          | 0/318 [00:00<?, ?it/s]\u001b[A\n",
      "  3%|▎         | 10/318 [00:00<00:03, 99.60it/s]\u001b[A\n",
      "  6%|▋         | 20/318 [00:00<00:03, 83.95it/s]\u001b[A\n",
      "  9%|▉         | 29/318 [00:00<00:03, 86.25it/s]\u001b[A\n",
      " 12%|█▏        | 38/318 [00:00<00:03, 87.52it/s]\u001b[A\n",
      " 15%|█▍        | 47/318 [00:00<00:03, 87.75it/s]\u001b[A\n",
      " 18%|█▊        | 56/318 [00:00<00:02, 88.25it/s]\u001b[A\n",
      " 20%|██        | 65/318 [00:00<00:02, 88.33it/s]\u001b[A\n",
      " 23%|██▎       | 74/318 [00:00<00:02, 88.59it/s]\u001b[A\n",
      " 26%|██▋       | 84/318 [00:00<00:02, 89.40it/s]\u001b[A\n",
      " 29%|██▉       | 93/318 [00:01<00:02, 89.03it/s]\u001b[A\n",
      " 32%|███▏      | 102/318 [00:01<00:02, 89.19it/s]\u001b[A\n",
      " 35%|███▌      | 112/318 [00:01<00:02, 89.38it/s]\u001b[A\n",
      " 38%|███▊      | 122/318 [00:01<00:02, 90.44it/s]\u001b[A\n",
      " 42%|████▏     | 132/318 [00:01<00:02, 91.23it/s]\u001b[A\n",
      " 45%|████▍     | 142/318 [00:01<00:01, 91.48it/s]\u001b[A\n",
      " 48%|████▊     | 152/318 [00:01<00:01, 91.06it/s]\u001b[A\n",
      " 51%|█████     | 162/318 [00:01<00:01, 90.80it/s]\u001b[A\n",
      " 54%|█████▍    | 172/318 [00:01<00:01, 90.75it/s]\u001b[A\n",
      " 57%|█████▋    | 182/318 [00:02<00:01, 90.43it/s]\u001b[A\n",
      " 60%|██████    | 192/318 [00:02<00:01, 90.30it/s]\u001b[A\n",
      " 64%|██████▎   | 202/318 [00:02<00:01, 90.62it/s]\u001b[A\n",
      " 67%|██████▋   | 212/318 [00:02<00:01, 90.14it/s]\u001b[A\n",
      " 70%|██████▉   | 222/318 [00:02<00:01, 90.15it/s]\u001b[A\n",
      " 73%|███████▎  | 232/318 [00:02<00:00, 89.93it/s]\u001b[A\n",
      " 76%|███████▌  | 241/318 [00:02<00:00, 89.60it/s]\u001b[A\n",
      " 79%|███████▊  | 250/318 [00:02<00:00, 89.16it/s]\u001b[A\n",
      " 81%|████████▏ | 259/318 [00:02<00:00, 89.40it/s]\u001b[A\n",
      " 84%|████████▍ | 268/318 [00:02<00:00, 88.20it/s]\u001b[A\n",
      " 87%|████████▋ | 277/318 [00:03<00:00, 88.03it/s]\u001b[A\n",
      " 90%|████████▉ | 286/318 [00:03<00:00, 88.36it/s]\u001b[A\n",
      " 93%|█████████▎| 295/318 [00:03<00:00, 87.62it/s]\u001b[A\n",
      " 96%|█████████▌| 304/318 [00:03<00:00, 85.76it/s]\u001b[A\n",
      " 98%|█████████▊| 313/318 [00:03<00:00, 86.82it/s]\u001b[A/cm/shared/ebtree/software/Python/3.8.6-GCCcore-10.2.0/lib/python3.8/site-packages/sklearn/metrics/_classification.py:1248: UndefinedMetricWarning: Precision is ill-defined and being set to 0.0 in labels with no predicted samples. Use `zero_division` parameter to control this behavior.\n",
      "  _warn_prf(average, modifier, msg_start, len(result))\n",
      "\n",
      "                                                   \n",
      " 44%|████▍     | 1155/2640 [03:27<01:46, 13.90it/s]A\n",
      "                                                 \u001b[ASaving model checkpoint to ./Checkpoints/MarBertv2_hyperparams/run-8/checkpoint-1155\n",
      "Configuration saved in ./Checkpoints/MarBertv2_hyperparams/run-8/checkpoint-1155/config.json\n"
     ]
    },
    {
     "name": "stdout",
     "output_type": "stream",
     "text": [
      "{'eval_loss': 0.6480820178985596, 'eval_f1': 0.4054307116104869, 'eval_recall': 0.5, 'eval_precision': 0.3409448818897638, 'eval_runtime': 3.6451, 'eval_samples_per_second': 348.411, 'eval_steps_per_second': 87.24, 'epoch': 7.0}\n"
     ]
    },
    {
     "name": "stderr",
     "output_type": "stream",
     "text": [
      "Model weights saved in ./Checkpoints/MarBertv2_hyperparams/run-8/checkpoint-1155/pytorch_model.bin\n",
      "tokenizer config file saved in ./Checkpoints/MarBertv2_hyperparams/run-8/checkpoint-1155/tokenizer_config.json\n",
      "Special tokens file saved in ./Checkpoints/MarBertv2_hyperparams/run-8/checkpoint-1155/special_tokens_map.json\n",
      " 50%|████▉     | 1319/2640 [03:54<01:31, 14.50it/s]The following columns in the evaluation set  don't have a corresponding argument in `BertForSequenceClassification.forward` and have been ignored: text. If text are not expected by `BertForSequenceClassification.forward`,  you can safely ignore this message.\n",
      "***** Running Evaluation *****\n",
      "  Num examples = 1270\n",
      "  Batch size = 4\n",
      "\n",
      "  0%|          | 0/318 [00:00<?, ?it/s]\u001b[A\n",
      "  3%|▎         | 9/318 [00:00<00:03, 89.07it/s]\u001b[A\n",
      "  6%|▌         | 18/318 [00:00<00:03, 88.76it/s]\u001b[A\n",
      "  8%|▊         | 27/318 [00:00<00:03, 88.92it/s]\u001b[A\n",
      " 12%|█▏        | 37/318 [00:00<00:03, 89.63it/s]\u001b[A\n",
      " 14%|█▍        | 46/318 [00:00<00:03, 86.26it/s]\u001b[A\n",
      " 17%|█▋        | 55/318 [00:00<00:03, 87.12it/s]\u001b[A\n",
      " 20%|██        | 65/318 [00:00<00:02, 88.58it/s]\u001b[A\n",
      " 24%|██▎       | 75/318 [00:00<00:02, 89.32it/s]\u001b[A\n",
      " 27%|██▋       | 85/318 [00:00<00:02, 89.95it/s]\u001b[A\n",
      " 30%|██▉       | 95/318 [00:01<00:02, 90.21it/s]\u001b[A\n",
      " 33%|███▎      | 105/318 [00:01<00:02, 89.90it/s]\u001b[A\n",
      " 36%|███▌      | 114/318 [00:01<00:02, 89.57it/s]\u001b[A\n",
      " 39%|███▊      | 123/318 [00:01<00:02, 89.39it/s]\u001b[A\n",
      " 42%|████▏     | 132/318 [00:01<00:02, 89.39it/s]\u001b[A\n",
      " 45%|████▍     | 142/318 [00:01<00:01, 90.00it/s]\u001b[A\n",
      " 47%|████▋     | 151/318 [00:01<00:01, 89.63it/s]\u001b[A\n",
      " 50%|█████     | 160/318 [00:01<00:01, 89.63it/s]\u001b[A\n",
      " 53%|█████▎    | 170/318 [00:01<00:01, 90.04it/s]\u001b[A\n",
      " 57%|█████▋    | 180/318 [00:02<00:01, 90.49it/s]\u001b[A\n",
      " 60%|█████▉    | 190/318 [00:02<00:01, 91.01it/s]\u001b[A\n",
      " 63%|██████▎   | 200/318 [00:02<00:01, 91.66it/s]\u001b[A\n",
      " 66%|██████▌   | 210/318 [00:02<00:01, 91.56it/s]\u001b[A\n",
      " 69%|██████▉   | 220/318 [00:02<00:01, 90.86it/s]\u001b[A\n",
      " 72%|███████▏  | 230/318 [00:02<00:00, 90.55it/s]\u001b[A\n",
      " 75%|███████▌  | 240/318 [00:02<00:00, 90.29it/s]\u001b[A\n",
      " 79%|███████▊  | 250/318 [00:02<00:00, 90.25it/s]\u001b[A\n",
      " 82%|████████▏ | 260/318 [00:02<00:00, 83.27it/s]\u001b[A\n",
      " 85%|████████▍ | 270/318 [00:03<00:00, 85.26it/s]\u001b[A\n",
      " 88%|████████▊ | 280/318 [00:03<00:00, 86.65it/s]\u001b[A\n",
      " 91%|█████████ | 290/318 [00:03<00:00, 87.98it/s]\u001b[A\n",
      " 94%|█████████▍| 300/318 [00:03<00:00, 88.80it/s]\u001b[A\n",
      " 97%|█████████▋| 309/318 [00:03<00:00, 74.35it/s]\u001b[A\n",
      "100%|██████████| 318/318 [00:03<00:00, 77.88it/s]\u001b[A/cm/shared/ebtree/software/Python/3.8.6-GCCcore-10.2.0/lib/python3.8/site-packages/sklearn/metrics/_classification.py:1248: UndefinedMetricWarning: Precision is ill-defined and being set to 0.0 in labels with no predicted samples. Use `zero_division` parameter to control this behavior.\n",
      "  _warn_prf(average, modifier, msg_start, len(result))\n",
      "\n",
      "                                                   \n",
      " 50%|█████     | 1320/2640 [03:58<01:31, 14.50it/s]A\n",
      "                                                 \u001b[ASaving model checkpoint to ./Checkpoints/MarBertv2_hyperparams/run-8/checkpoint-1320\n",
      "Configuration saved in ./Checkpoints/MarBertv2_hyperparams/run-8/checkpoint-1320/config.json\n"
     ]
    },
    {
     "name": "stdout",
     "output_type": "stream",
     "text": [
      "{'eval_loss': 0.6958714127540588, 'eval_f1': 0.24133811230585425, 'eval_recall': 0.5, 'eval_precision': 0.15905511811023623, 'eval_runtime': 3.7169, 'eval_samples_per_second': 341.682, 'eval_steps_per_second': 85.555, 'epoch': 8.0}\n"
     ]
    },
    {
     "name": "stderr",
     "output_type": "stream",
     "text": [
      "Model weights saved in ./Checkpoints/MarBertv2_hyperparams/run-8/checkpoint-1320/pytorch_model.bin\n",
      "tokenizer config file saved in ./Checkpoints/MarBertv2_hyperparams/run-8/checkpoint-1320/tokenizer_config.json\n",
      "Special tokens file saved in ./Checkpoints/MarBertv2_hyperparams/run-8/checkpoint-1320/special_tokens_map.json\n",
      " 56%|█████▋    | 1485/2640 [04:24<01:43, 11.13it/s]The following columns in the evaluation set  don't have a corresponding argument in `BertForSequenceClassification.forward` and have been ignored: text. If text are not expected by `BertForSequenceClassification.forward`,  you can safely ignore this message.\n",
      "***** Running Evaluation *****\n",
      "  Num examples = 1270\n",
      "  Batch size = 4\n",
      "\n",
      "  0%|          | 0/318 [00:00<?, ?it/s]\u001b[A\n",
      "  3%|▎         | 10/318 [00:00<00:03, 95.81it/s]\u001b[A\n",
      "  6%|▋         | 20/318 [00:00<00:03, 89.85it/s]\u001b[A\n",
      "  9%|▉         | 30/318 [00:00<00:03, 89.24it/s]\u001b[A\n",
      " 12%|█▏        | 39/318 [00:00<00:03, 87.10it/s]\u001b[A\n",
      " 15%|█▌        | 49/318 [00:00<00:03, 88.25it/s]\u001b[A\n",
      " 18%|█▊        | 58/318 [00:00<00:03, 85.83it/s]\u001b[A\n",
      " 21%|██        | 67/318 [00:00<00:02, 86.68it/s]\u001b[A\n",
      " 24%|██▍       | 76/318 [00:00<00:02, 87.24it/s]\u001b[A\n",
      " 27%|██▋       | 85/318 [00:00<00:02, 87.36it/s]\u001b[A\n",
      " 30%|██▉       | 94/318 [00:01<00:02, 87.61it/s]\u001b[A\n",
      " 32%|███▏      | 103/318 [00:01<00:02, 86.32it/s]\u001b[A\n",
      " 35%|███▌      | 112/318 [00:01<00:02, 86.75it/s]\u001b[A\n",
      " 38%|███▊      | 121/318 [00:01<00:02, 87.19it/s]\u001b[A\n",
      " 41%|████      | 130/318 [00:01<00:02, 85.93it/s]\u001b[A\n",
      " 44%|████▎     | 139/318 [00:01<00:02, 79.75it/s]\u001b[A\n",
      " 47%|████▋     | 148/318 [00:01<00:02, 81.07it/s]\u001b[A\n",
      " 49%|████▉     | 157/318 [00:01<00:01, 82.83it/s]\u001b[A\n",
      " 52%|█████▏    | 166/318 [00:01<00:01, 84.03it/s]\u001b[A\n",
      " 55%|█████▌    | 175/318 [00:02<00:01, 83.36it/s]\u001b[A\n",
      " 58%|█████▊    | 184/318 [00:02<00:01, 83.08it/s]\u001b[A\n",
      " 61%|██████    | 193/318 [00:02<00:01, 81.75it/s]\u001b[A\n",
      " 64%|██████▎   | 202/318 [00:02<00:01, 83.28it/s]\u001b[A\n",
      " 66%|██████▋   | 211/318 [00:02<00:01, 78.74it/s]\u001b[A\n",
      " 69%|██████▉   | 219/318 [00:02<00:01, 77.06it/s]\u001b[A\n",
      " 71%|███████▏  | 227/318 [00:02<00:01, 75.84it/s]\u001b[A\n",
      " 74%|███████▍  | 235/318 [00:02<00:01, 74.92it/s]\u001b[A\n",
      " 76%|███████▋  | 243/318 [00:02<00:01, 72.93it/s]\u001b[A\n",
      " 79%|███████▉  | 252/318 [00:03<00:00, 77.02it/s]\u001b[A\n",
      " 82%|████████▏ | 261/318 [00:03<00:00, 80.30it/s]\u001b[A\n",
      " 85%|████████▍ | 270/318 [00:03<00:00, 82.52it/s]\u001b[A\n",
      " 88%|████████▊ | 279/318 [00:03<00:00, 84.05it/s]\u001b[A\n",
      " 91%|█████████ | 288/318 [00:03<00:00, 85.29it/s]\u001b[A\n",
      " 93%|█████████▎| 297/318 [00:03<00:00, 78.29it/s]\u001b[A\n",
      " 96%|█████████▌| 306/318 [00:03<00:00, 80.64it/s]\u001b[A\n",
      " 99%|█████████▉| 315/318 [00:03<00:00, 82.51it/s]\u001b[A/cm/shared/ebtree/software/Python/3.8.6-GCCcore-10.2.0/lib/python3.8/site-packages/sklearn/metrics/_classification.py:1248: UndefinedMetricWarning: Precision is ill-defined and being set to 0.0 in labels with no predicted samples. Use `zero_division` parameter to control this behavior.\n",
      "  _warn_prf(average, modifier, msg_start, len(result))\n",
      "\n",
      "                                                   \n",
      " 56%|█████▋    | 1485/2640 [04:28<01:43, 11.13it/s]A\n",
      "                                                 \u001b[ASaving model checkpoint to ./Checkpoints/MarBertv2_hyperparams/run-8/checkpoint-1485\n",
      "Configuration saved in ./Checkpoints/MarBertv2_hyperparams/run-8/checkpoint-1485/config.json\n"
     ]
    },
    {
     "name": "stdout",
     "output_type": "stream",
     "text": [
      "{'eval_loss': 0.695946216583252, 'eval_f1': 0.24133811230585425, 'eval_recall': 0.5, 'eval_precision': 0.15905511811023623, 'eval_runtime': 3.9268, 'eval_samples_per_second': 323.417, 'eval_steps_per_second': 80.982, 'epoch': 9.0}\n"
     ]
    },
    {
     "name": "stderr",
     "output_type": "stream",
     "text": [
      "Model weights saved in ./Checkpoints/MarBertv2_hyperparams/run-8/checkpoint-1485/pytorch_model.bin\n",
      "tokenizer config file saved in ./Checkpoints/MarBertv2_hyperparams/run-8/checkpoint-1485/tokenizer_config.json\n",
      "Special tokens file saved in ./Checkpoints/MarBertv2_hyperparams/run-8/checkpoint-1485/special_tokens_map.json\n",
      " 57%|█████▋    | 1501/2640 [04:40<02:40,  7.08it/s]"
     ]
    },
    {
     "name": "stdout",
     "output_type": "stream",
     "text": [
      "{'loss': 0.7018, 'learning_rate': 0.0002977071723607166, 'epoch': 9.09}\n"
     ]
    },
    {
     "name": "stderr",
     "output_type": "stream",
     "text": [
      " 62%|██████▎   | 1650/2640 [04:56<01:31, 10.81it/s]The following columns in the evaluation set  don't have a corresponding argument in `BertForSequenceClassification.forward` and have been ignored: text. If text are not expected by `BertForSequenceClassification.forward`,  you can safely ignore this message.\n",
      "***** Running Evaluation *****\n",
      "  Num examples = 1270\n",
      "  Batch size = 4\n",
      "\n",
      "  0%|          | 0/318 [00:00<?, ?it/s]\u001b[A\n",
      "  3%|▎         | 11/318 [00:00<00:03, 99.40it/s]\u001b[A\n",
      "  7%|▋         | 21/318 [00:00<00:03, 93.39it/s]\u001b[A\n",
      " 10%|▉         | 31/318 [00:00<00:03, 91.51it/s]\u001b[A\n",
      " 13%|█▎        | 41/318 [00:00<00:03, 91.10it/s]\u001b[A\n",
      " 16%|█▌        | 51/318 [00:00<00:02, 90.90it/s]\u001b[A\n",
      " 19%|█▉        | 61/318 [00:00<00:02, 91.15it/s]\u001b[A\n",
      " 22%|██▏       | 71/318 [00:00<00:02, 91.31it/s]\u001b[A\n",
      " 25%|██▌       | 81/318 [00:00<00:02, 91.55it/s]\u001b[A\n",
      " 29%|██▊       | 91/318 [00:00<00:02, 91.23it/s]\u001b[A\n",
      " 32%|███▏      | 101/318 [00:01<00:02, 90.72it/s]\u001b[A\n",
      " 35%|███▍      | 111/318 [00:01<00:02, 90.76it/s]\u001b[A\n",
      " 38%|███▊      | 121/318 [00:01<00:02, 90.46it/s]\u001b[A\n",
      " 41%|████      | 131/318 [00:01<00:02, 88.39it/s]\u001b[A\n",
      " 44%|████▍     | 140/318 [00:01<00:02, 83.36it/s]\u001b[A\n",
      " 47%|████▋     | 149/318 [00:01<00:02, 80.85it/s]\u001b[A\n",
      " 50%|████▉     | 158/318 [00:01<00:02, 79.45it/s]\u001b[A\n",
      " 52%|█████▏    | 166/318 [00:01<00:01, 78.39it/s]\u001b[A\n",
      " 55%|█████▍    | 174/318 [00:02<00:01, 77.43it/s]\u001b[A\n",
      " 57%|█████▋    | 182/318 [00:02<00:01, 76.79it/s]\u001b[A\n",
      " 60%|█████▉    | 190/318 [00:02<00:01, 76.36it/s]\u001b[A\n",
      " 62%|██████▏   | 198/318 [00:02<00:01, 76.23it/s]\u001b[A\n",
      " 65%|██████▍   | 206/318 [00:02<00:01, 75.38it/s]\u001b[A\n",
      " 67%|██████▋   | 214/318 [00:02<00:01, 75.22it/s]\u001b[A\n",
      " 70%|██████▉   | 222/318 [00:02<00:01, 74.81it/s]\u001b[A\n",
      " 72%|███████▏  | 230/318 [00:02<00:01, 75.10it/s]\u001b[A\n",
      " 75%|███████▍  | 238/318 [00:02<00:01, 75.58it/s]\u001b[A\n",
      " 77%|███████▋  | 246/318 [00:02<00:00, 75.04it/s]\u001b[A\n",
      " 80%|███████▉  | 254/318 [00:03<00:00, 75.04it/s]\u001b[A\n",
      " 82%|████████▏ | 262/318 [00:03<00:00, 75.57it/s]\u001b[A\n",
      " 85%|████████▍ | 270/318 [00:03<00:00, 75.21it/s]\u001b[A\n",
      " 87%|████████▋ | 278/318 [00:03<00:00, 74.68it/s]\u001b[A\n",
      " 90%|████████▉ | 286/318 [00:03<00:00, 74.69it/s]\u001b[A\n",
      " 92%|█████████▏| 294/318 [00:03<00:00, 74.93it/s]\u001b[A\n",
      " 95%|█████████▍| 302/318 [00:03<00:00, 75.32it/s]\u001b[A\n",
      " 97%|█████████▋| 310/318 [00:03<00:00, 75.48it/s]\u001b[A\n",
      "100%|██████████| 318/318 [00:03<00:00, 75.42it/s]\u001b[A/cm/shared/ebtree/software/Python/3.8.6-GCCcore-10.2.0/lib/python3.8/site-packages/sklearn/metrics/_classification.py:1248: UndefinedMetricWarning: Precision is ill-defined and being set to 0.0 in labels with no predicted samples. Use `zero_division` parameter to control this behavior.\n",
      "  _warn_prf(average, modifier, msg_start, len(result))\n",
      "\n",
      "                                                   \n",
      " 62%|██████▎   | 1650/2640 [05:00<01:31, 10.81it/s]A\n",
      "                                                 \u001b[ASaving model checkpoint to ./Checkpoints/MarBertv2_hyperparams/run-8/checkpoint-1650\n",
      "Configuration saved in ./Checkpoints/MarBertv2_hyperparams/run-8/checkpoint-1650/config.json\n"
     ]
    },
    {
     "name": "stdout",
     "output_type": "stream",
     "text": [
      "{'eval_loss': 0.6957681775093079, 'eval_f1': 0.24133811230585425, 'eval_recall': 0.5, 'eval_precision': 0.15905511811023623, 'eval_runtime': 4.0142, 'eval_samples_per_second': 316.377, 'eval_steps_per_second': 79.219, 'epoch': 10.0}\n"
     ]
    },
    {
     "name": "stderr",
     "output_type": "stream",
     "text": [
      "Model weights saved in ./Checkpoints/MarBertv2_hyperparams/run-8/checkpoint-1650/pytorch_model.bin\n",
      "tokenizer config file saved in ./Checkpoints/MarBertv2_hyperparams/run-8/checkpoint-1650/tokenizer_config.json\n",
      "Special tokens file saved in ./Checkpoints/MarBertv2_hyperparams/run-8/checkpoint-1650/special_tokens_map.json\n",
      " 69%|██████▉   | 1815/2640 [05:26<01:13, 11.19it/s]The following columns in the evaluation set  don't have a corresponding argument in `BertForSequenceClassification.forward` and have been ignored: text. If text are not expected by `BertForSequenceClassification.forward`,  you can safely ignore this message.\n",
      "***** Running Evaluation *****\n",
      "  Num examples = 1270\n",
      "  Batch size = 4\n",
      "\n",
      "  0%|          | 0/318 [00:00<?, ?it/s]\u001b[A\n",
      "  3%|▎         | 10/318 [00:00<00:03, 99.82it/s]\u001b[A\n",
      "  6%|▋         | 20/318 [00:00<00:03, 92.94it/s]\u001b[A\n",
      "  9%|▉         | 30/318 [00:00<00:03, 91.10it/s]\u001b[A\n",
      " 13%|█▎        | 40/318 [00:00<00:03, 90.78it/s]\u001b[A\n",
      " 16%|█▌        | 50/318 [00:00<00:02, 90.94it/s]\u001b[A\n",
      " 19%|█▉        | 60/318 [00:00<00:02, 91.20it/s]\u001b[A\n",
      " 22%|██▏       | 70/318 [00:00<00:02, 91.19it/s]\u001b[A\n",
      " 25%|██▌       | 80/318 [00:00<00:02, 90.17it/s]\u001b[A\n",
      " 28%|██▊       | 90/318 [00:00<00:02, 89.72it/s]\u001b[A\n",
      " 31%|███       | 99/318 [00:01<00:02, 89.29it/s]\u001b[A\n",
      " 34%|███▍      | 109/318 [00:01<00:02, 89.84it/s]\u001b[A\n",
      " 37%|███▋      | 119/318 [00:01<00:02, 89.99it/s]\u001b[A\n",
      " 40%|████      | 128/318 [00:01<00:02, 88.98it/s]\u001b[A\n",
      " 43%|████▎     | 137/318 [00:01<00:02, 88.94it/s]\u001b[A\n",
      " 46%|████▌     | 147/318 [00:01<00:01, 89.48it/s]\u001b[A\n",
      " 49%|████▉     | 156/318 [00:01<00:01, 89.63it/s]\u001b[A\n",
      " 52%|█████▏    | 166/318 [00:01<00:01, 90.15it/s]\u001b[A\n",
      " 55%|█████▌    | 176/318 [00:01<00:01, 90.15it/s]\u001b[A\n",
      " 58%|█████▊    | 186/318 [00:02<00:01, 88.99it/s]\u001b[A\n",
      " 61%|██████▏   | 195/318 [00:02<00:01, 88.89it/s]\u001b[A\n",
      " 64%|██████▍   | 204/318 [00:02<00:01, 88.64it/s]\u001b[A\n",
      " 67%|██████▋   | 213/318 [00:02<00:01, 88.43it/s]\u001b[A\n",
      " 70%|██████▉   | 222/318 [00:02<00:01, 87.87it/s]\u001b[A\n",
      " 73%|███████▎  | 231/318 [00:02<00:01, 84.81it/s]\u001b[A\n",
      " 75%|███████▌  | 240/318 [00:02<00:00, 86.02it/s]\u001b[A\n",
      " 78%|███████▊  | 249/318 [00:02<00:00, 86.97it/s]\u001b[A\n",
      " 81%|████████▏ | 259/318 [00:02<00:00, 88.01it/s]\u001b[A\n",
      " 84%|████████▍ | 268/318 [00:03<00:00, 88.53it/s]\u001b[A\n",
      " 87%|████████▋ | 277/318 [00:03<00:00, 88.63it/s]\u001b[A\n",
      " 90%|████████▉ | 286/318 [00:03<00:00, 88.57it/s]\u001b[A\n",
      " 93%|█████████▎| 295/318 [00:03<00:00, 88.61it/s]\u001b[A\n",
      " 96%|█████████▌| 304/318 [00:03<00:00, 88.84it/s]\u001b[A\n",
      " 98%|█████████▊| 313/318 [00:03<00:00, 88.91it/s]\u001b[A/cm/shared/ebtree/software/Python/3.8.6-GCCcore-10.2.0/lib/python3.8/site-packages/sklearn/metrics/_classification.py:1248: UndefinedMetricWarning: Precision is ill-defined and being set to 0.0 in labels with no predicted samples. Use `zero_division` parameter to control this behavior.\n",
      "  _warn_prf(average, modifier, msg_start, len(result))\n",
      "\n",
      "                                                   \n",
      " 69%|██████▉   | 1815/2640 [05:30<01:13, 11.19it/s]A\n",
      "                                                 \u001b[ASaving model checkpoint to ./Checkpoints/MarBertv2_hyperparams/run-8/checkpoint-1815\n",
      "Configuration saved in ./Checkpoints/MarBertv2_hyperparams/run-8/checkpoint-1815/config.json\n"
     ]
    },
    {
     "name": "stdout",
     "output_type": "stream",
     "text": [
      "{'eval_loss': 0.695536732673645, 'eval_f1': 0.24133811230585425, 'eval_recall': 0.5, 'eval_precision': 0.15905511811023623, 'eval_runtime': 3.6387, 'eval_samples_per_second': 349.029, 'eval_steps_per_second': 87.395, 'epoch': 11.0}\n"
     ]
    },
    {
     "name": "stderr",
     "output_type": "stream",
     "text": [
      "Model weights saved in ./Checkpoints/MarBertv2_hyperparams/run-8/checkpoint-1815/pytorch_model.bin\n",
      "tokenizer config file saved in ./Checkpoints/MarBertv2_hyperparams/run-8/checkpoint-1815/tokenizer_config.json\n",
      "Special tokens file saved in ./Checkpoints/MarBertv2_hyperparams/run-8/checkpoint-1815/special_tokens_map.json\n",
      " 75%|███████▍  | 1979/2640 [05:57<00:44, 14.80it/s]The following columns in the evaluation set  don't have a corresponding argument in `BertForSequenceClassification.forward` and have been ignored: text. If text are not expected by `BertForSequenceClassification.forward`,  you can safely ignore this message.\n",
      "***** Running Evaluation *****\n",
      "  Num examples = 1270\n",
      "  Batch size = 4\n",
      "\n",
      "  0%|          | 0/318 [00:00<?, ?it/s]\u001b[A\n",
      "  3%|▎         | 10/318 [00:00<00:03, 96.21it/s]\u001b[A\n",
      "  6%|▋         | 20/318 [00:00<00:03, 91.83it/s]\u001b[A\n",
      "  9%|▉         | 30/318 [00:00<00:03, 90.44it/s]\u001b[A\n",
      " 13%|█▎        | 40/318 [00:00<00:03, 90.01it/s]\u001b[A\n",
      " 16%|█▌        | 50/318 [00:00<00:02, 89.41it/s]\u001b[A\n",
      " 19%|█▊        | 59/318 [00:00<00:02, 89.06it/s]\u001b[A\n",
      " 21%|██▏       | 68/318 [00:00<00:03, 80.02it/s]\u001b[A\n",
      " 24%|██▍       | 77/318 [00:00<00:02, 81.54it/s]\u001b[A\n",
      " 27%|██▋       | 87/318 [00:01<00:02, 84.52it/s]\u001b[A\n",
      " 30%|███       | 96/318 [00:01<00:02, 86.04it/s]\u001b[A\n",
      " 33%|███▎      | 106/318 [00:01<00:02, 87.41it/s]\u001b[A\n",
      " 36%|███▌      | 115/318 [00:01<00:02, 86.15it/s]\u001b[A\n",
      " 39%|███▉      | 124/318 [00:01<00:02, 86.47it/s]\u001b[A\n",
      " 42%|████▏     | 133/318 [00:01<00:02, 86.86it/s]\u001b[A\n",
      " 45%|████▍     | 142/318 [00:01<00:02, 85.70it/s]\u001b[A\n",
      " 47%|████▋     | 151/318 [00:01<00:01, 85.72it/s]\u001b[A\n",
      " 50%|█████     | 160/318 [00:01<00:01, 86.12it/s]\u001b[A\n",
      " 53%|█████▎    | 169/318 [00:01<00:01, 86.68it/s]\u001b[A\n",
      " 56%|█████▌    | 178/318 [00:02<00:01, 86.93it/s]\u001b[A\n",
      " 59%|█████▉    | 187/318 [00:02<00:01, 87.24it/s]\u001b[A\n",
      " 62%|██████▏   | 196/318 [00:02<00:01, 87.56it/s]\u001b[A\n",
      " 64%|██████▍   | 205/318 [00:02<00:01, 87.52it/s]\u001b[A\n",
      " 67%|██████▋   | 214/318 [00:02<00:01, 88.00it/s]\u001b[A\n",
      " 70%|███████   | 223/318 [00:02<00:01, 88.14it/s]\u001b[A\n",
      " 73%|███████▎  | 232/318 [00:02<00:00, 88.30it/s]\u001b[A\n",
      " 76%|███████▌  | 241/318 [00:02<00:00, 87.82it/s]\u001b[A\n",
      " 79%|███████▊  | 250/318 [00:02<00:00, 85.06it/s]\u001b[A\n",
      " 81%|████████▏ | 259/318 [00:02<00:00, 86.28it/s]\u001b[A\n",
      " 84%|████████▍ | 268/318 [00:03<00:00, 87.14it/s]\u001b[A\n",
      " 87%|████████▋ | 277/318 [00:03<00:00, 87.56it/s]\u001b[A\n",
      " 90%|████████▉ | 286/318 [00:03<00:00, 87.98it/s]\u001b[A\n",
      " 93%|█████████▎| 295/318 [00:03<00:00, 82.83it/s]\u001b[A\n",
      " 96%|█████████▌| 304/318 [00:03<00:00, 79.69it/s]\u001b[A\n",
      " 98%|█████████▊| 313/318 [00:03<00:00, 77.62it/s]\u001b[A/cm/shared/ebtree/software/Python/3.8.6-GCCcore-10.2.0/lib/python3.8/site-packages/sklearn/metrics/_classification.py:1248: UndefinedMetricWarning: Precision is ill-defined and being set to 0.0 in labels with no predicted samples. Use `zero_division` parameter to control this behavior.\n",
      "  _warn_prf(average, modifier, msg_start, len(result))\n",
      "\n",
      "                                                   \n",
      " 75%|███████▌  | 1980/2640 [06:01<00:44, 14.80it/s]A\n",
      "                                                 \u001b[ASaving model checkpoint to ./Checkpoints/MarBertv2_hyperparams/run-8/checkpoint-1980\n",
      "Configuration saved in ./Checkpoints/MarBertv2_hyperparams/run-8/checkpoint-1980/config.json\n"
     ]
    },
    {
     "name": "stdout",
     "output_type": "stream",
     "text": [
      "{'eval_loss': 0.6954466104507446, 'eval_f1': 0.24133811230585425, 'eval_recall': 0.5, 'eval_precision': 0.15905511811023623, 'eval_runtime': 3.8109, 'eval_samples_per_second': 333.256, 'eval_steps_per_second': 83.445, 'epoch': 12.0}\n"
     ]
    },
    {
     "name": "stderr",
     "output_type": "stream",
     "text": [
      "Model weights saved in ./Checkpoints/MarBertv2_hyperparams/run-8/checkpoint-1980/pytorch_model.bin\n",
      "tokenizer config file saved in ./Checkpoints/MarBertv2_hyperparams/run-8/checkpoint-1980/tokenizer_config.json\n",
      "Special tokens file saved in ./Checkpoints/MarBertv2_hyperparams/run-8/checkpoint-1980/special_tokens_map.json\n",
      " 76%|███████▌  | 2002/2640 [06:13<01:06,  9.54it/s]"
     ]
    },
    {
     "name": "stdout",
     "output_type": "stream",
     "text": [
      "{'loss': 0.6935, 'learning_rate': 0.00016713385114987598, 'epoch': 12.12}\n"
     ]
    },
    {
     "name": "stderr",
     "output_type": "stream",
     "text": [
      " 81%|████████  | 2144/2640 [06:27<00:33, 14.72it/s]The following columns in the evaluation set  don't have a corresponding argument in `BertForSequenceClassification.forward` and have been ignored: text. If text are not expected by `BertForSequenceClassification.forward`,  you can safely ignore this message.\n",
      "***** Running Evaluation *****\n",
      "  Num examples = 1270\n",
      "  Batch size = 4\n",
      "\n",
      "  0%|          | 0/318 [00:00<?, ?it/s]\u001b[A\n",
      "  3%|▎         | 9/318 [00:00<00:03, 85.29it/s]\u001b[A\n",
      "  6%|▌         | 18/318 [00:00<00:03, 78.63it/s]\u001b[A\n",
      "  8%|▊         | 26/318 [00:00<00:03, 76.50it/s]\u001b[A\n",
      " 11%|█         | 34/318 [00:00<00:03, 75.45it/s]\u001b[A\n",
      " 13%|█▎        | 42/318 [00:00<00:03, 74.99it/s]\u001b[A\n",
      " 16%|█▌        | 50/318 [00:00<00:03, 74.60it/s]\u001b[A\n",
      " 19%|█▊        | 59/318 [00:00<00:03, 79.08it/s]\u001b[A\n",
      " 22%|██▏       | 69/318 [00:00<00:02, 83.16it/s]\u001b[A\n",
      " 25%|██▍       | 78/318 [00:00<00:02, 85.16it/s]\u001b[A\n",
      " 27%|██▋       | 87/318 [00:01<00:02, 86.16it/s]\u001b[A\n",
      " 31%|███       | 97/318 [00:01<00:02, 87.65it/s]\u001b[A\n",
      " 33%|███▎      | 106/318 [00:01<00:02, 88.01it/s]\u001b[A\n",
      " 36%|███▌      | 115/318 [00:01<00:02, 88.28it/s]\u001b[A\n",
      " 39%|███▉      | 124/318 [00:01<00:02, 88.23it/s]\u001b[A\n",
      " 42%|████▏     | 133/318 [00:01<00:02, 88.06it/s]\u001b[A\n",
      " 45%|████▍     | 142/318 [00:01<00:01, 88.51it/s]\u001b[A\n",
      " 47%|████▋     | 151/318 [00:01<00:01, 88.48it/s]\u001b[A\n",
      " 50%|█████     | 160/318 [00:01<00:01, 88.82it/s]\u001b[A\n",
      " 53%|█████▎    | 169/318 [00:01<00:01, 88.59it/s]\u001b[A\n",
      " 56%|█████▌    | 178/318 [00:02<00:01, 88.66it/s]\u001b[A\n",
      " 59%|█████▉    | 187/318 [00:02<00:01, 88.99it/s]\u001b[A\n",
      " 62%|██████▏   | 196/318 [00:02<00:01, 89.19it/s]\u001b[A\n",
      " 64%|██████▍   | 205/318 [00:02<00:01, 89.16it/s]\u001b[A\n",
      " 67%|██████▋   | 214/318 [00:02<00:01, 89.03it/s]\u001b[A\n",
      " 70%|███████   | 224/318 [00:02<00:01, 89.51it/s]\u001b[A\n",
      " 73%|███████▎  | 233/318 [00:02<00:00, 89.28it/s]\u001b[A\n",
      " 76%|███████▋  | 243/318 [00:02<00:00, 89.58it/s]\u001b[A\n",
      " 79%|███████▉  | 252/318 [00:02<00:00, 89.55it/s]\u001b[A\n",
      " 82%|████████▏ | 261/318 [00:03<00:00, 89.18it/s]\u001b[A\n",
      " 85%|████████▍ | 270/318 [00:03<00:00, 87.73it/s]\u001b[A\n",
      " 88%|████████▊ | 280/318 [00:03<00:00, 88.65it/s]\u001b[A\n",
      " 91%|█████████ | 290/318 [00:03<00:00, 89.70it/s]\u001b[A\n",
      " 94%|█████████▍| 300/318 [00:03<00:00, 90.26it/s]\u001b[A\n",
      " 97%|█████████▋| 310/318 [00:03<00:00, 90.49it/s]\u001b[A/cm/shared/ebtree/software/Python/3.8.6-GCCcore-10.2.0/lib/python3.8/site-packages/sklearn/metrics/_classification.py:1248: UndefinedMetricWarning: Precision is ill-defined and being set to 0.0 in labels with no predicted samples. Use `zero_division` parameter to control this behavior.\n",
      "  _warn_prf(average, modifier, msg_start, len(result))\n",
      "\n",
      "                                                   \n",
      " 81%|████████▏ | 2145/2640 [06:31<00:33, 14.72it/s]A\n",
      "                                                 \u001b[ASaving model checkpoint to ./Checkpoints/MarBertv2_hyperparams/run-8/checkpoint-2145\n",
      "Configuration saved in ./Checkpoints/MarBertv2_hyperparams/run-8/checkpoint-2145/config.json\n"
     ]
    },
    {
     "name": "stdout",
     "output_type": "stream",
     "text": [
      "{'eval_loss': 0.6952024698257446, 'eval_f1': 0.24133811230585425, 'eval_recall': 0.5, 'eval_precision': 0.15905511811023623, 'eval_runtime': 3.7403, 'eval_samples_per_second': 339.547, 'eval_steps_per_second': 85.02, 'epoch': 13.0}\n"
     ]
    },
    {
     "name": "stderr",
     "output_type": "stream",
     "text": [
      "Model weights saved in ./Checkpoints/MarBertv2_hyperparams/run-8/checkpoint-2145/pytorch_model.bin\n",
      "tokenizer config file saved in ./Checkpoints/MarBertv2_hyperparams/run-8/checkpoint-2145/tokenizer_config.json\n",
      "Special tokens file saved in ./Checkpoints/MarBertv2_hyperparams/run-8/checkpoint-2145/special_tokens_map.json\n",
      " 88%|████████▊ | 2310/2640 [06:59<00:27, 11.90it/s]The following columns in the evaluation set  don't have a corresponding argument in `BertForSequenceClassification.forward` and have been ignored: text. If text are not expected by `BertForSequenceClassification.forward`,  you can safely ignore this message.\n",
      "***** Running Evaluation *****\n",
      "  Num examples = 1270\n",
      "  Batch size = 4\n",
      "\n",
      "  0%|          | 0/318 [00:00<?, ?it/s]\u001b[A\n",
      "  3%|▎         | 11/318 [00:00<00:03, 99.76it/s]\u001b[A\n",
      "  7%|▋         | 21/318 [00:00<00:03, 95.52it/s]\u001b[A\n",
      " 10%|▉         | 31/318 [00:00<00:03, 94.29it/s]\u001b[A\n",
      " 13%|█▎        | 41/318 [00:00<00:02, 93.40it/s]\u001b[A\n",
      " 16%|█▌        | 51/318 [00:00<00:02, 93.27it/s]\u001b[A\n",
      " 19%|█▉        | 61/318 [00:00<00:02, 93.03it/s]\u001b[A\n",
      " 22%|██▏       | 71/318 [00:00<00:02, 92.80it/s]\u001b[A\n",
      " 25%|██▌       | 81/318 [00:00<00:02, 86.55it/s]\u001b[A\n",
      " 28%|██▊       | 90/318 [00:01<00:02, 82.87it/s]\u001b[A\n",
      " 31%|███▏      | 100/318 [00:01<00:02, 85.32it/s]\u001b[A\n",
      " 35%|███▍      | 110/318 [00:01<00:02, 87.06it/s]\u001b[A\n",
      " 38%|███▊      | 120/318 [00:01<00:02, 88.53it/s]\u001b[A\n",
      " 41%|████      | 130/318 [00:01<00:02, 89.41it/s]\u001b[A\n",
      " 44%|████▍     | 140/318 [00:01<00:01, 89.97it/s]\u001b[A\n",
      " 47%|████▋     | 150/318 [00:01<00:01, 90.04it/s]\u001b[A\n",
      " 50%|█████     | 160/318 [00:01<00:01, 90.77it/s]\u001b[A\n",
      " 53%|█████▎    | 170/318 [00:01<00:01, 91.04it/s]\u001b[A\n",
      " 57%|█████▋    | 180/318 [00:01<00:01, 91.46it/s]\u001b[A\n",
      " 60%|█████▉    | 190/318 [00:02<00:01, 91.68it/s]\u001b[A\n",
      " 63%|██████▎   | 200/318 [00:02<00:01, 91.62it/s]\u001b[A\n",
      " 66%|██████▌   | 210/318 [00:02<00:01, 91.50it/s]\u001b[A\n",
      " 69%|██████▉   | 220/318 [00:02<00:01, 91.26it/s]\u001b[A\n",
      " 72%|███████▏  | 230/318 [00:02<00:01, 84.41it/s]\u001b[A\n",
      " 75%|███████▌  | 240/318 [00:02<00:00, 86.21it/s]\u001b[A\n",
      " 78%|███████▊  | 249/318 [00:02<00:00, 86.85it/s]\u001b[A\n",
      " 81%|████████  | 258/318 [00:02<00:00, 87.44it/s]\u001b[A\n",
      " 84%|████████▍ | 267/318 [00:02<00:00, 87.83it/s]\u001b[A\n",
      " 87%|████████▋ | 276/318 [00:03<00:00, 87.99it/s]\u001b[A\n",
      " 90%|████████▉ | 285/318 [00:03<00:00, 88.40it/s]\u001b[A\n",
      " 92%|█████████▏| 294/318 [00:03<00:00, 88.53it/s]\u001b[A\n",
      " 95%|█████████▌| 303/318 [00:03<00:00, 87.80it/s]\u001b[A\n",
      " 98%|█████████▊| 312/318 [00:03<00:00, 88.06it/s]\u001b[A/cm/shared/ebtree/software/Python/3.8.6-GCCcore-10.2.0/lib/python3.8/site-packages/sklearn/metrics/_classification.py:1248: UndefinedMetricWarning: Precision is ill-defined and being set to 0.0 in labels with no predicted samples. Use `zero_division` parameter to control this behavior.\n",
      "  _warn_prf(average, modifier, msg_start, len(result))\n",
      "\n",
      "                                                   \n",
      " 88%|████████▊ | 2310/2640 [07:02<00:27, 11.90it/s]A\n",
      "                                                 \u001b[ASaving model checkpoint to ./Checkpoints/MarBertv2_hyperparams/run-8/checkpoint-2310\n",
      "Configuration saved in ./Checkpoints/MarBertv2_hyperparams/run-8/checkpoint-2310/config.json\n"
     ]
    },
    {
     "name": "stdout",
     "output_type": "stream",
     "text": [
      "{'eval_loss': 0.6953023076057434, 'eval_f1': 0.24133811230585425, 'eval_recall': 0.5, 'eval_precision': 0.15905511811023623, 'eval_runtime': 3.645, 'eval_samples_per_second': 348.425, 'eval_steps_per_second': 87.243, 'epoch': 14.0}\n"
     ]
    },
    {
     "name": "stderr",
     "output_type": "stream",
     "text": [
      "Model weights saved in ./Checkpoints/MarBertv2_hyperparams/run-8/checkpoint-2310/pytorch_model.bin\n",
      "tokenizer config file saved in ./Checkpoints/MarBertv2_hyperparams/run-8/checkpoint-2310/tokenizer_config.json\n",
      "Special tokens file saved in ./Checkpoints/MarBertv2_hyperparams/run-8/checkpoint-2310/special_tokens_map.json\n",
      " 94%|█████████▎| 2474/2640 [07:29<00:12, 13.70it/s]The following columns in the evaluation set  don't have a corresponding argument in `BertForSequenceClassification.forward` and have been ignored: text. If text are not expected by `BertForSequenceClassification.forward`,  you can safely ignore this message.\n",
      "***** Running Evaluation *****\n",
      "  Num examples = 1270\n",
      "  Batch size = 4\n",
      "\n",
      "  0%|          | 0/318 [00:00<?, ?it/s]\u001b[A\n",
      "  3%|▎         | 11/318 [00:00<00:03, 99.75it/s]\u001b[A\n",
      "  7%|▋         | 21/318 [00:00<00:03, 92.42it/s]\u001b[A\n",
      " 10%|▉         | 31/318 [00:00<00:03, 90.37it/s]\u001b[A\n",
      " 13%|█▎        | 41/318 [00:00<00:03, 89.90it/s]\u001b[A\n",
      " 16%|█▌        | 50/318 [00:00<00:02, 89.70it/s]\u001b[A\n",
      " 19%|█▉        | 60/318 [00:00<00:02, 90.30it/s]\u001b[A\n",
      " 22%|██▏       | 70/318 [00:00<00:02, 90.34it/s]\u001b[A\n",
      " 25%|██▌       | 80/318 [00:00<00:02, 90.50it/s]\u001b[A\n",
      " 28%|██▊       | 90/318 [00:00<00:02, 91.03it/s]\u001b[A\n",
      " 31%|███▏      | 100/318 [00:01<00:02, 91.36it/s]\u001b[A\n",
      " 35%|███▍      | 110/318 [00:01<00:02, 81.32it/s]\u001b[A\n",
      " 38%|███▊      | 120/318 [00:01<00:02, 84.11it/s]\u001b[A\n",
      " 41%|████      | 129/318 [00:01<00:02, 85.36it/s]\u001b[A\n",
      " 44%|████▎     | 139/318 [00:01<00:02, 87.20it/s]\u001b[A\n",
      " 47%|████▋     | 149/318 [00:01<00:01, 88.53it/s]\u001b[A\n",
      " 50%|█████     | 159/318 [00:01<00:01, 89.59it/s]\u001b[A\n",
      " 53%|█████▎    | 169/318 [00:01<00:01, 89.42it/s]\u001b[A\n",
      " 56%|█████▌    | 178/318 [00:02<00:01, 89.28it/s]\u001b[A\n",
      " 59%|█████▉    | 187/318 [00:02<00:01, 88.73it/s]\u001b[A\n",
      " 62%|██████▏   | 196/318 [00:02<00:01, 88.47it/s]\u001b[A\n",
      " 64%|██████▍   | 205/318 [00:02<00:01, 87.77it/s]\u001b[A\n",
      " 67%|██████▋   | 214/318 [00:02<00:01, 87.80it/s]\u001b[A\n",
      " 70%|███████   | 223/318 [00:02<00:01, 87.87it/s]\u001b[A\n",
      " 73%|███████▎  | 232/318 [00:02<00:00, 87.37it/s]\u001b[A\n",
      " 76%|███████▌  | 241/318 [00:02<00:00, 88.00it/s]\u001b[A\n",
      " 79%|███████▉  | 251/318 [00:02<00:00, 88.88it/s]\u001b[A\n",
      " 82%|████████▏ | 260/318 [00:02<00:00, 88.64it/s]\u001b[A\n",
      " 85%|████████▍ | 269/318 [00:03<00:00, 88.22it/s]\u001b[A\n",
      " 88%|████████▊ | 279/318 [00:03<00:00, 89.33it/s]\u001b[A\n",
      " 91%|█████████ | 289/318 [00:03<00:00, 90.16it/s]\u001b[A\n",
      " 94%|█████████▍| 299/318 [00:03<00:00, 90.37it/s]\u001b[A\n",
      " 97%|█████████▋| 309/318 [00:03<00:00, 89.89it/s]\u001b[A\n",
      "100%|██████████| 318/318 [00:03<00:00, 89.72it/s]\u001b[A/cm/shared/ebtree/software/Python/3.8.6-GCCcore-10.2.0/lib/python3.8/site-packages/sklearn/metrics/_classification.py:1248: UndefinedMetricWarning: Precision is ill-defined and being set to 0.0 in labels with no predicted samples. Use `zero_division` parameter to control this behavior.\n",
      "  _warn_prf(average, modifier, msg_start, len(result))\n",
      "\n",
      "                                                   \n",
      " 94%|█████████▍| 2475/2640 [07:33<00:12, 13.70it/s]A\n",
      "                                                 \u001b[ASaving model checkpoint to ./Checkpoints/MarBertv2_hyperparams/run-8/checkpoint-2475\n",
      "Configuration saved in ./Checkpoints/MarBertv2_hyperparams/run-8/checkpoint-2475/config.json\n"
     ]
    },
    {
     "name": "stdout",
     "output_type": "stream",
     "text": [
      "{'eval_loss': 0.6953255534172058, 'eval_f1': 0.24133811230585425, 'eval_recall': 0.5, 'eval_precision': 0.15905511811023623, 'eval_runtime': 3.6509, 'eval_samples_per_second': 347.86, 'eval_steps_per_second': 87.102, 'epoch': 15.0}\n"
     ]
    },
    {
     "name": "stderr",
     "output_type": "stream",
     "text": [
      "Model weights saved in ./Checkpoints/MarBertv2_hyperparams/run-8/checkpoint-2475/pytorch_model.bin\n",
      "tokenizer config file saved in ./Checkpoints/MarBertv2_hyperparams/run-8/checkpoint-2475/tokenizer_config.json\n",
      "Special tokens file saved in ./Checkpoints/MarBertv2_hyperparams/run-8/checkpoint-2475/special_tokens_map.json\n",
      " 95%|█████████▍| 2502/2640 [07:45<00:12, 11.02it/s]"
     ]
    },
    {
     "name": "stdout",
     "output_type": "stream",
     "text": [
      "{'loss': 0.6933, 'learning_rate': 3.656052993903537e-05, 'epoch': 15.15}\n"
     ]
    },
    {
     "name": "stderr",
     "output_type": "stream",
     "text": [
      "100%|█████████▉| 2639/2640 [07:59<00:00, 14.60it/s]The following columns in the evaluation set  don't have a corresponding argument in `BertForSequenceClassification.forward` and have been ignored: text. If text are not expected by `BertForSequenceClassification.forward`,  you can safely ignore this message.\n",
      "***** Running Evaluation *****\n",
      "  Num examples = 1270\n",
      "  Batch size = 4\n",
      "\n",
      "  0%|          | 0/318 [00:00<?, ?it/s]\u001b[A\n",
      "  3%|▎         | 10/318 [00:00<00:03, 98.00it/s]\u001b[A\n",
      "  6%|▋         | 20/318 [00:00<00:03, 91.83it/s]\u001b[A\n",
      "  9%|▉         | 30/318 [00:00<00:03, 89.80it/s]\u001b[A\n",
      " 12%|█▏        | 39/318 [00:00<00:03, 89.26it/s]\u001b[A\n",
      " 15%|█▌        | 48/318 [00:00<00:03, 88.98it/s]\u001b[A\n",
      " 18%|█▊        | 57/318 [00:00<00:02, 88.59it/s]\u001b[A\n",
      " 21%|██        | 66/318 [00:00<00:02, 88.78it/s]\u001b[A\n",
      " 24%|██▎       | 75/318 [00:00<00:02, 87.22it/s]\u001b[A\n",
      " 26%|██▋       | 84/318 [00:00<00:02, 87.70it/s]\u001b[A\n",
      " 29%|██▉       | 93/318 [00:01<00:02, 88.02it/s]\u001b[A\n",
      " 32%|███▏      | 102/318 [00:01<00:02, 88.34it/s]\u001b[A\n",
      " 35%|███▍      | 111/318 [00:01<00:02, 88.57it/s]\u001b[A\n",
      " 38%|███▊      | 120/318 [00:01<00:02, 88.80it/s]\u001b[A\n",
      " 41%|████      | 129/318 [00:01<00:02, 88.35it/s]\u001b[A\n",
      " 43%|████▎     | 138/318 [00:01<00:02, 88.25it/s]\u001b[A\n",
      " 46%|████▌     | 147/318 [00:01<00:01, 88.40it/s]\u001b[A\n",
      " 49%|████▉     | 156/318 [00:01<00:01, 88.41it/s]\u001b[A\n",
      " 52%|█████▏    | 165/318 [00:01<00:01, 88.50it/s]\u001b[A\n",
      " 55%|█████▍    | 174/318 [00:01<00:01, 88.58it/s]\u001b[A\n",
      " 58%|█████▊    | 183/318 [00:02<00:01, 88.66it/s]\u001b[A\n",
      " 60%|██████    | 192/318 [00:02<00:01, 88.73it/s]\u001b[A\n",
      " 63%|██████▎   | 201/318 [00:02<00:01, 88.70it/s]\u001b[A\n",
      " 66%|██████▌   | 210/318 [00:02<00:01, 88.75it/s]\u001b[A\n",
      " 69%|██████▉   | 219/318 [00:02<00:01, 88.77it/s]\u001b[A\n",
      " 72%|███████▏  | 228/318 [00:02<00:01, 88.74it/s]\u001b[A\n",
      " 75%|███████▍  | 237/318 [00:02<00:00, 88.67it/s]\u001b[A\n",
      " 77%|███████▋  | 246/318 [00:02<00:00, 88.52it/s]\u001b[A\n",
      " 80%|████████  | 255/318 [00:02<00:00, 88.62it/s]\u001b[A\n",
      " 83%|████████▎ | 264/318 [00:02<00:00, 88.26it/s]\u001b[A\n",
      " 86%|████████▌ | 273/318 [00:03<00:00, 87.97it/s]\u001b[A\n",
      " 89%|████████▊ | 282/318 [00:03<00:00, 88.25it/s]\u001b[A\n",
      " 92%|█████████▏| 291/318 [00:03<00:00, 87.92it/s]\u001b[A\n",
      " 94%|█████████▍| 300/318 [00:03<00:00, 87.80it/s]\u001b[A\n",
      " 97%|█████████▋| 309/318 [00:03<00:00, 87.72it/s]\u001b[A\n",
      "100%|██████████| 318/318 [00:03<00:00, 87.91it/s]\u001b[A/cm/shared/ebtree/software/Python/3.8.6-GCCcore-10.2.0/lib/python3.8/site-packages/sklearn/metrics/_classification.py:1248: UndefinedMetricWarning: Precision is ill-defined and being set to 0.0 in labels with no predicted samples. Use `zero_division` parameter to control this behavior.\n",
      "  _warn_prf(average, modifier, msg_start, len(result))\n",
      "\n",
      "                                                   \n",
      "100%|██████████| 2640/2640 [08:03<00:00, 14.60it/s]A\n",
      "                                                 \u001b[ASaving model checkpoint to ./Checkpoints/MarBertv2_hyperparams/run-8/checkpoint-2640\n",
      "Configuration saved in ./Checkpoints/MarBertv2_hyperparams/run-8/checkpoint-2640/config.json\n"
     ]
    },
    {
     "name": "stdout",
     "output_type": "stream",
     "text": [
      "{'eval_loss': 0.6953410506248474, 'eval_f1': 0.24133811230585425, 'eval_recall': 0.5, 'eval_precision': 0.15905511811023623, 'eval_runtime': 3.6892, 'eval_samples_per_second': 344.247, 'eval_steps_per_second': 86.197, 'epoch': 16.0}\n"
     ]
    },
    {
     "name": "stderr",
     "output_type": "stream",
     "text": [
      "Model weights saved in ./Checkpoints/MarBertv2_hyperparams/run-8/checkpoint-2640/pytorch_model.bin\n",
      "tokenizer config file saved in ./Checkpoints/MarBertv2_hyperparams/run-8/checkpoint-2640/tokenizer_config.json\n",
      "Special tokens file saved in ./Checkpoints/MarBertv2_hyperparams/run-8/checkpoint-2640/special_tokens_map.json\n",
      "\n",
      "\n",
      "Training completed. Do not forget to share your model on huggingface.co/models =)\n",
      "\n",
      "\n",
      "Loading best model from ./Checkpoints/MarBertv2_hyperparams/run-8/checkpoint-165 (score: 0.4054307116104869).\n",
      "100%|██████████| 2640/2640 [08:12<00:00,  5.36it/s]\n",
      "\u001b[32m[I 2022-03-28 22:27:58,735]\u001b[0m Trial 8 finished with value: 0.9003932304160904 and parameters: {'learning_rate': 0.0006894271359932384, 'weight_decay': 1.1281097979563314e-06, 'num_train_epochs': 16, 'seed': 11, 'per_device_train_batch_size': 64}. Best is trial 3 with value: 2.52298489012904.\u001b[0m\n",
      "Trial:\n",
      "loading configuration file /scratch/mt/ashapiro/Hate_Speech/Models/Marbertv2/config.json\n",
      "Model config BertConfig {\n",
      "  \"_name_or_path\": \"/scratch/mt/ashapiro/Hate_Speech/Models/Marbertv2/\",\n",
      "  \"architectures\": [\n",
      "    \"BertForMaskedLM\"\n",
      "  ],\n",
      "  \"attention_probs_dropout_prob\": 0.1,\n",
      "  \"classifier_dropout\": null,\n",
      "  \"directionality\": \"bidi\",\n",
      "  \"gradient_checkpointing\": false,\n",
      "  \"hidden_act\": \"gelu\",\n",
      "  \"hidden_dropout_prob\": 0.1,\n",
      "  \"hidden_size\": 768,\n",
      "  \"initializer_range\": 0.02,\n",
      "  \"intermediate_size\": 3072,\n",
      "  \"layer_norm_eps\": 1e-12,\n",
      "  \"max_position_embeddings\": 512,\n",
      "  \"model_type\": \"bert\",\n",
      "  \"num_attention_heads\": 12,\n",
      "  \"num_hidden_layers\": 12,\n",
      "  \"pad_token_id\": 0,\n",
      "  \"pooler_fc_size\": 768,\n",
      "  \"pooler_num_attention_heads\": 12,\n",
      "  \"pooler_num_fc_layers\": 3,\n",
      "  \"pooler_size_per_head\": 128,\n",
      "  \"pooler_type\": \"first_token_transform\",\n",
      "  \"position_embedding_type\": \"absolute\",\n",
      "  \"transformers_version\": \"4.17.0\",\n",
      "  \"type_vocab_size\": 2,\n",
      "  \"use_cache\": true,\n",
      "  \"vocab_size\": 100000\n",
      "}\n",
      "\n",
      "loading weights file /scratch/mt/ashapiro/Hate_Speech/Models/Marbertv2/pytorch_model.bin\n"
     ]
    },
    {
     "name": "stdout",
     "output_type": "stream",
     "text": [
      "{'train_runtime': 492.4696, 'train_samples_per_second': 342.827, 'train_steps_per_second': 5.361, 'train_loss': 0.7276526595606948, 'epoch': 16.0}\n"
     ]
    },
    {
     "name": "stderr",
     "output_type": "stream",
     "text": [
      "Some weights of the model checkpoint at /scratch/mt/ashapiro/Hate_Speech/Models/Marbertv2/ were not used when initializing BertForSequenceClassification: ['cls.seq_relationship.bias', 'cls.predictions.decoder.bias', 'cls.predictions.transform.LayerNorm.weight', 'cls.seq_relationship.weight', 'cls.predictions.decoder.weight', 'cls.predictions.transform.LayerNorm.bias', 'cls.predictions.transform.dense.weight', 'cls.predictions.bias', 'cls.predictions.transform.dense.bias']\n",
      "- This IS expected if you are initializing BertForSequenceClassification from the checkpoint of a model trained on another task or with another architecture (e.g. initializing a BertForSequenceClassification model from a BertForPreTraining model).\n",
      "- This IS NOT expected if you are initializing BertForSequenceClassification from the checkpoint of a model that you expect to be exactly identical (initializing a BertForSequenceClassification model from a BertForSequenceClassification model).\n",
      "Some weights of BertForSequenceClassification were not initialized from the model checkpoint at /scratch/mt/ashapiro/Hate_Speech/Models/Marbertv2/ and are newly initialized: ['classifier.weight', 'classifier.bias']\n",
      "You should probably TRAIN this model on a down-stream task to be able to use it for predictions and inference.\n",
      "The following columns in the training set  don't have a corresponding argument in `BertForSequenceClassification.forward` and have been ignored: text. If text are not expected by `BertForSequenceClassification.forward`,  you can safely ignore this message.\n",
      "/home/ashapiro/.local/lib/python3.8/site-packages/transformers/optimization.py:306: FutureWarning: This implementation of AdamW is deprecated and will be removed in a future version. Use the PyTorch implementation torch.optim.AdamW instead, or set `no_deprecation_warning=True` to disable this warning\n",
      "  warnings.warn(\n",
      "***** Running training *****\n",
      "  Num examples = 10552\n",
      "  Num Epochs = 16\n",
      "  Instantaneous batch size per device = 16\n",
      "  Total train batch size (w. parallel, distributed & accumulation) = 16\n",
      "  Gradient Accumulation steps = 1\n",
      "  Total optimization steps = 10560\n",
      "  5%|▍         | 501/10560 [00:31<11:10, 15.01it/s]"
     ]
    },
    {
     "name": "stdout",
     "output_type": "stream",
     "text": [
      "{'loss': 0.6951, 'learning_rate': 0.00015610883307872877, 'epoch': 0.76}\n"
     ]
    },
    {
     "name": "stderr",
     "output_type": "stream",
     "text": [
      "  6%|▌         | 659/10560 [00:41<10:34, 15.61it/s]The following columns in the evaluation set  don't have a corresponding argument in `BertForSequenceClassification.forward` and have been ignored: text. If text are not expected by `BertForSequenceClassification.forward`,  you can safely ignore this message.\n",
      "***** Running Evaluation *****\n",
      "  Num examples = 1270\n",
      "  Batch size = 4\n",
      "\n",
      "  0%|          | 0/318 [00:00<?, ?it/s]\u001b[A\n",
      "  3%|▎         | 10/318 [00:00<00:03, 99.97it/s]\u001b[A\n",
      "  6%|▋         | 20/318 [00:00<00:03, 93.09it/s]\u001b[A\n",
      "  9%|▉         | 30/318 [00:00<00:03, 92.33it/s]\u001b[A\n",
      " 13%|█▎        | 40/318 [00:00<00:03, 92.32it/s]\u001b[A\n",
      " 16%|█▌        | 50/318 [00:00<00:02, 92.61it/s]\u001b[A\n",
      " 19%|█▉        | 60/318 [00:00<00:02, 92.52it/s]\u001b[A\n",
      " 22%|██▏       | 70/318 [00:00<00:02, 92.45it/s]\u001b[A\n",
      " 25%|██▌       | 80/318 [00:00<00:02, 91.67it/s]\u001b[A\n",
      " 28%|██▊       | 90/318 [00:00<00:02, 91.85it/s]\u001b[A\n",
      " 31%|███▏      | 100/318 [00:01<00:02, 91.36it/s]\u001b[A\n",
      " 35%|███▍      | 110/318 [00:01<00:02, 90.92it/s]\u001b[A\n",
      " 38%|███▊      | 120/318 [00:01<00:02, 90.45it/s]\u001b[A\n",
      " 41%|████      | 130/318 [00:01<00:02, 90.67it/s]\u001b[A\n",
      " 44%|████▍     | 140/318 [00:01<00:01, 90.71it/s]\u001b[A\n",
      " 47%|████▋     | 150/318 [00:01<00:01, 90.93it/s]\u001b[A\n",
      " 50%|█████     | 160/318 [00:01<00:01, 90.99it/s]\u001b[A\n",
      " 53%|█████▎    | 170/318 [00:01<00:01, 91.19it/s]\u001b[A\n",
      " 57%|█████▋    | 180/318 [00:01<00:01, 91.21it/s]\u001b[A\n",
      " 60%|█████▉    | 190/318 [00:02<00:01, 91.27it/s]\u001b[A\n",
      " 63%|██████▎   | 200/318 [00:02<00:01, 91.48it/s]\u001b[A\n",
      " 66%|██████▌   | 210/318 [00:02<00:01, 91.55it/s]\u001b[A\n",
      " 69%|██████▉   | 220/318 [00:02<00:01, 90.64it/s]\u001b[A\n",
      " 72%|███████▏  | 230/318 [00:02<00:00, 90.42it/s]\u001b[A\n",
      " 75%|███████▌  | 240/318 [00:02<00:00, 90.24it/s]\u001b[A\n",
      " 79%|███████▊  | 250/318 [00:02<00:00, 90.09it/s]\u001b[A\n",
      " 82%|████████▏ | 260/318 [00:02<00:00, 90.21it/s]\u001b[A\n",
      " 85%|████████▍ | 270/318 [00:02<00:00, 90.33it/s]\u001b[A\n",
      " 88%|████████▊ | 280/318 [00:03<00:00, 90.21it/s]\u001b[A\n",
      " 91%|█████████ | 290/318 [00:03<00:00, 90.76it/s]\u001b[A\n",
      " 94%|█████████▍| 300/318 [00:03<00:00, 90.69it/s]\u001b[A\n",
      " 97%|█████████▋| 310/318 [00:03<00:00, 90.84it/s]\u001b[A/cm/shared/ebtree/software/Python/3.8.6-GCCcore-10.2.0/lib/python3.8/site-packages/sklearn/metrics/_classification.py:1248: UndefinedMetricWarning: Precision is ill-defined and being set to 0.0 in labels with no predicted samples. Use `zero_division` parameter to control this behavior.\n",
      "  _warn_prf(average, modifier, msg_start, len(result))\n",
      "\n",
      "                                                   \n",
      "  6%|▋         | 660/10560 [00:45<10:34, 15.61it/s]A\n",
      "                                                 \u001b[ASaving model checkpoint to ./Checkpoints/MarBertv2_hyperparams/run-9/checkpoint-660\n",
      "Configuration saved in ./Checkpoints/MarBertv2_hyperparams/run-9/checkpoint-660/config.json\n"
     ]
    },
    {
     "name": "stdout",
     "output_type": "stream",
     "text": [
      "{'eval_loss': 0.6307721138000488, 'eval_f1': 0.4054307116104869, 'eval_recall': 0.5, 'eval_precision': 0.3409448818897638, 'eval_runtime': 3.5586, 'eval_samples_per_second': 356.883, 'eval_steps_per_second': 89.361, 'epoch': 1.0}\n"
     ]
    },
    {
     "name": "stderr",
     "output_type": "stream",
     "text": [
      "Model weights saved in ./Checkpoints/MarBertv2_hyperparams/run-9/checkpoint-660/pytorch_model.bin\n",
      "tokenizer config file saved in ./Checkpoints/MarBertv2_hyperparams/run-9/checkpoint-660/tokenizer_config.json\n",
      "Special tokens file saved in ./Checkpoints/MarBertv2_hyperparams/run-9/checkpoint-660/special_tokens_map.json\n",
      "  9%|▉         | 1003/10560 [01:15<08:55, 17.86it/s] "
     ]
    },
    {
     "name": "stdout",
     "output_type": "stream",
     "text": [
      "{'loss': 0.7364, 'learning_rate': 0.0001483499447547363, 'epoch': 1.52}\n"
     ]
    },
    {
     "name": "stderr",
     "output_type": "stream",
     "text": [
      " 12%|█▏        | 1319/10560 [01:34<08:49, 17.46it/s]The following columns in the evaluation set  don't have a corresponding argument in `BertForSequenceClassification.forward` and have been ignored: text. If text are not expected by `BertForSequenceClassification.forward`,  you can safely ignore this message.\n",
      "***** Running Evaluation *****\n",
      "  Num examples = 1270\n",
      "  Batch size = 4\n",
      "\n",
      "  0%|          | 0/318 [00:00<?, ?it/s]\u001b[A\n",
      "  3%|▎         | 11/318 [00:00<00:03, 102.23it/s]\u001b[A\n",
      "  7%|▋         | 22/318 [00:00<00:03, 95.59it/s] \u001b[A\n",
      " 10%|█         | 32/318 [00:00<00:03, 93.27it/s]\u001b[A\n",
      " 13%|█▎        | 42/318 [00:00<00:03, 90.94it/s]\u001b[A\n",
      " 16%|█▋        | 52/318 [00:00<00:02, 90.51it/s]\u001b[A\n",
      " 19%|█▉        | 62/318 [00:00<00:02, 90.49it/s]\u001b[A\n",
      " 23%|██▎       | 72/318 [00:00<00:02, 90.85it/s]\u001b[A\n",
      " 26%|██▌       | 82/318 [00:00<00:02, 91.15it/s]\u001b[A\n",
      " 29%|██▉       | 92/318 [00:01<00:02, 90.79it/s]\u001b[A\n",
      " 32%|███▏      | 102/318 [00:01<00:02, 90.74it/s]\u001b[A\n",
      " 35%|███▌      | 112/318 [00:01<00:02, 90.92it/s]\u001b[A\n",
      " 38%|███▊      | 122/318 [00:01<00:02, 91.28it/s]\u001b[A\n",
      " 42%|████▏     | 132/318 [00:01<00:02, 91.30it/s]\u001b[A\n",
      " 45%|████▍     | 142/318 [00:01<00:01, 89.10it/s]\u001b[A\n",
      " 47%|████▋     | 151/318 [00:01<00:01, 85.72it/s]\u001b[A\n",
      " 51%|█████     | 161/318 [00:01<00:01, 87.43it/s]\u001b[A\n",
      " 53%|█████▎    | 170/318 [00:01<00:01, 75.00it/s]\u001b[A\n",
      " 56%|█████▋    | 179/318 [00:02<00:01, 78.23it/s]\u001b[A\n",
      " 59%|█████▉    | 189/318 [00:02<00:01, 82.14it/s]\u001b[A\n",
      " 63%|██████▎   | 199/318 [00:02<00:01, 85.12it/s]\u001b[A\n",
      " 66%|██████▌   | 209/318 [00:02<00:01, 87.11it/s]\u001b[A\n",
      " 69%|██████▉   | 219/318 [00:02<00:01, 88.44it/s]\u001b[A\n",
      " 72%|███████▏  | 228/318 [00:02<00:01, 88.45it/s]\u001b[A\n",
      " 75%|███████▍  | 237/318 [00:02<00:00, 88.45it/s]\u001b[A\n",
      " 78%|███████▊  | 247/318 [00:02<00:00, 89.25it/s]\u001b[A\n",
      " 81%|████████  | 257/318 [00:02<00:00, 89.68it/s]\u001b[A\n",
      " 84%|████████▍ | 267/318 [00:03<00:00, 90.75it/s]\u001b[A\n",
      " 87%|████████▋ | 277/318 [00:03<00:00, 90.70it/s]\u001b[A\n",
      " 90%|█████████ | 287/318 [00:03<00:00, 90.83it/s]\u001b[A\n",
      " 93%|█████████▎| 297/318 [00:03<00:00, 90.41it/s]\u001b[A\n",
      " 97%|█████████▋| 307/318 [00:03<00:00, 90.72it/s]\u001b[A\n",
      "100%|█████████▉| 317/318 [00:03<00:00, 91.11it/s]\u001b[A/cm/shared/ebtree/software/Python/3.8.6-GCCcore-10.2.0/lib/python3.8/site-packages/sklearn/metrics/_classification.py:1248: UndefinedMetricWarning: Precision is ill-defined and being set to 0.0 in labels with no predicted samples. Use `zero_division` parameter to control this behavior.\n",
      "  _warn_prf(average, modifier, msg_start, len(result))\n",
      "\n",
      "                                                    \n",
      " 12%|█▎        | 1320/10560 [01:38<08:49, 17.46it/s]\n",
      "                                                 \u001b[ASaving model checkpoint to ./Checkpoints/MarBertv2_hyperparams/run-9/checkpoint-1320\n",
      "Configuration saved in ./Checkpoints/MarBertv2_hyperparams/run-9/checkpoint-1320/config.json\n"
     ]
    },
    {
     "name": "stdout",
     "output_type": "stream",
     "text": [
      "{'eval_loss': 0.6822571158409119, 'eval_f1': 0.4054307116104869, 'eval_recall': 0.5, 'eval_precision': 0.3409448818897638, 'eval_runtime': 3.6498, 'eval_samples_per_second': 347.968, 'eval_steps_per_second': 87.129, 'epoch': 2.0}\n"
     ]
    },
    {
     "name": "stderr",
     "output_type": "stream",
     "text": [
      "Model weights saved in ./Checkpoints/MarBertv2_hyperparams/run-9/checkpoint-1320/pytorch_model.bin\n",
      "tokenizer config file saved in ./Checkpoints/MarBertv2_hyperparams/run-9/checkpoint-1320/tokenizer_config.json\n",
      "Special tokens file saved in ./Checkpoints/MarBertv2_hyperparams/run-9/checkpoint-1320/special_tokens_map.json\n",
      " 14%|█▍        | 1503/10560 [01:57<09:11, 16.41it/s]  "
     ]
    },
    {
     "name": "stdout",
     "output_type": "stream",
     "text": [
      "{'loss': 0.7003, 'learning_rate': 0.00014059105643074378, 'epoch': 2.27}\n"
     ]
    },
    {
     "name": "stderr",
     "output_type": "stream",
     "text": [
      " 19%|█▊        | 1979/10560 [02:26<08:25, 16.99it/s]The following columns in the evaluation set  don't have a corresponding argument in `BertForSequenceClassification.forward` and have been ignored: text. If text are not expected by `BertForSequenceClassification.forward`,  you can safely ignore this message.\n",
      "***** Running Evaluation *****\n",
      "  Num examples = 1270\n",
      "  Batch size = 4\n",
      "\n",
      "  0%|          | 0/318 [00:00<?, ?it/s]\u001b[A\n",
      "  3%|▎         | 10/318 [00:00<00:03, 97.14it/s]\u001b[A\n",
      "  6%|▋         | 20/318 [00:00<00:03, 90.97it/s]\u001b[A\n",
      "  9%|▉         | 30/318 [00:00<00:03, 89.90it/s]\u001b[A\n",
      " 13%|█▎        | 40/318 [00:00<00:03, 89.97it/s]\u001b[A\n",
      " 16%|█▌        | 50/318 [00:00<00:02, 89.45it/s]\u001b[A\n",
      " 19%|█▊        | 59/318 [00:00<00:02, 89.19it/s]\u001b[A\n",
      " 21%|██▏       | 68/318 [00:00<00:02, 89.00it/s]\u001b[A\n",
      " 24%|██▍       | 77/318 [00:00<00:02, 88.62it/s]\u001b[A\n",
      " 27%|██▋       | 86/318 [00:00<00:02, 88.55it/s]\u001b[A\n",
      " 30%|██▉       | 95/318 [00:01<00:02, 88.53it/s]\u001b[A\n",
      " 33%|███▎      | 104/318 [00:01<00:02, 88.55it/s]\u001b[A\n",
      " 36%|███▌      | 113/318 [00:01<00:02, 88.68it/s]\u001b[A\n",
      " 38%|███▊      | 122/318 [00:01<00:02, 88.60it/s]\u001b[A\n",
      " 41%|████      | 131/318 [00:01<00:02, 88.35it/s]\u001b[A\n",
      " 44%|████▍     | 140/318 [00:01<00:02, 88.39it/s]\u001b[A\n",
      " 47%|████▋     | 149/318 [00:01<00:01, 88.22it/s]\u001b[A\n",
      " 50%|████▉     | 158/318 [00:01<00:01, 88.30it/s]\u001b[A\n",
      " 53%|█████▎    | 167/318 [00:01<00:01, 88.31it/s]\u001b[A\n",
      " 55%|█████▌    | 176/318 [00:01<00:01, 88.30it/s]\u001b[A\n",
      " 58%|█████▊    | 185/318 [00:02<00:01, 88.16it/s]\u001b[A\n",
      " 61%|██████    | 194/318 [00:02<00:01, 87.55it/s]\u001b[A\n",
      " 64%|██████▍   | 203/318 [00:02<00:01, 88.00it/s]\u001b[A\n",
      " 67%|██████▋   | 212/318 [00:02<00:01, 88.36it/s]\u001b[A\n",
      " 69%|██████▉   | 221/318 [00:02<00:01, 88.58it/s]\u001b[A\n",
      " 72%|███████▏  | 230/318 [00:02<00:00, 88.67it/s]\u001b[A\n",
      " 75%|███████▌  | 239/318 [00:02<00:00, 88.78it/s]\u001b[A\n",
      " 78%|███████▊  | 248/318 [00:02<00:00, 88.57it/s]\u001b[A\n",
      " 81%|████████  | 257/318 [00:02<00:00, 87.76it/s]\u001b[A\n",
      " 84%|████████▍ | 267/318 [00:03<00:00, 88.56it/s]\u001b[A\n",
      " 87%|████████▋ | 276/318 [00:03<00:00, 88.36it/s]\u001b[A\n",
      " 90%|████████▉ | 285/318 [00:03<00:00, 88.38it/s]\u001b[A\n",
      " 92%|█████████▏| 294/318 [00:03<00:00, 88.40it/s]\u001b[A\n",
      " 95%|█████████▌| 303/318 [00:03<00:00, 88.12it/s]\u001b[A\n",
      " 98%|█████████▊| 312/318 [00:03<00:00, 87.48it/s]\u001b[A/cm/shared/ebtree/software/Python/3.8.6-GCCcore-10.2.0/lib/python3.8/site-packages/sklearn/metrics/_classification.py:1248: UndefinedMetricWarning: Precision is ill-defined and being set to 0.0 in labels with no predicted samples. Use `zero_division` parameter to control this behavior.\n",
      "  _warn_prf(average, modifier, msg_start, len(result))\n",
      "\n",
      "                                                    \n",
      " 19%|█▉        | 1980/10560 [02:30<08:25, 16.99it/s]\n",
      "                                                 \u001b[ASaving model checkpoint to ./Checkpoints/MarBertv2_hyperparams/run-9/checkpoint-1980\n",
      "Configuration saved in ./Checkpoints/MarBertv2_hyperparams/run-9/checkpoint-1980/config.json\n"
     ]
    },
    {
     "name": "stdout",
     "output_type": "stream",
     "text": [
      "{'eval_loss': 0.6649921536445618, 'eval_f1': 0.4054307116104869, 'eval_recall': 0.5, 'eval_precision': 0.3409448818897638, 'eval_runtime': 3.6754, 'eval_samples_per_second': 345.544, 'eval_steps_per_second': 86.522, 'epoch': 3.0}\n"
     ]
    },
    {
     "name": "stderr",
     "output_type": "stream",
     "text": [
      "Model weights saved in ./Checkpoints/MarBertv2_hyperparams/run-9/checkpoint-1980/pytorch_model.bin\n",
      "tokenizer config file saved in ./Checkpoints/MarBertv2_hyperparams/run-9/checkpoint-1980/tokenizer_config.json\n",
      "Special tokens file saved in ./Checkpoints/MarBertv2_hyperparams/run-9/checkpoint-1980/special_tokens_map.json\n",
      " 19%|█▉        | 2003/10560 [02:39<13:31, 10.54it/s]  "
     ]
    },
    {
     "name": "stdout",
     "output_type": "stream",
     "text": [
      "{'loss': 0.6972, 'learning_rate': 0.0001328321681067513, 'epoch': 3.03}\n"
     ]
    },
    {
     "name": "stderr",
     "output_type": "stream",
     "text": [
      " 24%|██▎       | 2503/10560 [03:10<07:59, 16.80it/s]"
     ]
    },
    {
     "name": "stdout",
     "output_type": "stream",
     "text": [
      "{'loss': 0.6955, 'learning_rate': 0.00012507327978275885, 'epoch': 3.79}\n"
     ]
    },
    {
     "name": "stderr",
     "output_type": "stream",
     "text": [
      " 25%|██▍       | 2639/10560 [03:18<07:27, 17.70it/s]The following columns in the evaluation set  don't have a corresponding argument in `BertForSequenceClassification.forward` and have been ignored: text. If text are not expected by `BertForSequenceClassification.forward`,  you can safely ignore this message.\n",
      "***** Running Evaluation *****\n",
      "  Num examples = 1270\n",
      "  Batch size = 4\n",
      "\n",
      "  0%|          | 0/318 [00:00<?, ?it/s]\u001b[A\n",
      "  3%|▎         | 11/318 [00:00<00:03, 99.46it/s]\u001b[A\n",
      "  7%|▋         | 21/318 [00:00<00:03, 93.24it/s]\u001b[A\n",
      " 10%|▉         | 31/318 [00:00<00:03, 92.05it/s]\u001b[A\n",
      " 13%|█▎        | 41/318 [00:00<00:03, 91.10it/s]\u001b[A\n",
      " 16%|█▌        | 51/318 [00:00<00:02, 90.85it/s]\u001b[A\n",
      " 19%|█▉        | 61/318 [00:00<00:02, 90.55it/s]\u001b[A\n",
      " 22%|██▏       | 71/318 [00:00<00:02, 90.45it/s]\u001b[A\n",
      " 25%|██▌       | 81/318 [00:00<00:02, 89.87it/s]\u001b[A\n",
      " 28%|██▊       | 90/318 [00:00<00:02, 89.65it/s]\u001b[A\n",
      " 31%|███       | 99/318 [00:01<00:02, 89.11it/s]\u001b[A\n",
      " 34%|███▍      | 108/318 [00:01<00:02, 89.05it/s]\u001b[A\n",
      " 37%|███▋      | 117/318 [00:01<00:02, 88.16it/s]\u001b[A\n",
      " 40%|███▉      | 126/318 [00:01<00:02, 88.61it/s]\u001b[A\n",
      " 42%|████▏     | 135/318 [00:01<00:02, 83.29it/s]\u001b[A\n",
      " 45%|████▌     | 144/318 [00:01<00:02, 80.81it/s]\u001b[A\n",
      " 48%|████▊     | 153/318 [00:01<00:02, 79.18it/s]\u001b[A\n",
      " 51%|█████     | 162/318 [00:01<00:01, 79.95it/s]\u001b[A\n",
      " 54%|█████▍    | 172/318 [00:01<00:01, 83.68it/s]\u001b[A\n",
      " 57%|█████▋    | 182/318 [00:02<00:01, 85.75it/s]\u001b[A\n",
      " 60%|██████    | 191/318 [00:02<00:01, 86.89it/s]\u001b[A\n",
      " 63%|██████▎   | 200/318 [00:02<00:01, 87.70it/s]\u001b[A\n",
      " 66%|██████▌   | 209/318 [00:02<00:01, 88.10it/s]\u001b[A\n",
      " 69%|██████▊   | 218/318 [00:02<00:01, 88.48it/s]\u001b[A\n",
      " 72%|███████▏  | 228/318 [00:02<00:01, 89.48it/s]\u001b[A\n",
      " 75%|███████▍  | 238/318 [00:02<00:00, 89.75it/s]\u001b[A\n",
      " 78%|███████▊  | 247/318 [00:02<00:00, 89.52it/s]\u001b[A\n",
      " 81%|████████  | 256/318 [00:02<00:00, 89.61it/s]\u001b[A\n",
      " 83%|████████▎ | 265/318 [00:03<00:00, 89.66it/s]\u001b[A\n",
      " 86%|████████▌ | 274/318 [00:03<00:00, 89.40it/s]\u001b[A\n",
      " 89%|████████▉ | 283/318 [00:03<00:00, 89.13it/s]\u001b[A\n",
      " 92%|█████████▏| 292/318 [00:03<00:00, 89.31it/s]\u001b[A\n",
      " 95%|█████████▍| 301/318 [00:03<00:00, 89.08it/s]\u001b[A\n",
      " 97%|█████████▋| 310/318 [00:03<00:00, 89.25it/s]\u001b[A/cm/shared/ebtree/software/Python/3.8.6-GCCcore-10.2.0/lib/python3.8/site-packages/sklearn/metrics/_classification.py:1248: UndefinedMetricWarning: Precision is ill-defined and being set to 0.0 in labels with no predicted samples. Use `zero_division` parameter to control this behavior.\n",
      "  _warn_prf(average, modifier, msg_start, len(result))\n",
      "\n",
      "                                                    \n",
      " 25%|██▌       | 2640/10560 [03:22<07:27, 17.70it/s]\n",
      "                                                 \u001b[ASaving model checkpoint to ./Checkpoints/MarBertv2_hyperparams/run-9/checkpoint-2640\n",
      "Configuration saved in ./Checkpoints/MarBertv2_hyperparams/run-9/checkpoint-2640/config.json\n"
     ]
    },
    {
     "name": "stdout",
     "output_type": "stream",
     "text": [
      "{'eval_loss': 0.6877588033676147, 'eval_f1': 0.4054307116104869, 'eval_recall': 0.5, 'eval_precision': 0.3409448818897638, 'eval_runtime': 3.6762, 'eval_samples_per_second': 345.466, 'eval_steps_per_second': 86.502, 'epoch': 4.0}\n"
     ]
    },
    {
     "name": "stderr",
     "output_type": "stream",
     "text": [
      "Model weights saved in ./Checkpoints/MarBertv2_hyperparams/run-9/checkpoint-2640/pytorch_model.bin\n",
      "tokenizer config file saved in ./Checkpoints/MarBertv2_hyperparams/run-9/checkpoint-2640/tokenizer_config.json\n",
      "Special tokens file saved in ./Checkpoints/MarBertv2_hyperparams/run-9/checkpoint-2640/special_tokens_map.json\n",
      " 28%|██▊       | 3003/10560 [03:52<08:21, 15.05it/s]  "
     ]
    },
    {
     "name": "stdout",
     "output_type": "stream",
     "text": [
      "{'loss': 0.6951, 'learning_rate': 0.00011731439145876636, 'epoch': 4.55}\n"
     ]
    },
    {
     "name": "stderr",
     "output_type": "stream",
     "text": [
      " 31%|███       | 3299/10560 [04:10<07:08, 16.95it/s]The following columns in the evaluation set  don't have a corresponding argument in `BertForSequenceClassification.forward` and have been ignored: text. If text are not expected by `BertForSequenceClassification.forward`,  you can safely ignore this message.\n",
      "***** Running Evaluation *****\n",
      "  Num examples = 1270\n",
      "  Batch size = 4\n",
      "\n",
      "  0%|          | 0/318 [00:00<?, ?it/s]\u001b[A\n",
      "  3%|▎         | 10/318 [00:00<00:03, 98.67it/s]\u001b[A\n",
      "  6%|▋         | 20/318 [00:00<00:03, 91.31it/s]\u001b[A\n",
      "  9%|▉         | 30/318 [00:00<00:03, 90.01it/s]\u001b[A\n",
      " 13%|█▎        | 40/318 [00:00<00:03, 90.56it/s]\u001b[A\n",
      " 16%|█▌        | 50/318 [00:00<00:02, 91.19it/s]\u001b[A\n",
      " 19%|█▉        | 60/318 [00:00<00:02, 91.26it/s]\u001b[A\n",
      " 22%|██▏       | 70/318 [00:00<00:02, 91.26it/s]\u001b[A\n",
      " 25%|██▌       | 80/318 [00:00<00:02, 90.97it/s]\u001b[A\n",
      " 28%|██▊       | 90/318 [00:00<00:02, 91.63it/s]\u001b[A\n",
      " 31%|███▏      | 100/318 [00:01<00:02, 91.70it/s]\u001b[A\n",
      " 35%|███▍      | 110/318 [00:01<00:02, 90.68it/s]\u001b[A\n",
      " 38%|███▊      | 120/318 [00:01<00:02, 90.39it/s]\u001b[A\n",
      " 41%|████      | 130/318 [00:01<00:02, 90.32it/s]\u001b[A\n",
      " 44%|████▍     | 140/318 [00:01<00:01, 89.76it/s]\u001b[A\n",
      " 47%|████▋     | 149/318 [00:01<00:01, 89.31it/s]\u001b[A\n",
      " 50%|█████     | 159/318 [00:01<00:01, 89.60it/s]\u001b[A\n",
      " 53%|█████▎    | 168/318 [00:01<00:01, 88.85it/s]\u001b[A\n",
      " 56%|█████▌    | 177/318 [00:01<00:01, 89.10it/s]\u001b[A\n",
      " 58%|█████▊    | 186/318 [00:02<00:01, 89.32it/s]\u001b[A\n",
      " 62%|██████▏   | 196/318 [00:02<00:01, 89.61it/s]\u001b[A\n",
      " 65%|██████▍   | 206/318 [00:02<00:01, 89.86it/s]\u001b[A\n",
      " 68%|██████▊   | 216/318 [00:02<00:01, 90.34it/s]\u001b[A\n",
      " 71%|███████   | 226/318 [00:02<00:01, 89.87it/s]\u001b[A\n",
      " 74%|███████▍  | 235/318 [00:02<00:00, 89.33it/s]\u001b[A\n",
      " 77%|███████▋  | 244/318 [00:02<00:00, 89.23it/s]\u001b[A\n",
      " 80%|███████▉  | 253/318 [00:02<00:00, 88.85it/s]\u001b[A\n",
      " 82%|████████▏ | 262/318 [00:02<00:00, 88.85it/s]\u001b[A\n",
      " 85%|████████▌ | 271/318 [00:03<00:00, 88.80it/s]\u001b[A\n",
      " 88%|████████▊ | 280/318 [00:03<00:00, 78.24it/s]\u001b[A\n",
      " 91%|█████████ | 289/318 [00:03<00:00, 81.34it/s]\u001b[A\n",
      " 94%|█████████▍| 299/318 [00:03<00:00, 84.19it/s]\u001b[A\n",
      " 97%|█████████▋| 308/318 [00:03<00:00, 85.69it/s]\u001b[A\n",
      "100%|██████████| 318/318 [00:03<00:00, 87.22it/s]\u001b[A/cm/shared/ebtree/software/Python/3.8.6-GCCcore-10.2.0/lib/python3.8/site-packages/sklearn/metrics/_classification.py:1248: UndefinedMetricWarning: Precision is ill-defined and being set to 0.0 in labels with no predicted samples. Use `zero_division` parameter to control this behavior.\n",
      "  _warn_prf(average, modifier, msg_start, len(result))\n",
      "\n",
      "                                                    \n",
      " 31%|███▏      | 3300/10560 [04:14<07:08, 16.95it/s]\n",
      "                                                 \u001b[ASaving model checkpoint to ./Checkpoints/MarBertv2_hyperparams/run-9/checkpoint-3300\n",
      "Configuration saved in ./Checkpoints/MarBertv2_hyperparams/run-9/checkpoint-3300/config.json\n"
     ]
    },
    {
     "name": "stdout",
     "output_type": "stream",
     "text": [
      "{'eval_loss': 0.6808995604515076, 'eval_f1': 0.4054307116104869, 'eval_recall': 0.5, 'eval_precision': 0.3409448818897638, 'eval_runtime': 3.6498, 'eval_samples_per_second': 347.961, 'eval_steps_per_second': 87.127, 'epoch': 5.0}\n"
     ]
    },
    {
     "name": "stderr",
     "output_type": "stream",
     "text": [
      "Model weights saved in ./Checkpoints/MarBertv2_hyperparams/run-9/checkpoint-3300/pytorch_model.bin\n",
      "tokenizer config file saved in ./Checkpoints/MarBertv2_hyperparams/run-9/checkpoint-3300/tokenizer_config.json\n",
      "Special tokens file saved in ./Checkpoints/MarBertv2_hyperparams/run-9/checkpoint-3300/special_tokens_map.json\n",
      " 33%|███▎      | 3501/10560 [04:33<07:26, 15.81it/s]  "
     ]
    },
    {
     "name": "stdout",
     "output_type": "stream",
     "text": [
      "{'loss': 0.6977, 'learning_rate': 0.00010955550313477387, 'epoch': 5.3}\n"
     ]
    },
    {
     "name": "stderr",
     "output_type": "stream",
     "text": [
      " 37%|███▋      | 3959/10560 [05:02<06:59, 15.75it/s]The following columns in the evaluation set  don't have a corresponding argument in `BertForSequenceClassification.forward` and have been ignored: text. If text are not expected by `BertForSequenceClassification.forward`,  you can safely ignore this message.\n",
      "***** Running Evaluation *****\n",
      "  Num examples = 1270\n",
      "  Batch size = 4\n",
      "\n",
      "  0%|          | 0/318 [00:00<?, ?it/s]\u001b[A\n",
      "  3%|▎         | 11/318 [00:00<00:03, 99.28it/s]\u001b[A\n",
      "  7%|▋         | 21/318 [00:00<00:03, 93.52it/s]\u001b[A\n",
      " 10%|▉         | 31/318 [00:00<00:03, 94.34it/s]\u001b[A\n",
      " 13%|█▎        | 41/318 [00:00<00:02, 93.20it/s]\u001b[A\n",
      " 16%|█▌        | 51/318 [00:00<00:02, 92.61it/s]\u001b[A\n",
      " 19%|█▉        | 61/318 [00:00<00:02, 92.25it/s]\u001b[A\n",
      " 22%|██▏       | 71/318 [00:00<00:02, 90.33it/s]\u001b[A\n",
      " 25%|██▌       | 81/318 [00:00<00:02, 89.14it/s]\u001b[A\n",
      " 28%|██▊       | 90/318 [00:00<00:02, 88.87it/s]\u001b[A\n",
      " 31%|███       | 99/318 [00:01<00:02, 89.19it/s]\u001b[A\n",
      " 34%|███▍      | 108/318 [00:01<00:02, 80.31it/s]\u001b[A\n",
      " 37%|███▋      | 117/318 [00:01<00:02, 82.29it/s]\u001b[A\n",
      " 40%|███▉      | 126/318 [00:01<00:02, 83.72it/s]\u001b[A\n",
      " 42%|████▏     | 135/318 [00:01<00:02, 81.66it/s]\u001b[A\n",
      " 45%|████▌     | 144/318 [00:01<00:02, 83.27it/s]\u001b[A\n",
      " 48%|████▊     | 154/318 [00:01<00:01, 85.92it/s]\u001b[A\n",
      " 52%|█████▏    | 164/318 [00:01<00:01, 87.59it/s]\u001b[A\n",
      " 54%|█████▍    | 173/318 [00:01<00:01, 87.88it/s]\u001b[A\n",
      " 57%|█████▋    | 182/318 [00:02<00:01, 88.22it/s]\u001b[A\n",
      " 60%|██████    | 191/318 [00:02<00:01, 88.39it/s]\u001b[A\n",
      " 63%|██████▎   | 200/318 [00:02<00:01, 88.26it/s]\u001b[A\n",
      " 66%|██████▌   | 210/318 [00:02<00:01, 88.93it/s]\u001b[A\n",
      " 69%|██████▉   | 219/318 [00:02<00:01, 89.09it/s]\u001b[A\n",
      " 72%|███████▏  | 229/318 [00:02<00:00, 89.86it/s]\u001b[A\n",
      " 75%|███████▌  | 239/318 [00:02<00:00, 90.33it/s]\u001b[A\n",
      " 78%|███████▊  | 249/318 [00:02<00:00, 90.70it/s]\u001b[A\n",
      " 81%|████████▏ | 259/318 [00:02<00:00, 90.85it/s]\u001b[A\n",
      " 85%|████████▍ | 269/318 [00:03<00:00, 90.75it/s]\u001b[A\n",
      " 88%|████████▊ | 279/318 [00:03<00:00, 89.96it/s]\u001b[A\n",
      " 91%|█████████ | 288/318 [00:03<00:00, 89.69it/s]\u001b[A\n",
      " 93%|█████████▎| 297/318 [00:03<00:00, 89.77it/s]\u001b[A\n",
      " 96%|█████████▌| 306/318 [00:03<00:00, 84.22it/s]\u001b[A\n",
      " 99%|█████████▉| 315/318 [00:03<00:00, 81.65it/s]\u001b[A/cm/shared/ebtree/software/Python/3.8.6-GCCcore-10.2.0/lib/python3.8/site-packages/sklearn/metrics/_classification.py:1248: UndefinedMetricWarning: Precision is ill-defined and being set to 0.0 in labels with no predicted samples. Use `zero_division` parameter to control this behavior.\n",
      "  _warn_prf(average, modifier, msg_start, len(result))\n",
      "\n",
      "                                                    \n",
      " 38%|███▊      | 3960/10560 [05:05<06:59, 15.75it/s]\n",
      "                                                 \u001b[ASaving model checkpoint to ./Checkpoints/MarBertv2_hyperparams/run-9/checkpoint-3960\n",
      "Configuration saved in ./Checkpoints/MarBertv2_hyperparams/run-9/checkpoint-3960/config.json\n"
     ]
    },
    {
     "name": "stdout",
     "output_type": "stream",
     "text": [
      "{'eval_loss': 0.6894530057907104, 'eval_f1': 0.4054307116104869, 'eval_recall': 0.5, 'eval_precision': 0.3409448818897638, 'eval_runtime': 3.7003, 'eval_samples_per_second': 343.211, 'eval_steps_per_second': 85.938, 'epoch': 6.0}\n"
     ]
    },
    {
     "name": "stderr",
     "output_type": "stream",
     "text": [
      "Model weights saved in ./Checkpoints/MarBertv2_hyperparams/run-9/checkpoint-3960/pytorch_model.bin\n",
      "tokenizer config file saved in ./Checkpoints/MarBertv2_hyperparams/run-9/checkpoint-3960/tokenizer_config.json\n",
      "Special tokens file saved in ./Checkpoints/MarBertv2_hyperparams/run-9/checkpoint-3960/special_tokens_map.json\n",
      " 38%|███▊      | 4003/10560 [05:15<06:08, 17.79it/s]  "
     ]
    },
    {
     "name": "stdout",
     "output_type": "stream",
     "text": [
      "{'loss': 0.6956, 'learning_rate': 0.00010179661481078139, 'epoch': 6.06}\n"
     ]
    },
    {
     "name": "stderr",
     "output_type": "stream",
     "text": [
      " 43%|████▎     | 4503/10560 [05:46<05:25, 18.60it/s]"
     ]
    },
    {
     "name": "stdout",
     "output_type": "stream",
     "text": [
      "{'loss': 0.6937, 'learning_rate': 9.40377264867889e-05, 'epoch': 6.82}\n"
     ]
    },
    {
     "name": "stderr",
     "output_type": "stream",
     "text": [
      " 44%|████▎     | 4619/10560 [05:53<05:58, 16.59it/s]The following columns in the evaluation set  don't have a corresponding argument in `BertForSequenceClassification.forward` and have been ignored: text. If text are not expected by `BertForSequenceClassification.forward`,  you can safely ignore this message.\n",
      "***** Running Evaluation *****\n",
      "  Num examples = 1270\n",
      "  Batch size = 4\n",
      "\n",
      "  0%|          | 0/318 [00:00<?, ?it/s]\u001b[A\n",
      "  3%|▎         | 10/318 [00:00<00:03, 99.74it/s]\u001b[A\n",
      "  6%|▋         | 20/318 [00:00<00:03, 92.85it/s]\u001b[A\n",
      "  9%|▉         | 30/318 [00:00<00:03, 90.94it/s]\u001b[A\n",
      " 13%|█▎        | 40/318 [00:00<00:03, 90.30it/s]\u001b[A\n",
      " 16%|█▌        | 50/318 [00:00<00:02, 90.72it/s]\u001b[A\n",
      " 19%|█▉        | 60/318 [00:00<00:02, 90.97it/s]\u001b[A\n",
      " 22%|██▏       | 70/318 [00:00<00:02, 91.61it/s]\u001b[A\n",
      " 25%|██▌       | 80/318 [00:00<00:02, 91.49it/s]\u001b[A\n",
      " 28%|██▊       | 90/318 [00:00<00:02, 91.55it/s]\u001b[A\n",
      " 31%|███▏      | 100/318 [00:01<00:02, 91.30it/s]\u001b[A\n",
      " 35%|███▍      | 110/318 [00:01<00:02, 91.06it/s]\u001b[A\n",
      " 38%|███▊      | 120/318 [00:01<00:02, 90.79it/s]\u001b[A\n",
      " 41%|████      | 130/318 [00:01<00:02, 89.98it/s]\u001b[A\n",
      " 44%|████▍     | 140/318 [00:01<00:01, 89.79it/s]\u001b[A\n",
      " 47%|████▋     | 149/318 [00:01<00:01, 89.41it/s]\u001b[A\n",
      " 50%|████▉     | 158/318 [00:01<00:01, 80.53it/s]\u001b[A\n",
      " 53%|█████▎    | 167/318 [00:01<00:01, 82.90it/s]\u001b[A\n",
      " 55%|█████▌    | 176/318 [00:01<00:01, 84.81it/s]\u001b[A\n",
      " 58%|█████▊    | 185/318 [00:02<00:01, 83.62it/s]\u001b[A\n",
      " 61%|██████▏   | 195/318 [00:02<00:01, 85.53it/s]\u001b[A\n",
      " 64%|██████▍   | 204/318 [00:02<00:01, 85.54it/s]\u001b[A\n",
      " 67%|██████▋   | 213/318 [00:02<00:01, 86.31it/s]\u001b[A\n",
      " 70%|██████▉   | 222/318 [00:02<00:01, 86.82it/s]\u001b[A\n",
      " 73%|███████▎  | 231/318 [00:02<00:01, 84.77it/s]\u001b[A\n",
      " 76%|███████▌  | 241/318 [00:02<00:00, 86.81it/s]\u001b[A\n",
      " 79%|███████▉  | 251/318 [00:02<00:00, 88.94it/s]\u001b[A\n",
      " 82%|████████▏ | 261/318 [00:02<00:00, 89.72it/s]\u001b[A\n",
      " 85%|████████▌ | 271/318 [00:03<00:00, 90.38it/s]\u001b[A\n",
      " 88%|████████▊ | 281/318 [00:03<00:00, 90.52it/s]\u001b[A\n",
      " 92%|█████████▏| 291/318 [00:03<00:00, 90.56it/s]\u001b[A\n",
      " 95%|█████████▍| 301/318 [00:03<00:00, 90.81it/s]\u001b[A\n",
      " 98%|█████████▊| 311/318 [00:03<00:00, 90.42it/s]\u001b[A/cm/shared/ebtree/software/Python/3.8.6-GCCcore-10.2.0/lib/python3.8/site-packages/sklearn/metrics/_classification.py:1248: UndefinedMetricWarning: Precision is ill-defined and being set to 0.0 in labels with no predicted samples. Use `zero_division` parameter to control this behavior.\n",
      "  _warn_prf(average, modifier, msg_start, len(result))\n",
      "\n",
      "                                                    \n",
      " 44%|████▍     | 4620/10560 [05:57<05:57, 16.59it/s]\n",
      "                                                 \u001b[ASaving model checkpoint to ./Checkpoints/MarBertv2_hyperparams/run-9/checkpoint-4620\n",
      "Configuration saved in ./Checkpoints/MarBertv2_hyperparams/run-9/checkpoint-4620/config.json\n"
     ]
    },
    {
     "name": "stdout",
     "output_type": "stream",
     "text": [
      "{'eval_loss': 0.6899732351303101, 'eval_f1': 0.4054307116104869, 'eval_recall': 0.5, 'eval_precision': 0.3409448818897638, 'eval_runtime': 3.6563, 'eval_samples_per_second': 347.346, 'eval_steps_per_second': 86.973, 'epoch': 7.0}\n"
     ]
    },
    {
     "name": "stderr",
     "output_type": "stream",
     "text": [
      "Model weights saved in ./Checkpoints/MarBertv2_hyperparams/run-9/checkpoint-4620/pytorch_model.bin\n",
      "tokenizer config file saved in ./Checkpoints/MarBertv2_hyperparams/run-9/checkpoint-4620/tokenizer_config.json\n",
      "Special tokens file saved in ./Checkpoints/MarBertv2_hyperparams/run-9/checkpoint-4620/special_tokens_map.json\n",
      " 47%|████▋     | 5003/10560 [06:29<05:10, 17.92it/s]  "
     ]
    },
    {
     "name": "stdout",
     "output_type": "stream",
     "text": [
      "{'loss': 0.6941, 'learning_rate': 8.627883816279641e-05, 'epoch': 7.58}\n"
     ]
    },
    {
     "name": "stderr",
     "output_type": "stream",
     "text": [
      " 50%|████▉     | 5279/10560 [06:46<05:15, 16.73it/s]The following columns in the evaluation set  don't have a corresponding argument in `BertForSequenceClassification.forward` and have been ignored: text. If text are not expected by `BertForSequenceClassification.forward`,  you can safely ignore this message.\n",
      "***** Running Evaluation *****\n",
      "  Num examples = 1270\n",
      "  Batch size = 4\n",
      "\n",
      "  0%|          | 0/318 [00:00<?, ?it/s]\u001b[A\n",
      "  3%|▎         | 10/318 [00:00<00:03, 99.49it/s]\u001b[A\n",
      "  6%|▋         | 20/318 [00:00<00:03, 92.26it/s]\u001b[A\n",
      "  9%|▉         | 30/318 [00:00<00:03, 90.67it/s]\u001b[A\n",
      " 13%|█▎        | 40/318 [00:00<00:03, 89.97it/s]\u001b[A\n",
      " 16%|█▌        | 50/318 [00:00<00:02, 90.15it/s]\u001b[A\n",
      " 19%|█▉        | 60/318 [00:00<00:02, 89.74it/s]\u001b[A\n",
      " 22%|██▏       | 69/318 [00:00<00:03, 81.32it/s]\u001b[A\n",
      " 25%|██▍       | 78/318 [00:00<00:03, 79.18it/s]\u001b[A\n",
      " 27%|██▋       | 86/318 [00:01<00:02, 78.00it/s]\u001b[A\n",
      " 30%|██▉       | 94/318 [00:01<00:02, 76.90it/s]\u001b[A\n",
      " 32%|███▏      | 102/318 [00:01<00:02, 75.95it/s]\u001b[A\n",
      " 35%|███▍      | 110/318 [00:01<00:02, 75.47it/s]\u001b[A\n",
      " 37%|███▋      | 118/318 [00:01<00:02, 75.40it/s]\u001b[A\n",
      " 40%|███▉      | 127/318 [00:01<00:02, 77.97it/s]\u001b[A\n",
      " 43%|████▎     | 136/318 [00:01<00:02, 81.17it/s]\u001b[A\n",
      " 46%|████▌     | 145/318 [00:01<00:02, 83.51it/s]\u001b[A\n",
      " 48%|████▊     | 154/318 [00:01<00:01, 84.33it/s]\u001b[A\n",
      " 51%|█████▏    | 163/318 [00:01<00:01, 85.43it/s]\u001b[A\n",
      " 54%|█████▍    | 172/318 [00:02<00:01, 86.06it/s]\u001b[A\n",
      " 57%|█████▋    | 181/318 [00:02<00:01, 87.19it/s]\u001b[A\n",
      " 60%|█████▉    | 190/318 [00:02<00:01, 86.38it/s]\u001b[A\n",
      " 63%|██████▎   | 199/318 [00:02<00:01, 87.33it/s]\u001b[A\n",
      " 65%|██████▌   | 208/318 [00:02<00:01, 88.06it/s]\u001b[A\n",
      " 68%|██████▊   | 217/318 [00:02<00:01, 88.14it/s]\u001b[A\n",
      " 71%|███████   | 226/318 [00:02<00:01, 82.35it/s]\u001b[A\n",
      " 74%|███████▍  | 236/318 [00:02<00:00, 85.09it/s]\u001b[A\n",
      " 77%|███████▋  | 246/318 [00:02<00:00, 86.94it/s]\u001b[A\n",
      " 81%|████████  | 256/318 [00:03<00:00, 88.20it/s]\u001b[A\n",
      " 84%|████████▎ | 266/318 [00:03<00:00, 88.90it/s]\u001b[A\n",
      " 86%|████████▋ | 275/318 [00:03<00:00, 88.94it/s]\u001b[A\n",
      " 89%|████████▉ | 284/318 [00:03<00:00, 89.06it/s]\u001b[A\n",
      " 92%|█████████▏| 294/318 [00:03<00:00, 89.50it/s]\u001b[A\n",
      " 96%|█████████▌| 304/318 [00:03<00:00, 90.17it/s]\u001b[A\n",
      " 99%|█████████▊| 314/318 [00:03<00:00, 90.46it/s]\u001b[A/cm/shared/ebtree/software/Python/3.8.6-GCCcore-10.2.0/lib/python3.8/site-packages/sklearn/metrics/_classification.py:1248: UndefinedMetricWarning: Precision is ill-defined and being set to 0.0 in labels with no predicted samples. Use `zero_division` parameter to control this behavior.\n",
      "  _warn_prf(average, modifier, msg_start, len(result))\n",
      "\n",
      "                                                    \n",
      " 50%|█████     | 5280/10560 [06:49<05:15, 16.73it/s]\n",
      "                                                 \u001b[ASaving model checkpoint to ./Checkpoints/MarBertv2_hyperparams/run-9/checkpoint-5280\n",
      "Configuration saved in ./Checkpoints/MarBertv2_hyperparams/run-9/checkpoint-5280/config.json\n"
     ]
    },
    {
     "name": "stdout",
     "output_type": "stream",
     "text": [
      "{'eval_loss': 0.6907069683074951, 'eval_f1': 0.4054307116104869, 'eval_recall': 0.5, 'eval_precision': 0.3409448818897638, 'eval_runtime': 3.7925, 'eval_samples_per_second': 334.867, 'eval_steps_per_second': 83.849, 'epoch': 8.0}\n"
     ]
    },
    {
     "name": "stderr",
     "output_type": "stream",
     "text": [
      "Model weights saved in ./Checkpoints/MarBertv2_hyperparams/run-9/checkpoint-5280/pytorch_model.bin\n",
      "tokenizer config file saved in ./Checkpoints/MarBertv2_hyperparams/run-9/checkpoint-5280/tokenizer_config.json\n",
      "Special tokens file saved in ./Checkpoints/MarBertv2_hyperparams/run-9/checkpoint-5280/special_tokens_map.json\n",
      " 52%|█████▏    | 5502/10560 [07:11<05:06, 16.51it/s]  "
     ]
    },
    {
     "name": "stdout",
     "output_type": "stream",
     "text": [
      "{'loss': 0.6949, 'learning_rate': 7.851994983880393e-05, 'epoch': 8.33}\n"
     ]
    },
    {
     "name": "stderr",
     "output_type": "stream",
     "text": [
      " 56%|█████▋    | 5940/10560 [07:38<04:33, 16.87it/s]The following columns in the evaluation set  don't have a corresponding argument in `BertForSequenceClassification.forward` and have been ignored: text. If text are not expected by `BertForSequenceClassification.forward`,  you can safely ignore this message.\n",
      "***** Running Evaluation *****\n",
      "  Num examples = 1270\n",
      "  Batch size = 4\n",
      "\n",
      "  0%|          | 0/318 [00:00<?, ?it/s]\u001b[A\n",
      "  3%|▎         | 10/318 [00:00<00:03, 99.34it/s]\u001b[A\n",
      "  6%|▋         | 20/318 [00:00<00:03, 88.99it/s]\u001b[A\n",
      "  9%|▉         | 29/318 [00:00<00:03, 88.54it/s]\u001b[A\n",
      " 12%|█▏        | 38/318 [00:00<00:03, 88.67it/s]\u001b[A\n",
      " 15%|█▍        | 47/318 [00:00<00:03, 88.76it/s]\u001b[A\n",
      " 18%|█▊        | 56/318 [00:00<00:02, 87.43it/s]\u001b[A\n",
      " 20%|██        | 65/318 [00:00<00:02, 87.39it/s]\u001b[A\n",
      " 23%|██▎       | 74/318 [00:00<00:02, 87.66it/s]\u001b[A\n",
      " 26%|██▌       | 83/318 [00:00<00:02, 86.48it/s]\u001b[A\n",
      " 29%|██▉       | 92/318 [00:01<00:02, 87.06it/s]\u001b[A\n",
      " 32%|███▏      | 101/318 [00:01<00:02, 87.57it/s]\u001b[A\n",
      " 35%|███▍      | 110/318 [00:01<00:02, 82.61it/s]\u001b[A\n",
      " 37%|███▋      | 119/318 [00:01<00:02, 83.80it/s]\u001b[A\n",
      " 40%|████      | 128/318 [00:01<00:02, 81.10it/s]\u001b[A\n",
      " 43%|████▎     | 137/318 [00:01<00:02, 83.21it/s]\u001b[A\n",
      " 46%|████▌     | 146/318 [00:01<00:02, 83.96it/s]\u001b[A\n",
      " 49%|████▊     | 155/318 [00:01<00:01, 85.06it/s]\u001b[A\n",
      " 52%|█████▏    | 164/318 [00:01<00:01, 85.89it/s]\u001b[A\n",
      " 54%|█████▍    | 173/318 [00:02<00:01, 86.47it/s]\u001b[A\n",
      " 57%|█████▋    | 182/318 [00:02<00:01, 87.08it/s]\u001b[A\n",
      " 60%|██████    | 191/318 [00:02<00:01, 87.47it/s]\u001b[A\n",
      " 63%|██████▎   | 200/318 [00:02<00:01, 87.85it/s]\u001b[A\n",
      " 66%|██████▌   | 209/318 [00:02<00:01, 87.68it/s]\u001b[A\n",
      " 69%|██████▊   | 218/318 [00:02<00:01, 87.72it/s]\u001b[A\n",
      " 71%|███████▏  | 227/318 [00:02<00:01, 87.58it/s]\u001b[A\n",
      " 74%|███████▍  | 236/318 [00:02<00:00, 87.70it/s]\u001b[A\n",
      " 77%|███████▋  | 245/318 [00:02<00:00, 87.86it/s]\u001b[A\n",
      " 80%|███████▉  | 254/318 [00:02<00:00, 87.36it/s]\u001b[A\n",
      " 83%|████████▎ | 263/318 [00:03<00:00, 87.64it/s]\u001b[A\n",
      " 86%|████████▌ | 272/318 [00:03<00:00, 87.66it/s]\u001b[A\n",
      " 88%|████████▊ | 281/318 [00:03<00:00, 87.59it/s]\u001b[A\n",
      " 91%|█████████ | 290/318 [00:03<00:00, 87.74it/s]\u001b[A\n",
      " 94%|█████████▍| 299/318 [00:03<00:00, 84.65it/s]\u001b[A\n",
      " 97%|█████████▋| 308/318 [00:03<00:00, 85.72it/s]\u001b[A\n",
      "100%|█████████▉| 317/318 [00:03<00:00, 86.54it/s]\u001b[A/cm/shared/ebtree/software/Python/3.8.6-GCCcore-10.2.0/lib/python3.8/site-packages/sklearn/metrics/_classification.py:1248: UndefinedMetricWarning: Precision is ill-defined and being set to 0.0 in labels with no predicted samples. Use `zero_division` parameter to control this behavior.\n",
      "  _warn_prf(average, modifier, msg_start, len(result))\n",
      "\n",
      "                                                    \n",
      " 56%|█████▋    | 5940/10560 [07:42<04:33, 16.87it/s]\n",
      "                                                 \u001b[ASaving model checkpoint to ./Checkpoints/MarBertv2_hyperparams/run-9/checkpoint-5940\n",
      "Configuration saved in ./Checkpoints/MarBertv2_hyperparams/run-9/checkpoint-5940/config.json\n"
     ]
    },
    {
     "name": "stdout",
     "output_type": "stream",
     "text": [
      "{'eval_loss': 0.6905102729797363, 'eval_f1': 0.4054307116104869, 'eval_recall': 0.5, 'eval_precision': 0.3409448818897638, 'eval_runtime': 3.7447, 'eval_samples_per_second': 339.145, 'eval_steps_per_second': 84.92, 'epoch': 9.0}\n"
     ]
    },
    {
     "name": "stderr",
     "output_type": "stream",
     "text": [
      "Model weights saved in ./Checkpoints/MarBertv2_hyperparams/run-9/checkpoint-5940/pytorch_model.bin\n",
      "tokenizer config file saved in ./Checkpoints/MarBertv2_hyperparams/run-9/checkpoint-5940/tokenizer_config.json\n",
      "Special tokens file saved in ./Checkpoints/MarBertv2_hyperparams/run-9/checkpoint-5940/special_tokens_map.json\n",
      " 57%|█████▋    | 6002/10560 [07:53<05:24, 14.04it/s]  "
     ]
    },
    {
     "name": "stdout",
     "output_type": "stream",
     "text": [
      "{'loss': 0.6937, 'learning_rate': 7.076106151481144e-05, 'epoch': 9.09}\n"
     ]
    },
    {
     "name": "stderr",
     "output_type": "stream",
     "text": [
      " 62%|██████▏   | 6502/10560 [08:24<04:45, 14.22it/s]"
     ]
    },
    {
     "name": "stdout",
     "output_type": "stream",
     "text": [
      "{'loss': 0.6934, 'learning_rate': 6.300217319081896e-05, 'epoch': 9.85}\n"
     ]
    },
    {
     "name": "stderr",
     "output_type": "stream",
     "text": [
      " 62%|██████▎   | 6600/10560 [08:30<03:48, 17.34it/s]The following columns in the evaluation set  don't have a corresponding argument in `BertForSequenceClassification.forward` and have been ignored: text. If text are not expected by `BertForSequenceClassification.forward`,  you can safely ignore this message.\n",
      "***** Running Evaluation *****\n",
      "  Num examples = 1270\n",
      "  Batch size = 4\n",
      "\n",
      "  0%|          | 0/318 [00:00<?, ?it/s]\u001b[A\n",
      "  3%|▎         | 10/318 [00:00<00:03, 99.31it/s]\u001b[A\n",
      "  6%|▋         | 20/318 [00:00<00:03, 92.76it/s]\u001b[A\n",
      "  9%|▉         | 30/318 [00:00<00:03, 91.27it/s]\u001b[A\n",
      " 13%|█▎        | 40/318 [00:00<00:03, 90.89it/s]\u001b[A\n",
      " 16%|█▌        | 50/318 [00:00<00:02, 89.50it/s]\u001b[A\n",
      " 19%|█▊        | 59/318 [00:00<00:02, 89.09it/s]\u001b[A\n",
      " 21%|██▏       | 68/318 [00:00<00:02, 89.09it/s]\u001b[A\n",
      " 24%|██▍       | 77/318 [00:00<00:02, 88.71it/s]\u001b[A\n",
      " 27%|██▋       | 86/318 [00:00<00:02, 88.82it/s]\u001b[A\n",
      " 30%|██▉       | 95/318 [00:01<00:02, 88.81it/s]\u001b[A\n",
      " 33%|███▎      | 104/318 [00:01<00:02, 88.77it/s]\u001b[A\n",
      " 36%|███▌      | 113/318 [00:01<00:02, 88.71it/s]\u001b[A\n",
      " 38%|███▊      | 122/318 [00:01<00:02, 88.74it/s]\u001b[A\n",
      " 41%|████      | 131/318 [00:01<00:02, 88.86it/s]\u001b[A\n",
      " 44%|████▍     | 140/318 [00:01<00:02, 89.00it/s]\u001b[A\n",
      " 47%|████▋     | 149/318 [00:01<00:01, 88.90it/s]\u001b[A\n",
      " 50%|████▉     | 158/318 [00:01<00:01, 88.87it/s]\u001b[A\n",
      " 53%|█████▎    | 167/318 [00:01<00:01, 88.81it/s]\u001b[A\n",
      " 55%|█████▌    | 176/318 [00:01<00:01, 88.24it/s]\u001b[A\n",
      " 58%|█████▊    | 185/318 [00:02<00:01, 87.62it/s]\u001b[A\n",
      " 61%|██████    | 194/318 [00:02<00:01, 87.95it/s]\u001b[A\n",
      " 64%|██████▍   | 203/318 [00:02<00:01, 87.97it/s]\u001b[A\n",
      " 67%|██████▋   | 212/318 [00:02<00:01, 88.12it/s]\u001b[A\n",
      " 69%|██████▉   | 221/318 [00:02<00:01, 88.40it/s]\u001b[A\n",
      " 72%|███████▏  | 230/318 [00:02<00:01, 87.09it/s]\u001b[A\n",
      " 75%|███████▌  | 239/318 [00:02<00:00, 87.21it/s]\u001b[A\n",
      " 78%|███████▊  | 248/318 [00:02<00:00, 85.67it/s]\u001b[A\n",
      " 81%|████████  | 257/318 [00:02<00:00, 86.82it/s]\u001b[A\n",
      " 84%|████████▎ | 266/318 [00:03<00:00, 87.28it/s]\u001b[A\n",
      " 86%|████████▋ | 275/318 [00:03<00:00, 87.39it/s]\u001b[A\n",
      " 89%|████████▉ | 284/318 [00:03<00:00, 87.97it/s]\u001b[A\n",
      " 92%|█████████▏| 293/318 [00:03<00:00, 88.07it/s]\u001b[A\n",
      " 95%|█████████▍| 302/318 [00:03<00:00, 88.28it/s]\u001b[A\n",
      " 98%|█████████▊| 311/318 [00:03<00:00, 88.44it/s]\u001b[A/cm/shared/ebtree/software/Python/3.8.6-GCCcore-10.2.0/lib/python3.8/site-packages/sklearn/metrics/_classification.py:1248: UndefinedMetricWarning: Precision is ill-defined and being set to 0.0 in labels with no predicted samples. Use `zero_division` parameter to control this behavior.\n",
      "  _warn_prf(average, modifier, msg_start, len(result))\n",
      "\n",
      "                                                    \n",
      " 62%|██████▎   | 6600/10560 [08:33<03:48, 17.34it/s]\n",
      "                                                 \u001b[ASaving model checkpoint to ./Checkpoints/MarBertv2_hyperparams/run-9/checkpoint-6600\n",
      "Configuration saved in ./Checkpoints/MarBertv2_hyperparams/run-9/checkpoint-6600/config.json\n"
     ]
    },
    {
     "name": "stdout",
     "output_type": "stream",
     "text": [
      "{'eval_loss': 0.6903283596038818, 'eval_f1': 0.4054307116104869, 'eval_recall': 0.5, 'eval_precision': 0.3409448818897638, 'eval_runtime': 3.6798, 'eval_samples_per_second': 345.123, 'eval_steps_per_second': 86.417, 'epoch': 10.0}\n"
     ]
    },
    {
     "name": "stderr",
     "output_type": "stream",
     "text": [
      "Model weights saved in ./Checkpoints/MarBertv2_hyperparams/run-9/checkpoint-6600/pytorch_model.bin\n",
      "tokenizer config file saved in ./Checkpoints/MarBertv2_hyperparams/run-9/checkpoint-6600/tokenizer_config.json\n",
      "Special tokens file saved in ./Checkpoints/MarBertv2_hyperparams/run-9/checkpoint-6600/special_tokens_map.json\n",
      " 66%|██████▋   | 7002/10560 [09:06<03:50, 15.44it/s]  "
     ]
    },
    {
     "name": "stdout",
     "output_type": "stream",
     "text": [
      "{'loss': 0.6934, 'learning_rate': 5.524328486682648e-05, 'epoch': 10.61}\n"
     ]
    },
    {
     "name": "stderr",
     "output_type": "stream",
     "text": [
      " 69%|██████▉   | 7260/10560 [09:22<03:15, 16.92it/s]The following columns in the evaluation set  don't have a corresponding argument in `BertForSequenceClassification.forward` and have been ignored: text. If text are not expected by `BertForSequenceClassification.forward`,  you can safely ignore this message.\n",
      "***** Running Evaluation *****\n",
      "  Num examples = 1270\n",
      "  Batch size = 4\n",
      "\n",
      "  0%|          | 0/318 [00:00<?, ?it/s]\u001b[A\n",
      "  3%|▎         | 11/318 [00:00<00:03, 99.71it/s]\u001b[A\n",
      "  7%|▋         | 21/318 [00:00<00:03, 94.18it/s]\u001b[A\n",
      " 10%|▉         | 31/318 [00:00<00:03, 91.58it/s]\u001b[A\n",
      " 13%|█▎        | 41/318 [00:00<00:03, 91.53it/s]\u001b[A\n",
      " 16%|█▌        | 51/318 [00:00<00:02, 92.16it/s]\u001b[A\n",
      " 19%|█▉        | 61/318 [00:00<00:02, 92.74it/s]\u001b[A\n",
      " 22%|██▏       | 71/318 [00:00<00:02, 93.13it/s]\u001b[A\n",
      " 25%|██▌       | 81/318 [00:00<00:02, 92.94it/s]\u001b[A\n",
      " 29%|██▊       | 91/318 [00:00<00:02, 92.49it/s]\u001b[A\n",
      " 32%|███▏      | 101/318 [00:01<00:02, 92.06it/s]\u001b[A\n",
      " 35%|███▍      | 111/318 [00:01<00:02, 91.92it/s]\u001b[A\n",
      " 38%|███▊      | 121/318 [00:01<00:02, 91.67it/s]\u001b[A\n",
      " 41%|████      | 131/318 [00:01<00:02, 88.31it/s]\u001b[A\n",
      " 44%|████▍     | 141/318 [00:01<00:01, 89.12it/s]\u001b[A\n",
      " 47%|████▋     | 150/318 [00:01<00:01, 89.37it/s]\u001b[A\n",
      " 50%|█████     | 160/318 [00:01<00:01, 90.03it/s]\u001b[A\n",
      " 53%|█████▎    | 170/318 [00:01<00:01, 89.91it/s]\u001b[A\n",
      " 57%|█████▋    | 180/318 [00:01<00:01, 90.42it/s]\u001b[A\n",
      " 60%|█████▉    | 190/318 [00:02<00:01, 90.60it/s]\u001b[A\n",
      " 63%|██████▎   | 200/318 [00:02<00:01, 89.42it/s]\u001b[A\n",
      " 66%|██████▌   | 209/318 [00:02<00:01, 89.54it/s]\u001b[A\n",
      " 69%|██████▉   | 219/318 [00:02<00:01, 89.87it/s]\u001b[A\n",
      " 72%|███████▏  | 228/318 [00:02<00:01, 89.53it/s]\u001b[A\n",
      " 75%|███████▍  | 237/318 [00:02<00:00, 89.25it/s]\u001b[A\n",
      " 78%|███████▊  | 247/318 [00:02<00:00, 89.76it/s]\u001b[A\n",
      " 81%|████████  | 257/318 [00:02<00:00, 90.16it/s]\u001b[A\n",
      " 84%|████████▍ | 267/318 [00:02<00:00, 90.21it/s]\u001b[A\n",
      " 87%|████████▋ | 277/318 [00:03<00:00, 90.34it/s]\u001b[A\n",
      " 90%|█████████ | 287/318 [00:03<00:00, 90.07it/s]\u001b[A\n",
      " 93%|█████████▎| 297/318 [00:03<00:00, 89.70it/s]\u001b[A\n",
      " 96%|█████████▌| 306/318 [00:03<00:00, 89.27it/s]\u001b[A\n",
      " 99%|█████████▉| 315/318 [00:03<00:00, 89.24it/s]\u001b[A/cm/shared/ebtree/software/Python/3.8.6-GCCcore-10.2.0/lib/python3.8/site-packages/sklearn/metrics/_classification.py:1248: UndefinedMetricWarning: Precision is ill-defined and being set to 0.0 in labels with no predicted samples. Use `zero_division` parameter to control this behavior.\n",
      "  _warn_prf(average, modifier, msg_start, len(result))\n",
      "\n",
      "                                                    \n",
      " 69%|██████▉   | 7260/10560 [09:25<03:15, 16.92it/s]\n",
      "                                                 \u001b[ASaving model checkpoint to ./Checkpoints/MarBertv2_hyperparams/run-9/checkpoint-7260\n",
      "Configuration saved in ./Checkpoints/MarBertv2_hyperparams/run-9/checkpoint-7260/config.json\n"
     ]
    },
    {
     "name": "stdout",
     "output_type": "stream",
     "text": [
      "{'eval_loss': 0.6907461881637573, 'eval_f1': 0.4054307116104869, 'eval_recall': 0.5, 'eval_precision': 0.3409448818897638, 'eval_runtime': 3.5901, 'eval_samples_per_second': 353.752, 'eval_steps_per_second': 88.577, 'epoch': 11.0}\n"
     ]
    },
    {
     "name": "stderr",
     "output_type": "stream",
     "text": [
      "Model weights saved in ./Checkpoints/MarBertv2_hyperparams/run-9/checkpoint-7260/pytorch_model.bin\n",
      "tokenizer config file saved in ./Checkpoints/MarBertv2_hyperparams/run-9/checkpoint-7260/tokenizer_config.json\n",
      "Special tokens file saved in ./Checkpoints/MarBertv2_hyperparams/run-9/checkpoint-7260/special_tokens_map.json\n",
      " 71%|███████   | 7502/10560 [09:48<02:53, 17.63it/s]  "
     ]
    },
    {
     "name": "stdout",
     "output_type": "stream",
     "text": [
      "{'loss': 0.6935, 'learning_rate': 4.7484396542834e-05, 'epoch': 11.36}\n"
     ]
    },
    {
     "name": "stderr",
     "output_type": "stream",
     "text": [
      " 75%|███████▌  | 7920/10560 [10:14<02:32, 17.36it/s]The following columns in the evaluation set  don't have a corresponding argument in `BertForSequenceClassification.forward` and have been ignored: text. If text are not expected by `BertForSequenceClassification.forward`,  you can safely ignore this message.\n",
      "***** Running Evaluation *****\n",
      "  Num examples = 1270\n",
      "  Batch size = 4\n",
      "\n",
      "  0%|          | 0/318 [00:00<?, ?it/s]\u001b[A\n",
      "  3%|▎         | 9/318 [00:00<00:03, 89.84it/s]\u001b[A\n",
      "  6%|▌         | 18/318 [00:00<00:03, 88.98it/s]\u001b[A\n",
      "  8%|▊         | 27/318 [00:00<00:03, 88.53it/s]\u001b[A\n",
      " 11%|█▏        | 36/318 [00:00<00:03, 88.64it/s]\u001b[A\n",
      " 14%|█▍        | 46/318 [00:00<00:03, 89.38it/s]\u001b[A\n",
      " 17%|█▋        | 55/318 [00:00<00:02, 89.21it/s]\u001b[A\n",
      " 20%|██        | 64/318 [00:00<00:02, 87.16it/s]\u001b[A\n",
      " 23%|██▎       | 73/318 [00:00<00:02, 87.56it/s]\u001b[A\n",
      " 26%|██▌       | 82/318 [00:00<00:02, 87.80it/s]\u001b[A\n",
      " 29%|██▊       | 91/318 [00:01<00:02, 86.56it/s]\u001b[A\n",
      " 31%|███▏      | 100/318 [00:01<00:02, 87.47it/s]\u001b[A\n",
      " 34%|███▍      | 109/318 [00:01<00:02, 87.77it/s]\u001b[A\n",
      " 37%|███▋      | 118/318 [00:01<00:02, 87.52it/s]\u001b[A\n",
      " 40%|███▉      | 127/318 [00:01<00:02, 85.73it/s]\u001b[A\n",
      " 43%|████▎     | 136/318 [00:01<00:02, 86.54it/s]\u001b[A\n",
      " 46%|████▌     | 145/318 [00:01<00:01, 87.19it/s]\u001b[A\n",
      " 48%|████▊     | 154/318 [00:01<00:01, 87.92it/s]\u001b[A\n",
      " 51%|█████▏    | 163/318 [00:01<00:01, 87.44it/s]\u001b[A\n",
      " 54%|█████▍    | 172/318 [00:01<00:01, 87.78it/s]\u001b[A\n",
      " 57%|█████▋    | 181/318 [00:02<00:01, 88.03it/s]\u001b[A\n",
      " 60%|█████▉    | 190/318 [00:02<00:01, 87.43it/s]\u001b[A\n",
      " 63%|██████▎   | 199/318 [00:02<00:01, 86.80it/s]\u001b[A\n",
      " 65%|██████▌   | 208/318 [00:02<00:01, 82.32it/s]\u001b[A\n",
      " 68%|██████▊   | 217/318 [00:02<00:01, 83.31it/s]\u001b[A\n",
      " 71%|███████   | 226/318 [00:02<00:01, 84.69it/s]\u001b[A\n",
      " 74%|███████▍  | 235/318 [00:02<00:00, 85.61it/s]\u001b[A\n",
      " 77%|███████▋  | 244/318 [00:02<00:00, 86.82it/s]\u001b[A\n",
      " 80%|███████▉  | 253/318 [00:02<00:00, 87.56it/s]\u001b[A\n",
      " 82%|████████▏ | 262/318 [00:03<00:00, 87.79it/s]\u001b[A\n",
      " 85%|████████▌ | 271/318 [00:03<00:00, 88.18it/s]\u001b[A\n",
      " 88%|████████▊ | 280/318 [00:03<00:00, 88.05it/s]\u001b[A\n",
      " 91%|█████████ | 289/318 [00:03<00:00, 88.56it/s]\u001b[A\n",
      " 94%|█████████▎| 298/318 [00:03<00:00, 87.80it/s]\u001b[A\n",
      " 97%|█████████▋| 307/318 [00:03<00:00, 85.37it/s]\u001b[A\n",
      " 99%|█████████▉| 316/318 [00:03<00:00, 86.40it/s]\u001b[A/cm/shared/ebtree/software/Python/3.8.6-GCCcore-10.2.0/lib/python3.8/site-packages/sklearn/metrics/_classification.py:1248: UndefinedMetricWarning: Precision is ill-defined and being set to 0.0 in labels with no predicted samples. Use `zero_division` parameter to control this behavior.\n",
      "  _warn_prf(average, modifier, msg_start, len(result))\n",
      "\n",
      "                                                    \n",
      " 75%|███████▌  | 7920/10560 [10:17<02:32, 17.36it/s]\n",
      "                                                 \u001b[ASaving model checkpoint to ./Checkpoints/MarBertv2_hyperparams/run-9/checkpoint-7920\n",
      "Configuration saved in ./Checkpoints/MarBertv2_hyperparams/run-9/checkpoint-7920/config.json\n"
     ]
    },
    {
     "name": "stdout",
     "output_type": "stream",
     "text": [
      "{'eval_loss': 0.6910879015922546, 'eval_f1': 0.4054307116104869, 'eval_recall': 0.5, 'eval_precision': 0.3409448818897638, 'eval_runtime': 3.7501, 'eval_samples_per_second': 338.654, 'eval_steps_per_second': 84.797, 'epoch': 12.0}\n"
     ]
    },
    {
     "name": "stderr",
     "output_type": "stream",
     "text": [
      "Model weights saved in ./Checkpoints/MarBertv2_hyperparams/run-9/checkpoint-7920/pytorch_model.bin\n",
      "tokenizer config file saved in ./Checkpoints/MarBertv2_hyperparams/run-9/checkpoint-7920/tokenizer_config.json\n",
      "Special tokens file saved in ./Checkpoints/MarBertv2_hyperparams/run-9/checkpoint-7920/special_tokens_map.json\n",
      " 76%|███████▌  | 8002/10560 [10:30<02:21, 18.04it/s]  "
     ]
    },
    {
     "name": "stdout",
     "output_type": "stream",
     "text": [
      "{'loss': 0.6934, 'learning_rate': 3.972550821884151e-05, 'epoch': 12.12}\n"
     ]
    },
    {
     "name": "stderr",
     "output_type": "stream",
     "text": [
      " 81%|████████  | 8502/10560 [11:00<01:58, 17.33it/s]"
     ]
    },
    {
     "name": "stdout",
     "output_type": "stream",
     "text": [
      "{'loss': 0.6933, 'learning_rate': 3.196661989484903e-05, 'epoch': 12.88}\n"
     ]
    },
    {
     "name": "stderr",
     "output_type": "stream",
     "text": [
      " 81%|████████▏ | 8580/10560 [11:05<01:50, 17.92it/s]The following columns in the evaluation set  don't have a corresponding argument in `BertForSequenceClassification.forward` and have been ignored: text. If text are not expected by `BertForSequenceClassification.forward`,  you can safely ignore this message.\n",
      "***** Running Evaluation *****\n",
      "  Num examples = 1270\n",
      "  Batch size = 4\n",
      "\n",
      "  0%|          | 0/318 [00:00<?, ?it/s]\u001b[A\n",
      "  3%|▎         | 11/318 [00:00<00:03, 99.62it/s]\u001b[A\n",
      "  7%|▋         | 21/318 [00:00<00:03, 93.02it/s]\u001b[A\n",
      " 10%|▉         | 31/318 [00:00<00:03, 92.39it/s]\u001b[A\n",
      " 13%|█▎        | 41/318 [00:00<00:03, 91.80it/s]\u001b[A\n",
      " 16%|█▌        | 51/318 [00:00<00:02, 90.94it/s]\u001b[A\n",
      " 19%|█▉        | 61/318 [00:00<00:02, 86.95it/s]\u001b[A\n",
      " 22%|██▏       | 70/318 [00:00<00:02, 87.65it/s]\u001b[A\n",
      " 25%|██▍       | 79/318 [00:00<00:02, 87.79it/s]\u001b[A\n",
      " 28%|██▊       | 89/318 [00:00<00:02, 89.04it/s]\u001b[A\n",
      " 31%|███       | 98/318 [00:01<00:02, 89.12it/s]\u001b[A\n",
      " 34%|███▍      | 108/318 [00:01<00:02, 89.64it/s]\u001b[A\n",
      " 37%|███▋      | 117/318 [00:01<00:02, 89.64it/s]\u001b[A\n",
      " 40%|███▉      | 126/318 [00:01<00:02, 89.28it/s]\u001b[A\n",
      " 42%|████▏     | 135/318 [00:01<00:02, 89.10it/s]\u001b[A\n",
      " 45%|████▌     | 144/318 [00:01<00:01, 88.75it/s]\u001b[A\n",
      " 48%|████▊     | 154/318 [00:01<00:01, 89.33it/s]\u001b[A\n",
      " 52%|█████▏    | 164/318 [00:01<00:01, 89.94it/s]\u001b[A\n",
      " 54%|█████▍    | 173/318 [00:01<00:01, 89.41it/s]\u001b[A\n",
      " 57%|█████▋    | 182/318 [00:02<00:01, 89.13it/s]\u001b[A\n",
      " 60%|██████    | 191/318 [00:02<00:01, 89.03it/s]\u001b[A\n",
      " 63%|██████▎   | 200/318 [00:02<00:01, 88.95it/s]\u001b[A\n",
      " 66%|██████▌   | 210/318 [00:02<00:01, 89.61it/s]\u001b[A\n",
      " 69%|██████▉   | 219/318 [00:02<00:01, 89.61it/s]\u001b[A\n",
      " 72%|███████▏  | 229/318 [00:02<00:00, 90.44it/s]\u001b[A\n",
      " 75%|███████▌  | 239/318 [00:02<00:00, 91.00it/s]\u001b[A\n",
      " 78%|███████▊  | 249/318 [00:02<00:00, 90.86it/s]\u001b[A\n",
      " 81%|████████▏ | 259/318 [00:02<00:00, 90.38it/s]\u001b[A\n",
      " 85%|████████▍ | 269/318 [00:02<00:00, 89.49it/s]\u001b[A\n",
      " 87%|████████▋ | 278/318 [00:03<00:00, 89.40it/s]\u001b[A\n",
      " 90%|█████████ | 287/318 [00:03<00:00, 89.21it/s]\u001b[A\n",
      " 93%|█████████▎| 297/318 [00:03<00:00, 90.34it/s]\u001b[A\n",
      " 97%|█████████▋| 307/318 [00:03<00:00, 91.00it/s]\u001b[A\n",
      "100%|█████████▉| 317/318 [00:03<00:00, 91.49it/s]\u001b[A/cm/shared/ebtree/software/Python/3.8.6-GCCcore-10.2.0/lib/python3.8/site-packages/sklearn/metrics/_classification.py:1248: UndefinedMetricWarning: Precision is ill-defined and being set to 0.0 in labels with no predicted samples. Use `zero_division` parameter to control this behavior.\n",
      "  _warn_prf(average, modifier, msg_start, len(result))\n",
      "\n",
      "                                                    \n",
      " 81%|████████▏ | 8580/10560 [11:09<01:50, 17.92it/s]\n",
      "                                                 \u001b[ASaving model checkpoint to ./Checkpoints/MarBertv2_hyperparams/run-9/checkpoint-8580\n",
      "Configuration saved in ./Checkpoints/MarBertv2_hyperparams/run-9/checkpoint-8580/config.json\n"
     ]
    },
    {
     "name": "stdout",
     "output_type": "stream",
     "text": [
      "{'eval_loss': 0.6910579204559326, 'eval_f1': 0.4054307116104869, 'eval_recall': 0.5, 'eval_precision': 0.3409448818897638, 'eval_runtime': 3.6074, 'eval_samples_per_second': 352.05, 'eval_steps_per_second': 88.151, 'epoch': 13.0}\n"
     ]
    },
    {
     "name": "stderr",
     "output_type": "stream",
     "text": [
      "Model weights saved in ./Checkpoints/MarBertv2_hyperparams/run-9/checkpoint-8580/pytorch_model.bin\n",
      "tokenizer config file saved in ./Checkpoints/MarBertv2_hyperparams/run-9/checkpoint-8580/tokenizer_config.json\n",
      "Special tokens file saved in ./Checkpoints/MarBertv2_hyperparams/run-9/checkpoint-8580/special_tokens_map.json\n",
      " 85%|████████▌ | 9002/10560 [11:42<01:32, 16.82it/s]"
     ]
    },
    {
     "name": "stdout",
     "output_type": "stream",
     "text": [
      "{'loss': 0.6933, 'learning_rate': 2.420773157085655e-05, 'epoch': 13.64}\n"
     ]
    },
    {
     "name": "stderr",
     "output_type": "stream",
     "text": [
      " 88%|████████▊ | 9240/10560 [11:57<01:20, 16.43it/s]The following columns in the evaluation set  don't have a corresponding argument in `BertForSequenceClassification.forward` and have been ignored: text. If text are not expected by `BertForSequenceClassification.forward`,  you can safely ignore this message.\n",
      "***** Running Evaluation *****\n",
      "  Num examples = 1270\n",
      "  Batch size = 4\n",
      "\n",
      "  0%|          | 0/318 [00:00<?, ?it/s]\u001b[A\n",
      "  3%|▎         | 10/318 [00:00<00:03, 99.32it/s]\u001b[A\n",
      "  6%|▋         | 20/318 [00:00<00:03, 92.23it/s]\u001b[A\n",
      "  9%|▉         | 30/318 [00:00<00:03, 90.33it/s]\u001b[A\n",
      " 13%|█▎        | 40/318 [00:00<00:03, 87.68it/s]\u001b[A\n",
      " 15%|█▌        | 49/318 [00:00<00:03, 87.74it/s]\u001b[A\n",
      " 18%|█▊        | 58/318 [00:00<00:02, 87.09it/s]\u001b[A\n",
      " 21%|██        | 67/318 [00:00<00:02, 87.42it/s]\u001b[A\n",
      " 24%|██▍       | 76/318 [00:00<00:02, 87.75it/s]\u001b[A\n",
      " 27%|██▋       | 85/318 [00:00<00:02, 88.22it/s]\u001b[A\n",
      " 30%|██▉       | 94/318 [00:01<00:02, 88.63it/s]\u001b[A\n",
      " 32%|███▏      | 103/318 [00:01<00:02, 83.33it/s]\u001b[A\n",
      " 35%|███▌      | 112/318 [00:01<00:02, 79.72it/s]\u001b[A\n",
      " 38%|███▊      | 121/318 [00:01<00:02, 77.54it/s]\u001b[A\n",
      " 41%|████      | 129/318 [00:01<00:02, 76.26it/s]\u001b[A\n",
      " 43%|████▎     | 137/318 [00:01<00:02, 72.97it/s]\u001b[A\n",
      " 46%|████▌     | 146/318 [00:01<00:02, 76.57it/s]\u001b[A\n",
      " 49%|████▉     | 156/318 [00:01<00:01, 81.10it/s]\u001b[A\n",
      " 52%|█████▏    | 165/318 [00:01<00:01, 83.35it/s]\u001b[A\n",
      " 55%|█████▍    | 174/318 [00:02<00:01, 84.76it/s]\u001b[A\n",
      " 58%|█████▊    | 183/318 [00:02<00:01, 85.84it/s]\u001b[A\n",
      " 60%|██████    | 192/318 [00:02<00:01, 86.87it/s]\u001b[A\n",
      " 63%|██████▎   | 201/318 [00:02<00:01, 87.33it/s]\u001b[A\n",
      " 66%|██████▌   | 210/318 [00:02<00:01, 88.08it/s]\u001b[A\n",
      " 69%|██████▉   | 219/318 [00:02<00:01, 88.59it/s]\u001b[A\n",
      " 72%|███████▏  | 228/318 [00:02<00:01, 88.61it/s]\u001b[A\n",
      " 75%|███████▍  | 237/318 [00:02<00:00, 88.91it/s]\u001b[A\n",
      " 77%|███████▋  | 246/318 [00:02<00:00, 88.71it/s]\u001b[A\n",
      " 80%|████████  | 255/318 [00:02<00:00, 88.77it/s]\u001b[A\n",
      " 83%|████████▎ | 264/318 [00:03<00:00, 86.82it/s]\u001b[A\n",
      " 86%|████████▌ | 273/318 [00:03<00:00, 86.16it/s]\u001b[A\n",
      " 89%|████████▊ | 282/318 [00:03<00:00, 86.83it/s]\u001b[A\n",
      " 92%|█████████▏| 291/318 [00:03<00:00, 87.36it/s]\u001b[A\n",
      " 94%|█████████▍| 300/318 [00:03<00:00, 80.75it/s]\u001b[A\n",
      " 97%|█████████▋| 309/318 [00:03<00:00, 82.92it/s]\u001b[A\n",
      "100%|██████████| 318/318 [00:03<00:00, 84.40it/s]\u001b[A/cm/shared/ebtree/software/Python/3.8.6-GCCcore-10.2.0/lib/python3.8/site-packages/sklearn/metrics/_classification.py:1248: UndefinedMetricWarning: Precision is ill-defined and being set to 0.0 in labels with no predicted samples. Use `zero_division` parameter to control this behavior.\n",
      "  _warn_prf(average, modifier, msg_start, len(result))\n",
      "\n",
      "                                                    \n",
      " 88%|████████▊ | 9240/10560 [12:01<01:20, 16.43it/s]\n",
      "                                                 \u001b[ASaving model checkpoint to ./Checkpoints/MarBertv2_hyperparams/run-9/checkpoint-9240\n",
      "Configuration saved in ./Checkpoints/MarBertv2_hyperparams/run-9/checkpoint-9240/config.json\n"
     ]
    },
    {
     "name": "stdout",
     "output_type": "stream",
     "text": [
      "{'eval_loss': 0.6916897296905518, 'eval_f1': 0.4054307116104869, 'eval_recall': 0.5, 'eval_precision': 0.3409448818897638, 'eval_runtime': 3.8205, 'eval_samples_per_second': 332.419, 'eval_steps_per_second': 83.236, 'epoch': 14.0}\n"
     ]
    },
    {
     "name": "stderr",
     "output_type": "stream",
     "text": [
      "Model weights saved in ./Checkpoints/MarBertv2_hyperparams/run-9/checkpoint-9240/pytorch_model.bin\n",
      "tokenizer config file saved in ./Checkpoints/MarBertv2_hyperparams/run-9/checkpoint-9240/tokenizer_config.json\n",
      "Special tokens file saved in ./Checkpoints/MarBertv2_hyperparams/run-9/checkpoint-9240/special_tokens_map.json\n",
      " 90%|████████▉ | 9502/10560 [12:25<01:10, 15.09it/s]"
     ]
    },
    {
     "name": "stdout",
     "output_type": "stream",
     "text": [
      "{'loss': 0.6932, 'learning_rate': 1.6448843246864065e-05, 'epoch': 14.39}\n"
     ]
    },
    {
     "name": "stderr",
     "output_type": "stream",
     "text": [
      " 94%|█████████▍| 9900/10560 [12:49<00:41, 16.10it/s]The following columns in the evaluation set  don't have a corresponding argument in `BertForSequenceClassification.forward` and have been ignored: text. If text are not expected by `BertForSequenceClassification.forward`,  you can safely ignore this message.\n",
      "***** Running Evaluation *****\n",
      "  Num examples = 1270\n",
      "  Batch size = 4\n",
      "\n",
      "  0%|          | 0/318 [00:00<?, ?it/s]\u001b[A\n",
      "  3%|▎         | 10/318 [00:00<00:03, 92.73it/s]\u001b[A\n",
      "  6%|▋         | 20/318 [00:00<00:03, 90.40it/s]\u001b[A\n",
      "  9%|▉         | 30/318 [00:00<00:03, 90.66it/s]\u001b[A\n",
      " 13%|█▎        | 40/318 [00:00<00:03, 90.11it/s]\u001b[A\n",
      " 16%|█▌        | 50/318 [00:00<00:02, 90.96it/s]\u001b[A\n",
      " 19%|█▉        | 60/318 [00:00<00:02, 91.56it/s]\u001b[A\n",
      " 22%|██▏       | 70/318 [00:00<00:02, 91.57it/s]\u001b[A\n",
      " 25%|██▌       | 80/318 [00:00<00:02, 91.13it/s]\u001b[A\n",
      " 28%|██▊       | 90/318 [00:00<00:02, 91.37it/s]\u001b[A\n",
      " 31%|███▏      | 100/318 [00:01<00:02, 90.97it/s]\u001b[A\n",
      " 35%|███▍      | 110/318 [00:01<00:02, 91.22it/s]\u001b[A\n",
      " 38%|███▊      | 120/318 [00:01<00:02, 91.55it/s]\u001b[A\n",
      " 41%|████      | 130/318 [00:01<00:02, 91.01it/s]\u001b[A\n",
      " 44%|████▍     | 140/318 [00:01<00:01, 90.84it/s]\u001b[A\n",
      " 47%|████▋     | 150/318 [00:01<00:01, 89.89it/s]\u001b[A\n",
      " 50%|█████     | 160/318 [00:01<00:01, 90.17it/s]\u001b[A\n",
      " 53%|█████▎    | 170/318 [00:01<00:01, 90.08it/s]\u001b[A\n",
      " 57%|█████▋    | 180/318 [00:01<00:01, 89.37it/s]\u001b[A\n",
      " 60%|█████▉    | 190/318 [00:02<00:01, 89.87it/s]\u001b[A\n",
      " 63%|██████▎   | 200/318 [00:02<00:01, 90.45it/s]\u001b[A\n",
      " 66%|██████▌   | 210/318 [00:02<00:01, 90.03it/s]\u001b[A\n",
      " 69%|██████▉   | 220/318 [00:02<00:01, 89.82it/s]\u001b[A\n",
      " 72%|███████▏  | 230/318 [00:02<00:00, 89.99it/s]\u001b[A\n",
      " 75%|███████▌  | 240/318 [00:02<00:00, 84.77it/s]\u001b[A\n",
      " 78%|███████▊  | 249/318 [00:02<00:00, 82.80it/s]\u001b[A\n",
      " 81%|████████  | 258/318 [00:02<00:00, 81.58it/s]\u001b[A\n",
      " 84%|████████▍ | 267/318 [00:03<00:00, 80.64it/s]\u001b[A\n",
      " 87%|████████▋ | 276/318 [00:03<00:00, 79.30it/s]\u001b[A\n",
      " 89%|████████▉ | 284/318 [00:03<00:00, 78.56it/s]\u001b[A\n",
      " 92%|█████████▏| 292/318 [00:03<00:00, 77.80it/s]\u001b[A\n",
      " 94%|█████████▍| 300/318 [00:03<00:00, 76.82it/s]\u001b[A\n",
      " 97%|█████████▋| 308/318 [00:03<00:00, 76.53it/s]\u001b[A\n",
      " 99%|█████████▉| 316/318 [00:03<00:00, 76.48it/s]\u001b[A/cm/shared/ebtree/software/Python/3.8.6-GCCcore-10.2.0/lib/python3.8/site-packages/sklearn/metrics/_classification.py:1248: UndefinedMetricWarning: Precision is ill-defined and being set to 0.0 in labels with no predicted samples. Use `zero_division` parameter to control this behavior.\n",
      "  _warn_prf(average, modifier, msg_start, len(result))\n",
      "\n",
      "                                                    \n",
      " 94%|█████████▍| 9900/10560 [12:53<00:41, 16.10it/s]\n",
      "                                                 \u001b[ASaving model checkpoint to ./Checkpoints/MarBertv2_hyperparams/run-9/checkpoint-9900\n",
      "Configuration saved in ./Checkpoints/MarBertv2_hyperparams/run-9/checkpoint-9900/config.json\n"
     ]
    },
    {
     "name": "stdout",
     "output_type": "stream",
     "text": [
      "{'eval_loss': 0.6921460628509521, 'eval_f1': 0.4054307116104869, 'eval_recall': 0.5, 'eval_precision': 0.3409448818897638, 'eval_runtime': 3.7643, 'eval_samples_per_second': 337.384, 'eval_steps_per_second': 84.479, 'epoch': 15.0}\n"
     ]
    },
    {
     "name": "stderr",
     "output_type": "stream",
     "text": [
      "Model weights saved in ./Checkpoints/MarBertv2_hyperparams/run-9/checkpoint-9900/pytorch_model.bin\n",
      "tokenizer config file saved in ./Checkpoints/MarBertv2_hyperparams/run-9/checkpoint-9900/tokenizer_config.json\n",
      "Special tokens file saved in ./Checkpoints/MarBertv2_hyperparams/run-9/checkpoint-9900/special_tokens_map.json\n",
      " 95%|█████████▍| 10002/10560 [13:07<00:39, 14.19it/s]"
     ]
    },
    {
     "name": "stdout",
     "output_type": "stream",
     "text": [
      "{'loss': 0.6932, 'learning_rate': 8.689954922871582e-06, 'epoch': 15.15}\n"
     ]
    },
    {
     "name": "stderr",
     "output_type": "stream",
     "text": [
      " 99%|█████████▉| 10502/10560 [13:38<00:03, 15.24it/s]"
     ]
    },
    {
     "name": "stdout",
     "output_type": "stream",
     "text": [
      "{'loss': 0.6932, 'learning_rate': 9.31066598879098e-07, 'epoch': 15.91}\n"
     ]
    },
    {
     "name": "stderr",
     "output_type": "stream",
     "text": [
      "100%|██████████| 10560/10560 [13:42<00:00, 16.00it/s]The following columns in the evaluation set  don't have a corresponding argument in `BertForSequenceClassification.forward` and have been ignored: text. If text are not expected by `BertForSequenceClassification.forward`,  you can safely ignore this message.\n",
      "***** Running Evaluation *****\n",
      "  Num examples = 1270\n",
      "  Batch size = 4\n",
      "\n",
      "  0%|          | 0/318 [00:00<?, ?it/s]\u001b[A\n",
      "  3%|▎         | 10/318 [00:00<00:03, 98.35it/s]\u001b[A\n",
      "  6%|▋         | 20/318 [00:00<00:03, 91.17it/s]\u001b[A\n",
      "  9%|▉         | 30/318 [00:00<00:03, 89.31it/s]\u001b[A\n",
      " 12%|█▏        | 39/318 [00:00<00:03, 88.67it/s]\u001b[A\n",
      " 15%|█▌        | 48/318 [00:00<00:03, 88.34it/s]\u001b[A\n",
      " 18%|█▊        | 57/318 [00:00<00:02, 87.90it/s]\u001b[A\n",
      " 21%|██        | 66/318 [00:00<00:02, 88.11it/s]\u001b[A\n",
      " 24%|██▎       | 75/318 [00:00<00:02, 88.08it/s]\u001b[A\n",
      " 26%|██▋       | 84/318 [00:00<00:02, 88.15it/s]\u001b[A\n",
      " 29%|██▉       | 93/318 [00:01<00:02, 88.24it/s]\u001b[A\n",
      " 32%|███▏      | 102/318 [00:01<00:02, 88.41it/s]\u001b[A\n",
      " 35%|███▍      | 111/318 [00:01<00:02, 88.39it/s]\u001b[A\n",
      " 38%|███▊      | 120/318 [00:01<00:02, 88.34it/s]\u001b[A\n",
      " 41%|████      | 129/318 [00:01<00:02, 85.74it/s]\u001b[A\n",
      " 43%|████▎     | 138/318 [00:01<00:02, 86.16it/s]\u001b[A\n",
      " 46%|████▌     | 147/318 [00:01<00:01, 86.39it/s]\u001b[A\n",
      " 49%|████▉     | 156/318 [00:01<00:01, 86.32it/s]\u001b[A\n",
      " 52%|█████▏    | 165/318 [00:01<00:01, 86.51it/s]\u001b[A\n",
      " 55%|█████▍    | 174/318 [00:01<00:01, 86.74it/s]\u001b[A\n",
      " 58%|█████▊    | 183/318 [00:02<00:01, 86.73it/s]\u001b[A\n",
      " 60%|██████    | 192/318 [00:02<00:01, 86.09it/s]\u001b[A\n",
      " 63%|██████▎   | 201/318 [00:02<00:01, 86.59it/s]\u001b[A\n",
      " 66%|██████▌   | 210/318 [00:02<00:01, 86.56it/s]\u001b[A\n",
      " 69%|██████▉   | 219/318 [00:02<00:01, 86.93it/s]\u001b[A\n",
      " 72%|███████▏  | 228/318 [00:02<00:01, 84.96it/s]\u001b[A\n",
      " 75%|███████▍  | 237/318 [00:02<00:00, 84.72it/s]\u001b[A\n",
      " 77%|███████▋  | 246/318 [00:02<00:00, 85.50it/s]\u001b[A\n",
      " 80%|████████  | 255/318 [00:02<00:00, 83.82it/s]\u001b[A\n",
      " 83%|████████▎ | 264/318 [00:03<00:00, 84.97it/s]\u001b[A\n",
      " 86%|████████▌ | 273/318 [00:03<00:00, 85.80it/s]\u001b[A\n",
      " 89%|████████▊ | 282/318 [00:03<00:00, 86.41it/s]\u001b[A\n",
      " 92%|█████████▏| 291/318 [00:03<00:00, 85.41it/s]\u001b[A\n",
      " 94%|█████████▍| 300/318 [00:03<00:00, 85.96it/s]\u001b[A\n",
      " 97%|█████████▋| 309/318 [00:03<00:00, 86.56it/s]\u001b[A\n",
      "100%|██████████| 318/318 [00:03<00:00, 87.00it/s]\u001b[A/cm/shared/ebtree/software/Python/3.8.6-GCCcore-10.2.0/lib/python3.8/site-packages/sklearn/metrics/_classification.py:1248: UndefinedMetricWarning: Precision is ill-defined and being set to 0.0 in labels with no predicted samples. Use `zero_division` parameter to control this behavior.\n",
      "  _warn_prf(average, modifier, msg_start, len(result))\n",
      "\n",
      "                                                     \n",
      "100%|██████████| 10560/10560 [13:46<00:00, 16.00it/s]\n",
      "                                                 \u001b[ASaving model checkpoint to ./Checkpoints/MarBertv2_hyperparams/run-9/checkpoint-10560\n",
      "Configuration saved in ./Checkpoints/MarBertv2_hyperparams/run-9/checkpoint-10560/config.json\n"
     ]
    },
    {
     "name": "stdout",
     "output_type": "stream",
     "text": [
      "{'eval_loss': 0.6922903060913086, 'eval_f1': 0.4054307116104869, 'eval_recall': 0.5, 'eval_precision': 0.3409448818897638, 'eval_runtime': 3.7462, 'eval_samples_per_second': 339.012, 'eval_steps_per_second': 84.886, 'epoch': 16.0}\n"
     ]
    },
    {
     "name": "stderr",
     "output_type": "stream",
     "text": [
      "Model weights saved in ./Checkpoints/MarBertv2_hyperparams/run-9/checkpoint-10560/pytorch_model.bin\n",
      "tokenizer config file saved in ./Checkpoints/MarBertv2_hyperparams/run-9/checkpoint-10560/tokenizer_config.json\n",
      "Special tokens file saved in ./Checkpoints/MarBertv2_hyperparams/run-9/checkpoint-10560/special_tokens_map.json\n",
      "\n",
      "\n",
      "Training completed. Do not forget to share your model on huggingface.co/models =)\n",
      "\n",
      "\n",
      "Loading best model from ./Checkpoints/MarBertv2_hyperparams/run-9/checkpoint-660 (score: 0.4054307116104869).\n",
      "100%|██████████| 10560/10560 [13:53<00:00, 12.66it/s]\n",
      "\u001b[32m[I 2022-03-28 22:41:56,071]\u001b[0m Trial 9 finished with value: 1.2463755935002507 and parameters: {'learning_rate': 0.00016386772140272125, 'weight_decay': 3.0516285044005945e-10, 'num_train_epochs': 16, 'seed': 1, 'per_device_train_batch_size': 16}. Best is trial 3 with value: 2.52298489012904.\u001b[0m\n"
     ]
    },
    {
     "name": "stdout",
     "output_type": "stream",
     "text": [
      "{'train_runtime': 833.8107, 'train_samples_per_second': 202.482, 'train_steps_per_second': 12.665, 'train_loss': 0.6966054360071818, 'epoch': 16.0}\n"
     ]
    }
   ],
   "source": [
    "best_run = trainer.hyperparameter_search(n_trials=10, direction=\"maximize\",  hp_space=my_hp_space)"
   ]
  },
  {
   "cell_type": "code",
   "execution_count": null,
   "id": "dfc0e26e",
   "metadata": {},
   "outputs": [],
   "source": []
  }
 ],
 "metadata": {
  "kernelspec": {
   "display_name": "MT-Jupyter",
   "language": "python",
   "name": "mt-jupyter"
  },
  "language_info": {
   "codemirror_mode": {
    "name": "ipython",
    "version": 3
   },
   "file_extension": ".py",
   "mimetype": "text/x-python",
   "name": "python",
   "nbconvert_exporter": "python",
   "pygments_lexer": "ipython3",
   "version": "3.8.6"
  }
 },
 "nbformat": 4,
 "nbformat_minor": 5
}
