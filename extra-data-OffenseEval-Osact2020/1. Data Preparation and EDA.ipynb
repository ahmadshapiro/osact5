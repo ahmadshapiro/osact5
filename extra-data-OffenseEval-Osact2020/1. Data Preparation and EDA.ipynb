{
 "cells": [
  {
   "cell_type": "code",
   "execution_count": 4,
   "id": "5859dfec-962b-4a8d-b67f-a86c082786ba",
   "metadata": {},
   "outputs": [
    {
     "name": "stdout",
     "output_type": "stream",
     "text": [
      "/home/ashapiro/Hate_speech_task\n"
     ]
    }
   ],
   "source": [
    "%cd /home/ashapiro/Hate_speech_task/"
   ]
  },
  {
   "cell_type": "code",
   "execution_count": 1,
   "id": "e60f31d7-1fa5-439a-9d5c-3ed7bca5118b",
   "metadata": {
    "executionInfo": {
     "elapsed": 1282,
     "status": "ok",
     "timestamp": 1647348721029,
     "user": {
      "displayName": "Ahmad Mohye",
      "photoUrl": "https://lh3.googleusercontent.com/a-/AOh14GgCViEMuYowrClHm06CxIWTNQZ7o4CZcibFrvA_1g=s64",
      "userId": "12471615968860375677"
     },
     "user_tz": -120
    },
    "id": "x2l_Fmc8O0ZB",
    "scrolled": true
   },
   "outputs": [],
   "source": [
    "import pandas as pd \n",
    "import numpy as np\n",
    "import matplotlib.pyplot as plt\n",
    "from collections import Counter\n",
    "import seaborn as sns \n",
    "plt.style.use('ggplot')"
   ]
  },
  {
   "cell_type": "markdown",
   "id": "5b5e4197-f1ae-4abc-87d1-bcf74d388ead",
   "metadata": {
    "id": "0DWn4mxKOmWy"
   },
   "source": [
    "## Downloading Dataset"
   ]
  },
  {
   "cell_type": "code",
   "execution_count": null,
   "id": "32e0dbb6-2587-4a26-9d9b-562cda791375",
   "metadata": {
    "executionInfo": {
     "elapsed": 18,
     "status": "ok",
     "timestamp": 1647348721034,
     "user": {
      "displayName": "Ahmad Mohye",
      "photoUrl": "https://lh3.googleusercontent.com/a-/AOh14GgCViEMuYowrClHm06CxIWTNQZ7o4CZcibFrvA_1g=s64",
      "userId": "12471615968860375677"
     },
     "user_tz": -120
    },
    "id": "U_gfC1zjOL9u"
   },
   "outputs": [],
   "source": [
    "# !wget -O Data/train.txt https://alt.qcri.org/resources/OSACT2022/OSACT2022-sharedTask-train.txt\n",
    "# !wget -O Data/test.txt https://alt.qcri.org/resources/OSACT2022/OSACT2022-sharedTask-dev.txt"
   ]
  },
  {
   "cell_type": "code",
   "execution_count": 5,
   "id": "b1c6451a-a56e-4ec6-917e-f9aabbc38bb0",
   "metadata": {},
   "outputs": [],
   "source": [
    "def read_data(file):\n",
    "    k = {'Tweet':[],'Offensive':[],'HSL':[], 'Vulgar':[], 'Violence':[]}\n",
    "    lines = open(file,\"r\").readlines()\n",
    "    for i,line in enumerate(lines):\n",
    "        line = line.split(\"\\t\")\n",
    "        if len(line) != 6:\n",
    "            print(f\"failed at {i}\") \n",
    "        k['Tweet'].append(line[1].strip())\n",
    "        k['Offensive'].append(line[2].strip())\n",
    "        k['HSL'].append(line[3].strip())\n",
    "        k['Vulgar'].append(line[4].strip())\n",
    "        k['Violence'].append(line[5].strip())\n",
    "        \n",
    "    return pd.DataFrame.from_dict(k)"
   ]
  },
  {
   "cell_type": "markdown",
   "id": "f1171f98-d7e6-4080-95e4-9152718937fc",
   "metadata": {
    "id": "H2hTrm8jOx8p"
   },
   "source": [
    "## Loading Data and Task Division"
   ]
  },
  {
   "cell_type": "code",
   "execution_count": 6,
   "id": "8b8bda47-7c9c-4119-ac36-1f4fe1a45e44",
   "metadata": {
    "colab": {
     "base_uri": "https://localhost:8080/",
     "height": 206
    },
    "executionInfo": {
     "elapsed": 16,
     "status": "ok",
     "timestamp": 1647348721035,
     "user": {
      "displayName": "Ahmad Mohye",
      "photoUrl": "https://lh3.googleusercontent.com/a-/AOh14GgCViEMuYowrClHm06CxIWTNQZ7o4CZcibFrvA_1g=s64",
      "userId": "12471615968860375677"
     },
     "user_tz": -120
    },
    "id": "VDMgNuUVOpml",
    "outputId": "e41ee404-6c93-4e28-8f67-cd304b03c9fb"
   },
   "outputs": [
    {
     "data": {
      "text/html": [
       "<div>\n",
       "<style scoped>\n",
       "    .dataframe tbody tr th:only-of-type {\n",
       "        vertical-align: middle;\n",
       "    }\n",
       "\n",
       "    .dataframe tbody tr th {\n",
       "        vertical-align: top;\n",
       "    }\n",
       "\n",
       "    .dataframe thead th {\n",
       "        text-align: right;\n",
       "    }\n",
       "</style>\n",
       "<table border=\"1\" class=\"dataframe\">\n",
       "  <thead>\n",
       "    <tr style=\"text-align: right;\">\n",
       "      <th></th>\n",
       "      <th>Tweet</th>\n",
       "      <th>Offensive</th>\n",
       "      <th>HSL</th>\n",
       "      <th>Vulgar</th>\n",
       "      <th>Violence</th>\n",
       "    </tr>\n",
       "  </thead>\n",
       "  <tbody>\n",
       "    <tr>\n",
       "      <th>0</th>\n",
       "      <td>@USER ردينا ع التطنز 😏👊🏻</td>\n",
       "      <td>OFF</td>\n",
       "      <td>NOT_HS</td>\n",
       "      <td>NOT_VLG</td>\n",
       "      <td>NOT_VIO</td>\n",
       "    </tr>\n",
       "    <tr>\n",
       "      <th>1</th>\n",
       "      <td>وصارت فطاير البقالات غذاء صحي 👎🏻 URL</td>\n",
       "      <td>NOT_OFF</td>\n",
       "      <td>NOT_HS</td>\n",
       "      <td>NOT_VLG</td>\n",
       "      <td>NOT_VIO</td>\n",
       "    </tr>\n",
       "    <tr>\n",
       "      <th>2</th>\n",
       "      <td>@USER روحي لبريده تلقين اشباه كثير بس ماحد زيك...</td>\n",
       "      <td>OFF</td>\n",
       "      <td>NOT_HS</td>\n",
       "      <td>NOT_VLG</td>\n",
       "      <td>NOT_VIO</td>\n",
       "    </tr>\n",
       "    <tr>\n",
       "      <th>3</th>\n",
       "      <td>@USER مش باين حاجه خالص 😣&lt;LF&gt;مش عارف بقى 😔</td>\n",
       "      <td>NOT_OFF</td>\n",
       "      <td>NOT_HS</td>\n",
       "      <td>NOT_VLG</td>\n",
       "      <td>NOT_VIO</td>\n",
       "    </tr>\n",
       "    <tr>\n",
       "      <th>4</th>\n",
       "      <td>#اليوم_الاثنين&lt;LF&gt;&lt;LF&gt;👏 يقولك :%90  من المسلمي...</td>\n",
       "      <td>NOT_OFF</td>\n",
       "      <td>NOT_HS</td>\n",
       "      <td>NOT_VLG</td>\n",
       "      <td>NOT_VIO</td>\n",
       "    </tr>\n",
       "  </tbody>\n",
       "</table>\n",
       "</div>"
      ],
      "text/plain": [
       "                                               Tweet Offensive     HSL  \\\n",
       "0                           @USER ردينا ع التطنز 😏👊🏻       OFF  NOT_HS   \n",
       "1               وصارت فطاير البقالات غذاء صحي 👎🏻 URL   NOT_OFF  NOT_HS   \n",
       "2  @USER روحي لبريده تلقين اشباه كثير بس ماحد زيك...       OFF  NOT_HS   \n",
       "3         @USER مش باين حاجه خالص 😣<LF>مش عارف بقى 😔   NOT_OFF  NOT_HS   \n",
       "4  #اليوم_الاثنين<LF><LF>👏 يقولك :%90  من المسلمي...   NOT_OFF  NOT_HS   \n",
       "\n",
       "    Vulgar Violence  \n",
       "0  NOT_VLG  NOT_VIO  \n",
       "1  NOT_VLG  NOT_VIO  \n",
       "2  NOT_VLG  NOT_VIO  \n",
       "3  NOT_VLG  NOT_VIO  \n",
       "4  NOT_VLG  NOT_VIO  "
      ]
     },
     "execution_count": 6,
     "metadata": {},
     "output_type": "execute_result"
    }
   ],
   "source": [
    "train = read_data(file = \"Data/train.txt\")\n",
    "test =  read_data(file = \"Data/test.txt\" )\n",
    "train.head()"
   ]
  },
  {
   "cell_type": "markdown",
   "id": "30e7d7e7-3482-46bb-9e65-2d989057d68a",
   "metadata": {
    "id": "utnFggcpPtD4"
   },
   "source": [
    "Each row is formated accordingly\n",
    "\n",
    "\n",
    "| Index | Tweet | Offensive    | Hate Speech Label| Vulgar | Voilence |  \n",
    "|---:|:-------------|:-----------|:------|:------|:------|\n",
    "| 0 | @USER من زمان ونحن ندعس بلدكم دعس  | OFF       | HS1   | NOT_VLG     | NOT_VIOO     |\n",
    "| 1 | وصارت فطاير البقالات غذاء صحي | NOT_OFF       | NOT_HS   | NOT_VLG     | NOT_VIO     |\n"
   ]
  },
  {
   "cell_type": "markdown",
   "id": "8ac7672e-e7ff-4e81-b655-39da992fcdeb",
   "metadata": {
    "id": "9xWNNqw8U-ow"
   },
   "source": [
    "We will split the train and val datasets into the coressponding subtasks \n",
    "\n",
    "\n",
    "---\n",
    "\n",
    "**Subtask A** : Detect whether a tweet is offensive or not.\n",
    "</br> Labels for this task are: OFF (Offensive) or NOT_OFF (Not Offensive)\n",
    "</br> Instead will replace labels to be : 1 (Offensive) or 0 (Not Offensive)\n",
    "</br> Example: الله يلعنه على هالسؤال (May God curse him for this question! )\n",
    "\n",
    "\n",
    "---\n",
    "**Subtask B**: Detect whether a tweet has hate speech or not.\n",
    "</br> Labels are: HS (Hate Speech) or NOT_HS (Not Hate Speech).\n",
    "</br> Instead will replace labels to be : HS (Hate Speech) or NOT_HS (Not Hate Speech).\n",
    "</br> Example: أنتم شعب متخلف (You are a retarded people)\n",
    "\n",
    "---\n",
    "**Subtask C**: Detect the fine-grained type of hate speech.\n",
    "</br> Labels are: HS1 (Race), HS2 (Religion), HS3 (Ideology), HS4 (Disability), HS5 (Social Class), and HS6 (Gender).\n"
   ]
  },
  {
   "cell_type": "code",
   "execution_count": 7,
   "id": "f23d77b5-df68-48dc-96ae-6ba82e94da37",
   "metadata": {
    "executionInfo": {
     "elapsed": 572,
     "status": "ok",
     "timestamp": 1647348721594,
     "user": {
      "displayName": "Ahmad Mohye",
      "photoUrl": "https://lh3.googleusercontent.com/a-/AOh14GgCViEMuYowrClHm06CxIWTNQZ7o4CZcibFrvA_1g=s64",
      "userId": "12471615968860375677"
     },
     "user_tz": -120
    },
    "id": "rZfWU7RsPMAh"
   },
   "outputs": [],
   "source": [
    "def split(df):\n",
    "    df = df.copy(deep=True)\n",
    "    df['Offensive'] = df.Offensive.apply(lambda x: 1 if x == \"OFF\" else 0)\n",
    "    df['HS'] = df.HSL.apply(lambda x: 0 if x == \"NOT_HS\" else 1)\n",
    "    df['HSL'] = df.HSL.apply(lambda x: 0 if x == \"NOT_HS\" else int(list(x)[-1]) )\n",
    "    df.Vulgar = df.Vulgar.apply(lambda x: 1 if x == \"VLG\" else 0)\n",
    "    df.Violence = df.Violence.apply(lambda x: 1 if x == \"VIO\" else 0)\n",
    "\n",
    "    return df[['Tweet', 'Offensive']], df[['Tweet', 'HS']], df[['Tweet', 'HSL']] #returns data from subtaskA, subtaskB, and subtaskC respecitvally "
   ]
  },
  {
   "cell_type": "code",
   "execution_count": 8,
   "id": "9ee2bc90-cb24-4703-b24f-b10c6abe34f9",
   "metadata": {
    "executionInfo": {
     "elapsed": 40,
     "status": "ok",
     "timestamp": 1647348721594,
     "user": {
      "displayName": "Ahmad Mohye",
      "photoUrl": "https://lh3.googleusercontent.com/a-/AOh14GgCViEMuYowrClHm06CxIWTNQZ7o4CZcibFrvA_1g=s64",
      "userId": "12471615968860375677"
     },
     "user_tz": -120
    },
    "id": "_2_CyHJkPyGw"
   },
   "outputs": [],
   "source": [
    "trainA, trainB, trainC = split(train)"
   ]
  },
  {
   "cell_type": "code",
   "execution_count": 9,
   "id": "f5a656cc-fd8f-4ac9-81ff-542b174c69b9",
   "metadata": {
    "colab": {
     "base_uri": "https://localhost:8080/",
     "height": 206
    },
    "executionInfo": {
     "elapsed": 36,
     "status": "ok",
     "timestamp": 1647348721595,
     "user": {
      "displayName": "Ahmad Mohye",
      "photoUrl": "https://lh3.googleusercontent.com/a-/AOh14GgCViEMuYowrClHm06CxIWTNQZ7o4CZcibFrvA_1g=s64",
      "userId": "12471615968860375677"
     },
     "user_tz": -120
    },
    "id": "IgCpUMZiP8mv",
    "outputId": "6f42515d-d516-4f02-fe94-a53d9d033b2a"
   },
   "outputs": [
    {
     "data": {
      "text/html": [
       "<div>\n",
       "<style scoped>\n",
       "    .dataframe tbody tr th:only-of-type {\n",
       "        vertical-align: middle;\n",
       "    }\n",
       "\n",
       "    .dataframe tbody tr th {\n",
       "        vertical-align: top;\n",
       "    }\n",
       "\n",
       "    .dataframe thead th {\n",
       "        text-align: right;\n",
       "    }\n",
       "</style>\n",
       "<table border=\"1\" class=\"dataframe\">\n",
       "  <thead>\n",
       "    <tr style=\"text-align: right;\">\n",
       "      <th></th>\n",
       "      <th>Tweet</th>\n",
       "      <th>Offensive</th>\n",
       "      <th>HSL</th>\n",
       "      <th>Vulgar</th>\n",
       "      <th>Violence</th>\n",
       "    </tr>\n",
       "  </thead>\n",
       "  <tbody>\n",
       "    <tr>\n",
       "      <th>0</th>\n",
       "      <td>@USER ردينا ع التطنز 😏👊🏻</td>\n",
       "      <td>OFF</td>\n",
       "      <td>NOT_HS</td>\n",
       "      <td>NOT_VLG</td>\n",
       "      <td>NOT_VIO</td>\n",
       "    </tr>\n",
       "    <tr>\n",
       "      <th>1</th>\n",
       "      <td>وصارت فطاير البقالات غذاء صحي 👎🏻 URL</td>\n",
       "      <td>NOT_OFF</td>\n",
       "      <td>NOT_HS</td>\n",
       "      <td>NOT_VLG</td>\n",
       "      <td>NOT_VIO</td>\n",
       "    </tr>\n",
       "    <tr>\n",
       "      <th>2</th>\n",
       "      <td>@USER روحي لبريده تلقين اشباه كثير بس ماحد زيك...</td>\n",
       "      <td>OFF</td>\n",
       "      <td>NOT_HS</td>\n",
       "      <td>NOT_VLG</td>\n",
       "      <td>NOT_VIO</td>\n",
       "    </tr>\n",
       "    <tr>\n",
       "      <th>3</th>\n",
       "      <td>@USER مش باين حاجه خالص 😣&lt;LF&gt;مش عارف بقى 😔</td>\n",
       "      <td>NOT_OFF</td>\n",
       "      <td>NOT_HS</td>\n",
       "      <td>NOT_VLG</td>\n",
       "      <td>NOT_VIO</td>\n",
       "    </tr>\n",
       "    <tr>\n",
       "      <th>4</th>\n",
       "      <td>#اليوم_الاثنين&lt;LF&gt;&lt;LF&gt;👏 يقولك :%90  من المسلمي...</td>\n",
       "      <td>NOT_OFF</td>\n",
       "      <td>NOT_HS</td>\n",
       "      <td>NOT_VLG</td>\n",
       "      <td>NOT_VIO</td>\n",
       "    </tr>\n",
       "  </tbody>\n",
       "</table>\n",
       "</div>"
      ],
      "text/plain": [
       "                                               Tweet Offensive     HSL  \\\n",
       "0                           @USER ردينا ع التطنز 😏👊🏻       OFF  NOT_HS   \n",
       "1               وصارت فطاير البقالات غذاء صحي 👎🏻 URL   NOT_OFF  NOT_HS   \n",
       "2  @USER روحي لبريده تلقين اشباه كثير بس ماحد زيك...       OFF  NOT_HS   \n",
       "3         @USER مش باين حاجه خالص 😣<LF>مش عارف بقى 😔   NOT_OFF  NOT_HS   \n",
       "4  #اليوم_الاثنين<LF><LF>👏 يقولك :%90  من المسلمي...   NOT_OFF  NOT_HS   \n",
       "\n",
       "    Vulgar Violence  \n",
       "0  NOT_VLG  NOT_VIO  \n",
       "1  NOT_VLG  NOT_VIO  \n",
       "2  NOT_VLG  NOT_VIO  \n",
       "3  NOT_VLG  NOT_VIO  \n",
       "4  NOT_VLG  NOT_VIO  "
      ]
     },
     "execution_count": 9,
     "metadata": {},
     "output_type": "execute_result"
    }
   ],
   "source": [
    "train.head()"
   ]
  },
  {
   "cell_type": "code",
   "execution_count": 10,
   "id": "25129bda-8dd4-42b6-b560-1712a038ee60",
   "metadata": {
    "colab": {
     "base_uri": "https://localhost:8080/",
     "height": 206
    },
    "executionInfo": {
     "elapsed": 32,
     "status": "ok",
     "timestamp": 1647348721595,
     "user": {
      "displayName": "Ahmad Mohye",
      "photoUrl": "https://lh3.googleusercontent.com/a-/AOh14GgCViEMuYowrClHm06CxIWTNQZ7o4CZcibFrvA_1g=s64",
      "userId": "12471615968860375677"
     },
     "user_tz": -120
    },
    "id": "bPG6j1dGP4UW",
    "outputId": "c5624cf7-8935-410f-f0f4-3ca7bf935652"
   },
   "outputs": [
    {
     "data": {
      "text/html": [
       "<div>\n",
       "<style scoped>\n",
       "    .dataframe tbody tr th:only-of-type {\n",
       "        vertical-align: middle;\n",
       "    }\n",
       "\n",
       "    .dataframe tbody tr th {\n",
       "        vertical-align: top;\n",
       "    }\n",
       "\n",
       "    .dataframe thead th {\n",
       "        text-align: right;\n",
       "    }\n",
       "</style>\n",
       "<table border=\"1\" class=\"dataframe\">\n",
       "  <thead>\n",
       "    <tr style=\"text-align: right;\">\n",
       "      <th></th>\n",
       "      <th>Tweet</th>\n",
       "      <th>Offensive</th>\n",
       "    </tr>\n",
       "  </thead>\n",
       "  <tbody>\n",
       "    <tr>\n",
       "      <th>0</th>\n",
       "      <td>@USER ردينا ع التطنز 😏👊🏻</td>\n",
       "      <td>1</td>\n",
       "    </tr>\n",
       "    <tr>\n",
       "      <th>1</th>\n",
       "      <td>وصارت فطاير البقالات غذاء صحي 👎🏻 URL</td>\n",
       "      <td>0</td>\n",
       "    </tr>\n",
       "    <tr>\n",
       "      <th>2</th>\n",
       "      <td>@USER روحي لبريده تلقين اشباه كثير بس ماحد زيك...</td>\n",
       "      <td>1</td>\n",
       "    </tr>\n",
       "    <tr>\n",
       "      <th>3</th>\n",
       "      <td>@USER مش باين حاجه خالص 😣&lt;LF&gt;مش عارف بقى 😔</td>\n",
       "      <td>0</td>\n",
       "    </tr>\n",
       "    <tr>\n",
       "      <th>4</th>\n",
       "      <td>#اليوم_الاثنين&lt;LF&gt;&lt;LF&gt;👏 يقولك :%90  من المسلمي...</td>\n",
       "      <td>0</td>\n",
       "    </tr>\n",
       "  </tbody>\n",
       "</table>\n",
       "</div>"
      ],
      "text/plain": [
       "                                               Tweet  Offensive\n",
       "0                           @USER ردينا ع التطنز 😏👊🏻          1\n",
       "1               وصارت فطاير البقالات غذاء صحي 👎🏻 URL          0\n",
       "2  @USER روحي لبريده تلقين اشباه كثير بس ماحد زيك...          1\n",
       "3         @USER مش باين حاجه خالص 😣<LF>مش عارف بقى 😔          0\n",
       "4  #اليوم_الاثنين<LF><LF>👏 يقولك :%90  من المسلمي...          0"
      ]
     },
     "execution_count": 10,
     "metadata": {},
     "output_type": "execute_result"
    }
   ],
   "source": [
    "trainA.head()"
   ]
  },
  {
   "cell_type": "code",
   "execution_count": 18,
   "id": "f5246f20-406e-4044-843b-dca854dc8d12",
   "metadata": {
    "colab": {
     "base_uri": "https://localhost:8080/",
     "height": 206
    },
    "executionInfo": {
     "elapsed": 31,
     "status": "ok",
     "timestamp": 1647348721596,
     "user": {
      "displayName": "Ahmad Mohye",
      "photoUrl": "https://lh3.googleusercontent.com/a-/AOh14GgCViEMuYowrClHm06CxIWTNQZ7o4CZcibFrvA_1g=s64",
      "userId": "12471615968860375677"
     },
     "user_tz": -120
    },
    "id": "wY6lSdP8P7Jw",
    "outputId": "f47962d7-1eba-4b1c-9c16-43d4b556fd74"
   },
   "outputs": [
    {
     "data": {
      "text/html": [
       "<div>\n",
       "<style scoped>\n",
       "    .dataframe tbody tr th:only-of-type {\n",
       "        vertical-align: middle;\n",
       "    }\n",
       "\n",
       "    .dataframe tbody tr th {\n",
       "        vertical-align: top;\n",
       "    }\n",
       "\n",
       "    .dataframe thead th {\n",
       "        text-align: right;\n",
       "    }\n",
       "</style>\n",
       "<table border=\"1\" class=\"dataframe\">\n",
       "  <thead>\n",
       "    <tr style=\"text-align: right;\">\n",
       "      <th></th>\n",
       "      <th>Tweet</th>\n",
       "      <th>HS</th>\n",
       "    </tr>\n",
       "  </thead>\n",
       "  <tbody>\n",
       "    <tr>\n",
       "      <th>0</th>\n",
       "      <td>@USER ردينا ع التطنز 😏👊🏻</td>\n",
       "      <td>0</td>\n",
       "    </tr>\n",
       "    <tr>\n",
       "      <th>1</th>\n",
       "      <td>وصارت فطاير البقالات غذاء صحي 👎🏻 URL</td>\n",
       "      <td>0</td>\n",
       "    </tr>\n",
       "    <tr>\n",
       "      <th>2</th>\n",
       "      <td>@USER روحي لبريده تلقين اشباه كثير بس ماحد زيك...</td>\n",
       "      <td>0</td>\n",
       "    </tr>\n",
       "    <tr>\n",
       "      <th>3</th>\n",
       "      <td>@USER مش باين حاجه خالص 😣&lt;LF&gt;مش عارف بقى 😔</td>\n",
       "      <td>0</td>\n",
       "    </tr>\n",
       "    <tr>\n",
       "      <th>4</th>\n",
       "      <td>#اليوم_الاثنين&lt;LF&gt;&lt;LF&gt;👏 يقولك :%90  من المسلمي...</td>\n",
       "      <td>0</td>\n",
       "    </tr>\n",
       "  </tbody>\n",
       "</table>\n",
       "</div>"
      ],
      "text/plain": [
       "                                               Tweet  HS\n",
       "0                           @USER ردينا ع التطنز 😏👊🏻   0\n",
       "1               وصارت فطاير البقالات غذاء صحي 👎🏻 URL   0\n",
       "2  @USER روحي لبريده تلقين اشباه كثير بس ماحد زيك...   0\n",
       "3         @USER مش باين حاجه خالص 😣<LF>مش عارف بقى 😔   0\n",
       "4  #اليوم_الاثنين<LF><LF>👏 يقولك :%90  من المسلمي...   0"
      ]
     },
     "execution_count": 18,
     "metadata": {},
     "output_type": "execute_result"
    }
   ],
   "source": [
    "trainB.head()"
   ]
  },
  {
   "cell_type": "code",
   "execution_count": 12,
   "id": "c04e8218-bdab-4499-bd52-2440bba3d970",
   "metadata": {
    "executionInfo": {
     "elapsed": 28,
     "status": "ok",
     "timestamp": 1647348721596,
     "user": {
      "displayName": "Ahmad Mohye",
      "photoUrl": "https://lh3.googleusercontent.com/a-/AOh14GgCViEMuYowrClHm06CxIWTNQZ7o4CZcibFrvA_1g=s64",
      "userId": "12471615968860375677"
     },
     "user_tz": -120
    },
    "id": "swMnaiERUoz6"
   },
   "outputs": [],
   "source": [
    "testA, testB, testC = split(test)"
   ]
  },
  {
   "cell_type": "code",
   "execution_count": 13,
   "id": "46b4acf1-c60c-4de1-8c19-154f078925d1",
   "metadata": {
    "colab": {
     "base_uri": "https://localhost:8080/",
     "height": 424
    },
    "executionInfo": {
     "elapsed": 27,
     "status": "ok",
     "timestamp": 1647348721596,
     "user": {
      "displayName": "Ahmad Mohye",
      "photoUrl": "https://lh3.googleusercontent.com/a-/AOh14GgCViEMuYowrClHm06CxIWTNQZ7o4CZcibFrvA_1g=s64",
      "userId": "12471615968860375677"
     },
     "user_tz": -120
    },
    "id": "NT4XocDvVQBj",
    "outputId": "d60a2d4b-5df7-4cfe-8c63-ce1fa6de5972"
   },
   "outputs": [
    {
     "data": {
      "text/html": [
       "<div>\n",
       "<style scoped>\n",
       "    .dataframe tbody tr th:only-of-type {\n",
       "        vertical-align: middle;\n",
       "    }\n",
       "\n",
       "    .dataframe tbody tr th {\n",
       "        vertical-align: top;\n",
       "    }\n",
       "\n",
       "    .dataframe thead th {\n",
       "        text-align: right;\n",
       "    }\n",
       "</style>\n",
       "<table border=\"1\" class=\"dataframe\">\n",
       "  <thead>\n",
       "    <tr style=\"text-align: right;\">\n",
       "      <th></th>\n",
       "      <th>Tweet</th>\n",
       "      <th>Offensive</th>\n",
       "    </tr>\n",
       "  </thead>\n",
       "  <tbody>\n",
       "    <tr>\n",
       "      <th>0</th>\n",
       "      <td>@USER افطرت عليك بعقاء واثنين من فروخها الجن 🔪😂</td>\n",
       "      <td>0</td>\n",
       "    </tr>\n",
       "    <tr>\n",
       "      <th>1</th>\n",
       "      <td>#داليا_مبارك&lt;LF&gt;مادري ليش تقرفت😷</td>\n",
       "      <td>0</td>\n",
       "    </tr>\n",
       "    <tr>\n",
       "      <th>2</th>\n",
       "      <td>RT @USER ابديت السناب  الجديد ❌&lt;LF&gt;حاس الناس ح...</td>\n",
       "      <td>0</td>\n",
       "    </tr>\n",
       "    <tr>\n",
       "      <th>3</th>\n",
       "      <td>@USER هييه والله وااايدد 🔪🔪🔪💔💔</td>\n",
       "      <td>0</td>\n",
       "    </tr>\n",
       "    <tr>\n",
       "      <th>4</th>\n",
       "      <td>اكيد اخس شي 😤 URL</td>\n",
       "      <td>0</td>\n",
       "    </tr>\n",
       "    <tr>\n",
       "      <th>...</th>\n",
       "      <td>...</td>\n",
       "      <td>...</td>\n",
       "    </tr>\n",
       "    <tr>\n",
       "      <th>1265</th>\n",
       "      <td>@USER روما محظوظين بذا المدرب بيروتي يسحب في ر...</td>\n",
       "      <td>0</td>\n",
       "    </tr>\n",
       "    <tr>\n",
       "      <th>1266</th>\n",
       "      <td>@USER هلا والله بالحب&lt;LF&gt;هلا لولو❤️😙&lt;LF&gt;...&lt;LF...</td>\n",
       "      <td>1</td>\n",
       "    </tr>\n",
       "    <tr>\n",
       "      <th>1267</th>\n",
       "      <td>رينز فاز 😡😡😡😡😡😡😡 يعنني اوه شوفو العرض الأسطوري...</td>\n",
       "      <td>1</td>\n",
       "    </tr>\n",
       "    <tr>\n",
       "      <th>1268</th>\n",
       "      <td>@USER ييييع والله شيء يلوع الكبد مريضات الله ي...</td>\n",
       "      <td>1</td>\n",
       "    </tr>\n",
       "    <tr>\n",
       "      <th>1269</th>\n",
       "      <td>@USER تحسينها ع كليجه م اكلت شي واضح من الصوت 😷😷</td>\n",
       "      <td>0</td>\n",
       "    </tr>\n",
       "  </tbody>\n",
       "</table>\n",
       "<p>1270 rows × 2 columns</p>\n",
       "</div>"
      ],
      "text/plain": [
       "                                                  Tweet  Offensive\n",
       "0       @USER افطرت عليك بعقاء واثنين من فروخها الجن 🔪😂          0\n",
       "1                      #داليا_مبارك<LF>مادري ليش تقرفت😷          0\n",
       "2     RT @USER ابديت السناب  الجديد ❌<LF>حاس الناس ح...          0\n",
       "3                        @USER هييه والله وااايدد 🔪🔪🔪💔💔          0\n",
       "4                                     اكيد اخس شي 😤 URL          0\n",
       "...                                                 ...        ...\n",
       "1265  @USER روما محظوظين بذا المدرب بيروتي يسحب في ر...          0\n",
       "1266  @USER هلا والله بالحب<LF>هلا لولو❤️😙<LF>...<LF...          1\n",
       "1267  رينز فاز 😡😡😡😡😡😡😡 يعنني اوه شوفو العرض الأسطوري...          1\n",
       "1268  @USER ييييع والله شيء يلوع الكبد مريضات الله ي...          1\n",
       "1269   @USER تحسينها ع كليجه م اكلت شي واضح من الصوت 😷😷          0\n",
       "\n",
       "[1270 rows x 2 columns]"
      ]
     },
     "execution_count": 13,
     "metadata": {},
     "output_type": "execute_result"
    }
   ],
   "source": [
    "testA"
   ]
  },
  {
   "cell_type": "code",
   "execution_count": 14,
   "id": "c651df09-af35-4cd6-b47a-2ea84650fb82",
   "metadata": {
    "colab": {
     "base_uri": "https://localhost:8080/",
     "height": 424
    },
    "executionInfo": {
     "elapsed": 25,
     "status": "ok",
     "timestamp": 1647348721597,
     "user": {
      "displayName": "Ahmad Mohye",
      "photoUrl": "https://lh3.googleusercontent.com/a-/AOh14GgCViEMuYowrClHm06CxIWTNQZ7o4CZcibFrvA_1g=s64",
      "userId": "12471615968860375677"
     },
     "user_tz": -120
    },
    "id": "DmIxrd8jVRI6",
    "outputId": "51638f3b-3625-4c99-a2b9-f7d956dae5f4"
   },
   "outputs": [
    {
     "data": {
      "text/html": [
       "<div>\n",
       "<style scoped>\n",
       "    .dataframe tbody tr th:only-of-type {\n",
       "        vertical-align: middle;\n",
       "    }\n",
       "\n",
       "    .dataframe tbody tr th {\n",
       "        vertical-align: top;\n",
       "    }\n",
       "\n",
       "    .dataframe thead th {\n",
       "        text-align: right;\n",
       "    }\n",
       "</style>\n",
       "<table border=\"1\" class=\"dataframe\">\n",
       "  <thead>\n",
       "    <tr style=\"text-align: right;\">\n",
       "      <th></th>\n",
       "      <th>Tweet</th>\n",
       "      <th>HS</th>\n",
       "    </tr>\n",
       "  </thead>\n",
       "  <tbody>\n",
       "    <tr>\n",
       "      <th>0</th>\n",
       "      <td>@USER افطرت عليك بعقاء واثنين من فروخها الجن 🔪😂</td>\n",
       "      <td>0</td>\n",
       "    </tr>\n",
       "    <tr>\n",
       "      <th>1</th>\n",
       "      <td>#داليا_مبارك&lt;LF&gt;مادري ليش تقرفت😷</td>\n",
       "      <td>0</td>\n",
       "    </tr>\n",
       "    <tr>\n",
       "      <th>2</th>\n",
       "      <td>RT @USER ابديت السناب  الجديد ❌&lt;LF&gt;حاس الناس ح...</td>\n",
       "      <td>0</td>\n",
       "    </tr>\n",
       "    <tr>\n",
       "      <th>3</th>\n",
       "      <td>@USER هييه والله وااايدد 🔪🔪🔪💔💔</td>\n",
       "      <td>0</td>\n",
       "    </tr>\n",
       "    <tr>\n",
       "      <th>4</th>\n",
       "      <td>اكيد اخس شي 😤 URL</td>\n",
       "      <td>0</td>\n",
       "    </tr>\n",
       "    <tr>\n",
       "      <th>...</th>\n",
       "      <td>...</td>\n",
       "      <td>...</td>\n",
       "    </tr>\n",
       "    <tr>\n",
       "      <th>1265</th>\n",
       "      <td>@USER روما محظوظين بذا المدرب بيروتي يسحب في ر...</td>\n",
       "      <td>0</td>\n",
       "    </tr>\n",
       "    <tr>\n",
       "      <th>1266</th>\n",
       "      <td>@USER هلا والله بالحب&lt;LF&gt;هلا لولو❤️😙&lt;LF&gt;...&lt;LF...</td>\n",
       "      <td>0</td>\n",
       "    </tr>\n",
       "    <tr>\n",
       "      <th>1267</th>\n",
       "      <td>رينز فاز 😡😡😡😡😡😡😡 يعنني اوه شوفو العرض الأسطوري...</td>\n",
       "      <td>0</td>\n",
       "    </tr>\n",
       "    <tr>\n",
       "      <th>1268</th>\n",
       "      <td>@USER ييييع والله شيء يلوع الكبد مريضات الله ي...</td>\n",
       "      <td>0</td>\n",
       "    </tr>\n",
       "    <tr>\n",
       "      <th>1269</th>\n",
       "      <td>@USER تحسينها ع كليجه م اكلت شي واضح من الصوت 😷😷</td>\n",
       "      <td>0</td>\n",
       "    </tr>\n",
       "  </tbody>\n",
       "</table>\n",
       "<p>1270 rows × 2 columns</p>\n",
       "</div>"
      ],
      "text/plain": [
       "                                                  Tweet  HS\n",
       "0       @USER افطرت عليك بعقاء واثنين من فروخها الجن 🔪😂   0\n",
       "1                      #داليا_مبارك<LF>مادري ليش تقرفت😷   0\n",
       "2     RT @USER ابديت السناب  الجديد ❌<LF>حاس الناس ح...   0\n",
       "3                        @USER هييه والله وااايدد 🔪🔪🔪💔💔   0\n",
       "4                                     اكيد اخس شي 😤 URL   0\n",
       "...                                                 ...  ..\n",
       "1265  @USER روما محظوظين بذا المدرب بيروتي يسحب في ر...   0\n",
       "1266  @USER هلا والله بالحب<LF>هلا لولو❤️😙<LF>...<LF...   0\n",
       "1267  رينز فاز 😡😡😡😡😡😡😡 يعنني اوه شوفو العرض الأسطوري...   0\n",
       "1268  @USER ييييع والله شيء يلوع الكبد مريضات الله ي...   0\n",
       "1269   @USER تحسينها ع كليجه م اكلت شي واضح من الصوت 😷😷   0\n",
       "\n",
       "[1270 rows x 2 columns]"
      ]
     },
     "execution_count": 14,
     "metadata": {},
     "output_type": "execute_result"
    }
   ],
   "source": [
    "testB"
   ]
  },
  {
   "cell_type": "code",
   "execution_count": 15,
   "id": "c1ad30ac-da06-4e3b-9195-56530c105605",
   "metadata": {
    "colab": {
     "base_uri": "https://localhost:8080/"
    },
    "executionInfo": {
     "elapsed": 23,
     "status": "ok",
     "timestamp": 1647348721597,
     "user": {
      "displayName": "Ahmad Mohye",
      "photoUrl": "https://lh3.googleusercontent.com/a-/AOh14GgCViEMuYowrClHm06CxIWTNQZ7o4CZcibFrvA_1g=s64",
      "userId": "12471615968860375677"
     },
     "user_tz": -120
    },
    "id": "ZDmXmQ1nVUDS",
    "outputId": "0d3b9631-563c-4bce-843b-0837960cf8af"
   },
   "outputs": [
    {
     "data": {
      "text/plain": [
       "[0, 1, 2, 3, 4, 5, 6]"
      ]
     },
     "execution_count": 15,
     "metadata": {},
     "output_type": "execute_result"
    }
   ],
   "source": [
    "sorted(testC.HSL.unique())"
   ]
  },
  {
   "cell_type": "code",
   "execution_count": 16,
   "id": "d54f96d9-ca1c-4873-bc1e-c8363b41a6d1",
   "metadata": {
    "colab": {
     "base_uri": "https://localhost:8080/"
    },
    "executionInfo": {
     "elapsed": 458,
     "status": "ok",
     "timestamp": 1647348722040,
     "user": {
      "displayName": "Ahmad Mohye",
      "photoUrl": "https://lh3.googleusercontent.com/a-/AOh14GgCViEMuYowrClHm06CxIWTNQZ7o4CZcibFrvA_1g=s64",
      "userId": "12471615968860375677"
     },
     "user_tz": -120
    },
    "id": "bHo5Wr7pVaNy",
    "outputId": "15fde543-51dc-4332-bf6d-aeed8871acd4"
   },
   "outputs": [
    {
     "data": {
      "text/plain": [
       "[0, 1, 2, 3, 5, 6]"
      ]
     },
     "execution_count": 16,
     "metadata": {},
     "output_type": "execute_result"
    }
   ],
   "source": [
    "sorted(trainC.HSL.unique())"
   ]
  },
  {
   "cell_type": "markdown",
   "id": "ef1febd3-3927-4277-8016-6c15d4a634b1",
   "metadata": {
    "id": "AUuqise3VwrN"
   },
   "source": [
    "**We can see that we're missing class 4 from the training data**"
   ]
  },
  {
   "cell_type": "markdown",
   "id": "1e0356f1-cc73-44dc-9b40-603b9159c32e",
   "metadata": {
    "id": "i5bu15oaWsej"
   },
   "source": [
    "## EDA"
   ]
  },
  {
   "cell_type": "markdown",
   "id": "8c673220-fac0-4b20-9d5b-919e68469d06",
   "metadata": {},
   "source": [
    "Relationship between features"
   ]
  },
  {
   "cell_type": "code",
   "execution_count": 20,
   "id": "119dea3d-1817-47eb-81fb-b06deddb3813",
   "metadata": {},
   "outputs": [
    {
     "data": {
      "text/plain": [
       "0       0\n",
       "1       0\n",
       "2       0\n",
       "3       0\n",
       "4       0\n",
       "       ..\n",
       "8882    0\n",
       "8883    0\n",
       "8884    0\n",
       "8885    0\n",
       "8886    0\n",
       "Name: HS, Length: 8887, dtype: int64"
      ]
     },
     "execution_count": 20,
     "metadata": {},
     "output_type": "execute_result"
    }
   ],
   "source": [
    "trainB['HS']"
   ]
  },
  {
   "cell_type": "code",
   "execution_count": 26,
   "id": "373472d2-efe7-4b68-9550-724aa9233156",
   "metadata": {},
   "outputs": [
    {
     "data": {
      "image/png": "[encoded data removed]",
      "text/plain": [
       "<Figure size 436x360 with 1 Axes>"
      ]
     },
     "metadata": {},
     "output_type": "display_data"
    }
   ],
   "source": [
    "sns.catplot(data=train, kind='count', x='Offensive', hue='HSL');"
   ]
  },
  {
   "cell_type": "markdown",
   "id": "5abc028b-bb7e-468d-a2da-f3b182f1f151",
   "metadata": {},
   "source": [
    "not offensive tweets are also not hatespeech \n",
    "but offensive tweets maybe or not be hatespeech"
   ]
  },
  {
   "cell_type": "code",
   "execution_count": 16,
   "id": "279641f6-f083-4066-b434-277beb58c5ee",
   "metadata": {},
   "outputs": [
    {
     "data": {
      "image/png": "[encoded data removed]",
      "text/plain": [
       "<Figure size 442.375x360 with 1 Axes>"
      ]
     },
     "metadata": {},
     "output_type": "display_data"
    }
   ],
   "source": [
    "sns.catplot(data=train, kind='count', x='Offensive', hue='Vulgar');"
   ]
  },
  {
   "cell_type": "markdown",
   "id": "a11ad640-0bc7-470f-97ed-794b0a3b050a",
   "metadata": {},
   "source": [
    "Vulgar are also offensive, but offesnsive doesn't have to be vulgar"
   ]
  },
  {
   "cell_type": "code",
   "execution_count": 17,
   "id": "223dec0b-229e-49f4-bde5-a9470cc51f85",
   "metadata": {},
   "outputs": [
    {
     "data": {
      "image/png": "[encoded data removed]",
      "text/plain": [
       "<Figure size 439.75x360 with 1 Axes>"
      ]
     },
     "metadata": {},
     "output_type": "display_data"
    }
   ],
   "source": [
    "sns.catplot(data=train, kind='count', x='Offensive', hue='Violence');"
   ]
  },
  {
   "cell_type": "code",
   "execution_count": 18,
   "id": "0013918e-1957-46b3-890d-259587d3e0fe",
   "metadata": {},
   "outputs": [
    {
     "data": {
      "image/png": "[encoded data removed]",
      "text/plain": [
       "<Figure size 442.375x360 with 1 Axes>"
      ]
     },
     "metadata": {},
     "output_type": "display_data"
    }
   ],
   "source": [
    "sns.catplot(data=test, kind='count', x='HSL', hue='Vulgar');"
   ]
  },
  {
   "cell_type": "markdown",
   "id": "d59ffef2-b97f-4770-b8a7-874735d76a9d",
   "metadata": {},
   "source": [
    "Violence are also offensive, but offesnsive doesn't have to be Violence"
   ]
  },
  {
   "cell_type": "code",
   "execution_count": 19,
   "id": "653d0f51-511a-4fbc-9521-769d65b61f84",
   "metadata": {
    "colab": {
     "base_uri": "https://localhost:8080/",
     "height": 299
    },
    "executionInfo": {
     "elapsed": 13,
     "status": "ok",
     "timestamp": 1647348722042,
     "user": {
      "displayName": "Ahmad Mohye",
      "photoUrl": "https://lh3.googleusercontent.com/a-/AOh14GgCViEMuYowrClHm06CxIWTNQZ7o4CZcibFrvA_1g=s64",
      "userId": "12471615968860375677"
     },
     "user_tz": -120
    },
    "id": "HNfatBSDWvb9",
    "outputId": "197e60a1-9661-4338-f290-5e053a2aac36"
   },
   "outputs": [
    {
     "data": {
      "image/png": "[encoded data removed]",
      "text/plain": [
       "<Figure size 432x288 with 1 Axes>"
      ]
     },
     "metadata": {},
     "output_type": "display_data"
    }
   ],
   "source": [
    "sns.countplot(x=trainA.Offensive).set(title='Subtask A Train- Offensive');"
   ]
  },
  {
   "cell_type": "code",
   "execution_count": 20,
   "id": "90b438df-bb95-4b69-9c95-db89d42362d2",
   "metadata": {
    "colab": {
     "base_uri": "https://localhost:8080/",
     "height": 299
    },
    "executionInfo": {
     "elapsed": 13,
     "status": "ok",
     "timestamp": 1647348722042,
     "user": {
      "displayName": "Ahmad Mohye",
      "photoUrl": "https://lh3.googleusercontent.com/a-/AOh14GgCViEMuYowrClHm06CxIWTNQZ7o4CZcibFrvA_1g=s64",
      "userId": "12471615968860375677"
     },
     "user_tz": -120
    },
    "id": "HNfatBSDWvb9",
    "outputId": "197e60a1-9661-4338-f290-5e053a2aac36"
   },
   "outputs": [
    {
     "data": {
      "image/png": "[encoded data removed]",
      "text/plain": [
       "<Figure size 432x288 with 1 Axes>"
      ]
     },
     "metadata": {},
     "output_type": "display_data"
    }
   ],
   "source": [
    "sns.countplot(x=testA.Offensive).set(title='Subtask A Test - Offensive');"
   ]
  },
  {
   "cell_type": "code",
   "execution_count": 21,
   "id": "4558806c-d742-443f-944b-3b18f63c96d6",
   "metadata": {
    "colab": {
     "base_uri": "https://localhost:8080/"
    },
    "executionInfo": {
     "elapsed": 506,
     "status": "ok",
     "timestamp": 1647348722539,
     "user": {
      "displayName": "Ahmad Mohye",
      "photoUrl": "https://lh3.googleusercontent.com/a-/AOh14GgCViEMuYowrClHm06CxIWTNQZ7o4CZcibFrvA_1g=s64",
      "userId": "12471615968860375677"
     },
     "user_tz": -120
    },
    "id": "ee_6ecQFd6sJ",
    "outputId": "433bf78b-c4cc-48fb-9479-990b4114b189"
   },
   "outputs": [
    {
     "data": {
      "text/plain": [
       "(0.3569258467424328, 0.31811023622047246)"
      ]
     },
     "execution_count": 21,
     "metadata": {},
     "output_type": "execute_result"
    }
   ],
   "source": [
    "trainOffensiveRate = trainA.Offensive.sum()/len(trainA.Offensive)\n",
    "testOffensiveRate = testA.Offensive.sum()/len(testA.Offensive)\n",
    "trainOffensiveRate, testOffensiveRate "
   ]
  },
  {
   "cell_type": "code",
   "execution_count": 22,
   "id": "265f6e73-240c-415d-8483-dbb78ce86194",
   "metadata": {
    "colab": {
     "base_uri": "https://localhost:8080/",
     "height": 299
    },
    "executionInfo": {
     "elapsed": 21,
     "status": "ok",
     "timestamp": 1647348722541,
     "user": {
      "displayName": "Ahmad Mohye",
      "photoUrl": "https://lh3.googleusercontent.com/a-/AOh14GgCViEMuYowrClHm06CxIWTNQZ7o4CZcibFrvA_1g=s64",
      "userId": "12471615968860375677"
     },
     "user_tz": -120
    },
    "id": "rJH7qBXMXAX5",
    "outputId": "17a49ef7-75c8-48b6-a698-b802fc4b86df"
   },
   "outputs": [
    {
     "data": {
      "image/png": "[encoded data removed]",
      "text/plain": [
       "<Figure size 432x288 with 1 Axes>"
      ]
     },
     "metadata": {},
     "output_type": "display_data"
    }
   ],
   "source": [
    "sns.countplot(x=trainB.HS).set(title='Subtask B Train - Hate Speech');"
   ]
  },
  {
   "cell_type": "code",
   "execution_count": 23,
   "id": "8bcc800e-0611-4759-a09f-9a034b1c831b",
   "metadata": {
    "colab": {
     "base_uri": "https://localhost:8080/",
     "height": 299
    },
    "executionInfo": {
     "elapsed": 21,
     "status": "ok",
     "timestamp": 1647348722541,
     "user": {
      "displayName": "Ahmad Mohye",
      "photoUrl": "https://lh3.googleusercontent.com/a-/AOh14GgCViEMuYowrClHm06CxIWTNQZ7o4CZcibFrvA_1g=s64",
      "userId": "12471615968860375677"
     },
     "user_tz": -120
    },
    "id": "rJH7qBXMXAX5",
    "outputId": "17a49ef7-75c8-48b6-a698-b802fc4b86df"
   },
   "outputs": [
    {
     "data": {
      "image/png": "[encoded data removed]",
      "text/plain": [
       "<Figure size 432x288 with 1 Axes>"
      ]
     },
     "metadata": {},
     "output_type": "display_data"
    }
   ],
   "source": [
    "sns.countplot(x=testB.HS).set(title='Subtask B Test- Hate Speech');"
   ]
  },
  {
   "cell_type": "code",
   "execution_count": 24,
   "id": "271c4231-4499-4572-a556-bad1d5f403cd",
   "metadata": {},
   "outputs": [
    {
     "data": {
      "text/plain": [
       "(0.1079104309665804, 0.08582677165354331)"
      ]
     },
     "execution_count": 24,
     "metadata": {},
     "output_type": "execute_result"
    }
   ],
   "source": [
    "trainHSRate = trainB.HS.sum()/len(trainB.HS)\n",
    "testHSRate = testB.HS.sum()/len(testB.HS)\n",
    "trainHSRate, testHSRate "
   ]
  },
  {
   "cell_type": "markdown",
   "id": "7366005b-4a69-433a-a0c3-dcf6da2f7901",
   "metadata": {
    "id": "3TPBQ3U3aaYo"
   },
   "source": [
    "We can see a huge class imbalance between Hate Speech"
   ]
  },
  {
   "cell_type": "code",
   "execution_count": 25,
   "id": "0bc0eea9-0df5-4707-b7bd-c21054234c88",
   "metadata": {
    "colab": {
     "base_uri": "https://localhost:8080/",
     "height": 299
    },
    "executionInfo": {
     "elapsed": 360,
     "status": "ok",
     "timestamp": 1647348722889,
     "user": {
      "displayName": "Ahmad Mohye",
      "photoUrl": "https://lh3.googleusercontent.com/a-/AOh14GgCViEMuYowrClHm06CxIWTNQZ7o4CZcibFrvA_1g=s64",
      "userId": "12471615968860375677"
     },
     "user_tz": -120
    },
    "id": "oe3t3W6XaKmo",
    "outputId": "0034b2d4-cfde-4a8c-86bb-242c92e9b1eb"
   },
   "outputs": [
    {
     "data": {
      "image/png": "[encoded data removed]",
      "text/plain": [
       "<Figure size 432x288 with 1 Axes>"
      ]
     },
     "metadata": {},
     "output_type": "display_data"
    }
   ],
   "source": [
    "sns.countplot(x=trainC.HSL).set(title='Subtask C Train - Hate Speech Categories');"
   ]
  },
  {
   "cell_type": "code",
   "execution_count": 26,
   "id": "a749fe76-f4c1-47f5-9895-877f26235e2f",
   "metadata": {
    "colab": {
     "base_uri": "https://localhost:8080/",
     "height": 299
    },
    "executionInfo": {
     "elapsed": 360,
     "status": "ok",
     "timestamp": 1647348722889,
     "user": {
      "displayName": "Ahmad Mohye",
      "photoUrl": "https://lh3.googleusercontent.com/a-/AOh14GgCViEMuYowrClHm06CxIWTNQZ7o4CZcibFrvA_1g=s64",
      "userId": "12471615968860375677"
     },
     "user_tz": -120
    },
    "id": "oe3t3W6XaKmo",
    "outputId": "0034b2d4-cfde-4a8c-86bb-242c92e9b1eb"
   },
   "outputs": [
    {
     "data": {
      "image/png": "[encoded data removed]",
      "text/plain": [
       "<Figure size 432x288 with 1 Axes>"
      ]
     },
     "metadata": {},
     "output_type": "display_data"
    }
   ],
   "source": [
    "sns.countplot(x=testC.HSL).set(title='Subtask C Test - Hate Speech Categories');"
   ]
  },
  {
   "cell_type": "code",
   "execution_count": 27,
   "id": "a729784e-cd44-41d3-891e-8a5feb8efe4c",
   "metadata": {
    "colab": {
     "base_uri": "https://localhost:8080/"
    },
    "executionInfo": {
     "elapsed": 270,
     "status": "ok",
     "timestamp": 1647348723155,
     "user": {
      "displayName": "Ahmad Mohye",
      "photoUrl": "https://lh3.googleusercontent.com/a-/AOh14GgCViEMuYowrClHm06CxIWTNQZ7o4CZcibFrvA_1g=s64",
      "userId": "12471615968860375677"
     },
     "user_tz": -120
    },
    "id": "cEbFf7EydV0v",
    "outputId": "7ef6dab6-6a73-4b90-e8f8-3971a9a7585c"
   },
   "outputs": [
    {
     "data": {
      "text/plain": [
       "{0: '89.20895690334196%',\n",
       " 2: '0.30381456059412626%',\n",
       " 1: '2.9256216946101046%',\n",
       " 3: '1.6203443231686734%',\n",
       " 6: '5.131090356700799%',\n",
       " 5: '0.8101721615843367%',\n",
       " 4: '0%'}"
      ]
     },
     "execution_count": 27,
     "metadata": {},
     "output_type": "execute_result"
    }
   ],
   "source": [
    "counts = dict(Counter(trainC.HSL))\n",
    "total = len(trainC)\n",
    "HateSpeechLevelsPercentages = {k: \"{}%\".format((v/total)*100) for k, v in counts.items()}\n",
    "HateSpeechLevelsPercentages[4] = \"0%\"\n",
    "HateSpeechLevelsPercentages"
   ]
  },
  {
   "cell_type": "code",
   "execution_count": 28,
   "id": "c5abb363-f6a5-4a11-82ab-826a57978d52",
   "metadata": {},
   "outputs": [
    {
     "data": {
      "text/plain": [
       "{0: '91.41732283464566%',\n",
       " 3: '1.1023622047244095%',\n",
       " 6: '4.094488188976378%',\n",
       " 1: '2.204724409448819%',\n",
       " 2: '0.31496062992125984%',\n",
       " 5: '0.7874015748031495%',\n",
       " 4: '0.07874015748031496%'}"
      ]
     },
     "execution_count": 28,
     "metadata": {},
     "output_type": "execute_result"
    }
   ],
   "source": [
    "counts = dict(Counter(testC.HSL))\n",
    "total = len(testC)\n",
    "HateSpeechLevelsPercentages = {k: \"{}%\".format((v/total)*100) for k, v in counts.items()}\n",
    "HateSpeechLevelsPercentages"
   ]
  },
  {
   "cell_type": "code",
   "execution_count": 29,
   "id": "a0e3b598-b080-4110-9457-43190659cadc",
   "metadata": {
    "executionInfo": {
     "elapsed": 248,
     "status": "ok",
     "timestamp": 1647348732749,
     "user": {
      "displayName": "Ahmad Mohye",
      "photoUrl": "https://lh3.googleusercontent.com/a-/AOh14GgCViEMuYowrClHm06CxIWTNQZ7o4CZcibFrvA_1g=s64",
      "userId": "12471615968860375677"
     },
     "user_tz": -120
    },
    "id": "53AoEHssU-UT"
   },
   "outputs": [],
   "source": [
    "trainA.rename(columns={\"Tweet\":\"text\", \"Offensive\":\"labels\"}).to_csv(\"Data/trainA.csv\",index=False)\n",
    "testA.rename(columns={\"Tweet\":\"text\", \"Offensive\":\"labels\"}).to_csv(\"Data/testA.csv\",index=False)\n",
    "\n",
    "trainB.rename(columns={\"Tweet\":\"text\", \"HS\":\"labels\"}).to_csv(\"Data/trainB.csv\",index=False)\n",
    "testB.rename(columns={\"Tweet\":\"text\", \"HS\":\"labels\"}).to_csv(\"Data/testB.csv\",index=False)\n",
    "\n",
    "trainC.rename(columns={\"Tweet\":\"text\", \"HSL\":\"labels\"}).to_csv(\"Data/trainC.csv\",index=False)\n",
    "testC.rename(columns={\"Tweet\":\"text\", \"HSL\":\"labels\"}).to_csv(\"Data/testC.csv\",index=False)"
   ]
  }
 ],
 "metadata": {
  "kernelspec": {
   "display_name": "cpu",
   "language": "python",
   "name": "cpu"
  },
  "language_info": {
   "codemirror_mode": {
    "name": "ipython",
    "version": 3
   },
   "file_extension": ".py",
   "mimetype": "text/x-python",
   "name": "python",
   "nbconvert_exporter": "python",
   "pygments_lexer": "ipython3",
   "version": "3.7.5"
  }
 },
 "nbformat": 4,
 "nbformat_minor": 5
}
