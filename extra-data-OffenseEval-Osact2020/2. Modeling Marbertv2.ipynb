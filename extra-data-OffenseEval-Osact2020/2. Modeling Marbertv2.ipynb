{
 "cells": [
  {
   "cell_type": "code",
   "execution_count": 1,
   "id": "495d8516-9281-490c-b51c-145a0f2ff810",
   "metadata": {},
   "outputs": [
    {
     "name": "stdout",
     "output_type": "stream",
     "text": [
      "/home/ashapiro/Hate_speech_task/Extra_data_offense_osacl\n"
     ]
    }
   ],
   "source": [
    "%cd Hate_speech_task/Extra_data_offense_osacl/"
   ]
  },
  {
   "cell_type": "code",
   "execution_count": 5,
   "id": "e0f79526-6da6-4dc2-b3f1-1fb5432fa58e",
   "metadata": {},
   "outputs": [
    {
     "ename": "SyntaxError",
     "evalue": "invalid syntax (<ipython-input-5-c0520a03b8a5>, line 1)",
     "output_type": "error",
     "traceback": [
      "\u001b[0;36m  File \u001b[0;32m\"<ipython-input-5-c0520a03b8a5>\"\u001b[0;36m, line \u001b[0;32m1\u001b[0m\n\u001b[0;31m    wc -l Data/trainA_prepro.csv\u001b[0m\n\u001b[0m             ^\u001b[0m\n\u001b[0;31mSyntaxError\u001b[0m\u001b[0;31m:\u001b[0m invalid syntax\n"
     ]
    }
   ],
   "source": [
    "wc -l Data/trainA_prepro.csv"
   ]
  },
  {
   "cell_type": "code",
   "execution_count": 4,
   "id": "f6f2dcd4",
   "metadata": {},
   "outputs": [],
   "source": [
    "from utils import run_baseline"
   ]
  },
  {
   "cell_type": "markdown",
   "id": "c1c5cef3",
   "metadata": {},
   "source": [
    "# 1. Marbert v2"
   ]
  },
  {
   "cell_type": "markdown",
   "id": "1f06e8b4",
   "metadata": {},
   "source": [
    "## Dropout = 0.1 , no preprocessing"
   ]
  },
  {
   "cell_type": "code",
   "execution_count": 2,
   "id": "be90a307",
   "metadata": {
    "scrolled": true
   },
   "outputs": [
    {
     "name": "stdout",
     "output_type": "stream",
     "text": [
      "Not Pre-Processed\n"
     ]
    },
    {
     "name": "stderr",
     "output_type": "stream",
     "text": [
      "Using custom data configuration default-c7c896b99937079e\n",
      "Reusing dataset csv (/home/ahmad.shapiro/.cache/huggingface/datasets/csv/default-c7c896b99937079e/0.0.0/433e0ccc46f9880962cc2b12065189766fbb2bee57a221866138fb9203c83519)\n"
     ]
    },
    {
     "data": {
      "application/vnd.jupyter.widget-view+json": {
       "model_id": "8e59d3aca6ed4185a768c64baed26ce4",
       "version_major": 2,
       "version_minor": 0
      },
      "text/plain": [
       "  0%|          | 0/2 [00:00<?, ?it/s]"
      ]
     },
     "metadata": {},
     "output_type": "display_data"
    },
    {
     "data": {
      "application/vnd.jupyter.widget-view+json": {
       "model_id": "5e7f30cdc5144d8fac1a251e16a5d63c",
       "version_major": 2,
       "version_minor": 0
      },
      "text/plain": [
       "Downloading:   0%|          | 0.00/439 [00:00<?, ?B/s]"
      ]
     },
     "metadata": {},
     "output_type": "display_data"
    },
    {
     "data": {
      "application/vnd.jupyter.widget-view+json": {
       "model_id": "eb23f928d2b445619c95cc9539d4fabf",
       "version_major": 2,
       "version_minor": 0
      },
      "text/plain": [
       "Downloading:   0%|          | 0.00/1.05M [00:00<?, ?B/s]"
      ]
     },
     "metadata": {},
     "output_type": "display_data"
    },
    {
     "data": {
      "application/vnd.jupyter.widget-view+json": {
       "model_id": "d0ff77be421f413b9250e4d8617052a3",
       "version_major": 2,
       "version_minor": 0
      },
      "text/plain": [
       "Downloading:   0%|          | 0.00/112 [00:00<?, ?B/s]"
      ]
     },
     "metadata": {},
     "output_type": "display_data"
    },
    {
     "data": {
      "application/vnd.jupyter.widget-view+json": {
       "model_id": "cee050c8821648e8967279bebf828fe7",
       "version_major": 2,
       "version_minor": 0
      },
      "text/plain": [
       "  0%|          | 0/9 [00:00<?, ?ba/s]"
      ]
     },
     "metadata": {},
     "output_type": "display_data"
    },
    {
     "data": {
      "application/vnd.jupyter.widget-view+json": {
       "model_id": "07785983c95544c798c70bd18045ab1d",
       "version_major": 2,
       "version_minor": 0
      },
      "text/plain": [
       "  0%|          | 0/2 [00:00<?, ?ba/s]"
      ]
     },
     "metadata": {},
     "output_type": "display_data"
    },
    {
     "data": {
      "application/vnd.jupyter.widget-view+json": {
       "model_id": "1b915dfdc077402cacfaea7f1fb6f18b",
       "version_major": 2,
       "version_minor": 0
      },
      "text/plain": [
       "Downloading:   0%|          | 0.00/757 [00:00<?, ?B/s]"
      ]
     },
     "metadata": {},
     "output_type": "display_data"
    },
    {
     "data": {
      "application/vnd.jupyter.widget-view+json": {
       "model_id": "271cccf9873d4bff99fce86eb994cfae",
       "version_major": 2,
       "version_minor": 0
      },
      "text/plain": [
       "Downloading:   0%|          | 0.00/624M [00:00<?, ?B/s]"
      ]
     },
     "metadata": {},
     "output_type": "display_data"
    },
    {
     "name": "stderr",
     "output_type": "stream",
     "text": [
      "Some weights of the model checkpoint at UBC-NLP/MARBERTv2 were not used when initializing BertForSequenceClassification: ['cls.predictions.transform.dense.weight', 'cls.predictions.transform.dense.bias', 'cls.predictions.decoder.bias', 'cls.seq_relationship.bias', 'cls.seq_relationship.weight', 'cls.predictions.transform.LayerNorm.bias', 'cls.predictions.transform.LayerNorm.weight', 'cls.predictions.bias', 'cls.predictions.decoder.weight']\n",
      "- This IS expected if you are initializing BertForSequenceClassification from the checkpoint of a model trained on another task or with another architecture (e.g. initializing a BertForSequenceClassification model from a BertForPreTraining model).\n",
      "- This IS NOT expected if you are initializing BertForSequenceClassification from the checkpoint of a model that you expect to be exactly identical (initializing a BertForSequenceClassification model from a BertForSequenceClassification model).\n",
      "Some weights of BertForSequenceClassification were not initialized from the model checkpoint at UBC-NLP/MARBERTv2 and are newly initialized: ['classifier.bias', 'classifier.weight']\n",
      "You should probably TRAIN this model on a down-stream task to be able to use it for predictions and inference.\n"
     ]
    }
   ],
   "source": [
    "config = {'model_name' : \"MarBertV2\",\n",
    "          'model_link' : \"UBC-NLP/MARBERTv2\",\n",
    "          'pre_proccessed' : False,\n",
    "          'patience' : 10,\n",
    "          'seed' : 2903, \n",
    "          'task' : \"A\",\n",
    "          'epochs' : 100, \n",
    "          'dropout_ratio' : 0.1}\n",
    "trainer = run_baseline(**config)"
   ]
  },
  {
   "cell_type": "code",
   "execution_count": 3,
   "id": "776f6c6e",
   "metadata": {
    "scrolled": true
   },
   "outputs": [
    {
     "name": "stderr",
     "output_type": "stream",
     "text": [
      "The following columns in the training set  don't have a corresponding argument in `BertForSequenceClassification.forward` and have been ignored: text. If text are not expected by `BertForSequenceClassification.forward`,  you can safely ignore this message.\n",
      "/home/ahmad.shapiro/anaconda3/envs/pytorch/lib/python3.9/site-packages/transformers/optimization.py:306: FutureWarning: This implementation of AdamW is deprecated and will be removed in a future version. Use the PyTorch implementation torch.optim.AdamW instead, or set `no_deprecation_warning=True` to disable this warning\n",
      "  warnings.warn(\n",
      "***** Running training *****\n",
      "  Num examples = 8887\n",
      "  Num Epochs = 100\n",
      "  Instantaneous batch size per device = 4\n",
      "  Total train batch size (w. parallel, distributed & accumulation) = 4\n",
      "  Gradient Accumulation steps = 1\n",
      "  Total optimization steps = 222200\n"
     ]
    },
    {
     "data": {
      "text/html": [
       "\n",
       "    <div>\n",
       "      \n",
       "      <progress value='24442' max='222200' style='width:300px; height:20px; vertical-align: middle;'></progress>\n",
       "      [ 24442/222200 26:40 < 3:35:53, 15.27 it/s, Epoch 11/100]\n",
       "    </div>\n",
       "    <table border=\"1\" class=\"dataframe\">\n",
       "  <thead>\n",
       " <tr style=\"text-align: left;\">\n",
       "      <th>Epoch</th>\n",
       "      <th>Training Loss</th>\n",
       "      <th>Validation Loss</th>\n",
       "      <th>F1</th>\n",
       "      <th>Recall</th>\n",
       "      <th>Precision</th>\n",
       "    </tr>\n",
       "  </thead>\n",
       "  <tbody>\n",
       "    <tr>\n",
       "      <td>1</td>\n",
       "      <td>0.518600</td>\n",
       "      <td>0.423815</td>\n",
       "      <td>0.841465</td>\n",
       "      <td>0.834584</td>\n",
       "      <td>0.849867</td>\n",
       "    </tr>\n",
       "    <tr>\n",
       "      <td>2</td>\n",
       "      <td>0.367100</td>\n",
       "      <td>0.674221</td>\n",
       "      <td>0.832413</td>\n",
       "      <td>0.840698</td>\n",
       "      <td>0.826044</td>\n",
       "    </tr>\n",
       "    <tr>\n",
       "      <td>3</td>\n",
       "      <td>0.202700</td>\n",
       "      <td>0.847212</td>\n",
       "      <td>0.840380</td>\n",
       "      <td>0.836814</td>\n",
       "      <td>0.844341</td>\n",
       "    </tr>\n",
       "    <tr>\n",
       "      <td>4</td>\n",
       "      <td>0.088400</td>\n",
       "      <td>0.851411</td>\n",
       "      <td>0.824586</td>\n",
       "      <td>0.813379</td>\n",
       "      <td>0.840497</td>\n",
       "    </tr>\n",
       "    <tr>\n",
       "      <td>5</td>\n",
       "      <td>0.061000</td>\n",
       "      <td>1.320737</td>\n",
       "      <td>0.826542</td>\n",
       "      <td>0.839463</td>\n",
       "      <td>0.818155</td>\n",
       "    </tr>\n",
       "    <tr>\n",
       "      <td>6</td>\n",
       "      <td>0.058100</td>\n",
       "      <td>1.096522</td>\n",
       "      <td>0.822153</td>\n",
       "      <td>0.810243</td>\n",
       "      <td>0.839511</td>\n",
       "    </tr>\n",
       "    <tr>\n",
       "      <td>7</td>\n",
       "      <td>0.060600</td>\n",
       "      <td>1.271215</td>\n",
       "      <td>0.818789</td>\n",
       "      <td>0.826095</td>\n",
       "      <td>0.813074</td>\n",
       "    </tr>\n",
       "    <tr>\n",
       "      <td>8</td>\n",
       "      <td>0.168200</td>\n",
       "      <td>1.213877</td>\n",
       "      <td>0.807937</td>\n",
       "      <td>0.818012</td>\n",
       "      <td>0.800920</td>\n",
       "    </tr>\n",
       "    <tr>\n",
       "      <td>9</td>\n",
       "      <td>0.062800</td>\n",
       "      <td>1.468682</td>\n",
       "      <td>0.794512</td>\n",
       "      <td>0.815874</td>\n",
       "      <td>0.785871</td>\n",
       "    </tr>\n",
       "    <tr>\n",
       "      <td>10</td>\n",
       "      <td>0.053300</td>\n",
       "      <td>1.208481</td>\n",
       "      <td>0.817874</td>\n",
       "      <td>0.808100</td>\n",
       "      <td>0.831279</td>\n",
       "    </tr>\n",
       "    <tr>\n",
       "      <td>11</td>\n",
       "      <td>0.050600</td>\n",
       "      <td>1.186952</td>\n",
       "      <td>0.812323</td>\n",
       "      <td>0.817349</td>\n",
       "      <td>0.808092</td>\n",
       "    </tr>\n",
       "  </tbody>\n",
       "</table><p>"
      ],
      "text/plain": [
       "<IPython.core.display.HTML object>"
      ]
     },
     "metadata": {},
     "output_type": "display_data"
    },
    {
     "name": "stderr",
     "output_type": "stream",
     "text": [
      "The following columns in the evaluation set  don't have a corresponding argument in `BertForSequenceClassification.forward` and have been ignored: text. If text are not expected by `BertForSequenceClassification.forward`,  you can safely ignore this message.\n",
      "***** Running Evaluation *****\n",
      "  Num examples = 1270\n",
      "  Batch size = 4\n",
      "Saving model checkpoint to ./Checkpoints/MarBertV2_d_0.1/checkpoint-2222\n",
      "Configuration saved in ./Checkpoints/MarBertV2_d_0.1/checkpoint-2222/config.json\n",
      "Model weights saved in ./Checkpoints/MarBertV2_d_0.1/checkpoint-2222/pytorch_model.bin\n",
      "tokenizer config file saved in ./Checkpoints/MarBertV2_d_0.1/checkpoint-2222/tokenizer_config.json\n",
      "Special tokens file saved in ./Checkpoints/MarBertV2_d_0.1/checkpoint-2222/special_tokens_map.json\n",
      "The following columns in the evaluation set  don't have a corresponding argument in `BertForSequenceClassification.forward` and have been ignored: text. If text are not expected by `BertForSequenceClassification.forward`,  you can safely ignore this message.\n",
      "***** Running Evaluation *****\n",
      "  Num examples = 1270\n",
      "  Batch size = 4\n",
      "Saving model checkpoint to ./Checkpoints/MarBertV2_d_0.1/checkpoint-4444\n",
      "Configuration saved in ./Checkpoints/MarBertV2_d_0.1/checkpoint-4444/config.json\n",
      "Model weights saved in ./Checkpoints/MarBertV2_d_0.1/checkpoint-4444/pytorch_model.bin\n",
      "tokenizer config file saved in ./Checkpoints/MarBertV2_d_0.1/checkpoint-4444/tokenizer_config.json\n",
      "Special tokens file saved in ./Checkpoints/MarBertV2_d_0.1/checkpoint-4444/special_tokens_map.json\n",
      "The following columns in the evaluation set  don't have a corresponding argument in `BertForSequenceClassification.forward` and have been ignored: text. If text are not expected by `BertForSequenceClassification.forward`,  you can safely ignore this message.\n",
      "***** Running Evaluation *****\n",
      "  Num examples = 1270\n",
      "  Batch size = 4\n",
      "Saving model checkpoint to ./Checkpoints/MarBertV2_d_0.1/checkpoint-6666\n",
      "Configuration saved in ./Checkpoints/MarBertV2_d_0.1/checkpoint-6666/config.json\n",
      "Model weights saved in ./Checkpoints/MarBertV2_d_0.1/checkpoint-6666/pytorch_model.bin\n",
      "tokenizer config file saved in ./Checkpoints/MarBertV2_d_0.1/checkpoint-6666/tokenizer_config.json\n",
      "Special tokens file saved in ./Checkpoints/MarBertV2_d_0.1/checkpoint-6666/special_tokens_map.json\n",
      "The following columns in the evaluation set  don't have a corresponding argument in `BertForSequenceClassification.forward` and have been ignored: text. If text are not expected by `BertForSequenceClassification.forward`,  you can safely ignore this message.\n",
      "***** Running Evaluation *****\n",
      "  Num examples = 1270\n",
      "  Batch size = 4\n",
      "Saving model checkpoint to ./Checkpoints/MarBertV2_d_0.1/checkpoint-8888\n",
      "Configuration saved in ./Checkpoints/MarBertV2_d_0.1/checkpoint-8888/config.json\n",
      "Model weights saved in ./Checkpoints/MarBertV2_d_0.1/checkpoint-8888/pytorch_model.bin\n",
      "tokenizer config file saved in ./Checkpoints/MarBertV2_d_0.1/checkpoint-8888/tokenizer_config.json\n",
      "Special tokens file saved in ./Checkpoints/MarBertV2_d_0.1/checkpoint-8888/special_tokens_map.json\n",
      "The following columns in the evaluation set  don't have a corresponding argument in `BertForSequenceClassification.forward` and have been ignored: text. If text are not expected by `BertForSequenceClassification.forward`,  you can safely ignore this message.\n",
      "***** Running Evaluation *****\n",
      "  Num examples = 1270\n",
      "  Batch size = 4\n",
      "Saving model checkpoint to ./Checkpoints/MarBertV2_d_0.1/checkpoint-11110\n",
      "Configuration saved in ./Checkpoints/MarBertV2_d_0.1/checkpoint-11110/config.json\n",
      "Model weights saved in ./Checkpoints/MarBertV2_d_0.1/checkpoint-11110/pytorch_model.bin\n",
      "tokenizer config file saved in ./Checkpoints/MarBertV2_d_0.1/checkpoint-11110/tokenizer_config.json\n",
      "Special tokens file saved in ./Checkpoints/MarBertV2_d_0.1/checkpoint-11110/special_tokens_map.json\n",
      "The following columns in the evaluation set  don't have a corresponding argument in `BertForSequenceClassification.forward` and have been ignored: text. If text are not expected by `BertForSequenceClassification.forward`,  you can safely ignore this message.\n",
      "***** Running Evaluation *****\n",
      "  Num examples = 1270\n",
      "  Batch size = 4\n",
      "Saving model checkpoint to ./Checkpoints/MarBertV2_d_0.1/checkpoint-13332\n",
      "Configuration saved in ./Checkpoints/MarBertV2_d_0.1/checkpoint-13332/config.json\n",
      "Model weights saved in ./Checkpoints/MarBertV2_d_0.1/checkpoint-13332/pytorch_model.bin\n",
      "tokenizer config file saved in ./Checkpoints/MarBertV2_d_0.1/checkpoint-13332/tokenizer_config.json\n",
      "Special tokens file saved in ./Checkpoints/MarBertV2_d_0.1/checkpoint-13332/special_tokens_map.json\n",
      "The following columns in the evaluation set  don't have a corresponding argument in `BertForSequenceClassification.forward` and have been ignored: text. If text are not expected by `BertForSequenceClassification.forward`,  you can safely ignore this message.\n",
      "***** Running Evaluation *****\n",
      "  Num examples = 1270\n",
      "  Batch size = 4\n",
      "Saving model checkpoint to ./Checkpoints/MarBertV2_d_0.1/checkpoint-15554\n",
      "Configuration saved in ./Checkpoints/MarBertV2_d_0.1/checkpoint-15554/config.json\n",
      "Model weights saved in ./Checkpoints/MarBertV2_d_0.1/checkpoint-15554/pytorch_model.bin\n",
      "tokenizer config file saved in ./Checkpoints/MarBertV2_d_0.1/checkpoint-15554/tokenizer_config.json\n",
      "Special tokens file saved in ./Checkpoints/MarBertV2_d_0.1/checkpoint-15554/special_tokens_map.json\n",
      "The following columns in the evaluation set  don't have a corresponding argument in `BertForSequenceClassification.forward` and have been ignored: text. If text are not expected by `BertForSequenceClassification.forward`,  you can safely ignore this message.\n",
      "***** Running Evaluation *****\n",
      "  Num examples = 1270\n",
      "  Batch size = 4\n",
      "Saving model checkpoint to ./Checkpoints/MarBertV2_d_0.1/checkpoint-17776\n",
      "Configuration saved in ./Checkpoints/MarBertV2_d_0.1/checkpoint-17776/config.json\n",
      "Model weights saved in ./Checkpoints/MarBertV2_d_0.1/checkpoint-17776/pytorch_model.bin\n",
      "tokenizer config file saved in ./Checkpoints/MarBertV2_d_0.1/checkpoint-17776/tokenizer_config.json\n",
      "Special tokens file saved in ./Checkpoints/MarBertV2_d_0.1/checkpoint-17776/special_tokens_map.json\n",
      "The following columns in the evaluation set  don't have a corresponding argument in `BertForSequenceClassification.forward` and have been ignored: text. If text are not expected by `BertForSequenceClassification.forward`,  you can safely ignore this message.\n",
      "***** Running Evaluation *****\n",
      "  Num examples = 1270\n",
      "  Batch size = 4\n",
      "Saving model checkpoint to ./Checkpoints/MarBertV2_d_0.1/checkpoint-19998\n",
      "Configuration saved in ./Checkpoints/MarBertV2_d_0.1/checkpoint-19998/config.json\n",
      "Model weights saved in ./Checkpoints/MarBertV2_d_0.1/checkpoint-19998/pytorch_model.bin\n",
      "tokenizer config file saved in ./Checkpoints/MarBertV2_d_0.1/checkpoint-19998/tokenizer_config.json\n",
      "Special tokens file saved in ./Checkpoints/MarBertV2_d_0.1/checkpoint-19998/special_tokens_map.json\n",
      "The following columns in the evaluation set  don't have a corresponding argument in `BertForSequenceClassification.forward` and have been ignored: text. If text are not expected by `BertForSequenceClassification.forward`,  you can safely ignore this message.\n",
      "***** Running Evaluation *****\n",
      "  Num examples = 1270\n",
      "  Batch size = 4\n",
      "Saving model checkpoint to ./Checkpoints/MarBertV2_d_0.1/checkpoint-22220\n",
      "Configuration saved in ./Checkpoints/MarBertV2_d_0.1/checkpoint-22220/config.json\n",
      "Model weights saved in ./Checkpoints/MarBertV2_d_0.1/checkpoint-22220/pytorch_model.bin\n",
      "tokenizer config file saved in ./Checkpoints/MarBertV2_d_0.1/checkpoint-22220/tokenizer_config.json\n",
      "Special tokens file saved in ./Checkpoints/MarBertV2_d_0.1/checkpoint-22220/special_tokens_map.json\n",
      "The following columns in the evaluation set  don't have a corresponding argument in `BertForSequenceClassification.forward` and have been ignored: text. If text are not expected by `BertForSequenceClassification.forward`,  you can safely ignore this message.\n",
      "***** Running Evaluation *****\n",
      "  Num examples = 1270\n",
      "  Batch size = 4\n",
      "Saving model checkpoint to ./Checkpoints/MarBertV2_d_0.1/checkpoint-24442\n",
      "Configuration saved in ./Checkpoints/MarBertV2_d_0.1/checkpoint-24442/config.json\n",
      "Model weights saved in ./Checkpoints/MarBertV2_d_0.1/checkpoint-24442/pytorch_model.bin\n",
      "tokenizer config file saved in ./Checkpoints/MarBertV2_d_0.1/checkpoint-24442/tokenizer_config.json\n",
      "Special tokens file saved in ./Checkpoints/MarBertV2_d_0.1/checkpoint-24442/special_tokens_map.json\n",
      "\n",
      "\n",
      "Training completed. Do not forget to share your model on huggingface.co/models =)\n",
      "\n",
      "\n",
      "Loading best model from ./Checkpoints/MarBertV2_d_0.1/checkpoint-2222 (score: 0.8414645096437496).\n"
     ]
    },
    {
     "data": {
      "text/plain": [
       "TrainOutput(global_step=24442, training_loss=0.1446851106139098, metrics={'train_runtime': 1601.3884, 'train_samples_per_second': 554.956, 'train_steps_per_second': 138.755, 'total_flos': 1259336358156780.0, 'train_loss': 0.1446851106139098, 'epoch': 11.0})"
      ]
     },
     "execution_count": 3,
     "metadata": {},
     "output_type": "execute_result"
    }
   ],
   "source": [
    "trainer.train()"
   ]
  },
  {
   "cell_type": "markdown",
   "id": "cd965dbf",
   "metadata": {},
   "source": [
    "## Dropout = 0.5, no preprocessing"
   ]
  },
  {
   "cell_type": "code",
   "execution_count": null,
   "id": "908efe25",
   "metadata": {},
   "outputs": [],
   "source": [
    "config = {'model_name' : \"MarBertV2\",\n",
    "          'model_link' : \"UBC-NLP/MARBERTv2\",\n",
    "          'pre_proccessed' : False,\n",
    "          'patience' : 10,\n",
    "          'seed' : 2903, \n",
    "          'task' : \"A\",\n",
    "          'epochs' : 100, \n",
    "          'dropout_ratio' : 0.5}\n",
    "trainer = run_baseline(**config)"
   ]
  },
  {
   "cell_type": "code",
   "execution_count": 3,
   "id": "eeba9479",
   "metadata": {
    "scrolled": true
   },
   "outputs": [
    {
     "name": "stderr",
     "output_type": "stream",
     "text": [
      "The following columns in the training set  don't have a corresponding argument in `BertForSequenceClassification.forward` and have been ignored: text. If text are not expected by `BertForSequenceClassification.forward`,  you can safely ignore this message.\n",
      "/home/ahmad.shapiro/anaconda3/envs/pytorch/lib/python3.9/site-packages/transformers/optimization.py:306: FutureWarning: This implementation of AdamW is deprecated and will be removed in a future version. Use the PyTorch implementation torch.optim.AdamW instead, or set `no_deprecation_warning=True` to disable this warning\n",
      "  warnings.warn(\n",
      "***** Running training *****\n",
      "  Num examples = 8887\n",
      "  Num Epochs = 100\n",
      "  Instantaneous batch size per device = 4\n",
      "  Total train batch size (w. parallel, distributed & accumulation) = 4\n",
      "  Gradient Accumulation steps = 1\n",
      "  Total optimization steps = 222200\n"
     ]
    },
    {
     "data": {
      "text/html": [
       "\n",
       "    <div>\n",
       "      \n",
       "      <progress value='24442' max='222200' style='width:300px; height:20px; vertical-align: middle;'></progress>\n",
       "      [ 24442/222200 26:43 < 3:36:11, 15.25 it/s, Epoch 11/100]\n",
       "    </div>\n",
       "    <table border=\"1\" class=\"dataframe\">\n",
       "  <thead>\n",
       " <tr style=\"text-align: left;\">\n",
       "      <th>Epoch</th>\n",
       "      <th>Training Loss</th>\n",
       "      <th>Validation Loss</th>\n",
       "      <th>F1</th>\n",
       "      <th>Recall</th>\n",
       "      <th>Precision</th>\n",
       "    </tr>\n",
       "  </thead>\n",
       "  <tbody>\n",
       "    <tr>\n",
       "      <td>1</td>\n",
       "      <td>0.542900</td>\n",
       "      <td>0.470356</td>\n",
       "      <td>0.833246</td>\n",
       "      <td>0.820473</td>\n",
       "      <td>0.851983</td>\n",
       "    </tr>\n",
       "    <tr>\n",
       "      <td>2</td>\n",
       "      <td>0.370400</td>\n",
       "      <td>0.713636</td>\n",
       "      <td>0.827713</td>\n",
       "      <td>0.839298</td>\n",
       "      <td>0.819809</td>\n",
       "    </tr>\n",
       "    <tr>\n",
       "      <td>3</td>\n",
       "      <td>0.255800</td>\n",
       "      <td>0.860822</td>\n",
       "      <td>0.821876</td>\n",
       "      <td>0.809583</td>\n",
       "      <td>0.840022</td>\n",
       "    </tr>\n",
       "    <tr>\n",
       "      <td>4</td>\n",
       "      <td>0.120100</td>\n",
       "      <td>1.129622</td>\n",
       "      <td>0.808975</td>\n",
       "      <td>0.830971</td>\n",
       "      <td>0.799735</td>\n",
       "    </tr>\n",
       "    <tr>\n",
       "      <td>5</td>\n",
       "      <td>0.058400</td>\n",
       "      <td>1.273409</td>\n",
       "      <td>0.819356</td>\n",
       "      <td>0.833607</td>\n",
       "      <td>0.810691</td>\n",
       "    </tr>\n",
       "    <tr>\n",
       "      <td>6</td>\n",
       "      <td>0.041000</td>\n",
       "      <td>1.372189</td>\n",
       "      <td>0.809426</td>\n",
       "      <td>0.803812</td>\n",
       "      <td>0.816213</td>\n",
       "    </tr>\n",
       "    <tr>\n",
       "      <td>7</td>\n",
       "      <td>0.079000</td>\n",
       "      <td>1.347336</td>\n",
       "      <td>0.813127</td>\n",
       "      <td>0.821393</td>\n",
       "      <td>0.806921</td>\n",
       "    </tr>\n",
       "    <tr>\n",
       "      <td>8</td>\n",
       "      <td>0.066900</td>\n",
       "      <td>1.608492</td>\n",
       "      <td>0.800737</td>\n",
       "      <td>0.819090</td>\n",
       "      <td>0.791872</td>\n",
       "    </tr>\n",
       "    <tr>\n",
       "      <td>9</td>\n",
       "      <td>0.059400</td>\n",
       "      <td>1.206805</td>\n",
       "      <td>0.804380</td>\n",
       "      <td>0.798284</td>\n",
       "      <td>0.811910</td>\n",
       "    </tr>\n",
       "    <tr>\n",
       "      <td>10</td>\n",
       "      <td>0.040100</td>\n",
       "      <td>1.286824</td>\n",
       "      <td>0.806659</td>\n",
       "      <td>0.812647</td>\n",
       "      <td>0.801815</td>\n",
       "    </tr>\n",
       "    <tr>\n",
       "      <td>11</td>\n",
       "      <td>0.019800</td>\n",
       "      <td>1.499816</td>\n",
       "      <td>0.801343</td>\n",
       "      <td>0.812073</td>\n",
       "      <td>0.794148</td>\n",
       "    </tr>\n",
       "  </tbody>\n",
       "</table><p>"
      ],
      "text/plain": [
       "<IPython.core.display.HTML object>"
      ]
     },
     "metadata": {},
     "output_type": "display_data"
    },
    {
     "name": "stderr",
     "output_type": "stream",
     "text": [
      "The following columns in the evaluation set  don't have a corresponding argument in `BertForSequenceClassification.forward` and have been ignored: text. If text are not expected by `BertForSequenceClassification.forward`,  you can safely ignore this message.\n",
      "***** Running Evaluation *****\n",
      "  Num examples = 1270\n",
      "  Batch size = 4\n",
      "Saving model checkpoint to ./Checkpoints/MarBertV2_d_0.5/checkpoint-4444\n",
      "Configuration saved in ./Checkpoints/MarBertV2_d_0.5/checkpoint-4444/config.json\n",
      "Model weights saved in ./Checkpoints/MarBertV2_d_0.5/checkpoint-4444/pytorch_model.bin\n",
      "tokenizer config file saved in ./Checkpoints/MarBertV2_d_0.5/checkpoint-4444/tokenizer_config.json\n",
      "Special tokens file saved in ./Checkpoints/MarBertV2_d_0.5/checkpoint-4444/special_tokens_map.json\n",
      "The following columns in the evaluation set  don't have a corresponding argument in `BertForSequenceClassification.forward` and have been ignored: text. If text are not expected by `BertForSequenceClassification.forward`,  you can safely ignore this message.\n",
      "***** Running Evaluation *****\n",
      "  Num examples = 1270\n",
      "  Batch size = 4\n",
      "Saving model checkpoint to ./Checkpoints/MarBertV2_d_0.5/checkpoint-6666\n",
      "Configuration saved in ./Checkpoints/MarBertV2_d_0.5/checkpoint-6666/config.json\n",
      "Model weights saved in ./Checkpoints/MarBertV2_d_0.5/checkpoint-6666/pytorch_model.bin\n",
      "tokenizer config file saved in ./Checkpoints/MarBertV2_d_0.5/checkpoint-6666/tokenizer_config.json\n",
      "Special tokens file saved in ./Checkpoints/MarBertV2_d_0.5/checkpoint-6666/special_tokens_map.json\n",
      "The following columns in the evaluation set  don't have a corresponding argument in `BertForSequenceClassification.forward` and have been ignored: text. If text are not expected by `BertForSequenceClassification.forward`,  you can safely ignore this message.\n",
      "***** Running Evaluation *****\n",
      "  Num examples = 1270\n",
      "  Batch size = 4\n",
      "Saving model checkpoint to ./Checkpoints/MarBertV2_d_0.5/checkpoint-8888\n",
      "Configuration saved in ./Checkpoints/MarBertV2_d_0.5/checkpoint-8888/config.json\n",
      "Model weights saved in ./Checkpoints/MarBertV2_d_0.5/checkpoint-8888/pytorch_model.bin\n",
      "tokenizer config file saved in ./Checkpoints/MarBertV2_d_0.5/checkpoint-8888/tokenizer_config.json\n",
      "Special tokens file saved in ./Checkpoints/MarBertV2_d_0.5/checkpoint-8888/special_tokens_map.json\n",
      "The following columns in the evaluation set  don't have a corresponding argument in `BertForSequenceClassification.forward` and have been ignored: text. If text are not expected by `BertForSequenceClassification.forward`,  you can safely ignore this message.\n",
      "***** Running Evaluation *****\n",
      "  Num examples = 1270\n",
      "  Batch size = 4\n",
      "Saving model checkpoint to ./Checkpoints/MarBertV2_d_0.5/checkpoint-11110\n",
      "Configuration saved in ./Checkpoints/MarBertV2_d_0.5/checkpoint-11110/config.json\n",
      "Model weights saved in ./Checkpoints/MarBertV2_d_0.5/checkpoint-11110/pytorch_model.bin\n",
      "tokenizer config file saved in ./Checkpoints/MarBertV2_d_0.5/checkpoint-11110/tokenizer_config.json\n",
      "Special tokens file saved in ./Checkpoints/MarBertV2_d_0.5/checkpoint-11110/special_tokens_map.json\n",
      "The following columns in the evaluation set  don't have a corresponding argument in `BertForSequenceClassification.forward` and have been ignored: text. If text are not expected by `BertForSequenceClassification.forward`,  you can safely ignore this message.\n",
      "***** Running Evaluation *****\n",
      "  Num examples = 1270\n",
      "  Batch size = 4\n",
      "Saving model checkpoint to ./Checkpoints/MarBertV2_d_0.5/checkpoint-13332\n",
      "Configuration saved in ./Checkpoints/MarBertV2_d_0.5/checkpoint-13332/config.json\n",
      "Model weights saved in ./Checkpoints/MarBertV2_d_0.5/checkpoint-13332/pytorch_model.bin\n",
      "tokenizer config file saved in ./Checkpoints/MarBertV2_d_0.5/checkpoint-13332/tokenizer_config.json\n",
      "Special tokens file saved in ./Checkpoints/MarBertV2_d_0.5/checkpoint-13332/special_tokens_map.json\n",
      "The following columns in the evaluation set  don't have a corresponding argument in `BertForSequenceClassification.forward` and have been ignored: text. If text are not expected by `BertForSequenceClassification.forward`,  you can safely ignore this message.\n",
      "***** Running Evaluation *****\n",
      "  Num examples = 1270\n",
      "  Batch size = 4\n",
      "Saving model checkpoint to ./Checkpoints/MarBertV2_d_0.5/checkpoint-15554\n",
      "Configuration saved in ./Checkpoints/MarBertV2_d_0.5/checkpoint-15554/config.json\n",
      "Model weights saved in ./Checkpoints/MarBertV2_d_0.5/checkpoint-15554/pytorch_model.bin\n",
      "tokenizer config file saved in ./Checkpoints/MarBertV2_d_0.5/checkpoint-15554/tokenizer_config.json\n",
      "Special tokens file saved in ./Checkpoints/MarBertV2_d_0.5/checkpoint-15554/special_tokens_map.json\n",
      "The following columns in the evaluation set  don't have a corresponding argument in `BertForSequenceClassification.forward` and have been ignored: text. If text are not expected by `BertForSequenceClassification.forward`,  you can safely ignore this message.\n",
      "***** Running Evaluation *****\n",
      "  Num examples = 1270\n",
      "  Batch size = 4\n",
      "Saving model checkpoint to ./Checkpoints/MarBertV2_d_0.5/checkpoint-17776\n",
      "Configuration saved in ./Checkpoints/MarBertV2_d_0.5/checkpoint-17776/config.json\n",
      "Model weights saved in ./Checkpoints/MarBertV2_d_0.5/checkpoint-17776/pytorch_model.bin\n",
      "tokenizer config file saved in ./Checkpoints/MarBertV2_d_0.5/checkpoint-17776/tokenizer_config.json\n",
      "Special tokens file saved in ./Checkpoints/MarBertV2_d_0.5/checkpoint-17776/special_tokens_map.json\n",
      "The following columns in the evaluation set  don't have a corresponding argument in `BertForSequenceClassification.forward` and have been ignored: text. If text are not expected by `BertForSequenceClassification.forward`,  you can safely ignore this message.\n",
      "***** Running Evaluation *****\n",
      "  Num examples = 1270\n",
      "  Batch size = 4\n",
      "Saving model checkpoint to ./Checkpoints/MarBertV2_d_0.5/checkpoint-19998\n",
      "Configuration saved in ./Checkpoints/MarBertV2_d_0.5/checkpoint-19998/config.json\n",
      "Model weights saved in ./Checkpoints/MarBertV2_d_0.5/checkpoint-19998/pytorch_model.bin\n",
      "tokenizer config file saved in ./Checkpoints/MarBertV2_d_0.5/checkpoint-19998/tokenizer_config.json\n",
      "Special tokens file saved in ./Checkpoints/MarBertV2_d_0.5/checkpoint-19998/special_tokens_map.json\n",
      "The following columns in the evaluation set  don't have a corresponding argument in `BertForSequenceClassification.forward` and have been ignored: text. If text are not expected by `BertForSequenceClassification.forward`,  you can safely ignore this message.\n",
      "***** Running Evaluation *****\n",
      "  Num examples = 1270\n",
      "  Batch size = 4\n",
      "Saving model checkpoint to ./Checkpoints/MarBertV2_d_0.5/checkpoint-22220\n",
      "Configuration saved in ./Checkpoints/MarBertV2_d_0.5/checkpoint-22220/config.json\n",
      "Model weights saved in ./Checkpoints/MarBertV2_d_0.5/checkpoint-22220/pytorch_model.bin\n",
      "tokenizer config file saved in ./Checkpoints/MarBertV2_d_0.5/checkpoint-22220/tokenizer_config.json\n",
      "Special tokens file saved in ./Checkpoints/MarBertV2_d_0.5/checkpoint-22220/special_tokens_map.json\n",
      "The following columns in the evaluation set  don't have a corresponding argument in `BertForSequenceClassification.forward` and have been ignored: text. If text are not expected by `BertForSequenceClassification.forward`,  you can safely ignore this message.\n",
      "***** Running Evaluation *****\n",
      "  Num examples = 1270\n",
      "  Batch size = 4\n",
      "Saving model checkpoint to ./Checkpoints/MarBertV2_d_0.5/checkpoint-24442\n",
      "Configuration saved in ./Checkpoints/MarBertV2_d_0.5/checkpoint-24442/config.json\n",
      "Model weights saved in ./Checkpoints/MarBertV2_d_0.5/checkpoint-24442/pytorch_model.bin\n",
      "tokenizer config file saved in ./Checkpoints/MarBertV2_d_0.5/checkpoint-24442/tokenizer_config.json\n",
      "Special tokens file saved in ./Checkpoints/MarBertV2_d_0.5/checkpoint-24442/special_tokens_map.json\n",
      "\n",
      "\n",
      "Training completed. Do not forget to share your model on huggingface.co/models =)\n",
      "\n",
      "\n",
      "Loading best model from ./Checkpoints/MarBertV2_d_0.5/checkpoint-2222 (score: 0.8332457983193277).\n"
     ]
    },
    {
     "data": {
      "text/plain": [
       "TrainOutput(global_step=24442, training_loss=0.14869325058168187, metrics={'train_runtime': 1603.6416, 'train_samples_per_second': 554.176, 'train_steps_per_second': 138.56, 'total_flos': 1259336358156780.0, 'train_loss': 0.14869325058168187, 'epoch': 11.0})"
      ]
     },
     "execution_count": 3,
     "metadata": {},
     "output_type": "execute_result"
    }
   ],
   "source": [
    "trainer.train()"
   ]
  },
  {
   "cell_type": "markdown",
   "id": "f119d58a",
   "metadata": {},
   "source": [
    "## Dropout = 0.1, preprocessing"
   ]
  },
  {
   "cell_type": "code",
   "execution_count": 5,
   "id": "371883c8",
   "metadata": {
    "scrolled": true
   },
   "outputs": [
    {
     "name": "stdout",
     "output_type": "stream",
     "text": [
      "Pre-Processed\n"
     ]
    },
    {
     "name": "stderr",
     "output_type": "stream",
     "text": [
      "100%|██████████| 2/2 [00:00<00:00, 284.61it/s]\n",
      "Some weights of the model checkpoint at /scratch/mt/ashapiro/Hate_Speech/Models/Marbertv2/ were not used when initializing BertForSequenceClassification: ['cls.predictions.transform.dense.weight', 'cls.seq_relationship.bias', 'cls.predictions.transform.LayerNorm.bias', 'cls.predictions.decoder.weight', 'cls.predictions.bias', 'cls.predictions.transform.LayerNorm.weight', 'cls.predictions.decoder.bias', 'cls.seq_relationship.weight', 'cls.predictions.transform.dense.bias']\n",
      "- This IS expected if you are initializing BertForSequenceClassification from the checkpoint of a model trained on another task or with another architecture (e.g. initializing a BertForSequenceClassification model from a BertForPreTraining model).\n",
      "- This IS NOT expected if you are initializing BertForSequenceClassification from the checkpoint of a model that you expect to be exactly identical (initializing a BertForSequenceClassification model from a BertForSequenceClassification model).\n",
      "Some weights of BertForSequenceClassification were not initialized from the model checkpoint at /scratch/mt/ashapiro/Hate_Speech/Models/Marbertv2/ and are newly initialized: ['classifier.weight', 'classifier.bias']\n",
      "You should probably TRAIN this model on a down-stream task to be able to use it for predictions and inference.\n"
     ]
    }
   ],
   "source": [
    "config = {'model_name' : \"MarBertV2\",\n",
    "          'model_link' : \"/scratch/mt/ashapiro/Hate_Speech/Models/Marbertv2/\",\n",
    "          'pre_proccessed' : True,\n",
    "          'patience' : 10,\n",
    "          'seed' : 20, \n",
    "          'task' : \"A\",\n",
    "          'epochs' : 100, \n",
    "          'dropout_ratio' : 0.1}\n",
    "trainer = run_baseline(**config)"
   ]
  },
  {
   "cell_type": "code",
   "execution_count": null,
   "id": "f9916fc3",
   "metadata": {
    "scrolled": true
   },
   "outputs": [
    {
     "name": "stderr",
     "output_type": "stream",
     "text": [
      "The following columns in the training set  don't have a corresponding argument in `BertForSequenceClassification.forward` and have been ignored: text. If text are not expected by `BertForSequenceClassification.forward`,  you can safely ignore this message.\n",
      "/home/ashapiro/.local/lib/python3.8/site-packages/transformers/optimization.py:306: FutureWarning: This implementation of AdamW is deprecated and will be removed in a future version. Use the PyTorch implementation torch.optim.AdamW instead, or set `no_deprecation_warning=True` to disable this warning\n",
      "  warnings.warn(\n",
      "***** Running training *****\n",
      "  Num examples = 10552\n",
      "  Num Epochs = 100\n",
      "  Instantaneous batch size per device = 64\n",
      "  Total train batch size (w. parallel, distributed & accumulation) = 64\n",
      "  Gradient Accumulation steps = 1\n",
      "  Total optimization steps = 16500\n",
      "  1%|          | 165/16500 [00:27<46:38,  5.84it/s]  The following columns in the evaluation set  don't have a corresponding argument in `BertForSequenceClassification.forward` and have been ignored: text. If text are not expected by `BertForSequenceClassification.forward`,  you can safely ignore this message.\n",
      "***** Running Evaluation *****\n",
      "  Num examples = 1270\n",
      "  Batch size = 64\n",
      "\n",
      "  0%|          | 0/20 [00:00<?, ?it/s]\u001b[A\n",
      " 15%|█▌        | 3/20 [00:00<00:00, 19.04it/s]\u001b[A\n",
      " 25%|██▌       | 5/20 [00:00<00:01, 14.36it/s]\u001b[A\n",
      " 35%|███▌      | 7/20 [00:00<00:00, 14.63it/s]\u001b[A\n",
      " 45%|████▌     | 9/20 [00:00<00:00, 14.80it/s]\u001b[A\n",
      " 55%|█████▌    | 11/20 [00:00<00:00, 13.84it/s]\u001b[A\n",
      " 65%|██████▌   | 13/20 [00:00<00:00, 13.55it/s]\u001b[A\n",
      " 75%|███████▌  | 15/20 [00:01<00:00, 13.29it/s]\u001b[A\n",
      " 85%|████████▌ | 17/20 [00:01<00:00, 13.12it/s]\u001b[A\n",
      "                                                   \n",
      "  1%|          | 165/16500 [00:29<46:38,  5.84it/s]\n",
      "100%|██████████| 20/20 [00:01<00:00, 13.32it/s]\u001b[A\n",
      "                                               \u001b[ASaving model checkpoint to ./Checkpoints/Pre_processed/MarBertV2_d_0.1/checkpoint-165\n",
      "Configuration saved in ./Checkpoints/Pre_processed/MarBertV2_d_0.1/checkpoint-165/config.json\n"
     ]
    },
    {
     "name": "stdout",
     "output_type": "stream",
     "text": [
      "{'eval_loss': 0.38465484976768494, 'eval_f1': 0.8331360205929839, 'eval_recall': 0.8474664441039947, 'eval_precision': 0.8241751355329718, 'eval_runtime': 1.6015, 'eval_samples_per_second': 792.998, 'eval_steps_per_second': 12.488, 'epoch': 1.0}\n"
     ]
    },
    {
     "name": "stderr",
     "output_type": "stream",
     "text": [
      "Model weights saved in ./Checkpoints/Pre_processed/MarBertV2_d_0.1/checkpoint-165/pytorch_model.bin\n",
      "tokenizer config file saved in ./Checkpoints/Pre_processed/MarBertV2_d_0.1/checkpoint-165/tokenizer_config.json\n",
      "Special tokens file saved in ./Checkpoints/Pre_processed/MarBertV2_d_0.1/checkpoint-165/special_tokens_map.json\n",
      "  2%|▏         | 330/16500 [01:03<46:37,  5.78it/s]   The following columns in the evaluation set  don't have a corresponding argument in `BertForSequenceClassification.forward` and have been ignored: text. If text are not expected by `BertForSequenceClassification.forward`,  you can safely ignore this message.\n",
      "***** Running Evaluation *****\n",
      "  Num examples = 1270\n",
      "  Batch size = 64\n",
      "\n",
      "  0%|          | 0/20 [00:00<?, ?it/s]\u001b[A\n",
      " 15%|█▌        | 3/20 [00:00<00:00, 18.98it/s]\u001b[A\n",
      " 25%|██▌       | 5/20 [00:00<00:01, 14.21it/s]\u001b[A\n",
      " 35%|███▌      | 7/20 [00:00<00:00, 14.62it/s]\u001b[A\n",
      " 45%|████▌     | 9/20 [00:00<00:00, 14.74it/s]\u001b[A\n",
      " 55%|█████▌    | 11/20 [00:00<00:00, 13.87it/s]\u001b[A\n",
      " 65%|██████▌   | 13/20 [00:00<00:00, 13.61it/s]\u001b[A\n",
      " 75%|███████▌  | 15/20 [00:01<00:00, 13.38it/s]\u001b[A\n",
      " 85%|████████▌ | 17/20 [00:01<00:00, 13.22it/s]\u001b[A\n",
      "                                                   \n",
      "  2%|▏         | 330/16500 [01:05<46:37,  5.78it/s]\n",
      "100%|██████████| 20/20 [00:01<00:00, 13.40it/s]\u001b[A\n",
      "                                               \u001b[ASaving model checkpoint to ./Checkpoints/Pre_processed/MarBertV2_d_0.1/checkpoint-330\n",
      "Configuration saved in ./Checkpoints/Pre_processed/MarBertV2_d_0.1/checkpoint-330/config.json\n"
     ]
    },
    {
     "name": "stdout",
     "output_type": "stream",
     "text": [
      "{'eval_loss': 0.4106479287147522, 'eval_f1': 0.8354086218279502, 'eval_recall': 0.8560497793428303, 'eval_precision': 0.8251936375668627, 'eval_runtime': 1.5708, 'eval_samples_per_second': 808.511, 'eval_steps_per_second': 12.732, 'epoch': 2.0}\n"
     ]
    },
    {
     "name": "stderr",
     "output_type": "stream",
     "text": [
      "Model weights saved in ./Checkpoints/Pre_processed/MarBertV2_d_0.1/checkpoint-330/pytorch_model.bin\n",
      "tokenizer config file saved in ./Checkpoints/Pre_processed/MarBertV2_d_0.1/checkpoint-330/tokenizer_config.json\n",
      "Special tokens file saved in ./Checkpoints/Pre_processed/MarBertV2_d_0.1/checkpoint-330/special_tokens_map.json\n",
      "  3%|▎         | 495/16500 [01:40<47:15,  5.64it/s]   The following columns in the evaluation set  don't have a corresponding argument in `BertForSequenceClassification.forward` and have been ignored: text. If text are not expected by `BertForSequenceClassification.forward`,  you can safely ignore this message.\n",
      "***** Running Evaluation *****\n",
      "  Num examples = 1270\n",
      "  Batch size = 64\n",
      "\n",
      "  0%|          | 0/20 [00:00<?, ?it/s]\u001b[A\n",
      " 15%|█▌        | 3/20 [00:00<00:00, 19.01it/s]\u001b[A\n",
      " 25%|██▌       | 5/20 [00:00<00:01, 14.20it/s]\u001b[A\n",
      " 35%|███▌      | 7/20 [00:00<00:00, 14.53it/s]\u001b[A\n",
      " 45%|████▌     | 9/20 [00:00<00:00, 14.69it/s]\u001b[A\n",
      " 55%|█████▌    | 11/20 [00:00<00:00, 13.80it/s]\u001b[A\n",
      " 65%|██████▌   | 13/20 [00:00<00:00, 13.53it/s]\u001b[A\n",
      " 75%|███████▌  | 15/20 [00:01<00:00, 13.32it/s]\u001b[A\n",
      " 85%|████████▌ | 17/20 [00:01<00:00, 13.15it/s]\u001b[A\n",
      "                                                   \n",
      "  3%|▎         | 495/16500 [01:41<47:15,  5.64it/s]\n",
      "100%|██████████| 20/20 [00:01<00:00, 13.34it/s]\u001b[A\n",
      "                                               \u001b[ASaving model checkpoint to ./Checkpoints/Pre_processed/MarBertV2_d_0.1/checkpoint-495\n",
      "Configuration saved in ./Checkpoints/Pre_processed/MarBertV2_d_0.1/checkpoint-495/config.json\n"
     ]
    },
    {
     "name": "stdout",
     "output_type": "stream",
     "text": [
      "{'eval_loss': 0.3453977108001709, 'eval_f1': 0.8548372139499476, 'eval_recall': 0.8527370635446917, 'eval_precision': 0.8570632911392405, 'eval_runtime': 1.5712, 'eval_samples_per_second': 808.279, 'eval_steps_per_second': 12.729, 'epoch': 3.0}\n"
     ]
    },
    {
     "name": "stderr",
     "output_type": "stream",
     "text": [
      "Model weights saved in ./Checkpoints/Pre_processed/MarBertV2_d_0.1/checkpoint-495/pytorch_model.bin\n",
      "tokenizer config file saved in ./Checkpoints/Pre_processed/MarBertV2_d_0.1/checkpoint-495/tokenizer_config.json\n",
      "Special tokens file saved in ./Checkpoints/Pre_processed/MarBertV2_d_0.1/checkpoint-495/special_tokens_map.json\n",
      "  3%|▎         | 500/16500 [01:50<3:48:55,  1.16it/s] "
     ]
    },
    {
     "name": "stdout",
     "output_type": "stream",
     "text": [
      "{'loss': 0.2565, 'learning_rate': 1.9393939393939395e-05, 'epoch': 3.03}\n"
     ]
    },
    {
     "name": "stderr",
     "output_type": "stream",
     "text": [
      "  4%|▍         | 660/16500 [02:17<52:40,  5.01it/s]  The following columns in the evaluation set  don't have a corresponding argument in `BertForSequenceClassification.forward` and have been ignored: text. If text are not expected by `BertForSequenceClassification.forward`,  you can safely ignore this message.\n",
      "***** Running Evaluation *****\n",
      "  Num examples = 1270\n",
      "  Batch size = 64\n",
      "\n",
      "  0%|          | 0/20 [00:00<?, ?it/s]\u001b[A\n",
      " 15%|█▌        | 3/20 [00:00<00:00, 18.93it/s]\u001b[A\n",
      " 25%|██▌       | 5/20 [00:00<00:01, 14.26it/s]\u001b[A\n",
      " 35%|███▌      | 7/20 [00:00<00:00, 14.57it/s]\u001b[A\n",
      " 45%|████▌     | 9/20 [00:00<00:00, 14.69it/s]\u001b[A\n",
      " 55%|█████▌    | 11/20 [00:00<00:00, 13.75it/s]\u001b[A\n",
      " 65%|██████▌   | 13/20 [00:00<00:00, 13.43it/s]\u001b[A\n",
      " 75%|███████▌  | 15/20 [00:01<00:00, 13.17it/s]\u001b[A\n",
      " 85%|████████▌ | 17/20 [00:01<00:00, 13.02it/s]\u001b[A\n",
      "                                                   \n",
      "  4%|▍         | 660/16500 [02:18<52:40,  5.01it/s]\n",
      "100%|██████████| 20/20 [00:01<00:00, 13.27it/s]\u001b[A\n",
      "                                               \u001b[ASaving model checkpoint to ./Checkpoints/Pre_processed/MarBertV2_d_0.1/checkpoint-660\n",
      "Configuration saved in ./Checkpoints/Pre_processed/MarBertV2_d_0.1/checkpoint-660/config.json\n"
     ]
    },
    {
     "name": "stdout",
     "output_type": "stream",
     "text": [
      "{'eval_loss': 0.5570399165153503, 'eval_f1': 0.8422170742170743, 'eval_recall': 0.8578619120572566, 'eval_precision': 0.8326955934833615, 'eval_runtime': 1.5842, 'eval_samples_per_second': 801.69, 'eval_steps_per_second': 12.625, 'epoch': 4.0}\n"
     ]
    },
    {
     "name": "stderr",
     "output_type": "stream",
     "text": [
      "Model weights saved in ./Checkpoints/Pre_processed/MarBertV2_d_0.1/checkpoint-660/pytorch_model.bin\n",
      "tokenizer config file saved in ./Checkpoints/Pre_processed/MarBertV2_d_0.1/checkpoint-660/tokenizer_config.json\n",
      "Special tokens file saved in ./Checkpoints/Pre_processed/MarBertV2_d_0.1/checkpoint-660/special_tokens_map.json\n",
      "  5%|▌         | 825/16500 [02:53<46:22,  5.63it/s]   The following columns in the evaluation set  don't have a corresponding argument in `BertForSequenceClassification.forward` and have been ignored: text. If text are not expected by `BertForSequenceClassification.forward`,  you can safely ignore this message.\n",
      "***** Running Evaluation *****\n",
      "  Num examples = 1270\n",
      "  Batch size = 64\n",
      "\n",
      "  0%|          | 0/20 [00:00<?, ?it/s]\u001b[A\n",
      " 15%|█▌        | 3/20 [00:00<00:00, 18.86it/s]\u001b[A\n",
      " 25%|██▌       | 5/20 [00:00<00:01, 14.15it/s]\u001b[A\n",
      " 35%|███▌      | 7/20 [00:00<00:00, 14.43it/s]\u001b[A\n",
      " 45%|████▌     | 9/20 [00:00<00:00, 14.41it/s]\u001b[A\n",
      " 55%|█████▌    | 11/20 [00:00<00:00, 13.61it/s]\u001b[A\n",
      " 65%|██████▌   | 13/20 [00:00<00:00, 13.41it/s]\u001b[A\n",
      " 75%|███████▌  | 15/20 [00:01<00:00, 13.20it/s]\u001b[A\n",
      " 85%|████████▌ | 17/20 [00:01<00:00, 13.03it/s]\u001b[A\n",
      "                                                   \n",
      "  5%|▌         | 825/16500 [02:55<46:22,  5.63it/s]\n",
      "100%|██████████| 20/20 [00:01<00:00, 13.25it/s]\u001b[A\n",
      "                                               \u001b[ASaving model checkpoint to ./Checkpoints/Pre_processed/MarBertV2_d_0.1/checkpoint-825\n",
      "Configuration saved in ./Checkpoints/Pre_processed/MarBertV2_d_0.1/checkpoint-825/config.json\n"
     ]
    },
    {
     "name": "stdout",
     "output_type": "stream",
     "text": [
      "{'eval_loss': 0.7666277289390564, 'eval_f1': 0.8254611211573237, 'eval_recall': 0.8216335490361969, 'eval_precision': 0.8297775068576654, 'eval_runtime': 1.5876, 'eval_samples_per_second': 799.927, 'eval_steps_per_second': 12.597, 'epoch': 5.0}\n"
     ]
    },
    {
     "name": "stderr",
     "output_type": "stream",
     "text": [
      "Model weights saved in ./Checkpoints/Pre_processed/MarBertV2_d_0.1/checkpoint-825/pytorch_model.bin\n",
      "tokenizer config file saved in ./Checkpoints/Pre_processed/MarBertV2_d_0.1/checkpoint-825/tokenizer_config.json\n",
      "Special tokens file saved in ./Checkpoints/Pre_processed/MarBertV2_d_0.1/checkpoint-825/special_tokens_map.json\n",
      "  6%|▌         | 990/16500 [03:30<47:06,  5.49it/s]   The following columns in the evaluation set  don't have a corresponding argument in `BertForSequenceClassification.forward` and have been ignored: text. If text are not expected by `BertForSequenceClassification.forward`,  you can safely ignore this message.\n",
      "***** Running Evaluation *****\n",
      "  Num examples = 1270\n",
      "  Batch size = 64\n",
      "\n",
      "  0%|          | 0/20 [00:00<?, ?it/s]\u001b[A\n",
      " 15%|█▌        | 3/20 [00:00<00:00, 18.96it/s]\u001b[A\n",
      " 25%|██▌       | 5/20 [00:00<00:01, 14.30it/s]\u001b[A\n",
      " 35%|███▌      | 7/20 [00:00<00:00, 14.60it/s]\u001b[A\n",
      " 45%|████▌     | 9/20 [00:00<00:00, 14.76it/s]\u001b[A\n",
      " 55%|█████▌    | 11/20 [00:00<00:00, 13.86it/s]\u001b[A\n",
      " 65%|██████▌   | 13/20 [00:00<00:00, 13.63it/s]\u001b[A\n",
      " 75%|███████▌  | 15/20 [00:01<00:00, 13.45it/s]\u001b[A\n",
      " 85%|████████▌ | 17/20 [00:01<00:00, 13.26it/s]\u001b[A\n",
      "                                                   \n",
      "  6%|▌         | 990/16500 [03:31<47:06,  5.49it/s]\n",
      "100%|██████████| 20/20 [00:01<00:00, 13.47it/s]\u001b[A\n",
      "                                               \u001b[ASaving model checkpoint to ./Checkpoints/Pre_processed/MarBertV2_d_0.1/checkpoint-990\n",
      "Configuration saved in ./Checkpoints/Pre_processed/MarBertV2_d_0.1/checkpoint-990/config.json\n"
     ]
    },
    {
     "name": "stdout",
     "output_type": "stream",
     "text": [
      "{'eval_loss': 0.7762383222579956, 'eval_f1': 0.8313875620424326, 'eval_recall': 0.8249319735668716, 'eval_precision': 0.8392439362108479, 'eval_runtime': 1.5665, 'eval_samples_per_second': 810.715, 'eval_steps_per_second': 12.767, 'epoch': 6.0}\n"
     ]
    },
    {
     "name": "stderr",
     "output_type": "stream",
     "text": [
      "Model weights saved in ./Checkpoints/Pre_processed/MarBertV2_d_0.1/checkpoint-990/pytorch_model.bin\n",
      "tokenizer config file saved in ./Checkpoints/Pre_processed/MarBertV2_d_0.1/checkpoint-990/tokenizer_config.json\n",
      "Special tokens file saved in ./Checkpoints/Pre_processed/MarBertV2_d_0.1/checkpoint-990/special_tokens_map.json\n",
      "  6%|▌         | 1001/16500 [03:41<1:09:55,  3.69it/s]"
     ]
    },
    {
     "name": "stdout",
     "output_type": "stream",
     "text": [
      "{'loss': 0.0668, 'learning_rate': 1.8787878787878792e-05, 'epoch': 6.06}\n"
     ]
    },
    {
     "name": "stderr",
     "output_type": "stream",
     "text": [
      "  7%|▋         | 1155/16500 [04:06<45:51,  5.58it/s]  The following columns in the evaluation set  don't have a corresponding argument in `BertForSequenceClassification.forward` and have been ignored: text. If text are not expected by `BertForSequenceClassification.forward`,  you can safely ignore this message.\n",
      "***** Running Evaluation *****\n",
      "  Num examples = 1270\n",
      "  Batch size = 64\n",
      "\n",
      "  0%|          | 0/20 [00:00<?, ?it/s]\u001b[A\n",
      " 15%|█▌        | 3/20 [00:00<00:00, 18.92it/s]\u001b[A\n",
      " 25%|██▌       | 5/20 [00:00<00:01, 14.23it/s]\u001b[A\n",
      " 35%|███▌      | 7/20 [00:00<00:00, 14.45it/s]\u001b[A\n",
      " 45%|████▌     | 9/20 [00:00<00:00, 14.57it/s]\u001b[A\n",
      " 55%|█████▌    | 11/20 [00:00<00:00, 13.74it/s]\u001b[A\n",
      " 65%|██████▌   | 13/20 [00:00<00:00, 13.50it/s]\u001b[A\n",
      " 75%|███████▌  | 15/20 [00:01<00:00, 13.26it/s]\u001b[A\n",
      " 85%|████████▌ | 17/20 [00:01<00:00, 13.12it/s]\u001b[A\n",
      "                                                    \n",
      "  7%|▋         | 1155/16500 [04:08<45:51,  5.58it/s]\n",
      "100%|██████████| 20/20 [00:01<00:00, 13.29it/s]\u001b[A\n",
      "                                               \u001b[ASaving model checkpoint to ./Checkpoints/Pre_processed/MarBertV2_d_0.1/checkpoint-1155\n",
      "Configuration saved in ./Checkpoints/Pre_processed/MarBertV2_d_0.1/checkpoint-1155/config.json\n"
     ]
    },
    {
     "name": "stdout",
     "output_type": "stream",
     "text": [
      "{'eval_loss': 0.7628029584884644, 'eval_f1': 0.8464721774749017, 'eval_recall': 0.8524941119978049, 'eval_precision': 0.8414313399778516, 'eval_runtime': 1.5822, 'eval_samples_per_second': 802.668, 'eval_steps_per_second': 12.64, 'epoch': 7.0}\n"
     ]
    },
    {
     "name": "stderr",
     "output_type": "stream",
     "text": [
      "Model weights saved in ./Checkpoints/Pre_processed/MarBertV2_d_0.1/checkpoint-1155/pytorch_model.bin\n",
      "tokenizer config file saved in ./Checkpoints/Pre_processed/MarBertV2_d_0.1/checkpoint-1155/tokenizer_config.json\n",
      "Special tokens file saved in ./Checkpoints/Pre_processed/MarBertV2_d_0.1/checkpoint-1155/special_tokens_map.json\n",
      "  8%|▊         | 1320/16500 [04:42<43:08,  5.86it/s]   The following columns in the evaluation set  don't have a corresponding argument in `BertForSequenceClassification.forward` and have been ignored: text. If text are not expected by `BertForSequenceClassification.forward`,  you can safely ignore this message.\n",
      "***** Running Evaluation *****\n",
      "  Num examples = 1270\n",
      "  Batch size = 64\n",
      "\n",
      "  0%|          | 0/20 [00:00<?, ?it/s]\u001b[A\n",
      " 15%|█▌        | 3/20 [00:00<00:00, 19.01it/s]\u001b[A\n",
      " 25%|██▌       | 5/20 [00:00<00:01, 14.27it/s]\u001b[A\n",
      " 35%|███▌      | 7/20 [00:00<00:00, 14.63it/s]\u001b[A\n",
      " 45%|████▌     | 9/20 [00:00<00:00, 14.72it/s]\u001b[A\n",
      " 55%|█████▌    | 11/20 [00:00<00:00, 13.84it/s]\u001b[A\n",
      " 65%|██████▌   | 13/20 [00:00<00:00, 13.58it/s]\u001b[A\n",
      " 75%|███████▌  | 15/20 [00:01<00:00, 13.39it/s]\u001b[A\n",
      " 85%|████████▌ | 17/20 [00:01<00:00, 13.23it/s]\u001b[A\n",
      "                                                    \n",
      "  8%|▊         | 1320/16500 [04:44<43:08,  5.86it/s]\n",
      "100%|██████████| 20/20 [00:01<00:00, 13.38it/s]\u001b[A\n",
      "                                               \u001b[ASaving model checkpoint to ./Checkpoints/Pre_processed/MarBertV2_d_0.1/checkpoint-1320\n",
      "Configuration saved in ./Checkpoints/Pre_processed/MarBertV2_d_0.1/checkpoint-1320/config.json\n"
     ]
    },
    {
     "name": "stdout",
     "output_type": "stream",
     "text": [
      "{'eval_loss': 1.1581135988235474, 'eval_f1': 0.7866263440860215, 'eval_recall': 0.826609768367137, 'eval_precision': 0.7849487302252279, 'eval_runtime': 1.5735, 'eval_samples_per_second': 807.12, 'eval_steps_per_second': 12.711, 'epoch': 8.0}\n"
     ]
    },
    {
     "name": "stderr",
     "output_type": "stream",
     "text": [
      "Model weights saved in ./Checkpoints/Pre_processed/MarBertV2_d_0.1/checkpoint-1320/pytorch_model.bin\n",
      "tokenizer config file saved in ./Checkpoints/Pre_processed/MarBertV2_d_0.1/checkpoint-1320/tokenizer_config.json\n",
      "Special tokens file saved in ./Checkpoints/Pre_processed/MarBertV2_d_0.1/checkpoint-1320/special_tokens_map.json\n",
      "  9%|▉         | 1485/16500 [05:18<43:44,  5.72it/s]   The following columns in the evaluation set  don't have a corresponding argument in `BertForSequenceClassification.forward` and have been ignored: text. If text are not expected by `BertForSequenceClassification.forward`,  you can safely ignore this message.\n",
      "***** Running Evaluation *****\n",
      "  Num examples = 1270\n",
      "  Batch size = 64\n",
      "\n",
      "  0%|          | 0/20 [00:00<?, ?it/s]\u001b[A\n",
      " 15%|█▌        | 3/20 [00:00<00:00, 19.08it/s]\u001b[A\n",
      " 25%|██▌       | 5/20 [00:00<00:01, 14.30it/s]\u001b[A\n",
      " 35%|███▌      | 7/20 [00:00<00:00, 14.64it/s]\u001b[A\n",
      " 45%|████▌     | 9/20 [00:00<00:00, 14.74it/s]\u001b[A\n",
      " 55%|█████▌    | 11/20 [00:00<00:00, 13.82it/s]\u001b[A\n",
      " 65%|██████▌   | 13/20 [00:00<00:00, 13.54it/s]\u001b[A\n",
      " 75%|███████▌  | 15/20 [00:01<00:00, 13.23it/s]\u001b[A\n",
      " 85%|████████▌ | 17/20 [00:01<00:00, 13.11it/s]\u001b[A\n",
      "                                                    \n",
      "  9%|▉         | 1485/16500 [05:19<43:44,  5.72it/s]\n",
      "100%|██████████| 20/20 [00:01<00:00, 13.31it/s]\u001b[A\n",
      "                                               \u001b[ASaving model checkpoint to ./Checkpoints/Pre_processed/MarBertV2_d_0.1/checkpoint-1485\n",
      "Configuration saved in ./Checkpoints/Pre_processed/MarBertV2_d_0.1/checkpoint-1485/config.json\n"
     ]
    },
    {
     "name": "stdout",
     "output_type": "stream",
     "text": [
      "{'eval_loss': 0.8932584524154663, 'eval_f1': 0.8296521505857104, 'eval_recall': 0.8376454851027828, 'eval_precision': 0.8234665936473166, 'eval_runtime': 1.5785, 'eval_samples_per_second': 804.568, 'eval_steps_per_second': 12.67, 'epoch': 9.0}\n"
     ]
    },
    {
     "name": "stderr",
     "output_type": "stream",
     "text": [
      "Model weights saved in ./Checkpoints/Pre_processed/MarBertV2_d_0.1/checkpoint-1485/pytorch_model.bin\n",
      "tokenizer config file saved in ./Checkpoints/Pre_processed/MarBertV2_d_0.1/checkpoint-1485/tokenizer_config.json\n",
      "Special tokens file saved in ./Checkpoints/Pre_processed/MarBertV2_d_0.1/checkpoint-1485/special_tokens_map.json\n",
      "  9%|▉         | 1501/16500 [05:30<44:25,  5.63it/s]   "
     ]
    },
    {
     "name": "stdout",
     "output_type": "stream",
     "text": [
      "{'loss': 0.0452, 'learning_rate': 1.8181818181818182e-05, 'epoch': 9.09}\n"
     ]
    },
    {
     "name": "stderr",
     "output_type": "stream",
     "text": [
      " 10%|█         | 1650/16500 [05:53<39:38,  6.24it/s]The following columns in the evaluation set  don't have a corresponding argument in `BertForSequenceClassification.forward` and have been ignored: text. If text are not expected by `BertForSequenceClassification.forward`,  you can safely ignore this message.\n",
      "***** Running Evaluation *****\n",
      "  Num examples = 1270\n",
      "  Batch size = 64\n",
      "\n",
      "  0%|          | 0/20 [00:00<?, ?it/s]\u001b[A\n",
      " 15%|█▌        | 3/20 [00:00<00:00, 18.93it/s]\u001b[A\n",
      " 25%|██▌       | 5/20 [00:00<00:01, 14.22it/s]\u001b[A\n",
      " 35%|███▌      | 7/20 [00:00<00:00, 14.59it/s]\u001b[A\n",
      " 45%|████▌     | 9/20 [00:00<00:00, 14.60it/s]\u001b[A\n",
      " 55%|█████▌    | 11/20 [00:00<00:00, 13.75it/s]\u001b[A\n",
      " 65%|██████▌   | 13/20 [00:00<00:00, 13.59it/s]\u001b[A\n",
      " 75%|███████▌  | 15/20 [00:01<00:00, 12.56it/s]\u001b[A\n",
      " 85%|████████▌ | 17/20 [00:01<00:00, 12.56it/s]\u001b[A\n",
      "                                                    \n",
      " 10%|█         | 1650/16500 [05:55<39:38,  6.24it/s]\n",
      "100%|██████████| 20/20 [00:01<00:00, 12.93it/s]\u001b[A\n",
      "                                               \u001b[ASaving model checkpoint to ./Checkpoints/Pre_processed/MarBertV2_d_0.1/checkpoint-1650\n",
      "Configuration saved in ./Checkpoints/Pre_processed/MarBertV2_d_0.1/checkpoint-1650/config.json\n"
     ]
    },
    {
     "name": "stdout",
     "output_type": "stream",
     "text": [
      "{'eval_loss': 0.8903450965881348, 'eval_f1': 0.8436068317912475, 'eval_recall': 0.8535688153110923, 'eval_precision': 0.8362527556465269, 'eval_runtime': 1.609, 'eval_samples_per_second': 789.327, 'eval_steps_per_second': 12.43, 'epoch': 10.0}\n"
     ]
    },
    {
     "name": "stderr",
     "output_type": "stream",
     "text": [
      "Model weights saved in ./Checkpoints/Pre_processed/MarBertV2_d_0.1/checkpoint-1650/pytorch_model.bin\n",
      "tokenizer config file saved in ./Checkpoints/Pre_processed/MarBertV2_d_0.1/checkpoint-1650/tokenizer_config.json\n",
      "Special tokens file saved in ./Checkpoints/Pre_processed/MarBertV2_d_0.1/checkpoint-1650/special_tokens_map.json\n",
      " 11%|█         | 1815/16500 [06:29<41:50,  5.85it/s]   The following columns in the evaluation set  don't have a corresponding argument in `BertForSequenceClassification.forward` and have been ignored: text. If text are not expected by `BertForSequenceClassification.forward`,  you can safely ignore this message.\n",
      "***** Running Evaluation *****\n",
      "  Num examples = 1270\n",
      "  Batch size = 64\n",
      "\n",
      "  0%|          | 0/20 [00:00<?, ?it/s]\u001b[A\n",
      " 15%|█▌        | 3/20 [00:00<00:00, 18.83it/s]\u001b[A\n",
      " 25%|██▌       | 5/20 [00:00<00:01, 14.19it/s]\u001b[A\n",
      " 35%|███▌      | 7/20 [00:00<00:00, 14.59it/s]\u001b[A\n",
      " 45%|████▌     | 9/20 [00:00<00:00, 14.71it/s]\u001b[A\n",
      " 55%|█████▌    | 11/20 [00:00<00:00, 13.76it/s]\u001b[A\n",
      " 65%|██████▌   | 13/20 [00:00<00:00, 13.57it/s]\u001b[A\n",
      " 75%|███████▌  | 15/20 [00:01<00:00, 13.31it/s]\u001b[A\n",
      " 85%|████████▌ | 17/20 [00:01<00:00, 13.14it/s]\u001b[A\n",
      "                                                    \n",
      " 11%|█         | 1815/16500 [06:31<41:50,  5.85it/s]\n",
      "100%|██████████| 20/20 [00:01<00:00, 13.28it/s]\u001b[A\n",
      "                                               \u001b[ASaving model checkpoint to ./Checkpoints/Pre_processed/MarBertV2_d_0.1/checkpoint-1815\n",
      "Configuration saved in ./Checkpoints/Pre_processed/MarBertV2_d_0.1/checkpoint-1815/config.json\n"
     ]
    },
    {
     "name": "stdout",
     "output_type": "stream",
     "text": [
      "{'eval_loss': 0.9524850249290466, 'eval_f1': 0.8357609340429181, 'eval_recall': 0.8416041661902911, 'eval_precision': 0.8308831672203765, 'eval_runtime': 1.5785, 'eval_samples_per_second': 804.541, 'eval_steps_per_second': 12.67, 'epoch': 11.0}\n"
     ]
    },
    {
     "name": "stderr",
     "output_type": "stream",
     "text": [
      "Model weights saved in ./Checkpoints/Pre_processed/MarBertV2_d_0.1/checkpoint-1815/pytorch_model.bin\n",
      "tokenizer config file saved in ./Checkpoints/Pre_processed/MarBertV2_d_0.1/checkpoint-1815/tokenizer_config.json\n",
      "Special tokens file saved in ./Checkpoints/Pre_processed/MarBertV2_d_0.1/checkpoint-1815/special_tokens_map.json\n",
      " 12%|█▏        | 1980/16500 [07:05<34:29,  7.02it/s]   The following columns in the evaluation set  don't have a corresponding argument in `BertForSequenceClassification.forward` and have been ignored: text. If text are not expected by `BertForSequenceClassification.forward`,  you can safely ignore this message.\n",
      "***** Running Evaluation *****\n",
      "  Num examples = 1270\n",
      "  Batch size = 64\n",
      "\n",
      "  0%|          | 0/20 [00:00<?, ?it/s]\u001b[A\n",
      " 15%|█▌        | 3/20 [00:00<00:00, 19.01it/s]\u001b[A\n",
      " 25%|██▌       | 5/20 [00:00<00:01, 14.34it/s]\u001b[A\n",
      " 35%|███▌      | 7/20 [00:00<00:00, 14.69it/s]\u001b[A\n",
      " 45%|████▌     | 9/20 [00:00<00:00, 14.79it/s]\u001b[A\n",
      " 55%|█████▌    | 11/20 [00:00<00:00, 13.86it/s]\u001b[A\n",
      " 65%|██████▌   | 13/20 [00:00<00:00, 13.59it/s]\u001b[A\n",
      " 75%|███████▌  | 15/20 [00:01<00:00, 13.37it/s]\u001b[A\n",
      " 85%|████████▌ | 17/20 [00:01<00:00, 13.18it/s]\u001b[A\n",
      "                                                    \n",
      " 12%|█▏        | 1980/16500 [07:07<34:29,  7.02it/s]\n",
      "100%|██████████| 20/20 [00:01<00:00, 13.02it/s]\u001b[A\n",
      "                                               \u001b[ASaving model checkpoint to ./Checkpoints/Pre_processed/MarBertV2_d_0.1/checkpoint-1980\n",
      "Configuration saved in ./Checkpoints/Pre_processed/MarBertV2_d_0.1/checkpoint-1980/config.json\n"
     ]
    },
    {
     "name": "stdout",
     "output_type": "stream",
     "text": [
      "{'eval_loss': 1.0734912157058716, 'eval_f1': 0.8366319348732933, 'eval_recall': 0.8558840006402488, 'eval_precision': 0.82652542083966, 'eval_runtime': 1.5933, 'eval_samples_per_second': 797.099, 'eval_steps_per_second': 12.553, 'epoch': 12.0}\n"
     ]
    },
    {
     "name": "stderr",
     "output_type": "stream",
     "text": [
      "Model weights saved in ./Checkpoints/Pre_processed/MarBertV2_d_0.1/checkpoint-1980/pytorch_model.bin\n",
      "tokenizer config file saved in ./Checkpoints/Pre_processed/MarBertV2_d_0.1/checkpoint-1980/tokenizer_config.json\n",
      "Special tokens file saved in ./Checkpoints/Pre_processed/MarBertV2_d_0.1/checkpoint-1980/special_tokens_map.json\n",
      " 12%|█▏        | 2001/16500 [07:18<36:19,  6.65it/s]  "
     ]
    },
    {
     "name": "stdout",
     "output_type": "stream",
     "text": [
      "{'loss': 0.0128, 'learning_rate': 1.7575757575757576e-05, 'epoch': 12.12}\n"
     ]
    },
    {
     "name": "stderr",
     "output_type": "stream",
     "text": [
      " 13%|█▎        | 2144/16500 [07:41<31:29,  7.60it/s]"
     ]
    }
   ],
   "source": [
    "trainer.train()"
   ]
  },
  {
   "cell_type": "code",
   "execution_count": 1,
   "id": "ae4163e4-0d66-4dba-99ea-e1097b4dcd26",
   "metadata": {},
   "outputs": [
    {
     "name": "stdout",
     "output_type": "stream",
     "text": [
      "Mon Mar 28 03:17:45 2022       \n",
      "+-----------------------------------------------------------------------------+\n",
      "| NVIDIA-SMI 460.32.03    Driver Version: 460.32.03    CUDA Version: 11.2     |\n",
      "|-------------------------------+----------------------+----------------------+\n",
      "| GPU  Name        Persistence-M| Bus-Id        Disp.A | Volatile Uncorr. ECC |\n",
      "| Fan  Temp  Perf  Pwr:Usage/Cap|         Memory-Usage | GPU-Util  Compute M. |\n",
      "|                               |                      |               MIG M. |\n",
      "|===============================+======================+======================|\n",
      "|   0  Tesla V100-SXM2...  Off  | 00000000:1A:00.0 Off |                    0 |\n",
      "| N/A   41C    P0    69W / 300W |  31816MiB / 32510MiB |      0%      Default |\n",
      "|                               |                      |                  N/A |\n",
      "+-------------------------------+----------------------+----------------------+\n",
      "|   1  Tesla V100-SXM2...  Off  | 00000000:1C:00.0 Off |                    0 |\n",
      "| N/A   30C    P0    42W / 300W |      0MiB / 32510MiB |      0%      Default |\n",
      "|                               |                      |                  N/A |\n",
      "+-------------------------------+----------------------+----------------------+\n",
      "|   2  Tesla V100-SXM2...  Off  | 00000000:1D:00.0 Off |                    0 |\n",
      "| N/A   36C    P0    54W / 300W |  31676MiB / 32510MiB |      0%      Default |\n",
      "|                               |                      |                  N/A |\n",
      "+-------------------------------+----------------------+----------------------+\n",
      "|   3  Tesla V100-SXM2...  Off  | 00000000:1E:00.0 Off |                    0 |\n",
      "| N/A   36C    P0    55W / 300W |   1156MiB / 32510MiB |      6%      Default |\n",
      "|                               |                      |                  N/A |\n",
      "+-------------------------------+----------------------+----------------------+\n",
      "                                                                               \n",
      "+-----------------------------------------------------------------------------+\n",
      "| Processes:                                                                  |\n",
      "|  GPU   GI   CI        PID   Type   Process name                  GPU Memory |\n",
      "|        ID   ID                                                   Usage      |\n",
      "|=============================================================================|\n",
      "|    0   N/A  N/A    175692      C   python                          31805MiB |\n",
      "|    2   N/A  N/A    175692      C   python                          31665MiB |\n",
      "|    3   N/A  N/A    179740      C   python                           1153MiB |\n",
      "+-----------------------------------------------------------------------------+\n"
     ]
    }
   ],
   "source": [
    "!nvidia-smi"
   ]
  },
  {
   "cell_type": "code",
   "execution_count": 2,
   "id": "6a0c2081-6b4b-4aae-a119-4676cb47eb1f",
   "metadata": {},
   "outputs": [
    {
     "data": {
      "text/plain": [
       "51723"
      ]
     },
     "execution_count": 2,
     "metadata": {},
     "output_type": "execute_result"
    }
   ],
   "source": [
    "import os\n",
    "os.getpid()"
   ]
  },
  {
   "cell_type": "markdown",
   "id": "b7218762",
   "metadata": {},
   "source": [
    "## Dropout = 0.5, preprocessing"
   ]
  },
  {
   "cell_type": "code",
   "execution_count": 2,
   "id": "411b2e4f",
   "metadata": {},
   "outputs": [
    {
     "name": "stdout",
     "output_type": "stream",
     "text": [
      "Pre-Processed\n"
     ]
    },
    {
     "name": "stderr",
     "output_type": "stream",
     "text": [
      "Using custom data configuration default-87434f9d42f04810\n",
      "Reusing dataset csv (/home/ahmad.shapiro/.cache/huggingface/datasets/csv/default-87434f9d42f04810/0.0.0/433e0ccc46f9880962cc2b12065189766fbb2bee57a221866138fb9203c83519)\n"
     ]
    },
    {
     "data": {
      "application/vnd.jupyter.widget-view+json": {
       "model_id": "773d64fe3a5a4a74ae1c6fb5b6de3725",
       "version_major": 2,
       "version_minor": 0
      },
      "text/plain": [
       "  0%|          | 0/2 [00:00<?, ?it/s]"
      ]
     },
     "metadata": {},
     "output_type": "display_data"
    },
    {
     "name": "stderr",
     "output_type": "stream",
     "text": [
      "Loading cached processed dataset at /home/ahmad.shapiro/.cache/huggingface/datasets/csv/default-87434f9d42f04810/0.0.0/433e0ccc46f9880962cc2b12065189766fbb2bee57a221866138fb9203c83519/cache-f26f742b9d08934a.arrow\n"
     ]
    },
    {
     "data": {
      "application/vnd.jupyter.widget-view+json": {
       "model_id": "0b8ff07133054b73b0598a768a29516b",
       "version_major": 2,
       "version_minor": 0
      },
      "text/plain": [
       "  0%|          | 0/2 [00:00<?, ?ba/s]"
      ]
     },
     "metadata": {},
     "output_type": "display_data"
    },
    {
     "name": "stderr",
     "output_type": "stream",
     "text": [
      "Some weights of the model checkpoint at UBC-NLP/MARBERTv2 were not used when initializing BertForSequenceClassification: ['cls.predictions.bias', 'cls.predictions.transform.dense.bias', 'cls.predictions.transform.LayerNorm.weight', 'cls.predictions.transform.LayerNorm.bias', 'cls.predictions.transform.dense.weight', 'cls.predictions.decoder.bias', 'cls.seq_relationship.bias', 'cls.predictions.decoder.weight', 'cls.seq_relationship.weight']\n",
      "- This IS expected if you are initializing BertForSequenceClassification from the checkpoint of a model trained on another task or with another architecture (e.g. initializing a BertForSequenceClassification model from a BertForPreTraining model).\n",
      "- This IS NOT expected if you are initializing BertForSequenceClassification from the checkpoint of a model that you expect to be exactly identical (initializing a BertForSequenceClassification model from a BertForSequenceClassification model).\n",
      "Some weights of BertForSequenceClassification were not initialized from the model checkpoint at UBC-NLP/MARBERTv2 and are newly initialized: ['classifier.weight', 'classifier.bias']\n",
      "You should probably TRAIN this model on a down-stream task to be able to use it for predictions and inference.\n"
     ]
    }
   ],
   "source": [
    "config = {'model_name' : \"MarBertV2\",\n",
    "          'model_link' : \"UBC-NLP/MARBERTv2\",\n",
    "          'pre_proccessed' : True,\n",
    "          'patience' : 10,\n",
    "          'seed' : 20, \n",
    "          'task' : \"A\",\n",
    "          'epochs' : 100, \n",
    "          'dropout_ratio' : 0.5}\n",
    "trainer = run_baseline(**config)"
   ]
  },
  {
   "cell_type": "code",
   "execution_count": null,
   "id": "db7885fc",
   "metadata": {
    "scrolled": true
   },
   "outputs": [
    {
     "name": "stderr",
     "output_type": "stream",
     "text": [
      "The following columns in the training set  don't have a corresponding argument in `BertForSequenceClassification.forward` and have been ignored: text. If text are not expected by `BertForSequenceClassification.forward`,  you can safely ignore this message.\n",
      "/home/ahmad.shapiro/anaconda3/envs/pytorch/lib/python3.9/site-packages/transformers/optimization.py:306: FutureWarning: This implementation of AdamW is deprecated and will be removed in a future version. Use the PyTorch implementation torch.optim.AdamW instead, or set `no_deprecation_warning=True` to disable this warning\n",
      "  warnings.warn(\n",
      "***** Running training *****\n",
      "  Num examples = 8887\n",
      "  Num Epochs = 100\n",
      "  Instantaneous batch size per device = 4\n",
      "  Total train batch size (w. parallel, distributed & accumulation) = 4\n",
      "  Gradient Accumulation steps = 1\n",
      "  Total optimization steps = 222200\n"
     ]
    },
    {
     "data": {
      "text/html": [
       "\n",
       "    <div>\n",
       "      \n",
       "      <progress value='20642' max='222200' style='width:300px; height:20px; vertical-align: middle;'></progress>\n",
       "      [ 20642/222200 22:23 < 3:38:43, 15.36 it/s, Epoch 9.29/100]\n",
       "    </div>\n",
       "    <table border=\"1\" class=\"dataframe\">\n",
       "  <thead>\n",
       " <tr style=\"text-align: left;\">\n",
       "      <th>Epoch</th>\n",
       "      <th>Training Loss</th>\n",
       "      <th>Validation Loss</th>\n",
       "      <th>F1</th>\n",
       "      <th>Recall</th>\n",
       "      <th>Precision</th>\n",
       "    </tr>\n",
       "  </thead>\n",
       "  <tbody>\n",
       "    <tr>\n",
       "      <td>1</td>\n",
       "      <td>0.520100</td>\n",
       "      <td>0.441966</td>\n",
       "      <td>0.842514</td>\n",
       "      <td>0.847544</td>\n",
       "      <td>0.838187</td>\n",
       "    </tr>\n",
       "    <tr>\n",
       "      <td>2</td>\n",
       "      <td>0.351000</td>\n",
       "      <td>0.677676</td>\n",
       "      <td>0.831821</td>\n",
       "      <td>0.842845</td>\n",
       "      <td>0.824098</td>\n",
       "    </tr>\n",
       "    <tr>\n",
       "      <td>3</td>\n",
       "      <td>0.228200</td>\n",
       "      <td>0.788640</td>\n",
       "      <td>0.834580</td>\n",
       "      <td>0.841770</td>\n",
       "      <td>0.828837</td>\n",
       "    </tr>\n",
       "    <tr>\n",
       "      <td>4</td>\n",
       "      <td>0.110700</td>\n",
       "      <td>1.013826</td>\n",
       "      <td>0.836087</td>\n",
       "      <td>0.849116</td>\n",
       "      <td>0.827506</td>\n",
       "    </tr>\n",
       "    <tr>\n",
       "      <td>5</td>\n",
       "      <td>0.106400</td>\n",
       "      <td>1.118371</td>\n",
       "      <td>0.832940</td>\n",
       "      <td>0.836488</td>\n",
       "      <td>0.829762</td>\n",
       "    </tr>\n",
       "    <tr>\n",
       "      <td>6</td>\n",
       "      <td>0.080800</td>\n",
       "      <td>1.210677</td>\n",
       "      <td>0.826514</td>\n",
       "      <td>0.835336</td>\n",
       "      <td>0.819902</td>\n",
       "    </tr>\n",
       "    <tr>\n",
       "      <td>7</td>\n",
       "      <td>0.055800</td>\n",
       "      <td>1.316104</td>\n",
       "      <td>0.830818</td>\n",
       "      <td>0.837480</td>\n",
       "      <td>0.825425</td>\n",
       "    </tr>\n",
       "    <tr>\n",
       "      <td>8</td>\n",
       "      <td>0.034400</td>\n",
       "      <td>1.326645</td>\n",
       "      <td>0.814238</td>\n",
       "      <td>0.839140</td>\n",
       "      <td>0.804970</td>\n",
       "    </tr>\n",
       "    <tr>\n",
       "      <td>9</td>\n",
       "      <td>0.038300</td>\n",
       "      <td>1.698822</td>\n",
       "      <td>0.806230</td>\n",
       "      <td>0.821728</td>\n",
       "      <td>0.797575</td>\n",
       "    </tr>\n",
       "  </tbody>\n",
       "</table><p>"
      ],
      "text/plain": [
       "<IPython.core.display.HTML object>"
      ]
     },
     "metadata": {},
     "output_type": "display_data"
    },
    {
     "name": "stderr",
     "output_type": "stream",
     "text": [
      "The following columns in the evaluation set  don't have a corresponding argument in `BertForSequenceClassification.forward` and have been ignored: text. If text are not expected by `BertForSequenceClassification.forward`,  you can safely ignore this message.\n",
      "***** Running Evaluation *****\n",
      "  Num examples = 1270\n",
      "  Batch size = 4\n",
      "Saving model checkpoint to ./Checkpoints/Pre_processed/MarBertV2_d_0.5/checkpoint-2222\n",
      "Configuration saved in ./Checkpoints/Pre_processed/MarBertV2_d_0.5/checkpoint-2222/config.json\n",
      "Model weights saved in ./Checkpoints/Pre_processed/MarBertV2_d_0.5/checkpoint-2222/pytorch_model.bin\n",
      "tokenizer config file saved in ./Checkpoints/Pre_processed/MarBertV2_d_0.5/checkpoint-2222/tokenizer_config.json\n",
      "Special tokens file saved in ./Checkpoints/Pre_processed/MarBertV2_d_0.5/checkpoint-2222/special_tokens_map.json\n",
      "The following columns in the evaluation set  don't have a corresponding argument in `BertForSequenceClassification.forward` and have been ignored: text. If text are not expected by `BertForSequenceClassification.forward`,  you can safely ignore this message.\n",
      "***** Running Evaluation *****\n",
      "  Num examples = 1270\n",
      "  Batch size = 4\n",
      "Saving model checkpoint to ./Checkpoints/Pre_processed/MarBertV2_d_0.5/checkpoint-4444\n",
      "Configuration saved in ./Checkpoints/Pre_processed/MarBertV2_d_0.5/checkpoint-4444/config.json\n",
      "Model weights saved in ./Checkpoints/Pre_processed/MarBertV2_d_0.5/checkpoint-4444/pytorch_model.bin\n",
      "tokenizer config file saved in ./Checkpoints/Pre_processed/MarBertV2_d_0.5/checkpoint-4444/tokenizer_config.json\n",
      "Special tokens file saved in ./Checkpoints/Pre_processed/MarBertV2_d_0.5/checkpoint-4444/special_tokens_map.json\n",
      "The following columns in the evaluation set  don't have a corresponding argument in `BertForSequenceClassification.forward` and have been ignored: text. If text are not expected by `BertForSequenceClassification.forward`,  you can safely ignore this message.\n",
      "***** Running Evaluation *****\n",
      "  Num examples = 1270\n",
      "  Batch size = 4\n",
      "Saving model checkpoint to ./Checkpoints/Pre_processed/MarBertV2_d_0.5/checkpoint-6666\n",
      "Configuration saved in ./Checkpoints/Pre_processed/MarBertV2_d_0.5/checkpoint-6666/config.json\n",
      "Model weights saved in ./Checkpoints/Pre_processed/MarBertV2_d_0.5/checkpoint-6666/pytorch_model.bin\n",
      "tokenizer config file saved in ./Checkpoints/Pre_processed/MarBertV2_d_0.5/checkpoint-6666/tokenizer_config.json\n",
      "Special tokens file saved in ./Checkpoints/Pre_processed/MarBertV2_d_0.5/checkpoint-6666/special_tokens_map.json\n",
      "The following columns in the evaluation set  don't have a corresponding argument in `BertForSequenceClassification.forward` and have been ignored: text. If text are not expected by `BertForSequenceClassification.forward`,  you can safely ignore this message.\n",
      "***** Running Evaluation *****\n",
      "  Num examples = 1270\n",
      "  Batch size = 4\n",
      "Saving model checkpoint to ./Checkpoints/Pre_processed/MarBertV2_d_0.5/checkpoint-8888\n",
      "Configuration saved in ./Checkpoints/Pre_processed/MarBertV2_d_0.5/checkpoint-8888/config.json\n",
      "Model weights saved in ./Checkpoints/Pre_processed/MarBertV2_d_0.5/checkpoint-8888/pytorch_model.bin\n",
      "tokenizer config file saved in ./Checkpoints/Pre_processed/MarBertV2_d_0.5/checkpoint-8888/tokenizer_config.json\n",
      "Special tokens file saved in ./Checkpoints/Pre_processed/MarBertV2_d_0.5/checkpoint-8888/special_tokens_map.json\n",
      "The following columns in the evaluation set  don't have a corresponding argument in `BertForSequenceClassification.forward` and have been ignored: text. If text are not expected by `BertForSequenceClassification.forward`,  you can safely ignore this message.\n",
      "***** Running Evaluation *****\n",
      "  Num examples = 1270\n",
      "  Batch size = 4\n",
      "Saving model checkpoint to ./Checkpoints/Pre_processed/MarBertV2_d_0.5/checkpoint-11110\n",
      "Configuration saved in ./Checkpoints/Pre_processed/MarBertV2_d_0.5/checkpoint-11110/config.json\n",
      "Model weights saved in ./Checkpoints/Pre_processed/MarBertV2_d_0.5/checkpoint-11110/pytorch_model.bin\n",
      "tokenizer config file saved in ./Checkpoints/Pre_processed/MarBertV2_d_0.5/checkpoint-11110/tokenizer_config.json\n",
      "Special tokens file saved in ./Checkpoints/Pre_processed/MarBertV2_d_0.5/checkpoint-11110/special_tokens_map.json\n",
      "The following columns in the evaluation set  don't have a corresponding argument in `BertForSequenceClassification.forward` and have been ignored: text. If text are not expected by `BertForSequenceClassification.forward`,  you can safely ignore this message.\n",
      "***** Running Evaluation *****\n",
      "  Num examples = 1270\n",
      "  Batch size = 4\n",
      "Saving model checkpoint to ./Checkpoints/Pre_processed/MarBertV2_d_0.5/checkpoint-13332\n",
      "Configuration saved in ./Checkpoints/Pre_processed/MarBertV2_d_0.5/checkpoint-13332/config.json\n",
      "Model weights saved in ./Checkpoints/Pre_processed/MarBertV2_d_0.5/checkpoint-13332/pytorch_model.bin\n",
      "tokenizer config file saved in ./Checkpoints/Pre_processed/MarBertV2_d_0.5/checkpoint-13332/tokenizer_config.json\n",
      "Special tokens file saved in ./Checkpoints/Pre_processed/MarBertV2_d_0.5/checkpoint-13332/special_tokens_map.json\n",
      "The following columns in the evaluation set  don't have a corresponding argument in `BertForSequenceClassification.forward` and have been ignored: text. If text are not expected by `BertForSequenceClassification.forward`,  you can safely ignore this message.\n",
      "***** Running Evaluation *****\n",
      "  Num examples = 1270\n",
      "  Batch size = 4\n",
      "Saving model checkpoint to ./Checkpoints/Pre_processed/MarBertV2_d_0.5/checkpoint-15554\n",
      "Configuration saved in ./Checkpoints/Pre_processed/MarBertV2_d_0.5/checkpoint-15554/config.json\n",
      "Model weights saved in ./Checkpoints/Pre_processed/MarBertV2_d_0.5/checkpoint-15554/pytorch_model.bin\n",
      "tokenizer config file saved in ./Checkpoints/Pre_processed/MarBertV2_d_0.5/checkpoint-15554/tokenizer_config.json\n",
      "Special tokens file saved in ./Checkpoints/Pre_processed/MarBertV2_d_0.5/checkpoint-15554/special_tokens_map.json\n",
      "The following columns in the evaluation set  don't have a corresponding argument in `BertForSequenceClassification.forward` and have been ignored: text. If text are not expected by `BertForSequenceClassification.forward`,  you can safely ignore this message.\n",
      "***** Running Evaluation *****\n",
      "  Num examples = 1270\n",
      "  Batch size = 4\n",
      "Saving model checkpoint to ./Checkpoints/Pre_processed/MarBertV2_d_0.5/checkpoint-17776\n",
      "Configuration saved in ./Checkpoints/Pre_processed/MarBertV2_d_0.5/checkpoint-17776/config.json\n",
      "Model weights saved in ./Checkpoints/Pre_processed/MarBertV2_d_0.5/checkpoint-17776/pytorch_model.bin\n",
      "tokenizer config file saved in ./Checkpoints/Pre_processed/MarBertV2_d_0.5/checkpoint-17776/tokenizer_config.json\n",
      "Special tokens file saved in ./Checkpoints/Pre_processed/MarBertV2_d_0.5/checkpoint-17776/special_tokens_map.json\n",
      "The following columns in the evaluation set  don't have a corresponding argument in `BertForSequenceClassification.forward` and have been ignored: text. If text are not expected by `BertForSequenceClassification.forward`,  you can safely ignore this message.\n",
      "***** Running Evaluation *****\n",
      "  Num examples = 1270\n",
      "  Batch size = 4\n",
      "Saving model checkpoint to ./Checkpoints/Pre_processed/MarBertV2_d_0.5/checkpoint-19998\n",
      "Configuration saved in ./Checkpoints/Pre_processed/MarBertV2_d_0.5/checkpoint-19998/config.json\n",
      "Model weights saved in ./Checkpoints/Pre_processed/MarBertV2_d_0.5/checkpoint-19998/pytorch_model.bin\n",
      "tokenizer config file saved in ./Checkpoints/Pre_processed/MarBertV2_d_0.5/checkpoint-19998/tokenizer_config.json\n",
      "Special tokens file saved in ./Checkpoints/Pre_processed/MarBertV2_d_0.5/checkpoint-19998/special_tokens_map.json\n"
     ]
    }
   ],
   "source": [
    "trainer.train()"
   ]
  },
  {
   "cell_type": "code",
   "execution_count": null,
   "id": "308a61e3",
   "metadata": {},
   "outputs": [],
   "source": []
  }
 ],
 "metadata": {
  "kernelspec": {
   "display_name": "Python 3",
   "language": "python",
   "name": "python3"
  },
  "language_info": {
   "codemirror_mode": {
    "name": "ipython",
    "version": 3
   },
   "file_extension": ".py",
   "mimetype": "text/x-python",
   "name": "python",
   "nbconvert_exporter": "python",
   "pygments_lexer": "ipython3",
   "version": "3.7.5"
  }
 },
 "nbformat": 4,
 "nbformat_minor": 5
}
