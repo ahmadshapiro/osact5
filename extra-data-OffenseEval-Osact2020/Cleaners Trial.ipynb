{
 "cells": [
  {
   "cell_type": "code",
   "execution_count": 1,
   "id": "62586040",
   "metadata": {},
   "outputs": [],
   "source": [
    "from clean_helpers import apply_cleaning"
   ]
  },
  {
   "cell_type": "code",
   "execution_count": 2,
   "id": "4a2ee1d1",
   "metadata": {},
   "outputs": [],
   "source": [
    "from utils import getData"
   ]
  },
  {
   "cell_type": "code",
   "execution_count": null,
   "id": "76acae4e",
   "metadata": {},
   "outputs": [],
   "source": [
    "for task in [\"A\", \"B\", \"C\"]:\n",
    "    train, test = getData(sub_task=f\"{task}\", return_type=\"pandas\") \n",
    "    train_text_clean = apply_cleaning(list(train.text.values))\n",
    "    train['text'] = train_text_clean\n",
    "    \n",
    "    test_text_clean = apply_cleaning(list(test.text.values))\n",
    "    test['text'] = test_text_clean"
   ]
  },
  {
   "cell_type": "code",
   "execution_count": 12,
   "id": "4f5933dd",
   "metadata": {},
   "outputs": [],
   "source": [
    "train, test = getData(sub_task=\"A\", return_type=\"pandas\")"
   ]
  },
  {
   "cell_type": "code",
   "execution_count": 4,
   "id": "be1b145f",
   "metadata": {},
   "outputs": [],
   "source": [
    "texts = list(train.text.values)"
   ]
  },
  {
   "cell_type": "code",
   "execution_count": 6,
   "id": "020474bd",
   "metadata": {},
   "outputs": [],
   "source": [
    "texts_cleaned = apply_cleaning(texts)"
   ]
  },
  {
   "cell_type": "code",
   "execution_count": 10,
   "id": "6282c4a7",
   "metadata": {},
   "outputs": [],
   "source": [
    "train['text'] = texts_cleaned"
   ]
  },
  {
   "cell_type": "code",
   "execution_count": 11,
   "id": "36caaee2",
   "metadata": {},
   "outputs": [
    {
     "data": {
      "text/html": [
       "<div>\n",
       "<style scoped>\n",
       "    .dataframe tbody tr th:only-of-type {\n",
       "        vertical-align: middle;\n",
       "    }\n",
       "\n",
       "    .dataframe tbody tr th {\n",
       "        vertical-align: top;\n",
       "    }\n",
       "\n",
       "    .dataframe thead th {\n",
       "        text-align: right;\n",
       "    }\n",
       "</style>\n",
       "<table border=\"1\" class=\"dataframe\">\n",
       "  <thead>\n",
       "    <tr style=\"text-align: right;\">\n",
       "      <th></th>\n",
       "      <th>text</th>\n",
       "      <th>labels</th>\n",
       "    </tr>\n",
       "  </thead>\n",
       "  <tbody>\n",
       "    <tr>\n",
       "      <th>0</th>\n",
       "      <td>ردينا ع التطنز 😏 👊</td>\n",
       "      <td>1</td>\n",
       "    </tr>\n",
       "    <tr>\n",
       "      <th>1</th>\n",
       "      <td>وصارت فطاير البقالات غذاء صحي 👎</td>\n",
       "      <td>0</td>\n",
       "    </tr>\n",
       "    <tr>\n",
       "      <th>2</th>\n",
       "      <td>روحي لبريده تلقين اشباه كثير بس ماحد زيكم مشفو...</td>\n",
       "      <td>1</td>\n",
       "    </tr>\n",
       "    <tr>\n",
       "      <th>3</th>\n",
       "      <td>مش باين حاجه خالص 😣 مش عارف بقى 😔</td>\n",
       "      <td>0</td>\n",
       "    </tr>\n",
       "    <tr>\n",
       "      <th>4</th>\n",
       "      <td>اليوم الاثنين 👏 يقولك% 90 من المسلمين عندهم خا...</td>\n",
       "      <td>0</td>\n",
       "    </tr>\n",
       "    <tr>\n",
       "      <th>...</th>\n",
       "      <td>...</td>\n",
       "      <td>...</td>\n",
       "    </tr>\n",
       "    <tr>\n",
       "      <th>8882</th>\n",
       "      <td>الله يلعنهم 🤢</td>\n",
       "      <td>1</td>\n",
       "    </tr>\n",
       "    <tr>\n",
       "      <th>8883</th>\n",
       "      <td>واحد سال زوجته بعد كم سنة زواج- حبيبتي كم رجال...</td>\n",
       "      <td>0</td>\n",
       "    </tr>\n",
       "    <tr>\n",
       "      <th>8884</th>\n",
       "      <td>يالله روح زي الشاطر واحذف الشو الي سويته بس عش...</td>\n",
       "      <td>1</td>\n",
       "    </tr>\n",
       "    <tr>\n",
       "      <th>8885</th>\n",
       "      <td>لما الكلاب تهوهو عليك 🐶 🐶 وانت اللى مربيها 🙋 🙋...</td>\n",
       "      <td>0</td>\n",
       "    </tr>\n",
       "    <tr>\n",
       "      <th>8886</th>\n",
       "      <td>بايع الكليجاالله ياخذكم ي بنات خلوني اترزق الل...</td>\n",
       "      <td>0</td>\n",
       "    </tr>\n",
       "  </tbody>\n",
       "</table>\n",
       "<p>8887 rows × 2 columns</p>\n",
       "</div>"
      ],
      "text/plain": [
       "                                                   text  labels\n",
       "0                                    ردينا ع التطنز 😏 👊       1\n",
       "1                       وصارت فطاير البقالات غذاء صحي 👎       0\n",
       "2     روحي لبريده تلقين اشباه كثير بس ماحد زيكم مشفو...       1\n",
       "3                     مش باين حاجه خالص 😣 مش عارف بقى 😔       0\n",
       "4     اليوم الاثنين 👏 يقولك% 90 من المسلمين عندهم خا...       0\n",
       "...                                                 ...     ...\n",
       "8882                                      الله يلعنهم 🤢       1\n",
       "8883  واحد سال زوجته بعد كم سنة زواج- حبيبتي كم رجال...       0\n",
       "8884  يالله روح زي الشاطر واحذف الشو الي سويته بس عش...       1\n",
       "8885  لما الكلاب تهوهو عليك 🐶 🐶 وانت اللى مربيها 🙋 🙋...       0\n",
       "8886  بايع الكليجاالله ياخذكم ي بنات خلوني اترزق الل...       0\n",
       "\n",
       "[8887 rows x 2 columns]"
      ]
     },
     "execution_count": 11,
     "metadata": {},
     "output_type": "execute_result"
    }
   ],
   "source": []
  },
  {
   "cell_type": "code",
   "execution_count": null,
   "id": "432f8bf8",
   "metadata": {},
   "outputs": [],
   "source": []
  }
 ],
 "metadata": {
  "kernelspec": {
   "display_name": "Python [conda env:pytorch]",
   "language": "python",
   "name": "conda-env-pytorch-py"
  },
  "language_info": {
   "codemirror_mode": {
    "name": "ipython",
    "version": 3
   },
   "file_extension": ".py",
   "mimetype": "text/x-python",
   "name": "python",
   "nbconvert_exporter": "python",
   "pygments_lexer": "ipython3",
   "version": "3.9.7"
  }
 },
 "nbformat": 4,
 "nbformat_minor": 5
}
