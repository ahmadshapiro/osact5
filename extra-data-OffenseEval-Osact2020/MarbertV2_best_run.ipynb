{
 "cells": [
  {
   "cell_type": "markdown",
   "id": "7380c23f-c9c8-42ce-88d8-145cdda85fab",
   "metadata": {},
   "source": [
    "# All Data"
   ]
  },
  {
   "cell_type": "code",
   "execution_count": 2,
   "id": "9f5244c9-16af-4257-8255-c6dc37dd5c3f",
   "metadata": {
    "scrolled": true,
    "tags": []
   },
   "outputs": [
    {
     "name": "stderr",
     "output_type": "stream",
     "text": [
      "100%|██████████| 2/2 [00:00<00:00, 559.05it/s]\n"
     ]
    }
   ],
   "source": [
    "f1 = load_metric(\"f1\")\n",
    "recall = load_metric(\"recall\")\n",
    "precision =  load_metric(\"precision\")\n",
    "def preprocess_function(examples, tok):\n",
    "    return tok(examples[\"text\"], truncation=True, max_length=512)\n",
    "\n",
    "\n",
    "def compute_metrics(p):    \n",
    "    predictions, labels = p\n",
    "    predictions = np.argmax(predictions, axis=1)\n",
    "    metric = f1.compute(predictions=predictions, references=labels, average=\"macro\")\n",
    "    metric.update(recall.compute(predictions=predictions, references=labels, average=\"macro\"))\n",
    "    metric.update(precision.compute(predictions=predictions, references=labels, average=\"macro\"))\n",
    "    return metric\n",
    "data = getData(sub_task = f\"A\", return_type = \"dataset\", pre_proccessed = True)\n",
    "tokenizer = AutoTokenizer.from_pretrained(\"/scratch/mt/ashapiro/Hate_Speech/Models/Marbertv2\")\n",
    "data_collator = DataCollatorWithPadding(tokenizer=tokenizer)\n",
    "tokenized_data = data.map(preprocess_function,fn_kwargs = {'tok':tokenizer}, batched=True)"
   ]
  },
  {
   "cell_type": "code",
   "execution_count": 3,
   "id": "10ec0651-a9f8-455d-beb9-44a1b69e5929",
   "metadata": {},
   "outputs": [
    {
     "data": {
      "text/plain": [
       "DatasetDict({\n",
       "    train: Dataset({\n",
       "        features: ['text', 'labels'],\n",
       "        num_rows: 44324\n",
       "    })\n",
       "    test: Dataset({\n",
       "        features: ['text', 'labels'],\n",
       "        num_rows: 1270\n",
       "    })\n",
       "})"
      ]
     },
     "execution_count": 3,
     "metadata": {},
     "output_type": "execute_result"
    }
   ],
   "source": [
    "data"
   ]
  },
  {
   "cell_type": "code",
   "execution_count": 4,
   "id": "035dacf4-eb4e-4189-83a3-260755d4d23f",
   "metadata": {
    "tags": []
   },
   "outputs": [
    {
     "name": "stderr",
     "output_type": "stream",
     "text": [
      "Some weights of the model checkpoint at /scratch/mt/ashapiro/Hate_Speech/Models/Marbertv2 were not used when initializing BertForSequenceClassification: ['cls.seq_relationship.bias', 'cls.predictions.transform.LayerNorm.weight', 'cls.predictions.decoder.bias', 'cls.predictions.transform.dense.bias', 'cls.seq_relationship.weight', 'cls.predictions.transform.LayerNorm.bias', 'cls.predictions.decoder.weight', 'cls.predictions.bias', 'cls.predictions.transform.dense.weight']\n",
      "- This IS expected if you are initializing BertForSequenceClassification from the checkpoint of a model trained on another task or with another architecture (e.g. initializing a BertForSequenceClassification model from a BertForPreTraining model).\n",
      "- This IS NOT expected if you are initializing BertForSequenceClassification from the checkpoint of a model that you expect to be exactly identical (initializing a BertForSequenceClassification model from a BertForSequenceClassification model).\n",
      "Some weights of BertForSequenceClassification were not initialized from the model checkpoint at /scratch/mt/ashapiro/Hate_Speech/Models/Marbertv2 and are newly initialized: ['classifier.weight', 'classifier.bias']\n",
      "You should probably TRAIN this model on a down-stream task to be able to use it for predictions and inference.\n"
     ]
    }
   ],
   "source": [
    "model = AutoModelForSequenceClassification.from_pretrained(\"/scratch/mt/ashapiro/Hate_Speech/Models/Marbertv2\", num_labels=2)\n",
    "training_args = TrainingArguments(\n",
    "    output_dir=\"/scratch/mt/ashapiro/Hate_Speech/All_data_run/\",\n",
    "    learning_rate=2e-05,\n",
    "    per_device_train_batch_size=16,\n",
    "    per_device_eval_batch_size=4,\n",
    "    evaluation_strategy=\"epoch\",\n",
    "    save_strategy = \"epoch\",\n",
    "    metric_for_best_model=\"f1\",\n",
    "    num_train_epochs=100,\n",
    "    weight_decay=0.001,\n",
    "    load_best_model_at_end=True,\n",
    "    group_by_length = True, \n",
    "    seed = 20,\n",
    "    report_to = 'none'\n",
    "    )\n",
    "trainer = Trainer(\n",
    "    model=model,\n",
    "    args=training_args,\n",
    "    train_dataset=tokenized_data[\"train\"],\n",
    "    eval_dataset=tokenized_data[\"test\"],\n",
    "    tokenizer=tokenizer,\n",
    "    data_collator=data_collator,\n",
    "    compute_metrics=compute_metrics,\n",
    "    callbacks = [EarlyStoppingCallback(early_stopping_patience=10)]\n",
    ")"
   ]
  },
  {
   "cell_type": "code",
   "execution_count": 5,
   "id": "ff675eb2-cc07-4f9b-85e0-ef66889007b1",
   "metadata": {
    "collapsed": true,
    "jupyter": {
     "outputs_hidden": true
    },
    "tags": []
   },
   "outputs": [
    {
     "name": "stderr",
     "output_type": "stream",
     "text": [
      "The following columns in the training set  don't have a corresponding argument in `BertForSequenceClassification.forward` and have been ignored: text. If text are not expected by `BertForSequenceClassification.forward`,  you can safely ignore this message.\n",
      "/home/ashapiro/.local/lib/python3.8/site-packages/transformers/optimization.py:306: FutureWarning: This implementation of AdamW is deprecated and will be removed in a future version. Use the PyTorch implementation torch.optim.AdamW instead, or set `no_deprecation_warning=True` to disable this warning\n",
      "  warnings.warn(\n",
      "***** Running training *****\n",
      "  Num examples = 44324\n",
      "  Num Epochs = 100\n",
      "  Instantaneous batch size per device = 16\n",
      "  Total train batch size (w. parallel, distributed & accumulation) = 16\n",
      "  Gradient Accumulation steps = 1\n",
      "  Total optimization steps = 277100\n",
      "  0%|          | 501/277100 [00:34<5:49:27, 13.19it/s]"
     ]
    },
    {
     "name": "stdout",
     "output_type": "stream",
     "text": [
      "{'loss': 0.4942, 'learning_rate': 1.9963911945146156e-05, 'epoch': 0.18}\n"
     ]
    },
    {
     "name": "stderr",
     "output_type": "stream",
     "text": [
      "  0%|          | 1001/277100 [01:09<5:21:08, 14.33it/s]"
     ]
    },
    {
     "name": "stdout",
     "output_type": "stream",
     "text": [
      "{'loss': 0.4453, 'learning_rate': 1.9927823890292315e-05, 'epoch': 0.36}\n"
     ]
    },
    {
     "name": "stderr",
     "output_type": "stream",
     "text": [
      "  1%|          | 1501/277100 [01:42<5:35:32, 13.69it/s]"
     ]
    },
    {
     "name": "stdout",
     "output_type": "stream",
     "text": [
      "{'loss': 0.4208, 'learning_rate': 1.989173583543847e-05, 'epoch': 0.54}\n"
     ]
    },
    {
     "name": "stderr",
     "output_type": "stream",
     "text": [
      "  1%|          | 2001/277100 [02:17<5:58:16, 12.80it/s]"
     ]
    },
    {
     "name": "stdout",
     "output_type": "stream",
     "text": [
      "{'loss': 0.4081, 'learning_rate': 1.9855647780584627e-05, 'epoch': 0.72}\n"
     ]
    },
    {
     "name": "stderr",
     "output_type": "stream",
     "text": [
      "  1%|          | 2501/277100 [02:50<5:21:24, 14.24it/s]"
     ]
    },
    {
     "name": "stdout",
     "output_type": "stream",
     "text": [
      "{'loss': 0.4101, 'learning_rate': 1.9819559725730782e-05, 'epoch': 0.9}\n"
     ]
    },
    {
     "name": "stderr",
     "output_type": "stream",
     "text": [
      "  1%|          | 2771/277100 [03:08<4:34:45, 16.64it/s]The following columns in the evaluation set  don't have a corresponding argument in `BertForSequenceClassification.forward` and have been ignored: text. If text are not expected by `BertForSequenceClassification.forward`,  you can safely ignore this message.\n",
      "***** Running Evaluation *****\n",
      "  Num examples = 1270\n",
      "  Batch size = 4\n",
      "\n",
      "  0%|          | 0/318 [00:00<?, ?it/s]\u001b[A\n",
      "  3%|▎         | 9/318 [00:00<00:03, 87.67it/s]\u001b[A\n",
      "  6%|▌         | 18/318 [00:00<00:03, 81.05it/s]\u001b[A\n",
      "  8%|▊         | 27/318 [00:00<00:03, 78.72it/s]\u001b[A\n",
      " 11%|█         | 35/318 [00:00<00:03, 72.30it/s]\u001b[A\n",
      " 14%|█▎        | 43/318 [00:00<00:03, 72.81it/s]\u001b[A\n",
      " 16%|█▌        | 51/318 [00:00<00:03, 73.57it/s]\u001b[A\n",
      " 19%|█▊        | 59/318 [00:00<00:03, 68.93it/s]\u001b[A\n",
      " 21%|██        | 66/318 [00:00<00:03, 68.16it/s]\u001b[A\n",
      " 23%|██▎       | 74/318 [00:01<00:03, 70.95it/s]\u001b[A\n",
      " 26%|██▌       | 82/318 [00:01<00:03, 71.55it/s]\u001b[A\n",
      " 28%|██▊       | 90/318 [00:01<00:03, 73.50it/s]\u001b[A\n",
      " 31%|███       | 98/318 [00:01<00:02, 73.81it/s]\u001b[A\n",
      " 33%|███▎      | 106/318 [00:01<00:02, 74.87it/s]\u001b[A\n",
      " 36%|███▌      | 114/318 [00:01<00:02, 74.00it/s]\u001b[A\n",
      " 38%|███▊      | 122/318 [00:01<00:02, 75.22it/s]\u001b[A\n",
      " 41%|████      | 130/318 [00:01<00:02, 75.71it/s]\u001b[A\n",
      " 43%|████▎     | 138/318 [00:01<00:02, 74.14it/s]\u001b[A\n",
      " 46%|████▌     | 146/318 [00:01<00:02, 70.68it/s]\u001b[A\n",
      " 48%|████▊     | 154/318 [00:02<00:02, 71.30it/s]\u001b[A\n",
      " 51%|█████     | 162/318 [00:02<00:02, 72.23it/s]\u001b[A\n",
      " 53%|█████▎    | 170/318 [00:02<00:02, 71.77it/s]\u001b[A\n",
      " 56%|█████▌    | 178/318 [00:02<00:01, 71.90it/s]\u001b[A\n",
      " 58%|█████▊    | 186/318 [00:02<00:01, 73.56it/s]\u001b[A\n",
      " 61%|██████    | 194/318 [00:02<00:01, 74.20it/s]\u001b[A\n",
      " 64%|██████▎   | 202/318 [00:02<00:01, 74.71it/s]\u001b[A\n",
      " 66%|██████▌   | 210/318 [00:02<00:01, 75.37it/s]\u001b[A\n",
      " 69%|██████▊   | 218/318 [00:02<00:01, 75.70it/s]\u001b[A\n",
      " 71%|███████   | 226/318 [00:03<00:01, 74.75it/s]\u001b[A\n",
      " 74%|███████▎  | 234/318 [00:03<00:01, 74.99it/s]\u001b[A\n",
      " 76%|███████▌  | 242/318 [00:03<00:01, 75.35it/s]\u001b[A\n",
      " 79%|███████▊  | 250/318 [00:03<00:00, 76.10it/s]\u001b[A\n",
      " 81%|████████  | 258/318 [00:03<00:00, 76.88it/s]\u001b[A\n",
      " 84%|████████▎ | 266/318 [00:03<00:00, 75.07it/s]\u001b[A\n",
      " 86%|████████▌ | 274/318 [00:03<00:00, 75.17it/s]\u001b[A\n",
      " 89%|████████▊ | 282/318 [00:03<00:00, 74.53it/s]\u001b[A\n",
      " 91%|█████████ | 290/318 [00:03<00:00, 74.84it/s]\u001b[A\n",
      " 94%|█████████▎| 298/318 [00:04<00:00, 75.31it/s]\u001b[A\n",
      " 96%|█████████▌| 306/318 [00:04<00:00, 73.95it/s]\u001b[A\n",
      "                                                       \n",
      "  1%|          | 2771/277100 [03:13<4:34:45, 16.64it/s]\n",
      "100%|██████████| 318/318 [00:04<00:00, 74.32it/s]\u001b[A\n",
      "                                                 \u001b[ASaving model checkpoint to /scratch/mt/ashapiro/Hate_Speech/All_data_run/checkpoint-2771\n",
      "Configuration saved in /scratch/mt/ashapiro/Hate_Speech/All_data_run/checkpoint-2771/config.json\n"
     ]
    },
    {
     "name": "stdout",
     "output_type": "stream",
     "text": [
      "{'eval_loss': 0.340757817029953, 'eval_f1': 0.8346165439057007, 'eval_recall': 0.8272414423890426, 'eval_precision': 0.8438138138138138, 'eval_runtime': 4.5693, 'eval_samples_per_second': 277.944, 'eval_steps_per_second': 69.595, 'epoch': 1.0}\n"
     ]
    },
    {
     "name": "stderr",
     "output_type": "stream",
     "text": [
      "Model weights saved in /scratch/mt/ashapiro/Hate_Speech/All_data_run/checkpoint-2771/pytorch_model.bin\n",
      "tokenizer config file saved in /scratch/mt/ashapiro/Hate_Speech/All_data_run/checkpoint-2771/tokenizer_config.json\n",
      "Special tokens file saved in /scratch/mt/ashapiro/Hate_Speech/All_data_run/checkpoint-2771/special_tokens_map.json\n",
      "  1%|          | 3003/277100 [03:32<4:37:52, 16.44it/s] "
     ]
    },
    {
     "name": "stdout",
     "output_type": "stream",
     "text": [
      "{'loss': 0.3413, 'learning_rate': 1.978347167087694e-05, 'epoch': 1.08}\n"
     ]
    },
    {
     "name": "stderr",
     "output_type": "stream",
     "text": [
      "  1%|▏         | 3503/277100 [04:06<5:00:02, 15.20it/s]"
     ]
    },
    {
     "name": "stdout",
     "output_type": "stream",
     "text": [
      "{'loss': 0.2763, 'learning_rate': 1.97473836160231e-05, 'epoch': 1.26}\n"
     ]
    },
    {
     "name": "stderr",
     "output_type": "stream",
     "text": [
      "  1%|▏         | 4001/277100 [04:39<5:04:20, 14.96it/s]"
     ]
    },
    {
     "name": "stdout",
     "output_type": "stream",
     "text": [
      "{'loss': 0.2799, 'learning_rate': 1.9711295561169253e-05, 'epoch': 1.44}\n"
     ]
    },
    {
     "name": "stderr",
     "output_type": "stream",
     "text": [
      "  2%|▏         | 4503/277100 [05:13<4:50:13, 15.65it/s]"
     ]
    },
    {
     "name": "stdout",
     "output_type": "stream",
     "text": [
      "{'loss': 0.2818, 'learning_rate': 1.967520750631541e-05, 'epoch': 1.62}\n"
     ]
    },
    {
     "name": "stderr",
     "output_type": "stream",
     "text": [
      "  2%|▏         | 5003/277100 [05:46<4:49:21, 15.67it/s]"
     ]
    },
    {
     "name": "stdout",
     "output_type": "stream",
     "text": [
      "{'loss': 0.2852, 'learning_rate': 1.963911945146157e-05, 'epoch': 1.8}\n"
     ]
    },
    {
     "name": "stderr",
     "output_type": "stream",
     "text": [
      "  2%|▏         | 5503/277100 [06:20<4:43:51, 15.95it/s]"
     ]
    },
    {
     "name": "stdout",
     "output_type": "stream",
     "text": [
      "{'loss': 0.2754, 'learning_rate': 1.9603031396607724e-05, 'epoch': 1.98}\n"
     ]
    },
    {
     "name": "stderr",
     "output_type": "stream",
     "text": [
      "  2%|▏         | 5541/277100 [06:22<4:25:56, 17.02it/s]The following columns in the evaluation set  don't have a corresponding argument in `BertForSequenceClassification.forward` and have been ignored: text. If text are not expected by `BertForSequenceClassification.forward`,  you can safely ignore this message.\n",
      "***** Running Evaluation *****\n",
      "  Num examples = 1270\n",
      "  Batch size = 4\n",
      "\n",
      "  0%|          | 0/318 [00:00<?, ?it/s]\u001b[A\n",
      "  3%|▎         | 8/318 [00:00<00:03, 79.57it/s]\u001b[A\n",
      "  5%|▌         | 16/318 [00:00<00:04, 71.88it/s]\u001b[A\n",
      "  8%|▊         | 24/318 [00:00<00:04, 70.75it/s]\u001b[A\n",
      " 10%|█         | 32/318 [00:00<00:04, 66.46it/s]\u001b[A\n",
      " 12%|█▏        | 39/318 [00:00<00:04, 67.01it/s]\u001b[A\n",
      " 14%|█▍        | 46/318 [00:00<00:04, 67.86it/s]\u001b[A\n",
      " 17%|█▋        | 53/318 [00:00<00:04, 65.66it/s]\u001b[A\n",
      " 19%|█▉        | 60/318 [00:00<00:03, 64.70it/s]\u001b[A\n",
      " 21%|██        | 67/318 [00:00<00:03, 65.44it/s]\u001b[A\n",
      " 24%|██▎       | 75/318 [00:01<00:03, 67.07it/s]\u001b[A\n",
      " 26%|██▌       | 82/318 [00:01<00:03, 66.65it/s]\u001b[A\n",
      " 28%|██▊       | 89/318 [00:01<00:03, 66.71it/s]\u001b[A\n",
      " 30%|███       | 96/318 [00:01<00:03, 67.02it/s]\u001b[A\n",
      " 33%|███▎      | 104/318 [00:01<00:03, 68.59it/s]\u001b[A\n",
      " 35%|███▌      | 112/318 [00:01<00:02, 69.85it/s]\u001b[A\n",
      " 38%|███▊      | 120/318 [00:01<00:02, 71.02it/s]\u001b[A\n",
      " 40%|████      | 128/318 [00:01<00:02, 67.26it/s]\u001b[A\n",
      " 43%|████▎     | 136/318 [00:02<00:02, 68.28it/s]\u001b[A\n",
      " 45%|████▌     | 144/318 [00:02<00:02, 70.09it/s]\u001b[A\n",
      " 48%|████▊     | 152/318 [00:02<00:02, 71.36it/s]\u001b[A\n",
      " 50%|█████     | 160/318 [00:02<00:02, 72.54it/s]\u001b[A\n",
      " 53%|█████▎    | 168/318 [00:02<00:02, 70.89it/s]\u001b[A\n",
      " 55%|█████▌    | 176/318 [00:02<00:02, 68.27it/s]\u001b[A\n",
      " 58%|█████▊    | 183/318 [00:02<00:02, 67.43it/s]\u001b[A\n",
      " 60%|██████    | 191/318 [00:02<00:01, 69.58it/s]\u001b[A\n",
      " 63%|██████▎   | 199/318 [00:02<00:01, 69.81it/s]\u001b[A\n",
      " 65%|██████▌   | 207/318 [00:03<00:01, 70.94it/s]\u001b[A\n",
      " 68%|██████▊   | 215/318 [00:03<00:01, 72.01it/s]\u001b[A\n",
      " 70%|███████   | 223/318 [00:03<00:01, 71.83it/s]\u001b[A\n",
      " 73%|███████▎  | 231/318 [00:03<00:01, 71.60it/s]\u001b[A\n",
      " 75%|███████▌  | 239/318 [00:03<00:01, 68.91it/s]\u001b[A\n",
      " 77%|███████▋  | 246/318 [00:03<00:01, 68.98it/s]\u001b[A\n",
      " 80%|███████▉  | 253/318 [00:03<00:01, 64.72it/s]\u001b[A\n",
      " 82%|████████▏ | 261/318 [00:03<00:00, 66.62it/s]\u001b[A\n",
      " 85%|████████▍ | 269/318 [00:03<00:00, 68.49it/s]\u001b[A\n",
      " 87%|████████▋ | 277/318 [00:04<00:00, 70.03it/s]\u001b[A\n",
      " 90%|████████▉ | 285/318 [00:04<00:00, 69.90it/s]\u001b[A\n",
      " 92%|█████████▏| 293/318 [00:04<00:00, 70.24it/s]\u001b[A\n",
      " 95%|█████████▍| 301/318 [00:04<00:00, 71.18it/s]\u001b[A\n",
      " 97%|█████████▋| 309/318 [00:04<00:00, 70.88it/s]\u001b[A\n",
      "                                                       \n",
      "  2%|▏         | 5542/277100 [06:27<4:25:56, 17.02it/s]\n",
      "100%|██████████| 318/318 [00:04<00:00, 71.44it/s]\u001b[A\n",
      "                                                 \u001b[ASaving model checkpoint to /scratch/mt/ashapiro/Hate_Speech/All_data_run/checkpoint-5542\n",
      "Configuration saved in /scratch/mt/ashapiro/Hate_Speech/All_data_run/checkpoint-5542/config.json\n"
     ]
    },
    {
     "name": "stdout",
     "output_type": "stream",
     "text": [
      "{'eval_loss': 0.4675087332725525, 'eval_f1': 0.8245707611552864, 'eval_recall': 0.8411154048430247, 'eval_precision': 0.8152444951608131, 'eval_runtime': 4.7072, 'eval_samples_per_second': 269.801, 'eval_steps_per_second': 67.556, 'epoch': 2.0}\n"
     ]
    },
    {
     "name": "stderr",
     "output_type": "stream",
     "text": [
      "Model weights saved in /scratch/mt/ashapiro/Hate_Speech/All_data_run/checkpoint-5542/pytorch_model.bin\n",
      "tokenizer config file saved in /scratch/mt/ashapiro/Hate_Speech/All_data_run/checkpoint-5542/tokenizer_config.json\n",
      "Special tokens file saved in /scratch/mt/ashapiro/Hate_Speech/All_data_run/checkpoint-5542/special_tokens_map.json\n",
      "  2%|▏         | 6001/277100 [07:02<5:28:58, 13.73it/s]  "
     ]
    },
    {
     "name": "stdout",
     "output_type": "stream",
     "text": [
      "{'loss': 0.177, 'learning_rate': 1.9566943341753882e-05, 'epoch': 2.17}\n"
     ]
    },
    {
     "name": "stderr",
     "output_type": "stream",
     "text": [
      "  2%|▏         | 6501/277100 [07:36<5:30:56, 13.63it/s]"
     ]
    },
    {
     "name": "stdout",
     "output_type": "stream",
     "text": [
      "{'loss': 0.1837, 'learning_rate': 1.9530855286900037e-05, 'epoch': 2.35}\n"
     ]
    },
    {
     "name": "stderr",
     "output_type": "stream",
     "text": [
      "  3%|▎         | 7001/277100 [08:09<5:31:26, 13.58it/s]"
     ]
    },
    {
     "name": "stdout",
     "output_type": "stream",
     "text": [
      "{'loss': 0.1914, 'learning_rate': 1.9494767232046195e-05, 'epoch': 2.53}\n"
     ]
    },
    {
     "name": "stderr",
     "output_type": "stream",
     "text": [
      "  3%|▎         | 7501/277100 [08:42<5:33:09, 13.49it/s]"
     ]
    },
    {
     "name": "stdout",
     "output_type": "stream",
     "text": [
      "{'loss': 0.1764, 'learning_rate': 1.945867917719235e-05, 'epoch': 2.71}\n"
     ]
    },
    {
     "name": "stderr",
     "output_type": "stream",
     "text": [
      "  3%|▎         | 8001/277100 [09:16<5:28:58, 13.63it/s]"
     ]
    },
    {
     "name": "stdout",
     "output_type": "stream",
     "text": [
      "{'loss': 0.1872, 'learning_rate': 1.9422591122338508e-05, 'epoch': 2.89}\n"
     ]
    },
    {
     "name": "stderr",
     "output_type": "stream",
     "text": [
      "  3%|▎         | 8313/277100 [09:37<4:38:34, 16.08it/s]The following columns in the evaluation set  don't have a corresponding argument in `BertForSequenceClassification.forward` and have been ignored: text. If text are not expected by `BertForSequenceClassification.forward`,  you can safely ignore this message.\n",
      "***** Running Evaluation *****\n",
      "  Num examples = 1270\n",
      "  Batch size = 4\n",
      "\n",
      "  0%|          | 0/318 [00:00<?, ?it/s]\u001b[A\n",
      "  3%|▎         | 8/318 [00:00<00:04, 74.68it/s]\u001b[A\n",
      "  5%|▌         | 16/318 [00:00<00:04, 67.96it/s]\u001b[A\n",
      "  7%|▋         | 23/318 [00:00<00:04, 66.46it/s]\u001b[A\n",
      " 10%|▉         | 31/318 [00:00<00:04, 68.57it/s]\u001b[A\n",
      " 12%|█▏        | 39/318 [00:00<00:03, 69.90it/s]\u001b[A\n",
      " 14%|█▍        | 46/318 [00:00<00:03, 68.65it/s]\u001b[A\n",
      " 17%|█▋        | 53/318 [00:00<00:04, 62.08it/s]\u001b[A\n",
      " 19%|█▉        | 60/318 [00:00<00:04, 63.60it/s]\u001b[A\n",
      " 21%|██        | 67/318 [00:01<00:03, 63.60it/s]\u001b[A\n",
      " 23%|██▎       | 74/318 [00:01<00:03, 61.48it/s]\u001b[A\n",
      " 25%|██▌       | 81/318 [00:01<00:03, 60.19it/s]\u001b[A\n",
      " 28%|██▊       | 88/318 [00:01<00:03, 59.55it/s]\u001b[A\n",
      " 30%|██▉       | 95/318 [00:01<00:03, 61.60it/s]\u001b[A\n",
      " 32%|███▏      | 102/318 [00:01<00:03, 60.18it/s]\u001b[A\n",
      " 34%|███▍      | 109/318 [00:01<00:03, 59.33it/s]\u001b[A\n",
      " 36%|███▋      | 116/318 [00:01<00:03, 59.25it/s]\u001b[A\n",
      " 39%|███▊      | 123/318 [00:01<00:03, 61.26it/s]\u001b[A\n",
      " 41%|████      | 130/318 [00:02<00:03, 60.00it/s]\u001b[A\n",
      " 43%|████▎     | 137/318 [00:02<00:02, 60.52it/s]\u001b[A\n",
      " 45%|████▌     | 144/318 [00:02<00:02, 58.28it/s]\u001b[A\n",
      " 47%|████▋     | 150/318 [00:02<00:03, 55.76it/s]\u001b[A\n",
      " 49%|████▉     | 157/318 [00:02<00:02, 58.37it/s]\u001b[A\n",
      " 51%|█████▏    | 163/318 [00:02<00:02, 58.62it/s]\u001b[A\n",
      " 53%|█████▎    | 170/318 [00:02<00:02, 58.91it/s]\u001b[A\n",
      " 56%|█████▌    | 177/318 [00:02<00:02, 59.52it/s]\u001b[A\n",
      " 58%|█████▊    | 184/318 [00:02<00:02, 61.87it/s]\u001b[A\n",
      " 60%|██████    | 191/318 [00:03<00:02, 61.89it/s]\u001b[A\n",
      " 62%|██████▏   | 198/318 [00:03<00:01, 60.73it/s]\u001b[A\n",
      " 64%|██████▍   | 205/318 [00:03<00:01, 60.60it/s]\u001b[A\n",
      " 67%|██████▋   | 212/318 [00:03<00:01, 62.36it/s]\u001b[A\n",
      " 69%|██████▉   | 219/318 [00:03<00:01, 62.27it/s]\u001b[A\n",
      " 71%|███████   | 226/318 [00:03<00:01, 59.14it/s]\u001b[A\n",
      " 73%|███████▎  | 233/318 [00:03<00:01, 61.05it/s]\u001b[A\n",
      " 75%|███████▌  | 240/318 [00:03<00:01, 61.35it/s]\u001b[A\n",
      " 78%|███████▊  | 247/318 [00:04<00:01, 59.21it/s]\u001b[A\n",
      " 80%|███████▉  | 254/318 [00:04<00:01, 60.90it/s]\u001b[A\n",
      " 82%|████████▏ | 261/318 [00:04<00:00, 60.59it/s]\u001b[A\n",
      " 84%|████████▍ | 268/318 [00:04<00:00, 60.48it/s]\u001b[A\n",
      " 86%|████████▋ | 275/318 [00:04<00:00, 61.39it/s]\u001b[A\n",
      " 89%|████████▊ | 282/318 [00:04<00:00, 62.52it/s]\u001b[A\n",
      " 91%|█████████ | 289/318 [00:04<00:00, 63.21it/s]\u001b[A\n",
      " 93%|█████████▎| 296/318 [00:04<00:00, 62.33it/s]\u001b[A\n",
      " 95%|█████████▌| 303/318 [00:04<00:00, 61.19it/s]\u001b[A\n",
      " 97%|█████████▋| 310/318 [00:05<00:00, 61.45it/s]\u001b[A\n",
      "                                                       \n",
      "  3%|▎         | 8313/277100 [09:42<4:38:34, 16.08it/s]\n",
      "100%|██████████| 318/318 [00:05<00:00, 59.12it/s]\u001b[A\n",
      "                                                 \u001b[ASaving model checkpoint to /scratch/mt/ashapiro/Hate_Speech/All_data_run/checkpoint-8313\n",
      "Configuration saved in /scratch/mt/ashapiro/Hate_Speech/All_data_run/checkpoint-8313/config.json\n"
     ]
    },
    {
     "name": "stdout",
     "output_type": "stream",
     "text": [
      "{'eval_loss': 0.5474981069564819, 'eval_f1': 0.8307569296375266, 'eval_recall': 0.8298853268698694, 'eval_precision': 0.8316522988505747, 'eval_runtime': 5.2906, 'eval_samples_per_second': 240.047, 'eval_steps_per_second': 60.106, 'epoch': 3.0}\n"
     ]
    },
    {
     "name": "stderr",
     "output_type": "stream",
     "text": [
      "Model weights saved in /scratch/mt/ashapiro/Hate_Speech/All_data_run/checkpoint-8313/pytorch_model.bin\n",
      "tokenizer config file saved in /scratch/mt/ashapiro/Hate_Speech/All_data_run/checkpoint-8313/tokenizer_config.json\n",
      "Special tokens file saved in /scratch/mt/ashapiro/Hate_Speech/All_data_run/checkpoint-8313/special_tokens_map.json\n",
      "  3%|▎         | 8503/277100 [09:59<4:34:50, 16.29it/s]  "
     ]
    },
    {
     "name": "stdout",
     "output_type": "stream",
     "text": [
      "{'loss': 0.176, 'learning_rate': 1.9386503067484663e-05, 'epoch': 3.07}\n"
     ]
    },
    {
     "name": "stderr",
     "output_type": "stream",
     "text": [
      "  3%|▎         | 9003/277100 [10:32<4:29:41, 16.57it/s]"
     ]
    },
    {
     "name": "stdout",
     "output_type": "stream",
     "text": [
      "{'loss': 0.129, 'learning_rate': 1.935041501263082e-05, 'epoch': 3.25}\n"
     ]
    },
    {
     "name": "stderr",
     "output_type": "stream",
     "text": [
      "  3%|▎         | 9503/277100 [11:06<4:28:26, 16.61it/s]"
     ]
    },
    {
     "name": "stdout",
     "output_type": "stream",
     "text": [
      "{'loss': 0.1407, 'learning_rate': 1.9314326957776976e-05, 'epoch': 3.43}\n"
     ]
    },
    {
     "name": "stderr",
     "output_type": "stream",
     "text": [
      "  4%|▎         | 10003/277100 [11:39<4:26:52, 16.68it/s]"
     ]
    },
    {
     "name": "stdout",
     "output_type": "stream",
     "text": [
      "{'loss': 0.1284, 'learning_rate': 1.9278238902923134e-05, 'epoch': 3.61}\n"
     ]
    },
    {
     "name": "stderr",
     "output_type": "stream",
     "text": [
      "  4%|▍         | 10503/277100 [12:12<4:29:07, 16.51it/s]"
     ]
    },
    {
     "name": "stdout",
     "output_type": "stream",
     "text": [
      "{'loss': 0.1428, 'learning_rate': 1.924215084806929e-05, 'epoch': 3.79}\n"
     ]
    },
    {
     "name": "stderr",
     "output_type": "stream",
     "text": [
      "  4%|▍         | 11003/277100 [12:46<4:16:44, 17.27it/s]"
     ]
    },
    {
     "name": "stdout",
     "output_type": "stream",
     "text": [
      "{'loss': 0.1542, 'learning_rate': 1.9206062793215447e-05, 'epoch': 3.97}\n"
     ]
    },
    {
     "name": "stderr",
     "output_type": "stream",
     "text": [
      "  4%|▍         | 11083/277100 [12:51<4:48:45, 15.35it/s]The following columns in the evaluation set  don't have a corresponding argument in `BertForSequenceClassification.forward` and have been ignored: text. If text are not expected by `BertForSequenceClassification.forward`,  you can safely ignore this message.\n",
      "***** Running Evaluation *****\n",
      "  Num examples = 1270\n",
      "  Batch size = 4\n",
      "\n",
      "  0%|          | 0/318 [00:00<?, ?it/s]\u001b[A\n",
      "  3%|▎         | 9/318 [00:00<00:03, 84.81it/s]\u001b[A\n",
      "  6%|▌         | 18/318 [00:00<00:03, 75.69it/s]\u001b[A\n",
      "  8%|▊         | 26/318 [00:00<00:03, 75.08it/s]\u001b[A\n",
      " 11%|█         | 34/318 [00:00<00:03, 73.54it/s]\u001b[A\n",
      " 13%|█▎        | 42/318 [00:00<00:03, 73.68it/s]\u001b[A\n",
      " 16%|█▌        | 50/318 [00:00<00:03, 73.45it/s]\u001b[A\n",
      " 18%|█▊        | 58/318 [00:00<00:03, 69.64it/s]\u001b[A\n",
      " 21%|██        | 66/318 [00:00<00:03, 70.39it/s]\u001b[A\n",
      " 23%|██▎       | 74/318 [00:01<00:03, 71.22it/s]\u001b[A\n",
      " 26%|██▌       | 82/318 [00:01<00:03, 72.04it/s]\u001b[A\n",
      " 28%|██▊       | 90/318 [00:01<00:03, 72.93it/s]\u001b[A\n",
      " 31%|███       | 98/318 [00:01<00:03, 73.24it/s]\u001b[A\n",
      " 33%|███▎      | 106/318 [00:01<00:02, 73.47it/s]\u001b[A\n",
      " 36%|███▌      | 114/318 [00:01<00:02, 73.60it/s]\u001b[A\n",
      " 38%|███▊      | 122/318 [00:01<00:02, 74.04it/s]\u001b[A\n",
      " 41%|████      | 130/318 [00:01<00:02, 74.48it/s]\u001b[A\n",
      " 43%|████▎     | 138/318 [00:01<00:02, 73.62it/s]\u001b[A\n",
      " 46%|████▌     | 146/318 [00:01<00:02, 73.47it/s]\u001b[A\n",
      " 48%|████▊     | 154/318 [00:02<00:02, 73.56it/s]\u001b[A\n",
      " 51%|█████     | 162/318 [00:02<00:02, 72.90it/s]\u001b[A\n",
      " 53%|█████▎    | 170/318 [00:02<00:02, 72.41it/s]\u001b[A\n",
      " 56%|█████▌    | 178/318 [00:02<00:01, 73.12it/s]\u001b[A\n",
      " 58%|█████▊    | 186/318 [00:02<00:01, 72.41it/s]\u001b[A\n",
      " 61%|██████    | 194/318 [00:02<00:01, 71.52it/s]\u001b[A\n",
      " 64%|██████▎   | 202/318 [00:02<00:01, 72.29it/s]\u001b[A\n",
      " 66%|██████▌   | 210/318 [00:02<00:01, 71.62it/s]\u001b[A\n",
      " 69%|██████▊   | 218/318 [00:02<00:01, 70.64it/s]\u001b[A\n",
      " 71%|███████   | 226/318 [00:03<00:01, 71.17it/s]\u001b[A\n",
      " 74%|███████▎  | 234/318 [00:03<00:01, 72.67it/s]\u001b[A\n",
      " 76%|███████▌  | 242/318 [00:03<00:01, 72.21it/s]\u001b[A\n",
      " 79%|███████▊  | 250/318 [00:03<00:00, 72.64it/s]\u001b[A\n",
      " 81%|████████  | 258/318 [00:03<00:00, 72.36it/s]\u001b[A\n",
      " 84%|████████▎ | 266/318 [00:03<00:00, 69.38it/s]\u001b[A\n",
      " 86%|████████▌ | 273/318 [00:03<00:00, 68.59it/s]\u001b[A\n",
      " 88%|████████▊ | 281/318 [00:03<00:00, 69.57it/s]\u001b[A\n",
      " 91%|█████████ | 289/318 [00:03<00:00, 70.60it/s]\u001b[A\n",
      " 93%|█████████▎| 297/318 [00:04<00:00, 71.03it/s]\u001b[A\n",
      " 96%|█████████▌| 305/318 [00:04<00:00, 71.80it/s]\u001b[A\n",
      "                                                        \n",
      "  4%|▍         | 11084/277100 [12:56<4:48:45, 15.35it/s]\n",
      "100%|██████████| 318/318 [00:04<00:00, 72.87it/s]\u001b[A\n",
      "                                                 \u001b[ASaving model checkpoint to /scratch/mt/ashapiro/Hate_Speech/All_data_run/checkpoint-11084\n",
      "Configuration saved in /scratch/mt/ashapiro/Hate_Speech/All_data_run/checkpoint-11084/config.json\n"
     ]
    },
    {
     "name": "stdout",
     "output_type": "stream",
     "text": [
      "{'eval_loss': 0.7246872186660767, 'eval_f1': 0.8258574137130198, 'eval_recall': 0.8243574646148217, 'eval_precision': 0.827429951439923, 'eval_runtime': 4.4838, 'eval_samples_per_second': 283.24, 'eval_steps_per_second': 70.922, 'epoch': 4.0}\n"
     ]
    },
    {
     "name": "stderr",
     "output_type": "stream",
     "text": [
      "Model weights saved in /scratch/mt/ashapiro/Hate_Speech/All_data_run/checkpoint-11084/pytorch_model.bin\n",
      "tokenizer config file saved in /scratch/mt/ashapiro/Hate_Speech/All_data_run/checkpoint-11084/tokenizer_config.json\n",
      "Special tokens file saved in /scratch/mt/ashapiro/Hate_Speech/All_data_run/checkpoint-11084/special_tokens_map.json\n",
      "  4%|▍         | 11503/277100 [13:27<5:15:05, 14.05it/s] "
     ]
    },
    {
     "name": "stdout",
     "output_type": "stream",
     "text": [
      "{'loss': 0.1018, 'learning_rate': 1.91699747383616e-05, 'epoch': 4.15}\n"
     ]
    },
    {
     "name": "stderr",
     "output_type": "stream",
     "text": [
      "  4%|▍         | 12003/277100 [14:00<4:48:04, 15.34it/s]"
     ]
    },
    {
     "name": "stdout",
     "output_type": "stream",
     "text": [
      "{'loss': 0.0929, 'learning_rate': 1.913388668350776e-05, 'epoch': 4.33}\n"
     ]
    },
    {
     "name": "stderr",
     "output_type": "stream",
     "text": [
      "  5%|▍         | 12503/277100 [14:32<4:49:24, 15.24it/s]"
     ]
    },
    {
     "name": "stdout",
     "output_type": "stream",
     "text": [
      "{'loss': 0.097, 'learning_rate': 1.9097798628653918e-05, 'epoch': 4.51}\n"
     ]
    },
    {
     "name": "stderr",
     "output_type": "stream",
     "text": [
      "  5%|▍         | 13003/277100 [15:06<5:00:15, 14.66it/s]"
     ]
    },
    {
     "name": "stdout",
     "output_type": "stream",
     "text": [
      "{'loss': 0.1094, 'learning_rate': 1.9061710573800073e-05, 'epoch': 4.69}\n"
     ]
    },
    {
     "name": "stderr",
     "output_type": "stream",
     "text": [
      "  5%|▍         | 13503/277100 [15:38<4:43:52, 15.48it/s]"
     ]
    },
    {
     "name": "stdout",
     "output_type": "stream",
     "text": [
      "{'loss': 0.1234, 'learning_rate': 1.902562251894623e-05, 'epoch': 4.87}\n"
     ]
    },
    {
     "name": "stderr",
     "output_type": "stream",
     "text": [
      "  5%|▌         | 13855/277100 [16:01<4:26:14, 16.48it/s]The following columns in the evaluation set  don't have a corresponding argument in `BertForSequenceClassification.forward` and have been ignored: text. If text are not expected by `BertForSequenceClassification.forward`,  you can safely ignore this message.\n",
      "***** Running Evaluation *****\n",
      "  Num examples = 1270\n",
      "  Batch size = 4\n",
      "\n",
      "  0%|          | 0/318 [00:00<?, ?it/s]\u001b[A\n",
      "  3%|▎         | 9/318 [00:00<00:03, 86.59it/s]\u001b[A\n",
      "  6%|▌         | 18/318 [00:00<00:04, 73.82it/s]\u001b[A\n",
      "  8%|▊         | 26/318 [00:00<00:04, 72.38it/s]\u001b[A\n",
      " 11%|█         | 34/318 [00:00<00:03, 73.49it/s]\u001b[A\n",
      " 13%|█▎        | 42/318 [00:00<00:03, 71.98it/s]\u001b[A\n",
      " 16%|█▌        | 50/318 [00:00<00:03, 73.34it/s]\u001b[A\n",
      " 18%|█▊        | 58/318 [00:00<00:03, 73.97it/s]\u001b[A\n",
      " 21%|██        | 66/318 [00:00<00:03, 72.14it/s]\u001b[A\n",
      " 23%|██▎       | 74/318 [00:01<00:03, 72.12it/s]\u001b[A\n",
      " 26%|██▌       | 82/318 [00:01<00:03, 71.02it/s]\u001b[A\n",
      " 28%|██▊       | 90/318 [00:01<00:03, 71.93it/s]\u001b[A\n",
      " 31%|███       | 98/318 [00:01<00:03, 69.74it/s]\u001b[A\n",
      " 33%|███▎      | 105/318 [00:01<00:03, 67.26it/s]\u001b[A\n",
      " 36%|███▌      | 113/318 [00:01<00:02, 68.87it/s]\u001b[A\n",
      " 38%|███▊      | 120/318 [00:01<00:02, 68.49it/s]\u001b[A\n",
      " 40%|███▉      | 127/318 [00:01<00:02, 64.78it/s]\u001b[A\n",
      " 42%|████▏     | 134/318 [00:01<00:02, 64.26it/s]\u001b[A\n",
      " 45%|████▍     | 142/318 [00:02<00:02, 67.23it/s]\u001b[A\n",
      " 47%|████▋     | 149/318 [00:02<00:02, 67.17it/s]\u001b[A\n",
      " 49%|████▉     | 157/318 [00:02<00:02, 69.07it/s]\u001b[A\n",
      " 52%|█████▏    | 165/318 [00:02<00:02, 69.68it/s]\u001b[A\n",
      " 54%|█████▍    | 172/318 [00:02<00:02, 68.26it/s]\u001b[A\n",
      " 56%|█████▋    | 179/318 [00:02<00:02, 68.60it/s]\u001b[A\n",
      " 59%|█████▉    | 187/318 [00:02<00:01, 68.92it/s]\u001b[A\n",
      " 61%|██████    | 194/318 [00:02<00:01, 67.58it/s]\u001b[A\n",
      " 64%|██████▎   | 202/318 [00:02<00:01, 68.57it/s]\u001b[A\n",
      " 66%|██████▌   | 210/318 [00:03<00:01, 69.38it/s]\u001b[A\n",
      " 69%|██████▊   | 218/318 [00:03<00:01, 70.46it/s]\u001b[A\n",
      " 71%|███████   | 226/318 [00:03<00:01, 71.54it/s]\u001b[A\n",
      " 74%|███████▎  | 234/318 [00:03<00:01, 71.84it/s]\u001b[A\n",
      " 76%|███████▌  | 242/318 [00:03<00:01, 70.40it/s]\u001b[A\n",
      " 79%|███████▊  | 250/318 [00:03<00:00, 71.52it/s]\u001b[A\n",
      " 81%|████████  | 258/318 [00:03<00:00, 71.63it/s]\u001b[A\n",
      " 84%|████████▎ | 266/318 [00:03<00:00, 72.24it/s]\u001b[A\n",
      " 86%|████████▌ | 274/318 [00:03<00:00, 69.77it/s]\u001b[A\n",
      " 89%|████████▊ | 282/318 [00:04<00:00, 70.03it/s]\u001b[A\n",
      " 91%|█████████ | 290/318 [00:04<00:00, 71.05it/s]\u001b[A\n",
      " 94%|█████████▎| 298/318 [00:04<00:00, 71.43it/s]\u001b[A\n",
      " 96%|█████████▌| 306/318 [00:04<00:00, 70.33it/s]\u001b[A\n",
      "                                                        \n",
      "  5%|▌         | 13855/277100 [16:06<4:26:14, 16.48it/s]\n",
      "100%|██████████| 318/318 [00:04<00:00, 71.29it/s]\u001b[A\n",
      "                                                 \u001b[ASaving model checkpoint to /scratch/mt/ashapiro/Hate_Speech/All_data_run/checkpoint-13855\n",
      "Configuration saved in /scratch/mt/ashapiro/Hate_Speech/All_data_run/checkpoint-13855/config.json\n"
     ]
    },
    {
     "name": "stdout",
     "output_type": "stream",
     "text": [
      "{'eval_loss': 0.9343557953834534, 'eval_f1': 0.8175559818865169, 'eval_recall': 0.8207303409324767, 'eval_precision': 0.8146992587689901, 'eval_runtime': 4.608, 'eval_samples_per_second': 275.607, 'eval_steps_per_second': 69.01, 'epoch': 5.0}\n"
     ]
    },
    {
     "name": "stderr",
     "output_type": "stream",
     "text": [
      "Model weights saved in /scratch/mt/ashapiro/Hate_Speech/All_data_run/checkpoint-13855/pytorch_model.bin\n",
      "tokenizer config file saved in /scratch/mt/ashapiro/Hate_Speech/All_data_run/checkpoint-13855/tokenizer_config.json\n",
      "Special tokens file saved in /scratch/mt/ashapiro/Hate_Speech/All_data_run/checkpoint-13855/special_tokens_map.json\n",
      "  5%|▌         | 14003/277100 [16:19<4:16:05, 17.12it/s] "
     ]
    },
    {
     "name": "stdout",
     "output_type": "stream",
     "text": [
      "{'loss': 0.0916, 'learning_rate': 1.898953446409239e-05, 'epoch': 5.05}\n"
     ]
    },
    {
     "name": "stderr",
     "output_type": "stream",
     "text": [
      "  5%|▌         | 14503/277100 [16:52<4:36:30, 15.83it/s]"
     ]
    },
    {
     "name": "stdout",
     "output_type": "stream",
     "text": [
      "{'loss': 0.0737, 'learning_rate': 1.8953446409238544e-05, 'epoch': 5.23}\n"
     ]
    },
    {
     "name": "stderr",
     "output_type": "stream",
     "text": [
      "  5%|▌         | 15003/277100 [17:25<4:17:19, 16.98it/s]"
     ]
    },
    {
     "name": "stdout",
     "output_type": "stream",
     "text": [
      "{'loss': 0.0824, 'learning_rate': 1.8917358354384702e-05, 'epoch': 5.41}\n"
     ]
    },
    {
     "name": "stderr",
     "output_type": "stream",
     "text": [
      "  6%|▌         | 15503/277100 [17:58<4:31:38, 16.05it/s]"
     ]
    },
    {
     "name": "stdout",
     "output_type": "stream",
     "text": [
      "{'loss': 0.0813, 'learning_rate': 1.8881270299530857e-05, 'epoch': 5.59}\n"
     ]
    },
    {
     "name": "stderr",
     "output_type": "stream",
     "text": [
      "  6%|▌         | 16003/277100 [18:30<4:11:26, 17.31it/s]"
     ]
    },
    {
     "name": "stdout",
     "output_type": "stream",
     "text": [
      "{'loss': 0.0755, 'learning_rate': 1.8845182244677015e-05, 'epoch': 5.77}\n"
     ]
    },
    {
     "name": "stderr",
     "output_type": "stream",
     "text": [
      "  6%|▌         | 16501/277100 [19:03<4:23:36, 16.48it/s]"
     ]
    },
    {
     "name": "stdout",
     "output_type": "stream",
     "text": [
      "{'loss': 0.1019, 'learning_rate': 1.880909418982317e-05, 'epoch': 5.95}\n"
     ]
    },
    {
     "name": "stderr",
     "output_type": "stream",
     "text": [
      "  6%|▌         | 16625/277100 [19:12<4:24:51, 16.39it/s]The following columns in the evaluation set  don't have a corresponding argument in `BertForSequenceClassification.forward` and have been ignored: text. If text are not expected by `BertForSequenceClassification.forward`,  you can safely ignore this message.\n",
      "***** Running Evaluation *****\n",
      "  Num examples = 1270\n",
      "  Batch size = 4\n",
      "\n",
      "  0%|          | 0/318 [00:00<?, ?it/s]\u001b[A\n",
      "  3%|▎         | 9/318 [00:00<00:03, 83.18it/s]\u001b[A\n",
      "  6%|▌         | 18/318 [00:00<00:04, 70.09it/s]\u001b[A\n",
      "  8%|▊         | 26/318 [00:00<00:04, 71.70it/s]\u001b[A\n",
      " 11%|█         | 34/318 [00:00<00:04, 70.94it/s]\u001b[A\n",
      " 13%|█▎        | 42/318 [00:00<00:03, 70.05it/s]\u001b[A\n",
      " 16%|█▌        | 50/318 [00:00<00:03, 71.34it/s]\u001b[A\n",
      " 18%|█▊        | 58/318 [00:00<00:03, 70.96it/s]\u001b[A\n",
      " 21%|██        | 66/318 [00:00<00:03, 72.36it/s]\u001b[A\n",
      " 23%|██▎       | 74/318 [00:01<00:03, 73.15it/s]\u001b[A\n",
      " 26%|██▌       | 82/318 [00:01<00:03, 72.56it/s]\u001b[A\n",
      " 28%|██▊       | 90/318 [00:01<00:03, 73.23it/s]\u001b[A\n",
      " 31%|███       | 98/318 [00:01<00:02, 74.05it/s]\u001b[A\n",
      " 33%|███▎      | 106/318 [00:01<00:02, 74.19it/s]\u001b[A\n",
      " 36%|███▌      | 114/318 [00:01<00:02, 71.01it/s]\u001b[A\n",
      " 38%|███▊      | 122/318 [00:01<00:03, 64.46it/s]\u001b[A\n",
      " 41%|████      | 130/318 [00:01<00:02, 66.49it/s]\u001b[A\n",
      " 43%|████▎     | 138/318 [00:01<00:02, 68.18it/s]\u001b[A\n",
      " 46%|████▌     | 146/318 [00:02<00:02, 69.21it/s]\u001b[A\n",
      " 48%|████▊     | 153/318 [00:02<00:02, 65.07it/s]\u001b[A\n",
      " 51%|█████     | 161/318 [00:02<00:02, 67.45it/s]\u001b[A\n",
      " 53%|█████▎    | 168/318 [00:02<00:02, 65.36it/s]\u001b[A\n",
      " 55%|█████▌    | 175/318 [00:02<00:02, 66.17it/s]\u001b[A\n",
      " 57%|█████▋    | 182/318 [00:02<00:02, 67.22it/s]\u001b[A\n",
      " 60%|█████▉    | 190/318 [00:02<00:01, 69.71it/s]\u001b[A\n",
      " 62%|██████▏   | 198/318 [00:02<00:01, 71.42it/s]\u001b[A\n",
      " 65%|██████▍   | 206/318 [00:02<00:01, 72.77it/s]\u001b[A\n",
      " 67%|██████▋   | 214/318 [00:03<00:01, 74.02it/s]\u001b[A\n",
      " 70%|██████▉   | 222/318 [00:03<00:01, 73.95it/s]\u001b[A\n",
      " 72%|███████▏  | 230/318 [00:03<00:01, 72.38it/s]\u001b[A\n",
      " 75%|███████▍  | 238/318 [00:03<00:01, 71.32it/s]\u001b[A\n",
      " 77%|███████▋  | 246/318 [00:03<00:01, 71.03it/s]\u001b[A\n",
      " 80%|███████▉  | 254/318 [00:03<00:00, 69.97it/s]\u001b[A\n",
      " 82%|████████▏ | 262/318 [00:03<00:00, 63.22it/s]\u001b[A\n",
      " 85%|████████▍ | 269/318 [00:03<00:00, 62.74it/s]\u001b[A\n",
      " 87%|████████▋ | 276/318 [00:03<00:00, 64.08it/s]\u001b[A\n",
      " 89%|████████▉ | 284/318 [00:04<00:00, 67.46it/s]\u001b[A\n",
      " 92%|█████████▏| 291/318 [00:04<00:00, 68.14it/s]\u001b[A\n",
      " 94%|█████████▍| 299/318 [00:04<00:00, 69.56it/s]\u001b[A\n",
      " 97%|█████████▋| 307/318 [00:04<00:00, 71.42it/s]\u001b[A\n",
      "                                                        \n",
      "  6%|▌         | 16626/277100 [19:16<4:24:51, 16.39it/s]\n",
      "100%|██████████| 318/318 [00:04<00:00, 72.18it/s]\u001b[A\n",
      "                                                 \u001b[ASaving model checkpoint to /scratch/mt/ashapiro/Hate_Speech/All_data_run/checkpoint-16626\n",
      "Configuration saved in /scratch/mt/ashapiro/Hate_Speech/All_data_run/checkpoint-16626/config.json\n"
     ]
    },
    {
     "name": "stdout",
     "output_type": "stream",
     "text": [
      "{'eval_loss': 0.9548495411872864, 'eval_f1': 0.8160330009411993, 'eval_recall': 0.8104949351748107, 'eval_precision': 0.8226717677426254, 'eval_runtime': 4.639, 'eval_samples_per_second': 273.768, 'eval_steps_per_second': 68.55, 'epoch': 6.0}\n"
     ]
    },
    {
     "name": "stderr",
     "output_type": "stream",
     "text": [
      "Model weights saved in /scratch/mt/ashapiro/Hate_Speech/All_data_run/checkpoint-16626/pytorch_model.bin\n",
      "tokenizer config file saved in /scratch/mt/ashapiro/Hate_Speech/All_data_run/checkpoint-16626/tokenizer_config.json\n",
      "Special tokens file saved in /scratch/mt/ashapiro/Hate_Speech/All_data_run/checkpoint-16626/special_tokens_map.json\n",
      "  6%|▌         | 17003/277100 [19:45<4:21:46, 16.56it/s] "
     ]
    },
    {
     "name": "stdout",
     "output_type": "stream",
     "text": [
      "{'loss': 0.0642, 'learning_rate': 1.8773006134969328e-05, 'epoch': 6.13}\n"
     ]
    },
    {
     "name": "stderr",
     "output_type": "stream",
     "text": [
      "  6%|▋         | 17503/277100 [20:18<4:23:21, 16.43it/s]"
     ]
    },
    {
     "name": "stdout",
     "output_type": "stream",
     "text": [
      "{'loss': 0.0621, 'learning_rate': 1.8736918080115482e-05, 'epoch': 6.32}\n"
     ]
    },
    {
     "name": "stderr",
     "output_type": "stream",
     "text": [
      "  6%|▋         | 18003/277100 [20:51<4:32:03, 15.87it/s]"
     ]
    },
    {
     "name": "stdout",
     "output_type": "stream",
     "text": [
      "{'loss': 0.0759, 'learning_rate': 1.870083002526164e-05, 'epoch': 6.5}\n"
     ]
    },
    {
     "name": "stderr",
     "output_type": "stream",
     "text": [
      "  7%|▋         | 18503/277100 [21:24<4:37:43, 15.52it/s]"
     ]
    },
    {
     "name": "stdout",
     "output_type": "stream",
     "text": [
      "{'loss': 0.0743, 'learning_rate': 1.8664741970407795e-05, 'epoch': 6.68}\n"
     ]
    },
    {
     "name": "stderr",
     "output_type": "stream",
     "text": [
      "  7%|▋         | 19003/277100 [21:56<4:17:10, 16.73it/s]"
     ]
    },
    {
     "name": "stdout",
     "output_type": "stream",
     "text": [
      "{'loss': 0.0769, 'learning_rate': 1.8628653915553953e-05, 'epoch': 6.86}\n"
     ]
    },
    {
     "name": "stderr",
     "output_type": "stream",
     "text": [
      "  7%|▋         | 19397/277100 [22:21<4:05:23, 17.50it/s]The following columns in the evaluation set  don't have a corresponding argument in `BertForSequenceClassification.forward` and have been ignored: text. If text are not expected by `BertForSequenceClassification.forward`,  you can safely ignore this message.\n",
      "***** Running Evaluation *****\n",
      "  Num examples = 1270\n",
      "  Batch size = 4\n",
      "\n",
      "  0%|          | 0/318 [00:00<?, ?it/s]\u001b[A\n",
      "  3%|▎         | 9/318 [00:00<00:03, 80.15it/s]\u001b[A\n",
      "  6%|▌         | 18/318 [00:00<00:03, 79.24it/s]\u001b[A\n",
      "  8%|▊         | 26/318 [00:00<00:03, 78.74it/s]\u001b[A\n",
      " 11%|█         | 34/318 [00:00<00:03, 78.48it/s]\u001b[A\n",
      " 13%|█▎        | 42/318 [00:00<00:03, 78.09it/s]\u001b[A\n",
      " 16%|█▌        | 51/318 [00:00<00:03, 78.95it/s]\u001b[A\n",
      " 19%|█▊        | 59/318 [00:00<00:03, 78.66it/s]\u001b[A\n",
      " 21%|██        | 67/318 [00:00<00:03, 78.10it/s]\u001b[A\n",
      " 24%|██▎       | 75/318 [00:00<00:03, 77.64it/s]\u001b[A\n",
      " 26%|██▌       | 83/318 [00:01<00:03, 77.59it/s]\u001b[A\n",
      " 29%|██▊       | 91/318 [00:01<00:02, 77.31it/s]\u001b[A\n",
      " 31%|███       | 99/318 [00:01<00:02, 77.65it/s]\u001b[A\n",
      " 34%|███▎      | 107/318 [00:01<00:02, 77.65it/s]\u001b[A\n",
      " 36%|███▌      | 115/318 [00:01<00:02, 76.64it/s]\u001b[A\n",
      " 39%|███▊      | 123/318 [00:01<00:02, 77.21it/s]\u001b[A\n",
      " 41%|████      | 131/318 [00:01<00:02, 76.00it/s]\u001b[A\n",
      " 44%|████▎     | 139/318 [00:01<00:02, 76.65it/s]\u001b[A\n",
      " 46%|████▌     | 147/318 [00:01<00:02, 77.50it/s]\u001b[A\n",
      " 49%|████▊     | 155/318 [00:01<00:02, 77.18it/s]\u001b[A\n",
      " 51%|█████▏    | 163/318 [00:02<00:02, 77.04it/s]\u001b[A\n",
      " 54%|█████▍    | 171/318 [00:02<00:01, 76.90it/s]\u001b[A\n",
      " 56%|█████▋    | 179/318 [00:02<00:01, 77.64it/s]\u001b[A\n",
      " 59%|█████▉    | 187/318 [00:02<00:01, 75.12it/s]\u001b[A\n",
      " 61%|██████▏   | 195/318 [00:02<00:01, 75.67it/s]\u001b[A\n",
      " 64%|██████▍   | 203/318 [00:02<00:01, 76.32it/s]\u001b[A\n",
      " 66%|██████▋   | 211/318 [00:02<00:01, 75.29it/s]\u001b[A\n",
      " 69%|██████▉   | 219/318 [00:02<00:01, 76.38it/s]\u001b[A\n",
      " 71%|███████▏  | 227/318 [00:02<00:01, 75.04it/s]\u001b[A\n",
      " 74%|███████▍  | 235/318 [00:03<00:01, 74.59it/s]\u001b[A\n",
      " 76%|███████▋  | 243/318 [00:03<00:01, 72.96it/s]\u001b[A\n",
      " 79%|███████▉  | 251/318 [00:03<00:00, 73.88it/s]\u001b[A\n",
      " 81%|████████▏ | 259/318 [00:03<00:00, 74.44it/s]\u001b[A\n",
      " 84%|████████▍ | 267/318 [00:03<00:00, 75.54it/s]\u001b[A\n",
      " 86%|████████▋ | 275/318 [00:03<00:00, 75.84it/s]\u001b[A\n",
      " 89%|████████▉ | 283/318 [00:03<00:00, 76.17it/s]\u001b[A\n",
      " 92%|█████████▏| 291/318 [00:03<00:00, 75.98it/s]\u001b[A\n",
      " 94%|█████████▍| 299/318 [00:03<00:00, 75.69it/s]\u001b[A\n",
      " 97%|█████████▋| 307/318 [00:04<00:00, 74.64it/s]\u001b[A\n",
      "                                                        \n",
      "  7%|▋         | 19397/277100 [22:25<4:05:23, 17.50it/s]\n",
      "100%|██████████| 318/318 [00:04<00:00, 75.80it/s]\u001b[A\n",
      "                                                 \u001b[ASaving model checkpoint to /scratch/mt/ashapiro/Hate_Speech/All_data_run/checkpoint-19397\n",
      "Configuration saved in /scratch/mt/ashapiro/Hate_Speech/All_data_run/checkpoint-19397/config.json\n"
     ]
    },
    {
     "name": "stdout",
     "output_type": "stream",
     "text": [
      "{'eval_loss': 0.9339761137962341, 'eval_f1': 0.8044126134925744, 'eval_recall': 0.8143821599249994, 'eval_precision': 0.7974852327065798, 'eval_runtime': 4.2481, 'eval_samples_per_second': 298.955, 'eval_steps_per_second': 74.857, 'epoch': 7.0}\n"
     ]
    },
    {
     "name": "stderr",
     "output_type": "stream",
     "text": [
      "Model weights saved in /scratch/mt/ashapiro/Hate_Speech/All_data_run/checkpoint-19397/pytorch_model.bin\n",
      "tokenizer config file saved in /scratch/mt/ashapiro/Hate_Speech/All_data_run/checkpoint-19397/tokenizer_config.json\n",
      "Special tokens file saved in /scratch/mt/ashapiro/Hate_Speech/All_data_run/checkpoint-19397/special_tokens_map.json\n",
      "  7%|▋         | 19501/277100 [22:35<5:08:31, 13.92it/s] "
     ]
    },
    {
     "name": "stdout",
     "output_type": "stream",
     "text": [
      "{'loss': 0.0683, 'learning_rate': 1.8592565860700108e-05, 'epoch': 7.04}\n"
     ]
    },
    {
     "name": "stderr",
     "output_type": "stream",
     "text": [
      "  7%|▋         | 20001/277100 [23:07<5:58:39, 11.95it/s]"
     ]
    },
    {
     "name": "stdout",
     "output_type": "stream",
     "text": [
      "{'loss': 0.0486, 'learning_rate': 1.8556477805846266e-05, 'epoch': 7.22}\n"
     ]
    },
    {
     "name": "stderr",
     "output_type": "stream",
     "text": [
      "  7%|▋         | 20501/277100 [23:39<5:25:47, 13.13it/s]"
     ]
    },
    {
     "name": "stdout",
     "output_type": "stream",
     "text": [
      "{'loss': 0.0536, 'learning_rate': 1.852038975099242e-05, 'epoch': 7.4}\n"
     ]
    },
    {
     "name": "stderr",
     "output_type": "stream",
     "text": [
      "  8%|▊         | 21001/277100 [24:11<5:11:59, 13.68it/s]"
     ]
    },
    {
     "name": "stdout",
     "output_type": "stream",
     "text": [
      "{'loss': 0.0594, 'learning_rate': 1.848430169613858e-05, 'epoch': 7.58}\n"
     ]
    },
    {
     "name": "stderr",
     "output_type": "stream",
     "text": [
      "  8%|▊         | 21501/277100 [24:43<5:19:42, 13.32it/s]"
     ]
    },
    {
     "name": "stdout",
     "output_type": "stream",
     "text": [
      "{'loss': 0.0684, 'learning_rate': 1.8448213641284734e-05, 'epoch': 7.76}\n"
     ]
    },
    {
     "name": "stderr",
     "output_type": "stream",
     "text": [
      "  8%|▊         | 22001/277100 [25:15<5:12:48, 13.59it/s]"
     ]
    },
    {
     "name": "stdout",
     "output_type": "stream",
     "text": [
      "{'loss': 0.0741, 'learning_rate': 1.8412125586430892e-05, 'epoch': 7.94}\n"
     ]
    },
    {
     "name": "stderr",
     "output_type": "stream",
     "text": [
      "  8%|▊         | 22167/277100 [25:25<4:24:04, 16.09it/s]The following columns in the evaluation set  don't have a corresponding argument in `BertForSequenceClassification.forward` and have been ignored: text. If text are not expected by `BertForSequenceClassification.forward`,  you can safely ignore this message.\n",
      "***** Running Evaluation *****\n",
      "  Num examples = 1270\n",
      "  Batch size = 4\n",
      "\n",
      "  0%|          | 0/318 [00:00<?, ?it/s]\u001b[A\n",
      "  3%|▎         | 8/318 [00:00<00:04, 75.96it/s]\u001b[A\n",
      "  5%|▌         | 16/318 [00:00<00:03, 75.73it/s]\u001b[A\n",
      "  8%|▊         | 24/318 [00:00<00:03, 76.12it/s]\u001b[A\n",
      " 10%|█         | 32/318 [00:00<00:03, 77.14it/s]\u001b[A\n",
      " 13%|█▎        | 40/318 [00:00<00:03, 77.43it/s]\u001b[A\n",
      " 15%|█▌        | 48/318 [00:00<00:03, 76.93it/s]\u001b[A\n",
      " 18%|█▊        | 56/318 [00:00<00:03, 77.24it/s]\u001b[A\n",
      " 20%|██        | 64/318 [00:00<00:03, 77.08it/s]\u001b[A\n",
      " 23%|██▎       | 72/318 [00:00<00:03, 77.43it/s]\u001b[A\n",
      " 25%|██▌       | 80/318 [00:01<00:03, 77.59it/s]\u001b[A\n",
      " 28%|██▊       | 88/318 [00:01<00:02, 77.56it/s]\u001b[A\n",
      " 30%|███       | 96/318 [00:01<00:02, 77.09it/s]\u001b[A\n",
      " 33%|███▎      | 104/318 [00:01<00:02, 77.13it/s]\u001b[A\n",
      " 35%|███▌      | 112/318 [00:01<00:02, 76.00it/s]\u001b[A\n",
      " 38%|███▊      | 120/318 [00:01<00:02, 76.31it/s]\u001b[A\n",
      " 40%|████      | 128/318 [00:01<00:02, 76.58it/s]\u001b[A\n",
      " 43%|████▎     | 136/318 [00:01<00:02, 76.98it/s]\u001b[A\n",
      " 45%|████▌     | 144/318 [00:01<00:02, 77.60it/s]\u001b[A\n",
      " 48%|████▊     | 152/318 [00:01<00:02, 77.27it/s]\u001b[A\n",
      " 50%|█████     | 160/318 [00:02<00:02, 77.11it/s]\u001b[A\n",
      " 53%|█████▎    | 168/318 [00:02<00:01, 77.67it/s]\u001b[A\n",
      " 55%|█████▌    | 176/318 [00:02<00:01, 77.59it/s]\u001b[A\n",
      " 58%|█████▊    | 184/318 [00:02<00:01, 75.20it/s]\u001b[A\n",
      " 60%|██████    | 192/318 [00:02<00:01, 75.39it/s]\u001b[A\n",
      " 63%|██████▎   | 200/318 [00:02<00:01, 75.40it/s]\u001b[A\n",
      " 65%|██████▌   | 208/318 [00:02<00:01, 76.31it/s]\u001b[A\n",
      " 68%|██████▊   | 216/318 [00:02<00:01, 76.11it/s]\u001b[A\n",
      " 70%|███████   | 224/318 [00:02<00:01, 75.55it/s]\u001b[A\n",
      " 73%|███████▎  | 232/318 [00:03<00:01, 76.04it/s]\u001b[A\n",
      " 75%|███████▌  | 240/318 [00:03<00:01, 75.45it/s]\u001b[A\n",
      " 78%|███████▊  | 248/318 [00:03<00:00, 76.12it/s]\u001b[A\n",
      " 81%|████████  | 256/318 [00:03<00:00, 76.90it/s]\u001b[A\n",
      " 83%|████████▎ | 264/318 [00:03<00:00, 76.71it/s]\u001b[A\n",
      " 86%|████████▌ | 272/318 [00:03<00:00, 75.60it/s]\u001b[A\n",
      " 88%|████████▊ | 280/318 [00:03<00:00, 74.25it/s]\u001b[A\n",
      " 91%|█████████ | 288/318 [00:03<00:00, 74.83it/s]\u001b[A\n",
      " 93%|█████████▎| 296/318 [00:03<00:00, 75.29it/s]\u001b[A\n",
      " 96%|█████████▌| 304/318 [00:03<00:00, 76.28it/s]\u001b[A\n",
      "                                                        \n",
      "  8%|▊         | 22168/277100 [25:30<4:24:04, 16.09it/s]\n",
      "100%|██████████| 318/318 [00:04<00:00, 76.85it/s]\u001b[A\n",
      "                                                 \u001b[ASaving model checkpoint to /scratch/mt/ashapiro/Hate_Speech/All_data_run/checkpoint-22168\n",
      "Configuration saved in /scratch/mt/ashapiro/Hate_Speech/All_data_run/checkpoint-22168/config.json\n"
     ]
    },
    {
     "name": "stdout",
     "output_type": "stream",
     "text": [
      "{'eval_loss': 1.1044666767120361, 'eval_f1': 0.8057255244755245, 'eval_recall': 0.8001823565728396, 'eval_precision': 0.8124345518587273, 'eval_runtime': 4.2324, 'eval_samples_per_second': 300.065, 'eval_steps_per_second': 75.134, 'epoch': 8.0}\n"
     ]
    },
    {
     "name": "stderr",
     "output_type": "stream",
     "text": [
      "Model weights saved in /scratch/mt/ashapiro/Hate_Speech/All_data_run/checkpoint-22168/pytorch_model.bin\n",
      "tokenizer config file saved in /scratch/mt/ashapiro/Hate_Speech/All_data_run/checkpoint-22168/tokenizer_config.json\n",
      "Special tokens file saved in /scratch/mt/ashapiro/Hate_Speech/All_data_run/checkpoint-22168/special_tokens_map.json\n",
      "  8%|▊         | 22503/277100 [25:54<4:19:35, 16.35it/s] "
     ]
    },
    {
     "name": "stdout",
     "output_type": "stream",
     "text": [
      "{'loss': 0.0505, 'learning_rate': 1.837603753157705e-05, 'epoch': 8.12}\n"
     ]
    },
    {
     "name": "stderr",
     "output_type": "stream",
     "text": [
      "  8%|▊         | 23003/277100 [26:26<4:06:15, 17.20it/s]"
     ]
    },
    {
     "name": "stdout",
     "output_type": "stream",
     "text": [
      "{'loss': 0.0457, 'learning_rate': 1.8339949476723205e-05, 'epoch': 8.3}\n"
     ]
    },
    {
     "name": "stderr",
     "output_type": "stream",
     "text": [
      "  8%|▊         | 23503/277100 [26:58<3:57:03, 17.83it/s]"
     ]
    },
    {
     "name": "stdout",
     "output_type": "stream",
     "text": [
      "{'loss': 0.0454, 'learning_rate': 1.8303861421869363e-05, 'epoch': 8.48}\n"
     ]
    },
    {
     "name": "stderr",
     "output_type": "stream",
     "text": [
      "  9%|▊         | 24003/277100 [27:30<4:01:31, 17.46it/s]"
     ]
    },
    {
     "name": "stdout",
     "output_type": "stream",
     "text": [
      "{'loss': 0.0605, 'learning_rate': 1.826777336701552e-05, 'epoch': 8.66}\n"
     ]
    },
    {
     "name": "stderr",
     "output_type": "stream",
     "text": [
      "  9%|▉         | 24503/277100 [28:02<4:01:03, 17.46it/s]"
     ]
    },
    {
     "name": "stdout",
     "output_type": "stream",
     "text": [
      "{'loss': 0.053, 'learning_rate': 1.8231685312161676e-05, 'epoch': 8.84}\n"
     ]
    },
    {
     "name": "stderr",
     "output_type": "stream",
     "text": [
      "  9%|▉         | 24939/277100 [28:30<4:30:21, 15.55it/s]The following columns in the evaluation set  don't have a corresponding argument in `BertForSequenceClassification.forward` and have been ignored: text. If text are not expected by `BertForSequenceClassification.forward`,  you can safely ignore this message.\n",
      "***** Running Evaluation *****\n",
      "  Num examples = 1270\n",
      "  Batch size = 4\n",
      "\n",
      "  0%|          | 0/318 [00:00<?, ?it/s]\u001b[A\n",
      "  3%|▎         | 8/318 [00:00<00:04, 72.73it/s]\u001b[A\n",
      "  5%|▌         | 16/318 [00:00<00:04, 69.82it/s]\u001b[A\n",
      "  7%|▋         | 23/318 [00:00<00:04, 67.20it/s]\u001b[A\n",
      "  9%|▉         | 30/318 [00:00<00:04, 64.01it/s]\u001b[A\n",
      " 12%|█▏        | 37/318 [00:00<00:04, 60.33it/s]\u001b[A\n",
      " 14%|█▍        | 44/318 [00:00<00:04, 58.88it/s]\u001b[A\n",
      " 16%|█▌        | 51/318 [00:00<00:04, 60.18it/s]\u001b[A\n",
      " 18%|█▊        | 58/318 [00:00<00:04, 59.96it/s]\u001b[A\n",
      " 21%|██        | 66/318 [00:01<00:03, 63.41it/s]\u001b[A\n",
      " 23%|██▎       | 73/318 [00:01<00:03, 62.97it/s]\u001b[A\n",
      " 25%|██▌       | 80/318 [00:01<00:03, 63.70it/s]\u001b[A\n",
      " 27%|██▋       | 87/318 [00:01<00:03, 65.30it/s]\u001b[A\n",
      " 30%|██▉       | 94/318 [00:01<00:03, 63.61it/s]\u001b[A\n",
      " 32%|███▏      | 101/318 [00:01<00:03, 63.52it/s]\u001b[A\n",
      " 34%|███▍      | 108/318 [00:01<00:03, 64.21it/s]\u001b[A\n",
      " 36%|███▋      | 116/318 [00:01<00:03, 66.31it/s]\u001b[A\n",
      " 39%|███▉      | 124/318 [00:01<00:02, 67.73it/s]\u001b[A\n",
      " 41%|████      | 131/318 [00:02<00:02, 64.62it/s]\u001b[A\n",
      " 43%|████▎     | 138/318 [00:02<00:02, 63.51it/s]\u001b[A\n",
      " 46%|████▌     | 145/318 [00:02<00:02, 62.46it/s]\u001b[A\n",
      " 48%|████▊     | 152/318 [00:02<00:02, 63.76it/s]\u001b[A\n",
      " 50%|█████     | 159/318 [00:02<00:02, 65.05it/s]\u001b[A\n",
      " 53%|█████▎    | 167/318 [00:02<00:02, 66.85it/s]\u001b[A\n",
      " 55%|█████▍    | 174/318 [00:02<00:02, 62.46it/s]\u001b[A\n",
      " 57%|█████▋    | 181/318 [00:02<00:02, 64.04it/s]\u001b[A\n",
      " 59%|█████▉    | 188/318 [00:02<00:01, 65.39it/s]\u001b[A\n",
      " 61%|██████▏   | 195/318 [00:03<00:01, 65.26it/s]\u001b[A\n",
      " 64%|██████▎   | 202/318 [00:03<00:01, 63.53it/s]\u001b[A\n",
      " 66%|██████▌   | 210/318 [00:03<00:01, 65.61it/s]\u001b[A\n",
      " 68%|██████▊   | 217/318 [00:03<00:01, 64.37it/s]\u001b[A\n",
      " 70%|███████   | 224/318 [00:03<00:01, 63.72it/s]\u001b[A\n",
      " 73%|███████▎  | 231/318 [00:03<00:01, 64.10it/s]\u001b[A\n",
      " 75%|███████▍  | 238/318 [00:03<00:01, 63.99it/s]\u001b[A\n",
      " 77%|███████▋  | 245/318 [00:03<00:01, 63.27it/s]\u001b[A\n",
      " 79%|███████▉  | 252/318 [00:03<00:01, 63.84it/s]\u001b[A\n",
      " 81%|████████▏ | 259/318 [00:04<00:00, 63.26it/s]\u001b[A\n",
      " 84%|████████▎ | 266/318 [00:04<00:00, 61.50it/s]\u001b[A\n",
      " 86%|████████▌ | 273/318 [00:04<00:00, 62.30it/s]\u001b[A\n",
      " 88%|████████▊ | 280/318 [00:04<00:00, 63.07it/s]\u001b[A\n",
      " 90%|█████████ | 287/318 [00:04<00:00, 61.89it/s]\u001b[A\n",
      " 92%|█████████▏| 294/318 [00:04<00:00, 63.70it/s]\u001b[A\n",
      " 95%|█████████▍| 301/318 [00:04<00:00, 60.32it/s]\u001b[A\n",
      " 97%|█████████▋| 308/318 [00:04<00:00, 61.43it/s]\u001b[A\n",
      "                                                        \n",
      "  9%|▉         | 24939/277100 [28:35<4:30:21, 15.55it/s]\n",
      "100%|██████████| 318/318 [00:05<00:00, 63.30it/s]\u001b[A\n",
      "                                                 \u001b[ASaving model checkpoint to /scratch/mt/ashapiro/Hate_Speech/All_data_run/checkpoint-24939\n",
      "Configuration saved in /scratch/mt/ashapiro/Hate_Speech/All_data_run/checkpoint-24939/config.json\n"
     ]
    },
    {
     "name": "stdout",
     "output_type": "stream",
     "text": [
      "{'eval_loss': 1.0600095987319946, 'eval_f1': 0.7998386842568814, 'eval_recall': 0.8004338828802049, 'eval_precision': 0.7992560663476075, 'eval_runtime': 5.1071, 'eval_samples_per_second': 248.673, 'eval_steps_per_second': 62.266, 'epoch': 9.0}\n"
     ]
    },
    {
     "name": "stderr",
     "output_type": "stream",
     "text": [
      "Model weights saved in /scratch/mt/ashapiro/Hate_Speech/All_data_run/checkpoint-24939/pytorch_model.bin\n",
      "tokenizer config file saved in /scratch/mt/ashapiro/Hate_Speech/All_data_run/checkpoint-24939/tokenizer_config.json\n",
      "Special tokens file saved in /scratch/mt/ashapiro/Hate_Speech/All_data_run/checkpoint-24939/special_tokens_map.json\n",
      "  9%|▉         | 25001/277100 [28:43<4:54:54, 14.25it/s] "
     ]
    },
    {
     "name": "stdout",
     "output_type": "stream",
     "text": [
      "{'loss': 0.056, 'learning_rate': 1.8195597257307834e-05, 'epoch': 9.02}\n"
     ]
    },
    {
     "name": "stderr",
     "output_type": "stream",
     "text": [
      "  9%|▉         | 25501/277100 [29:15<5:08:40, 13.58it/s]"
     ]
    },
    {
     "name": "stdout",
     "output_type": "stream",
     "text": [
      "{'loss': 0.0371, 'learning_rate': 1.815950920245399e-05, 'epoch': 9.2}\n"
     ]
    },
    {
     "name": "stderr",
     "output_type": "stream",
     "text": [
      "  9%|▉         | 26003/277100 [29:46<4:37:04, 15.10it/s]"
     ]
    },
    {
     "name": "stdout",
     "output_type": "stream",
     "text": [
      "{'loss': 0.0391, 'learning_rate': 1.8123421147600147e-05, 'epoch': 9.38}\n"
     ]
    },
    {
     "name": "stderr",
     "output_type": "stream",
     "text": [
      " 10%|▉         | 26501/277100 [30:18<5:14:39, 13.27it/s]"
     ]
    },
    {
     "name": "stdout",
     "output_type": "stream",
     "text": [
      "{'loss': 0.042, 'learning_rate': 1.8087333092746302e-05, 'epoch': 9.56}\n"
     ]
    },
    {
     "name": "stderr",
     "output_type": "stream",
     "text": [
      " 10%|▉         | 27003/277100 [30:50<4:43:05, 14.72it/s]"
     ]
    },
    {
     "name": "stdout",
     "output_type": "stream",
     "text": [
      "{'loss': 0.0519, 'learning_rate': 1.805124503789246e-05, 'epoch': 9.74}\n"
     ]
    },
    {
     "name": "stderr",
     "output_type": "stream",
     "text": [
      " 10%|▉         | 27503/277100 [31:21<4:40:22, 14.84it/s]"
     ]
    },
    {
     "name": "stdout",
     "output_type": "stream",
     "text": [
      "{'loss': 0.0526, 'learning_rate': 1.8015156983038615e-05, 'epoch': 9.92}\n"
     ]
    },
    {
     "name": "stderr",
     "output_type": "stream",
     "text": [
      " 10%|▉         | 27709/277100 [31:34<4:08:49, 16.70it/s]The following columns in the evaluation set  don't have a corresponding argument in `BertForSequenceClassification.forward` and have been ignored: text. If text are not expected by `BertForSequenceClassification.forward`,  you can safely ignore this message.\n",
      "***** Running Evaluation *****\n",
      "  Num examples = 1270\n",
      "  Batch size = 4\n",
      "\n",
      "  0%|          | 0/318 [00:00<?, ?it/s]\u001b[A\n",
      "  3%|▎         | 9/318 [00:00<00:03, 79.69it/s]\u001b[A\n",
      "  5%|▌         | 17/318 [00:00<00:03, 77.69it/s]\u001b[A\n",
      "  8%|▊         | 25/318 [00:00<00:03, 77.04it/s]\u001b[A\n",
      " 10%|█         | 33/318 [00:00<00:03, 76.25it/s]\u001b[A\n",
      " 13%|█▎        | 41/318 [00:00<00:03, 76.65it/s]\u001b[A\n",
      " 15%|█▌        | 49/318 [00:00<00:03, 76.54it/s]\u001b[A\n",
      " 18%|█▊        | 57/318 [00:00<00:03, 76.68it/s]\u001b[A\n",
      " 20%|██        | 65/318 [00:00<00:03, 74.92it/s]\u001b[A\n",
      " 23%|██▎       | 73/318 [00:00<00:03, 73.51it/s]\u001b[A\n",
      " 25%|██▌       | 81/318 [00:01<00:03, 74.59it/s]\u001b[A\n",
      " 28%|██▊       | 90/318 [00:01<00:02, 76.34it/s]\u001b[A\n",
      " 31%|███       | 98/318 [00:01<00:02, 75.27it/s]\u001b[A\n",
      " 33%|███▎      | 106/318 [00:01<00:02, 75.95it/s]\u001b[A\n",
      " 36%|███▌      | 114/318 [00:01<00:02, 75.50it/s]\u001b[A\n",
      " 38%|███▊      | 122/318 [00:01<00:02, 74.63it/s]\u001b[A\n",
      " 41%|████      | 130/318 [00:01<00:02, 75.47it/s]\u001b[A\n",
      " 43%|████▎     | 138/318 [00:01<00:02, 76.02it/s]\u001b[A\n",
      " 46%|████▌     | 146/318 [00:01<00:02, 75.72it/s]\u001b[A\n",
      " 48%|████▊     | 154/318 [00:02<00:02, 75.25it/s]\u001b[A\n",
      " 51%|█████     | 162/318 [00:02<00:02, 75.81it/s]\u001b[A\n",
      " 53%|█████▎    | 170/318 [00:02<00:01, 74.59it/s]\u001b[A\n",
      " 56%|█████▌    | 178/318 [00:02<00:02, 65.48it/s]\u001b[A\n",
      " 58%|█████▊    | 185/318 [00:02<00:02, 66.45it/s]\u001b[A\n",
      " 61%|██████    | 193/318 [00:02<00:01, 69.72it/s]\u001b[A\n",
      " 63%|██████▎   | 201/318 [00:02<00:01, 71.11it/s]\u001b[A\n",
      " 66%|██████▌   | 209/318 [00:02<00:01, 72.13it/s]\u001b[A\n",
      " 68%|██████▊   | 217/318 [00:02<00:01, 73.91it/s]\u001b[A\n",
      " 71%|███████   | 225/318 [00:03<00:01, 68.93it/s]\u001b[A\n",
      " 73%|███████▎  | 233/318 [00:03<00:01, 67.97it/s]\u001b[A\n",
      " 76%|███████▌  | 241/318 [00:03<00:01, 68.98it/s]\u001b[A\n",
      " 78%|███████▊  | 248/318 [00:03<00:01, 67.51it/s]\u001b[A\n",
      " 81%|████████  | 256/318 [00:03<00:00, 70.65it/s]\u001b[A\n",
      " 83%|████████▎ | 264/318 [00:03<00:00, 72.85it/s]\u001b[A\n",
      " 86%|████████▌ | 272/318 [00:03<00:00, 74.15it/s]\u001b[A\n",
      " 88%|████████▊ | 280/318 [00:03<00:00, 73.67it/s]\u001b[A\n",
      " 91%|█████████ | 288/318 [00:03<00:00, 74.53it/s]\u001b[A\n",
      " 93%|█████████▎| 296/318 [00:04<00:00, 74.71it/s]\u001b[A\n",
      " 96%|█████████▌| 304/318 [00:04<00:00, 74.49it/s]\u001b[A\n",
      "                                                        \n",
      " 10%|█         | 27710/277100 [31:39<4:08:49, 16.70it/s]\n",
      "100%|██████████| 318/318 [00:04<00:00, 73.36it/s]\u001b[A\n",
      "                                                 \u001b[ASaving model checkpoint to /scratch/mt/ashapiro/Hate_Speech/All_data_run/checkpoint-27710\n",
      "Configuration saved in /scratch/mt/ashapiro/Hate_Speech/All_data_run/checkpoint-27710/config.json\n"
     ]
    },
    {
     "name": "stdout",
     "output_type": "stream",
     "text": [
      "{'eval_loss': 1.1479723453521729, 'eval_f1': 0.7959932188479626, 'eval_recall': 0.8080311206640295, 'eval_precision': 0.7884292676660216, 'eval_runtime': 4.4094, 'eval_samples_per_second': 288.019, 'eval_steps_per_second': 72.118, 'epoch': 10.0}\n"
     ]
    },
    {
     "name": "stderr",
     "output_type": "stream",
     "text": [
      "Model weights saved in /scratch/mt/ashapiro/Hate_Speech/All_data_run/checkpoint-27710/pytorch_model.bin\n",
      "tokenizer config file saved in /scratch/mt/ashapiro/Hate_Speech/All_data_run/checkpoint-27710/tokenizer_config.json\n",
      "Special tokens file saved in /scratch/mt/ashapiro/Hate_Speech/All_data_run/checkpoint-27710/special_tokens_map.json\n",
      " 10%|█         | 28003/277100 [32:01<3:55:23, 17.64it/s] "
     ]
    },
    {
     "name": "stdout",
     "output_type": "stream",
     "text": [
      "{'loss': 0.0358, 'learning_rate': 1.7979068928184773e-05, 'epoch': 10.1}\n"
     ]
    },
    {
     "name": "stderr",
     "output_type": "stream",
     "text": [
      " 10%|█         | 28503/277100 [32:33<3:56:13, 17.54it/s]"
     ]
    },
    {
     "name": "stdout",
     "output_type": "stream",
     "text": [
      "{'loss': 0.0331, 'learning_rate': 1.7942980873330928e-05, 'epoch': 10.29}\n"
     ]
    },
    {
     "name": "stderr",
     "output_type": "stream",
     "text": [
      " 10%|█         | 29003/277100 [33:06<3:58:54, 17.31it/s]"
     ]
    },
    {
     "name": "stdout",
     "output_type": "stream",
     "text": [
      "{'loss': 0.0407, 'learning_rate': 1.7906892818477086e-05, 'epoch': 10.47}\n"
     ]
    },
    {
     "name": "stderr",
     "output_type": "stream",
     "text": [
      " 11%|█         | 29503/277100 [33:38<4:00:08, 17.18it/s]"
     ]
    },
    {
     "name": "stdout",
     "output_type": "stream",
     "text": [
      "{'loss': 0.0413, 'learning_rate': 1.787080476362324e-05, 'epoch': 10.65}\n"
     ]
    },
    {
     "name": "stderr",
     "output_type": "stream",
     "text": [
      " 11%|█         | 30003/277100 [34:09<3:48:41, 18.01it/s]"
     ]
    },
    {
     "name": "stdout",
     "output_type": "stream",
     "text": [
      "{'loss': 0.039, 'learning_rate': 1.78347167087694e-05, 'epoch': 10.83}\n"
     ]
    },
    {
     "name": "stderr",
     "output_type": "stream",
     "text": [
      " 11%|█         | 30481/277100 [34:39<3:51:56, 17.72it/s]The following columns in the evaluation set  don't have a corresponding argument in `BertForSequenceClassification.forward` and have been ignored: text. If text are not expected by `BertForSequenceClassification.forward`,  you can safely ignore this message.\n",
      "***** Running Evaluation *****\n",
      "  Num examples = 1270\n",
      "  Batch size = 4\n",
      "\n",
      "  0%|          | 0/318 [00:00<?, ?it/s]\u001b[A\n",
      "  3%|▎         | 9/318 [00:00<00:03, 88.79it/s]\u001b[A\n",
      "  6%|▌         | 18/318 [00:00<00:03, 81.51it/s]\u001b[A\n",
      "  8%|▊         | 27/318 [00:00<00:03, 79.33it/s]\u001b[A\n",
      " 11%|█         | 35/318 [00:00<00:03, 77.55it/s]\u001b[A\n",
      " 14%|█▎        | 43/318 [00:00<00:03, 76.55it/s]\u001b[A\n",
      " 16%|█▌        | 51/318 [00:00<00:03, 76.49it/s]\u001b[A\n",
      " 19%|█▊        | 59/318 [00:00<00:03, 76.02it/s]\u001b[A\n",
      " 21%|██        | 67/318 [00:00<00:03, 75.85it/s]\u001b[A\n",
      " 24%|██▎       | 75/318 [00:00<00:03, 75.74it/s]\u001b[A\n",
      " 26%|██▌       | 83/318 [00:01<00:03, 76.18it/s]\u001b[A\n",
      " 29%|██▊       | 91/318 [00:01<00:02, 76.19it/s]\u001b[A\n",
      " 31%|███       | 99/318 [00:01<00:02, 76.00it/s]\u001b[A\n",
      " 34%|███▎      | 107/318 [00:01<00:02, 76.26it/s]\u001b[A\n",
      " 36%|███▌      | 115/318 [00:01<00:02, 73.18it/s]\u001b[A\n",
      " 39%|███▊      | 123/318 [00:01<00:02, 74.08it/s]\u001b[A\n",
      " 41%|████      | 131/318 [00:01<00:02, 74.85it/s]\u001b[A\n",
      " 44%|████▎     | 139/318 [00:01<00:02, 75.56it/s]\u001b[A\n",
      " 46%|████▌     | 147/318 [00:01<00:02, 73.88it/s]\u001b[A\n",
      " 49%|████▊     | 155/318 [00:02<00:02, 73.77it/s]\u001b[A\n",
      " 51%|█████▏    | 163/318 [00:02<00:02, 74.31it/s]\u001b[A\n",
      " 54%|█████▍    | 171/318 [00:02<00:01, 75.55it/s]\u001b[A\n",
      " 56%|█████▋    | 179/318 [00:02<00:01, 72.66it/s]\u001b[A\n",
      " 59%|█████▉    | 187/318 [00:02<00:01, 73.72it/s]\u001b[A\n",
      " 61%|██████▏   | 195/318 [00:02<00:01, 74.29it/s]\u001b[A\n",
      " 64%|██████▍   | 203/318 [00:02<00:01, 74.78it/s]\u001b[A\n",
      " 66%|██████▋   | 211/318 [00:02<00:01, 75.24it/s]\u001b[A\n",
      " 69%|██████▉   | 219/318 [00:02<00:01, 75.74it/s]\u001b[A\n",
      " 71%|███████▏  | 227/318 [00:03<00:01, 75.93it/s]\u001b[A\n",
      " 74%|███████▍  | 235/318 [00:03<00:01, 76.14it/s]\u001b[A\n",
      " 76%|███████▋  | 243/318 [00:03<00:01, 68.52it/s]\u001b[A\n",
      " 79%|███████▉  | 251/318 [00:03<00:00, 70.88it/s]\u001b[A\n",
      " 81%|████████▏ | 259/318 [00:03<00:00, 72.83it/s]\u001b[A\n",
      " 84%|████████▍ | 267/318 [00:03<00:00, 71.95it/s]\u001b[A\n",
      " 86%|████████▋ | 275/318 [00:03<00:00, 73.52it/s]\u001b[A\n",
      " 89%|████████▉ | 283/318 [00:03<00:00, 74.36it/s]\u001b[A\n",
      " 92%|█████████▏| 291/318 [00:03<00:00, 75.04it/s]\u001b[A\n",
      " 94%|█████████▍| 299/318 [00:03<00:00, 75.51it/s]\u001b[A\n",
      " 97%|█████████▋| 307/318 [00:04<00:00, 76.15it/s]\u001b[A\n",
      "                                                        \n",
      " 11%|█         | 30481/277100 [34:44<3:51:56, 17.72it/s]\n",
      "100%|██████████| 318/318 [00:04<00:00, 76.49it/s]\u001b[A\n",
      "                                                 \u001b[ASaving model checkpoint to /scratch/mt/ashapiro/Hate_Speech/All_data_run/checkpoint-30481\n",
      "Configuration saved in /scratch/mt/ashapiro/Hate_Speech/All_data_run/checkpoint-30481/config.json\n"
     ]
    },
    {
     "name": "stdout",
     "output_type": "stream",
     "text": [
      "{'eval_loss': 1.3483388423919678, 'eval_f1': 0.7861308871851042, 'eval_recall': 0.800525346991974, 'eval_precision': 0.7781972990707617, 'eval_runtime': 4.3151, 'eval_samples_per_second': 294.316, 'eval_steps_per_second': 73.695, 'epoch': 11.0}\n"
     ]
    },
    {
     "name": "stderr",
     "output_type": "stream",
     "text": [
      "Model weights saved in /scratch/mt/ashapiro/Hate_Speech/All_data_run/checkpoint-30481/pytorch_model.bin\n",
      "tokenizer config file saved in /scratch/mt/ashapiro/Hate_Speech/All_data_run/checkpoint-30481/tokenizer_config.json\n",
      "Special tokens file saved in /scratch/mt/ashapiro/Hate_Speech/All_data_run/checkpoint-30481/special_tokens_map.json\n",
      "\n",
      "\n",
      "Training completed. Do not forget to share your model on huggingface.co/models =)\n",
      "\n",
      "\n",
      "Loading best model from /scratch/mt/ashapiro/Hate_Speech/All_data_run/checkpoint-2771 (score: 0.8346165439057007).\n",
      " 11%|█         | 30481/277100 [34:47<4:41:32, 14.60it/s]"
     ]
    },
    {
     "name": "stdout",
     "output_type": "stream",
     "text": [
      "{'train_runtime': 2087.8921, 'train_samples_per_second': 2122.907, 'train_steps_per_second': 132.718, 'train_loss': 0.13503938274884772, 'epoch': 11.0}\n"
     ]
    },
    {
     "name": "stderr",
     "output_type": "stream",
     "text": [
      "\n"
     ]
    },
    {
     "data": {
      "text/plain": [
       "TrainOutput(global_step=30481, training_loss=0.13503938274884772, metrics={'train_runtime': 2087.8921, 'train_samples_per_second': 2122.907, 'train_steps_per_second': 132.718, 'train_loss': 0.13503938274884772, 'epoch': 11.0})"
      ]
     },
     "execution_count": 5,
     "metadata": {},
     "output_type": "execute_result"
    }
   ],
   "source": [
    "trainer.train()"
   ]
  },
  {
   "cell_type": "code",
   "execution_count": null,
   "id": "0d171961-bc36-4990-8d7c-bf9e8857547e",
   "metadata": {},
   "outputs": [],
   "source": []
  }
 ],
 "metadata": {
  "kernelspec": {
   "display_name": "MT-Jupyter",
   "language": "python",
   "name": "mt-jupyter"
  },
  "language_info": {
   "codemirror_mode": {
    "name": "ipython",
    "version": 3
   },
   "file_extension": ".py",
   "mimetype": "text/x-python",
   "name": "python",
   "nbconvert_exporter": "python",
   "pygments_lexer": "ipython3",
   "version": "3.8.6"
  }
 },
 "nbformat": 4,
 "nbformat_minor": 5
}
